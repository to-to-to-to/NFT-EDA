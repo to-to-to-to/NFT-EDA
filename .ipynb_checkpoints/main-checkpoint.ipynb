{
 "cells": [
  {
   "cell_type": "code",
   "execution_count": 1,
   "metadata": {},
   "outputs": [
    {
     "data": {
      "text/html": [
       "        <script type=\"text/javascript\">\n",
       "        window.PlotlyConfig = {MathJaxConfig: 'local'};\n",
       "        if (window.MathJax) {MathJax.Hub.Config({SVG: {font: \"STIX-Web\"}});}\n",
       "        if (typeof require !== 'undefined') {\n",
       "        require.undef(\"plotly\");\n",
       "        requirejs.config({\n",
       "            paths: {\n",
       "                'plotly': ['https://cdn.plot.ly/plotly-2.8.3.min']\n",
       "            }\n",
       "        });\n",
       "        require(['plotly'], function(Plotly) {\n",
       "            window._Plotly = Plotly;\n",
       "        });\n",
       "        }\n",
       "        </script>\n",
       "        "
      ]
     },
     "metadata": {},
     "output_type": "display_data"
    },
    {
     "data": {
      "text/html": [
       "        <script type=\"text/javascript\">\n",
       "        window.PlotlyConfig = {MathJaxConfig: 'local'};\n",
       "        if (window.MathJax) {MathJax.Hub.Config({SVG: {font: \"STIX-Web\"}});}\n",
       "        if (typeof require !== 'undefined') {\n",
       "        require.undef(\"plotly\");\n",
       "        requirejs.config({\n",
       "            paths: {\n",
       "                'plotly': ['https://cdn.plot.ly/plotly-2.8.3.min']\n",
       "            }\n",
       "        });\n",
       "        require(['plotly'], function(Plotly) {\n",
       "            window._Plotly = Plotly;\n",
       "        });\n",
       "        }\n",
       "        </script>\n",
       "        "
      ]
     },
     "metadata": {},
     "output_type": "display_data"
    }
   ],
   "source": [
    "#import libraries\n",
    "%matplotlib inline\n",
    "import numpy as np\n",
    "import pandas as pd\n",
    "import seaborn as sns\n",
    "import cufflinks as cf\n",
    "import chart_studio.plotly as py\n",
    "import plotly.express as px\n",
    "from plotly.offline import download_plotlyjs, init_notebook_mode, plot, iplot\n",
    "init_notebook_mode(connected = True)\n",
    "cf.go_offline()"
   ]
  },
  {
   "cell_type": "code",
   "execution_count": 2,
   "metadata": {},
   "outputs": [
    {
     "data": {
      "text/html": [
       "<div>\n",
       "<style scoped>\n",
       "    .dataframe tbody tr th:only-of-type {\n",
       "        vertical-align: middle;\n",
       "    }\n",
       "\n",
       "    .dataframe tbody tr th {\n",
       "        vertical-align: top;\n",
       "    }\n",
       "\n",
       "    .dataframe thead th {\n",
       "        text-align: right;\n",
       "    }\n",
       "</style>\n",
       "<table border=\"1\" class=\"dataframe\">\n",
       "  <thead>\n",
       "    <tr style=\"text-align: right;\">\n",
       "      <th></th>\n",
       "      <th>Index</th>\n",
       "      <th>Name</th>\n",
       "      <th>Volume</th>\n",
       "      <th>Volume_USD</th>\n",
       "      <th>Market_Cap</th>\n",
       "      <th>Market_Cap_USD</th>\n",
       "      <th>Sales</th>\n",
       "      <th>Floor_Price</th>\n",
       "      <th>Floor_Price_USD</th>\n",
       "      <th>Average_Price</th>\n",
       "      <th>Average_Price_USD</th>\n",
       "      <th>Owners</th>\n",
       "      <th>Assets</th>\n",
       "      <th>Owner_Asset_Ratio</th>\n",
       "      <th>Category</th>\n",
       "      <th>Website</th>\n",
       "      <th>Logo</th>\n",
       "    </tr>\n",
       "  </thead>\n",
       "  <tbody>\n",
       "    <tr>\n",
       "      <th>0</th>\n",
       "      <td>0</td>\n",
       "      <td>basis.markets</td>\n",
       "      <td>27256.63</td>\n",
       "      <td>4.001818e+06</td>\n",
       "      <td>708.145455</td>\n",
       "      <td>103969.915600</td>\n",
       "      <td>366</td>\n",
       "      <td>39.50</td>\n",
       "      <td>5799.3900</td>\n",
       "      <td>74.471667</td>\n",
       "      <td>10933.930100</td>\n",
       "      <td>12</td>\n",
       "      <td>16</td>\n",
       "      <td>75.00</td>\n",
       "      <td>Collectibles,Digital,Privilege</td>\n",
       "      <td>https://basis.markets/</td>\n",
       "      <td>https://content.solsea.io/files/thumbnail/1636...</td>\n",
       "    </tr>\n",
       "    <tr>\n",
       "      <th>1</th>\n",
       "      <td>1</td>\n",
       "      <td>Skeleton Crew Skulls</td>\n",
       "      <td>11381.25</td>\n",
       "      <td>1.670995e+06</td>\n",
       "      <td>106.656000</td>\n",
       "      <td>15659.233920</td>\n",
       "      <td>2075</td>\n",
       "      <td>0.67</td>\n",
       "      <td>98.3694</td>\n",
       "      <td>5.484940</td>\n",
       "      <td>805.298855</td>\n",
       "      <td>103</td>\n",
       "      <td>132</td>\n",
       "      <td>78.03</td>\n",
       "      <td>NaN</td>\n",
       "      <td>https://skeletoncrew.rip/</td>\n",
       "      <td>https://content.solsea.io/files/thumbnail/1633...</td>\n",
       "    </tr>\n",
       "    <tr>\n",
       "      <th>2</th>\n",
       "      <td>2</td>\n",
       "      <td>Flippies</td>\n",
       "      <td>6732.19</td>\n",
       "      <td>9.884201e+05</td>\n",
       "      <td>1663.863158</td>\n",
       "      <td>244288.388800</td>\n",
       "      <td>1504</td>\n",
       "      <td>0.80</td>\n",
       "      <td>117.4560</td>\n",
       "      <td>4.476190</td>\n",
       "      <td>657.194239</td>\n",
       "      <td>905</td>\n",
       "      <td>1638</td>\n",
       "      <td>55.25</td>\n",
       "      <td>NaN</td>\n",
       "      <td>https://www.flippies.art/</td>\n",
       "      <td>https://content.solsea.io/files/thumbnail/1632...</td>\n",
       "    </tr>\n",
       "    <tr>\n",
       "      <th>3</th>\n",
       "      <td>3</td>\n",
       "      <td>Meerkat Millionaires Country Club</td>\n",
       "      <td>3734.76</td>\n",
       "      <td>5.483375e+05</td>\n",
       "      <td>90.275000</td>\n",
       "      <td>13254.175500</td>\n",
       "      <td>395</td>\n",
       "      <td>3.79</td>\n",
       "      <td>556.4478</td>\n",
       "      <td>9.455089</td>\n",
       "      <td>1388.196109</td>\n",
       "      <td>19</td>\n",
       "      <td>23</td>\n",
       "      <td>82.61</td>\n",
       "      <td>NaN</td>\n",
       "      <td>https://meerkatmillionaires.club/</td>\n",
       "      <td>https://content.solsea.io/files/thumbnail/1632...</td>\n",
       "    </tr>\n",
       "    <tr>\n",
       "      <th>4</th>\n",
       "      <td>4</td>\n",
       "      <td>Stylish Studs</td>\n",
       "      <td>3191.15</td>\n",
       "      <td>4.685246e+05</td>\n",
       "      <td>165.000000</td>\n",
       "      <td>24225.300000</td>\n",
       "      <td>729</td>\n",
       "      <td>4.30</td>\n",
       "      <td>631.3260</td>\n",
       "      <td>4.377435</td>\n",
       "      <td>642.694984</td>\n",
       "      <td>28</td>\n",
       "      <td>50</td>\n",
       "      <td>56.00</td>\n",
       "      <td>NaN</td>\n",
       "      <td>https://stylishstuds.io</td>\n",
       "      <td>https://content.solsea.io/files/thumbnail/1632...</td>\n",
       "    </tr>\n",
       "    <tr>\n",
       "      <th>5</th>\n",
       "      <td>5</td>\n",
       "      <td>I'M AIKO</td>\n",
       "      <td>2904.70</td>\n",
       "      <td>4.264681e+05</td>\n",
       "      <td>2530.877143</td>\n",
       "      <td>371583.382100</td>\n",
       "      <td>1411</td>\n",
       "      <td>1.20</td>\n",
       "      <td>176.1840</td>\n",
       "      <td>2.058611</td>\n",
       "      <td>302.245254</td>\n",
       "      <td>599</td>\n",
       "      <td>1206</td>\n",
       "      <td>49.67</td>\n",
       "      <td>Art,Collectibles,Graphics,2D,Image</td>\n",
       "      <td>https://aiko.io</td>\n",
       "      <td>https://content.solsea.io/files/thumbnail/1633...</td>\n",
       "    </tr>\n",
       "    <tr>\n",
       "      <th>6</th>\n",
       "      <td>6</td>\n",
       "      <td>Crypto Idolz</td>\n",
       "      <td>2315.74</td>\n",
       "      <td>3.399969e+05</td>\n",
       "      <td>1168.041981</td>\n",
       "      <td>171491.923700</td>\n",
       "      <td>1418</td>\n",
       "      <td>0.60</td>\n",
       "      <td>88.0920</td>\n",
       "      <td>1.633103</td>\n",
       "      <td>239.772177</td>\n",
       "      <td>244</td>\n",
       "      <td>529</td>\n",
       "      <td>46.12</td>\n",
       "      <td>NaN</td>\n",
       "      <td>https://cryptoidolz.com/</td>\n",
       "      <td>https://content.solsea.io/files/thumbnail/1632...</td>\n",
       "    </tr>\n",
       "    <tr>\n",
       "      <th>7</th>\n",
       "      <td>7</td>\n",
       "      <td>Megalodon Rogue Shark Tooth</td>\n",
       "      <td>2116.61</td>\n",
       "      <td>3.107607e+05</td>\n",
       "      <td>60.050375</td>\n",
       "      <td>8816.596058</td>\n",
       "      <td>5229</td>\n",
       "      <td>0.04</td>\n",
       "      <td>5.8728</td>\n",
       "      <td>0.404783</td>\n",
       "      <td>59.430231</td>\n",
       "      <td>946</td>\n",
       "      <td>1309</td>\n",
       "      <td>72.27</td>\n",
       "      <td>NaN</td>\n",
       "      <td>https://t.co/ra8GsIsSz7?amp=1</td>\n",
       "      <td>https://content.solsea.io/files/thumbnail/1635...</td>\n",
       "    </tr>\n",
       "    <tr>\n",
       "      <th>8</th>\n",
       "      <td>8</td>\n",
       "      <td>CorruptCatz</td>\n",
       "      <td>1983.92</td>\n",
       "      <td>2.912791e+05</td>\n",
       "      <td>345.790000</td>\n",
       "      <td>50768.887800</td>\n",
       "      <td>1489</td>\n",
       "      <td>0.10</td>\n",
       "      <td>14.6820</td>\n",
       "      <td>1.332384</td>\n",
       "      <td>195.620641</td>\n",
       "      <td>636</td>\n",
       "      <td>916</td>\n",
       "      <td>69.43</td>\n",
       "      <td>NaN</td>\n",
       "      <td>https://corruptcatz.com</td>\n",
       "      <td>https://content.solsea.io/files/thumbnail/1633...</td>\n",
       "    </tr>\n",
       "    <tr>\n",
       "      <th>9</th>\n",
       "      <td>9</td>\n",
       "      <td>Meta Waifus</td>\n",
       "      <td>1844.59</td>\n",
       "      <td>2.708227e+05</td>\n",
       "      <td>989.491267</td>\n",
       "      <td>145277.107800</td>\n",
       "      <td>1156</td>\n",
       "      <td>1.27</td>\n",
       "      <td>186.4614</td>\n",
       "      <td>1.595666</td>\n",
       "      <td>234.275695</td>\n",
       "      <td>376</td>\n",
       "      <td>643</td>\n",
       "      <td>58.48</td>\n",
       "      <td>3D,PFP,Metaverse,Art,Collectibles</td>\n",
       "      <td>https://metawaifus.com</td>\n",
       "      <td>https://content.solsea.io/files/thumbnail/1637...</td>\n",
       "    </tr>\n",
       "  </tbody>\n",
       "</table>\n",
       "</div>"
      ],
      "text/plain": [
       "   Index                               Name    Volume    Volume_USD  \\\n",
       "0      0                      basis.markets  27256.63  4.001818e+06   \n",
       "1      1               Skeleton Crew Skulls  11381.25  1.670995e+06   \n",
       "2      2                           Flippies   6732.19  9.884201e+05   \n",
       "3      3  Meerkat Millionaires Country Club   3734.76  5.483375e+05   \n",
       "4      4                      Stylish Studs   3191.15  4.685246e+05   \n",
       "5      5                           I'M AIKO   2904.70  4.264681e+05   \n",
       "6      6                       Crypto Idolz   2315.74  3.399969e+05   \n",
       "7      7        Megalodon Rogue Shark Tooth   2116.61  3.107607e+05   \n",
       "8      8                        CorruptCatz   1983.92  2.912791e+05   \n",
       "9      9                        Meta Waifus   1844.59  2.708227e+05   \n",
       "\n",
       "    Market_Cap  Market_Cap_USD  Sales  Floor_Price  Floor_Price_USD  \\\n",
       "0   708.145455   103969.915600    366        39.50        5799.3900   \n",
       "1   106.656000    15659.233920   2075         0.67          98.3694   \n",
       "2  1663.863158   244288.388800   1504         0.80         117.4560   \n",
       "3    90.275000    13254.175500    395         3.79         556.4478   \n",
       "4   165.000000    24225.300000    729         4.30         631.3260   \n",
       "5  2530.877143   371583.382100   1411         1.20         176.1840   \n",
       "6  1168.041981   171491.923700   1418         0.60          88.0920   \n",
       "7    60.050375     8816.596058   5229         0.04           5.8728   \n",
       "8   345.790000    50768.887800   1489         0.10          14.6820   \n",
       "9   989.491267   145277.107800   1156         1.27         186.4614   \n",
       "\n",
       "   Average_Price  Average_Price_USD  Owners  Assets  Owner_Asset_Ratio  \\\n",
       "0      74.471667       10933.930100      12      16              75.00   \n",
       "1       5.484940         805.298855     103     132              78.03   \n",
       "2       4.476190         657.194239     905    1638              55.25   \n",
       "3       9.455089        1388.196109      19      23              82.61   \n",
       "4       4.377435         642.694984      28      50              56.00   \n",
       "5       2.058611         302.245254     599    1206              49.67   \n",
       "6       1.633103         239.772177     244     529              46.12   \n",
       "7       0.404783          59.430231     946    1309              72.27   \n",
       "8       1.332384         195.620641     636     916              69.43   \n",
       "9       1.595666         234.275695     376     643              58.48   \n",
       "\n",
       "                             Category                            Website  \\\n",
       "0      Collectibles,Digital,Privilege             https://basis.markets/   \n",
       "1                                 NaN          https://skeletoncrew.rip/   \n",
       "2                                 NaN          https://www.flippies.art/   \n",
       "3                                 NaN  https://meerkatmillionaires.club/   \n",
       "4                                 NaN            https://stylishstuds.io   \n",
       "5  Art,Collectibles,Graphics,2D,Image                    https://aiko.io   \n",
       "6                                 NaN           https://cryptoidolz.com/   \n",
       "7                                 NaN      https://t.co/ra8GsIsSz7?amp=1   \n",
       "8                                 NaN            https://corruptcatz.com   \n",
       "9   3D,PFP,Metaverse,Art,Collectibles             https://metawaifus.com   \n",
       "\n",
       "                                                Logo  \n",
       "0  https://content.solsea.io/files/thumbnail/1636...  \n",
       "1  https://content.solsea.io/files/thumbnail/1633...  \n",
       "2  https://content.solsea.io/files/thumbnail/1632...  \n",
       "3  https://content.solsea.io/files/thumbnail/1632...  \n",
       "4  https://content.solsea.io/files/thumbnail/1632...  \n",
       "5  https://content.solsea.io/files/thumbnail/1633...  \n",
       "6  https://content.solsea.io/files/thumbnail/1632...  \n",
       "7  https://content.solsea.io/files/thumbnail/1635...  \n",
       "8  https://content.solsea.io/files/thumbnail/1633...  \n",
       "9  https://content.solsea.io/files/thumbnail/1637...  "
      ]
     },
     "execution_count": 2,
     "metadata": {},
     "output_type": "execute_result"
    }
   ],
   "source": [
    "#load dataset\n",
    "\n",
    "df = pd.read_csv(\"dataset/NFT_Top_Collections.csv\")\n",
    "df.head(10)"
   ]
  },
  {
   "cell_type": "code",
   "execution_count": 3,
   "metadata": {},
   "outputs": [
    {
     "data": {
      "text/plain": [
       "Index                  0\n",
       "Name                   0\n",
       "Volume                 0\n",
       "Volume_USD             0\n",
       "Market_Cap             0\n",
       "Market_Cap_USD         0\n",
       "Sales                  0\n",
       "Floor_Price           48\n",
       "Floor_Price_USD       48\n",
       "Average_Price          0\n",
       "Average_Price_USD      0\n",
       "Owners                 0\n",
       "Assets                 0\n",
       "Owner_Asset_Ratio     49\n",
       "Category             282\n",
       "Website              111\n",
       "Logo                   1\n",
       "dtype: int64"
      ]
     },
     "execution_count": 3,
     "metadata": {},
     "output_type": "execute_result"
    }
   ],
   "source": [
    "# find missing values\n",
    "df.isnull().sum()"
   ]
  },
  {
   "cell_type": "code",
   "execution_count": 4,
   "metadata": {},
   "outputs": [
    {
     "data": {
      "text/plain": [
       "Index                 0.000000\n",
       "Name                  0.000000\n",
       "Volume                0.000000\n",
       "Volume_USD            0.000000\n",
       "Market_Cap            0.000000\n",
       "Market_Cap_USD        0.000000\n",
       "Sales                 0.000000\n",
       "Floor_Price           8.108108\n",
       "Floor_Price_USD       8.108108\n",
       "Average_Price         0.000000\n",
       "Average_Price_USD     0.000000\n",
       "Owners                0.000000\n",
       "Assets                0.000000\n",
       "Owner_Asset_Ratio     8.277027\n",
       "Category             47.635135\n",
       "Website              18.750000\n",
       "Logo                  0.168919\n",
       "dtype: float64"
      ]
     },
     "execution_count": 4,
     "metadata": {},
     "output_type": "execute_result"
    }
   ],
   "source": [
    "#find percentage of missing values\n",
    "df.isnull().sum()/len(df)*100"
   ]
  },
  {
   "cell_type": "code",
   "execution_count": 5,
   "metadata": {},
   "outputs": [
    {
     "name": "stdout",
     "output_type": "stream",
     "text": [
      "<class 'pandas.core.frame.DataFrame'>\n",
      "RangeIndex: 592 entries, 0 to 591\n",
      "Data columns (total 17 columns):\n",
      " #   Column             Non-Null Count  Dtype  \n",
      "---  ------             --------------  -----  \n",
      " 0   Index              592 non-null    int64  \n",
      " 1   Name               592 non-null    object \n",
      " 2   Volume             592 non-null    float64\n",
      " 3   Volume_USD         592 non-null    float64\n",
      " 4   Market_Cap         592 non-null    float64\n",
      " 5   Market_Cap_USD     592 non-null    float64\n",
      " 6   Sales              592 non-null    int64  \n",
      " 7   Floor_Price        544 non-null    float64\n",
      " 8   Floor_Price_USD    544 non-null    float64\n",
      " 9   Average_Price      592 non-null    float64\n",
      " 10  Average_Price_USD  592 non-null    float64\n",
      " 11  Owners             592 non-null    int64  \n",
      " 12  Assets             592 non-null    int64  \n",
      " 13  Owner_Asset_Ratio  543 non-null    float64\n",
      " 14  Category           310 non-null    object \n",
      " 15  Website            481 non-null    object \n",
      " 16  Logo               591 non-null    object \n",
      "dtypes: float64(9), int64(4), object(4)\n",
      "memory usage: 78.8+ KB\n"
     ]
    }
   ],
   "source": [
    "# quick summary about the dataset\n",
    "\n",
    "df.info()"
   ]
  },
  {
   "cell_type": "code",
   "execution_count": 6,
   "metadata": {},
   "outputs": [
    {
     "data": {
      "text/html": [
       "<div>\n",
       "<style scoped>\n",
       "    .dataframe tbody tr th:only-of-type {\n",
       "        vertical-align: middle;\n",
       "    }\n",
       "\n",
       "    .dataframe tbody tr th {\n",
       "        vertical-align: top;\n",
       "    }\n",
       "\n",
       "    .dataframe thead th {\n",
       "        text-align: right;\n",
       "    }\n",
       "</style>\n",
       "<table border=\"1\" class=\"dataframe\">\n",
       "  <thead>\n",
       "    <tr style=\"text-align: right;\">\n",
       "      <th></th>\n",
       "      <th>Volume</th>\n",
       "      <th>Volume_USD</th>\n",
       "      <th>Market_Cap</th>\n",
       "      <th>Market_Cap_USD</th>\n",
       "      <th>Sales</th>\n",
       "      <th>Floor_Price</th>\n",
       "      <th>Floor_Price_USD</th>\n",
       "      <th>Average_Price</th>\n",
       "      <th>Average_Price_USD</th>\n",
       "      <th>Owners</th>\n",
       "      <th>Assets</th>\n",
       "      <th>Owner_Asset_Ratio</th>\n",
       "    </tr>\n",
       "  </thead>\n",
       "  <tbody>\n",
       "    <tr>\n",
       "      <th>count</th>\n",
       "      <td>592.000000</td>\n",
       "      <td>5.920000e+02</td>\n",
       "      <td>592.000000</td>\n",
       "      <td>592.000000</td>\n",
       "      <td>592.000000</td>\n",
       "      <td>544.000000</td>\n",
       "      <td>544.000000</td>\n",
       "      <td>592.000000</td>\n",
       "      <td>592.000000</td>\n",
       "      <td>592.000000</td>\n",
       "      <td>592.000000</td>\n",
       "      <td>543.000000</td>\n",
       "    </tr>\n",
       "    <tr>\n",
       "      <th>mean</th>\n",
       "      <td>197.548885</td>\n",
       "      <td>2.900413e+04</td>\n",
       "      <td>45.134817</td>\n",
       "      <td>6626.693810</td>\n",
       "      <td>164.491554</td>\n",
       "      <td>2.423015</td>\n",
       "      <td>355.747019</td>\n",
       "      <td>2.373566</td>\n",
       "      <td>348.486991</td>\n",
       "      <td>53.731419</td>\n",
       "      <td>116.694257</td>\n",
       "      <td>54.385672</td>\n",
       "    </tr>\n",
       "    <tr>\n",
       "      <th>std</th>\n",
       "      <td>1283.031435</td>\n",
       "      <td>1.883747e+05</td>\n",
       "      <td>179.327166</td>\n",
       "      <td>26328.814578</td>\n",
       "      <td>451.321395</td>\n",
       "      <td>18.982148</td>\n",
       "      <td>2786.959001</td>\n",
       "      <td>15.035229</td>\n",
       "      <td>2207.472329</td>\n",
       "      <td>133.893752</td>\n",
       "      <td>251.598765</td>\n",
       "      <td>27.632770</td>\n",
       "    </tr>\n",
       "    <tr>\n",
       "      <th>min</th>\n",
       "      <td>0.000000</td>\n",
       "      <td>0.000000e+00</td>\n",
       "      <td>0.000000</td>\n",
       "      <td>0.000000</td>\n",
       "      <td>0.000000</td>\n",
       "      <td>0.020000</td>\n",
       "      <td>2.936400</td>\n",
       "      <td>0.000000</td>\n",
       "      <td>0.000000</td>\n",
       "      <td>0.000000</td>\n",
       "      <td>0.000000</td>\n",
       "      <td>0.260000</td>\n",
       "    </tr>\n",
       "    <tr>\n",
       "      <th>25%</th>\n",
       "      <td>7.300000</td>\n",
       "      <td>1.071786e+03</td>\n",
       "      <td>0.000000</td>\n",
       "      <td>0.000000</td>\n",
       "      <td>11.000000</td>\n",
       "      <td>0.110000</td>\n",
       "      <td>16.150200</td>\n",
       "      <td>0.306029</td>\n",
       "      <td>44.931155</td>\n",
       "      <td>4.000000</td>\n",
       "      <td>10.000000</td>\n",
       "      <td>33.330000</td>\n",
       "    </tr>\n",
       "    <tr>\n",
       "      <th>50%</th>\n",
       "      <td>18.595000</td>\n",
       "      <td>2.730118e+03</td>\n",
       "      <td>0.000000</td>\n",
       "      <td>0.000000</td>\n",
       "      <td>35.000000</td>\n",
       "      <td>0.300000</td>\n",
       "      <td>44.046000</td>\n",
       "      <td>0.720412</td>\n",
       "      <td>105.770928</td>\n",
       "      <td>15.000000</td>\n",
       "      <td>38.000000</td>\n",
       "      <td>57.250000</td>\n",
       "    </tr>\n",
       "    <tr>\n",
       "      <th>75%</th>\n",
       "      <td>80.825000</td>\n",
       "      <td>1.186673e+04</td>\n",
       "      <td>21.841974</td>\n",
       "      <td>3206.838576</td>\n",
       "      <td>107.250000</td>\n",
       "      <td>1.000000</td>\n",
       "      <td>146.820000</td>\n",
       "      <td>1.596750</td>\n",
       "      <td>234.434771</td>\n",
       "      <td>44.000000</td>\n",
       "      <td>102.250000</td>\n",
       "      <td>72.845000</td>\n",
       "    </tr>\n",
       "    <tr>\n",
       "      <th>max</th>\n",
       "      <td>27256.630000</td>\n",
       "      <td>4.001818e+06</td>\n",
       "      <td>2530.877143</td>\n",
       "      <td>371583.382100</td>\n",
       "      <td>5229.000000</td>\n",
       "      <td>400.000000</td>\n",
       "      <td>58728.000000</td>\n",
       "      <td>347.500000</td>\n",
       "      <td>51019.950000</td>\n",
       "      <td>2041.000000</td>\n",
       "      <td>3320.000000</td>\n",
       "      <td>100.000000</td>\n",
       "    </tr>\n",
       "  </tbody>\n",
       "</table>\n",
       "</div>"
      ],
      "text/plain": [
       "             Volume    Volume_USD   Market_Cap  Market_Cap_USD        Sales  \\\n",
       "count    592.000000  5.920000e+02   592.000000      592.000000   592.000000   \n",
       "mean     197.548885  2.900413e+04    45.134817     6626.693810   164.491554   \n",
       "std     1283.031435  1.883747e+05   179.327166    26328.814578   451.321395   \n",
       "min        0.000000  0.000000e+00     0.000000        0.000000     0.000000   \n",
       "25%        7.300000  1.071786e+03     0.000000        0.000000    11.000000   \n",
       "50%       18.595000  2.730118e+03     0.000000        0.000000    35.000000   \n",
       "75%       80.825000  1.186673e+04    21.841974     3206.838576   107.250000   \n",
       "max    27256.630000  4.001818e+06  2530.877143   371583.382100  5229.000000   \n",
       "\n",
       "       Floor_Price  Floor_Price_USD  Average_Price  Average_Price_USD  \\\n",
       "count   544.000000       544.000000     592.000000         592.000000   \n",
       "mean      2.423015       355.747019       2.373566         348.486991   \n",
       "std      18.982148      2786.959001      15.035229        2207.472329   \n",
       "min       0.020000         2.936400       0.000000           0.000000   \n",
       "25%       0.110000        16.150200       0.306029          44.931155   \n",
       "50%       0.300000        44.046000       0.720412         105.770928   \n",
       "75%       1.000000       146.820000       1.596750         234.434771   \n",
       "max     400.000000     58728.000000     347.500000       51019.950000   \n",
       "\n",
       "            Owners       Assets  Owner_Asset_Ratio  \n",
       "count   592.000000   592.000000         543.000000  \n",
       "mean     53.731419   116.694257          54.385672  \n",
       "std     133.893752   251.598765          27.632770  \n",
       "min       0.000000     0.000000           0.260000  \n",
       "25%       4.000000    10.000000          33.330000  \n",
       "50%      15.000000    38.000000          57.250000  \n",
       "75%      44.000000   102.250000          72.845000  \n",
       "max    2041.000000  3320.000000         100.000000  "
      ]
     },
     "execution_count": 6,
     "metadata": {},
     "output_type": "execute_result"
    }
   ],
   "source": [
    "# quick summary about numeric values\n",
    "\n",
    "df[['Volume', 'Volume_USD',\n",
    "    'Market_Cap', 'Market_Cap_USD',\n",
    "    'Sales', 'Floor_Price',\n",
    "    'Floor_Price_USD', 'Average_Price',\n",
    "    'Average_Price_USD', 'Owners', 'Assets',\n",
    "    'Owner_Asset_Ratio']].describe()"
   ]
  },
  {
   "cell_type": "code",
   "execution_count": 31,
   "metadata": {},
   "outputs": [
    {
     "data": {
      "text/html": [
       "<div>\n",
       "<style scoped>\n",
       "    .dataframe tbody tr th:only-of-type {\n",
       "        vertical-align: middle;\n",
       "    }\n",
       "\n",
       "    .dataframe tbody tr th {\n",
       "        vertical-align: top;\n",
       "    }\n",
       "\n",
       "    .dataframe thead th {\n",
       "        text-align: right;\n",
       "    }\n",
       "</style>\n",
       "<table border=\"1\" class=\"dataframe\">\n",
       "  <thead>\n",
       "    <tr style=\"text-align: right;\">\n",
       "      <th></th>\n",
       "      <th>Name</th>\n",
       "      <th>Volume</th>\n",
       "      <th>Volume_USD</th>\n",
       "      <th>Market_Cap</th>\n",
       "      <th>Market_Cap_USD</th>\n",
       "      <th>Sales</th>\n",
       "      <th>Floor_Price</th>\n",
       "      <th>Floor_Price_USD</th>\n",
       "      <th>Average_Price</th>\n",
       "      <th>Average_Price_USD</th>\n",
       "      <th>Owners</th>\n",
       "      <th>Assets</th>\n",
       "      <th>Owner_Asset_Ratio</th>\n",
       "      <th>Category</th>\n",
       "    </tr>\n",
       "  </thead>\n",
       "  <tbody>\n",
       "    <tr>\n",
       "      <th>0</th>\n",
       "      <td>basis.markets</td>\n",
       "      <td>27256.63</td>\n",
       "      <td>4.001818e+06</td>\n",
       "      <td>708.145455</td>\n",
       "      <td>103969.91560</td>\n",
       "      <td>366</td>\n",
       "      <td>39.50</td>\n",
       "      <td>5799.3900</td>\n",
       "      <td>74.471667</td>\n",
       "      <td>10933.930100</td>\n",
       "      <td>12</td>\n",
       "      <td>16</td>\n",
       "      <td>75.00</td>\n",
       "      <td>Collectibles,Digital,Privilege</td>\n",
       "    </tr>\n",
       "    <tr>\n",
       "      <th>1</th>\n",
       "      <td>Skeleton Crew Skulls</td>\n",
       "      <td>11381.25</td>\n",
       "      <td>1.670995e+06</td>\n",
       "      <td>106.656000</td>\n",
       "      <td>15659.23392</td>\n",
       "      <td>2075</td>\n",
       "      <td>0.67</td>\n",
       "      <td>98.3694</td>\n",
       "      <td>5.484940</td>\n",
       "      <td>805.298855</td>\n",
       "      <td>103</td>\n",
       "      <td>132</td>\n",
       "      <td>78.03</td>\n",
       "      <td>Unknown</td>\n",
       "    </tr>\n",
       "    <tr>\n",
       "      <th>2</th>\n",
       "      <td>Flippies</td>\n",
       "      <td>6732.19</td>\n",
       "      <td>9.884201e+05</td>\n",
       "      <td>1663.863158</td>\n",
       "      <td>244288.38880</td>\n",
       "      <td>1504</td>\n",
       "      <td>0.80</td>\n",
       "      <td>117.4560</td>\n",
       "      <td>4.476190</td>\n",
       "      <td>657.194239</td>\n",
       "      <td>905</td>\n",
       "      <td>1638</td>\n",
       "      <td>55.25</td>\n",
       "      <td>Unknown</td>\n",
       "    </tr>\n",
       "    <tr>\n",
       "      <th>3</th>\n",
       "      <td>Meerkat Millionaires Country Club</td>\n",
       "      <td>3734.76</td>\n",
       "      <td>5.483375e+05</td>\n",
       "      <td>90.275000</td>\n",
       "      <td>13254.17550</td>\n",
       "      <td>395</td>\n",
       "      <td>3.79</td>\n",
       "      <td>556.4478</td>\n",
       "      <td>9.455089</td>\n",
       "      <td>1388.196109</td>\n",
       "      <td>19</td>\n",
       "      <td>23</td>\n",
       "      <td>82.61</td>\n",
       "      <td>Unknown</td>\n",
       "    </tr>\n",
       "    <tr>\n",
       "      <th>4</th>\n",
       "      <td>Stylish Studs</td>\n",
       "      <td>3191.15</td>\n",
       "      <td>4.685246e+05</td>\n",
       "      <td>165.000000</td>\n",
       "      <td>24225.30000</td>\n",
       "      <td>729</td>\n",
       "      <td>4.30</td>\n",
       "      <td>631.3260</td>\n",
       "      <td>4.377435</td>\n",
       "      <td>642.694984</td>\n",
       "      <td>28</td>\n",
       "      <td>50</td>\n",
       "      <td>56.00</td>\n",
       "      <td>Unknown</td>\n",
       "    </tr>\n",
       "    <tr>\n",
       "      <th>...</th>\n",
       "      <td>...</td>\n",
       "      <td>...</td>\n",
       "      <td>...</td>\n",
       "      <td>...</td>\n",
       "      <td>...</td>\n",
       "      <td>...</td>\n",
       "      <td>...</td>\n",
       "      <td>...</td>\n",
       "      <td>...</td>\n",
       "      <td>...</td>\n",
       "      <td>...</td>\n",
       "      <td>...</td>\n",
       "      <td>...</td>\n",
       "      <td>...</td>\n",
       "    </tr>\n",
       "    <tr>\n",
       "      <th>587</th>\n",
       "      <td>NEO MONKEY BUSINESS</td>\n",
       "      <td>0.00</td>\n",
       "      <td>0.000000e+00</td>\n",
       "      <td>0.000000</td>\n",
       "      <td>0.00000</td>\n",
       "      <td>0</td>\n",
       "      <td>0.59</td>\n",
       "      <td>86.6238</td>\n",
       "      <td>0.000000</td>\n",
       "      <td>0.000000</td>\n",
       "      <td>1</td>\n",
       "      <td>2</td>\n",
       "      <td>50.00</td>\n",
       "      <td>Unknown</td>\n",
       "    </tr>\n",
       "    <tr>\n",
       "      <th>588</th>\n",
       "      <td>Cops Game</td>\n",
       "      <td>0.00</td>\n",
       "      <td>0.000000e+00</td>\n",
       "      <td>0.000000</td>\n",
       "      <td>0.00000</td>\n",
       "      <td>0</td>\n",
       "      <td>3.99</td>\n",
       "      <td>585.8118</td>\n",
       "      <td>0.000000</td>\n",
       "      <td>0.000000</td>\n",
       "      <td>4</td>\n",
       "      <td>4</td>\n",
       "      <td>100.00</td>\n",
       "      <td>Unknown</td>\n",
       "    </tr>\n",
       "    <tr>\n",
       "      <th>589</th>\n",
       "      <td>Floppa Syndicate</td>\n",
       "      <td>0.00</td>\n",
       "      <td>0.000000e+00</td>\n",
       "      <td>0.000000</td>\n",
       "      <td>0.00000</td>\n",
       "      <td>0</td>\n",
       "      <td>NaN</td>\n",
       "      <td>NaN</td>\n",
       "      <td>0.000000</td>\n",
       "      <td>0.000000</td>\n",
       "      <td>0</td>\n",
       "      <td>2</td>\n",
       "      <td>NaN</td>\n",
       "      <td>2D,Art,Digital,Collectibles,Drawing</td>\n",
       "    </tr>\n",
       "    <tr>\n",
       "      <th>590</th>\n",
       "      <td>Duck BRO</td>\n",
       "      <td>0.00</td>\n",
       "      <td>0.000000e+00</td>\n",
       "      <td>0.000000</td>\n",
       "      <td>0.00000</td>\n",
       "      <td>0</td>\n",
       "      <td>0.20</td>\n",
       "      <td>29.3640</td>\n",
       "      <td>0.000000</td>\n",
       "      <td>0.000000</td>\n",
       "      <td>38</td>\n",
       "      <td>56</td>\n",
       "      <td>67.86</td>\n",
       "      <td>Art,PFP,2D</td>\n",
       "    </tr>\n",
       "    <tr>\n",
       "      <th>591</th>\n",
       "      <td>CryptoPets</td>\n",
       "      <td>0.00</td>\n",
       "      <td>0.000000e+00</td>\n",
       "      <td>0.000000</td>\n",
       "      <td>0.00000</td>\n",
       "      <td>0</td>\n",
       "      <td>1.40</td>\n",
       "      <td>205.5480</td>\n",
       "      <td>0.000000</td>\n",
       "      <td>0.000000</td>\n",
       "      <td>16</td>\n",
       "      <td>23</td>\n",
       "      <td>69.57</td>\n",
       "      <td>Unknown</td>\n",
       "    </tr>\n",
       "  </tbody>\n",
       "</table>\n",
       "<p>592 rows × 14 columns</p>\n",
       "</div>"
      ],
      "text/plain": [
       "                                  Name    Volume    Volume_USD   Market_Cap  \\\n",
       "0                        basis.markets  27256.63  4.001818e+06   708.145455   \n",
       "1                 Skeleton Crew Skulls  11381.25  1.670995e+06   106.656000   \n",
       "2                             Flippies   6732.19  9.884201e+05  1663.863158   \n",
       "3    Meerkat Millionaires Country Club   3734.76  5.483375e+05    90.275000   \n",
       "4                        Stylish Studs   3191.15  4.685246e+05   165.000000   \n",
       "..                                 ...       ...           ...          ...   \n",
       "587                NEO MONKEY BUSINESS      0.00  0.000000e+00     0.000000   \n",
       "588                          Cops Game      0.00  0.000000e+00     0.000000   \n",
       "589                   Floppa Syndicate      0.00  0.000000e+00     0.000000   \n",
       "590                           Duck BRO      0.00  0.000000e+00     0.000000   \n",
       "591                         CryptoPets      0.00  0.000000e+00     0.000000   \n",
       "\n",
       "     Market_Cap_USD  Sales  Floor_Price  Floor_Price_USD  Average_Price  \\\n",
       "0      103969.91560    366        39.50        5799.3900      74.471667   \n",
       "1       15659.23392   2075         0.67          98.3694       5.484940   \n",
       "2      244288.38880   1504         0.80         117.4560       4.476190   \n",
       "3       13254.17550    395         3.79         556.4478       9.455089   \n",
       "4       24225.30000    729         4.30         631.3260       4.377435   \n",
       "..              ...    ...          ...              ...            ...   \n",
       "587         0.00000      0         0.59          86.6238       0.000000   \n",
       "588         0.00000      0         3.99         585.8118       0.000000   \n",
       "589         0.00000      0          NaN              NaN       0.000000   \n",
       "590         0.00000      0         0.20          29.3640       0.000000   \n",
       "591         0.00000      0         1.40         205.5480       0.000000   \n",
       "\n",
       "     Average_Price_USD  Owners  Assets  Owner_Asset_Ratio  \\\n",
       "0         10933.930100      12      16              75.00   \n",
       "1           805.298855     103     132              78.03   \n",
       "2           657.194239     905    1638              55.25   \n",
       "3          1388.196109      19      23              82.61   \n",
       "4           642.694984      28      50              56.00   \n",
       "..                 ...     ...     ...                ...   \n",
       "587           0.000000       1       2              50.00   \n",
       "588           0.000000       4       4             100.00   \n",
       "589           0.000000       0       2                NaN   \n",
       "590           0.000000      38      56              67.86   \n",
       "591           0.000000      16      23              69.57   \n",
       "\n",
       "                                Category  \n",
       "0         Collectibles,Digital,Privilege  \n",
       "1                                Unknown  \n",
       "2                                Unknown  \n",
       "3                                Unknown  \n",
       "4                                Unknown  \n",
       "..                                   ...  \n",
       "587                              Unknown  \n",
       "588                              Unknown  \n",
       "589  2D,Art,Digital,Collectibles,Drawing  \n",
       "590                           Art,PFP,2D  \n",
       "591                              Unknown  \n",
       "\n",
       "[592 rows x 14 columns]"
      ]
     },
     "execution_count": 31,
     "metadata": {},
     "output_type": "execute_result"
    }
   ],
   "source": [
    "# exclude columns (index, website, and logo)\n",
    "\n",
    "df_new = df[['Name', 'Volume', 'Volume_USD',\n",
    "    'Market_Cap', 'Market_Cap_USD',\n",
    "    'Sales', 'Floor_Price',\n",
    "    'Floor_Price_USD', 'Average_Price',\n",
    "    'Average_Price_USD', 'Owners', 'Assets',\n",
    "    'Owner_Asset_Ratio', 'Category']]\n",
    "df_new.Category = df_new.Category.fillna('Unknown')\n",
    "df_new"
   ]
  },
  {
   "cell_type": "code",
   "execution_count": 28,
   "metadata": {},
   "outputs": [
    {
     "data": {
      "application/vnd.plotly.v1+json": {
       "config": {
        "plotlyServerURL": "https://plot.ly"
       },
       "data": [
        {
         "alignmentgroup": "True",
         "hovertemplate": "NFT Name=%{x}<br>Volume=%{text}<extra></extra>",
         "legendgroup": "basis.markets",
         "marker": {
          "color": "#636efa",
          "pattern": {
           "shape": ""
          }
         },
         "name": "basis.markets",
         "offsetgroup": "basis.markets",
         "orientation": "v",
         "showlegend": true,
         "text": [
          27256.63
         ],
         "textposition": "outside",
         "texttemplate": "%{text:.3s}",
         "type": "bar",
         "x": [
          "basis.markets"
         ],
         "xaxis": "x",
         "y": [
          27256.63
         ],
         "yaxis": "y"
        },
        {
         "alignmentgroup": "True",
         "hovertemplate": "NFT Name=%{x}<br>Volume=%{text}<extra></extra>",
         "legendgroup": "Skeleton Crew Skulls",
         "marker": {
          "color": "#EF553B",
          "pattern": {
           "shape": ""
          }
         },
         "name": "Skeleton Crew Skulls",
         "offsetgroup": "Skeleton Crew Skulls",
         "orientation": "v",
         "showlegend": true,
         "text": [
          11381.25
         ],
         "textposition": "outside",
         "texttemplate": "%{text:.3s}",
         "type": "bar",
         "x": [
          "Skeleton Crew Skulls"
         ],
         "xaxis": "x",
         "y": [
          11381.25
         ],
         "yaxis": "y"
        },
        {
         "alignmentgroup": "True",
         "hovertemplate": "NFT Name=%{x}<br>Volume=%{text}<extra></extra>",
         "legendgroup": "Flippies",
         "marker": {
          "color": "#00cc96",
          "pattern": {
           "shape": ""
          }
         },
         "name": "Flippies",
         "offsetgroup": "Flippies",
         "orientation": "v",
         "showlegend": true,
         "text": [
          6732.19
         ],
         "textposition": "outside",
         "texttemplate": "%{text:.3s}",
         "type": "bar",
         "x": [
          "Flippies"
         ],
         "xaxis": "x",
         "y": [
          6732.19
         ],
         "yaxis": "y"
        },
        {
         "alignmentgroup": "True",
         "hovertemplate": "NFT Name=%{x}<br>Volume=%{text}<extra></extra>",
         "legendgroup": "Meerkat Millionaires Country Club",
         "marker": {
          "color": "#ab63fa",
          "pattern": {
           "shape": ""
          }
         },
         "name": "Meerkat Millionaires Country Club",
         "offsetgroup": "Meerkat Millionaires Country Club",
         "orientation": "v",
         "showlegend": true,
         "text": [
          3734.76
         ],
         "textposition": "outside",
         "texttemplate": "%{text:.3s}",
         "type": "bar",
         "x": [
          "Meerkat Millionaires Country Club"
         ],
         "xaxis": "x",
         "y": [
          3734.76
         ],
         "yaxis": "y"
        },
        {
         "alignmentgroup": "True",
         "hovertemplate": "NFT Name=%{x}<br>Volume=%{text}<extra></extra>",
         "legendgroup": "Stylish Studs",
         "marker": {
          "color": "#FFA15A",
          "pattern": {
           "shape": ""
          }
         },
         "name": "Stylish Studs",
         "offsetgroup": "Stylish Studs",
         "orientation": "v",
         "showlegend": true,
         "text": [
          3191.15
         ],
         "textposition": "outside",
         "texttemplate": "%{text:.3s}",
         "type": "bar",
         "x": [
          "Stylish Studs"
         ],
         "xaxis": "x",
         "y": [
          3191.15
         ],
         "yaxis": "y"
        },
        {
         "alignmentgroup": "True",
         "hovertemplate": "NFT Name=%{x}<br>Volume=%{text}<extra></extra>",
         "legendgroup": "I'M AIKO",
         "marker": {
          "color": "#19d3f3",
          "pattern": {
           "shape": ""
          }
         },
         "name": "I'M AIKO",
         "offsetgroup": "I'M AIKO",
         "orientation": "v",
         "showlegend": true,
         "text": [
          2904.7
         ],
         "textposition": "outside",
         "texttemplate": "%{text:.3s}",
         "type": "bar",
         "x": [
          "I'M AIKO"
         ],
         "xaxis": "x",
         "y": [
          2904.7
         ],
         "yaxis": "y"
        },
        {
         "alignmentgroup": "True",
         "hovertemplate": "NFT Name=%{x}<br>Volume=%{text}<extra></extra>",
         "legendgroup": "Crypto Idolz",
         "marker": {
          "color": "#FF6692",
          "pattern": {
           "shape": ""
          }
         },
         "name": "Crypto Idolz",
         "offsetgroup": "Crypto Idolz",
         "orientation": "v",
         "showlegend": true,
         "text": [
          2315.74
         ],
         "textposition": "outside",
         "texttemplate": "%{text:.3s}",
         "type": "bar",
         "x": [
          "Crypto Idolz"
         ],
         "xaxis": "x",
         "y": [
          2315.74
         ],
         "yaxis": "y"
        },
        {
         "alignmentgroup": "True",
         "hovertemplate": "NFT Name=%{x}<br>Volume=%{text}<extra></extra>",
         "legendgroup": "Megalodon Rogue Shark Tooth",
         "marker": {
          "color": "#B6E880",
          "pattern": {
           "shape": ""
          }
         },
         "name": "Megalodon Rogue Shark Tooth",
         "offsetgroup": "Megalodon Rogue Shark Tooth",
         "orientation": "v",
         "showlegend": true,
         "text": [
          2116.61
         ],
         "textposition": "outside",
         "texttemplate": "%{text:.3s}",
         "type": "bar",
         "x": [
          "Megalodon Rogue Shark Tooth"
         ],
         "xaxis": "x",
         "y": [
          2116.61
         ],
         "yaxis": "y"
        },
        {
         "alignmentgroup": "True",
         "hovertemplate": "NFT Name=%{x}<br>Volume=%{text}<extra></extra>",
         "legendgroup": "CorruptCatz",
         "marker": {
          "color": "#FF97FF",
          "pattern": {
           "shape": ""
          }
         },
         "name": "CorruptCatz",
         "offsetgroup": "CorruptCatz",
         "orientation": "v",
         "showlegend": true,
         "text": [
          1983.92
         ],
         "textposition": "outside",
         "texttemplate": "%{text:.3s}",
         "type": "bar",
         "x": [
          "CorruptCatz"
         ],
         "xaxis": "x",
         "y": [
          1983.92
         ],
         "yaxis": "y"
        },
        {
         "alignmentgroup": "True",
         "hovertemplate": "NFT Name=%{x}<br>Volume=%{text}<extra></extra>",
         "legendgroup": "Meta Waifus",
         "marker": {
          "color": "#FECB52",
          "pattern": {
           "shape": ""
          }
         },
         "name": "Meta Waifus",
         "offsetgroup": "Meta Waifus",
         "orientation": "v",
         "showlegend": true,
         "text": [
          1844.59
         ],
         "textposition": "outside",
         "texttemplate": "%{text:.3s}",
         "type": "bar",
         "x": [
          "Meta Waifus"
         ],
         "xaxis": "x",
         "y": [
          1844.59
         ],
         "yaxis": "y"
        }
       ],
       "layout": {
        "barmode": "relative",
        "legend": {
         "title": {
          "text": "NFT Name"
         },
         "tracegroupgap": 0
        },
        "template": {
         "data": {
          "bar": [
           {
            "error_x": {
             "color": "#2a3f5f"
            },
            "error_y": {
             "color": "#2a3f5f"
            },
            "marker": {
             "line": {
              "color": "#E5ECF6",
              "width": 0.5
             },
             "pattern": {
              "fillmode": "overlay",
              "size": 10,
              "solidity": 0.2
             }
            },
            "type": "bar"
           }
          ],
          "barpolar": [
           {
            "marker": {
             "line": {
              "color": "#E5ECF6",
              "width": 0.5
             },
             "pattern": {
              "fillmode": "overlay",
              "size": 10,
              "solidity": 0.2
             }
            },
            "type": "barpolar"
           }
          ],
          "carpet": [
           {
            "aaxis": {
             "endlinecolor": "#2a3f5f",
             "gridcolor": "white",
             "linecolor": "white",
             "minorgridcolor": "white",
             "startlinecolor": "#2a3f5f"
            },
            "baxis": {
             "endlinecolor": "#2a3f5f",
             "gridcolor": "white",
             "linecolor": "white",
             "minorgridcolor": "white",
             "startlinecolor": "#2a3f5f"
            },
            "type": "carpet"
           }
          ],
          "choropleth": [
           {
            "colorbar": {
             "outlinewidth": 0,
             "ticks": ""
            },
            "type": "choropleth"
           }
          ],
          "contour": [
           {
            "colorbar": {
             "outlinewidth": 0,
             "ticks": ""
            },
            "colorscale": [
             [
              0,
              "#0d0887"
             ],
             [
              0.1111111111111111,
              "#46039f"
             ],
             [
              0.2222222222222222,
              "#7201a8"
             ],
             [
              0.3333333333333333,
              "#9c179e"
             ],
             [
              0.4444444444444444,
              "#bd3786"
             ],
             [
              0.5555555555555556,
              "#d8576b"
             ],
             [
              0.6666666666666666,
              "#ed7953"
             ],
             [
              0.7777777777777778,
              "#fb9f3a"
             ],
             [
              0.8888888888888888,
              "#fdca26"
             ],
             [
              1,
              "#f0f921"
             ]
            ],
            "type": "contour"
           }
          ],
          "contourcarpet": [
           {
            "colorbar": {
             "outlinewidth": 0,
             "ticks": ""
            },
            "type": "contourcarpet"
           }
          ],
          "heatmap": [
           {
            "colorbar": {
             "outlinewidth": 0,
             "ticks": ""
            },
            "colorscale": [
             [
              0,
              "#0d0887"
             ],
             [
              0.1111111111111111,
              "#46039f"
             ],
             [
              0.2222222222222222,
              "#7201a8"
             ],
             [
              0.3333333333333333,
              "#9c179e"
             ],
             [
              0.4444444444444444,
              "#bd3786"
             ],
             [
              0.5555555555555556,
              "#d8576b"
             ],
             [
              0.6666666666666666,
              "#ed7953"
             ],
             [
              0.7777777777777778,
              "#fb9f3a"
             ],
             [
              0.8888888888888888,
              "#fdca26"
             ],
             [
              1,
              "#f0f921"
             ]
            ],
            "type": "heatmap"
           }
          ],
          "heatmapgl": [
           {
            "colorbar": {
             "outlinewidth": 0,
             "ticks": ""
            },
            "colorscale": [
             [
              0,
              "#0d0887"
             ],
             [
              0.1111111111111111,
              "#46039f"
             ],
             [
              0.2222222222222222,
              "#7201a8"
             ],
             [
              0.3333333333333333,
              "#9c179e"
             ],
             [
              0.4444444444444444,
              "#bd3786"
             ],
             [
              0.5555555555555556,
              "#d8576b"
             ],
             [
              0.6666666666666666,
              "#ed7953"
             ],
             [
              0.7777777777777778,
              "#fb9f3a"
             ],
             [
              0.8888888888888888,
              "#fdca26"
             ],
             [
              1,
              "#f0f921"
             ]
            ],
            "type": "heatmapgl"
           }
          ],
          "histogram": [
           {
            "marker": {
             "pattern": {
              "fillmode": "overlay",
              "size": 10,
              "solidity": 0.2
             }
            },
            "type": "histogram"
           }
          ],
          "histogram2d": [
           {
            "colorbar": {
             "outlinewidth": 0,
             "ticks": ""
            },
            "colorscale": [
             [
              0,
              "#0d0887"
             ],
             [
              0.1111111111111111,
              "#46039f"
             ],
             [
              0.2222222222222222,
              "#7201a8"
             ],
             [
              0.3333333333333333,
              "#9c179e"
             ],
             [
              0.4444444444444444,
              "#bd3786"
             ],
             [
              0.5555555555555556,
              "#d8576b"
             ],
             [
              0.6666666666666666,
              "#ed7953"
             ],
             [
              0.7777777777777778,
              "#fb9f3a"
             ],
             [
              0.8888888888888888,
              "#fdca26"
             ],
             [
              1,
              "#f0f921"
             ]
            ],
            "type": "histogram2d"
           }
          ],
          "histogram2dcontour": [
           {
            "colorbar": {
             "outlinewidth": 0,
             "ticks": ""
            },
            "colorscale": [
             [
              0,
              "#0d0887"
             ],
             [
              0.1111111111111111,
              "#46039f"
             ],
             [
              0.2222222222222222,
              "#7201a8"
             ],
             [
              0.3333333333333333,
              "#9c179e"
             ],
             [
              0.4444444444444444,
              "#bd3786"
             ],
             [
              0.5555555555555556,
              "#d8576b"
             ],
             [
              0.6666666666666666,
              "#ed7953"
             ],
             [
              0.7777777777777778,
              "#fb9f3a"
             ],
             [
              0.8888888888888888,
              "#fdca26"
             ],
             [
              1,
              "#f0f921"
             ]
            ],
            "type": "histogram2dcontour"
           }
          ],
          "mesh3d": [
           {
            "colorbar": {
             "outlinewidth": 0,
             "ticks": ""
            },
            "type": "mesh3d"
           }
          ],
          "parcoords": [
           {
            "line": {
             "colorbar": {
              "outlinewidth": 0,
              "ticks": ""
             }
            },
            "type": "parcoords"
           }
          ],
          "pie": [
           {
            "automargin": true,
            "type": "pie"
           }
          ],
          "scatter": [
           {
            "marker": {
             "colorbar": {
              "outlinewidth": 0,
              "ticks": ""
             }
            },
            "type": "scatter"
           }
          ],
          "scatter3d": [
           {
            "line": {
             "colorbar": {
              "outlinewidth": 0,
              "ticks": ""
             }
            },
            "marker": {
             "colorbar": {
              "outlinewidth": 0,
              "ticks": ""
             }
            },
            "type": "scatter3d"
           }
          ],
          "scattercarpet": [
           {
            "marker": {
             "colorbar": {
              "outlinewidth": 0,
              "ticks": ""
             }
            },
            "type": "scattercarpet"
           }
          ],
          "scattergeo": [
           {
            "marker": {
             "colorbar": {
              "outlinewidth": 0,
              "ticks": ""
             }
            },
            "type": "scattergeo"
           }
          ],
          "scattergl": [
           {
            "marker": {
             "colorbar": {
              "outlinewidth": 0,
              "ticks": ""
             }
            },
            "type": "scattergl"
           }
          ],
          "scattermapbox": [
           {
            "marker": {
             "colorbar": {
              "outlinewidth": 0,
              "ticks": ""
             }
            },
            "type": "scattermapbox"
           }
          ],
          "scatterpolar": [
           {
            "marker": {
             "colorbar": {
              "outlinewidth": 0,
              "ticks": ""
             }
            },
            "type": "scatterpolar"
           }
          ],
          "scatterpolargl": [
           {
            "marker": {
             "colorbar": {
              "outlinewidth": 0,
              "ticks": ""
             }
            },
            "type": "scatterpolargl"
           }
          ],
          "scatterternary": [
           {
            "marker": {
             "colorbar": {
              "outlinewidth": 0,
              "ticks": ""
             }
            },
            "type": "scatterternary"
           }
          ],
          "surface": [
           {
            "colorbar": {
             "outlinewidth": 0,
             "ticks": ""
            },
            "colorscale": [
             [
              0,
              "#0d0887"
             ],
             [
              0.1111111111111111,
              "#46039f"
             ],
             [
              0.2222222222222222,
              "#7201a8"
             ],
             [
              0.3333333333333333,
              "#9c179e"
             ],
             [
              0.4444444444444444,
              "#bd3786"
             ],
             [
              0.5555555555555556,
              "#d8576b"
             ],
             [
              0.6666666666666666,
              "#ed7953"
             ],
             [
              0.7777777777777778,
              "#fb9f3a"
             ],
             [
              0.8888888888888888,
              "#fdca26"
             ],
             [
              1,
              "#f0f921"
             ]
            ],
            "type": "surface"
           }
          ],
          "table": [
           {
            "cells": {
             "fill": {
              "color": "#EBF0F8"
             },
             "line": {
              "color": "white"
             }
            },
            "header": {
             "fill": {
              "color": "#C8D4E3"
             },
             "line": {
              "color": "white"
             }
            },
            "type": "table"
           }
          ]
         },
         "layout": {
          "annotationdefaults": {
           "arrowcolor": "#2a3f5f",
           "arrowhead": 0,
           "arrowwidth": 1
          },
          "autotypenumbers": "strict",
          "coloraxis": {
           "colorbar": {
            "outlinewidth": 0,
            "ticks": ""
           }
          },
          "colorscale": {
           "diverging": [
            [
             0,
             "#8e0152"
            ],
            [
             0.1,
             "#c51b7d"
            ],
            [
             0.2,
             "#de77ae"
            ],
            [
             0.3,
             "#f1b6da"
            ],
            [
             0.4,
             "#fde0ef"
            ],
            [
             0.5,
             "#f7f7f7"
            ],
            [
             0.6,
             "#e6f5d0"
            ],
            [
             0.7,
             "#b8e186"
            ],
            [
             0.8,
             "#7fbc41"
            ],
            [
             0.9,
             "#4d9221"
            ],
            [
             1,
             "#276419"
            ]
           ],
           "sequential": [
            [
             0,
             "#0d0887"
            ],
            [
             0.1111111111111111,
             "#46039f"
            ],
            [
             0.2222222222222222,
             "#7201a8"
            ],
            [
             0.3333333333333333,
             "#9c179e"
            ],
            [
             0.4444444444444444,
             "#bd3786"
            ],
            [
             0.5555555555555556,
             "#d8576b"
            ],
            [
             0.6666666666666666,
             "#ed7953"
            ],
            [
             0.7777777777777778,
             "#fb9f3a"
            ],
            [
             0.8888888888888888,
             "#fdca26"
            ],
            [
             1,
             "#f0f921"
            ]
           ],
           "sequentialminus": [
            [
             0,
             "#0d0887"
            ],
            [
             0.1111111111111111,
             "#46039f"
            ],
            [
             0.2222222222222222,
             "#7201a8"
            ],
            [
             0.3333333333333333,
             "#9c179e"
            ],
            [
             0.4444444444444444,
             "#bd3786"
            ],
            [
             0.5555555555555556,
             "#d8576b"
            ],
            [
             0.6666666666666666,
             "#ed7953"
            ],
            [
             0.7777777777777778,
             "#fb9f3a"
            ],
            [
             0.8888888888888888,
             "#fdca26"
            ],
            [
             1,
             "#f0f921"
            ]
           ]
          },
          "colorway": [
           "#636efa",
           "#EF553B",
           "#00cc96",
           "#ab63fa",
           "#FFA15A",
           "#19d3f3",
           "#FF6692",
           "#B6E880",
           "#FF97FF",
           "#FECB52"
          ],
          "font": {
           "color": "#2a3f5f"
          },
          "geo": {
           "bgcolor": "white",
           "lakecolor": "white",
           "landcolor": "#E5ECF6",
           "showlakes": true,
           "showland": true,
           "subunitcolor": "white"
          },
          "hoverlabel": {
           "align": "left"
          },
          "hovermode": "closest",
          "mapbox": {
           "style": "light"
          },
          "paper_bgcolor": "white",
          "plot_bgcolor": "#E5ECF6",
          "polar": {
           "angularaxis": {
            "gridcolor": "white",
            "linecolor": "white",
            "ticks": ""
           },
           "bgcolor": "#E5ECF6",
           "radialaxis": {
            "gridcolor": "white",
            "linecolor": "white",
            "ticks": ""
           }
          },
          "scene": {
           "xaxis": {
            "backgroundcolor": "#E5ECF6",
            "gridcolor": "white",
            "gridwidth": 2,
            "linecolor": "white",
            "showbackground": true,
            "ticks": "",
            "zerolinecolor": "white"
           },
           "yaxis": {
            "backgroundcolor": "#E5ECF6",
            "gridcolor": "white",
            "gridwidth": 2,
            "linecolor": "white",
            "showbackground": true,
            "ticks": "",
            "zerolinecolor": "white"
           },
           "zaxis": {
            "backgroundcolor": "#E5ECF6",
            "gridcolor": "white",
            "gridwidth": 2,
            "linecolor": "white",
            "showbackground": true,
            "ticks": "",
            "zerolinecolor": "white"
           }
          },
          "shapedefaults": {
           "line": {
            "color": "#2a3f5f"
           }
          },
          "ternary": {
           "aaxis": {
            "gridcolor": "white",
            "linecolor": "white",
            "ticks": ""
           },
           "baxis": {
            "gridcolor": "white",
            "linecolor": "white",
            "ticks": ""
           },
           "bgcolor": "#E5ECF6",
           "caxis": {
            "gridcolor": "white",
            "linecolor": "white",
            "ticks": ""
           }
          },
          "title": {
           "x": 0.05
          },
          "xaxis": {
           "automargin": true,
           "gridcolor": "white",
           "linecolor": "white",
           "ticks": "",
           "title": {
            "standoff": 15
           },
           "zerolinecolor": "white",
           "zerolinewidth": 2
          },
          "yaxis": {
           "automargin": true,
           "gridcolor": "white",
           "linecolor": "white",
           "ticks": "",
           "title": {
            "standoff": 15
           },
           "zerolinecolor": "white",
           "zerolinewidth": 2
          }
         }
        },
        "title": {
         "text": "Comparison of Volume of Top 10 NFT on the market"
        },
        "uniformtext": {
         "minsize": 9
        },
        "xaxis": {
         "anchor": "y",
         "categoryarray": [
          "basis.markets",
          "Skeleton Crew Skulls",
          "Flippies",
          "Meerkat Millionaires Country Club",
          "Stylish Studs",
          "I'M AIKO",
          "Crypto Idolz",
          "Megalodon Rogue Shark Tooth",
          "CorruptCatz",
          "Meta Waifus"
         ],
         "categoryorder": "array",
         "domain": [
          0,
          1
         ],
         "tickangle": -45,
         "title": {
          "text": "NFT Name"
         }
        },
        "yaxis": {
         "anchor": "x",
         "domain": [
          0,
          1
         ],
         "range": [
          0,
          35000
         ],
         "title": {
          "text": "Volume"
         }
        }
       }
      },
      "text/html": [
       "<div>                            <div id=\"d029c620-e6d4-41c2-bb50-2802fdd15e94\" class=\"plotly-graph-div\" style=\"height:525px; width:100%;\"></div>            <script type=\"text/javascript\">                require([\"plotly\"], function(Plotly) {                    window.PLOTLYENV=window.PLOTLYENV || {};                                    if (document.getElementById(\"d029c620-e6d4-41c2-bb50-2802fdd15e94\")) {                    Plotly.newPlot(                        \"d029c620-e6d4-41c2-bb50-2802fdd15e94\",                        [{\"alignmentgroup\":\"True\",\"hovertemplate\":\"NFT Name=%{x}<br>Volume=%{text}<extra></extra>\",\"legendgroup\":\"basis.markets\",\"marker\":{\"color\":\"#636efa\",\"pattern\":{\"shape\":\"\"}},\"name\":\"basis.markets\",\"offsetgroup\":\"basis.markets\",\"orientation\":\"v\",\"showlegend\":true,\"text\":[27256.63],\"textposition\":\"outside\",\"x\":[\"basis.markets\"],\"xaxis\":\"x\",\"y\":[27256.63],\"yaxis\":\"y\",\"type\":\"bar\",\"texttemplate\":\"%{text:.3s}\"},{\"alignmentgroup\":\"True\",\"hovertemplate\":\"NFT Name=%{x}<br>Volume=%{text}<extra></extra>\",\"legendgroup\":\"Skeleton Crew Skulls\",\"marker\":{\"color\":\"#EF553B\",\"pattern\":{\"shape\":\"\"}},\"name\":\"Skeleton Crew Skulls\",\"offsetgroup\":\"Skeleton Crew Skulls\",\"orientation\":\"v\",\"showlegend\":true,\"text\":[11381.25],\"textposition\":\"outside\",\"x\":[\"Skeleton Crew Skulls\"],\"xaxis\":\"x\",\"y\":[11381.25],\"yaxis\":\"y\",\"type\":\"bar\",\"texttemplate\":\"%{text:.3s}\"},{\"alignmentgroup\":\"True\",\"hovertemplate\":\"NFT Name=%{x}<br>Volume=%{text}<extra></extra>\",\"legendgroup\":\"Flippies\",\"marker\":{\"color\":\"#00cc96\",\"pattern\":{\"shape\":\"\"}},\"name\":\"Flippies\",\"offsetgroup\":\"Flippies\",\"orientation\":\"v\",\"showlegend\":true,\"text\":[6732.19],\"textposition\":\"outside\",\"x\":[\"Flippies\"],\"xaxis\":\"x\",\"y\":[6732.19],\"yaxis\":\"y\",\"type\":\"bar\",\"texttemplate\":\"%{text:.3s}\"},{\"alignmentgroup\":\"True\",\"hovertemplate\":\"NFT Name=%{x}<br>Volume=%{text}<extra></extra>\",\"legendgroup\":\"Meerkat Millionaires Country Club\",\"marker\":{\"color\":\"#ab63fa\",\"pattern\":{\"shape\":\"\"}},\"name\":\"Meerkat Millionaires Country Club\",\"offsetgroup\":\"Meerkat Millionaires Country Club\",\"orientation\":\"v\",\"showlegend\":true,\"text\":[3734.76],\"textposition\":\"outside\",\"x\":[\"Meerkat Millionaires Country Club\"],\"xaxis\":\"x\",\"y\":[3734.76],\"yaxis\":\"y\",\"type\":\"bar\",\"texttemplate\":\"%{text:.3s}\"},{\"alignmentgroup\":\"True\",\"hovertemplate\":\"NFT Name=%{x}<br>Volume=%{text}<extra></extra>\",\"legendgroup\":\"Stylish Studs\",\"marker\":{\"color\":\"#FFA15A\",\"pattern\":{\"shape\":\"\"}},\"name\":\"Stylish Studs\",\"offsetgroup\":\"Stylish Studs\",\"orientation\":\"v\",\"showlegend\":true,\"text\":[3191.15],\"textposition\":\"outside\",\"x\":[\"Stylish Studs\"],\"xaxis\":\"x\",\"y\":[3191.15],\"yaxis\":\"y\",\"type\":\"bar\",\"texttemplate\":\"%{text:.3s}\"},{\"alignmentgroup\":\"True\",\"hovertemplate\":\"NFT Name=%{x}<br>Volume=%{text}<extra></extra>\",\"legendgroup\":\"I'M AIKO\",\"marker\":{\"color\":\"#19d3f3\",\"pattern\":{\"shape\":\"\"}},\"name\":\"I'M AIKO\",\"offsetgroup\":\"I'M AIKO\",\"orientation\":\"v\",\"showlegend\":true,\"text\":[2904.7],\"textposition\":\"outside\",\"x\":[\"I'M AIKO\"],\"xaxis\":\"x\",\"y\":[2904.7],\"yaxis\":\"y\",\"type\":\"bar\",\"texttemplate\":\"%{text:.3s}\"},{\"alignmentgroup\":\"True\",\"hovertemplate\":\"NFT Name=%{x}<br>Volume=%{text}<extra></extra>\",\"legendgroup\":\"Crypto Idolz\",\"marker\":{\"color\":\"#FF6692\",\"pattern\":{\"shape\":\"\"}},\"name\":\"Crypto Idolz\",\"offsetgroup\":\"Crypto Idolz\",\"orientation\":\"v\",\"showlegend\":true,\"text\":[2315.74],\"textposition\":\"outside\",\"x\":[\"Crypto Idolz\"],\"xaxis\":\"x\",\"y\":[2315.74],\"yaxis\":\"y\",\"type\":\"bar\",\"texttemplate\":\"%{text:.3s}\"},{\"alignmentgroup\":\"True\",\"hovertemplate\":\"NFT Name=%{x}<br>Volume=%{text}<extra></extra>\",\"legendgroup\":\"Megalodon Rogue Shark Tooth\",\"marker\":{\"color\":\"#B6E880\",\"pattern\":{\"shape\":\"\"}},\"name\":\"Megalodon Rogue Shark Tooth\",\"offsetgroup\":\"Megalodon Rogue Shark Tooth\",\"orientation\":\"v\",\"showlegend\":true,\"text\":[2116.61],\"textposition\":\"outside\",\"x\":[\"Megalodon Rogue Shark Tooth\"],\"xaxis\":\"x\",\"y\":[2116.61],\"yaxis\":\"y\",\"type\":\"bar\",\"texttemplate\":\"%{text:.3s}\"},{\"alignmentgroup\":\"True\",\"hovertemplate\":\"NFT Name=%{x}<br>Volume=%{text}<extra></extra>\",\"legendgroup\":\"CorruptCatz\",\"marker\":{\"color\":\"#FF97FF\",\"pattern\":{\"shape\":\"\"}},\"name\":\"CorruptCatz\",\"offsetgroup\":\"CorruptCatz\",\"orientation\":\"v\",\"showlegend\":true,\"text\":[1983.92],\"textposition\":\"outside\",\"x\":[\"CorruptCatz\"],\"xaxis\":\"x\",\"y\":[1983.92],\"yaxis\":\"y\",\"type\":\"bar\",\"texttemplate\":\"%{text:.3s}\"},{\"alignmentgroup\":\"True\",\"hovertemplate\":\"NFT Name=%{x}<br>Volume=%{text}<extra></extra>\",\"legendgroup\":\"Meta Waifus\",\"marker\":{\"color\":\"#FECB52\",\"pattern\":{\"shape\":\"\"}},\"name\":\"Meta Waifus\",\"offsetgroup\":\"Meta Waifus\",\"orientation\":\"v\",\"showlegend\":true,\"text\":[1844.59],\"textposition\":\"outside\",\"x\":[\"Meta Waifus\"],\"xaxis\":\"x\",\"y\":[1844.59],\"yaxis\":\"y\",\"type\":\"bar\",\"texttemplate\":\"%{text:.3s}\"}],                        {\"template\":{\"data\":{\"bar\":[{\"error_x\":{\"color\":\"#2a3f5f\"},\"error_y\":{\"color\":\"#2a3f5f\"},\"marker\":{\"line\":{\"color\":\"#E5ECF6\",\"width\":0.5},\"pattern\":{\"fillmode\":\"overlay\",\"size\":10,\"solidity\":0.2}},\"type\":\"bar\"}],\"barpolar\":[{\"marker\":{\"line\":{\"color\":\"#E5ECF6\",\"width\":0.5},\"pattern\":{\"fillmode\":\"overlay\",\"size\":10,\"solidity\":0.2}},\"type\":\"barpolar\"}],\"carpet\":[{\"aaxis\":{\"endlinecolor\":\"#2a3f5f\",\"gridcolor\":\"white\",\"linecolor\":\"white\",\"minorgridcolor\":\"white\",\"startlinecolor\":\"#2a3f5f\"},\"baxis\":{\"endlinecolor\":\"#2a3f5f\",\"gridcolor\":\"white\",\"linecolor\":\"white\",\"minorgridcolor\":\"white\",\"startlinecolor\":\"#2a3f5f\"},\"type\":\"carpet\"}],\"choropleth\":[{\"colorbar\":{\"outlinewidth\":0,\"ticks\":\"\"},\"type\":\"choropleth\"}],\"contour\":[{\"colorbar\":{\"outlinewidth\":0,\"ticks\":\"\"},\"colorscale\":[[0.0,\"#0d0887\"],[0.1111111111111111,\"#46039f\"],[0.2222222222222222,\"#7201a8\"],[0.3333333333333333,\"#9c179e\"],[0.4444444444444444,\"#bd3786\"],[0.5555555555555556,\"#d8576b\"],[0.6666666666666666,\"#ed7953\"],[0.7777777777777778,\"#fb9f3a\"],[0.8888888888888888,\"#fdca26\"],[1.0,\"#f0f921\"]],\"type\":\"contour\"}],\"contourcarpet\":[{\"colorbar\":{\"outlinewidth\":0,\"ticks\":\"\"},\"type\":\"contourcarpet\"}],\"heatmap\":[{\"colorbar\":{\"outlinewidth\":0,\"ticks\":\"\"},\"colorscale\":[[0.0,\"#0d0887\"],[0.1111111111111111,\"#46039f\"],[0.2222222222222222,\"#7201a8\"],[0.3333333333333333,\"#9c179e\"],[0.4444444444444444,\"#bd3786\"],[0.5555555555555556,\"#d8576b\"],[0.6666666666666666,\"#ed7953\"],[0.7777777777777778,\"#fb9f3a\"],[0.8888888888888888,\"#fdca26\"],[1.0,\"#f0f921\"]],\"type\":\"heatmap\"}],\"heatmapgl\":[{\"colorbar\":{\"outlinewidth\":0,\"ticks\":\"\"},\"colorscale\":[[0.0,\"#0d0887\"],[0.1111111111111111,\"#46039f\"],[0.2222222222222222,\"#7201a8\"],[0.3333333333333333,\"#9c179e\"],[0.4444444444444444,\"#bd3786\"],[0.5555555555555556,\"#d8576b\"],[0.6666666666666666,\"#ed7953\"],[0.7777777777777778,\"#fb9f3a\"],[0.8888888888888888,\"#fdca26\"],[1.0,\"#f0f921\"]],\"type\":\"heatmapgl\"}],\"histogram\":[{\"marker\":{\"pattern\":{\"fillmode\":\"overlay\",\"size\":10,\"solidity\":0.2}},\"type\":\"histogram\"}],\"histogram2d\":[{\"colorbar\":{\"outlinewidth\":0,\"ticks\":\"\"},\"colorscale\":[[0.0,\"#0d0887\"],[0.1111111111111111,\"#46039f\"],[0.2222222222222222,\"#7201a8\"],[0.3333333333333333,\"#9c179e\"],[0.4444444444444444,\"#bd3786\"],[0.5555555555555556,\"#d8576b\"],[0.6666666666666666,\"#ed7953\"],[0.7777777777777778,\"#fb9f3a\"],[0.8888888888888888,\"#fdca26\"],[1.0,\"#f0f921\"]],\"type\":\"histogram2d\"}],\"histogram2dcontour\":[{\"colorbar\":{\"outlinewidth\":0,\"ticks\":\"\"},\"colorscale\":[[0.0,\"#0d0887\"],[0.1111111111111111,\"#46039f\"],[0.2222222222222222,\"#7201a8\"],[0.3333333333333333,\"#9c179e\"],[0.4444444444444444,\"#bd3786\"],[0.5555555555555556,\"#d8576b\"],[0.6666666666666666,\"#ed7953\"],[0.7777777777777778,\"#fb9f3a\"],[0.8888888888888888,\"#fdca26\"],[1.0,\"#f0f921\"]],\"type\":\"histogram2dcontour\"}],\"mesh3d\":[{\"colorbar\":{\"outlinewidth\":0,\"ticks\":\"\"},\"type\":\"mesh3d\"}],\"parcoords\":[{\"line\":{\"colorbar\":{\"outlinewidth\":0,\"ticks\":\"\"}},\"type\":\"parcoords\"}],\"pie\":[{\"automargin\":true,\"type\":\"pie\"}],\"scatter\":[{\"marker\":{\"colorbar\":{\"outlinewidth\":0,\"ticks\":\"\"}},\"type\":\"scatter\"}],\"scatter3d\":[{\"line\":{\"colorbar\":{\"outlinewidth\":0,\"ticks\":\"\"}},\"marker\":{\"colorbar\":{\"outlinewidth\":0,\"ticks\":\"\"}},\"type\":\"scatter3d\"}],\"scattercarpet\":[{\"marker\":{\"colorbar\":{\"outlinewidth\":0,\"ticks\":\"\"}},\"type\":\"scattercarpet\"}],\"scattergeo\":[{\"marker\":{\"colorbar\":{\"outlinewidth\":0,\"ticks\":\"\"}},\"type\":\"scattergeo\"}],\"scattergl\":[{\"marker\":{\"colorbar\":{\"outlinewidth\":0,\"ticks\":\"\"}},\"type\":\"scattergl\"}],\"scattermapbox\":[{\"marker\":{\"colorbar\":{\"outlinewidth\":0,\"ticks\":\"\"}},\"type\":\"scattermapbox\"}],\"scatterpolar\":[{\"marker\":{\"colorbar\":{\"outlinewidth\":0,\"ticks\":\"\"}},\"type\":\"scatterpolar\"}],\"scatterpolargl\":[{\"marker\":{\"colorbar\":{\"outlinewidth\":0,\"ticks\":\"\"}},\"type\":\"scatterpolargl\"}],\"scatterternary\":[{\"marker\":{\"colorbar\":{\"outlinewidth\":0,\"ticks\":\"\"}},\"type\":\"scatterternary\"}],\"surface\":[{\"colorbar\":{\"outlinewidth\":0,\"ticks\":\"\"},\"colorscale\":[[0.0,\"#0d0887\"],[0.1111111111111111,\"#46039f\"],[0.2222222222222222,\"#7201a8\"],[0.3333333333333333,\"#9c179e\"],[0.4444444444444444,\"#bd3786\"],[0.5555555555555556,\"#d8576b\"],[0.6666666666666666,\"#ed7953\"],[0.7777777777777778,\"#fb9f3a\"],[0.8888888888888888,\"#fdca26\"],[1.0,\"#f0f921\"]],\"type\":\"surface\"}],\"table\":[{\"cells\":{\"fill\":{\"color\":\"#EBF0F8\"},\"line\":{\"color\":\"white\"}},\"header\":{\"fill\":{\"color\":\"#C8D4E3\"},\"line\":{\"color\":\"white\"}},\"type\":\"table\"}]},\"layout\":{\"annotationdefaults\":{\"arrowcolor\":\"#2a3f5f\",\"arrowhead\":0,\"arrowwidth\":1},\"autotypenumbers\":\"strict\",\"coloraxis\":{\"colorbar\":{\"outlinewidth\":0,\"ticks\":\"\"}},\"colorscale\":{\"diverging\":[[0,\"#8e0152\"],[0.1,\"#c51b7d\"],[0.2,\"#de77ae\"],[0.3,\"#f1b6da\"],[0.4,\"#fde0ef\"],[0.5,\"#f7f7f7\"],[0.6,\"#e6f5d0\"],[0.7,\"#b8e186\"],[0.8,\"#7fbc41\"],[0.9,\"#4d9221\"],[1,\"#276419\"]],\"sequential\":[[0.0,\"#0d0887\"],[0.1111111111111111,\"#46039f\"],[0.2222222222222222,\"#7201a8\"],[0.3333333333333333,\"#9c179e\"],[0.4444444444444444,\"#bd3786\"],[0.5555555555555556,\"#d8576b\"],[0.6666666666666666,\"#ed7953\"],[0.7777777777777778,\"#fb9f3a\"],[0.8888888888888888,\"#fdca26\"],[1.0,\"#f0f921\"]],\"sequentialminus\":[[0.0,\"#0d0887\"],[0.1111111111111111,\"#46039f\"],[0.2222222222222222,\"#7201a8\"],[0.3333333333333333,\"#9c179e\"],[0.4444444444444444,\"#bd3786\"],[0.5555555555555556,\"#d8576b\"],[0.6666666666666666,\"#ed7953\"],[0.7777777777777778,\"#fb9f3a\"],[0.8888888888888888,\"#fdca26\"],[1.0,\"#f0f921\"]]},\"colorway\":[\"#636efa\",\"#EF553B\",\"#00cc96\",\"#ab63fa\",\"#FFA15A\",\"#19d3f3\",\"#FF6692\",\"#B6E880\",\"#FF97FF\",\"#FECB52\"],\"font\":{\"color\":\"#2a3f5f\"},\"geo\":{\"bgcolor\":\"white\",\"lakecolor\":\"white\",\"landcolor\":\"#E5ECF6\",\"showlakes\":true,\"showland\":true,\"subunitcolor\":\"white\"},\"hoverlabel\":{\"align\":\"left\"},\"hovermode\":\"closest\",\"mapbox\":{\"style\":\"light\"},\"paper_bgcolor\":\"white\",\"plot_bgcolor\":\"#E5ECF6\",\"polar\":{\"angularaxis\":{\"gridcolor\":\"white\",\"linecolor\":\"white\",\"ticks\":\"\"},\"bgcolor\":\"#E5ECF6\",\"radialaxis\":{\"gridcolor\":\"white\",\"linecolor\":\"white\",\"ticks\":\"\"}},\"scene\":{\"xaxis\":{\"backgroundcolor\":\"#E5ECF6\",\"gridcolor\":\"white\",\"gridwidth\":2,\"linecolor\":\"white\",\"showbackground\":true,\"ticks\":\"\",\"zerolinecolor\":\"white\"},\"yaxis\":{\"backgroundcolor\":\"#E5ECF6\",\"gridcolor\":\"white\",\"gridwidth\":2,\"linecolor\":\"white\",\"showbackground\":true,\"ticks\":\"\",\"zerolinecolor\":\"white\"},\"zaxis\":{\"backgroundcolor\":\"#E5ECF6\",\"gridcolor\":\"white\",\"gridwidth\":2,\"linecolor\":\"white\",\"showbackground\":true,\"ticks\":\"\",\"zerolinecolor\":\"white\"}},\"shapedefaults\":{\"line\":{\"color\":\"#2a3f5f\"}},\"ternary\":{\"aaxis\":{\"gridcolor\":\"white\",\"linecolor\":\"white\",\"ticks\":\"\"},\"baxis\":{\"gridcolor\":\"white\",\"linecolor\":\"white\",\"ticks\":\"\"},\"bgcolor\":\"#E5ECF6\",\"caxis\":{\"gridcolor\":\"white\",\"linecolor\":\"white\",\"ticks\":\"\"}},\"title\":{\"x\":0.05},\"xaxis\":{\"automargin\":true,\"gridcolor\":\"white\",\"linecolor\":\"white\",\"ticks\":\"\",\"title\":{\"standoff\":15},\"zerolinecolor\":\"white\",\"zerolinewidth\":2},\"yaxis\":{\"automargin\":true,\"gridcolor\":\"white\",\"linecolor\":\"white\",\"ticks\":\"\",\"title\":{\"standoff\":15},\"zerolinecolor\":\"white\",\"zerolinewidth\":2}}},\"xaxis\":{\"anchor\":\"y\",\"domain\":[0.0,1.0],\"title\":{\"text\":\"NFT Name\"},\"categoryorder\":\"array\",\"categoryarray\":[\"basis.markets\",\"Skeleton Crew Skulls\",\"Flippies\",\"Meerkat Millionaires Country Club\",\"Stylish Studs\",\"I'M AIKO\",\"Crypto Idolz\",\"Megalodon Rogue Shark Tooth\",\"CorruptCatz\",\"Meta Waifus\"],\"tickangle\":-45},\"yaxis\":{\"anchor\":\"x\",\"domain\":[0.0,1.0],\"title\":{\"text\":\"Volume\"},\"range\":[0,35000]},\"legend\":{\"title\":{\"text\":\"NFT Name\"},\"tracegroupgap\":0},\"title\":{\"text\":\"Comparison of Volume of Top 10 NFT on the market\"},\"barmode\":\"relative\",\"uniformtext\":{\"minsize\":9}},                        {\"responsive\": true}                    ).then(function(){\n",
       "                            \n",
       "var gd = document.getElementById('d029c620-e6d4-41c2-bb50-2802fdd15e94');\n",
       "var x = new MutationObserver(function (mutations, observer) {{\n",
       "        var display = window.getComputedStyle(gd).display;\n",
       "        if (!display || display === 'none') {{\n",
       "            console.log([gd, 'removed!']);\n",
       "            Plotly.purge(gd);\n",
       "            observer.disconnect();\n",
       "        }}\n",
       "}});\n",
       "\n",
       "// Listen for the removal of the full notebook cells\n",
       "var notebookContainer = gd.closest('#notebook-container');\n",
       "if (notebookContainer) {{\n",
       "    x.observe(notebookContainer, {childList: true});\n",
       "}}\n",
       "\n",
       "// Listen for the clearing of the current output cell\n",
       "var outputEl = gd.closest('.output');\n",
       "if (outputEl) {{\n",
       "    x.observe(outputEl, {childList: true});\n",
       "}}\n",
       "\n",
       "                        })                };                });            </script>        </div>"
      ]
     },
     "metadata": {},
     "output_type": "display_data"
    }
   ],
   "source": [
    "df_top10 = df_new.head(10)\n",
    "\n",
    "fig = px.bar(df_top10, \n",
    "             x = 'Name',\n",
    "             y = 'Volume',\n",
    "             text = 'Volume',\n",
    "             color = 'Name',\n",
    "             title = 'Comparison of Volume of Top 10 NFT on the market',\n",
    "             labels = {'Volume' : 'Volume', 'Name' : 'NFT Name'})\n",
    "fig.update_traces(texttemplate = '%{text:.3s}', textposition = 'outside')\n",
    "fig.update_layout(uniformtext_minsize = 9)\n",
    "fig.update_layout(xaxis_tickangle =-45)\n",
    "fig.update_layout(yaxis_range = [0,35000])\n",
    "\n",
    "fig"
   ]
  },
  {
   "cell_type": "code",
   "execution_count": 41,
   "metadata": {},
   "outputs": [
    {
     "data": {
      "application/vnd.plotly.v1+json": {
       "config": {
        "plotlyServerURL": "https://plot.ly"
       },
       "data": [
        {
         "alignmentgroup": "True",
         "hovertemplate": "NFT Name=%{x}<br>Volume USD=%{text}<extra></extra>",
         "legendgroup": "basis.markets",
         "marker": {
          "color": "#636efa",
          "pattern": {
           "shape": ""
          }
         },
         "name": "basis.markets",
         "offsetgroup": "basis.markets",
         "orientation": "v",
         "showlegend": true,
         "text": [
          4001818.417
         ],
         "textposition": "outside",
         "texttemplate": "%{text:.3s}",
         "type": "bar",
         "x": [
          "basis.markets"
         ],
         "xaxis": "x",
         "y": [
          4001818.417
         ],
         "yaxis": "y"
        },
        {
         "alignmentgroup": "True",
         "hovertemplate": "NFT Name=%{x}<br>Volume USD=%{text}<extra></extra>",
         "legendgroup": "Skeleton Crew Skulls",
         "marker": {
          "color": "#EF553B",
          "pattern": {
           "shape": ""
          }
         },
         "name": "Skeleton Crew Skulls",
         "offsetgroup": "Skeleton Crew Skulls",
         "orientation": "v",
         "showlegend": true,
         "text": [
          1670995.125
         ],
         "textposition": "outside",
         "texttemplate": "%{text:.3s}",
         "type": "bar",
         "x": [
          "Skeleton Crew Skulls"
         ],
         "xaxis": "x",
         "y": [
          1670995.125
         ],
         "yaxis": "y"
        },
        {
         "alignmentgroup": "True",
         "hovertemplate": "NFT Name=%{x}<br>Volume USD=%{text}<extra></extra>",
         "legendgroup": "Flippies",
         "marker": {
          "color": "#00cc96",
          "pattern": {
           "shape": ""
          }
         },
         "name": "Flippies",
         "offsetgroup": "Flippies",
         "orientation": "v",
         "showlegend": true,
         "text": [
          988420.1358
         ],
         "textposition": "outside",
         "texttemplate": "%{text:.3s}",
         "type": "bar",
         "x": [
          "Flippies"
         ],
         "xaxis": "x",
         "y": [
          988420.1358
         ],
         "yaxis": "y"
        },
        {
         "alignmentgroup": "True",
         "hovertemplate": "NFT Name=%{x}<br>Volume USD=%{text}<extra></extra>",
         "legendgroup": "Meerkat Millionaires Country Club",
         "marker": {
          "color": "#ab63fa",
          "pattern": {
           "shape": ""
          }
         },
         "name": "Meerkat Millionaires Country Club",
         "offsetgroup": "Meerkat Millionaires Country Club",
         "orientation": "v",
         "showlegend": true,
         "text": [
          548337.4632
         ],
         "textposition": "outside",
         "texttemplate": "%{text:.3s}",
         "type": "bar",
         "x": [
          "Meerkat Millionaires Country Club"
         ],
         "xaxis": "x",
         "y": [
          548337.4632
         ],
         "yaxis": "y"
        },
        {
         "alignmentgroup": "True",
         "hovertemplate": "NFT Name=%{x}<br>Volume USD=%{text}<extra></extra>",
         "legendgroup": "Stylish Studs",
         "marker": {
          "color": "#FFA15A",
          "pattern": {
           "shape": ""
          }
         },
         "name": "Stylish Studs",
         "offsetgroup": "Stylish Studs",
         "orientation": "v",
         "showlegend": true,
         "text": [
          468524.643
         ],
         "textposition": "outside",
         "texttemplate": "%{text:.3s}",
         "type": "bar",
         "x": [
          "Stylish Studs"
         ],
         "xaxis": "x",
         "y": [
          468524.643
         ],
         "yaxis": "y"
        },
        {
         "alignmentgroup": "True",
         "hovertemplate": "NFT Name=%{x}<br>Volume USD=%{text}<extra></extra>",
         "legendgroup": "I'M AIKO",
         "marker": {
          "color": "#19d3f3",
          "pattern": {
           "shape": ""
          }
         },
         "name": "I'M AIKO",
         "offsetgroup": "I'M AIKO",
         "orientation": "v",
         "showlegend": true,
         "text": [
          426468.054
         ],
         "textposition": "outside",
         "texttemplate": "%{text:.3s}",
         "type": "bar",
         "x": [
          "I'M AIKO"
         ],
         "xaxis": "x",
         "y": [
          426468.054
         ],
         "yaxis": "y"
        },
        {
         "alignmentgroup": "True",
         "hovertemplate": "NFT Name=%{x}<br>Volume USD=%{text}<extra></extra>",
         "legendgroup": "Crypto Idolz",
         "marker": {
          "color": "#FF6692",
          "pattern": {
           "shape": ""
          }
         },
         "name": "Crypto Idolz",
         "offsetgroup": "Crypto Idolz",
         "orientation": "v",
         "showlegend": true,
         "text": [
          339996.9468
         ],
         "textposition": "outside",
         "texttemplate": "%{text:.3s}",
         "type": "bar",
         "x": [
          "Crypto Idolz"
         ],
         "xaxis": "x",
         "y": [
          339996.9468
         ],
         "yaxis": "y"
        },
        {
         "alignmentgroup": "True",
         "hovertemplate": "NFT Name=%{x}<br>Volume USD=%{text}<extra></extra>",
         "legendgroup": "Megalodon Rogue Shark Tooth",
         "marker": {
          "color": "#B6E880",
          "pattern": {
           "shape": ""
          }
         },
         "name": "Megalodon Rogue Shark Tooth",
         "offsetgroup": "Megalodon Rogue Shark Tooth",
         "orientation": "v",
         "showlegend": true,
         "text": [
          310760.6802
         ],
         "textposition": "outside",
         "texttemplate": "%{text:.3s}",
         "type": "bar",
         "x": [
          "Megalodon Rogue Shark Tooth"
         ],
         "xaxis": "x",
         "y": [
          310760.6802
         ],
         "yaxis": "y"
        },
        {
         "alignmentgroup": "True",
         "hovertemplate": "NFT Name=%{x}<br>Volume USD=%{text}<extra></extra>",
         "legendgroup": "CorruptCatz",
         "marker": {
          "color": "#FF97FF",
          "pattern": {
           "shape": ""
          }
         },
         "name": "CorruptCatz",
         "offsetgroup": "CorruptCatz",
         "orientation": "v",
         "showlegend": true,
         "text": [
          291279.1344
         ],
         "textposition": "outside",
         "texttemplate": "%{text:.3s}",
         "type": "bar",
         "x": [
          "CorruptCatz"
         ],
         "xaxis": "x",
         "y": [
          291279.1344
         ],
         "yaxis": "y"
        },
        {
         "alignmentgroup": "True",
         "hovertemplate": "NFT Name=%{x}<br>Volume USD=%{text}<extra></extra>",
         "legendgroup": "Meta Waifus",
         "marker": {
          "color": "#FECB52",
          "pattern": {
           "shape": ""
          }
         },
         "name": "Meta Waifus",
         "offsetgroup": "Meta Waifus",
         "orientation": "v",
         "showlegend": true,
         "text": [
          270822.7038
         ],
         "textposition": "outside",
         "texttemplate": "%{text:.3s}",
         "type": "bar",
         "x": [
          "Meta Waifus"
         ],
         "xaxis": "x",
         "y": [
          270822.7038
         ],
         "yaxis": "y"
        }
       ],
       "layout": {
        "barmode": "relative",
        "legend": {
         "title": {
          "text": "NFT Name"
         },
         "tracegroupgap": 0
        },
        "template": {
         "data": {
          "bar": [
           {
            "error_x": {
             "color": "#2a3f5f"
            },
            "error_y": {
             "color": "#2a3f5f"
            },
            "marker": {
             "line": {
              "color": "#E5ECF6",
              "width": 0.5
             },
             "pattern": {
              "fillmode": "overlay",
              "size": 10,
              "solidity": 0.2
             }
            },
            "type": "bar"
           }
          ],
          "barpolar": [
           {
            "marker": {
             "line": {
              "color": "#E5ECF6",
              "width": 0.5
             },
             "pattern": {
              "fillmode": "overlay",
              "size": 10,
              "solidity": 0.2
             }
            },
            "type": "barpolar"
           }
          ],
          "carpet": [
           {
            "aaxis": {
             "endlinecolor": "#2a3f5f",
             "gridcolor": "white",
             "linecolor": "white",
             "minorgridcolor": "white",
             "startlinecolor": "#2a3f5f"
            },
            "baxis": {
             "endlinecolor": "#2a3f5f",
             "gridcolor": "white",
             "linecolor": "white",
             "minorgridcolor": "white",
             "startlinecolor": "#2a3f5f"
            },
            "type": "carpet"
           }
          ],
          "choropleth": [
           {
            "colorbar": {
             "outlinewidth": 0,
             "ticks": ""
            },
            "type": "choropleth"
           }
          ],
          "contour": [
           {
            "colorbar": {
             "outlinewidth": 0,
             "ticks": ""
            },
            "colorscale": [
             [
              0,
              "#0d0887"
             ],
             [
              0.1111111111111111,
              "#46039f"
             ],
             [
              0.2222222222222222,
              "#7201a8"
             ],
             [
              0.3333333333333333,
              "#9c179e"
             ],
             [
              0.4444444444444444,
              "#bd3786"
             ],
             [
              0.5555555555555556,
              "#d8576b"
             ],
             [
              0.6666666666666666,
              "#ed7953"
             ],
             [
              0.7777777777777778,
              "#fb9f3a"
             ],
             [
              0.8888888888888888,
              "#fdca26"
             ],
             [
              1,
              "#f0f921"
             ]
            ],
            "type": "contour"
           }
          ],
          "contourcarpet": [
           {
            "colorbar": {
             "outlinewidth": 0,
             "ticks": ""
            },
            "type": "contourcarpet"
           }
          ],
          "heatmap": [
           {
            "colorbar": {
             "outlinewidth": 0,
             "ticks": ""
            },
            "colorscale": [
             [
              0,
              "#0d0887"
             ],
             [
              0.1111111111111111,
              "#46039f"
             ],
             [
              0.2222222222222222,
              "#7201a8"
             ],
             [
              0.3333333333333333,
              "#9c179e"
             ],
             [
              0.4444444444444444,
              "#bd3786"
             ],
             [
              0.5555555555555556,
              "#d8576b"
             ],
             [
              0.6666666666666666,
              "#ed7953"
             ],
             [
              0.7777777777777778,
              "#fb9f3a"
             ],
             [
              0.8888888888888888,
              "#fdca26"
             ],
             [
              1,
              "#f0f921"
             ]
            ],
            "type": "heatmap"
           }
          ],
          "heatmapgl": [
           {
            "colorbar": {
             "outlinewidth": 0,
             "ticks": ""
            },
            "colorscale": [
             [
              0,
              "#0d0887"
             ],
             [
              0.1111111111111111,
              "#46039f"
             ],
             [
              0.2222222222222222,
              "#7201a8"
             ],
             [
              0.3333333333333333,
              "#9c179e"
             ],
             [
              0.4444444444444444,
              "#bd3786"
             ],
             [
              0.5555555555555556,
              "#d8576b"
             ],
             [
              0.6666666666666666,
              "#ed7953"
             ],
             [
              0.7777777777777778,
              "#fb9f3a"
             ],
             [
              0.8888888888888888,
              "#fdca26"
             ],
             [
              1,
              "#f0f921"
             ]
            ],
            "type": "heatmapgl"
           }
          ],
          "histogram": [
           {
            "marker": {
             "pattern": {
              "fillmode": "overlay",
              "size": 10,
              "solidity": 0.2
             }
            },
            "type": "histogram"
           }
          ],
          "histogram2d": [
           {
            "colorbar": {
             "outlinewidth": 0,
             "ticks": ""
            },
            "colorscale": [
             [
              0,
              "#0d0887"
             ],
             [
              0.1111111111111111,
              "#46039f"
             ],
             [
              0.2222222222222222,
              "#7201a8"
             ],
             [
              0.3333333333333333,
              "#9c179e"
             ],
             [
              0.4444444444444444,
              "#bd3786"
             ],
             [
              0.5555555555555556,
              "#d8576b"
             ],
             [
              0.6666666666666666,
              "#ed7953"
             ],
             [
              0.7777777777777778,
              "#fb9f3a"
             ],
             [
              0.8888888888888888,
              "#fdca26"
             ],
             [
              1,
              "#f0f921"
             ]
            ],
            "type": "histogram2d"
           }
          ],
          "histogram2dcontour": [
           {
            "colorbar": {
             "outlinewidth": 0,
             "ticks": ""
            },
            "colorscale": [
             [
              0,
              "#0d0887"
             ],
             [
              0.1111111111111111,
              "#46039f"
             ],
             [
              0.2222222222222222,
              "#7201a8"
             ],
             [
              0.3333333333333333,
              "#9c179e"
             ],
             [
              0.4444444444444444,
              "#bd3786"
             ],
             [
              0.5555555555555556,
              "#d8576b"
             ],
             [
              0.6666666666666666,
              "#ed7953"
             ],
             [
              0.7777777777777778,
              "#fb9f3a"
             ],
             [
              0.8888888888888888,
              "#fdca26"
             ],
             [
              1,
              "#f0f921"
             ]
            ],
            "type": "histogram2dcontour"
           }
          ],
          "mesh3d": [
           {
            "colorbar": {
             "outlinewidth": 0,
             "ticks": ""
            },
            "type": "mesh3d"
           }
          ],
          "parcoords": [
           {
            "line": {
             "colorbar": {
              "outlinewidth": 0,
              "ticks": ""
             }
            },
            "type": "parcoords"
           }
          ],
          "pie": [
           {
            "automargin": true,
            "type": "pie"
           }
          ],
          "scatter": [
           {
            "marker": {
             "colorbar": {
              "outlinewidth": 0,
              "ticks": ""
             }
            },
            "type": "scatter"
           }
          ],
          "scatter3d": [
           {
            "line": {
             "colorbar": {
              "outlinewidth": 0,
              "ticks": ""
             }
            },
            "marker": {
             "colorbar": {
              "outlinewidth": 0,
              "ticks": ""
             }
            },
            "type": "scatter3d"
           }
          ],
          "scattercarpet": [
           {
            "marker": {
             "colorbar": {
              "outlinewidth": 0,
              "ticks": ""
             }
            },
            "type": "scattercarpet"
           }
          ],
          "scattergeo": [
           {
            "marker": {
             "colorbar": {
              "outlinewidth": 0,
              "ticks": ""
             }
            },
            "type": "scattergeo"
           }
          ],
          "scattergl": [
           {
            "marker": {
             "colorbar": {
              "outlinewidth": 0,
              "ticks": ""
             }
            },
            "type": "scattergl"
           }
          ],
          "scattermapbox": [
           {
            "marker": {
             "colorbar": {
              "outlinewidth": 0,
              "ticks": ""
             }
            },
            "type": "scattermapbox"
           }
          ],
          "scatterpolar": [
           {
            "marker": {
             "colorbar": {
              "outlinewidth": 0,
              "ticks": ""
             }
            },
            "type": "scatterpolar"
           }
          ],
          "scatterpolargl": [
           {
            "marker": {
             "colorbar": {
              "outlinewidth": 0,
              "ticks": ""
             }
            },
            "type": "scatterpolargl"
           }
          ],
          "scatterternary": [
           {
            "marker": {
             "colorbar": {
              "outlinewidth": 0,
              "ticks": ""
             }
            },
            "type": "scatterternary"
           }
          ],
          "surface": [
           {
            "colorbar": {
             "outlinewidth": 0,
             "ticks": ""
            },
            "colorscale": [
             [
              0,
              "#0d0887"
             ],
             [
              0.1111111111111111,
              "#46039f"
             ],
             [
              0.2222222222222222,
              "#7201a8"
             ],
             [
              0.3333333333333333,
              "#9c179e"
             ],
             [
              0.4444444444444444,
              "#bd3786"
             ],
             [
              0.5555555555555556,
              "#d8576b"
             ],
             [
              0.6666666666666666,
              "#ed7953"
             ],
             [
              0.7777777777777778,
              "#fb9f3a"
             ],
             [
              0.8888888888888888,
              "#fdca26"
             ],
             [
              1,
              "#f0f921"
             ]
            ],
            "type": "surface"
           }
          ],
          "table": [
           {
            "cells": {
             "fill": {
              "color": "#EBF0F8"
             },
             "line": {
              "color": "white"
             }
            },
            "header": {
             "fill": {
              "color": "#C8D4E3"
             },
             "line": {
              "color": "white"
             }
            },
            "type": "table"
           }
          ]
         },
         "layout": {
          "annotationdefaults": {
           "arrowcolor": "#2a3f5f",
           "arrowhead": 0,
           "arrowwidth": 1
          },
          "autotypenumbers": "strict",
          "coloraxis": {
           "colorbar": {
            "outlinewidth": 0,
            "ticks": ""
           }
          },
          "colorscale": {
           "diverging": [
            [
             0,
             "#8e0152"
            ],
            [
             0.1,
             "#c51b7d"
            ],
            [
             0.2,
             "#de77ae"
            ],
            [
             0.3,
             "#f1b6da"
            ],
            [
             0.4,
             "#fde0ef"
            ],
            [
             0.5,
             "#f7f7f7"
            ],
            [
             0.6,
             "#e6f5d0"
            ],
            [
             0.7,
             "#b8e186"
            ],
            [
             0.8,
             "#7fbc41"
            ],
            [
             0.9,
             "#4d9221"
            ],
            [
             1,
             "#276419"
            ]
           ],
           "sequential": [
            [
             0,
             "#0d0887"
            ],
            [
             0.1111111111111111,
             "#46039f"
            ],
            [
             0.2222222222222222,
             "#7201a8"
            ],
            [
             0.3333333333333333,
             "#9c179e"
            ],
            [
             0.4444444444444444,
             "#bd3786"
            ],
            [
             0.5555555555555556,
             "#d8576b"
            ],
            [
             0.6666666666666666,
             "#ed7953"
            ],
            [
             0.7777777777777778,
             "#fb9f3a"
            ],
            [
             0.8888888888888888,
             "#fdca26"
            ],
            [
             1,
             "#f0f921"
            ]
           ],
           "sequentialminus": [
            [
             0,
             "#0d0887"
            ],
            [
             0.1111111111111111,
             "#46039f"
            ],
            [
             0.2222222222222222,
             "#7201a8"
            ],
            [
             0.3333333333333333,
             "#9c179e"
            ],
            [
             0.4444444444444444,
             "#bd3786"
            ],
            [
             0.5555555555555556,
             "#d8576b"
            ],
            [
             0.6666666666666666,
             "#ed7953"
            ],
            [
             0.7777777777777778,
             "#fb9f3a"
            ],
            [
             0.8888888888888888,
             "#fdca26"
            ],
            [
             1,
             "#f0f921"
            ]
           ]
          },
          "colorway": [
           "#636efa",
           "#EF553B",
           "#00cc96",
           "#ab63fa",
           "#FFA15A",
           "#19d3f3",
           "#FF6692",
           "#B6E880",
           "#FF97FF",
           "#FECB52"
          ],
          "font": {
           "color": "#2a3f5f"
          },
          "geo": {
           "bgcolor": "white",
           "lakecolor": "white",
           "landcolor": "#E5ECF6",
           "showlakes": true,
           "showland": true,
           "subunitcolor": "white"
          },
          "hoverlabel": {
           "align": "left"
          },
          "hovermode": "closest",
          "mapbox": {
           "style": "light"
          },
          "paper_bgcolor": "white",
          "plot_bgcolor": "#E5ECF6",
          "polar": {
           "angularaxis": {
            "gridcolor": "white",
            "linecolor": "white",
            "ticks": ""
           },
           "bgcolor": "#E5ECF6",
           "radialaxis": {
            "gridcolor": "white",
            "linecolor": "white",
            "ticks": ""
           }
          },
          "scene": {
           "xaxis": {
            "backgroundcolor": "#E5ECF6",
            "gridcolor": "white",
            "gridwidth": 2,
            "linecolor": "white",
            "showbackground": true,
            "ticks": "",
            "zerolinecolor": "white"
           },
           "yaxis": {
            "backgroundcolor": "#E5ECF6",
            "gridcolor": "white",
            "gridwidth": 2,
            "linecolor": "white",
            "showbackground": true,
            "ticks": "",
            "zerolinecolor": "white"
           },
           "zaxis": {
            "backgroundcolor": "#E5ECF6",
            "gridcolor": "white",
            "gridwidth": 2,
            "linecolor": "white",
            "showbackground": true,
            "ticks": "",
            "zerolinecolor": "white"
           }
          },
          "shapedefaults": {
           "line": {
            "color": "#2a3f5f"
           }
          },
          "ternary": {
           "aaxis": {
            "gridcolor": "white",
            "linecolor": "white",
            "ticks": ""
           },
           "baxis": {
            "gridcolor": "white",
            "linecolor": "white",
            "ticks": ""
           },
           "bgcolor": "#E5ECF6",
           "caxis": {
            "gridcolor": "white",
            "linecolor": "white",
            "ticks": ""
           }
          },
          "title": {
           "x": 0.05
          },
          "xaxis": {
           "automargin": true,
           "gridcolor": "white",
           "linecolor": "white",
           "ticks": "",
           "title": {
            "standoff": 15
           },
           "zerolinecolor": "white",
           "zerolinewidth": 2
          },
          "yaxis": {
           "automargin": true,
           "gridcolor": "white",
           "linecolor": "white",
           "ticks": "",
           "title": {
            "standoff": 15
           },
           "zerolinecolor": "white",
           "zerolinewidth": 2
          }
         }
        },
        "title": {
         "text": "Comparison of Volume USD of Top 10 NFT on the market"
        },
        "uniformtext": {
         "minsize": 9
        },
        "xaxis": {
         "anchor": "y",
         "categoryarray": [
          "basis.markets",
          "Skeleton Crew Skulls",
          "Flippies",
          "Meerkat Millionaires Country Club",
          "Stylish Studs",
          "I'M AIKO",
          "Crypto Idolz",
          "Megalodon Rogue Shark Tooth",
          "CorruptCatz",
          "Meta Waifus"
         ],
         "categoryorder": "array",
         "domain": [
          0,
          1
         ],
         "tickangle": -45,
         "title": {
          "text": "NFT Name"
         }
        },
        "yaxis": {
         "anchor": "x",
         "domain": [
          0,
          1
         ],
         "range": [
          0,
          4500000
         ],
         "title": {
          "text": "Volume USD"
         }
        }
       }
      },
      "text/html": [
       "<div>                            <div id=\"144fa0ae-7edc-46d1-b31f-d7130cc62695\" class=\"plotly-graph-div\" style=\"height:525px; width:100%;\"></div>            <script type=\"text/javascript\">                require([\"plotly\"], function(Plotly) {                    window.PLOTLYENV=window.PLOTLYENV || {};                                    if (document.getElementById(\"144fa0ae-7edc-46d1-b31f-d7130cc62695\")) {                    Plotly.newPlot(                        \"144fa0ae-7edc-46d1-b31f-d7130cc62695\",                        [{\"alignmentgroup\":\"True\",\"hovertemplate\":\"NFT Name=%{x}<br>Volume USD=%{text}<extra></extra>\",\"legendgroup\":\"basis.markets\",\"marker\":{\"color\":\"#636efa\",\"pattern\":{\"shape\":\"\"}},\"name\":\"basis.markets\",\"offsetgroup\":\"basis.markets\",\"orientation\":\"v\",\"showlegend\":true,\"text\":[4001818.417],\"textposition\":\"outside\",\"x\":[\"basis.markets\"],\"xaxis\":\"x\",\"y\":[4001818.417],\"yaxis\":\"y\",\"type\":\"bar\",\"texttemplate\":\"%{text:.3s}\"},{\"alignmentgroup\":\"True\",\"hovertemplate\":\"NFT Name=%{x}<br>Volume USD=%{text}<extra></extra>\",\"legendgroup\":\"Skeleton Crew Skulls\",\"marker\":{\"color\":\"#EF553B\",\"pattern\":{\"shape\":\"\"}},\"name\":\"Skeleton Crew Skulls\",\"offsetgroup\":\"Skeleton Crew Skulls\",\"orientation\":\"v\",\"showlegend\":true,\"text\":[1670995.125],\"textposition\":\"outside\",\"x\":[\"Skeleton Crew Skulls\"],\"xaxis\":\"x\",\"y\":[1670995.125],\"yaxis\":\"y\",\"type\":\"bar\",\"texttemplate\":\"%{text:.3s}\"},{\"alignmentgroup\":\"True\",\"hovertemplate\":\"NFT Name=%{x}<br>Volume USD=%{text}<extra></extra>\",\"legendgroup\":\"Flippies\",\"marker\":{\"color\":\"#00cc96\",\"pattern\":{\"shape\":\"\"}},\"name\":\"Flippies\",\"offsetgroup\":\"Flippies\",\"orientation\":\"v\",\"showlegend\":true,\"text\":[988420.1358],\"textposition\":\"outside\",\"x\":[\"Flippies\"],\"xaxis\":\"x\",\"y\":[988420.1358],\"yaxis\":\"y\",\"type\":\"bar\",\"texttemplate\":\"%{text:.3s}\"},{\"alignmentgroup\":\"True\",\"hovertemplate\":\"NFT Name=%{x}<br>Volume USD=%{text}<extra></extra>\",\"legendgroup\":\"Meerkat Millionaires Country Club\",\"marker\":{\"color\":\"#ab63fa\",\"pattern\":{\"shape\":\"\"}},\"name\":\"Meerkat Millionaires Country Club\",\"offsetgroup\":\"Meerkat Millionaires Country Club\",\"orientation\":\"v\",\"showlegend\":true,\"text\":[548337.4632],\"textposition\":\"outside\",\"x\":[\"Meerkat Millionaires Country Club\"],\"xaxis\":\"x\",\"y\":[548337.4632],\"yaxis\":\"y\",\"type\":\"bar\",\"texttemplate\":\"%{text:.3s}\"},{\"alignmentgroup\":\"True\",\"hovertemplate\":\"NFT Name=%{x}<br>Volume USD=%{text}<extra></extra>\",\"legendgroup\":\"Stylish Studs\",\"marker\":{\"color\":\"#FFA15A\",\"pattern\":{\"shape\":\"\"}},\"name\":\"Stylish Studs\",\"offsetgroup\":\"Stylish Studs\",\"orientation\":\"v\",\"showlegend\":true,\"text\":[468524.643],\"textposition\":\"outside\",\"x\":[\"Stylish Studs\"],\"xaxis\":\"x\",\"y\":[468524.643],\"yaxis\":\"y\",\"type\":\"bar\",\"texttemplate\":\"%{text:.3s}\"},{\"alignmentgroup\":\"True\",\"hovertemplate\":\"NFT Name=%{x}<br>Volume USD=%{text}<extra></extra>\",\"legendgroup\":\"I'M AIKO\",\"marker\":{\"color\":\"#19d3f3\",\"pattern\":{\"shape\":\"\"}},\"name\":\"I'M AIKO\",\"offsetgroup\":\"I'M AIKO\",\"orientation\":\"v\",\"showlegend\":true,\"text\":[426468.054],\"textposition\":\"outside\",\"x\":[\"I'M AIKO\"],\"xaxis\":\"x\",\"y\":[426468.054],\"yaxis\":\"y\",\"type\":\"bar\",\"texttemplate\":\"%{text:.3s}\"},{\"alignmentgroup\":\"True\",\"hovertemplate\":\"NFT Name=%{x}<br>Volume USD=%{text}<extra></extra>\",\"legendgroup\":\"Crypto Idolz\",\"marker\":{\"color\":\"#FF6692\",\"pattern\":{\"shape\":\"\"}},\"name\":\"Crypto Idolz\",\"offsetgroup\":\"Crypto Idolz\",\"orientation\":\"v\",\"showlegend\":true,\"text\":[339996.9468],\"textposition\":\"outside\",\"x\":[\"Crypto Idolz\"],\"xaxis\":\"x\",\"y\":[339996.9468],\"yaxis\":\"y\",\"type\":\"bar\",\"texttemplate\":\"%{text:.3s}\"},{\"alignmentgroup\":\"True\",\"hovertemplate\":\"NFT Name=%{x}<br>Volume USD=%{text}<extra></extra>\",\"legendgroup\":\"Megalodon Rogue Shark Tooth\",\"marker\":{\"color\":\"#B6E880\",\"pattern\":{\"shape\":\"\"}},\"name\":\"Megalodon Rogue Shark Tooth\",\"offsetgroup\":\"Megalodon Rogue Shark Tooth\",\"orientation\":\"v\",\"showlegend\":true,\"text\":[310760.6802],\"textposition\":\"outside\",\"x\":[\"Megalodon Rogue Shark Tooth\"],\"xaxis\":\"x\",\"y\":[310760.6802],\"yaxis\":\"y\",\"type\":\"bar\",\"texttemplate\":\"%{text:.3s}\"},{\"alignmentgroup\":\"True\",\"hovertemplate\":\"NFT Name=%{x}<br>Volume USD=%{text}<extra></extra>\",\"legendgroup\":\"CorruptCatz\",\"marker\":{\"color\":\"#FF97FF\",\"pattern\":{\"shape\":\"\"}},\"name\":\"CorruptCatz\",\"offsetgroup\":\"CorruptCatz\",\"orientation\":\"v\",\"showlegend\":true,\"text\":[291279.1344],\"textposition\":\"outside\",\"x\":[\"CorruptCatz\"],\"xaxis\":\"x\",\"y\":[291279.1344],\"yaxis\":\"y\",\"type\":\"bar\",\"texttemplate\":\"%{text:.3s}\"},{\"alignmentgroup\":\"True\",\"hovertemplate\":\"NFT Name=%{x}<br>Volume USD=%{text}<extra></extra>\",\"legendgroup\":\"Meta Waifus\",\"marker\":{\"color\":\"#FECB52\",\"pattern\":{\"shape\":\"\"}},\"name\":\"Meta Waifus\",\"offsetgroup\":\"Meta Waifus\",\"orientation\":\"v\",\"showlegend\":true,\"text\":[270822.7038],\"textposition\":\"outside\",\"x\":[\"Meta Waifus\"],\"xaxis\":\"x\",\"y\":[270822.7038],\"yaxis\":\"y\",\"type\":\"bar\",\"texttemplate\":\"%{text:.3s}\"}],                        {\"template\":{\"data\":{\"bar\":[{\"error_x\":{\"color\":\"#2a3f5f\"},\"error_y\":{\"color\":\"#2a3f5f\"},\"marker\":{\"line\":{\"color\":\"#E5ECF6\",\"width\":0.5},\"pattern\":{\"fillmode\":\"overlay\",\"size\":10,\"solidity\":0.2}},\"type\":\"bar\"}],\"barpolar\":[{\"marker\":{\"line\":{\"color\":\"#E5ECF6\",\"width\":0.5},\"pattern\":{\"fillmode\":\"overlay\",\"size\":10,\"solidity\":0.2}},\"type\":\"barpolar\"}],\"carpet\":[{\"aaxis\":{\"endlinecolor\":\"#2a3f5f\",\"gridcolor\":\"white\",\"linecolor\":\"white\",\"minorgridcolor\":\"white\",\"startlinecolor\":\"#2a3f5f\"},\"baxis\":{\"endlinecolor\":\"#2a3f5f\",\"gridcolor\":\"white\",\"linecolor\":\"white\",\"minorgridcolor\":\"white\",\"startlinecolor\":\"#2a3f5f\"},\"type\":\"carpet\"}],\"choropleth\":[{\"colorbar\":{\"outlinewidth\":0,\"ticks\":\"\"},\"type\":\"choropleth\"}],\"contour\":[{\"colorbar\":{\"outlinewidth\":0,\"ticks\":\"\"},\"colorscale\":[[0.0,\"#0d0887\"],[0.1111111111111111,\"#46039f\"],[0.2222222222222222,\"#7201a8\"],[0.3333333333333333,\"#9c179e\"],[0.4444444444444444,\"#bd3786\"],[0.5555555555555556,\"#d8576b\"],[0.6666666666666666,\"#ed7953\"],[0.7777777777777778,\"#fb9f3a\"],[0.8888888888888888,\"#fdca26\"],[1.0,\"#f0f921\"]],\"type\":\"contour\"}],\"contourcarpet\":[{\"colorbar\":{\"outlinewidth\":0,\"ticks\":\"\"},\"type\":\"contourcarpet\"}],\"heatmap\":[{\"colorbar\":{\"outlinewidth\":0,\"ticks\":\"\"},\"colorscale\":[[0.0,\"#0d0887\"],[0.1111111111111111,\"#46039f\"],[0.2222222222222222,\"#7201a8\"],[0.3333333333333333,\"#9c179e\"],[0.4444444444444444,\"#bd3786\"],[0.5555555555555556,\"#d8576b\"],[0.6666666666666666,\"#ed7953\"],[0.7777777777777778,\"#fb9f3a\"],[0.8888888888888888,\"#fdca26\"],[1.0,\"#f0f921\"]],\"type\":\"heatmap\"}],\"heatmapgl\":[{\"colorbar\":{\"outlinewidth\":0,\"ticks\":\"\"},\"colorscale\":[[0.0,\"#0d0887\"],[0.1111111111111111,\"#46039f\"],[0.2222222222222222,\"#7201a8\"],[0.3333333333333333,\"#9c179e\"],[0.4444444444444444,\"#bd3786\"],[0.5555555555555556,\"#d8576b\"],[0.6666666666666666,\"#ed7953\"],[0.7777777777777778,\"#fb9f3a\"],[0.8888888888888888,\"#fdca26\"],[1.0,\"#f0f921\"]],\"type\":\"heatmapgl\"}],\"histogram\":[{\"marker\":{\"pattern\":{\"fillmode\":\"overlay\",\"size\":10,\"solidity\":0.2}},\"type\":\"histogram\"}],\"histogram2d\":[{\"colorbar\":{\"outlinewidth\":0,\"ticks\":\"\"},\"colorscale\":[[0.0,\"#0d0887\"],[0.1111111111111111,\"#46039f\"],[0.2222222222222222,\"#7201a8\"],[0.3333333333333333,\"#9c179e\"],[0.4444444444444444,\"#bd3786\"],[0.5555555555555556,\"#d8576b\"],[0.6666666666666666,\"#ed7953\"],[0.7777777777777778,\"#fb9f3a\"],[0.8888888888888888,\"#fdca26\"],[1.0,\"#f0f921\"]],\"type\":\"histogram2d\"}],\"histogram2dcontour\":[{\"colorbar\":{\"outlinewidth\":0,\"ticks\":\"\"},\"colorscale\":[[0.0,\"#0d0887\"],[0.1111111111111111,\"#46039f\"],[0.2222222222222222,\"#7201a8\"],[0.3333333333333333,\"#9c179e\"],[0.4444444444444444,\"#bd3786\"],[0.5555555555555556,\"#d8576b\"],[0.6666666666666666,\"#ed7953\"],[0.7777777777777778,\"#fb9f3a\"],[0.8888888888888888,\"#fdca26\"],[1.0,\"#f0f921\"]],\"type\":\"histogram2dcontour\"}],\"mesh3d\":[{\"colorbar\":{\"outlinewidth\":0,\"ticks\":\"\"},\"type\":\"mesh3d\"}],\"parcoords\":[{\"line\":{\"colorbar\":{\"outlinewidth\":0,\"ticks\":\"\"}},\"type\":\"parcoords\"}],\"pie\":[{\"automargin\":true,\"type\":\"pie\"}],\"scatter\":[{\"marker\":{\"colorbar\":{\"outlinewidth\":0,\"ticks\":\"\"}},\"type\":\"scatter\"}],\"scatter3d\":[{\"line\":{\"colorbar\":{\"outlinewidth\":0,\"ticks\":\"\"}},\"marker\":{\"colorbar\":{\"outlinewidth\":0,\"ticks\":\"\"}},\"type\":\"scatter3d\"}],\"scattercarpet\":[{\"marker\":{\"colorbar\":{\"outlinewidth\":0,\"ticks\":\"\"}},\"type\":\"scattercarpet\"}],\"scattergeo\":[{\"marker\":{\"colorbar\":{\"outlinewidth\":0,\"ticks\":\"\"}},\"type\":\"scattergeo\"}],\"scattergl\":[{\"marker\":{\"colorbar\":{\"outlinewidth\":0,\"ticks\":\"\"}},\"type\":\"scattergl\"}],\"scattermapbox\":[{\"marker\":{\"colorbar\":{\"outlinewidth\":0,\"ticks\":\"\"}},\"type\":\"scattermapbox\"}],\"scatterpolar\":[{\"marker\":{\"colorbar\":{\"outlinewidth\":0,\"ticks\":\"\"}},\"type\":\"scatterpolar\"}],\"scatterpolargl\":[{\"marker\":{\"colorbar\":{\"outlinewidth\":0,\"ticks\":\"\"}},\"type\":\"scatterpolargl\"}],\"scatterternary\":[{\"marker\":{\"colorbar\":{\"outlinewidth\":0,\"ticks\":\"\"}},\"type\":\"scatterternary\"}],\"surface\":[{\"colorbar\":{\"outlinewidth\":0,\"ticks\":\"\"},\"colorscale\":[[0.0,\"#0d0887\"],[0.1111111111111111,\"#46039f\"],[0.2222222222222222,\"#7201a8\"],[0.3333333333333333,\"#9c179e\"],[0.4444444444444444,\"#bd3786\"],[0.5555555555555556,\"#d8576b\"],[0.6666666666666666,\"#ed7953\"],[0.7777777777777778,\"#fb9f3a\"],[0.8888888888888888,\"#fdca26\"],[1.0,\"#f0f921\"]],\"type\":\"surface\"}],\"table\":[{\"cells\":{\"fill\":{\"color\":\"#EBF0F8\"},\"line\":{\"color\":\"white\"}},\"header\":{\"fill\":{\"color\":\"#C8D4E3\"},\"line\":{\"color\":\"white\"}},\"type\":\"table\"}]},\"layout\":{\"annotationdefaults\":{\"arrowcolor\":\"#2a3f5f\",\"arrowhead\":0,\"arrowwidth\":1},\"autotypenumbers\":\"strict\",\"coloraxis\":{\"colorbar\":{\"outlinewidth\":0,\"ticks\":\"\"}},\"colorscale\":{\"diverging\":[[0,\"#8e0152\"],[0.1,\"#c51b7d\"],[0.2,\"#de77ae\"],[0.3,\"#f1b6da\"],[0.4,\"#fde0ef\"],[0.5,\"#f7f7f7\"],[0.6,\"#e6f5d0\"],[0.7,\"#b8e186\"],[0.8,\"#7fbc41\"],[0.9,\"#4d9221\"],[1,\"#276419\"]],\"sequential\":[[0.0,\"#0d0887\"],[0.1111111111111111,\"#46039f\"],[0.2222222222222222,\"#7201a8\"],[0.3333333333333333,\"#9c179e\"],[0.4444444444444444,\"#bd3786\"],[0.5555555555555556,\"#d8576b\"],[0.6666666666666666,\"#ed7953\"],[0.7777777777777778,\"#fb9f3a\"],[0.8888888888888888,\"#fdca26\"],[1.0,\"#f0f921\"]],\"sequentialminus\":[[0.0,\"#0d0887\"],[0.1111111111111111,\"#46039f\"],[0.2222222222222222,\"#7201a8\"],[0.3333333333333333,\"#9c179e\"],[0.4444444444444444,\"#bd3786\"],[0.5555555555555556,\"#d8576b\"],[0.6666666666666666,\"#ed7953\"],[0.7777777777777778,\"#fb9f3a\"],[0.8888888888888888,\"#fdca26\"],[1.0,\"#f0f921\"]]},\"colorway\":[\"#636efa\",\"#EF553B\",\"#00cc96\",\"#ab63fa\",\"#FFA15A\",\"#19d3f3\",\"#FF6692\",\"#B6E880\",\"#FF97FF\",\"#FECB52\"],\"font\":{\"color\":\"#2a3f5f\"},\"geo\":{\"bgcolor\":\"white\",\"lakecolor\":\"white\",\"landcolor\":\"#E5ECF6\",\"showlakes\":true,\"showland\":true,\"subunitcolor\":\"white\"},\"hoverlabel\":{\"align\":\"left\"},\"hovermode\":\"closest\",\"mapbox\":{\"style\":\"light\"},\"paper_bgcolor\":\"white\",\"plot_bgcolor\":\"#E5ECF6\",\"polar\":{\"angularaxis\":{\"gridcolor\":\"white\",\"linecolor\":\"white\",\"ticks\":\"\"},\"bgcolor\":\"#E5ECF6\",\"radialaxis\":{\"gridcolor\":\"white\",\"linecolor\":\"white\",\"ticks\":\"\"}},\"scene\":{\"xaxis\":{\"backgroundcolor\":\"#E5ECF6\",\"gridcolor\":\"white\",\"gridwidth\":2,\"linecolor\":\"white\",\"showbackground\":true,\"ticks\":\"\",\"zerolinecolor\":\"white\"},\"yaxis\":{\"backgroundcolor\":\"#E5ECF6\",\"gridcolor\":\"white\",\"gridwidth\":2,\"linecolor\":\"white\",\"showbackground\":true,\"ticks\":\"\",\"zerolinecolor\":\"white\"},\"zaxis\":{\"backgroundcolor\":\"#E5ECF6\",\"gridcolor\":\"white\",\"gridwidth\":2,\"linecolor\":\"white\",\"showbackground\":true,\"ticks\":\"\",\"zerolinecolor\":\"white\"}},\"shapedefaults\":{\"line\":{\"color\":\"#2a3f5f\"}},\"ternary\":{\"aaxis\":{\"gridcolor\":\"white\",\"linecolor\":\"white\",\"ticks\":\"\"},\"baxis\":{\"gridcolor\":\"white\",\"linecolor\":\"white\",\"ticks\":\"\"},\"bgcolor\":\"#E5ECF6\",\"caxis\":{\"gridcolor\":\"white\",\"linecolor\":\"white\",\"ticks\":\"\"}},\"title\":{\"x\":0.05},\"xaxis\":{\"automargin\":true,\"gridcolor\":\"white\",\"linecolor\":\"white\",\"ticks\":\"\",\"title\":{\"standoff\":15},\"zerolinecolor\":\"white\",\"zerolinewidth\":2},\"yaxis\":{\"automargin\":true,\"gridcolor\":\"white\",\"linecolor\":\"white\",\"ticks\":\"\",\"title\":{\"standoff\":15},\"zerolinecolor\":\"white\",\"zerolinewidth\":2}}},\"xaxis\":{\"anchor\":\"y\",\"domain\":[0.0,1.0],\"title\":{\"text\":\"NFT Name\"},\"categoryorder\":\"array\",\"categoryarray\":[\"basis.markets\",\"Skeleton Crew Skulls\",\"Flippies\",\"Meerkat Millionaires Country Club\",\"Stylish Studs\",\"I'M AIKO\",\"Crypto Idolz\",\"Megalodon Rogue Shark Tooth\",\"CorruptCatz\",\"Meta Waifus\"],\"tickangle\":-45},\"yaxis\":{\"anchor\":\"x\",\"domain\":[0.0,1.0],\"title\":{\"text\":\"Volume USD\"},\"range\":[0,4500000]},\"legend\":{\"title\":{\"text\":\"NFT Name\"},\"tracegroupgap\":0},\"title\":{\"text\":\"Comparison of Volume USD of Top 10 NFT on the market\"},\"barmode\":\"relative\",\"uniformtext\":{\"minsize\":9}},                        {\"responsive\": true}                    ).then(function(){\n",
       "                            \n",
       "var gd = document.getElementById('144fa0ae-7edc-46d1-b31f-d7130cc62695');\n",
       "var x = new MutationObserver(function (mutations, observer) {{\n",
       "        var display = window.getComputedStyle(gd).display;\n",
       "        if (!display || display === 'none') {{\n",
       "            console.log([gd, 'removed!']);\n",
       "            Plotly.purge(gd);\n",
       "            observer.disconnect();\n",
       "        }}\n",
       "}});\n",
       "\n",
       "// Listen for the removal of the full notebook cells\n",
       "var notebookContainer = gd.closest('#notebook-container');\n",
       "if (notebookContainer) {{\n",
       "    x.observe(notebookContainer, {childList: true});\n",
       "}}\n",
       "\n",
       "// Listen for the clearing of the current output cell\n",
       "var outputEl = gd.closest('.output');\n",
       "if (outputEl) {{\n",
       "    x.observe(outputEl, {childList: true});\n",
       "}}\n",
       "\n",
       "                        })                };                });            </script>        </div>"
      ]
     },
     "metadata": {},
     "output_type": "display_data"
    }
   ],
   "source": [
    "fig = px.bar(df_top10, \n",
    "             x = 'Name',\n",
    "             y = 'Volume_USD',\n",
    "             text = 'Volume_USD',\n",
    "             color = 'Name',\n",
    "             title = 'Comparison of Volume USD of Top 10 NFT on the market',\n",
    "             labels = {'Volume_USD' : 'Volume USD', 'Name' : 'NFT Name'})\n",
    "fig.update_traces(texttemplate = '%{text:.3s}', textposition = 'outside')\n",
    "fig.update_layout(uniformtext_minsize = 9)\n",
    "fig.update_layout(xaxis_tickangle =-45)\n",
    "fig.update_layout(yaxis_range = [0,4500000])\n",
    "\n",
    "fig"
   ]
  },
  {
   "cell_type": "code",
   "execution_count": 35,
   "metadata": {},
   "outputs": [
    {
     "data": {
      "application/vnd.plotly.v1+json": {
       "config": {
        "plotlyServerURL": "https://plot.ly"
       },
       "data": [
        {
         "alignmentgroup": "True",
         "hovertemplate": "NFT Name=%{x}<br>Market Cap=%{text}<extra></extra>",
         "legendgroup": "basis.markets",
         "marker": {
          "color": "#636efa",
          "pattern": {
           "shape": ""
          }
         },
         "name": "basis.markets",
         "offsetgroup": "basis.markets",
         "orientation": "v",
         "showlegend": true,
         "text": [
          708.1454545
         ],
         "textposition": "outside",
         "texttemplate": "%{text:.3s}",
         "type": "bar",
         "x": [
          "basis.markets"
         ],
         "xaxis": "x",
         "y": [
          708.1454545
         ],
         "yaxis": "y"
        },
        {
         "alignmentgroup": "True",
         "hovertemplate": "NFT Name=%{x}<br>Market Cap=%{text}<extra></extra>",
         "legendgroup": "Skeleton Crew Skulls",
         "marker": {
          "color": "#EF553B",
          "pattern": {
           "shape": ""
          }
         },
         "name": "Skeleton Crew Skulls",
         "offsetgroup": "Skeleton Crew Skulls",
         "orientation": "v",
         "showlegend": true,
         "text": [
          106.656
         ],
         "textposition": "outside",
         "texttemplate": "%{text:.3s}",
         "type": "bar",
         "x": [
          "Skeleton Crew Skulls"
         ],
         "xaxis": "x",
         "y": [
          106.656
         ],
         "yaxis": "y"
        },
        {
         "alignmentgroup": "True",
         "hovertemplate": "NFT Name=%{x}<br>Market Cap=%{text}<extra></extra>",
         "legendgroup": "Flippies",
         "marker": {
          "color": "#00cc96",
          "pattern": {
           "shape": ""
          }
         },
         "name": "Flippies",
         "offsetgroup": "Flippies",
         "orientation": "v",
         "showlegend": true,
         "text": [
          1663.863158
         ],
         "textposition": "outside",
         "texttemplate": "%{text:.3s}",
         "type": "bar",
         "x": [
          "Flippies"
         ],
         "xaxis": "x",
         "y": [
          1663.863158
         ],
         "yaxis": "y"
        },
        {
         "alignmentgroup": "True",
         "hovertemplate": "NFT Name=%{x}<br>Market Cap=%{text}<extra></extra>",
         "legendgroup": "Meerkat Millionaires Country Club",
         "marker": {
          "color": "#ab63fa",
          "pattern": {
           "shape": ""
          }
         },
         "name": "Meerkat Millionaires Country Club",
         "offsetgroup": "Meerkat Millionaires Country Club",
         "orientation": "v",
         "showlegend": true,
         "text": [
          90.275
         ],
         "textposition": "outside",
         "texttemplate": "%{text:.3s}",
         "type": "bar",
         "x": [
          "Meerkat Millionaires Country Club"
         ],
         "xaxis": "x",
         "y": [
          90.275
         ],
         "yaxis": "y"
        },
        {
         "alignmentgroup": "True",
         "hovertemplate": "NFT Name=%{x}<br>Market Cap=%{text}<extra></extra>",
         "legendgroup": "Stylish Studs",
         "marker": {
          "color": "#FFA15A",
          "pattern": {
           "shape": ""
          }
         },
         "name": "Stylish Studs",
         "offsetgroup": "Stylish Studs",
         "orientation": "v",
         "showlegend": true,
         "text": [
          165
         ],
         "textposition": "outside",
         "texttemplate": "%{text:.3s}",
         "type": "bar",
         "x": [
          "Stylish Studs"
         ],
         "xaxis": "x",
         "y": [
          165
         ],
         "yaxis": "y"
        },
        {
         "alignmentgroup": "True",
         "hovertemplate": "NFT Name=%{x}<br>Market Cap=%{text}<extra></extra>",
         "legendgroup": "I'M AIKO",
         "marker": {
          "color": "#19d3f3",
          "pattern": {
           "shape": ""
          }
         },
         "name": "I'M AIKO",
         "offsetgroup": "I'M AIKO",
         "orientation": "v",
         "showlegend": true,
         "text": [
          2530.877143
         ],
         "textposition": "outside",
         "texttemplate": "%{text:.3s}",
         "type": "bar",
         "x": [
          "I'M AIKO"
         ],
         "xaxis": "x",
         "y": [
          2530.877143
         ],
         "yaxis": "y"
        },
        {
         "alignmentgroup": "True",
         "hovertemplate": "NFT Name=%{x}<br>Market Cap=%{text}<extra></extra>",
         "legendgroup": "Crypto Idolz",
         "marker": {
          "color": "#FF6692",
          "pattern": {
           "shape": ""
          }
         },
         "name": "Crypto Idolz",
         "offsetgroup": "Crypto Idolz",
         "orientation": "v",
         "showlegend": true,
         "text": [
          1168.041981
         ],
         "textposition": "outside",
         "texttemplate": "%{text:.3s}",
         "type": "bar",
         "x": [
          "Crypto Idolz"
         ],
         "xaxis": "x",
         "y": [
          1168.041981
         ],
         "yaxis": "y"
        },
        {
         "alignmentgroup": "True",
         "hovertemplate": "NFT Name=%{x}<br>Market Cap=%{text}<extra></extra>",
         "legendgroup": "Megalodon Rogue Shark Tooth",
         "marker": {
          "color": "#B6E880",
          "pattern": {
           "shape": ""
          }
         },
         "name": "Megalodon Rogue Shark Tooth",
         "offsetgroup": "Megalodon Rogue Shark Tooth",
         "orientation": "v",
         "showlegend": true,
         "text": [
          60.050375
         ],
         "textposition": "outside",
         "texttemplate": "%{text:.3s}",
         "type": "bar",
         "x": [
          "Megalodon Rogue Shark Tooth"
         ],
         "xaxis": "x",
         "y": [
          60.050375
         ],
         "yaxis": "y"
        },
        {
         "alignmentgroup": "True",
         "hovertemplate": "NFT Name=%{x}<br>Market Cap=%{text}<extra></extra>",
         "legendgroup": "CorruptCatz",
         "marker": {
          "color": "#FF97FF",
          "pattern": {
           "shape": ""
          }
         },
         "name": "CorruptCatz",
         "offsetgroup": "CorruptCatz",
         "orientation": "v",
         "showlegend": true,
         "text": [
          345.79
         ],
         "textposition": "outside",
         "texttemplate": "%{text:.3s}",
         "type": "bar",
         "x": [
          "CorruptCatz"
         ],
         "xaxis": "x",
         "y": [
          345.79
         ],
         "yaxis": "y"
        },
        {
         "alignmentgroup": "True",
         "hovertemplate": "NFT Name=%{x}<br>Market Cap=%{text}<extra></extra>",
         "legendgroup": "Meta Waifus",
         "marker": {
          "color": "#FECB52",
          "pattern": {
           "shape": ""
          }
         },
         "name": "Meta Waifus",
         "offsetgroup": "Meta Waifus",
         "orientation": "v",
         "showlegend": true,
         "text": [
          989.4912667
         ],
         "textposition": "outside",
         "texttemplate": "%{text:.3s}",
         "type": "bar",
         "x": [
          "Meta Waifus"
         ],
         "xaxis": "x",
         "y": [
          989.4912667
         ],
         "yaxis": "y"
        }
       ],
       "layout": {
        "barmode": "relative",
        "legend": {
         "title": {
          "text": "NFT Name"
         },
         "tracegroupgap": 0
        },
        "template": {
         "data": {
          "bar": [
           {
            "error_x": {
             "color": "#2a3f5f"
            },
            "error_y": {
             "color": "#2a3f5f"
            },
            "marker": {
             "line": {
              "color": "#E5ECF6",
              "width": 0.5
             },
             "pattern": {
              "fillmode": "overlay",
              "size": 10,
              "solidity": 0.2
             }
            },
            "type": "bar"
           }
          ],
          "barpolar": [
           {
            "marker": {
             "line": {
              "color": "#E5ECF6",
              "width": 0.5
             },
             "pattern": {
              "fillmode": "overlay",
              "size": 10,
              "solidity": 0.2
             }
            },
            "type": "barpolar"
           }
          ],
          "carpet": [
           {
            "aaxis": {
             "endlinecolor": "#2a3f5f",
             "gridcolor": "white",
             "linecolor": "white",
             "minorgridcolor": "white",
             "startlinecolor": "#2a3f5f"
            },
            "baxis": {
             "endlinecolor": "#2a3f5f",
             "gridcolor": "white",
             "linecolor": "white",
             "minorgridcolor": "white",
             "startlinecolor": "#2a3f5f"
            },
            "type": "carpet"
           }
          ],
          "choropleth": [
           {
            "colorbar": {
             "outlinewidth": 0,
             "ticks": ""
            },
            "type": "choropleth"
           }
          ],
          "contour": [
           {
            "colorbar": {
             "outlinewidth": 0,
             "ticks": ""
            },
            "colorscale": [
             [
              0,
              "#0d0887"
             ],
             [
              0.1111111111111111,
              "#46039f"
             ],
             [
              0.2222222222222222,
              "#7201a8"
             ],
             [
              0.3333333333333333,
              "#9c179e"
             ],
             [
              0.4444444444444444,
              "#bd3786"
             ],
             [
              0.5555555555555556,
              "#d8576b"
             ],
             [
              0.6666666666666666,
              "#ed7953"
             ],
             [
              0.7777777777777778,
              "#fb9f3a"
             ],
             [
              0.8888888888888888,
              "#fdca26"
             ],
             [
              1,
              "#f0f921"
             ]
            ],
            "type": "contour"
           }
          ],
          "contourcarpet": [
           {
            "colorbar": {
             "outlinewidth": 0,
             "ticks": ""
            },
            "type": "contourcarpet"
           }
          ],
          "heatmap": [
           {
            "colorbar": {
             "outlinewidth": 0,
             "ticks": ""
            },
            "colorscale": [
             [
              0,
              "#0d0887"
             ],
             [
              0.1111111111111111,
              "#46039f"
             ],
             [
              0.2222222222222222,
              "#7201a8"
             ],
             [
              0.3333333333333333,
              "#9c179e"
             ],
             [
              0.4444444444444444,
              "#bd3786"
             ],
             [
              0.5555555555555556,
              "#d8576b"
             ],
             [
              0.6666666666666666,
              "#ed7953"
             ],
             [
              0.7777777777777778,
              "#fb9f3a"
             ],
             [
              0.8888888888888888,
              "#fdca26"
             ],
             [
              1,
              "#f0f921"
             ]
            ],
            "type": "heatmap"
           }
          ],
          "heatmapgl": [
           {
            "colorbar": {
             "outlinewidth": 0,
             "ticks": ""
            },
            "colorscale": [
             [
              0,
              "#0d0887"
             ],
             [
              0.1111111111111111,
              "#46039f"
             ],
             [
              0.2222222222222222,
              "#7201a8"
             ],
             [
              0.3333333333333333,
              "#9c179e"
             ],
             [
              0.4444444444444444,
              "#bd3786"
             ],
             [
              0.5555555555555556,
              "#d8576b"
             ],
             [
              0.6666666666666666,
              "#ed7953"
             ],
             [
              0.7777777777777778,
              "#fb9f3a"
             ],
             [
              0.8888888888888888,
              "#fdca26"
             ],
             [
              1,
              "#f0f921"
             ]
            ],
            "type": "heatmapgl"
           }
          ],
          "histogram": [
           {
            "marker": {
             "pattern": {
              "fillmode": "overlay",
              "size": 10,
              "solidity": 0.2
             }
            },
            "type": "histogram"
           }
          ],
          "histogram2d": [
           {
            "colorbar": {
             "outlinewidth": 0,
             "ticks": ""
            },
            "colorscale": [
             [
              0,
              "#0d0887"
             ],
             [
              0.1111111111111111,
              "#46039f"
             ],
             [
              0.2222222222222222,
              "#7201a8"
             ],
             [
              0.3333333333333333,
              "#9c179e"
             ],
             [
              0.4444444444444444,
              "#bd3786"
             ],
             [
              0.5555555555555556,
              "#d8576b"
             ],
             [
              0.6666666666666666,
              "#ed7953"
             ],
             [
              0.7777777777777778,
              "#fb9f3a"
             ],
             [
              0.8888888888888888,
              "#fdca26"
             ],
             [
              1,
              "#f0f921"
             ]
            ],
            "type": "histogram2d"
           }
          ],
          "histogram2dcontour": [
           {
            "colorbar": {
             "outlinewidth": 0,
             "ticks": ""
            },
            "colorscale": [
             [
              0,
              "#0d0887"
             ],
             [
              0.1111111111111111,
              "#46039f"
             ],
             [
              0.2222222222222222,
              "#7201a8"
             ],
             [
              0.3333333333333333,
              "#9c179e"
             ],
             [
              0.4444444444444444,
              "#bd3786"
             ],
             [
              0.5555555555555556,
              "#d8576b"
             ],
             [
              0.6666666666666666,
              "#ed7953"
             ],
             [
              0.7777777777777778,
              "#fb9f3a"
             ],
             [
              0.8888888888888888,
              "#fdca26"
             ],
             [
              1,
              "#f0f921"
             ]
            ],
            "type": "histogram2dcontour"
           }
          ],
          "mesh3d": [
           {
            "colorbar": {
             "outlinewidth": 0,
             "ticks": ""
            },
            "type": "mesh3d"
           }
          ],
          "parcoords": [
           {
            "line": {
             "colorbar": {
              "outlinewidth": 0,
              "ticks": ""
             }
            },
            "type": "parcoords"
           }
          ],
          "pie": [
           {
            "automargin": true,
            "type": "pie"
           }
          ],
          "scatter": [
           {
            "marker": {
             "colorbar": {
              "outlinewidth": 0,
              "ticks": ""
             }
            },
            "type": "scatter"
           }
          ],
          "scatter3d": [
           {
            "line": {
             "colorbar": {
              "outlinewidth": 0,
              "ticks": ""
             }
            },
            "marker": {
             "colorbar": {
              "outlinewidth": 0,
              "ticks": ""
             }
            },
            "type": "scatter3d"
           }
          ],
          "scattercarpet": [
           {
            "marker": {
             "colorbar": {
              "outlinewidth": 0,
              "ticks": ""
             }
            },
            "type": "scattercarpet"
           }
          ],
          "scattergeo": [
           {
            "marker": {
             "colorbar": {
              "outlinewidth": 0,
              "ticks": ""
             }
            },
            "type": "scattergeo"
           }
          ],
          "scattergl": [
           {
            "marker": {
             "colorbar": {
              "outlinewidth": 0,
              "ticks": ""
             }
            },
            "type": "scattergl"
           }
          ],
          "scattermapbox": [
           {
            "marker": {
             "colorbar": {
              "outlinewidth": 0,
              "ticks": ""
             }
            },
            "type": "scattermapbox"
           }
          ],
          "scatterpolar": [
           {
            "marker": {
             "colorbar": {
              "outlinewidth": 0,
              "ticks": ""
             }
            },
            "type": "scatterpolar"
           }
          ],
          "scatterpolargl": [
           {
            "marker": {
             "colorbar": {
              "outlinewidth": 0,
              "ticks": ""
             }
            },
            "type": "scatterpolargl"
           }
          ],
          "scatterternary": [
           {
            "marker": {
             "colorbar": {
              "outlinewidth": 0,
              "ticks": ""
             }
            },
            "type": "scatterternary"
           }
          ],
          "surface": [
           {
            "colorbar": {
             "outlinewidth": 0,
             "ticks": ""
            },
            "colorscale": [
             [
              0,
              "#0d0887"
             ],
             [
              0.1111111111111111,
              "#46039f"
             ],
             [
              0.2222222222222222,
              "#7201a8"
             ],
             [
              0.3333333333333333,
              "#9c179e"
             ],
             [
              0.4444444444444444,
              "#bd3786"
             ],
             [
              0.5555555555555556,
              "#d8576b"
             ],
             [
              0.6666666666666666,
              "#ed7953"
             ],
             [
              0.7777777777777778,
              "#fb9f3a"
             ],
             [
              0.8888888888888888,
              "#fdca26"
             ],
             [
              1,
              "#f0f921"
             ]
            ],
            "type": "surface"
           }
          ],
          "table": [
           {
            "cells": {
             "fill": {
              "color": "#EBF0F8"
             },
             "line": {
              "color": "white"
             }
            },
            "header": {
             "fill": {
              "color": "#C8D4E3"
             },
             "line": {
              "color": "white"
             }
            },
            "type": "table"
           }
          ]
         },
         "layout": {
          "annotationdefaults": {
           "arrowcolor": "#2a3f5f",
           "arrowhead": 0,
           "arrowwidth": 1
          },
          "autotypenumbers": "strict",
          "coloraxis": {
           "colorbar": {
            "outlinewidth": 0,
            "ticks": ""
           }
          },
          "colorscale": {
           "diverging": [
            [
             0,
             "#8e0152"
            ],
            [
             0.1,
             "#c51b7d"
            ],
            [
             0.2,
             "#de77ae"
            ],
            [
             0.3,
             "#f1b6da"
            ],
            [
             0.4,
             "#fde0ef"
            ],
            [
             0.5,
             "#f7f7f7"
            ],
            [
             0.6,
             "#e6f5d0"
            ],
            [
             0.7,
             "#b8e186"
            ],
            [
             0.8,
             "#7fbc41"
            ],
            [
             0.9,
             "#4d9221"
            ],
            [
             1,
             "#276419"
            ]
           ],
           "sequential": [
            [
             0,
             "#0d0887"
            ],
            [
             0.1111111111111111,
             "#46039f"
            ],
            [
             0.2222222222222222,
             "#7201a8"
            ],
            [
             0.3333333333333333,
             "#9c179e"
            ],
            [
             0.4444444444444444,
             "#bd3786"
            ],
            [
             0.5555555555555556,
             "#d8576b"
            ],
            [
             0.6666666666666666,
             "#ed7953"
            ],
            [
             0.7777777777777778,
             "#fb9f3a"
            ],
            [
             0.8888888888888888,
             "#fdca26"
            ],
            [
             1,
             "#f0f921"
            ]
           ],
           "sequentialminus": [
            [
             0,
             "#0d0887"
            ],
            [
             0.1111111111111111,
             "#46039f"
            ],
            [
             0.2222222222222222,
             "#7201a8"
            ],
            [
             0.3333333333333333,
             "#9c179e"
            ],
            [
             0.4444444444444444,
             "#bd3786"
            ],
            [
             0.5555555555555556,
             "#d8576b"
            ],
            [
             0.6666666666666666,
             "#ed7953"
            ],
            [
             0.7777777777777778,
             "#fb9f3a"
            ],
            [
             0.8888888888888888,
             "#fdca26"
            ],
            [
             1,
             "#f0f921"
            ]
           ]
          },
          "colorway": [
           "#636efa",
           "#EF553B",
           "#00cc96",
           "#ab63fa",
           "#FFA15A",
           "#19d3f3",
           "#FF6692",
           "#B6E880",
           "#FF97FF",
           "#FECB52"
          ],
          "font": {
           "color": "#2a3f5f"
          },
          "geo": {
           "bgcolor": "white",
           "lakecolor": "white",
           "landcolor": "#E5ECF6",
           "showlakes": true,
           "showland": true,
           "subunitcolor": "white"
          },
          "hoverlabel": {
           "align": "left"
          },
          "hovermode": "closest",
          "mapbox": {
           "style": "light"
          },
          "paper_bgcolor": "white",
          "plot_bgcolor": "#E5ECF6",
          "polar": {
           "angularaxis": {
            "gridcolor": "white",
            "linecolor": "white",
            "ticks": ""
           },
           "bgcolor": "#E5ECF6",
           "radialaxis": {
            "gridcolor": "white",
            "linecolor": "white",
            "ticks": ""
           }
          },
          "scene": {
           "xaxis": {
            "backgroundcolor": "#E5ECF6",
            "gridcolor": "white",
            "gridwidth": 2,
            "linecolor": "white",
            "showbackground": true,
            "ticks": "",
            "zerolinecolor": "white"
           },
           "yaxis": {
            "backgroundcolor": "#E5ECF6",
            "gridcolor": "white",
            "gridwidth": 2,
            "linecolor": "white",
            "showbackground": true,
            "ticks": "",
            "zerolinecolor": "white"
           },
           "zaxis": {
            "backgroundcolor": "#E5ECF6",
            "gridcolor": "white",
            "gridwidth": 2,
            "linecolor": "white",
            "showbackground": true,
            "ticks": "",
            "zerolinecolor": "white"
           }
          },
          "shapedefaults": {
           "line": {
            "color": "#2a3f5f"
           }
          },
          "ternary": {
           "aaxis": {
            "gridcolor": "white",
            "linecolor": "white",
            "ticks": ""
           },
           "baxis": {
            "gridcolor": "white",
            "linecolor": "white",
            "ticks": ""
           },
           "bgcolor": "#E5ECF6",
           "caxis": {
            "gridcolor": "white",
            "linecolor": "white",
            "ticks": ""
           }
          },
          "title": {
           "x": 0.05
          },
          "xaxis": {
           "automargin": true,
           "gridcolor": "white",
           "linecolor": "white",
           "ticks": "",
           "title": {
            "standoff": 15
           },
           "zerolinecolor": "white",
           "zerolinewidth": 2
          },
          "yaxis": {
           "automargin": true,
           "gridcolor": "white",
           "linecolor": "white",
           "ticks": "",
           "title": {
            "standoff": 15
           },
           "zerolinecolor": "white",
           "zerolinewidth": 2
          }
         }
        },
        "title": {
         "text": "Comparison of Market Cap of Top 10 NFT on the market"
        },
        "uniformtext": {
         "minsize": 9
        },
        "xaxis": {
         "anchor": "y",
         "categoryarray": [
          "basis.markets",
          "Skeleton Crew Skulls",
          "Flippies",
          "Meerkat Millionaires Country Club",
          "Stylish Studs",
          "I'M AIKO",
          "Crypto Idolz",
          "Megalodon Rogue Shark Tooth",
          "CorruptCatz",
          "Meta Waifus"
         ],
         "categoryorder": "array",
         "domain": [
          0,
          1
         ],
         "tickangle": -45,
         "title": {
          "text": "NFT Name"
         }
        },
        "yaxis": {
         "anchor": "x",
         "domain": [
          0,
          1
         ],
         "range": [
          0,
          3500
         ],
         "title": {
          "text": "Market Cap"
         }
        }
       }
      },
      "text/html": [
       "<div>                            <div id=\"c5f36af6-b202-4973-b559-4620103af09f\" class=\"plotly-graph-div\" style=\"height:525px; width:100%;\"></div>            <script type=\"text/javascript\">                require([\"plotly\"], function(Plotly) {                    window.PLOTLYENV=window.PLOTLYENV || {};                                    if (document.getElementById(\"c5f36af6-b202-4973-b559-4620103af09f\")) {                    Plotly.newPlot(                        \"c5f36af6-b202-4973-b559-4620103af09f\",                        [{\"alignmentgroup\":\"True\",\"hovertemplate\":\"NFT Name=%{x}<br>Market Cap=%{text}<extra></extra>\",\"legendgroup\":\"basis.markets\",\"marker\":{\"color\":\"#636efa\",\"pattern\":{\"shape\":\"\"}},\"name\":\"basis.markets\",\"offsetgroup\":\"basis.markets\",\"orientation\":\"v\",\"showlegend\":true,\"text\":[708.1454545],\"textposition\":\"outside\",\"x\":[\"basis.markets\"],\"xaxis\":\"x\",\"y\":[708.1454545],\"yaxis\":\"y\",\"type\":\"bar\",\"texttemplate\":\"%{text:.3s}\"},{\"alignmentgroup\":\"True\",\"hovertemplate\":\"NFT Name=%{x}<br>Market Cap=%{text}<extra></extra>\",\"legendgroup\":\"Skeleton Crew Skulls\",\"marker\":{\"color\":\"#EF553B\",\"pattern\":{\"shape\":\"\"}},\"name\":\"Skeleton Crew Skulls\",\"offsetgroup\":\"Skeleton Crew Skulls\",\"orientation\":\"v\",\"showlegend\":true,\"text\":[106.656],\"textposition\":\"outside\",\"x\":[\"Skeleton Crew Skulls\"],\"xaxis\":\"x\",\"y\":[106.656],\"yaxis\":\"y\",\"type\":\"bar\",\"texttemplate\":\"%{text:.3s}\"},{\"alignmentgroup\":\"True\",\"hovertemplate\":\"NFT Name=%{x}<br>Market Cap=%{text}<extra></extra>\",\"legendgroup\":\"Flippies\",\"marker\":{\"color\":\"#00cc96\",\"pattern\":{\"shape\":\"\"}},\"name\":\"Flippies\",\"offsetgroup\":\"Flippies\",\"orientation\":\"v\",\"showlegend\":true,\"text\":[1663.863158],\"textposition\":\"outside\",\"x\":[\"Flippies\"],\"xaxis\":\"x\",\"y\":[1663.863158],\"yaxis\":\"y\",\"type\":\"bar\",\"texttemplate\":\"%{text:.3s}\"},{\"alignmentgroup\":\"True\",\"hovertemplate\":\"NFT Name=%{x}<br>Market Cap=%{text}<extra></extra>\",\"legendgroup\":\"Meerkat Millionaires Country Club\",\"marker\":{\"color\":\"#ab63fa\",\"pattern\":{\"shape\":\"\"}},\"name\":\"Meerkat Millionaires Country Club\",\"offsetgroup\":\"Meerkat Millionaires Country Club\",\"orientation\":\"v\",\"showlegend\":true,\"text\":[90.275],\"textposition\":\"outside\",\"x\":[\"Meerkat Millionaires Country Club\"],\"xaxis\":\"x\",\"y\":[90.275],\"yaxis\":\"y\",\"type\":\"bar\",\"texttemplate\":\"%{text:.3s}\"},{\"alignmentgroup\":\"True\",\"hovertemplate\":\"NFT Name=%{x}<br>Market Cap=%{text}<extra></extra>\",\"legendgroup\":\"Stylish Studs\",\"marker\":{\"color\":\"#FFA15A\",\"pattern\":{\"shape\":\"\"}},\"name\":\"Stylish Studs\",\"offsetgroup\":\"Stylish Studs\",\"orientation\":\"v\",\"showlegend\":true,\"text\":[165.0],\"textposition\":\"outside\",\"x\":[\"Stylish Studs\"],\"xaxis\":\"x\",\"y\":[165.0],\"yaxis\":\"y\",\"type\":\"bar\",\"texttemplate\":\"%{text:.3s}\"},{\"alignmentgroup\":\"True\",\"hovertemplate\":\"NFT Name=%{x}<br>Market Cap=%{text}<extra></extra>\",\"legendgroup\":\"I'M AIKO\",\"marker\":{\"color\":\"#19d3f3\",\"pattern\":{\"shape\":\"\"}},\"name\":\"I'M AIKO\",\"offsetgroup\":\"I'M AIKO\",\"orientation\":\"v\",\"showlegend\":true,\"text\":[2530.877143],\"textposition\":\"outside\",\"x\":[\"I'M AIKO\"],\"xaxis\":\"x\",\"y\":[2530.877143],\"yaxis\":\"y\",\"type\":\"bar\",\"texttemplate\":\"%{text:.3s}\"},{\"alignmentgroup\":\"True\",\"hovertemplate\":\"NFT Name=%{x}<br>Market Cap=%{text}<extra></extra>\",\"legendgroup\":\"Crypto Idolz\",\"marker\":{\"color\":\"#FF6692\",\"pattern\":{\"shape\":\"\"}},\"name\":\"Crypto Idolz\",\"offsetgroup\":\"Crypto Idolz\",\"orientation\":\"v\",\"showlegend\":true,\"text\":[1168.041981],\"textposition\":\"outside\",\"x\":[\"Crypto Idolz\"],\"xaxis\":\"x\",\"y\":[1168.041981],\"yaxis\":\"y\",\"type\":\"bar\",\"texttemplate\":\"%{text:.3s}\"},{\"alignmentgroup\":\"True\",\"hovertemplate\":\"NFT Name=%{x}<br>Market Cap=%{text}<extra></extra>\",\"legendgroup\":\"Megalodon Rogue Shark Tooth\",\"marker\":{\"color\":\"#B6E880\",\"pattern\":{\"shape\":\"\"}},\"name\":\"Megalodon Rogue Shark Tooth\",\"offsetgroup\":\"Megalodon Rogue Shark Tooth\",\"orientation\":\"v\",\"showlegend\":true,\"text\":[60.050375],\"textposition\":\"outside\",\"x\":[\"Megalodon Rogue Shark Tooth\"],\"xaxis\":\"x\",\"y\":[60.050375],\"yaxis\":\"y\",\"type\":\"bar\",\"texttemplate\":\"%{text:.3s}\"},{\"alignmentgroup\":\"True\",\"hovertemplate\":\"NFT Name=%{x}<br>Market Cap=%{text}<extra></extra>\",\"legendgroup\":\"CorruptCatz\",\"marker\":{\"color\":\"#FF97FF\",\"pattern\":{\"shape\":\"\"}},\"name\":\"CorruptCatz\",\"offsetgroup\":\"CorruptCatz\",\"orientation\":\"v\",\"showlegend\":true,\"text\":[345.79],\"textposition\":\"outside\",\"x\":[\"CorruptCatz\"],\"xaxis\":\"x\",\"y\":[345.79],\"yaxis\":\"y\",\"type\":\"bar\",\"texttemplate\":\"%{text:.3s}\"},{\"alignmentgroup\":\"True\",\"hovertemplate\":\"NFT Name=%{x}<br>Market Cap=%{text}<extra></extra>\",\"legendgroup\":\"Meta Waifus\",\"marker\":{\"color\":\"#FECB52\",\"pattern\":{\"shape\":\"\"}},\"name\":\"Meta Waifus\",\"offsetgroup\":\"Meta Waifus\",\"orientation\":\"v\",\"showlegend\":true,\"text\":[989.4912667],\"textposition\":\"outside\",\"x\":[\"Meta Waifus\"],\"xaxis\":\"x\",\"y\":[989.4912667],\"yaxis\":\"y\",\"type\":\"bar\",\"texttemplate\":\"%{text:.3s}\"}],                        {\"template\":{\"data\":{\"bar\":[{\"error_x\":{\"color\":\"#2a3f5f\"},\"error_y\":{\"color\":\"#2a3f5f\"},\"marker\":{\"line\":{\"color\":\"#E5ECF6\",\"width\":0.5},\"pattern\":{\"fillmode\":\"overlay\",\"size\":10,\"solidity\":0.2}},\"type\":\"bar\"}],\"barpolar\":[{\"marker\":{\"line\":{\"color\":\"#E5ECF6\",\"width\":0.5},\"pattern\":{\"fillmode\":\"overlay\",\"size\":10,\"solidity\":0.2}},\"type\":\"barpolar\"}],\"carpet\":[{\"aaxis\":{\"endlinecolor\":\"#2a3f5f\",\"gridcolor\":\"white\",\"linecolor\":\"white\",\"minorgridcolor\":\"white\",\"startlinecolor\":\"#2a3f5f\"},\"baxis\":{\"endlinecolor\":\"#2a3f5f\",\"gridcolor\":\"white\",\"linecolor\":\"white\",\"minorgridcolor\":\"white\",\"startlinecolor\":\"#2a3f5f\"},\"type\":\"carpet\"}],\"choropleth\":[{\"colorbar\":{\"outlinewidth\":0,\"ticks\":\"\"},\"type\":\"choropleth\"}],\"contour\":[{\"colorbar\":{\"outlinewidth\":0,\"ticks\":\"\"},\"colorscale\":[[0.0,\"#0d0887\"],[0.1111111111111111,\"#46039f\"],[0.2222222222222222,\"#7201a8\"],[0.3333333333333333,\"#9c179e\"],[0.4444444444444444,\"#bd3786\"],[0.5555555555555556,\"#d8576b\"],[0.6666666666666666,\"#ed7953\"],[0.7777777777777778,\"#fb9f3a\"],[0.8888888888888888,\"#fdca26\"],[1.0,\"#f0f921\"]],\"type\":\"contour\"}],\"contourcarpet\":[{\"colorbar\":{\"outlinewidth\":0,\"ticks\":\"\"},\"type\":\"contourcarpet\"}],\"heatmap\":[{\"colorbar\":{\"outlinewidth\":0,\"ticks\":\"\"},\"colorscale\":[[0.0,\"#0d0887\"],[0.1111111111111111,\"#46039f\"],[0.2222222222222222,\"#7201a8\"],[0.3333333333333333,\"#9c179e\"],[0.4444444444444444,\"#bd3786\"],[0.5555555555555556,\"#d8576b\"],[0.6666666666666666,\"#ed7953\"],[0.7777777777777778,\"#fb9f3a\"],[0.8888888888888888,\"#fdca26\"],[1.0,\"#f0f921\"]],\"type\":\"heatmap\"}],\"heatmapgl\":[{\"colorbar\":{\"outlinewidth\":0,\"ticks\":\"\"},\"colorscale\":[[0.0,\"#0d0887\"],[0.1111111111111111,\"#46039f\"],[0.2222222222222222,\"#7201a8\"],[0.3333333333333333,\"#9c179e\"],[0.4444444444444444,\"#bd3786\"],[0.5555555555555556,\"#d8576b\"],[0.6666666666666666,\"#ed7953\"],[0.7777777777777778,\"#fb9f3a\"],[0.8888888888888888,\"#fdca26\"],[1.0,\"#f0f921\"]],\"type\":\"heatmapgl\"}],\"histogram\":[{\"marker\":{\"pattern\":{\"fillmode\":\"overlay\",\"size\":10,\"solidity\":0.2}},\"type\":\"histogram\"}],\"histogram2d\":[{\"colorbar\":{\"outlinewidth\":0,\"ticks\":\"\"},\"colorscale\":[[0.0,\"#0d0887\"],[0.1111111111111111,\"#46039f\"],[0.2222222222222222,\"#7201a8\"],[0.3333333333333333,\"#9c179e\"],[0.4444444444444444,\"#bd3786\"],[0.5555555555555556,\"#d8576b\"],[0.6666666666666666,\"#ed7953\"],[0.7777777777777778,\"#fb9f3a\"],[0.8888888888888888,\"#fdca26\"],[1.0,\"#f0f921\"]],\"type\":\"histogram2d\"}],\"histogram2dcontour\":[{\"colorbar\":{\"outlinewidth\":0,\"ticks\":\"\"},\"colorscale\":[[0.0,\"#0d0887\"],[0.1111111111111111,\"#46039f\"],[0.2222222222222222,\"#7201a8\"],[0.3333333333333333,\"#9c179e\"],[0.4444444444444444,\"#bd3786\"],[0.5555555555555556,\"#d8576b\"],[0.6666666666666666,\"#ed7953\"],[0.7777777777777778,\"#fb9f3a\"],[0.8888888888888888,\"#fdca26\"],[1.0,\"#f0f921\"]],\"type\":\"histogram2dcontour\"}],\"mesh3d\":[{\"colorbar\":{\"outlinewidth\":0,\"ticks\":\"\"},\"type\":\"mesh3d\"}],\"parcoords\":[{\"line\":{\"colorbar\":{\"outlinewidth\":0,\"ticks\":\"\"}},\"type\":\"parcoords\"}],\"pie\":[{\"automargin\":true,\"type\":\"pie\"}],\"scatter\":[{\"marker\":{\"colorbar\":{\"outlinewidth\":0,\"ticks\":\"\"}},\"type\":\"scatter\"}],\"scatter3d\":[{\"line\":{\"colorbar\":{\"outlinewidth\":0,\"ticks\":\"\"}},\"marker\":{\"colorbar\":{\"outlinewidth\":0,\"ticks\":\"\"}},\"type\":\"scatter3d\"}],\"scattercarpet\":[{\"marker\":{\"colorbar\":{\"outlinewidth\":0,\"ticks\":\"\"}},\"type\":\"scattercarpet\"}],\"scattergeo\":[{\"marker\":{\"colorbar\":{\"outlinewidth\":0,\"ticks\":\"\"}},\"type\":\"scattergeo\"}],\"scattergl\":[{\"marker\":{\"colorbar\":{\"outlinewidth\":0,\"ticks\":\"\"}},\"type\":\"scattergl\"}],\"scattermapbox\":[{\"marker\":{\"colorbar\":{\"outlinewidth\":0,\"ticks\":\"\"}},\"type\":\"scattermapbox\"}],\"scatterpolar\":[{\"marker\":{\"colorbar\":{\"outlinewidth\":0,\"ticks\":\"\"}},\"type\":\"scatterpolar\"}],\"scatterpolargl\":[{\"marker\":{\"colorbar\":{\"outlinewidth\":0,\"ticks\":\"\"}},\"type\":\"scatterpolargl\"}],\"scatterternary\":[{\"marker\":{\"colorbar\":{\"outlinewidth\":0,\"ticks\":\"\"}},\"type\":\"scatterternary\"}],\"surface\":[{\"colorbar\":{\"outlinewidth\":0,\"ticks\":\"\"},\"colorscale\":[[0.0,\"#0d0887\"],[0.1111111111111111,\"#46039f\"],[0.2222222222222222,\"#7201a8\"],[0.3333333333333333,\"#9c179e\"],[0.4444444444444444,\"#bd3786\"],[0.5555555555555556,\"#d8576b\"],[0.6666666666666666,\"#ed7953\"],[0.7777777777777778,\"#fb9f3a\"],[0.8888888888888888,\"#fdca26\"],[1.0,\"#f0f921\"]],\"type\":\"surface\"}],\"table\":[{\"cells\":{\"fill\":{\"color\":\"#EBF0F8\"},\"line\":{\"color\":\"white\"}},\"header\":{\"fill\":{\"color\":\"#C8D4E3\"},\"line\":{\"color\":\"white\"}},\"type\":\"table\"}]},\"layout\":{\"annotationdefaults\":{\"arrowcolor\":\"#2a3f5f\",\"arrowhead\":0,\"arrowwidth\":1},\"autotypenumbers\":\"strict\",\"coloraxis\":{\"colorbar\":{\"outlinewidth\":0,\"ticks\":\"\"}},\"colorscale\":{\"diverging\":[[0,\"#8e0152\"],[0.1,\"#c51b7d\"],[0.2,\"#de77ae\"],[0.3,\"#f1b6da\"],[0.4,\"#fde0ef\"],[0.5,\"#f7f7f7\"],[0.6,\"#e6f5d0\"],[0.7,\"#b8e186\"],[0.8,\"#7fbc41\"],[0.9,\"#4d9221\"],[1,\"#276419\"]],\"sequential\":[[0.0,\"#0d0887\"],[0.1111111111111111,\"#46039f\"],[0.2222222222222222,\"#7201a8\"],[0.3333333333333333,\"#9c179e\"],[0.4444444444444444,\"#bd3786\"],[0.5555555555555556,\"#d8576b\"],[0.6666666666666666,\"#ed7953\"],[0.7777777777777778,\"#fb9f3a\"],[0.8888888888888888,\"#fdca26\"],[1.0,\"#f0f921\"]],\"sequentialminus\":[[0.0,\"#0d0887\"],[0.1111111111111111,\"#46039f\"],[0.2222222222222222,\"#7201a8\"],[0.3333333333333333,\"#9c179e\"],[0.4444444444444444,\"#bd3786\"],[0.5555555555555556,\"#d8576b\"],[0.6666666666666666,\"#ed7953\"],[0.7777777777777778,\"#fb9f3a\"],[0.8888888888888888,\"#fdca26\"],[1.0,\"#f0f921\"]]},\"colorway\":[\"#636efa\",\"#EF553B\",\"#00cc96\",\"#ab63fa\",\"#FFA15A\",\"#19d3f3\",\"#FF6692\",\"#B6E880\",\"#FF97FF\",\"#FECB52\"],\"font\":{\"color\":\"#2a3f5f\"},\"geo\":{\"bgcolor\":\"white\",\"lakecolor\":\"white\",\"landcolor\":\"#E5ECF6\",\"showlakes\":true,\"showland\":true,\"subunitcolor\":\"white\"},\"hoverlabel\":{\"align\":\"left\"},\"hovermode\":\"closest\",\"mapbox\":{\"style\":\"light\"},\"paper_bgcolor\":\"white\",\"plot_bgcolor\":\"#E5ECF6\",\"polar\":{\"angularaxis\":{\"gridcolor\":\"white\",\"linecolor\":\"white\",\"ticks\":\"\"},\"bgcolor\":\"#E5ECF6\",\"radialaxis\":{\"gridcolor\":\"white\",\"linecolor\":\"white\",\"ticks\":\"\"}},\"scene\":{\"xaxis\":{\"backgroundcolor\":\"#E5ECF6\",\"gridcolor\":\"white\",\"gridwidth\":2,\"linecolor\":\"white\",\"showbackground\":true,\"ticks\":\"\",\"zerolinecolor\":\"white\"},\"yaxis\":{\"backgroundcolor\":\"#E5ECF6\",\"gridcolor\":\"white\",\"gridwidth\":2,\"linecolor\":\"white\",\"showbackground\":true,\"ticks\":\"\",\"zerolinecolor\":\"white\"},\"zaxis\":{\"backgroundcolor\":\"#E5ECF6\",\"gridcolor\":\"white\",\"gridwidth\":2,\"linecolor\":\"white\",\"showbackground\":true,\"ticks\":\"\",\"zerolinecolor\":\"white\"}},\"shapedefaults\":{\"line\":{\"color\":\"#2a3f5f\"}},\"ternary\":{\"aaxis\":{\"gridcolor\":\"white\",\"linecolor\":\"white\",\"ticks\":\"\"},\"baxis\":{\"gridcolor\":\"white\",\"linecolor\":\"white\",\"ticks\":\"\"},\"bgcolor\":\"#E5ECF6\",\"caxis\":{\"gridcolor\":\"white\",\"linecolor\":\"white\",\"ticks\":\"\"}},\"title\":{\"x\":0.05},\"xaxis\":{\"automargin\":true,\"gridcolor\":\"white\",\"linecolor\":\"white\",\"ticks\":\"\",\"title\":{\"standoff\":15},\"zerolinecolor\":\"white\",\"zerolinewidth\":2},\"yaxis\":{\"automargin\":true,\"gridcolor\":\"white\",\"linecolor\":\"white\",\"ticks\":\"\",\"title\":{\"standoff\":15},\"zerolinecolor\":\"white\",\"zerolinewidth\":2}}},\"xaxis\":{\"anchor\":\"y\",\"domain\":[0.0,1.0],\"title\":{\"text\":\"NFT Name\"},\"categoryorder\":\"array\",\"categoryarray\":[\"basis.markets\",\"Skeleton Crew Skulls\",\"Flippies\",\"Meerkat Millionaires Country Club\",\"Stylish Studs\",\"I'M AIKO\",\"Crypto Idolz\",\"Megalodon Rogue Shark Tooth\",\"CorruptCatz\",\"Meta Waifus\"],\"tickangle\":-45},\"yaxis\":{\"anchor\":\"x\",\"domain\":[0.0,1.0],\"title\":{\"text\":\"Market Cap\"},\"range\":[0,3500]},\"legend\":{\"title\":{\"text\":\"NFT Name\"},\"tracegroupgap\":0},\"title\":{\"text\":\"Comparison of Market Cap of Top 10 NFT on the market\"},\"barmode\":\"relative\",\"uniformtext\":{\"minsize\":9}},                        {\"responsive\": true}                    ).then(function(){\n",
       "                            \n",
       "var gd = document.getElementById('c5f36af6-b202-4973-b559-4620103af09f');\n",
       "var x = new MutationObserver(function (mutations, observer) {{\n",
       "        var display = window.getComputedStyle(gd).display;\n",
       "        if (!display || display === 'none') {{\n",
       "            console.log([gd, 'removed!']);\n",
       "            Plotly.purge(gd);\n",
       "            observer.disconnect();\n",
       "        }}\n",
       "}});\n",
       "\n",
       "// Listen for the removal of the full notebook cells\n",
       "var notebookContainer = gd.closest('#notebook-container');\n",
       "if (notebookContainer) {{\n",
       "    x.observe(notebookContainer, {childList: true});\n",
       "}}\n",
       "\n",
       "// Listen for the clearing of the current output cell\n",
       "var outputEl = gd.closest('.output');\n",
       "if (outputEl) {{\n",
       "    x.observe(outputEl, {childList: true});\n",
       "}}\n",
       "\n",
       "                        })                };                });            </script>        </div>"
      ]
     },
     "metadata": {},
     "output_type": "display_data"
    }
   ],
   "source": [
    "fig = px.bar(df_top10, \n",
    "             x = 'Name',\n",
    "             y = 'Market_Cap',\n",
    "             text = 'Market_Cap',\n",
    "             color = 'Name',\n",
    "             title = 'Comparison of Market Cap of Top 10 NFT on the market',\n",
    "             labels = {'Market_Cap' : 'Market Cap', 'Name' : 'NFT Name'})\n",
    "fig.update_traces(texttemplate = '%{text:.3s}', textposition = 'outside')\n",
    "fig.update_layout(uniformtext_minsize = 9)\n",
    "fig.update_layout(xaxis_tickangle =-45)\n",
    "fig.update_layout(yaxis_range = [0,3500])\n",
    "\n",
    "fig"
   ]
  },
  {
   "cell_type": "code",
   "execution_count": 45,
   "metadata": {},
   "outputs": [
    {
     "data": {
      "application/vnd.plotly.v1+json": {
       "config": {
        "plotlyServerURL": "https://plot.ly"
       },
       "data": [
        {
         "alignmentgroup": "True",
         "hovertemplate": "NFT Name=%{x}<br>Market Cap USD=%{text}<extra></extra>",
         "legendgroup": "basis.markets",
         "marker": {
          "color": "#636efa",
          "pattern": {
           "shape": ""
          }
         },
         "name": "basis.markets",
         "offsetgroup": "basis.markets",
         "orientation": "v",
         "showlegend": true,
         "text": [
          103969.9156
         ],
         "textposition": "outside",
         "texttemplate": "%{text:.3s}",
         "type": "bar",
         "x": [
          "basis.markets"
         ],
         "xaxis": "x",
         "y": [
          103969.9156
         ],
         "yaxis": "y"
        },
        {
         "alignmentgroup": "True",
         "hovertemplate": "NFT Name=%{x}<br>Market Cap USD=%{text}<extra></extra>",
         "legendgroup": "Skeleton Crew Skulls",
         "marker": {
          "color": "#EF553B",
          "pattern": {
           "shape": ""
          }
         },
         "name": "Skeleton Crew Skulls",
         "offsetgroup": "Skeleton Crew Skulls",
         "orientation": "v",
         "showlegend": true,
         "text": [
          15659.23392
         ],
         "textposition": "outside",
         "texttemplate": "%{text:.3s}",
         "type": "bar",
         "x": [
          "Skeleton Crew Skulls"
         ],
         "xaxis": "x",
         "y": [
          15659.23392
         ],
         "yaxis": "y"
        },
        {
         "alignmentgroup": "True",
         "hovertemplate": "NFT Name=%{x}<br>Market Cap USD=%{text}<extra></extra>",
         "legendgroup": "Flippies",
         "marker": {
          "color": "#00cc96",
          "pattern": {
           "shape": ""
          }
         },
         "name": "Flippies",
         "offsetgroup": "Flippies",
         "orientation": "v",
         "showlegend": true,
         "text": [
          244288.3888
         ],
         "textposition": "outside",
         "texttemplate": "%{text:.3s}",
         "type": "bar",
         "x": [
          "Flippies"
         ],
         "xaxis": "x",
         "y": [
          244288.3888
         ],
         "yaxis": "y"
        },
        {
         "alignmentgroup": "True",
         "hovertemplate": "NFT Name=%{x}<br>Market Cap USD=%{text}<extra></extra>",
         "legendgroup": "Meerkat Millionaires Country Club",
         "marker": {
          "color": "#ab63fa",
          "pattern": {
           "shape": ""
          }
         },
         "name": "Meerkat Millionaires Country Club",
         "offsetgroup": "Meerkat Millionaires Country Club",
         "orientation": "v",
         "showlegend": true,
         "text": [
          13254.1755
         ],
         "textposition": "outside",
         "texttemplate": "%{text:.3s}",
         "type": "bar",
         "x": [
          "Meerkat Millionaires Country Club"
         ],
         "xaxis": "x",
         "y": [
          13254.1755
         ],
         "yaxis": "y"
        },
        {
         "alignmentgroup": "True",
         "hovertemplate": "NFT Name=%{x}<br>Market Cap USD=%{text}<extra></extra>",
         "legendgroup": "Stylish Studs",
         "marker": {
          "color": "#FFA15A",
          "pattern": {
           "shape": ""
          }
         },
         "name": "Stylish Studs",
         "offsetgroup": "Stylish Studs",
         "orientation": "v",
         "showlegend": true,
         "text": [
          24225.3
         ],
         "textposition": "outside",
         "texttemplate": "%{text:.3s}",
         "type": "bar",
         "x": [
          "Stylish Studs"
         ],
         "xaxis": "x",
         "y": [
          24225.3
         ],
         "yaxis": "y"
        },
        {
         "alignmentgroup": "True",
         "hovertemplate": "NFT Name=%{x}<br>Market Cap USD=%{text}<extra></extra>",
         "legendgroup": "I'M AIKO",
         "marker": {
          "color": "#19d3f3",
          "pattern": {
           "shape": ""
          }
         },
         "name": "I'M AIKO",
         "offsetgroup": "I'M AIKO",
         "orientation": "v",
         "showlegend": true,
         "text": [
          371583.3821
         ],
         "textposition": "outside",
         "texttemplate": "%{text:.3s}",
         "type": "bar",
         "x": [
          "I'M AIKO"
         ],
         "xaxis": "x",
         "y": [
          371583.3821
         ],
         "yaxis": "y"
        },
        {
         "alignmentgroup": "True",
         "hovertemplate": "NFT Name=%{x}<br>Market Cap USD=%{text}<extra></extra>",
         "legendgroup": "Crypto Idolz",
         "marker": {
          "color": "#FF6692",
          "pattern": {
           "shape": ""
          }
         },
         "name": "Crypto Idolz",
         "offsetgroup": "Crypto Idolz",
         "orientation": "v",
         "showlegend": true,
         "text": [
          171491.9237
         ],
         "textposition": "outside",
         "texttemplate": "%{text:.3s}",
         "type": "bar",
         "x": [
          "Crypto Idolz"
         ],
         "xaxis": "x",
         "y": [
          171491.9237
         ],
         "yaxis": "y"
        },
        {
         "alignmentgroup": "True",
         "hovertemplate": "NFT Name=%{x}<br>Market Cap USD=%{text}<extra></extra>",
         "legendgroup": "Megalodon Rogue Shark Tooth",
         "marker": {
          "color": "#B6E880",
          "pattern": {
           "shape": ""
          }
         },
         "name": "Megalodon Rogue Shark Tooth",
         "offsetgroup": "Megalodon Rogue Shark Tooth",
         "orientation": "v",
         "showlegend": true,
         "text": [
          8816.596058
         ],
         "textposition": "outside",
         "texttemplate": "%{text:.3s}",
         "type": "bar",
         "x": [
          "Megalodon Rogue Shark Tooth"
         ],
         "xaxis": "x",
         "y": [
          8816.596058
         ],
         "yaxis": "y"
        },
        {
         "alignmentgroup": "True",
         "hovertemplate": "NFT Name=%{x}<br>Market Cap USD=%{text}<extra></extra>",
         "legendgroup": "CorruptCatz",
         "marker": {
          "color": "#FF97FF",
          "pattern": {
           "shape": ""
          }
         },
         "name": "CorruptCatz",
         "offsetgroup": "CorruptCatz",
         "orientation": "v",
         "showlegend": true,
         "text": [
          50768.8878
         ],
         "textposition": "outside",
         "texttemplate": "%{text:.3s}",
         "type": "bar",
         "x": [
          "CorruptCatz"
         ],
         "xaxis": "x",
         "y": [
          50768.8878
         ],
         "yaxis": "y"
        },
        {
         "alignmentgroup": "True",
         "hovertemplate": "NFT Name=%{x}<br>Market Cap USD=%{text}<extra></extra>",
         "legendgroup": "Meta Waifus",
         "marker": {
          "color": "#FECB52",
          "pattern": {
           "shape": ""
          }
         },
         "name": "Meta Waifus",
         "offsetgroup": "Meta Waifus",
         "orientation": "v",
         "showlegend": true,
         "text": [
          145277.1078
         ],
         "textposition": "outside",
         "texttemplate": "%{text:.3s}",
         "type": "bar",
         "x": [
          "Meta Waifus"
         ],
         "xaxis": "x",
         "y": [
          145277.1078
         ],
         "yaxis": "y"
        }
       ],
       "layout": {
        "barmode": "relative",
        "legend": {
         "title": {
          "text": "NFT Name"
         },
         "tracegroupgap": 0
        },
        "template": {
         "data": {
          "bar": [
           {
            "error_x": {
             "color": "#2a3f5f"
            },
            "error_y": {
             "color": "#2a3f5f"
            },
            "marker": {
             "line": {
              "color": "#E5ECF6",
              "width": 0.5
             },
             "pattern": {
              "fillmode": "overlay",
              "size": 10,
              "solidity": 0.2
             }
            },
            "type": "bar"
           }
          ],
          "barpolar": [
           {
            "marker": {
             "line": {
              "color": "#E5ECF6",
              "width": 0.5
             },
             "pattern": {
              "fillmode": "overlay",
              "size": 10,
              "solidity": 0.2
             }
            },
            "type": "barpolar"
           }
          ],
          "carpet": [
           {
            "aaxis": {
             "endlinecolor": "#2a3f5f",
             "gridcolor": "white",
             "linecolor": "white",
             "minorgridcolor": "white",
             "startlinecolor": "#2a3f5f"
            },
            "baxis": {
             "endlinecolor": "#2a3f5f",
             "gridcolor": "white",
             "linecolor": "white",
             "minorgridcolor": "white",
             "startlinecolor": "#2a3f5f"
            },
            "type": "carpet"
           }
          ],
          "choropleth": [
           {
            "colorbar": {
             "outlinewidth": 0,
             "ticks": ""
            },
            "type": "choropleth"
           }
          ],
          "contour": [
           {
            "colorbar": {
             "outlinewidth": 0,
             "ticks": ""
            },
            "colorscale": [
             [
              0,
              "#0d0887"
             ],
             [
              0.1111111111111111,
              "#46039f"
             ],
             [
              0.2222222222222222,
              "#7201a8"
             ],
             [
              0.3333333333333333,
              "#9c179e"
             ],
             [
              0.4444444444444444,
              "#bd3786"
             ],
             [
              0.5555555555555556,
              "#d8576b"
             ],
             [
              0.6666666666666666,
              "#ed7953"
             ],
             [
              0.7777777777777778,
              "#fb9f3a"
             ],
             [
              0.8888888888888888,
              "#fdca26"
             ],
             [
              1,
              "#f0f921"
             ]
            ],
            "type": "contour"
           }
          ],
          "contourcarpet": [
           {
            "colorbar": {
             "outlinewidth": 0,
             "ticks": ""
            },
            "type": "contourcarpet"
           }
          ],
          "heatmap": [
           {
            "colorbar": {
             "outlinewidth": 0,
             "ticks": ""
            },
            "colorscale": [
             [
              0,
              "#0d0887"
             ],
             [
              0.1111111111111111,
              "#46039f"
             ],
             [
              0.2222222222222222,
              "#7201a8"
             ],
             [
              0.3333333333333333,
              "#9c179e"
             ],
             [
              0.4444444444444444,
              "#bd3786"
             ],
             [
              0.5555555555555556,
              "#d8576b"
             ],
             [
              0.6666666666666666,
              "#ed7953"
             ],
             [
              0.7777777777777778,
              "#fb9f3a"
             ],
             [
              0.8888888888888888,
              "#fdca26"
             ],
             [
              1,
              "#f0f921"
             ]
            ],
            "type": "heatmap"
           }
          ],
          "heatmapgl": [
           {
            "colorbar": {
             "outlinewidth": 0,
             "ticks": ""
            },
            "colorscale": [
             [
              0,
              "#0d0887"
             ],
             [
              0.1111111111111111,
              "#46039f"
             ],
             [
              0.2222222222222222,
              "#7201a8"
             ],
             [
              0.3333333333333333,
              "#9c179e"
             ],
             [
              0.4444444444444444,
              "#bd3786"
             ],
             [
              0.5555555555555556,
              "#d8576b"
             ],
             [
              0.6666666666666666,
              "#ed7953"
             ],
             [
              0.7777777777777778,
              "#fb9f3a"
             ],
             [
              0.8888888888888888,
              "#fdca26"
             ],
             [
              1,
              "#f0f921"
             ]
            ],
            "type": "heatmapgl"
           }
          ],
          "histogram": [
           {
            "marker": {
             "pattern": {
              "fillmode": "overlay",
              "size": 10,
              "solidity": 0.2
             }
            },
            "type": "histogram"
           }
          ],
          "histogram2d": [
           {
            "colorbar": {
             "outlinewidth": 0,
             "ticks": ""
            },
            "colorscale": [
             [
              0,
              "#0d0887"
             ],
             [
              0.1111111111111111,
              "#46039f"
             ],
             [
              0.2222222222222222,
              "#7201a8"
             ],
             [
              0.3333333333333333,
              "#9c179e"
             ],
             [
              0.4444444444444444,
              "#bd3786"
             ],
             [
              0.5555555555555556,
              "#d8576b"
             ],
             [
              0.6666666666666666,
              "#ed7953"
             ],
             [
              0.7777777777777778,
              "#fb9f3a"
             ],
             [
              0.8888888888888888,
              "#fdca26"
             ],
             [
              1,
              "#f0f921"
             ]
            ],
            "type": "histogram2d"
           }
          ],
          "histogram2dcontour": [
           {
            "colorbar": {
             "outlinewidth": 0,
             "ticks": ""
            },
            "colorscale": [
             [
              0,
              "#0d0887"
             ],
             [
              0.1111111111111111,
              "#46039f"
             ],
             [
              0.2222222222222222,
              "#7201a8"
             ],
             [
              0.3333333333333333,
              "#9c179e"
             ],
             [
              0.4444444444444444,
              "#bd3786"
             ],
             [
              0.5555555555555556,
              "#d8576b"
             ],
             [
              0.6666666666666666,
              "#ed7953"
             ],
             [
              0.7777777777777778,
              "#fb9f3a"
             ],
             [
              0.8888888888888888,
              "#fdca26"
             ],
             [
              1,
              "#f0f921"
             ]
            ],
            "type": "histogram2dcontour"
           }
          ],
          "mesh3d": [
           {
            "colorbar": {
             "outlinewidth": 0,
             "ticks": ""
            },
            "type": "mesh3d"
           }
          ],
          "parcoords": [
           {
            "line": {
             "colorbar": {
              "outlinewidth": 0,
              "ticks": ""
             }
            },
            "type": "parcoords"
           }
          ],
          "pie": [
           {
            "automargin": true,
            "type": "pie"
           }
          ],
          "scatter": [
           {
            "marker": {
             "colorbar": {
              "outlinewidth": 0,
              "ticks": ""
             }
            },
            "type": "scatter"
           }
          ],
          "scatter3d": [
           {
            "line": {
             "colorbar": {
              "outlinewidth": 0,
              "ticks": ""
             }
            },
            "marker": {
             "colorbar": {
              "outlinewidth": 0,
              "ticks": ""
             }
            },
            "type": "scatter3d"
           }
          ],
          "scattercarpet": [
           {
            "marker": {
             "colorbar": {
              "outlinewidth": 0,
              "ticks": ""
             }
            },
            "type": "scattercarpet"
           }
          ],
          "scattergeo": [
           {
            "marker": {
             "colorbar": {
              "outlinewidth": 0,
              "ticks": ""
             }
            },
            "type": "scattergeo"
           }
          ],
          "scattergl": [
           {
            "marker": {
             "colorbar": {
              "outlinewidth": 0,
              "ticks": ""
             }
            },
            "type": "scattergl"
           }
          ],
          "scattermapbox": [
           {
            "marker": {
             "colorbar": {
              "outlinewidth": 0,
              "ticks": ""
             }
            },
            "type": "scattermapbox"
           }
          ],
          "scatterpolar": [
           {
            "marker": {
             "colorbar": {
              "outlinewidth": 0,
              "ticks": ""
             }
            },
            "type": "scatterpolar"
           }
          ],
          "scatterpolargl": [
           {
            "marker": {
             "colorbar": {
              "outlinewidth": 0,
              "ticks": ""
             }
            },
            "type": "scatterpolargl"
           }
          ],
          "scatterternary": [
           {
            "marker": {
             "colorbar": {
              "outlinewidth": 0,
              "ticks": ""
             }
            },
            "type": "scatterternary"
           }
          ],
          "surface": [
           {
            "colorbar": {
             "outlinewidth": 0,
             "ticks": ""
            },
            "colorscale": [
             [
              0,
              "#0d0887"
             ],
             [
              0.1111111111111111,
              "#46039f"
             ],
             [
              0.2222222222222222,
              "#7201a8"
             ],
             [
              0.3333333333333333,
              "#9c179e"
             ],
             [
              0.4444444444444444,
              "#bd3786"
             ],
             [
              0.5555555555555556,
              "#d8576b"
             ],
             [
              0.6666666666666666,
              "#ed7953"
             ],
             [
              0.7777777777777778,
              "#fb9f3a"
             ],
             [
              0.8888888888888888,
              "#fdca26"
             ],
             [
              1,
              "#f0f921"
             ]
            ],
            "type": "surface"
           }
          ],
          "table": [
           {
            "cells": {
             "fill": {
              "color": "#EBF0F8"
             },
             "line": {
              "color": "white"
             }
            },
            "header": {
             "fill": {
              "color": "#C8D4E3"
             },
             "line": {
              "color": "white"
             }
            },
            "type": "table"
           }
          ]
         },
         "layout": {
          "annotationdefaults": {
           "arrowcolor": "#2a3f5f",
           "arrowhead": 0,
           "arrowwidth": 1
          },
          "autotypenumbers": "strict",
          "coloraxis": {
           "colorbar": {
            "outlinewidth": 0,
            "ticks": ""
           }
          },
          "colorscale": {
           "diverging": [
            [
             0,
             "#8e0152"
            ],
            [
             0.1,
             "#c51b7d"
            ],
            [
             0.2,
             "#de77ae"
            ],
            [
             0.3,
             "#f1b6da"
            ],
            [
             0.4,
             "#fde0ef"
            ],
            [
             0.5,
             "#f7f7f7"
            ],
            [
             0.6,
             "#e6f5d0"
            ],
            [
             0.7,
             "#b8e186"
            ],
            [
             0.8,
             "#7fbc41"
            ],
            [
             0.9,
             "#4d9221"
            ],
            [
             1,
             "#276419"
            ]
           ],
           "sequential": [
            [
             0,
             "#0d0887"
            ],
            [
             0.1111111111111111,
             "#46039f"
            ],
            [
             0.2222222222222222,
             "#7201a8"
            ],
            [
             0.3333333333333333,
             "#9c179e"
            ],
            [
             0.4444444444444444,
             "#bd3786"
            ],
            [
             0.5555555555555556,
             "#d8576b"
            ],
            [
             0.6666666666666666,
             "#ed7953"
            ],
            [
             0.7777777777777778,
             "#fb9f3a"
            ],
            [
             0.8888888888888888,
             "#fdca26"
            ],
            [
             1,
             "#f0f921"
            ]
           ],
           "sequentialminus": [
            [
             0,
             "#0d0887"
            ],
            [
             0.1111111111111111,
             "#46039f"
            ],
            [
             0.2222222222222222,
             "#7201a8"
            ],
            [
             0.3333333333333333,
             "#9c179e"
            ],
            [
             0.4444444444444444,
             "#bd3786"
            ],
            [
             0.5555555555555556,
             "#d8576b"
            ],
            [
             0.6666666666666666,
             "#ed7953"
            ],
            [
             0.7777777777777778,
             "#fb9f3a"
            ],
            [
             0.8888888888888888,
             "#fdca26"
            ],
            [
             1,
             "#f0f921"
            ]
           ]
          },
          "colorway": [
           "#636efa",
           "#EF553B",
           "#00cc96",
           "#ab63fa",
           "#FFA15A",
           "#19d3f3",
           "#FF6692",
           "#B6E880",
           "#FF97FF",
           "#FECB52"
          ],
          "font": {
           "color": "#2a3f5f"
          },
          "geo": {
           "bgcolor": "white",
           "lakecolor": "white",
           "landcolor": "#E5ECF6",
           "showlakes": true,
           "showland": true,
           "subunitcolor": "white"
          },
          "hoverlabel": {
           "align": "left"
          },
          "hovermode": "closest",
          "mapbox": {
           "style": "light"
          },
          "paper_bgcolor": "white",
          "plot_bgcolor": "#E5ECF6",
          "polar": {
           "angularaxis": {
            "gridcolor": "white",
            "linecolor": "white",
            "ticks": ""
           },
           "bgcolor": "#E5ECF6",
           "radialaxis": {
            "gridcolor": "white",
            "linecolor": "white",
            "ticks": ""
           }
          },
          "scene": {
           "xaxis": {
            "backgroundcolor": "#E5ECF6",
            "gridcolor": "white",
            "gridwidth": 2,
            "linecolor": "white",
            "showbackground": true,
            "ticks": "",
            "zerolinecolor": "white"
           },
           "yaxis": {
            "backgroundcolor": "#E5ECF6",
            "gridcolor": "white",
            "gridwidth": 2,
            "linecolor": "white",
            "showbackground": true,
            "ticks": "",
            "zerolinecolor": "white"
           },
           "zaxis": {
            "backgroundcolor": "#E5ECF6",
            "gridcolor": "white",
            "gridwidth": 2,
            "linecolor": "white",
            "showbackground": true,
            "ticks": "",
            "zerolinecolor": "white"
           }
          },
          "shapedefaults": {
           "line": {
            "color": "#2a3f5f"
           }
          },
          "ternary": {
           "aaxis": {
            "gridcolor": "white",
            "linecolor": "white",
            "ticks": ""
           },
           "baxis": {
            "gridcolor": "white",
            "linecolor": "white",
            "ticks": ""
           },
           "bgcolor": "#E5ECF6",
           "caxis": {
            "gridcolor": "white",
            "linecolor": "white",
            "ticks": ""
           }
          },
          "title": {
           "x": 0.05
          },
          "xaxis": {
           "automargin": true,
           "gridcolor": "white",
           "linecolor": "white",
           "ticks": "",
           "title": {
            "standoff": 15
           },
           "zerolinecolor": "white",
           "zerolinewidth": 2
          },
          "yaxis": {
           "automargin": true,
           "gridcolor": "white",
           "linecolor": "white",
           "ticks": "",
           "title": {
            "standoff": 15
           },
           "zerolinecolor": "white",
           "zerolinewidth": 2
          }
         }
        },
        "title": {
         "text": "Comparison of Market Cap USD of Top 10 NFT on the market"
        },
        "uniformtext": {
         "minsize": 9
        },
        "xaxis": {
         "anchor": "y",
         "categoryarray": [
          "basis.markets",
          "Skeleton Crew Skulls",
          "Flippies",
          "Meerkat Millionaires Country Club",
          "Stylish Studs",
          "I'M AIKO",
          "Crypto Idolz",
          "Megalodon Rogue Shark Tooth",
          "CorruptCatz",
          "Meta Waifus"
         ],
         "categoryorder": "array",
         "domain": [
          0,
          1
         ],
         "tickangle": -45,
         "title": {
          "text": "NFT Name"
         }
        },
        "yaxis": {
         "anchor": "x",
         "domain": [
          0,
          1
         ],
         "range": [
          0,
          450000
         ],
         "title": {
          "text": "Market Cap USD"
         }
        }
       }
      },
      "text/html": [
       "<div>                            <div id=\"42b85384-98f2-4237-84a4-292073b8129f\" class=\"plotly-graph-div\" style=\"height:525px; width:100%;\"></div>            <script type=\"text/javascript\">                require([\"plotly\"], function(Plotly) {                    window.PLOTLYENV=window.PLOTLYENV || {};                                    if (document.getElementById(\"42b85384-98f2-4237-84a4-292073b8129f\")) {                    Plotly.newPlot(                        \"42b85384-98f2-4237-84a4-292073b8129f\",                        [{\"alignmentgroup\":\"True\",\"hovertemplate\":\"NFT Name=%{x}<br>Market Cap USD=%{text}<extra></extra>\",\"legendgroup\":\"basis.markets\",\"marker\":{\"color\":\"#636efa\",\"pattern\":{\"shape\":\"\"}},\"name\":\"basis.markets\",\"offsetgroup\":\"basis.markets\",\"orientation\":\"v\",\"showlegend\":true,\"text\":[103969.9156],\"textposition\":\"outside\",\"x\":[\"basis.markets\"],\"xaxis\":\"x\",\"y\":[103969.9156],\"yaxis\":\"y\",\"type\":\"bar\",\"texttemplate\":\"%{text:.3s}\"},{\"alignmentgroup\":\"True\",\"hovertemplate\":\"NFT Name=%{x}<br>Market Cap USD=%{text}<extra></extra>\",\"legendgroup\":\"Skeleton Crew Skulls\",\"marker\":{\"color\":\"#EF553B\",\"pattern\":{\"shape\":\"\"}},\"name\":\"Skeleton Crew Skulls\",\"offsetgroup\":\"Skeleton Crew Skulls\",\"orientation\":\"v\",\"showlegend\":true,\"text\":[15659.23392],\"textposition\":\"outside\",\"x\":[\"Skeleton Crew Skulls\"],\"xaxis\":\"x\",\"y\":[15659.23392],\"yaxis\":\"y\",\"type\":\"bar\",\"texttemplate\":\"%{text:.3s}\"},{\"alignmentgroup\":\"True\",\"hovertemplate\":\"NFT Name=%{x}<br>Market Cap USD=%{text}<extra></extra>\",\"legendgroup\":\"Flippies\",\"marker\":{\"color\":\"#00cc96\",\"pattern\":{\"shape\":\"\"}},\"name\":\"Flippies\",\"offsetgroup\":\"Flippies\",\"orientation\":\"v\",\"showlegend\":true,\"text\":[244288.3888],\"textposition\":\"outside\",\"x\":[\"Flippies\"],\"xaxis\":\"x\",\"y\":[244288.3888],\"yaxis\":\"y\",\"type\":\"bar\",\"texttemplate\":\"%{text:.3s}\"},{\"alignmentgroup\":\"True\",\"hovertemplate\":\"NFT Name=%{x}<br>Market Cap USD=%{text}<extra></extra>\",\"legendgroup\":\"Meerkat Millionaires Country Club\",\"marker\":{\"color\":\"#ab63fa\",\"pattern\":{\"shape\":\"\"}},\"name\":\"Meerkat Millionaires Country Club\",\"offsetgroup\":\"Meerkat Millionaires Country Club\",\"orientation\":\"v\",\"showlegend\":true,\"text\":[13254.1755],\"textposition\":\"outside\",\"x\":[\"Meerkat Millionaires Country Club\"],\"xaxis\":\"x\",\"y\":[13254.1755],\"yaxis\":\"y\",\"type\":\"bar\",\"texttemplate\":\"%{text:.3s}\"},{\"alignmentgroup\":\"True\",\"hovertemplate\":\"NFT Name=%{x}<br>Market Cap USD=%{text}<extra></extra>\",\"legendgroup\":\"Stylish Studs\",\"marker\":{\"color\":\"#FFA15A\",\"pattern\":{\"shape\":\"\"}},\"name\":\"Stylish Studs\",\"offsetgroup\":\"Stylish Studs\",\"orientation\":\"v\",\"showlegend\":true,\"text\":[24225.3],\"textposition\":\"outside\",\"x\":[\"Stylish Studs\"],\"xaxis\":\"x\",\"y\":[24225.3],\"yaxis\":\"y\",\"type\":\"bar\",\"texttemplate\":\"%{text:.3s}\"},{\"alignmentgroup\":\"True\",\"hovertemplate\":\"NFT Name=%{x}<br>Market Cap USD=%{text}<extra></extra>\",\"legendgroup\":\"I'M AIKO\",\"marker\":{\"color\":\"#19d3f3\",\"pattern\":{\"shape\":\"\"}},\"name\":\"I'M AIKO\",\"offsetgroup\":\"I'M AIKO\",\"orientation\":\"v\",\"showlegend\":true,\"text\":[371583.3821],\"textposition\":\"outside\",\"x\":[\"I'M AIKO\"],\"xaxis\":\"x\",\"y\":[371583.3821],\"yaxis\":\"y\",\"type\":\"bar\",\"texttemplate\":\"%{text:.3s}\"},{\"alignmentgroup\":\"True\",\"hovertemplate\":\"NFT Name=%{x}<br>Market Cap USD=%{text}<extra></extra>\",\"legendgroup\":\"Crypto Idolz\",\"marker\":{\"color\":\"#FF6692\",\"pattern\":{\"shape\":\"\"}},\"name\":\"Crypto Idolz\",\"offsetgroup\":\"Crypto Idolz\",\"orientation\":\"v\",\"showlegend\":true,\"text\":[171491.9237],\"textposition\":\"outside\",\"x\":[\"Crypto Idolz\"],\"xaxis\":\"x\",\"y\":[171491.9237],\"yaxis\":\"y\",\"type\":\"bar\",\"texttemplate\":\"%{text:.3s}\"},{\"alignmentgroup\":\"True\",\"hovertemplate\":\"NFT Name=%{x}<br>Market Cap USD=%{text}<extra></extra>\",\"legendgroup\":\"Megalodon Rogue Shark Tooth\",\"marker\":{\"color\":\"#B6E880\",\"pattern\":{\"shape\":\"\"}},\"name\":\"Megalodon Rogue Shark Tooth\",\"offsetgroup\":\"Megalodon Rogue Shark Tooth\",\"orientation\":\"v\",\"showlegend\":true,\"text\":[8816.596058],\"textposition\":\"outside\",\"x\":[\"Megalodon Rogue Shark Tooth\"],\"xaxis\":\"x\",\"y\":[8816.596058],\"yaxis\":\"y\",\"type\":\"bar\",\"texttemplate\":\"%{text:.3s}\"},{\"alignmentgroup\":\"True\",\"hovertemplate\":\"NFT Name=%{x}<br>Market Cap USD=%{text}<extra></extra>\",\"legendgroup\":\"CorruptCatz\",\"marker\":{\"color\":\"#FF97FF\",\"pattern\":{\"shape\":\"\"}},\"name\":\"CorruptCatz\",\"offsetgroup\":\"CorruptCatz\",\"orientation\":\"v\",\"showlegend\":true,\"text\":[50768.8878],\"textposition\":\"outside\",\"x\":[\"CorruptCatz\"],\"xaxis\":\"x\",\"y\":[50768.8878],\"yaxis\":\"y\",\"type\":\"bar\",\"texttemplate\":\"%{text:.3s}\"},{\"alignmentgroup\":\"True\",\"hovertemplate\":\"NFT Name=%{x}<br>Market Cap USD=%{text}<extra></extra>\",\"legendgroup\":\"Meta Waifus\",\"marker\":{\"color\":\"#FECB52\",\"pattern\":{\"shape\":\"\"}},\"name\":\"Meta Waifus\",\"offsetgroup\":\"Meta Waifus\",\"orientation\":\"v\",\"showlegend\":true,\"text\":[145277.1078],\"textposition\":\"outside\",\"x\":[\"Meta Waifus\"],\"xaxis\":\"x\",\"y\":[145277.1078],\"yaxis\":\"y\",\"type\":\"bar\",\"texttemplate\":\"%{text:.3s}\"}],                        {\"template\":{\"data\":{\"bar\":[{\"error_x\":{\"color\":\"#2a3f5f\"},\"error_y\":{\"color\":\"#2a3f5f\"},\"marker\":{\"line\":{\"color\":\"#E5ECF6\",\"width\":0.5},\"pattern\":{\"fillmode\":\"overlay\",\"size\":10,\"solidity\":0.2}},\"type\":\"bar\"}],\"barpolar\":[{\"marker\":{\"line\":{\"color\":\"#E5ECF6\",\"width\":0.5},\"pattern\":{\"fillmode\":\"overlay\",\"size\":10,\"solidity\":0.2}},\"type\":\"barpolar\"}],\"carpet\":[{\"aaxis\":{\"endlinecolor\":\"#2a3f5f\",\"gridcolor\":\"white\",\"linecolor\":\"white\",\"minorgridcolor\":\"white\",\"startlinecolor\":\"#2a3f5f\"},\"baxis\":{\"endlinecolor\":\"#2a3f5f\",\"gridcolor\":\"white\",\"linecolor\":\"white\",\"minorgridcolor\":\"white\",\"startlinecolor\":\"#2a3f5f\"},\"type\":\"carpet\"}],\"choropleth\":[{\"colorbar\":{\"outlinewidth\":0,\"ticks\":\"\"},\"type\":\"choropleth\"}],\"contour\":[{\"colorbar\":{\"outlinewidth\":0,\"ticks\":\"\"},\"colorscale\":[[0.0,\"#0d0887\"],[0.1111111111111111,\"#46039f\"],[0.2222222222222222,\"#7201a8\"],[0.3333333333333333,\"#9c179e\"],[0.4444444444444444,\"#bd3786\"],[0.5555555555555556,\"#d8576b\"],[0.6666666666666666,\"#ed7953\"],[0.7777777777777778,\"#fb9f3a\"],[0.8888888888888888,\"#fdca26\"],[1.0,\"#f0f921\"]],\"type\":\"contour\"}],\"contourcarpet\":[{\"colorbar\":{\"outlinewidth\":0,\"ticks\":\"\"},\"type\":\"contourcarpet\"}],\"heatmap\":[{\"colorbar\":{\"outlinewidth\":0,\"ticks\":\"\"},\"colorscale\":[[0.0,\"#0d0887\"],[0.1111111111111111,\"#46039f\"],[0.2222222222222222,\"#7201a8\"],[0.3333333333333333,\"#9c179e\"],[0.4444444444444444,\"#bd3786\"],[0.5555555555555556,\"#d8576b\"],[0.6666666666666666,\"#ed7953\"],[0.7777777777777778,\"#fb9f3a\"],[0.8888888888888888,\"#fdca26\"],[1.0,\"#f0f921\"]],\"type\":\"heatmap\"}],\"heatmapgl\":[{\"colorbar\":{\"outlinewidth\":0,\"ticks\":\"\"},\"colorscale\":[[0.0,\"#0d0887\"],[0.1111111111111111,\"#46039f\"],[0.2222222222222222,\"#7201a8\"],[0.3333333333333333,\"#9c179e\"],[0.4444444444444444,\"#bd3786\"],[0.5555555555555556,\"#d8576b\"],[0.6666666666666666,\"#ed7953\"],[0.7777777777777778,\"#fb9f3a\"],[0.8888888888888888,\"#fdca26\"],[1.0,\"#f0f921\"]],\"type\":\"heatmapgl\"}],\"histogram\":[{\"marker\":{\"pattern\":{\"fillmode\":\"overlay\",\"size\":10,\"solidity\":0.2}},\"type\":\"histogram\"}],\"histogram2d\":[{\"colorbar\":{\"outlinewidth\":0,\"ticks\":\"\"},\"colorscale\":[[0.0,\"#0d0887\"],[0.1111111111111111,\"#46039f\"],[0.2222222222222222,\"#7201a8\"],[0.3333333333333333,\"#9c179e\"],[0.4444444444444444,\"#bd3786\"],[0.5555555555555556,\"#d8576b\"],[0.6666666666666666,\"#ed7953\"],[0.7777777777777778,\"#fb9f3a\"],[0.8888888888888888,\"#fdca26\"],[1.0,\"#f0f921\"]],\"type\":\"histogram2d\"}],\"histogram2dcontour\":[{\"colorbar\":{\"outlinewidth\":0,\"ticks\":\"\"},\"colorscale\":[[0.0,\"#0d0887\"],[0.1111111111111111,\"#46039f\"],[0.2222222222222222,\"#7201a8\"],[0.3333333333333333,\"#9c179e\"],[0.4444444444444444,\"#bd3786\"],[0.5555555555555556,\"#d8576b\"],[0.6666666666666666,\"#ed7953\"],[0.7777777777777778,\"#fb9f3a\"],[0.8888888888888888,\"#fdca26\"],[1.0,\"#f0f921\"]],\"type\":\"histogram2dcontour\"}],\"mesh3d\":[{\"colorbar\":{\"outlinewidth\":0,\"ticks\":\"\"},\"type\":\"mesh3d\"}],\"parcoords\":[{\"line\":{\"colorbar\":{\"outlinewidth\":0,\"ticks\":\"\"}},\"type\":\"parcoords\"}],\"pie\":[{\"automargin\":true,\"type\":\"pie\"}],\"scatter\":[{\"marker\":{\"colorbar\":{\"outlinewidth\":0,\"ticks\":\"\"}},\"type\":\"scatter\"}],\"scatter3d\":[{\"line\":{\"colorbar\":{\"outlinewidth\":0,\"ticks\":\"\"}},\"marker\":{\"colorbar\":{\"outlinewidth\":0,\"ticks\":\"\"}},\"type\":\"scatter3d\"}],\"scattercarpet\":[{\"marker\":{\"colorbar\":{\"outlinewidth\":0,\"ticks\":\"\"}},\"type\":\"scattercarpet\"}],\"scattergeo\":[{\"marker\":{\"colorbar\":{\"outlinewidth\":0,\"ticks\":\"\"}},\"type\":\"scattergeo\"}],\"scattergl\":[{\"marker\":{\"colorbar\":{\"outlinewidth\":0,\"ticks\":\"\"}},\"type\":\"scattergl\"}],\"scattermapbox\":[{\"marker\":{\"colorbar\":{\"outlinewidth\":0,\"ticks\":\"\"}},\"type\":\"scattermapbox\"}],\"scatterpolar\":[{\"marker\":{\"colorbar\":{\"outlinewidth\":0,\"ticks\":\"\"}},\"type\":\"scatterpolar\"}],\"scatterpolargl\":[{\"marker\":{\"colorbar\":{\"outlinewidth\":0,\"ticks\":\"\"}},\"type\":\"scatterpolargl\"}],\"scatterternary\":[{\"marker\":{\"colorbar\":{\"outlinewidth\":0,\"ticks\":\"\"}},\"type\":\"scatterternary\"}],\"surface\":[{\"colorbar\":{\"outlinewidth\":0,\"ticks\":\"\"},\"colorscale\":[[0.0,\"#0d0887\"],[0.1111111111111111,\"#46039f\"],[0.2222222222222222,\"#7201a8\"],[0.3333333333333333,\"#9c179e\"],[0.4444444444444444,\"#bd3786\"],[0.5555555555555556,\"#d8576b\"],[0.6666666666666666,\"#ed7953\"],[0.7777777777777778,\"#fb9f3a\"],[0.8888888888888888,\"#fdca26\"],[1.0,\"#f0f921\"]],\"type\":\"surface\"}],\"table\":[{\"cells\":{\"fill\":{\"color\":\"#EBF0F8\"},\"line\":{\"color\":\"white\"}},\"header\":{\"fill\":{\"color\":\"#C8D4E3\"},\"line\":{\"color\":\"white\"}},\"type\":\"table\"}]},\"layout\":{\"annotationdefaults\":{\"arrowcolor\":\"#2a3f5f\",\"arrowhead\":0,\"arrowwidth\":1},\"autotypenumbers\":\"strict\",\"coloraxis\":{\"colorbar\":{\"outlinewidth\":0,\"ticks\":\"\"}},\"colorscale\":{\"diverging\":[[0,\"#8e0152\"],[0.1,\"#c51b7d\"],[0.2,\"#de77ae\"],[0.3,\"#f1b6da\"],[0.4,\"#fde0ef\"],[0.5,\"#f7f7f7\"],[0.6,\"#e6f5d0\"],[0.7,\"#b8e186\"],[0.8,\"#7fbc41\"],[0.9,\"#4d9221\"],[1,\"#276419\"]],\"sequential\":[[0.0,\"#0d0887\"],[0.1111111111111111,\"#46039f\"],[0.2222222222222222,\"#7201a8\"],[0.3333333333333333,\"#9c179e\"],[0.4444444444444444,\"#bd3786\"],[0.5555555555555556,\"#d8576b\"],[0.6666666666666666,\"#ed7953\"],[0.7777777777777778,\"#fb9f3a\"],[0.8888888888888888,\"#fdca26\"],[1.0,\"#f0f921\"]],\"sequentialminus\":[[0.0,\"#0d0887\"],[0.1111111111111111,\"#46039f\"],[0.2222222222222222,\"#7201a8\"],[0.3333333333333333,\"#9c179e\"],[0.4444444444444444,\"#bd3786\"],[0.5555555555555556,\"#d8576b\"],[0.6666666666666666,\"#ed7953\"],[0.7777777777777778,\"#fb9f3a\"],[0.8888888888888888,\"#fdca26\"],[1.0,\"#f0f921\"]]},\"colorway\":[\"#636efa\",\"#EF553B\",\"#00cc96\",\"#ab63fa\",\"#FFA15A\",\"#19d3f3\",\"#FF6692\",\"#B6E880\",\"#FF97FF\",\"#FECB52\"],\"font\":{\"color\":\"#2a3f5f\"},\"geo\":{\"bgcolor\":\"white\",\"lakecolor\":\"white\",\"landcolor\":\"#E5ECF6\",\"showlakes\":true,\"showland\":true,\"subunitcolor\":\"white\"},\"hoverlabel\":{\"align\":\"left\"},\"hovermode\":\"closest\",\"mapbox\":{\"style\":\"light\"},\"paper_bgcolor\":\"white\",\"plot_bgcolor\":\"#E5ECF6\",\"polar\":{\"angularaxis\":{\"gridcolor\":\"white\",\"linecolor\":\"white\",\"ticks\":\"\"},\"bgcolor\":\"#E5ECF6\",\"radialaxis\":{\"gridcolor\":\"white\",\"linecolor\":\"white\",\"ticks\":\"\"}},\"scene\":{\"xaxis\":{\"backgroundcolor\":\"#E5ECF6\",\"gridcolor\":\"white\",\"gridwidth\":2,\"linecolor\":\"white\",\"showbackground\":true,\"ticks\":\"\",\"zerolinecolor\":\"white\"},\"yaxis\":{\"backgroundcolor\":\"#E5ECF6\",\"gridcolor\":\"white\",\"gridwidth\":2,\"linecolor\":\"white\",\"showbackground\":true,\"ticks\":\"\",\"zerolinecolor\":\"white\"},\"zaxis\":{\"backgroundcolor\":\"#E5ECF6\",\"gridcolor\":\"white\",\"gridwidth\":2,\"linecolor\":\"white\",\"showbackground\":true,\"ticks\":\"\",\"zerolinecolor\":\"white\"}},\"shapedefaults\":{\"line\":{\"color\":\"#2a3f5f\"}},\"ternary\":{\"aaxis\":{\"gridcolor\":\"white\",\"linecolor\":\"white\",\"ticks\":\"\"},\"baxis\":{\"gridcolor\":\"white\",\"linecolor\":\"white\",\"ticks\":\"\"},\"bgcolor\":\"#E5ECF6\",\"caxis\":{\"gridcolor\":\"white\",\"linecolor\":\"white\",\"ticks\":\"\"}},\"title\":{\"x\":0.05},\"xaxis\":{\"automargin\":true,\"gridcolor\":\"white\",\"linecolor\":\"white\",\"ticks\":\"\",\"title\":{\"standoff\":15},\"zerolinecolor\":\"white\",\"zerolinewidth\":2},\"yaxis\":{\"automargin\":true,\"gridcolor\":\"white\",\"linecolor\":\"white\",\"ticks\":\"\",\"title\":{\"standoff\":15},\"zerolinecolor\":\"white\",\"zerolinewidth\":2}}},\"xaxis\":{\"anchor\":\"y\",\"domain\":[0.0,1.0],\"title\":{\"text\":\"NFT Name\"},\"categoryorder\":\"array\",\"categoryarray\":[\"basis.markets\",\"Skeleton Crew Skulls\",\"Flippies\",\"Meerkat Millionaires Country Club\",\"Stylish Studs\",\"I'M AIKO\",\"Crypto Idolz\",\"Megalodon Rogue Shark Tooth\",\"CorruptCatz\",\"Meta Waifus\"],\"tickangle\":-45},\"yaxis\":{\"anchor\":\"x\",\"domain\":[0.0,1.0],\"title\":{\"text\":\"Market Cap USD\"},\"range\":[0,450000]},\"legend\":{\"title\":{\"text\":\"NFT Name\"},\"tracegroupgap\":0},\"title\":{\"text\":\"Comparison of Market Cap USD of Top 10 NFT on the market\"},\"barmode\":\"relative\",\"uniformtext\":{\"minsize\":9}},                        {\"responsive\": true}                    ).then(function(){\n",
       "                            \n",
       "var gd = document.getElementById('42b85384-98f2-4237-84a4-292073b8129f');\n",
       "var x = new MutationObserver(function (mutations, observer) {{\n",
       "        var display = window.getComputedStyle(gd).display;\n",
       "        if (!display || display === 'none') {{\n",
       "            console.log([gd, 'removed!']);\n",
       "            Plotly.purge(gd);\n",
       "            observer.disconnect();\n",
       "        }}\n",
       "}});\n",
       "\n",
       "// Listen for the removal of the full notebook cells\n",
       "var notebookContainer = gd.closest('#notebook-container');\n",
       "if (notebookContainer) {{\n",
       "    x.observe(notebookContainer, {childList: true});\n",
       "}}\n",
       "\n",
       "// Listen for the clearing of the current output cell\n",
       "var outputEl = gd.closest('.output');\n",
       "if (outputEl) {{\n",
       "    x.observe(outputEl, {childList: true});\n",
       "}}\n",
       "\n",
       "                        })                };                });            </script>        </div>"
      ]
     },
     "metadata": {},
     "output_type": "display_data"
    }
   ],
   "source": [
    "fig = px.bar(df_top10, \n",
    "             x = 'Name',\n",
    "             y = 'Market_Cap_USD',\n",
    "             text = 'Market_Cap_USD',\n",
    "             color = 'Name',\n",
    "             title = 'Comparison of Market Cap USD of Top 10 NFT on the market',\n",
    "             labels = {'Market_Cap_USD' : 'Market Cap USD', 'Name' : 'NFT Name'})\n",
    "fig.update_traces(texttemplate = '%{text:.3s}', textposition = 'outside')\n",
    "fig.update_layout(uniformtext_minsize = 9)\n",
    "fig.update_layout(xaxis_tickangle =-45)\n",
    "fig.update_layout(yaxis_range = [0,450000])\n",
    "\n",
    "fig"
   ]
  },
  {
   "cell_type": "code",
   "execution_count": 52,
   "metadata": {},
   "outputs": [
    {
     "data": {
      "application/vnd.plotly.v1+json": {
       "config": {
        "plotlyServerURL": "https://plot.ly"
       },
       "data": [
        {
         "customdata": [
          [
           75
          ]
         ],
         "hovertemplate": "Category=Collectibles,Digital,Privilege<br>Sales=%{x}<br>Owners=%{y}<br>Assets=%{marker.size}<br>Owner_Asset_Ratio=%{customdata[0]}<extra></extra>",
         "legendgroup": "Collectibles,Digital,Privilege",
         "marker": {
          "color": "#636efa",
          "size": [
           16
          ],
          "sizemode": "area",
          "sizeref": 8.3,
          "symbol": "circle"
         },
         "mode": "markers",
         "name": "Collectibles,Digital,Privilege",
         "orientation": "v",
         "showlegend": true,
         "type": "scatter",
         "x": [
          366
         ],
         "xaxis": "x",
         "y": [
          12
         ],
         "yaxis": "y"
        },
        {
         "customdata": [
          [
           78.03
          ],
          [
           55.25
          ],
          [
           82.61
          ],
          [
           56
          ],
          [
           46.12
          ],
          [
           72.27
          ],
          [
           69.43
          ],
          [
           48.76
          ],
          [
           83.33
          ],
          [
           70.29
          ],
          [
           31.32
          ],
          [
           68.02
          ],
          [
           93.33
          ],
          [
           100
          ],
          [
           69.53
          ],
          [
           71.32
          ],
          [
           74.51
          ],
          [
           null
          ],
          [
           null
          ],
          [
           64.15
          ],
          [
           77.66
          ],
          [
           null
          ],
          [
           33.02
          ],
          [
           null
          ],
          [
           null
          ],
          [
           56.11
          ],
          [
           41.61
          ],
          [
           14.07
          ],
          [
           89.47
          ],
          [
           100
          ],
          [
           61.9
          ],
          [
           100
          ],
          [
           46.71
          ],
          [
           70.37
          ],
          [
           57.78
          ],
          [
           100
          ],
          [
           100
          ],
          [
           75
          ],
          [
           60
          ],
          [
           78.26
          ],
          [
           74.36
          ],
          [
           67.69
          ],
          [
           23.08
          ],
          [
           93.33
          ],
          [
           65.41
          ],
          [
           null
          ],
          [
           59.6
          ],
          [
           33.33
          ],
          [
           66.55
          ],
          [
           null
          ],
          [
           81.82
          ],
          [
           43.8
          ],
          [
           52.34
          ],
          [
           55
          ],
          [
           100
          ],
          [
           47.62
          ],
          [
           null
          ],
          [
           100
          ],
          [
           null
          ],
          [
           69.92
          ],
          [
           100
          ],
          [
           5.05
          ],
          [
           39.15
          ],
          [
           64.29
          ],
          [
           null
          ],
          [
           50
          ],
          [
           68.57
          ],
          [
           58.93
          ],
          [
           37.5
          ],
          [
           82.76
          ],
          [
           51.61
          ],
          [
           null
          ],
          [
           48.72
          ],
          [
           56.67
          ],
          [
           55.16
          ],
          [
           56.25
          ],
          [
           11.89
          ],
          [
           60
          ],
          [
           72.97
          ],
          [
           81.58
          ],
          [
           null
          ],
          [
           null
          ],
          [
           84.62
          ],
          [
           75.32
          ],
          [
           58.73
          ],
          [
           null
          ],
          [
           56.1
          ],
          [
           83.02
          ],
          [
           null
          ],
          [
           41.67
          ],
          [
           77.78
          ],
          [
           88.89
          ],
          [
           null
          ],
          [
           null
          ],
          [
           56.15
          ],
          [
           null
          ],
          [
           2.86
          ],
          [
           50.96
          ],
          [
           73.63
          ],
          [
           67.57
          ],
          [
           62.5
          ],
          [
           87.88
          ],
          [
           100
          ],
          [
           100
          ],
          [
           43.96
          ],
          [
           69.23
          ],
          [
           47.76
          ],
          [
           72.73
          ],
          [
           100
          ],
          [
           null
          ],
          [
           67.03
          ],
          [
           61.33
          ],
          [
           100
          ],
          [
           16.45
          ],
          [
           null
          ],
          [
           52.94
          ],
          [
           100
          ],
          [
           48.55
          ],
          [
           null
          ],
          [
           100
          ],
          [
           100
          ],
          [
           66.39
          ],
          [
           100
          ],
          [
           51.96
          ],
          [
           30.56
          ],
          [
           63.41
          ],
          [
           53.13
          ],
          [
           0.76
          ],
          [
           47.95
          ],
          [
           70
          ],
          [
           72.77
          ],
          [
           62.69
          ],
          [
           100
          ],
          [
           74.47
          ],
          [
           46.67
          ],
          [
           93.75
          ],
          [
           71.43
          ],
          [
           100
          ],
          [
           54.41
          ],
          [
           86.67
          ],
          [
           79.41
          ],
          [
           52.63
          ],
          [
           60
          ],
          [
           null
          ],
          [
           27.78
          ],
          [
           65.91
          ],
          [
           77.78
          ],
          [
           76.92
          ],
          [
           42.14
          ],
          [
           66.67
          ],
          [
           null
          ],
          [
           85.71
          ],
          [
           100
          ],
          [
           90.91
          ],
          [
           63.16
          ],
          [
           17.54
          ],
          [
           71.43
          ],
          [
           null
          ],
          [
           100
          ],
          [
           null
          ],
          [
           20.27
          ],
          [
           56
          ],
          [
           80
          ],
          [
           67.96
          ],
          [
           null
          ],
          [
           65.38
          ],
          [
           55
          ],
          [
           54.84
          ],
          [
           100
          ],
          [
           null
          ],
          [
           25
          ],
          [
           69.23
          ],
          [
           20.83
          ],
          [
           87.5
          ],
          [
           null
          ],
          [
           51.85
          ],
          [
           2.78
          ],
          [
           46.51
          ],
          [
           76.47
          ],
          [
           null
          ],
          [
           69.62
          ],
          [
           87.5
          ],
          [
           20.83
          ],
          [
           56.03
          ],
          [
           100
          ],
          [
           100
          ],
          [
           null
          ],
          [
           1.53
          ],
          [
           63.46
          ],
          [
           66.67
          ],
          [
           44.54
          ],
          [
           25
          ],
          [
           100
          ],
          [
           100
          ],
          [
           100
          ],
          [
           100
          ],
          [
           100
          ],
          [
           86.67
          ],
          [
           80
          ],
          [
           94.12
          ],
          [
           66.67
          ],
          [
           75.76
          ],
          [
           40
          ],
          [
           66.52
          ],
          [
           87.5
          ],
          [
           55.57
          ],
          [
           58.59
          ],
          [
           84.62
          ],
          [
           100
          ],
          [
           63.64
          ],
          [
           37.5
          ],
          [
           64.71
          ],
          [
           80
          ],
          [
           null
          ],
          [
           77.14
          ],
          [
           100
          ],
          [
           65.36
          ],
          [
           85.71
          ],
          [
           null
          ],
          [
           3.13
          ],
          [
           100
          ],
          [
           null
          ],
          [
           53.85
          ],
          [
           81.25
          ],
          [
           23.33
          ],
          [
           50.85
          ],
          [
           45.81
          ],
          [
           100
          ],
          [
           76.74
          ],
          [
           83.33
          ],
          [
           8.33
          ],
          [
           4.17
          ],
          [
           12.5
          ],
          [
           51.25
          ],
          [
           50
          ],
          [
           2.44
          ],
          [
           12.9
          ],
          [
           4.58
          ],
          [
           68.09
          ],
          [
           83.33
          ],
          [
           61.11
          ],
          [
           50
          ],
          [
           52.46
          ],
          [
           92.59
          ],
          [
           31.58
          ],
          [
           67.19
          ],
          [
           27.27
          ],
          [
           11.11
          ],
          [
           1.4
          ],
          [
           66.67
          ],
          [
           100
          ],
          [
           80
          ],
          [
           66.67
          ],
          [
           3.57
          ],
          [
           26.32
          ],
          [
           70
          ],
          [
           35.05
          ],
          [
           100
          ],
          [
           75
          ],
          [
           57.14
          ],
          [
           60
          ],
          [
           75.86
          ],
          [
           null
          ],
          [
           46.21
          ],
          [
           72.41
          ],
          [
           93.33
          ],
          [
           100
          ],
          [
           57.38
          ],
          [
           59.67
          ],
          [
           93.33
          ],
          [
           75
          ],
          [
           78.95
          ],
          [
           61.54
          ],
          [
           58.82
          ],
          [
           61.54
          ],
          [
           null
          ],
          [
           null
          ],
          [
           0.26
          ],
          [
           40
          ],
          [
           50
          ],
          [
           100
          ],
          [
           69.57
          ]
         ],
         "hovertemplate": "Category=Unknown<br>Sales=%{x}<br>Owners=%{y}<br>Assets=%{marker.size}<br>Owner_Asset_Ratio=%{customdata[0]}<extra></extra>",
         "legendgroup": "Unknown",
         "marker": {
          "color": "#EF553B",
          "size": [
           132,
           1638,
           23,
           50,
           529,
           1309,
           916,
           847,
           6,
           175,
           1239,
           419,
           15,
           29,
           128,
           272,
           51,
           0,
           1,
           212,
           94,
           0,
           427,
           0,
           0,
           319,
           793,
           803,
           38,
           8,
           63,
           15,
           865,
           162,
           585,
           3,
           4,
           4,
           270,
           92,
           78,
           65,
           26,
           30,
           133,
           0,
           354,
           3,
           284,
           0,
           44,
           1491,
           598,
           80,
           3,
           63,
           0,
           1,
           0,
           133,
           14,
           1148,
           212,
           112,
           0,
           4,
           35,
           112,
           24,
           29,
           93,
           0,
           39,
           60,
           223,
           16,
           185,
           5,
           74,
           38,
           0,
           7,
           13,
           77,
           189,
           0,
           123,
           53,
           0,
           24,
           108,
           27,
           0,
           0,
           130,
           0,
           35,
           157,
           91,
           37,
           8,
           33,
           1,
           5,
           207,
           13,
           67,
           44,
           1,
           0,
           182,
           150,
           6,
           152,
           0,
           17,
           6,
           276,
           0,
           8,
           2,
           122,
           6,
           331,
           517,
           41,
           32,
           262,
           73,
           10,
           202,
           67,
           3,
           47,
           45,
           16,
           28,
           1,
           204,
           60,
           34,
           114,
           30,
           0,
           18,
           44,
           9,
           13,
           318,
           33,
           0,
           7,
           14,
           11,
           57,
           57,
           14,
           0,
           1,
           0,
           74,
           75,
           10,
           103,
           13,
           26,
           60,
           31,
           1,
           0,
           68,
           39,
           72,
           8,
           0,
           54,
           504,
           258,
           17,
           0,
           79,
           8,
           24,
           423,
           4,
           1,
           0,
           262,
           52,
           3,
           934,
           12,
           1,
           8,
           1,
           3,
           5,
           15,
           5,
           17,
           54,
           33,
           5,
           230,
           32,
           1096,
           128,
           13,
           4,
           11,
           32,
           68,
           5,
           0,
           35,
           1,
           941,
           7,
           0,
           96,
           2,
           0,
           13,
           64,
           30,
           59,
           155,
           1,
           43,
           12,
           24,
           24,
           16,
           80,
           4,
           41,
           31,
           240,
           47,
           12,
           18,
           2,
           61,
           27,
           19,
           64,
           33,
           9,
           214,
           15,
           1,
           5,
           3,
           28,
           19,
           10,
           97,
           2,
           32,
           7,
           10,
           29,
           0,
           264,
           29,
           15,
           1,
           61,
           719,
           15,
           4,
           38,
           39,
           34,
           13,
           41,
           0,
           392,
           5,
           2,
           4,
           23
          ],
          "sizemode": "area",
          "sizeref": 8.3,
          "symbol": "circle"
         },
         "mode": "markers",
         "name": "Unknown",
         "orientation": "v",
         "showlegend": true,
         "type": "scatter",
         "x": [
          2075,
          1504,
          395,
          729,
          1418,
          5229,
          1489,
          2906,
          597,
          1162,
          1264,
          1195,
          126,
          424,
          507,
          435,
          474,
          2,
          139,
          507,
          586,
          53,
          307,
          96,
          99,
          780,
          464,
          774,
          102,
          89,
          382,
          52,
          897,
          150,
          1134,
          208,
          111,
          361,
          181,
          158,
          109,
          101,
          138,
          53,
          91,
          92,
          408,
          243,
          369,
          107,
          67,
          1477,
          523,
          97,
          4,
          244,
          65,
          3,
          64,
          629,
          205,
          156,
          831,
          243,
          4,
          19,
          25,
          302,
          14,
          59,
          106,
          89,
          157,
          58,
          930,
          47,
          115,
          36,
          45,
          40,
          37,
          9,
          21,
          244,
          586,
          18,
          707,
          106,
          62,
          38,
          175,
          38,
          27,
          8,
          137,
          16,
          10,
          65,
          120,
          94,
          18,
          42,
          18,
          27,
          91,
          92,
          78,
          60,
          13,
          25,
          54,
          111,
          80,
          47,
          2,
          64,
          8,
          400,
          48,
          30,
          37,
          125,
          64,
          605,
          800,
          36,
          30,
          18,
          56,
          5,
          255,
          35,
          17,
          63,
          92,
          19,
          30,
          7,
          185,
          24,
          31,
          33,
          18,
          3,
          14,
          15,
          20,
          26,
          453,
          71,
          7,
          48,
          5,
          8,
          39,
          36,
          51,
          39,
          78,
          5,
          106,
          36,
          4,
          53,
          10,
          15,
          19,
          10,
          10,
          10,
          72,
          62,
          36,
          15,
          17,
          29,
          60,
          236,
          8,
          10,
          48,
          28,
          30,
          382,
          9,
          11,
          7,
          20,
          35,
          10,
          548,
          2,
          11,
          3,
          13,
          2,
          21,
          16,
          6,
          9,
          177,
          23,
          8,
          101,
          13,
          426,
          166,
          9,
          4,
          5,
          17,
          37,
          13,
          3,
          19,
          6,
          250,
          1,
          1,
          7,
          3,
          9,
          10,
          43,
          20,
          22,
          47,
          7,
          12,
          34,
          6,
          6,
          8,
          47,
          10,
          5,
          27,
          38,
          26,
          7,
          18,
          7,
          44,
          4,
          9,
          32,
          13,
          1,
          13,
          4,
          6,
          3,
          2,
          12,
          15,
          26,
          50,
          18,
          37,
          2,
          18,
          4,
          3,
          22,
          29,
          7,
          8,
          16,
          33,
          4,
          2,
          3,
          21,
          12,
          1,
          0,
          0,
          0,
          0,
          0,
          0,
          0
         ],
         "xaxis": "x",
         "y": [
          103,
          905,
          19,
          28,
          244,
          946,
          636,
          413,
          5,
          123,
          388,
          285,
          14,
          29,
          89,
          194,
          38,
          0,
          0,
          136,
          73,
          0,
          141,
          0,
          0,
          179,
          330,
          113,
          34,
          8,
          39,
          15,
          404,
          114,
          338,
          3,
          4,
          3,
          162,
          72,
          58,
          44,
          6,
          28,
          87,
          0,
          211,
          1,
          189,
          0,
          36,
          653,
          313,
          44,
          3,
          30,
          0,
          1,
          0,
          93,
          14,
          58,
          83,
          72,
          0,
          2,
          24,
          66,
          9,
          24,
          48,
          0,
          19,
          34,
          123,
          9,
          22,
          3,
          54,
          31,
          0,
          0,
          11,
          58,
          111,
          0,
          69,
          44,
          0,
          10,
          84,
          24,
          0,
          0,
          73,
          0,
          1,
          80,
          67,
          25,
          5,
          29,
          1,
          5,
          91,
          9,
          32,
          32,
          1,
          0,
          122,
          92,
          6,
          25,
          0,
          9,
          6,
          134,
          0,
          8,
          2,
          81,
          6,
          172,
          158,
          26,
          17,
          2,
          35,
          7,
          147,
          42,
          3,
          35,
          21,
          15,
          20,
          1,
          111,
          52,
          27,
          60,
          18,
          0,
          5,
          29,
          7,
          10,
          134,
          22,
          0,
          6,
          14,
          10,
          36,
          10,
          10,
          0,
          1,
          0,
          15,
          42,
          8,
          70,
          20,
          17,
          33,
          17,
          1,
          0,
          17,
          27,
          15,
          7,
          0,
          28,
          14,
          120,
          13,
          0,
          55,
          7,
          5,
          237,
          4,
          1,
          0,
          4,
          33,
          2,
          416,
          3,
          1,
          8,
          1,
          3,
          5,
          13,
          4,
          16,
          36,
          25,
          2,
          153,
          28,
          609,
          75,
          11,
          4,
          7,
          12,
          44,
          4,
          0,
          27,
          1,
          615,
          6,
          0,
          3,
          2,
          0,
          7,
          52,
          7,
          30,
          71,
          1,
          33,
          10,
          2,
          1,
          2,
          41,
          2,
          1,
          4,
          11,
          32,
          10,
          11,
          1,
          32,
          25,
          6,
          43,
          9,
          1,
          3,
          10,
          1,
          4,
          2,
          1,
          5,
          7,
          34,
          2,
          24,
          4,
          6,
          22,
          0,
          122,
          21,
          14,
          1,
          35,
          429,
          14,
          3,
          30,
          24,
          20,
          8,
          0,
          0,
          1,
          2,
          1,
          4,
          16
         ],
         "yaxis": "y"
        },
        {
         "customdata": [
          [
           49.67
          ]
         ],
         "hovertemplate": "Category=Art,Collectibles,Graphics,2D,Image<br>Sales=%{x}<br>Owners=%{y}<br>Assets=%{marker.size}<br>Owner_Asset_Ratio=%{customdata[0]}<extra></extra>",
         "legendgroup": "Art,Collectibles,Graphics,2D,Image",
         "marker": {
          "color": "#00cc96",
          "size": [
           1206
          ],
          "sizemode": "area",
          "sizeref": 8.3,
          "symbol": "circle"
         },
         "mode": "markers",
         "name": "Art,Collectibles,Graphics,2D,Image",
         "orientation": "v",
         "showlegend": true,
         "type": "scatter",
         "x": [
          1411
         ],
         "xaxis": "x",
         "y": [
          599
         ],
         "yaxis": "y"
        },
        {
         "customdata": [
          [
           58.48
          ]
         ],
         "hovertemplate": "Category=3D,PFP,Metaverse,Art,Collectibles<br>Sales=%{x}<br>Owners=%{y}<br>Assets=%{marker.size}<br>Owner_Asset_Ratio=%{customdata[0]}<extra></extra>",
         "legendgroup": "3D,PFP,Metaverse,Art,Collectibles",
         "marker": {
          "color": "#ab63fa",
          "size": [
           643
          ],
          "sizemode": "area",
          "sizeref": 8.3,
          "symbol": "circle"
         },
         "mode": "markers",
         "name": "3D,PFP,Metaverse,Art,Collectibles",
         "orientation": "v",
         "showlegend": true,
         "type": "scatter",
         "x": [
          1156
         ],
         "xaxis": "x",
         "y": [
          376
         ],
         "yaxis": "y"
        },
        {
         "customdata": [
          [
           62.15
          ]
         ],
         "hovertemplate": "Category=Digital,Metaverse,Art,Picture,Image<br>Sales=%{x}<br>Owners=%{y}<br>Assets=%{marker.size}<br>Owner_Asset_Ratio=%{customdata[0]}<extra></extra>",
         "legendgroup": "Digital,Metaverse,Art,Picture,Image",
         "marker": {
          "color": "#FFA15A",
          "size": [
           391
          ],
          "sizemode": "area",
          "sizeref": 8.3,
          "symbol": "circle"
         },
         "mode": "markers",
         "name": "Digital,Metaverse,Art,Picture,Image",
         "orientation": "v",
         "showlegend": true,
         "type": "scatter",
         "x": [
          412
         ],
         "xaxis": "x",
         "y": [
          243
         ],
         "yaxis": "y"
        },
        {
         "customdata": [
          [
           77.95
          ]
         ],
         "hovertemplate": "Category=Art,Digital,PFP,3D<br>Sales=%{x}<br>Owners=%{y}<br>Assets=%{marker.size}<br>Owner_Asset_Ratio=%{customdata[0]}<extra></extra>",
         "legendgroup": "Art,Digital,PFP,3D",
         "marker": {
          "color": "#19d3f3",
          "size": [
           127
          ],
          "sizemode": "area",
          "sizeref": 8.3,
          "symbol": "circle"
         },
         "mode": "markers",
         "name": "Art,Digital,PFP,3D",
         "orientation": "v",
         "showlegend": true,
         "type": "scatter",
         "x": [
          370
         ],
         "xaxis": "x",
         "y": [
          99
         ],
         "yaxis": "y"
        },
        {
         "customdata": [
          [
           92.31
          ]
         ],
         "hovertemplate": "Category=Digital,Art,Metaverse,Collectibles,PFP,3D<br>Sales=%{x}<br>Owners=%{y}<br>Assets=%{marker.size}<br>Owner_Asset_Ratio=%{customdata[0]}<extra></extra>",
         "legendgroup": "Digital,Art,Metaverse,Collectibles,PFP,3D",
         "marker": {
          "color": "#FF6692",
          "size": [
           13
          ],
          "sizemode": "area",
          "sizeref": 8.3,
          "symbol": "circle"
         },
         "mode": "markers",
         "name": "Digital,Art,Metaverse,Collectibles,PFP,3D",
         "orientation": "v",
         "showlegend": true,
         "type": "scatter",
         "x": [
          60
         ],
         "xaxis": "x",
         "y": [
          12
         ],
         "yaxis": "y"
        },
        {
         "customdata": [
          [
           56.84
          ]
         ],
         "hovertemplate": "Category=Art,Music,Collectibles<br>Sales=%{x}<br>Owners=%{y}<br>Assets=%{marker.size}<br>Owner_Asset_Ratio=%{customdata[0]}<extra></extra>",
         "legendgroup": "Art,Music,Collectibles",
         "marker": {
          "color": "#B6E880",
          "size": [
           1242
          ],
          "sizemode": "area",
          "sizeref": 8.3,
          "symbol": "circle"
         },
         "mode": "markers",
         "name": "Art,Music,Collectibles",
         "orientation": "v",
         "showlegend": true,
         "type": "scatter",
         "x": [
          4596
         ],
         "xaxis": "x",
         "y": [
          706
         ],
         "yaxis": "y"
        },
        {
         "customdata": [
          [
           70.49
          ]
         ],
         "hovertemplate": "Category=Privilege<br>Sales=%{x}<br>Owners=%{y}<br>Assets=%{marker.size}<br>Owner_Asset_Ratio=%{customdata[0]}<extra></extra>",
         "legendgroup": "Privilege",
         "marker": {
          "color": "#FF97FF",
          "size": [
           122
          ],
          "sizemode": "area",
          "sizeref": 8.3,
          "symbol": "circle"
         },
         "mode": "markers",
         "name": "Privilege",
         "orientation": "v",
         "showlegend": true,
         "type": "scatter",
         "x": [
          1009
         ],
         "xaxis": "x",
         "y": [
          86
         ],
         "yaxis": "y"
        },
        {
         "customdata": [
          [
           61.48
          ],
          [
           64.44
          ],
          [
           82.35
          ],
          [
           33.33
          ],
          [
           24.3
          ],
          [
           64.29
          ],
          [
           71.19
          ],
          [
           15
          ],
          [
           15.71
          ]
         ],
         "hovertemplate": "Category=Collectibles<br>Sales=%{x}<br>Owners=%{y}<br>Assets=%{marker.size}<br>Owner_Asset_Ratio=%{customdata[0]}<extra></extra>",
         "legendgroup": "Collectibles",
         "marker": {
          "color": "#FECB52",
          "size": [
           3320,
           45,
           17,
           78,
           856,
           28,
           59,
           20,
           70
          ],
          "sizemode": "area",
          "sizeref": 8.3,
          "symbol": "circle"
         },
         "mode": "markers",
         "name": "Collectibles",
         "orientation": "v",
         "showlegend": true,
         "type": "scatter",
         "x": [
          4980,
          421,
          57,
          43,
          369,
          44,
          11,
          2,
          47
         ],
         "xaxis": "x",
         "y": [
          2041,
          29,
          14,
          26,
          208,
          18,
          42,
          3,
          11
         ],
         "yaxis": "y"
        },
        {
         "customdata": [
          [
           60.34
          ],
          [
           87.5
          ],
          [
           60
          ]
         ],
         "hovertemplate": "Category=Digital,Art<br>Sales=%{x}<br>Owners=%{y}<br>Assets=%{marker.size}<br>Owner_Asset_Ratio=%{customdata[0]}<extra></extra>",
         "legendgroup": "Digital,Art",
         "marker": {
          "color": "#636efa",
          "size": [
           58,
           32,
           5
          ],
          "sizemode": "area",
          "sizeref": 8.3,
          "symbol": "circle"
         },
         "mode": "markers",
         "name": "Digital,Art",
         "orientation": "v",
         "showlegend": true,
         "type": "scatter",
         "x": [
          315,
          58,
          1
         ],
         "xaxis": "x",
         "y": [
          35,
          28,
          3
         ],
         "yaxis": "y"
        },
        {
         "customdata": [
          [
           67.41
          ]
         ],
         "hovertemplate": "Category=AI,Pixel Art,Metaverse,Trading Cards<br>Sales=%{x}<br>Owners=%{y}<br>Assets=%{marker.size}<br>Owner_Asset_Ratio=%{customdata[0]}<extra></extra>",
         "legendgroup": "AI,Pixel Art,Metaverse,Trading Cards",
         "marker": {
          "color": "#EF553B",
          "size": [
           451
          ],
          "sizemode": "area",
          "sizeref": 8.3,
          "symbol": "circle"
         },
         "mode": "markers",
         "name": "AI,Pixel Art,Metaverse,Trading Cards",
         "orientation": "v",
         "showlegend": true,
         "type": "scatter",
         "x": [
          411
         ],
         "xaxis": "x",
         "y": [
          304
         ],
         "yaxis": "y"
        },
        {
         "customdata": [
          [
           64.29
          ]
         ],
         "hovertemplate": "Category=Metaverse,Collectibles,PFP,3D,Design<br>Sales=%{x}<br>Owners=%{y}<br>Assets=%{marker.size}<br>Owner_Asset_Ratio=%{customdata[0]}<extra></extra>",
         "legendgroup": "Metaverse,Collectibles,PFP,3D,Design",
         "marker": {
          "color": "#00cc96",
          "size": [
           28
          ],
          "sizemode": "area",
          "sizeref": 8.3,
          "symbol": "circle"
         },
         "mode": "markers",
         "name": "Metaverse,Collectibles,PFP,3D,Design",
         "orientation": "v",
         "showlegend": true,
         "type": "scatter",
         "x": [
          200
         ],
         "xaxis": "x",
         "y": [
          18
         ],
         "yaxis": "y"
        },
        {
         "customdata": [
          [
           3.22
          ]
         ],
         "hovertemplate": "Category=Collectibles,Art,Digital,PFP<br>Sales=%{x}<br>Owners=%{y}<br>Assets=%{marker.size}<br>Owner_Asset_Ratio=%{customdata[0]}<extra></extra>",
         "legendgroup": "Collectibles,Art,Digital,PFP",
         "marker": {
          "color": "#ab63fa",
          "size": [
           466
          ],
          "sizemode": "area",
          "sizeref": 8.3,
          "symbol": "circle"
         },
         "mode": "markers",
         "name": "Collectibles,Art,Digital,PFP",
         "orientation": "v",
         "showlegend": true,
         "type": "scatter",
         "x": [
          579
         ],
         "xaxis": "x",
         "y": [
          15
         ],
         "yaxis": "y"
        },
        {
         "customdata": [
          [
           80.77
          ]
         ],
         "hovertemplate": "Category=Digital,Art,Collectibles,PFP,2D<br>Sales=%{x}<br>Owners=%{y}<br>Assets=%{marker.size}<br>Owner_Asset_Ratio=%{customdata[0]}<extra></extra>",
         "legendgroup": "Digital,Art,Collectibles,PFP,2D",
         "marker": {
          "color": "#FFA15A",
          "size": [
           52
          ],
          "sizemode": "area",
          "sizeref": 8.3,
          "symbol": "circle"
         },
         "mode": "markers",
         "name": "Digital,Art,Collectibles,PFP,2D",
         "orientation": "v",
         "showlegend": true,
         "type": "scatter",
         "x": [
          350
         ],
         "xaxis": "x",
         "y": [
          42
         ],
         "yaxis": "y"
        },
        {
         "customdata": [
          [
           25.14
          ],
          [
           27.03
          ],
          [
           49.57
          ],
          [
           9.86
          ],
          [
           24
          ],
          [
           48
          ],
          [
           65.12
          ],
          [
           10.91
          ],
          [
           null
          ]
         ],
         "hovertemplate": "Category=Digital,Art,Collectibles<br>Sales=%{x}<br>Owners=%{y}<br>Assets=%{marker.size}<br>Owner_Asset_Ratio=%{customdata[0]}<extra></extra>",
         "legendgroup": "Digital,Art,Collectibles",
         "marker": {
          "color": "#19d3f3",
          "size": [
           183,
           185,
           115,
           71,
           25,
           25,
           43,
           55,
           0
          ],
          "sizemode": "area",
          "sizeref": 8.3,
          "symbol": "circle"
         },
         "mode": "markers",
         "name": "Digital,Art,Collectibles",
         "orientation": "v",
         "showlegend": true,
         "type": "scatter",
         "x": [
          285,
          295,
          52,
          23,
          73,
          35,
          26,
          31,
          11
         ],
         "xaxis": "x",
         "y": [
          46,
          50,
          57,
          7,
          6,
          12,
          28,
          6,
          0
         ],
         "yaxis": "y"
        },
        {
         "customdata": [
          [
           33.93
          ]
         ],
         "hovertemplate": "Category=PFP,Digital,Collectibles,Ticket<br>Sales=%{x}<br>Owners=%{y}<br>Assets=%{marker.size}<br>Owner_Asset_Ratio=%{customdata[0]}<extra></extra>",
         "legendgroup": "PFP,Digital,Collectibles,Ticket",
         "marker": {
          "color": "#FF6692",
          "size": [
           504
          ],
          "sizemode": "area",
          "sizeref": 8.3,
          "symbol": "circle"
         },
         "mode": "markers",
         "name": "PFP,Digital,Collectibles,Ticket",
         "orientation": "v",
         "showlegend": true,
         "type": "scatter",
         "x": [
          370
         ],
         "xaxis": "x",
         "y": [
          171
         ],
         "yaxis": "y"
        },
        {
         "customdata": [
          [
           6.51
          ]
         ],
         "hovertemplate": "Category=Digital,Art,Collectibles,Trading Cards,3D,Video<br>Sales=%{x}<br>Owners=%{y}<br>Assets=%{marker.size}<br>Owner_Asset_Ratio=%{customdata[0]}<extra></extra>",
         "legendgroup": "Digital,Art,Collectibles,Trading Cards,3D,Video",
         "marker": {
          "color": "#B6E880",
          "size": [
           860
          ],
          "sizemode": "area",
          "sizeref": 8.3,
          "symbol": "circle"
         },
         "mode": "markers",
         "name": "Digital,Art,Collectibles,Trading Cards,3D,Video",
         "orientation": "v",
         "showlegend": true,
         "type": "scatter",
         "x": [
          506
         ],
         "xaxis": "x",
         "y": [
          56
         ],
         "yaxis": "y"
        },
        {
         "customdata": [
          [
           63.95
          ],
          [
           13.99
          ],
          [
           90.57
          ]
         ],
         "hovertemplate": "Category=Collectibles,PFP<br>Sales=%{x}<br>Owners=%{y}<br>Assets=%{marker.size}<br>Owner_Asset_Ratio=%{customdata[0]}<extra></extra>",
         "legendgroup": "Collectibles,PFP",
         "marker": {
          "color": "#FF97FF",
          "size": [
           516,
           772,
           53
          ],
          "sizemode": "area",
          "sizeref": 8.3,
          "symbol": "circle"
         },
         "mode": "markers",
         "name": "Collectibles,PFP",
         "orientation": "v",
         "showlegend": true,
         "type": "scatter",
         "x": [
          1148,
          320,
          236
         ],
         "xaxis": "x",
         "y": [
          330,
          108,
          48
         ],
         "yaxis": "y"
        },
        {
         "customdata": [
          [
           35.71
          ]
         ],
         "hovertemplate": "Category=Art,Collectibles,Photography,Metaverse,Performance,3D,Drawing,Digital<br>Sales=%{x}<br>Owners=%{y}<br>Assets=%{marker.size}<br>Owner_Asset_Ratio=%{customdata[0]}<extra></extra>",
         "legendgroup": "Art,Collectibles,Photography,Metaverse,Performance,3D,Drawing,Digital",
         "marker": {
          "color": "#FECB52",
          "size": [
           14
          ],
          "sizemode": "area",
          "sizeref": 8.3,
          "symbol": "circle"
         },
         "mode": "markers",
         "name": "Art,Collectibles,Photography,Metaverse,Performance,3D,Drawing,Digital",
         "orientation": "v",
         "showlegend": true,
         "type": "scatter",
         "x": [
          11
         ],
         "xaxis": "x",
         "y": [
          5
         ],
         "yaxis": "y"
        },
        {
         "customdata": [
          [
           0.62
          ]
         ],
         "hovertemplate": "Category=Art,Digital,Graphics,Collectibles<br>Sales=%{x}<br>Owners=%{y}<br>Assets=%{marker.size}<br>Owner_Asset_Ratio=%{customdata[0]}<extra></extra>",
         "legendgroup": "Art,Digital,Graphics,Collectibles",
         "marker": {
          "color": "#636efa",
          "size": [
           963
          ],
          "sizemode": "area",
          "sizeref": 8.3,
          "symbol": "circle"
         },
         "mode": "markers",
         "name": "Art,Digital,Graphics,Collectibles",
         "orientation": "v",
         "showlegend": true,
         "type": "scatter",
         "x": [
          642
         ],
         "xaxis": "x",
         "y": [
          6
         ],
         "yaxis": "y"
        },
        {
         "customdata": [
          [
           92.96
          ]
         ],
         "hovertemplate": "Category=Metaverse,Privilege<br>Sales=%{x}<br>Owners=%{y}<br>Assets=%{marker.size}<br>Owner_Asset_Ratio=%{customdata[0]}<extra></extra>",
         "legendgroup": "Metaverse,Privilege",
         "marker": {
          "color": "#EF553B",
          "size": [
           341
          ],
          "sizemode": "area",
          "sizeref": 8.3,
          "symbol": "circle"
         },
         "mode": "markers",
         "name": "Metaverse,Privilege",
         "orientation": "v",
         "showlegend": true,
         "type": "scatter",
         "x": [
          191
         ],
         "xaxis": "x",
         "y": [
          317
         ],
         "yaxis": "y"
        },
        {
         "customdata": [
          [
           15.22
          ]
         ],
         "hovertemplate": "Category=Digital,Art,Collectibles,Painting,Image,Picture<br>Sales=%{x}<br>Owners=%{y}<br>Assets=%{marker.size}<br>Owner_Asset_Ratio=%{customdata[0]}<extra></extra>",
         "legendgroup": "Digital,Art,Collectibles,Painting,Image,Picture",
         "marker": {
          "color": "#00cc96",
          "size": [
           46
          ],
          "sizemode": "area",
          "sizeref": 8.3,
          "symbol": "circle"
         },
         "mode": "markers",
         "name": "Digital,Art,Collectibles,Painting,Image,Picture",
         "orientation": "v",
         "showlegend": true,
         "type": "scatter",
         "x": [
          35
         ],
         "xaxis": "x",
         "y": [
          7
         ],
         "yaxis": "y"
        },
        {
         "customdata": [
          [
           64.04
          ]
         ],
         "hovertemplate": "Category=Collectibles,Digital,Metaverse,Art,Graphics,2D,Picture,Image,Design<br>Sales=%{x}<br>Owners=%{y}<br>Assets=%{marker.size}<br>Owner_Asset_Ratio=%{customdata[0]}<extra></extra>",
         "legendgroup": "Collectibles,Digital,Metaverse,Art,Graphics,2D,Picture,Image,Design",
         "marker": {
          "color": "#ab63fa",
          "size": [
           114
          ],
          "sizemode": "area",
          "sizeref": 8.3,
          "symbol": "circle"
         },
         "mode": "markers",
         "name": "Collectibles,Digital,Metaverse,Art,Graphics,2D,Picture,Image,Design",
         "orientation": "v",
         "showlegend": true,
         "type": "scatter",
         "x": [
          376
         ],
         "xaxis": "x",
         "y": [
          73
         ],
         "yaxis": "y"
        },
        {
         "customdata": [
          [
           47.14
          ]
         ],
         "hovertemplate": "Category=Digital,Art,Collectibles,2D,PFP,Drawing,P2E,Design,Image,Metaverse<br>Sales=%{x}<br>Owners=%{y}<br>Assets=%{marker.size}<br>Owner_Asset_Ratio=%{customdata[0]}<extra></extra>",
         "legendgroup": "Digital,Art,Collectibles,2D,PFP,Drawing,P2E,Design,Image,Metaverse",
         "marker": {
          "color": "#FFA15A",
          "size": [
           210
          ],
          "sizemode": "area",
          "sizeref": 8.3,
          "symbol": "circle"
         },
         "mode": "markers",
         "name": "Digital,Art,Collectibles,2D,PFP,Drawing,P2E,Design,Image,Metaverse",
         "orientation": "v",
         "showlegend": true,
         "type": "scatter",
         "x": [
          302
         ],
         "xaxis": "x",
         "y": [
          99
         ],
         "yaxis": "y"
        },
        {
         "customdata": [
          [
           38.46
          ],
          [
           58.06
          ],
          [
           26.67
          ]
         ],
         "hovertemplate": "Category=Art,Digital,Collectibles<br>Sales=%{x}<br>Owners=%{y}<br>Assets=%{marker.size}<br>Owner_Asset_Ratio=%{customdata[0]}<extra></extra>",
         "legendgroup": "Art,Digital,Collectibles",
         "marker": {
          "color": "#19d3f3",
          "size": [
           195,
           31,
           15
          ],
          "sizemode": "area",
          "sizeref": 8.3,
          "symbol": "circle"
         },
         "mode": "markers",
         "name": "Art,Digital,Collectibles",
         "orientation": "v",
         "showlegend": true,
         "type": "scatter",
         "x": [
          348,
          40,
          7
         ],
         "xaxis": "x",
         "y": [
          75,
          18,
          4
         ],
         "yaxis": "y"
        },
        {
         "customdata": [
          [
           67.87
          ]
         ],
         "hovertemplate": "Category=2D,Collectibles,Graphics,PFP<br>Sales=%{x}<br>Owners=%{y}<br>Assets=%{marker.size}<br>Owner_Asset_Ratio=%{customdata[0]}<extra></extra>",
         "legendgroup": "2D,Collectibles,Graphics,PFP",
         "marker": {
          "color": "#FF6692",
          "size": [
           249
          ],
          "sizemode": "area",
          "sizeref": 8.3,
          "symbol": "circle"
         },
         "mode": "markers",
         "name": "2D,Collectibles,Graphics,PFP",
         "orientation": "v",
         "showlegend": true,
         "type": "scatter",
         "x": [
          1032
         ],
         "xaxis": "x",
         "y": [
          169
         ],
         "yaxis": "y"
        },
        {
         "customdata": [
          [
           40.91
          ]
         ],
         "hovertemplate": "Category=Digital,Design,Art,Collectibles,Graphics<br>Sales=%{x}<br>Owners=%{y}<br>Assets=%{marker.size}<br>Owner_Asset_Ratio=%{customdata[0]}<extra></extra>",
         "legendgroup": "Digital,Design,Art,Collectibles,Graphics",
         "marker": {
          "color": "#B6E880",
          "size": [
           110
          ],
          "sizemode": "area",
          "sizeref": 8.3,
          "symbol": "circle"
         },
         "mode": "markers",
         "name": "Digital,Design,Art,Collectibles,Graphics",
         "orientation": "v",
         "showlegend": true,
         "type": "scatter",
         "x": [
          267
         ],
         "xaxis": "x",
         "y": [
          45
         ],
         "yaxis": "y"
        },
        {
         "customdata": [
          [
           63.98
          ]
         ],
         "hovertemplate": "Category=P2E,Metaverse<br>Sales=%{x}<br>Owners=%{y}<br>Assets=%{marker.size}<br>Owner_Asset_Ratio=%{customdata[0]}<extra></extra>",
         "legendgroup": "P2E,Metaverse",
         "marker": {
          "color": "#FF97FF",
          "size": [
           186
          ],
          "sizemode": "area",
          "sizeref": 8.3,
          "symbol": "circle"
         },
         "mode": "markers",
         "name": "P2E,Metaverse",
         "orientation": "v",
         "showlegend": true,
         "type": "scatter",
         "x": [
          274
         ],
         "xaxis": "x",
         "y": [
          119
         ],
         "yaxis": "y"
        },
        {
         "customdata": [
          [
           72.09
          ]
         ],
         "hovertemplate": "Category=Digital,Metaverse,P2E,Art<br>Sales=%{x}<br>Owners=%{y}<br>Assets=%{marker.size}<br>Owner_Asset_Ratio=%{customdata[0]}<extra></extra>",
         "legendgroup": "Digital,Metaverse,P2E,Art",
         "marker": {
          "color": "#FECB52",
          "size": [
           344
          ],
          "sizemode": "area",
          "sizeref": 8.3,
          "symbol": "circle"
         },
         "mode": "markers",
         "name": "Digital,Metaverse,P2E,Art",
         "orientation": "v",
         "showlegend": true,
         "type": "scatter",
         "x": [
          372
         ],
         "xaxis": "x",
         "y": [
          248
         ],
         "yaxis": "y"
        },
        {
         "customdata": [
          [
           62.01
          ]
         ],
         "hovertemplate": "Category=Digital,Art,PFP,2D,Design,Picture,Collectibles<br>Sales=%{x}<br>Owners=%{y}<br>Assets=%{marker.size}<br>Owner_Asset_Ratio=%{customdata[0]}<extra></extra>",
         "legendgroup": "Digital,Art,PFP,2D,Design,Picture,Collectibles",
         "marker": {
          "color": "#636efa",
          "size": [
           587
          ],
          "sizemode": "area",
          "sizeref": 8.3,
          "symbol": "circle"
         },
         "mode": "markers",
         "name": "Digital,Art,PFP,2D,Design,Picture,Collectibles",
         "orientation": "v",
         "showlegend": true,
         "type": "scatter",
         "x": [
          454
         ],
         "xaxis": "x",
         "y": [
          364
         ],
         "yaxis": "y"
        },
        {
         "customdata": [
          [
           36.12
          ]
         ],
         "hovertemplate": "Category=Digital,Metaverse,Art,Collectibles,2D,P2E<br>Sales=%{x}<br>Owners=%{y}<br>Assets=%{marker.size}<br>Owner_Asset_Ratio=%{customdata[0]}<extra></extra>",
         "legendgroup": "Digital,Metaverse,Art,Collectibles,2D,P2E",
         "marker": {
          "color": "#EF553B",
          "size": [
           872
          ],
          "sizemode": "area",
          "sizeref": 8.3,
          "symbol": "circle"
         },
         "mode": "markers",
         "name": "Digital,Metaverse,Art,Collectibles,2D,P2E",
         "orientation": "v",
         "showlegend": true,
         "type": "scatter",
         "x": [
          1514
         ],
         "xaxis": "x",
         "y": [
          315
         ],
         "yaxis": "y"
        },
        {
         "customdata": [
          [
           57.14
          ]
         ],
         "hovertemplate": "Category=Digital,Art,Collectibles,Immaterial,Metaverse,Graphics,2D,Photography,Picture,Pixel Art<br>Sales=%{x}<br>Owners=%{y}<br>Assets=%{marker.size}<br>Owner_Asset_Ratio=%{customdata[0]}<extra></extra>",
         "legendgroup": "Digital,Art,Collectibles,Immaterial,Metaverse,Graphics,2D,Photography,Picture,Pixel Art",
         "marker": {
          "color": "#00cc96",
          "size": [
           7
          ],
          "sizemode": "area",
          "sizeref": 8.3,
          "symbol": "circle"
         },
         "mode": "markers",
         "name": "Digital,Art,Collectibles,Immaterial,Metaverse,Graphics,2D,Photography,Picture,Pixel Art",
         "orientation": "v",
         "showlegend": true,
         "type": "scatter",
         "x": [
          8
         ],
         "xaxis": "x",
         "y": [
          4
         ],
         "yaxis": "y"
        },
        {
         "customdata": [
          [
           57.25
          ]
         ],
         "hovertemplate": "Category=Art,Collectibles,P2E,Metaverse,3D<br>Sales=%{x}<br>Owners=%{y}<br>Assets=%{marker.size}<br>Owner_Asset_Ratio=%{customdata[0]}<extra></extra>",
         "legendgroup": "Art,Collectibles,P2E,Metaverse,3D",
         "marker": {
          "color": "#ab63fa",
          "size": [
           559
          ],
          "sizemode": "area",
          "sizeref": 8.3,
          "symbol": "circle"
         },
         "mode": "markers",
         "name": "Art,Collectibles,P2E,Metaverse,3D",
         "orientation": "v",
         "showlegend": true,
         "type": "scatter",
         "x": [
          1904
         ],
         "xaxis": "x",
         "y": [
          320
         ],
         "yaxis": "y"
        },
        {
         "customdata": [
          [
           67.8
          ]
         ],
         "hovertemplate": "Category=Digital,Metaverse,Art,PFP<br>Sales=%{x}<br>Owners=%{y}<br>Assets=%{marker.size}<br>Owner_Asset_Ratio=%{customdata[0]}<extra></extra>",
         "legendgroup": "Digital,Metaverse,Art,PFP",
         "marker": {
          "color": "#FFA15A",
          "size": [
           118
          ],
          "sizemode": "area",
          "sizeref": 8.3,
          "symbol": "circle"
         },
         "mode": "markers",
         "name": "Digital,Metaverse,Art,PFP",
         "orientation": "v",
         "showlegend": true,
         "type": "scatter",
         "x": [
          190
         ],
         "xaxis": "x",
         "y": [
          80
         ],
         "yaxis": "y"
        },
        {
         "customdata": [
          [
           62.5
          ]
         ],
         "hovertemplate": "Category=Metaverse,P2E,Collectibles,Art,PFP<br>Sales=%{x}<br>Owners=%{y}<br>Assets=%{marker.size}<br>Owner_Asset_Ratio=%{customdata[0]}<extra></extra>",
         "legendgroup": "Metaverse,P2E,Collectibles,Art,PFP",
         "marker": {
          "color": "#19d3f3",
          "size": [
           56
          ],
          "sizemode": "area",
          "sizeref": 8.3,
          "symbol": "circle"
         },
         "mode": "markers",
         "name": "Metaverse,P2E,Collectibles,Art,PFP",
         "orientation": "v",
         "showlegend": true,
         "type": "scatter",
         "x": [
          156
         ],
         "xaxis": "x",
         "y": [
          35
         ],
         "yaxis": "y"
        },
        {
         "customdata": [
          [
           100
          ]
         ],
         "hovertemplate": "Category=Digital,Collectibles,PFP,Metaverse,Privilege,Art<br>Sales=%{x}<br>Owners=%{y}<br>Assets=%{marker.size}<br>Owner_Asset_Ratio=%{customdata[0]}<extra></extra>",
         "legendgroup": "Digital,Collectibles,PFP,Metaverse,Privilege,Art",
         "marker": {
          "color": "#FF6692",
          "size": [
           13
          ],
          "sizemode": "area",
          "sizeref": 8.3,
          "symbol": "circle"
         },
         "mode": "markers",
         "name": "Digital,Collectibles,PFP,Metaverse,Privilege,Art",
         "orientation": "v",
         "showlegend": true,
         "type": "scatter",
         "x": [
          69
         ],
         "xaxis": "x",
         "y": [
          13
         ],
         "yaxis": "y"
        },
        {
         "customdata": [
          [
           60.97
          ]
         ],
         "hovertemplate": "Category=Collectibles,Digital,Metaverse,Art,PFP<br>Sales=%{x}<br>Owners=%{y}<br>Assets=%{marker.size}<br>Owner_Asset_Ratio=%{customdata[0]}<extra></extra>",
         "legendgroup": "Collectibles,Digital,Metaverse,Art,PFP",
         "marker": {
          "color": "#B6E880",
          "size": [
           497
          ],
          "sizemode": "area",
          "sizeref": 8.3,
          "symbol": "circle"
         },
         "mode": "markers",
         "name": "Collectibles,Digital,Metaverse,Art,PFP",
         "orientation": "v",
         "showlegend": true,
         "type": "scatter",
         "x": [
          1529
         ],
         "xaxis": "x",
         "y": [
          303
         ],
         "yaxis": "y"
        },
        {
         "customdata": [
          [
           20.65
          ]
         ],
         "hovertemplate": "Category=Metaverse,Digital,Art,Graphics,2D,3D,Painting,Photography,Drawing,Video,Design,Pixel Art<br>Sales=%{x}<br>Owners=%{y}<br>Assets=%{marker.size}<br>Owner_Asset_Ratio=%{customdata[0]}<extra></extra>",
         "legendgroup": "Metaverse,Digital,Art,Graphics,2D,3D,Painting,Photography,Drawing,Video,Design,Pixel Art",
         "marker": {
          "color": "#FF97FF",
          "size": [
           92
          ],
          "sizemode": "area",
          "sizeref": 8.3,
          "symbol": "circle"
         },
         "mode": "markers",
         "name": "Metaverse,Digital,Art,Graphics,2D,3D,Painting,Photography,Drawing,Video,Design,Pixel Art",
         "orientation": "v",
         "showlegend": true,
         "type": "scatter",
         "x": [
          41
         ],
         "xaxis": "x",
         "y": [
          19
         ],
         "yaxis": "y"
        },
        {
         "customdata": [
          [
           35.16
          ]
         ],
         "hovertemplate": "Category=Art,Collectibles,2D,Painting,Picture,Image<br>Sales=%{x}<br>Owners=%{y}<br>Assets=%{marker.size}<br>Owner_Asset_Ratio=%{customdata[0]}<extra></extra>",
         "legendgroup": "Art,Collectibles,2D,Painting,Picture,Image",
         "marker": {
          "color": "#FECB52",
          "size": [
           91
          ],
          "sizemode": "area",
          "sizeref": 8.3,
          "symbol": "circle"
         },
         "mode": "markers",
         "name": "Art,Collectibles,2D,Painting,Picture,Image",
         "orientation": "v",
         "showlegend": true,
         "type": "scatter",
         "x": [
          120
         ],
         "xaxis": "x",
         "y": [
          32
         ],
         "yaxis": "y"
        },
        {
         "customdata": [
          [
           72.92
          ]
         ],
         "hovertemplate": "Category=Digital,Privilege,Art,Collectibles<br>Sales=%{x}<br>Owners=%{y}<br>Assets=%{marker.size}<br>Owner_Asset_Ratio=%{customdata[0]}<extra></extra>",
         "legendgroup": "Digital,Privilege,Art,Collectibles",
         "marker": {
          "color": "#636efa",
          "size": [
           48
          ],
          "sizemode": "area",
          "sizeref": 8.3,
          "symbol": "circle"
         },
         "mode": "markers",
         "name": "Digital,Privilege,Art,Collectibles",
         "orientation": "v",
         "showlegend": true,
         "type": "scatter",
         "x": [
          84
         ],
         "xaxis": "x",
         "y": [
          35
         ],
         "yaxis": "y"
        },
        {
         "customdata": [
          [
           90
          ]
         ],
         "hovertemplate": "Category=P2E,Digital,Collectibles<br>Sales=%{x}<br>Owners=%{y}<br>Assets=%{marker.size}<br>Owner_Asset_Ratio=%{customdata[0]}<extra></extra>",
         "legendgroup": "P2E,Digital,Collectibles",
         "marker": {
          "color": "#EF553B",
          "size": [
           10
          ],
          "sizemode": "area",
          "sizeref": 8.3,
          "symbol": "circle"
         },
         "mode": "markers",
         "name": "P2E,Digital,Collectibles",
         "orientation": "v",
         "showlegend": true,
         "type": "scatter",
         "x": [
          39
         ],
         "xaxis": "x",
         "y": [
          9
         ],
         "yaxis": "y"
        },
        {
         "customdata": [
          [
           0.94
          ]
         ],
         "hovertemplate": "Category=Digital,Privilege,Metaverse,Collectibles,3D,Video<br>Sales=%{x}<br>Owners=%{y}<br>Assets=%{marker.size}<br>Owner_Asset_Ratio=%{customdata[0]}<extra></extra>",
         "legendgroup": "Digital,Privilege,Metaverse,Collectibles,3D,Video",
         "marker": {
          "color": "#00cc96",
          "size": [
           106
          ],
          "sizemode": "area",
          "sizeref": 8.3,
          "symbol": "circle"
         },
         "mode": "markers",
         "name": "Digital,Privilege,Metaverse,Collectibles,3D,Video",
         "orientation": "v",
         "showlegend": true,
         "type": "scatter",
         "x": [
          27
         ],
         "xaxis": "x",
         "y": [
          1
         ],
         "yaxis": "y"
        },
        {
         "customdata": [
          [
           53.33
          ]
         ],
         "hovertemplate": "Category=Art,Digital,Painting<br>Sales=%{x}<br>Owners=%{y}<br>Assets=%{marker.size}<br>Owner_Asset_Ratio=%{customdata[0]}<extra></extra>",
         "legendgroup": "Art,Digital,Painting",
         "marker": {
          "color": "#ab63fa",
          "size": [
           45
          ],
          "sizemode": "area",
          "sizeref": 8.3,
          "symbol": "circle"
         },
         "mode": "markers",
         "name": "Art,Digital,Painting",
         "orientation": "v",
         "showlegend": true,
         "type": "scatter",
         "x": [
          40
         ],
         "xaxis": "x",
         "y": [
          24
         ],
         "yaxis": "y"
        },
        {
         "customdata": [
          [
           33.33
          ]
         ],
         "hovertemplate": "Category=Collectibles,2D,Image,Picture<br>Sales=%{x}<br>Owners=%{y}<br>Assets=%{marker.size}<br>Owner_Asset_Ratio=%{customdata[0]}<extra></extra>",
         "legendgroup": "Collectibles,2D,Image,Picture",
         "marker": {
          "color": "#FFA15A",
          "size": [
           120
          ],
          "sizemode": "area",
          "sizeref": 8.3,
          "symbol": "circle"
         },
         "mode": "markers",
         "name": "Collectibles,2D,Image,Picture",
         "orientation": "v",
         "showlegend": true,
         "type": "scatter",
         "x": [
          82
         ],
         "xaxis": "x",
         "y": [
          40
         ],
         "yaxis": "y"
        },
        {
         "customdata": [
          [
           35.58
          ]
         ],
         "hovertemplate": "Category=P2E,Digital,Art,Metaverse,PFP<br>Sales=%{x}<br>Owners=%{y}<br>Assets=%{marker.size}<br>Owner_Asset_Ratio=%{customdata[0]}<extra></extra>",
         "legendgroup": "P2E,Digital,Art,Metaverse,PFP",
         "marker": {
          "color": "#19d3f3",
          "size": [
           208
          ],
          "sizemode": "area",
          "sizeref": 8.3,
          "symbol": "circle"
         },
         "mode": "markers",
         "name": "P2E,Digital,Art,Metaverse,PFP",
         "orientation": "v",
         "showlegend": true,
         "type": "scatter",
         "x": [
          255
         ],
         "xaxis": "x",
         "y": [
          74
         ],
         "yaxis": "y"
        },
        {
         "customdata": [
          [
           23.53
          ]
         ],
         "hovertemplate": "Category=Digital,Art,Collectibles,2D,Painting,Drawing,Image<br>Sales=%{x}<br>Owners=%{y}<br>Assets=%{marker.size}<br>Owner_Asset_Ratio=%{customdata[0]}<extra></extra>",
         "legendgroup": "Digital,Art,Collectibles,2D,Painting,Drawing,Image",
         "marker": {
          "color": "#FF6692",
          "size": [
           85
          ],
          "sizemode": "area",
          "sizeref": 8.3,
          "symbol": "circle"
         },
         "mode": "markers",
         "name": "Digital,Art,Collectibles,2D,Painting,Drawing,Image",
         "orientation": "v",
         "showlegend": true,
         "type": "scatter",
         "x": [
          10
         ],
         "xaxis": "x",
         "y": [
          20
         ],
         "yaxis": "y"
        },
        {
         "customdata": [
          [
           null
          ]
         ],
         "hovertemplate": "Category=Digital,Print,Collectibles,Art,PFP<br>Sales=%{x}<br>Owners=%{y}<br>Assets=%{marker.size}<br>Owner_Asset_Ratio=%{customdata[0]}<extra></extra>",
         "legendgroup": "Digital,Print,Collectibles,Art,PFP",
         "marker": {
          "color": "#B6E880",
          "size": [
           0
          ],
          "sizemode": "area",
          "sizeref": 8.3,
          "symbol": "circle"
         },
         "mode": "markers",
         "name": "Digital,Print,Collectibles,Art,PFP",
         "orientation": "v",
         "showlegend": true,
         "type": "scatter",
         "x": [
          242
         ],
         "xaxis": "x",
         "y": [
          0
         ],
         "yaxis": "y"
        },
        {
         "customdata": [
          [
           92
          ]
         ],
         "hovertemplate": "Category=3D,Art<br>Sales=%{x}<br>Owners=%{y}<br>Assets=%{marker.size}<br>Owner_Asset_Ratio=%{customdata[0]}<extra></extra>",
         "legendgroup": "3D,Art",
         "marker": {
          "color": "#FF97FF",
          "size": [
           25
          ],
          "sizemode": "area",
          "sizeref": 8.3,
          "symbol": "circle"
         },
         "mode": "markers",
         "name": "3D,Art",
         "orientation": "v",
         "showlegend": true,
         "type": "scatter",
         "x": [
          93
         ],
         "xaxis": "x",
         "y": [
          23
         ],
         "yaxis": "y"
        },
        {
         "customdata": [
          [
           70.97
          ]
         ],
         "hovertemplate": "Category=Digital,Metaverse,Art,Collectibles,PFP,3D,Design,P2E<br>Sales=%{x}<br>Owners=%{y}<br>Assets=%{marker.size}<br>Owner_Asset_Ratio=%{customdata[0]}<extra></extra>",
         "legendgroup": "Digital,Metaverse,Art,Collectibles,PFP,3D,Design,P2E",
         "marker": {
          "color": "#FECB52",
          "size": [
           31
          ],
          "sizemode": "area",
          "sizeref": 8.3,
          "symbol": "circle"
         },
         "mode": "markers",
         "name": "Digital,Metaverse,Art,Collectibles,PFP,3D,Design,P2E",
         "orientation": "v",
         "showlegend": true,
         "type": "scatter",
         "x": [
          84
         ],
         "xaxis": "x",
         "y": [
          22
         ],
         "yaxis": "y"
        },
        {
         "customdata": [
          [
           50.39
          ],
          [
           15.38
          ]
         ],
         "hovertemplate": "Category=Trading Cards,Collectibles<br>Sales=%{x}<br>Owners=%{y}<br>Assets=%{marker.size}<br>Owner_Asset_Ratio=%{customdata[0]}<extra></extra>",
         "legendgroup": "Trading Cards,Collectibles",
         "marker": {
          "color": "#636efa",
          "size": [
           127,
           13
          ],
          "sizemode": "area",
          "sizeref": 8.3,
          "symbol": "circle"
         },
         "mode": "markers",
         "name": "Trading Cards,Collectibles",
         "orientation": "v",
         "showlegend": true,
         "type": "scatter",
         "x": [
          66,
          1
         ],
         "xaxis": "x",
         "y": [
          64,
          2
         ],
         "yaxis": "y"
        },
        {
         "customdata": [
          [
           61.11
          ]
         ],
         "hovertemplate": "Category=Art,Collectibles,Digital,PFP<br>Sales=%{x}<br>Owners=%{y}<br>Assets=%{marker.size}<br>Owner_Asset_Ratio=%{customdata[0]}<extra></extra>",
         "legendgroup": "Art,Collectibles,Digital,PFP",
         "marker": {
          "color": "#EF553B",
          "size": [
           18
          ],
          "sizemode": "area",
          "sizeref": 8.3,
          "symbol": "circle"
         },
         "mode": "markers",
         "name": "Art,Collectibles,Digital,PFP",
         "orientation": "v",
         "showlegend": true,
         "type": "scatter",
         "x": [
          18
         ],
         "xaxis": "x",
         "y": [
          11
         ],
         "yaxis": "y"
        },
        {
         "customdata": [
          [
           18.27
          ]
         ],
         "hovertemplate": "Category=Metaverse,Collectibles,Digital,Image<br>Sales=%{x}<br>Owners=%{y}<br>Assets=%{marker.size}<br>Owner_Asset_Ratio=%{customdata[0]}<extra></extra>",
         "legendgroup": "Metaverse,Collectibles,Digital,Image",
         "marker": {
          "color": "#00cc96",
          "size": [
           301
          ],
          "sizemode": "area",
          "sizeref": 8.3,
          "symbol": "circle"
         },
         "mode": "markers",
         "name": "Metaverse,Collectibles,Digital,Image",
         "orientation": "v",
         "showlegend": true,
         "type": "scatter",
         "x": [
          629
         ],
         "xaxis": "x",
         "y": [
          55
         ],
         "yaxis": "y"
        },
        {
         "customdata": [
          [
           49.68
          ]
         ],
         "hovertemplate": "Category=Collectibles,Art,Image,Picture<br>Sales=%{x}<br>Owners=%{y}<br>Assets=%{marker.size}<br>Owner_Asset_Ratio=%{customdata[0]}<extra></extra>",
         "legendgroup": "Collectibles,Art,Image,Picture",
         "marker": {
          "color": "#ab63fa",
          "size": [
           473
          ],
          "sizemode": "area",
          "sizeref": 8.3,
          "symbol": "circle"
         },
         "mode": "markers",
         "name": "Collectibles,Art,Image,Picture",
         "orientation": "v",
         "showlegend": true,
         "type": "scatter",
         "x": [
          1307
         ],
         "xaxis": "x",
         "y": [
          235
         ],
         "yaxis": "y"
        },
        {
         "customdata": [
          [
           52.72
          ],
          [
           43.82
          ]
         ],
         "hovertemplate": "Category=Digital,Art,Collectibles,PFP,2D,Image<br>Sales=%{x}<br>Owners=%{y}<br>Assets=%{marker.size}<br>Owner_Asset_Ratio=%{customdata[0]}<extra></extra>",
         "legendgroup": "Digital,Art,Collectibles,PFP,2D,Image",
         "marker": {
          "color": "#FFA15A",
          "size": [
           368,
           178
          ],
          "sizemode": "area",
          "sizeref": 8.3,
          "symbol": "circle"
         },
         "mode": "markers",
         "name": "Digital,Art,Collectibles,PFP,2D,Image",
         "orientation": "v",
         "showlegend": true,
         "type": "scatter",
         "x": [
          504,
          369
         ],
         "xaxis": "x",
         "y": [
          194,
          78
         ],
         "yaxis": "y"
        },
        {
         "customdata": [
          [
           65.85
          ]
         ],
         "hovertemplate": "Category=Digital,Art,Collectibles,2D,Drawing,Painting<br>Sales=%{x}<br>Owners=%{y}<br>Assets=%{marker.size}<br>Owner_Asset_Ratio=%{customdata[0]}<extra></extra>",
         "legendgroup": "Digital,Art,Collectibles,2D,Drawing,Painting",
         "marker": {
          "color": "#19d3f3",
          "size": [
           41
          ],
          "sizemode": "area",
          "sizeref": 8.3,
          "symbol": "circle"
         },
         "mode": "markers",
         "name": "Digital,Art,Collectibles,2D,Drawing,Painting",
         "orientation": "v",
         "showlegend": true,
         "type": "scatter",
         "x": [
          91
         ],
         "xaxis": "x",
         "y": [
          27
         ],
         "yaxis": "y"
        },
        {
         "customdata": [
          [
           61.9
          ]
         ],
         "hovertemplate": "Category=Art,Painting,Drawing,Digital,Collectibles,AI,Design<br>Sales=%{x}<br>Owners=%{y}<br>Assets=%{marker.size}<br>Owner_Asset_Ratio=%{customdata[0]}<extra></extra>",
         "legendgroup": "Art,Painting,Drawing,Digital,Collectibles,AI,Design",
         "marker": {
          "color": "#FF6692",
          "size": [
           42
          ],
          "sizemode": "area",
          "sizeref": 8.3,
          "symbol": "circle"
         },
         "mode": "markers",
         "name": "Art,Painting,Drawing,Digital,Collectibles,AI,Design",
         "orientation": "v",
         "showlegend": true,
         "type": "scatter",
         "x": [
          127
         ],
         "xaxis": "x",
         "y": [
          26
         ],
         "yaxis": "y"
        },
        {
         "customdata": [
          [
           74.36
          ],
          [
           48.87
          ]
         ],
         "hovertemplate": "Category=Metaverse,Art<br>Sales=%{x}<br>Owners=%{y}<br>Assets=%{marker.size}<br>Owner_Asset_Ratio=%{customdata[0]}<extra></extra>",
         "legendgroup": "Metaverse,Art",
         "marker": {
          "color": "#B6E880",
          "size": [
           39,
           397
          ],
          "sizemode": "area",
          "sizeref": 8.3,
          "symbol": "circle"
         },
         "mode": "markers",
         "name": "Metaverse,Art",
         "orientation": "v",
         "showlegend": true,
         "type": "scatter",
         "x": [
          51,
          185
         ],
         "xaxis": "x",
         "y": [
          29,
          194
         ],
         "yaxis": "y"
        },
        {
         "customdata": [
          [
           21.05
          ]
         ],
         "hovertemplate": "Category=Art,Collectibles,PFP<br>Sales=%{x}<br>Owners=%{y}<br>Assets=%{marker.size}<br>Owner_Asset_Ratio=%{customdata[0]}<extra></extra>",
         "legendgroup": "Art,Collectibles,PFP",
         "marker": {
          "color": "#FF97FF",
          "size": [
           76
          ],
          "sizemode": "area",
          "sizeref": 8.3,
          "symbol": "circle"
         },
         "mode": "markers",
         "name": "Art,Collectibles,PFP",
         "orientation": "v",
         "showlegend": true,
         "type": "scatter",
         "x": [
          38
         ],
         "xaxis": "x",
         "y": [
          16
         ],
         "yaxis": "y"
        },
        {
         "customdata": [
          [
           65
          ]
         ],
         "hovertemplate": "Category=Digital,Metaverse,Art,Collectibles,PFP,3D,Picture<br>Sales=%{x}<br>Owners=%{y}<br>Assets=%{marker.size}<br>Owner_Asset_Ratio=%{customdata[0]}<extra></extra>",
         "legendgroup": "Digital,Metaverse,Art,Collectibles,PFP,3D,Picture",
         "marker": {
          "color": "#FECB52",
          "size": [
           40
          ],
          "sizemode": "area",
          "sizeref": 8.3,
          "symbol": "circle"
         },
         "mode": "markers",
         "name": "Digital,Metaverse,Art,Collectibles,PFP,3D,Picture",
         "orientation": "v",
         "showlegend": true,
         "type": "scatter",
         "x": [
          75
         ],
         "xaxis": "x",
         "y": [
          26
         ],
         "yaxis": "y"
        },
        {
         "customdata": [
          [
           46.92
          ]
         ],
         "hovertemplate": "Category=Digital,Art,Design,Collectibles,3D<br>Sales=%{x}<br>Owners=%{y}<br>Assets=%{marker.size}<br>Owner_Asset_Ratio=%{customdata[0]}<extra></extra>",
         "legendgroup": "Digital,Art,Design,Collectibles,3D",
         "marker": {
          "color": "#636efa",
          "size": [
           130
          ],
          "sizemode": "area",
          "sizeref": 8.3,
          "symbol": "circle"
         },
         "mode": "markers",
         "name": "Digital,Art,Design,Collectibles,3D",
         "orientation": "v",
         "showlegend": true,
         "type": "scatter",
         "x": [
          247
         ],
         "xaxis": "x",
         "y": [
          61
         ],
         "yaxis": "y"
        },
        {
         "customdata": [
          [
           68.06
          ]
         ],
         "hovertemplate": "Category=Digital,Art,PFP,3D,Design,Graphics,Collectibles,Sculpture<br>Sales=%{x}<br>Owners=%{y}<br>Assets=%{marker.size}<br>Owner_Asset_Ratio=%{customdata[0]}<extra></extra>",
         "legendgroup": "Digital,Art,PFP,3D,Design,Graphics,Collectibles,Sculpture",
         "marker": {
          "color": "#EF553B",
          "size": [
           72
          ],
          "sizemode": "area",
          "sizeref": 8.3,
          "symbol": "circle"
         },
         "mode": "markers",
         "name": "Digital,Art,PFP,3D,Design,Graphics,Collectibles,Sculpture",
         "orientation": "v",
         "showlegend": true,
         "type": "scatter",
         "x": [
          98
         ],
         "xaxis": "x",
         "y": [
          49
         ],
         "yaxis": "y"
        },
        {
         "customdata": [
          [
           58.94
          ]
         ],
         "hovertemplate": "Category=2D,Art,Metaverse,Collectibles<br>Sales=%{x}<br>Owners=%{y}<br>Assets=%{marker.size}<br>Owner_Asset_Ratio=%{customdata[0]}<extra></extra>",
         "legendgroup": "2D,Art,Metaverse,Collectibles",
         "marker": {
          "color": "#00cc96",
          "size": [
           207
          ],
          "sizemode": "area",
          "sizeref": 8.3,
          "symbol": "circle"
         },
         "mode": "markers",
         "name": "2D,Art,Metaverse,Collectibles",
         "orientation": "v",
         "showlegend": true,
         "type": "scatter",
         "x": [
          206
         ],
         "xaxis": "x",
         "y": [
          122
         ],
         "yaxis": "y"
        },
        {
         "customdata": [
          [
           52.17
          ],
          [
           80
          ]
         ],
         "hovertemplate": "Category=Art,Digital,Collectibles,3D<br>Sales=%{x}<br>Owners=%{y}<br>Assets=%{marker.size}<br>Owner_Asset_Ratio=%{customdata[0]}<extra></extra>",
         "legendgroup": "Art,Digital,Collectibles,3D",
         "marker": {
          "color": "#ab63fa",
          "size": [
           115,
           5
          ],
          "sizemode": "area",
          "sizeref": 8.3,
          "symbol": "circle"
         },
         "mode": "markers",
         "name": "Art,Digital,Collectibles,3D",
         "orientation": "v",
         "showlegend": true,
         "type": "scatter",
         "x": [
          64,
          5
         ],
         "xaxis": "x",
         "y": [
          60,
          4
         ],
         "yaxis": "y"
        },
        {
         "customdata": [
          [
           32.28
          ]
         ],
         "hovertemplate": "Category=Digital,Collectibles,Art,Drawing,Painting<br>Sales=%{x}<br>Owners=%{y}<br>Assets=%{marker.size}<br>Owner_Asset_Ratio=%{customdata[0]}<extra></extra>",
         "legendgroup": "Digital,Collectibles,Art,Drawing,Painting",
         "marker": {
          "color": "#FFA15A",
          "size": [
           127
          ],
          "sizemode": "area",
          "sizeref": 8.3,
          "symbol": "circle"
         },
         "mode": "markers",
         "name": "Digital,Collectibles,Art,Drawing,Painting",
         "orientation": "v",
         "showlegend": true,
         "type": "scatter",
         "x": [
          200
         ],
         "xaxis": "x",
         "y": [
          41
         ],
         "yaxis": "y"
        },
        {
         "customdata": [
          [
           10
          ]
         ],
         "hovertemplate": "Category=Digital,Metaverse,Collectibles,Art,Trading Cards,P2E<br>Sales=%{x}<br>Owners=%{y}<br>Assets=%{marker.size}<br>Owner_Asset_Ratio=%{customdata[0]}<extra></extra>",
         "legendgroup": "Digital,Metaverse,Collectibles,Art,Trading Cards,P2E",
         "marker": {
          "color": "#19d3f3",
          "size": [
           10
          ],
          "sizemode": "area",
          "sizeref": 8.3,
          "symbol": "circle"
         },
         "mode": "markers",
         "name": "Digital,Metaverse,Collectibles,Art,Trading Cards,P2E",
         "orientation": "v",
         "showlegend": true,
         "type": "scatter",
         "x": [
          71
         ],
         "xaxis": "x",
         "y": [
          1
         ],
         "yaxis": "y"
        },
        {
         "customdata": [
          [
           32.35
          ],
          [
           67.47
          ],
          [
           null
          ],
          [
           75
          ],
          [
           50
          ],
          [
           null
          ],
          [
           41.38
          ],
          [
           100
          ],
          [
           7.53
          ],
          [
           29.41
          ],
          [
           11.11
          ],
          [
           50
          ]
         ],
         "hovertemplate": "Category=Art<br>Sales=%{x}<br>Owners=%{y}<br>Assets=%{marker.size}<br>Owner_Asset_Ratio=%{customdata[0]}<extra></extra>",
         "legendgroup": "Art",
         "marker": {
          "color": "#FF6692",
          "size": [
           136,
           83,
           0,
           4,
           2,
           34,
           116,
           1,
           93,
           17,
           9,
           8
          ],
          "sizemode": "area",
          "sizeref": 8.3,
          "symbol": "circle"
         },
         "mode": "markers",
         "name": "Art",
         "orientation": "v",
         "showlegend": true,
         "type": "scatter",
         "x": [
          109,
          262,
          15,
          18,
          10,
          42,
          162,
          3,
          7,
          13,
          1,
          15
         ],
         "xaxis": "x",
         "y": [
          44,
          56,
          0,
          3,
          1,
          39,
          48,
          1,
          7,
          5,
          1,
          4
         ],
         "yaxis": "y"
        },
        {
         "customdata": [
          [
           67.86
          ]
         ],
         "hovertemplate": "Category=Digital,Metaverse,Art,2D,P2E<br>Sales=%{x}<br>Owners=%{y}<br>Assets=%{marker.size}<br>Owner_Asset_Ratio=%{customdata[0]}<extra></extra>",
         "legendgroup": "Digital,Metaverse,Art,2D,P2E",
         "marker": {
          "color": "#B6E880",
          "size": [
           84
          ],
          "sizemode": "area",
          "sizeref": 8.3,
          "symbol": "circle"
         },
         "mode": "markers",
         "name": "Digital,Metaverse,Art,2D,P2E",
         "orientation": "v",
         "showlegend": true,
         "type": "scatter",
         "x": [
          77
         ],
         "xaxis": "x",
         "y": [
          57
         ],
         "yaxis": "y"
        },
        {
         "customdata": [
          [
           62
          ]
         ],
         "hovertemplate": "Category=Digital,Metaverse,Art,Collectibles,PFP,2D,Design<br>Sales=%{x}<br>Owners=%{y}<br>Assets=%{marker.size}<br>Owner_Asset_Ratio=%{customdata[0]}<extra></extra>",
         "legendgroup": "Digital,Metaverse,Art,Collectibles,PFP,2D,Design",
         "marker": {
          "color": "#FF97FF",
          "size": [
           50
          ],
          "sizemode": "area",
          "sizeref": 8.3,
          "symbol": "circle"
         },
         "mode": "markers",
         "name": "Digital,Metaverse,Art,Collectibles,PFP,2D,Design",
         "orientation": "v",
         "showlegend": true,
         "type": "scatter",
         "x": [
          58
         ],
         "xaxis": "x",
         "y": [
          31
         ],
         "yaxis": "y"
        },
        {
         "customdata": [
          [
           53.22
          ]
         ],
         "hovertemplate": "Category=Art,P2E<br>Sales=%{x}<br>Owners=%{y}<br>Assets=%{marker.size}<br>Owner_Asset_Ratio=%{customdata[0]}<extra></extra>",
         "legendgroup": "Art,P2E",
         "marker": {
          "color": "#FECB52",
          "size": [
           528
          ],
          "sizemode": "area",
          "sizeref": 8.3,
          "symbol": "circle"
         },
         "mode": "markers",
         "name": "Art,P2E",
         "orientation": "v",
         "showlegend": true,
         "type": "scatter",
         "x": [
          831
         ],
         "xaxis": "x",
         "y": [
          281
         ],
         "yaxis": "y"
        },
        {
         "customdata": [
          [
           100
          ]
         ],
         "hovertemplate": "Category=3D,Digital,Privilege,Art,Image<br>Sales=%{x}<br>Owners=%{y}<br>Assets=%{marker.size}<br>Owner_Asset_Ratio=%{customdata[0]}<extra></extra>",
         "legendgroup": "3D,Digital,Privilege,Art,Image",
         "marker": {
          "color": "#636efa",
          "size": [
           4
          ],
          "sizemode": "area",
          "sizeref": 8.3,
          "symbol": "circle"
         },
         "mode": "markers",
         "name": "3D,Digital,Privilege,Art,Image",
         "orientation": "v",
         "showlegend": true,
         "type": "scatter",
         "x": [
          44
         ],
         "xaxis": "x",
         "y": [
          4
         ],
         "yaxis": "y"
        },
        {
         "customdata": [
          [
           40
          ],
          [
           63.64
          ],
          [
           48.15
          ]
         ],
         "hovertemplate": "Category=Art,Collectibles<br>Sales=%{x}<br>Owners=%{y}<br>Assets=%{marker.size}<br>Owner_Asset_Ratio=%{customdata[0]}<extra></extra>",
         "legendgroup": "Art,Collectibles",
         "marker": {
          "color": "#EF553B",
          "size": [
           25,
           11,
           27
          ],
          "sizemode": "area",
          "sizeref": 8.3,
          "symbol": "circle"
         },
         "mode": "markers",
         "name": "Art,Collectibles",
         "orientation": "v",
         "showlegend": true,
         "type": "scatter",
         "x": [
          48,
          22,
          3
         ],
         "xaxis": "x",
         "y": [
          10,
          7,
          13
         ],
         "yaxis": "y"
        },
        {
         "customdata": [
          [
           71.05
          ]
         ],
         "hovertemplate": "Category=PFP,Digital,Art,Collectibles,Drawing<br>Sales=%{x}<br>Owners=%{y}<br>Assets=%{marker.size}<br>Owner_Asset_Ratio=%{customdata[0]}<extra></extra>",
         "legendgroup": "PFP,Digital,Art,Collectibles,Drawing",
         "marker": {
          "color": "#00cc96",
          "size": [
           190
          ],
          "sizemode": "area",
          "sizeref": 8.3,
          "symbol": "circle"
         },
         "mode": "markers",
         "name": "PFP,Digital,Art,Collectibles,Drawing",
         "orientation": "v",
         "showlegend": true,
         "type": "scatter",
         "x": [
          212
         ],
         "xaxis": "x",
         "y": [
          135
         ],
         "yaxis": "y"
        },
        {
         "customdata": [
          [
           61.57
          ]
         ],
         "hovertemplate": "Category=Collectibles,Metaverse<br>Sales=%{x}<br>Owners=%{y}<br>Assets=%{marker.size}<br>Owner_Asset_Ratio=%{customdata[0]}<extra></extra>",
         "legendgroup": "Collectibles,Metaverse",
         "marker": {
          "color": "#ab63fa",
          "size": [
           432
          ],
          "sizemode": "area",
          "sizeref": 8.3,
          "symbol": "circle"
         },
         "mode": "markers",
         "name": "Collectibles,Metaverse",
         "orientation": "v",
         "showlegend": true,
         "type": "scatter",
         "x": [
          397
         ],
         "xaxis": "x",
         "y": [
          266
         ],
         "yaxis": "y"
        },
        {
         "customdata": [
          [
           45.39
          ]
         ],
         "hovertemplate": "Category=PFP,Digital,Art,Collectibles<br>Sales=%{x}<br>Owners=%{y}<br>Assets=%{marker.size}<br>Owner_Asset_Ratio=%{customdata[0]}<extra></extra>",
         "legendgroup": "PFP,Digital,Art,Collectibles",
         "marker": {
          "color": "#FFA15A",
          "size": [
           304
          ],
          "sizemode": "area",
          "sizeref": 8.3,
          "symbol": "circle"
         },
         "mode": "markers",
         "name": "PFP,Digital,Art,Collectibles",
         "orientation": "v",
         "showlegend": true,
         "type": "scatter",
         "x": [
          97
         ],
         "xaxis": "x",
         "y": [
          138
         ],
         "yaxis": "y"
        },
        {
         "customdata": [
          [
           39.82
          ]
         ],
         "hovertemplate": "Category=Digital,Art,Collectibles,PFP,2D,Drawing,Image<br>Sales=%{x}<br>Owners=%{y}<br>Assets=%{marker.size}<br>Owner_Asset_Ratio=%{customdata[0]}<extra></extra>",
         "legendgroup": "Digital,Art,Collectibles,PFP,2D,Drawing,Image",
         "marker": {
          "color": "#19d3f3",
          "size": [
           113
          ],
          "sizemode": "area",
          "sizeref": 8.3,
          "symbol": "circle"
         },
         "mode": "markers",
         "name": "Digital,Art,Collectibles,PFP,2D,Drawing,Image",
         "orientation": "v",
         "showlegend": true,
         "type": "scatter",
         "x": [
          20
         ],
         "xaxis": "x",
         "y": [
          45
         ],
         "yaxis": "y"
        },
        {
         "customdata": [
          [
           50
          ]
         ],
         "hovertemplate": "Category=Art,PFP,Digital,Collectibles,Metaverse,Graphics,Drawing,Image,Picture<br>Sales=%{x}<br>Owners=%{y}<br>Assets=%{marker.size}<br>Owner_Asset_Ratio=%{customdata[0]}<extra></extra>",
         "legendgroup": "Art,PFP,Digital,Collectibles,Metaverse,Graphics,Drawing,Image,Picture",
         "marker": {
          "color": "#FF6692",
          "size": [
           54
          ],
          "sizemode": "area",
          "sizeref": 8.3,
          "symbol": "circle"
         },
         "mode": "markers",
         "name": "Art,PFP,Digital,Collectibles,Metaverse,Graphics,Drawing,Image,Picture",
         "orientation": "v",
         "showlegend": true,
         "type": "scatter",
         "x": [
          112
         ],
         "xaxis": "x",
         "y": [
          27
         ],
         "yaxis": "y"
        },
        {
         "customdata": [
          [
           69.81
          ]
         ],
         "hovertemplate": "Category=Digital,Metaverse,Art,PFP,Graphics,2D,Drawing,Design,Image<br>Sales=%{x}<br>Owners=%{y}<br>Assets=%{marker.size}<br>Owner_Asset_Ratio=%{customdata[0]}<extra></extra>",
         "legendgroup": "Digital,Metaverse,Art,PFP,Graphics,2D,Drawing,Design,Image",
         "marker": {
          "color": "#B6E880",
          "size": [
           53
          ],
          "sizemode": "area",
          "sizeref": 8.3,
          "symbol": "circle"
         },
         "mode": "markers",
         "name": "Digital,Metaverse,Art,PFP,Graphics,2D,Drawing,Design,Image",
         "orientation": "v",
         "showlegend": true,
         "type": "scatter",
         "x": [
          162
         ],
         "xaxis": "x",
         "y": [
          37
         ],
         "yaxis": "y"
        },
        {
         "customdata": [
          [
           8.33
          ]
         ],
         "hovertemplate": "Category=Physical,Privilege,Collectibles<br>Sales=%{x}<br>Owners=%{y}<br>Assets=%{marker.size}<br>Owner_Asset_Ratio=%{customdata[0]}<extra></extra>",
         "legendgroup": "Physical,Privilege,Collectibles",
         "marker": {
          "color": "#FF97FF",
          "size": [
           12
          ],
          "sizemode": "area",
          "sizeref": 8.3,
          "symbol": "circle"
         },
         "mode": "markers",
         "name": "Physical,Privilege,Collectibles",
         "orientation": "v",
         "showlegend": true,
         "type": "scatter",
         "x": [
          6
         ],
         "xaxis": "x",
         "y": [
          1
         ],
         "yaxis": "y"
        },
        {
         "customdata": [
          [
           66.13
          ]
         ],
         "hovertemplate": "Category=Art,Pixel Art,Digital<br>Sales=%{x}<br>Owners=%{y}<br>Assets=%{marker.size}<br>Owner_Asset_Ratio=%{customdata[0]}<extra></extra>",
         "legendgroup": "Art,Pixel Art,Digital",
         "marker": {
          "color": "#FECB52",
          "size": [
           124
          ],
          "sizemode": "area",
          "sizeref": 8.3,
          "symbol": "circle"
         },
         "mode": "markers",
         "name": "Art,Pixel Art,Digital",
         "orientation": "v",
         "showlegend": true,
         "type": "scatter",
         "x": [
          466
         ],
         "xaxis": "x",
         "y": [
          82
         ],
         "yaxis": "y"
        },
        {
         "customdata": [
          [
           100
          ],
          [
           11.11
          ]
         ],
         "hovertemplate": "Category=Digital,Art,Drawing<br>Sales=%{x}<br>Owners=%{y}<br>Assets=%{marker.size}<br>Owner_Asset_Ratio=%{customdata[0]}<extra></extra>",
         "legendgroup": "Digital,Art,Drawing",
         "marker": {
          "color": "#636efa",
          "size": [
           8,
           9
          ],
          "sizemode": "area",
          "sizeref": 8.3,
          "symbol": "circle"
         },
         "mode": "markers",
         "name": "Digital,Art,Drawing",
         "orientation": "v",
         "showlegend": true,
         "type": "scatter",
         "x": [
          67,
          3
         ],
         "xaxis": "x",
         "y": [
          8,
          1
         ],
         "yaxis": "y"
        },
        {
         "customdata": [
          [
           66.67
          ]
         ],
         "hovertemplate": "Category=Art,Collectibles,2D,Digital<br>Sales=%{x}<br>Owners=%{y}<br>Assets=%{marker.size}<br>Owner_Asset_Ratio=%{customdata[0]}<extra></extra>",
         "legendgroup": "Art,Collectibles,2D,Digital",
         "marker": {
          "color": "#EF553B",
          "size": [
           147
          ],
          "sizemode": "area",
          "sizeref": 8.3,
          "symbol": "circle"
         },
         "mode": "markers",
         "name": "Art,Collectibles,2D,Digital",
         "orientation": "v",
         "showlegend": true,
         "type": "scatter",
         "x": [
          64
         ],
         "xaxis": "x",
         "y": [
          98
         ],
         "yaxis": "y"
        },
        {
         "customdata": [
          [
           82
          ]
         ],
         "hovertemplate": "Category=Art,Collectibles,Metaverse,PFP,Graphics,2D<br>Sales=%{x}<br>Owners=%{y}<br>Assets=%{marker.size}<br>Owner_Asset_Ratio=%{customdata[0]}<extra></extra>",
         "legendgroup": "Art,Collectibles,Metaverse,PFP,Graphics,2D",
         "marker": {
          "color": "#00cc96",
          "size": [
           50
          ],
          "sizemode": "area",
          "sizeref": 8.3,
          "symbol": "circle"
         },
         "mode": "markers",
         "name": "Art,Collectibles,Metaverse,PFP,Graphics,2D",
         "orientation": "v",
         "showlegend": true,
         "type": "scatter",
         "x": [
          37
         ],
         "xaxis": "x",
         "y": [
          41
         ],
         "yaxis": "y"
        },
        {
         "customdata": [
          [
           58.93
          ]
         ],
         "hovertemplate": "Category=Digital,Collectibles,3D<br>Sales=%{x}<br>Owners=%{y}<br>Assets=%{marker.size}<br>Owner_Asset_Ratio=%{customdata[0]}<extra></extra>",
         "legendgroup": "Digital,Collectibles,3D",
         "marker": {
          "color": "#ab63fa",
          "size": [
           56
          ],
          "sizemode": "area",
          "sizeref": 8.3,
          "symbol": "circle"
         },
         "mode": "markers",
         "name": "Digital,Collectibles,3D",
         "orientation": "v",
         "showlegend": true,
         "type": "scatter",
         "x": [
          106
         ],
         "xaxis": "x",
         "y": [
          33
         ],
         "yaxis": "y"
        },
        {
         "customdata": [
          [
           76.92
          ]
         ],
         "hovertemplate": "Category=Collectibles,2D,Digital<br>Sales=%{x}<br>Owners=%{y}<br>Assets=%{marker.size}<br>Owner_Asset_Ratio=%{customdata[0]}<extra></extra>",
         "legendgroup": "Collectibles,2D,Digital",
         "marker": {
          "color": "#FFA15A",
          "size": [
           13
          ],
          "sizemode": "area",
          "sizeref": 8.3,
          "symbol": "circle"
         },
         "mode": "markers",
         "name": "Collectibles,2D,Digital",
         "orientation": "v",
         "showlegend": true,
         "type": "scatter",
         "x": [
          35
         ],
         "xaxis": "x",
         "y": [
          10
         ],
         "yaxis": "y"
        },
        {
         "customdata": [
          [
           35.9
          ]
         ],
         "hovertemplate": "Category=Art,AI,Image,Picture,Painting,Collectibles<br>Sales=%{x}<br>Owners=%{y}<br>Assets=%{marker.size}<br>Owner_Asset_Ratio=%{customdata[0]}<extra></extra>",
         "legendgroup": "Art,AI,Image,Picture,Painting,Collectibles",
         "marker": {
          "color": "#19d3f3",
          "size": [
           39
          ],
          "sizemode": "area",
          "sizeref": 8.3,
          "symbol": "circle"
         },
         "mode": "markers",
         "name": "Art,AI,Image,Picture,Painting,Collectibles",
         "orientation": "v",
         "showlegend": true,
         "type": "scatter",
         "x": [
          67
         ],
         "xaxis": "x",
         "y": [
          14
         ],
         "yaxis": "y"
        },
        {
         "customdata": [
          [
           71.43
          ],
          [
           54.24
          ]
         ],
         "hovertemplate": "Category=PFP<br>Sales=%{x}<br>Owners=%{y}<br>Assets=%{marker.size}<br>Owner_Asset_Ratio=%{customdata[0]}<extra></extra>",
         "legendgroup": "PFP",
         "marker": {
          "color": "#FF6692",
          "size": [
           28,
           177
          ],
          "sizemode": "area",
          "sizeref": 8.3,
          "symbol": "circle"
         },
         "mode": "markers",
         "name": "PFP",
         "orientation": "v",
         "showlegend": true,
         "type": "scatter",
         "x": [
          58,
          206
         ],
         "xaxis": "x",
         "y": [
          20,
          96
         ],
         "yaxis": "y"
        },
        {
         "customdata": [
          [
           66.67
          ]
         ],
         "hovertemplate": "Category=Art,Collectibles,Trading Cards<br>Sales=%{x}<br>Owners=%{y}<br>Assets=%{marker.size}<br>Owner_Asset_Ratio=%{customdata[0]}<extra></extra>",
         "legendgroup": "Art,Collectibles,Trading Cards",
         "marker": {
          "color": "#B6E880",
          "size": [
           6
          ],
          "sizemode": "area",
          "sizeref": 8.3,
          "symbol": "circle"
         },
         "mode": "markers",
         "name": "Art,Collectibles,Trading Cards",
         "orientation": "v",
         "showlegend": true,
         "type": "scatter",
         "x": [
          15
         ],
         "xaxis": "x",
         "y": [
          4
         ],
         "yaxis": "y"
        },
        {
         "customdata": [
          [
           100
          ]
         ],
         "hovertemplate": "Category=Digital,Privilege,Art,Collectibles,Graphics<br>Sales=%{x}<br>Owners=%{y}<br>Assets=%{marker.size}<br>Owner_Asset_Ratio=%{customdata[0]}<extra></extra>",
         "legendgroup": "Digital,Privilege,Art,Collectibles,Graphics",
         "marker": {
          "color": "#FF97FF",
          "size": [
           3
          ],
          "sizemode": "area",
          "sizeref": 8.3,
          "symbol": "circle"
         },
         "mode": "markers",
         "name": "Digital,Privilege,Art,Collectibles,Graphics",
         "orientation": "v",
         "showlegend": true,
         "type": "scatter",
         "x": [
          60
         ],
         "xaxis": "x",
         "y": [
          3
         ],
         "yaxis": "y"
        },
        {
         "customdata": [
          [
           59.26
          ]
         ],
         "hovertemplate": "Category=Digital,Art,Collectibles,PFP,Image,Design,Pixel Art<br>Sales=%{x}<br>Owners=%{y}<br>Assets=%{marker.size}<br>Owner_Asset_Ratio=%{customdata[0]}<extra></extra>",
         "legendgroup": "Digital,Art,Collectibles,PFP,Image,Design,Pixel Art",
         "marker": {
          "color": "#FECB52",
          "size": [
           27
          ],
          "sizemode": "area",
          "sizeref": 8.3,
          "symbol": "circle"
         },
         "mode": "markers",
         "name": "Digital,Art,Collectibles,PFP,Image,Design,Pixel Art",
         "orientation": "v",
         "showlegend": true,
         "type": "scatter",
         "x": [
          136
         ],
         "xaxis": "x",
         "y": [
          16
         ],
         "yaxis": "y"
        },
        {
         "customdata": [
          [
           64.86
          ]
         ],
         "hovertemplate": "Category=Art,Collectibles,2D,Metaverse<br>Sales=%{x}<br>Owners=%{y}<br>Assets=%{marker.size}<br>Owner_Asset_Ratio=%{customdata[0]}<extra></extra>",
         "legendgroup": "Art,Collectibles,2D,Metaverse",
         "marker": {
          "color": "#636efa",
          "size": [
           111
          ],
          "sizemode": "area",
          "sizeref": 8.3,
          "symbol": "circle"
         },
         "mode": "markers",
         "name": "Art,Collectibles,2D,Metaverse",
         "orientation": "v",
         "showlegend": true,
         "type": "scatter",
         "x": [
          317
         ],
         "xaxis": "x",
         "y": [
          72
         ],
         "yaxis": "y"
        },
        {
         "customdata": [
          [
           75
          ]
         ],
         "hovertemplate": "Category=P2E,Collectibles<br>Sales=%{x}<br>Owners=%{y}<br>Assets=%{marker.size}<br>Owner_Asset_Ratio=%{customdata[0]}<extra></extra>",
         "legendgroup": "P2E,Collectibles",
         "marker": {
          "color": "#EF553B",
          "size": [
           32
          ],
          "sizemode": "area",
          "sizeref": 8.3,
          "symbol": "circle"
         },
         "mode": "markers",
         "name": "P2E,Collectibles",
         "orientation": "v",
         "showlegend": true,
         "type": "scatter",
         "x": [
          29
         ],
         "xaxis": "x",
         "y": [
          24
         ],
         "yaxis": "y"
        },
        {
         "customdata": [
          [
           66.67
          ]
         ],
         "hovertemplate": "Category=Digital,Art,PFP,Drawing,Metaverse,Collectibles<br>Sales=%{x}<br>Owners=%{y}<br>Assets=%{marker.size}<br>Owner_Asset_Ratio=%{customdata[0]}<extra></extra>",
         "legendgroup": "Digital,Art,PFP,Drawing,Metaverse,Collectibles",
         "marker": {
          "color": "#00cc96",
          "size": [
           6
          ],
          "sizemode": "area",
          "sizeref": 8.3,
          "symbol": "circle"
         },
         "mode": "markers",
         "name": "Digital,Art,PFP,Drawing,Metaverse,Collectibles",
         "orientation": "v",
         "showlegend": true,
         "type": "scatter",
         "x": [
          12
         ],
         "xaxis": "x",
         "y": [
          4
         ],
         "yaxis": "y"
        },
        {
         "customdata": [
          [
           17.58
          ]
         ],
         "hovertemplate": "Category=Digital,Collectibles,2D,Art<br>Sales=%{x}<br>Owners=%{y}<br>Assets=%{marker.size}<br>Owner_Asset_Ratio=%{customdata[0]}<extra></extra>",
         "legendgroup": "Digital,Collectibles,2D,Art",
         "marker": {
          "color": "#ab63fa",
          "size": [
           182
          ],
          "sizemode": "area",
          "sizeref": 8.3,
          "symbol": "circle"
         },
         "mode": "markers",
         "name": "Digital,Collectibles,2D,Art",
         "orientation": "v",
         "showlegend": true,
         "type": "scatter",
         "x": [
          137
         ],
         "xaxis": "x",
         "y": [
          32
         ],
         "yaxis": "y"
        },
        {
         "customdata": [
          [
           83.08
          ]
         ],
         "hovertemplate": "Category=Digital,Art,Video,Graphics<br>Sales=%{x}<br>Owners=%{y}<br>Assets=%{marker.size}<br>Owner_Asset_Ratio=%{customdata[0]}<extra></extra>",
         "legendgroup": "Digital,Art,Video,Graphics",
         "marker": {
          "color": "#FFA15A",
          "size": [
           65
          ],
          "sizemode": "area",
          "sizeref": 8.3,
          "symbol": "circle"
         },
         "mode": "markers",
         "name": "Digital,Art,Video,Graphics",
         "orientation": "v",
         "showlegend": true,
         "type": "scatter",
         "x": [
          22
         ],
         "xaxis": "x",
         "y": [
          54
         ],
         "yaxis": "y"
        },
        {
         "customdata": [
          [
           68.52
          ],
          [
           89.66
          ]
         ],
         "hovertemplate": "Category=3D<br>Sales=%{x}<br>Owners=%{y}<br>Assets=%{marker.size}<br>Owner_Asset_Ratio=%{customdata[0]}<extra></extra>",
         "legendgroup": "3D",
         "marker": {
          "color": "#19d3f3",
          "size": [
           54,
           29
          ],
          "sizemode": "area",
          "sizeref": 8.3,
          "symbol": "circle"
         },
         "mode": "markers",
         "name": "3D",
         "orientation": "v",
         "showlegend": true,
         "type": "scatter",
         "x": [
          359,
          20
         ],
         "xaxis": "x",
         "y": [
          37,
          26
         ],
         "yaxis": "y"
        },
        {
         "customdata": [
          [
           67.14
          ]
         ],
         "hovertemplate": "Category=Metaverse,Art,Collectibles,2D,Image,Digital<br>Sales=%{x}<br>Owners=%{y}<br>Assets=%{marker.size}<br>Owner_Asset_Ratio=%{customdata[0]}<extra></extra>",
         "legendgroup": "Metaverse,Art,Collectibles,2D,Image,Digital",
         "marker": {
          "color": "#FF6692",
          "size": [
           70
          ],
          "sizemode": "area",
          "sizeref": 8.3,
          "symbol": "circle"
         },
         "mode": "markers",
         "name": "Metaverse,Art,Collectibles,2D,Image,Digital",
         "orientation": "v",
         "showlegend": true,
         "type": "scatter",
         "x": [
          57
         ],
         "xaxis": "x",
         "y": [
          47
         ],
         "yaxis": "y"
        },
        {
         "customdata": [
          [
           33.33
          ]
         ],
         "hovertemplate": "Category=Art,Painting,AI,Image,Digital,Collectibles<br>Sales=%{x}<br>Owners=%{y}<br>Assets=%{marker.size}<br>Owner_Asset_Ratio=%{customdata[0]}<extra></extra>",
         "legendgroup": "Art,Painting,AI,Image,Digital,Collectibles",
         "marker": {
          "color": "#B6E880",
          "size": [
           9
          ],
          "sizemode": "area",
          "sizeref": 8.3,
          "symbol": "circle"
         },
         "mode": "markers",
         "name": "Art,Painting,AI,Image,Digital,Collectibles",
         "orientation": "v",
         "showlegend": true,
         "type": "scatter",
         "x": [
          17
         ],
         "xaxis": "x",
         "y": [
          3
         ],
         "yaxis": "y"
        },
        {
         "customdata": [
          [
           28.28
          ]
         ],
         "hovertemplate": "Category=Digital,Metaverse,Art,Graphics,3D,Design,Image<br>Sales=%{x}<br>Owners=%{y}<br>Assets=%{marker.size}<br>Owner_Asset_Ratio=%{customdata[0]}<extra></extra>",
         "legendgroup": "Digital,Metaverse,Art,Graphics,3D,Design,Image",
         "marker": {
          "color": "#FF97FF",
          "size": [
           99
          ],
          "sizemode": "area",
          "sizeref": 8.3,
          "symbol": "circle"
         },
         "mode": "markers",
         "name": "Digital,Metaverse,Art,Graphics,3D,Design,Image",
         "orientation": "v",
         "showlegend": true,
         "type": "scatter",
         "x": [
          85
         ],
         "xaxis": "x",
         "y": [
          28
         ],
         "yaxis": "y"
        },
        {
         "customdata": [
          [
           61.4
          ]
         ],
         "hovertemplate": "Category=Collectibles,Digital,2D,Art,Image,Drawing<br>Sales=%{x}<br>Owners=%{y}<br>Assets=%{marker.size}<br>Owner_Asset_Ratio=%{customdata[0]}<extra></extra>",
         "legendgroup": "Collectibles,Digital,2D,Art,Image,Drawing",
         "marker": {
          "color": "#FECB52",
          "size": [
           57
          ],
          "sizemode": "area",
          "sizeref": 8.3,
          "symbol": "circle"
         },
         "mode": "markers",
         "name": "Collectibles,Digital,2D,Art,Image,Drawing",
         "orientation": "v",
         "showlegend": true,
         "type": "scatter",
         "x": [
          236
         ],
         "xaxis": "x",
         "y": [
          35
         ],
         "yaxis": "y"
        },
        {
         "customdata": [
          [
           81.82
          ]
         ],
         "hovertemplate": "Category=Metaverse,Art,Collectibles<br>Sales=%{x}<br>Owners=%{y}<br>Assets=%{marker.size}<br>Owner_Asset_Ratio=%{customdata[0]}<extra></extra>",
         "legendgroup": "Metaverse,Art,Collectibles",
         "marker": {
          "color": "#636efa",
          "size": [
           33
          ],
          "sizemode": "area",
          "sizeref": 8.3,
          "symbol": "circle"
         },
         "mode": "markers",
         "name": "Metaverse,Art,Collectibles",
         "orientation": "v",
         "showlegend": true,
         "type": "scatter",
         "x": [
          37
         ],
         "xaxis": "x",
         "y": [
          27
         ],
         "yaxis": "y"
        },
        {
         "customdata": [
          [
           32.65
          ]
         ],
         "hovertemplate": "Category=Digital,Art,Collectibles,Trading Cards,2D,Drawing,Street Art,Image,Design<br>Sales=%{x}<br>Owners=%{y}<br>Assets=%{marker.size}<br>Owner_Asset_Ratio=%{customdata[0]}<extra></extra>",
         "legendgroup": "Digital,Art,Collectibles,Trading Cards,2D,Drawing,Street Art,Image,Design",
         "marker": {
          "color": "#EF553B",
          "size": [
           49
          ],
          "sizemode": "area",
          "sizeref": 8.3,
          "symbol": "circle"
         },
         "mode": "markers",
         "name": "Digital,Art,Collectibles,Trading Cards,2D,Drawing,Street Art,Image,Design",
         "orientation": "v",
         "showlegend": true,
         "type": "scatter",
         "x": [
          86
         ],
         "xaxis": "x",
         "y": [
          16
         ],
         "yaxis": "y"
        },
        {
         "customdata": [
          [
           4.32
          ]
         ],
         "hovertemplate": "Category=Art,Collectibles,Metaverse<br>Sales=%{x}<br>Owners=%{y}<br>Assets=%{marker.size}<br>Owner_Asset_Ratio=%{customdata[0]}<extra></extra>",
         "legendgroup": "Art,Collectibles,Metaverse",
         "marker": {
          "color": "#00cc96",
          "size": [
           301
          ],
          "sizemode": "area",
          "sizeref": 8.3,
          "symbol": "circle"
         },
         "mode": "markers",
         "name": "Art,Collectibles,Metaverse",
         "orientation": "v",
         "showlegend": true,
         "type": "scatter",
         "x": [
          43
         ],
         "xaxis": "x",
         "y": [
          13
         ],
         "yaxis": "y"
        },
        {
         "customdata": [
          [
           85.71
          ],
          [
           67.87
          ]
         ],
         "hovertemplate": "Category=Metaverse,Collectibles<br>Sales=%{x}<br>Owners=%{y}<br>Assets=%{marker.size}<br>Owner_Asset_Ratio=%{customdata[0]}<extra></extra>",
         "legendgroup": "Metaverse,Collectibles",
         "marker": {
          "color": "#ab63fa",
          "size": [
           7,
           221
          ],
          "sizemode": "area",
          "sizeref": 8.3,
          "symbol": "circle"
         },
         "mode": "markers",
         "name": "Metaverse,Collectibles",
         "orientation": "v",
         "showlegend": true,
         "type": "scatter",
         "x": [
          10,
          133
         ],
         "xaxis": "x",
         "y": [
          6,
          150
         ],
         "yaxis": "y"
        },
        {
         "customdata": [
          [
           82.5
          ]
         ],
         "hovertemplate": "Category=Digital,Collectibles,PFP<br>Sales=%{x}<br>Owners=%{y}<br>Assets=%{marker.size}<br>Owner_Asset_Ratio=%{customdata[0]}<extra></extra>",
         "legendgroup": "Digital,Collectibles,PFP",
         "marker": {
          "color": "#FFA15A",
          "size": [
           40
          ],
          "sizemode": "area",
          "sizeref": 8.3,
          "symbol": "circle"
         },
         "mode": "markers",
         "name": "Digital,Collectibles,PFP",
         "orientation": "v",
         "showlegend": true,
         "type": "scatter",
         "x": [
          83
         ],
         "xaxis": "x",
         "y": [
          33
         ],
         "yaxis": "y"
        },
        {
         "customdata": [
          [
           1.92
          ]
         ],
         "hovertemplate": "Category=Metaverse<br>Sales=%{x}<br>Owners=%{y}<br>Assets=%{marker.size}<br>Owner_Asset_Ratio=%{customdata[0]}<extra></extra>",
         "legendgroup": "Metaverse",
         "marker": {
          "color": "#19d3f3",
          "size": [
           156
          ],
          "sizemode": "area",
          "sizeref": 8.3,
          "symbol": "circle"
         },
         "mode": "markers",
         "name": "Metaverse",
         "orientation": "v",
         "showlegend": true,
         "type": "scatter",
         "x": [
          19
         ],
         "xaxis": "x",
         "y": [
          3
         ],
         "yaxis": "y"
        },
        {
         "customdata": [
          [
           65.31
          ]
         ],
         "hovertemplate": "Category=Digital,Art,Graphics,Drawing,Design<br>Sales=%{x}<br>Owners=%{y}<br>Assets=%{marker.size}<br>Owner_Asset_Ratio=%{customdata[0]}<extra></extra>",
         "legendgroup": "Digital,Art,Graphics,Drawing,Design",
         "marker": {
          "color": "#FF6692",
          "size": [
           343
          ],
          "sizemode": "area",
          "sizeref": 8.3,
          "symbol": "circle"
         },
         "mode": "markers",
         "name": "Digital,Art,Graphics,Drawing,Design",
         "orientation": "v",
         "showlegend": true,
         "type": "scatter",
         "x": [
          316
         ],
         "xaxis": "x",
         "y": [
          224
         ],
         "yaxis": "y"
        },
        {
         "customdata": [
          [
           32.26
          ]
         ],
         "hovertemplate": "Category=Digital,Collectibles,2D,Ticket<br>Sales=%{x}<br>Owners=%{y}<br>Assets=%{marker.size}<br>Owner_Asset_Ratio=%{customdata[0]}<extra></extra>",
         "legendgroup": "Digital,Collectibles,2D,Ticket",
         "marker": {
          "color": "#B6E880",
          "size": [
           62
          ],
          "sizemode": "area",
          "sizeref": 8.3,
          "symbol": "circle"
         },
         "mode": "markers",
         "name": "Digital,Collectibles,2D,Ticket",
         "orientation": "v",
         "showlegend": true,
         "type": "scatter",
         "x": [
          128
         ],
         "xaxis": "x",
         "y": [
          20
         ],
         "yaxis": "y"
        },
        {
         "customdata": [
          [
           16.46
          ]
         ],
         "hovertemplate": "Category=Digital,Collectibles<br>Sales=%{x}<br>Owners=%{y}<br>Assets=%{marker.size}<br>Owner_Asset_Ratio=%{customdata[0]}<extra></extra>",
         "legendgroup": "Digital,Collectibles",
         "marker": {
          "color": "#FF97FF",
          "size": [
           79
          ],
          "sizemode": "area",
          "sizeref": 8.3,
          "symbol": "circle"
         },
         "mode": "markers",
         "name": "Digital,Collectibles",
         "orientation": "v",
         "showlegend": true,
         "type": "scatter",
         "x": [
          24
         ],
         "xaxis": "x",
         "y": [
          13
         ],
         "yaxis": "y"
        },
        {
         "customdata": [
          [
           37.29
          ]
         ],
         "hovertemplate": "Category=PFP,Collectibles,2D<br>Sales=%{x}<br>Owners=%{y}<br>Assets=%{marker.size}<br>Owner_Asset_Ratio=%{customdata[0]}<extra></extra>",
         "legendgroup": "PFP,Collectibles,2D",
         "marker": {
          "color": "#FECB52",
          "size": [
           59
          ],
          "sizemode": "area",
          "sizeref": 8.3,
          "symbol": "circle"
         },
         "mode": "markers",
         "name": "PFP,Collectibles,2D",
         "orientation": "v",
         "showlegend": true,
         "type": "scatter",
         "x": [
          80
         ],
         "xaxis": "x",
         "y": [
          22
         ],
         "yaxis": "y"
        },
        {
         "customdata": [
          [
           52.27
          ]
         ],
         "hovertemplate": "Category=Metaverse,Digital,Collectibles,Art,3D,AI<br>Sales=%{x}<br>Owners=%{y}<br>Assets=%{marker.size}<br>Owner_Asset_Ratio=%{customdata[0]}<extra></extra>",
         "legendgroup": "Metaverse,Digital,Collectibles,Art,3D,AI",
         "marker": {
          "color": "#636efa",
          "size": [
           44
          ],
          "sizemode": "area",
          "sizeref": 8.3,
          "symbol": "circle"
         },
         "mode": "markers",
         "name": "Metaverse,Digital,Collectibles,Art,3D,AI",
         "orientation": "v",
         "showlegend": true,
         "type": "scatter",
         "x": [
          11
         ],
         "xaxis": "x",
         "y": [
          23
         ],
         "yaxis": "y"
        },
        {
         "customdata": [
          [
           19.23
          ]
         ],
         "hovertemplate": "Category=Digital,Metaverse,Art,Collectibles,Trading Cards,Immaterial,2D,Design,Picture,Image<br>Sales=%{x}<br>Owners=%{y}<br>Assets=%{marker.size}<br>Owner_Asset_Ratio=%{customdata[0]}<extra></extra>",
         "legendgroup": "Digital,Metaverse,Art,Collectibles,Trading Cards,Immaterial,2D,Design,Picture,Image",
         "marker": {
          "color": "#EF553B",
          "size": [
           52
          ],
          "sizemode": "area",
          "sizeref": 8.3,
          "symbol": "circle"
         },
         "mode": "markers",
         "name": "Digital,Metaverse,Art,Collectibles,Trading Cards,Immaterial,2D,Design,Picture,Image",
         "orientation": "v",
         "showlegend": true,
         "type": "scatter",
         "x": [
          32
         ],
         "xaxis": "x",
         "y": [
          10
         ],
         "yaxis": "y"
        },
        {
         "customdata": [
          [
           6.06
          ]
         ],
         "hovertemplate": "Category=Digital,Metaverse,Art,Artifact,Trading Cards,Collectibles,Design<br>Sales=%{x}<br>Owners=%{y}<br>Assets=%{marker.size}<br>Owner_Asset_Ratio=%{customdata[0]}<extra></extra>",
         "legendgroup": "Digital,Metaverse,Art,Artifact,Trading Cards,Collectibles,Design",
         "marker": {
          "color": "#00cc96",
          "size": [
           66
          ],
          "sizemode": "area",
          "sizeref": 8.3,
          "symbol": "circle"
         },
         "mode": "markers",
         "name": "Digital,Metaverse,Art,Artifact,Trading Cards,Collectibles,Design",
         "orientation": "v",
         "showlegend": true,
         "type": "scatter",
         "x": [
          29
         ],
         "xaxis": "x",
         "y": [
          4
         ],
         "yaxis": "y"
        },
        {
         "customdata": [
          [
           7.79
          ]
         ],
         "hovertemplate": "Category=Digital,Metaverse,Art,Photography,Immaterial,Collectibles,Design,Image<br>Sales=%{x}<br>Owners=%{y}<br>Assets=%{marker.size}<br>Owner_Asset_Ratio=%{customdata[0]}<extra></extra>",
         "legendgroup": "Digital,Metaverse,Art,Photography,Immaterial,Collectibles,Design,Image",
         "marker": {
          "color": "#ab63fa",
          "size": [
           77
          ],
          "sizemode": "area",
          "sizeref": 8.3,
          "symbol": "circle"
         },
         "mode": "markers",
         "name": "Digital,Metaverse,Art,Photography,Immaterial,Collectibles,Design,Image",
         "orientation": "v",
         "showlegend": true,
         "type": "scatter",
         "x": [
          10
         ],
         "xaxis": "x",
         "y": [
          6
         ],
         "yaxis": "y"
        },
        {
         "customdata": [
          [
           30.77
          ]
         ],
         "hovertemplate": "Category=Collectibles,3D,Design,Art,Graphics,PFP<br>Sales=%{x}<br>Owners=%{y}<br>Assets=%{marker.size}<br>Owner_Asset_Ratio=%{customdata[0]}<extra></extra>",
         "legendgroup": "Collectibles,3D,Design,Art,Graphics,PFP",
         "marker": {
          "color": "#FFA15A",
          "size": [
           65
          ],
          "sizemode": "area",
          "sizeref": 8.3,
          "symbol": "circle"
         },
         "mode": "markers",
         "name": "Collectibles,3D,Design,Art,Graphics,PFP",
         "orientation": "v",
         "showlegend": true,
         "type": "scatter",
         "x": [
          77
         ],
         "xaxis": "x",
         "y": [
          20
         ],
         "yaxis": "y"
        },
        {
         "customdata": [
          [
           39.29
          ]
         ],
         "hovertemplate": "Category=Metaverse,Collectibles,Digital,2D,Graphics<br>Sales=%{x}<br>Owners=%{y}<br>Assets=%{marker.size}<br>Owner_Asset_Ratio=%{customdata[0]}<extra></extra>",
         "legendgroup": "Metaverse,Collectibles,Digital,2D,Graphics",
         "marker": {
          "color": "#19d3f3",
          "size": [
           28
          ],
          "sizemode": "area",
          "sizeref": 8.3,
          "symbol": "circle"
         },
         "mode": "markers",
         "name": "Metaverse,Collectibles,Digital,2D,Graphics",
         "orientation": "v",
         "showlegend": true,
         "type": "scatter",
         "x": [
          41
         ],
         "xaxis": "x",
         "y": [
          11
         ],
         "yaxis": "y"
        },
        {
         "customdata": [
          [
           13.16
          ]
         ],
         "hovertemplate": "Category=Digital,3D,Video,Design,Art,Graphics<br>Sales=%{x}<br>Owners=%{y}<br>Assets=%{marker.size}<br>Owner_Asset_Ratio=%{customdata[0]}<extra></extra>",
         "legendgroup": "Digital,3D,Video,Design,Art,Graphics",
         "marker": {
          "color": "#FF6692",
          "size": [
           38
          ],
          "sizemode": "area",
          "sizeref": 8.3,
          "symbol": "circle"
         },
         "mode": "markers",
         "name": "Digital,3D,Video,Design,Art,Graphics",
         "orientation": "v",
         "showlegend": true,
         "type": "scatter",
         "x": [
          11
         ],
         "xaxis": "x",
         "y": [
          5
         ],
         "yaxis": "y"
        },
        {
         "customdata": [
          [
           61.92
          ],
          [
           79.07
          ],
          [
           25
          ]
         ],
         "hovertemplate": "Category=Digital<br>Sales=%{x}<br>Owners=%{y}<br>Assets=%{marker.size}<br>Owner_Asset_Ratio=%{customdata[0]}<extra></extra>",
         "legendgroup": "Digital",
         "marker": {
          "color": "#B6E880",
          "size": [
           281,
           43,
           4
          ],
          "sizemode": "area",
          "sizeref": 8.3,
          "symbol": "circle"
         },
         "mode": "markers",
         "name": "Digital",
         "orientation": "v",
         "showlegend": true,
         "type": "scatter",
         "x": [
          527,
          27,
          3
         ],
         "xaxis": "x",
         "y": [
          174,
          34,
          1
         ],
         "yaxis": "y"
        },
        {
         "customdata": [
          [
           69.01
          ]
         ],
         "hovertemplate": "Category=Digital,Metaverse,Art,Trading Cards,PFP,2D,Picture,Design,Image,AI,Collectibles<br>Sales=%{x}<br>Owners=%{y}<br>Assets=%{marker.size}<br>Owner_Asset_Ratio=%{customdata[0]}<extra></extra>",
         "legendgroup": "Digital,Metaverse,Art,Trading Cards,PFP,2D,Picture,Design,Image,AI,Collectibles",
         "marker": {
          "color": "#FF97FF",
          "size": [
           71
          ],
          "sizemode": "area",
          "sizeref": 8.3,
          "symbol": "circle"
         },
         "mode": "markers",
         "name": "Digital,Metaverse,Art,Trading Cards,PFP,2D,Picture,Design,Image,AI,Collectibles",
         "orientation": "v",
         "showlegend": true,
         "type": "scatter",
         "x": [
          60
         ],
         "xaxis": "x",
         "y": [
          49
         ],
         "yaxis": "y"
        },
        {
         "customdata": [
          [
           18.75
          ]
         ],
         "hovertemplate": "Category=Digital,3D,Video,Collectibles,Metaverse<br>Sales=%{x}<br>Owners=%{y}<br>Assets=%{marker.size}<br>Owner_Asset_Ratio=%{customdata[0]}<extra></extra>",
         "legendgroup": "Digital,3D,Video,Collectibles,Metaverse",
         "marker": {
          "color": "#FECB52",
          "size": [
           32
          ],
          "sizemode": "area",
          "sizeref": 8.3,
          "symbol": "circle"
         },
         "mode": "markers",
         "name": "Digital,3D,Video,Collectibles,Metaverse",
         "orientation": "v",
         "showlegend": true,
         "type": "scatter",
         "x": [
          26
         ],
         "xaxis": "x",
         "y": [
          6
         ],
         "yaxis": "y"
        },
        {
         "customdata": [
          [
           50
          ]
         ],
         "hovertemplate": "Category=Digital,Art,Collectibles,Artifact<br>Sales=%{x}<br>Owners=%{y}<br>Assets=%{marker.size}<br>Owner_Asset_Ratio=%{customdata[0]}<extra></extra>",
         "legendgroup": "Digital,Art,Collectibles,Artifact",
         "marker": {
          "color": "#636efa",
          "size": [
           22
          ],
          "sizemode": "area",
          "sizeref": 8.3,
          "symbol": "circle"
         },
         "mode": "markers",
         "name": "Digital,Art,Collectibles,Artifact",
         "orientation": "v",
         "showlegend": true,
         "type": "scatter",
         "x": [
          6
         ],
         "xaxis": "x",
         "y": [
          11
         ],
         "yaxis": "y"
        },
        {
         "customdata": [
          [
           12.5
          ]
         ],
         "hovertemplate": "Category=Digital,2D,Art,Collectibles<br>Sales=%{x}<br>Owners=%{y}<br>Assets=%{marker.size}<br>Owner_Asset_Ratio=%{customdata[0]}<extra></extra>",
         "legendgroup": "Digital,2D,Art,Collectibles",
         "marker": {
          "color": "#EF553B",
          "size": [
           8
          ],
          "sizemode": "area",
          "sizeref": 8.3,
          "symbol": "circle"
         },
         "mode": "markers",
         "name": "Digital,2D,Art,Collectibles",
         "orientation": "v",
         "showlegend": true,
         "type": "scatter",
         "x": [
          1
         ],
         "xaxis": "x",
         "y": [
          1
         ],
         "yaxis": "y"
        },
        {
         "customdata": [
          [
           4.64
          ]
         ],
         "hovertemplate": "Category=Music,Art,Collectibles,Drawing<br>Sales=%{x}<br>Owners=%{y}<br>Assets=%{marker.size}<br>Owner_Asset_Ratio=%{customdata[0]}<extra></extra>",
         "legendgroup": "Music,Art,Collectibles,Drawing",
         "marker": {
          "color": "#00cc96",
          "size": [
           151
          ],
          "sizemode": "area",
          "sizeref": 8.3,
          "symbol": "circle"
         },
         "mode": "markers",
         "name": "Music,Art,Collectibles,Drawing",
         "orientation": "v",
         "showlegend": true,
         "type": "scatter",
         "x": [
          38
         ],
         "xaxis": "x",
         "y": [
          7
         ],
         "yaxis": "y"
        },
        {
         "customdata": [
          [
           50.7
          ]
         ],
         "hovertemplate": "Category=Collectibles,Digital,PFP<br>Sales=%{x}<br>Owners=%{y}<br>Assets=%{marker.size}<br>Owner_Asset_Ratio=%{customdata[0]}<extra></extra>",
         "legendgroup": "Collectibles,Digital,PFP",
         "marker": {
          "color": "#ab63fa",
          "size": [
           142
          ],
          "sizemode": "area",
          "sizeref": 8.3,
          "symbol": "circle"
         },
         "mode": "markers",
         "name": "Collectibles,Digital,PFP",
         "orientation": "v",
         "showlegend": true,
         "type": "scatter",
         "x": [
          323
         ],
         "xaxis": "x",
         "y": [
          72
         ],
         "yaxis": "y"
        },
        {
         "customdata": [
          [
           10.53
          ]
         ],
         "hovertemplate": "Category=Art,Physical,Collectibles,Music,Audio,3D,Painting,Sculpture,Photography<br>Sales=%{x}<br>Owners=%{y}<br>Assets=%{marker.size}<br>Owner_Asset_Ratio=%{customdata[0]}<extra></extra>",
         "legendgroup": "Art,Physical,Collectibles,Music,Audio,3D,Painting,Sculpture,Photography",
         "marker": {
          "color": "#FFA15A",
          "size": [
           152
          ],
          "sizemode": "area",
          "sizeref": 8.3,
          "symbol": "circle"
         },
         "mode": "markers",
         "name": "Art,Physical,Collectibles,Music,Audio,3D,Painting,Sculpture,Photography",
         "orientation": "v",
         "showlegend": true,
         "type": "scatter",
         "x": [
          81
         ],
         "xaxis": "x",
         "y": [
          16
         ],
         "yaxis": "y"
        },
        {
         "customdata": [
          [
           66.67
          ]
         ],
         "hovertemplate": "Category=Digital,3D,Metaverse,Art,Graphics,Video<br>Sales=%{x}<br>Owners=%{y}<br>Assets=%{marker.size}<br>Owner_Asset_Ratio=%{customdata[0]}<extra></extra>",
         "legendgroup": "Digital,3D,Metaverse,Art,Graphics,Video",
         "marker": {
          "color": "#19d3f3",
          "size": [
           9
          ],
          "sizemode": "area",
          "sizeref": 8.3,
          "symbol": "circle"
         },
         "mode": "markers",
         "name": "Digital,3D,Metaverse,Art,Graphics,Video",
         "orientation": "v",
         "showlegend": true,
         "type": "scatter",
         "x": [
          15
         ],
         "xaxis": "x",
         "y": [
          6
         ],
         "yaxis": "y"
        },
        {
         "customdata": [
          [
           53.1
          ]
         ],
         "hovertemplate": "Category=Digital,Metaverse,Immaterial,Art,Collectibles,Privilege,Ticket<br>Sales=%{x}<br>Owners=%{y}<br>Assets=%{marker.size}<br>Owner_Asset_Ratio=%{customdata[0]}<extra></extra>",
         "legendgroup": "Digital,Metaverse,Immaterial,Art,Collectibles,Privilege,Ticket",
         "marker": {
          "color": "#FF6692",
          "size": [
           113
          ],
          "sizemode": "area",
          "sizeref": 8.3,
          "symbol": "circle"
         },
         "mode": "markers",
         "name": "Digital,Metaverse,Immaterial,Art,Collectibles,Privilege,Ticket",
         "orientation": "v",
         "showlegend": true,
         "type": "scatter",
         "x": [
          122
         ],
         "xaxis": "x",
         "y": [
          60
         ],
         "yaxis": "y"
        },
        {
         "customdata": [
          [
           45.83
          ]
         ],
         "hovertemplate": "Category=Art,3D,Digital,PFP,Design,Ticket<br>Sales=%{x}<br>Owners=%{y}<br>Assets=%{marker.size}<br>Owner_Asset_Ratio=%{customdata[0]}<extra></extra>",
         "legendgroup": "Art,3D,Digital,PFP,Design,Ticket",
         "marker": {
          "color": "#B6E880",
          "size": [
           96
          ],
          "sizemode": "area",
          "sizeref": 8.3,
          "symbol": "circle"
         },
         "mode": "markers",
         "name": "Art,3D,Digital,PFP,Design,Ticket",
         "orientation": "v",
         "showlegend": true,
         "type": "scatter",
         "x": [
          122
         ],
         "xaxis": "x",
         "y": [
          44
         ],
         "yaxis": "y"
        },
        {
         "customdata": [
          [
           41.94
          ]
         ],
         "hovertemplate": "Category=Digital,Art,Collectibles,Drawing,PFP,Picture,Painting,2D<br>Sales=%{x}<br>Owners=%{y}<br>Assets=%{marker.size}<br>Owner_Asset_Ratio=%{customdata[0]}<extra></extra>",
         "legendgroup": "Digital,Art,Collectibles,Drawing,PFP,Picture,Painting,2D",
         "marker": {
          "color": "#FF97FF",
          "size": [
           62
          ],
          "sizemode": "area",
          "sizeref": 8.3,
          "symbol": "circle"
         },
         "mode": "markers",
         "name": "Digital,Art,Collectibles,Drawing,PFP,Picture,Painting,2D",
         "orientation": "v",
         "showlegend": true,
         "type": "scatter",
         "x": [
          62
         ],
         "xaxis": "x",
         "y": [
          26
         ],
         "yaxis": "y"
        },
        {
         "customdata": [
          [
           100
          ]
         ],
         "hovertemplate": "Category=PFP,Metaverse,Drawing,Art,Collectibles,2D,Digital<br>Sales=%{x}<br>Owners=%{y}<br>Assets=%{marker.size}<br>Owner_Asset_Ratio=%{customdata[0]}<extra></extra>",
         "legendgroup": "PFP,Metaverse,Drawing,Art,Collectibles,2D,Digital",
         "marker": {
          "color": "#FECB52",
          "size": [
           2
          ],
          "sizemode": "area",
          "sizeref": 8.3,
          "symbol": "circle"
         },
         "mode": "markers",
         "name": "PFP,Metaverse,Drawing,Art,Collectibles,2D,Digital",
         "orientation": "v",
         "showlegend": true,
         "type": "scatter",
         "x": [
          26
         ],
         "xaxis": "x",
         "y": [
          2
         ],
         "yaxis": "y"
        },
        {
         "customdata": [
          [
           90
          ]
         ],
         "hovertemplate": "Category=Digital,Art,Collectibles,2D,Image<br>Sales=%{x}<br>Owners=%{y}<br>Assets=%{marker.size}<br>Owner_Asset_Ratio=%{customdata[0]}<extra></extra>",
         "legendgroup": "Digital,Art,Collectibles,2D,Image",
         "marker": {
          "color": "#636efa",
          "size": [
           40
          ],
          "sizemode": "area",
          "sizeref": 8.3,
          "symbol": "circle"
         },
         "mode": "markers",
         "name": "Digital,Art,Collectibles,2D,Image",
         "orientation": "v",
         "showlegend": true,
         "type": "scatter",
         "x": [
          35
         ],
         "xaxis": "x",
         "y": [
          36
         ],
         "yaxis": "y"
        },
        {
         "customdata": [
          [
           47.37
          ]
         ],
         "hovertemplate": "Category=Digital,Trading Cards,Graphics,Design,Image,Drawing,Art,2D,Collectibles<br>Sales=%{x}<br>Owners=%{y}<br>Assets=%{marker.size}<br>Owner_Asset_Ratio=%{customdata[0]}<extra></extra>",
         "legendgroup": "Digital,Trading Cards,Graphics,Design,Image,Drawing,Art,2D,Collectibles",
         "marker": {
          "color": "#EF553B",
          "size": [
           57
          ],
          "sizemode": "area",
          "sizeref": 8.3,
          "symbol": "circle"
         },
         "mode": "markers",
         "name": "Digital,Trading Cards,Graphics,Design,Image,Drawing,Art,2D,Collectibles",
         "orientation": "v",
         "showlegend": true,
         "type": "scatter",
         "x": [
          82
         ],
         "xaxis": "x",
         "y": [
          27
         ],
         "yaxis": "y"
        },
        {
         "customdata": [
          [
           56.76
          ]
         ],
         "hovertemplate": "Category=Art,PFP,Collectibles,Metaverse,Digital,Graphics,2D,Design,Drawing<br>Sales=%{x}<br>Owners=%{y}<br>Assets=%{marker.size}<br>Owner_Asset_Ratio=%{customdata[0]}<extra></extra>",
         "legendgroup": "Art,PFP,Collectibles,Metaverse,Digital,Graphics,2D,Design,Drawing",
         "marker": {
          "color": "#00cc96",
          "size": [
           37
          ],
          "sizemode": "area",
          "sizeref": 8.3,
          "symbol": "circle"
         },
         "mode": "markers",
         "name": "Art,PFP,Collectibles,Metaverse,Digital,Graphics,2D,Design,Drawing",
         "orientation": "v",
         "showlegend": true,
         "type": "scatter",
         "x": [
          28
         ],
         "xaxis": "x",
         "y": [
          21
         ],
         "yaxis": "y"
        },
        {
         "customdata": [
          [
           83.33
          ]
         ],
         "hovertemplate": "Category=Image,Art,Collectibles,3D,Design,Graphics<br>Sales=%{x}<br>Owners=%{y}<br>Assets=%{marker.size}<br>Owner_Asset_Ratio=%{customdata[0]}<extra></extra>",
         "legendgroup": "Image,Art,Collectibles,3D,Design,Graphics",
         "marker": {
          "color": "#ab63fa",
          "size": [
           18
          ],
          "sizemode": "area",
          "sizeref": 8.3,
          "symbol": "circle"
         },
         "mode": "markers",
         "name": "Image,Art,Collectibles,3D,Design,Graphics",
         "orientation": "v",
         "showlegend": true,
         "type": "scatter",
         "x": [
          15
         ],
         "xaxis": "x",
         "y": [
          15
         ],
         "yaxis": "y"
        },
        {
         "customdata": [
          [
           44
          ]
         ],
         "hovertemplate": "Category=Digital,Art,Metaverse,PFP,Graphics,3D,Collectibles,Design<br>Sales=%{x}<br>Owners=%{y}<br>Assets=%{marker.size}<br>Owner_Asset_Ratio=%{customdata[0]}<extra></extra>",
         "legendgroup": "Digital,Art,Metaverse,PFP,Graphics,3D,Collectibles,Design",
         "marker": {
          "color": "#FFA15A",
          "size": [
           25
          ],
          "sizemode": "area",
          "sizeref": 8.3,
          "symbol": "circle"
         },
         "mode": "markers",
         "name": "Digital,Art,Metaverse,PFP,Graphics,3D,Collectibles,Design",
         "orientation": "v",
         "showlegend": true,
         "type": "scatter",
         "x": [
          16
         ],
         "xaxis": "x",
         "y": [
          11
         ],
         "yaxis": "y"
        },
        {
         "customdata": [
          [
           100
          ],
          [
           70.37
          ],
          [
           69.01
          ]
         ],
         "hovertemplate": "Category=Collectibles,Art<br>Sales=%{x}<br>Owners=%{y}<br>Assets=%{marker.size}<br>Owner_Asset_Ratio=%{customdata[0]}<extra></extra>",
         "legendgroup": "Collectibles,Art",
         "marker": {
          "color": "#19d3f3",
          "size": [
           1,
           54,
           71
          ],
          "sizemode": "area",
          "sizeref": 8.3,
          "symbol": "circle"
         },
         "mode": "markers",
         "name": "Collectibles,Art",
         "orientation": "v",
         "showlegend": true,
         "type": "scatter",
         "x": [
          33,
          32,
          12
         ],
         "xaxis": "x",
         "y": [
          1,
          38,
          49
         ],
         "yaxis": "y"
        },
        {
         "customdata": [
          [
           28.38
          ]
         ],
         "hovertemplate": "Category=Art,PFP,Collectibles<br>Sales=%{x}<br>Owners=%{y}<br>Assets=%{marker.size}<br>Owner_Asset_Ratio=%{customdata[0]}<extra></extra>",
         "legendgroup": "Art,PFP,Collectibles",
         "marker": {
          "color": "#FF6692",
          "size": [
           74
          ],
          "sizemode": "area",
          "sizeref": 8.3,
          "symbol": "circle"
         },
         "mode": "markers",
         "name": "Art,PFP,Collectibles",
         "orientation": "v",
         "showlegend": true,
         "type": "scatter",
         "x": [
          56
         ],
         "xaxis": "x",
         "y": [
          21
         ],
         "yaxis": "y"
        },
        {
         "customdata": [
          [
           64.62
          ]
         ],
         "hovertemplate": "Category=Art,Digital,2D,Design,Image<br>Sales=%{x}<br>Owners=%{y}<br>Assets=%{marker.size}<br>Owner_Asset_Ratio=%{customdata[0]}<extra></extra>",
         "legendgroup": "Art,Digital,2D,Design,Image",
         "marker": {
          "color": "#B6E880",
          "size": [
           65
          ],
          "sizemode": "area",
          "sizeref": 8.3,
          "symbol": "circle"
         },
         "mode": "markers",
         "name": "Art,Digital,2D,Design,Image",
         "orientation": "v",
         "showlegend": true,
         "type": "scatter",
         "x": [
          33
         ],
         "xaxis": "x",
         "y": [
          42
         ],
         "yaxis": "y"
        },
        {
         "customdata": [
          [
           72.73
          ]
         ],
         "hovertemplate": "Category=Digital,PFP,Collectibles,3D,P2E<br>Sales=%{x}<br>Owners=%{y}<br>Assets=%{marker.size}<br>Owner_Asset_Ratio=%{customdata[0]}<extra></extra>",
         "legendgroup": "Digital,PFP,Collectibles,3D,P2E",
         "marker": {
          "color": "#FF97FF",
          "size": [
           11
          ],
          "sizemode": "area",
          "sizeref": 8.3,
          "symbol": "circle"
         },
         "mode": "markers",
         "name": "Digital,PFP,Collectibles,3D,P2E",
         "orientation": "v",
         "showlegend": true,
         "type": "scatter",
         "x": [
          20
         ],
         "xaxis": "x",
         "y": [
          8
         ],
         "yaxis": "y"
        },
        {
         "customdata": [
          [
           75
          ]
         ],
         "hovertemplate": "Category=Digital,Art,3D,Drawing,Print,Collectibles<br>Sales=%{x}<br>Owners=%{y}<br>Assets=%{marker.size}<br>Owner_Asset_Ratio=%{customdata[0]}<extra></extra>",
         "legendgroup": "Digital,Art,3D,Drawing,Print,Collectibles",
         "marker": {
          "color": "#FECB52",
          "size": [
           4
          ],
          "sizemode": "area",
          "sizeref": 8.3,
          "symbol": "circle"
         },
         "mode": "markers",
         "name": "Digital,Art,3D,Drawing,Print,Collectibles",
         "orientation": "v",
         "showlegend": true,
         "type": "scatter",
         "x": [
          54
         ],
         "xaxis": "x",
         "y": [
          3
         ],
         "yaxis": "y"
        },
        {
         "customdata": [
          [
           29.03
          ]
         ],
         "hovertemplate": "Category=Art,Collectibles,2D,Image,Graphics,Digital<br>Sales=%{x}<br>Owners=%{y}<br>Assets=%{marker.size}<br>Owner_Asset_Ratio=%{customdata[0]}<extra></extra>",
         "legendgroup": "Art,Collectibles,2D,Image,Graphics,Digital",
         "marker": {
          "color": "#636efa",
          "size": [
           31
          ],
          "sizemode": "area",
          "sizeref": 8.3,
          "symbol": "circle"
         },
         "mode": "markers",
         "name": "Art,Collectibles,2D,Image,Graphics,Digital",
         "orientation": "v",
         "showlegend": true,
         "type": "scatter",
         "x": [
          21
         ],
         "xaxis": "x",
         "y": [
          9
         ],
         "yaxis": "y"
        },
        {
         "customdata": [
          [
           null
          ]
         ],
         "hovertemplate": "Category=Digital,Privilege,Art,2D<br>Sales=%{x}<br>Owners=%{y}<br>Assets=%{marker.size}<br>Owner_Asset_Ratio=%{customdata[0]}<extra></extra>",
         "legendgroup": "Digital,Privilege,Art,2D",
         "marker": {
          "color": "#EF553B",
          "size": [
           0
          ],
          "sizemode": "area",
          "sizeref": 8.3,
          "symbol": "circle"
         },
         "mode": "markers",
         "name": "Digital,Privilege,Art,2D",
         "orientation": "v",
         "showlegend": true,
         "type": "scatter",
         "x": [
          5
         ],
         "xaxis": "x",
         "y": [
          0
         ],
         "yaxis": "y"
        },
        {
         "customdata": [
          [
           null
          ]
         ],
         "hovertemplate": "Category=Collectibles,Digital,Drawing<br>Sales=%{x}<br>Owners=%{y}<br>Assets=%{marker.size}<br>Owner_Asset_Ratio=%{customdata[0]}<extra></extra>",
         "legendgroup": "Collectibles,Digital,Drawing",
         "marker": {
          "color": "#00cc96",
          "size": [
           0
          ],
          "sizemode": "area",
          "sizeref": 8.3,
          "symbol": "circle"
         },
         "mode": "markers",
         "name": "Collectibles,Digital,Drawing",
         "orientation": "v",
         "showlegend": true,
         "type": "scatter",
         "x": [
          13
         ],
         "xaxis": "x",
         "y": [
          0
         ],
         "yaxis": "y"
        },
        {
         "customdata": [
          [
           55.39
          ]
         ],
         "hovertemplate": "Category=P2E,Metaverse,Art<br>Sales=%{x}<br>Owners=%{y}<br>Assets=%{marker.size}<br>Owner_Asset_Ratio=%{customdata[0]}<extra></extra>",
         "legendgroup": "P2E,Metaverse,Art",
         "marker": {
          "color": "#ab63fa",
          "size": [
           547
          ],
          "sizemode": "area",
          "sizeref": 8.3,
          "symbol": "circle"
         },
         "mode": "markers",
         "name": "P2E,Metaverse,Art",
         "orientation": "v",
         "showlegend": true,
         "type": "scatter",
         "x": [
          316
         ],
         "xaxis": "x",
         "y": [
          303
         ],
         "yaxis": "y"
        },
        {
         "customdata": [
          [
           15.6
          ]
         ],
         "hovertemplate": "Category=Digital,Art,Painting<br>Sales=%{x}<br>Owners=%{y}<br>Assets=%{marker.size}<br>Owner_Asset_Ratio=%{customdata[0]}<extra></extra>",
         "legendgroup": "Digital,Art,Painting",
         "marker": {
          "color": "#FFA15A",
          "size": [
           141
          ],
          "sizemode": "area",
          "sizeref": 8.3,
          "symbol": "circle"
         },
         "mode": "markers",
         "name": "Digital,Art,Painting",
         "orientation": "v",
         "showlegend": true,
         "type": "scatter",
         "x": [
          61
         ],
         "xaxis": "x",
         "y": [
          22
         ],
         "yaxis": "y"
        },
        {
         "customdata": [
          [
           70
          ],
          [
           42.38
          ]
         ],
         "hovertemplate": "Category=Art,Collectibles,2D<br>Sales=%{x}<br>Owners=%{y}<br>Assets=%{marker.size}<br>Owner_Asset_Ratio=%{customdata[0]}<extra></extra>",
         "legendgroup": "Art,Collectibles,2D",
         "marker": {
          "color": "#19d3f3",
          "size": [
           50,
           302
          ],
          "sizemode": "area",
          "sizeref": 8.3,
          "symbol": "circle"
         },
         "mode": "markers",
         "name": "Art,Collectibles,2D",
         "orientation": "v",
         "showlegend": true,
         "type": "scatter",
         "x": [
          16,
          362
         ],
         "xaxis": "x",
         "y": [
          35,
          128
         ],
         "yaxis": "y"
        },
        {
         "customdata": [
          [
           null
          ]
         ],
         "hovertemplate": "Category=Collectibles,Ticket,Video<br>Sales=%{x}<br>Owners=%{y}<br>Assets=%{marker.size}<br>Owner_Asset_Ratio=%{customdata[0]}<extra></extra>",
         "legendgroup": "Collectibles,Ticket,Video",
         "marker": {
          "color": "#FF6692",
          "size": [
           0
          ],
          "sizemode": "area",
          "sizeref": 8.3,
          "symbol": "circle"
         },
         "mode": "markers",
         "name": "Collectibles,Ticket,Video",
         "orientation": "v",
         "showlegend": true,
         "type": "scatter",
         "x": [
          29
         ],
         "xaxis": "x",
         "y": [
          0
         ],
         "yaxis": "y"
        },
        {
         "customdata": [
          [
           11.43
          ]
         ],
         "hovertemplate": "Category=Collectibles,2D,Pixel Art<br>Sales=%{x}<br>Owners=%{y}<br>Assets=%{marker.size}<br>Owner_Asset_Ratio=%{customdata[0]}<extra></extra>",
         "legendgroup": "Collectibles,2D,Pixel Art",
         "marker": {
          "color": "#B6E880",
          "size": [
           35
          ],
          "sizemode": "area",
          "sizeref": 8.3,
          "symbol": "circle"
         },
         "mode": "markers",
         "name": "Collectibles,2D,Pixel Art",
         "orientation": "v",
         "showlegend": true,
         "type": "scatter",
         "x": [
          7
         ],
         "xaxis": "x",
         "y": [
          4
         ],
         "yaxis": "y"
        },
        {
         "customdata": [
          [
           43.48
          ]
         ],
         "hovertemplate": "Category=Art,Collectibles,Metaverse,PFP,Digital<br>Sales=%{x}<br>Owners=%{y}<br>Assets=%{marker.size}<br>Owner_Asset_Ratio=%{customdata[0]}<extra></extra>",
         "legendgroup": "Art,Collectibles,Metaverse,PFP,Digital",
         "marker": {
          "color": "#FF97FF",
          "size": [
           23
          ],
          "sizemode": "area",
          "sizeref": 8.3,
          "symbol": "circle"
         },
         "mode": "markers",
         "name": "Art,Collectibles,Metaverse,PFP,Digital",
         "orientation": "v",
         "showlegend": true,
         "type": "scatter",
         "x": [
          46
         ],
         "xaxis": "x",
         "y": [
          10
         ],
         "yaxis": "y"
        },
        {
         "customdata": [
          [
           50
          ]
         ],
         "hovertemplate": "Category=Art,Collectibles,2D,Drawing<br>Sales=%{x}<br>Owners=%{y}<br>Assets=%{marker.size}<br>Owner_Asset_Ratio=%{customdata[0]}<extra></extra>",
         "legendgroup": "Art,Collectibles,2D,Drawing",
         "marker": {
          "color": "#FECB52",
          "size": [
           2
          ],
          "sizemode": "area",
          "sizeref": 8.3,
          "symbol": "circle"
         },
         "mode": "markers",
         "name": "Art,Collectibles,2D,Drawing",
         "orientation": "v",
         "showlegend": true,
         "type": "scatter",
         "x": [
          3
         ],
         "xaxis": "x",
         "y": [
          1
         ],
         "yaxis": "y"
        },
        {
         "customdata": [
          [
           53.54
          ]
         ],
         "hovertemplate": "Category=3D,Art,Collectibles<br>Sales=%{x}<br>Owners=%{y}<br>Assets=%{marker.size}<br>Owner_Asset_Ratio=%{customdata[0]}<extra></extra>",
         "legendgroup": "3D,Art,Collectibles",
         "marker": {
          "color": "#636efa",
          "size": [
           99
          ],
          "sizemode": "area",
          "sizeref": 8.3,
          "symbol": "circle"
         },
         "mode": "markers",
         "name": "3D,Art,Collectibles",
         "orientation": "v",
         "showlegend": true,
         "type": "scatter",
         "x": [
          27
         ],
         "xaxis": "x",
         "y": [
          53
         ],
         "yaxis": "y"
        },
        {
         "customdata": [
          [
           64
          ]
         ],
         "hovertemplate": "Category=Digital,AI,Art,Collectibles,PFP,2D,Graphics,Drawing,Image<br>Sales=%{x}<br>Owners=%{y}<br>Assets=%{marker.size}<br>Owner_Asset_Ratio=%{customdata[0]}<extra></extra>",
         "legendgroup": "Digital,AI,Art,Collectibles,PFP,2D,Graphics,Drawing,Image",
         "marker": {
          "color": "#EF553B",
          "size": [
           75
          ],
          "sizemode": "area",
          "sizeref": 8.3,
          "symbol": "circle"
         },
         "mode": "markers",
         "name": "Digital,AI,Art,Collectibles,PFP,2D,Graphics,Drawing,Image",
         "orientation": "v",
         "showlegend": true,
         "type": "scatter",
         "x": [
          117
         ],
         "xaxis": "x",
         "y": [
          48
         ],
         "yaxis": "y"
        },
        {
         "customdata": [
          [
           54.55
          ]
         ],
         "hovertemplate": "Category=2D,Metaverse,Collectibles,Graphics,Image<br>Sales=%{x}<br>Owners=%{y}<br>Assets=%{marker.size}<br>Owner_Asset_Ratio=%{customdata[0]}<extra></extra>",
         "legendgroup": "2D,Metaverse,Collectibles,Graphics,Image",
         "marker": {
          "color": "#00cc96",
          "size": [
           22
          ],
          "sizemode": "area",
          "sizeref": 8.3,
          "symbol": "circle"
         },
         "mode": "markers",
         "name": "2D,Metaverse,Collectibles,Graphics,Image",
         "orientation": "v",
         "showlegend": true,
         "type": "scatter",
         "x": [
          108
         ],
         "xaxis": "x",
         "y": [
          12
         ],
         "yaxis": "y"
        },
        {
         "customdata": [
          [
           1.96
          ]
         ],
         "hovertemplate": "Category=Digital,Art,Collectibles,Graphics,Street Art,Picture,Image<br>Sales=%{x}<br>Owners=%{y}<br>Assets=%{marker.size}<br>Owner_Asset_Ratio=%{customdata[0]}<extra></extra>",
         "legendgroup": "Digital,Art,Collectibles,Graphics,Street Art,Picture,Image",
         "marker": {
          "color": "#ab63fa",
          "size": [
           818
          ],
          "sizemode": "area",
          "sizeref": 8.3,
          "symbol": "circle"
         },
         "mode": "markers",
         "name": "Digital,Art,Collectibles,Graphics,Street Art,Picture,Image",
         "orientation": "v",
         "showlegend": true,
         "type": "scatter",
         "x": [
          35
         ],
         "xaxis": "x",
         "y": [
          16
         ],
         "yaxis": "y"
        },
        {
         "customdata": [
          [
           18.66
          ]
         ],
         "hovertemplate": "Category=Digital,Art,Painting,Drawing,Collectibles<br>Sales=%{x}<br>Owners=%{y}<br>Assets=%{marker.size}<br>Owner_Asset_Ratio=%{customdata[0]}<extra></extra>",
         "legendgroup": "Digital,Art,Painting,Drawing,Collectibles",
         "marker": {
          "color": "#FFA15A",
          "size": [
           134
          ],
          "sizemode": "area",
          "sizeref": 8.3,
          "symbol": "circle"
         },
         "mode": "markers",
         "name": "Digital,Art,Painting,Drawing,Collectibles",
         "orientation": "v",
         "showlegend": true,
         "type": "scatter",
         "x": [
          84
         ],
         "xaxis": "x",
         "y": [
          25
         ],
         "yaxis": "y"
        },
        {
         "customdata": [
          [
           85.71
          ]
         ],
         "hovertemplate": "Category=Metaverse,Privilege,Digital,Art<br>Sales=%{x}<br>Owners=%{y}<br>Assets=%{marker.size}<br>Owner_Asset_Ratio=%{customdata[0]}<extra></extra>",
         "legendgroup": "Metaverse,Privilege,Digital,Art",
         "marker": {
          "color": "#19d3f3",
          "size": [
           7
          ],
          "sizemode": "area",
          "sizeref": 8.3,
          "symbol": "circle"
         },
         "mode": "markers",
         "name": "Metaverse,Privilege,Digital,Art",
         "orientation": "v",
         "showlegend": true,
         "type": "scatter",
         "x": [
          4
         ],
         "xaxis": "x",
         "y": [
          6
         ],
         "yaxis": "y"
        },
        {
         "customdata": [
          [
           12.5
          ]
         ],
         "hovertemplate": "Category=3D,Art,Digital,PFP,Music Theme,Video<br>Sales=%{x}<br>Owners=%{y}<br>Assets=%{marker.size}<br>Owner_Asset_Ratio=%{customdata[0]}<extra></extra>",
         "legendgroup": "3D,Art,Digital,PFP,Music Theme,Video",
         "marker": {
          "color": "#FF6692",
          "size": [
           8
          ],
          "sizemode": "area",
          "sizeref": 8.3,
          "symbol": "circle"
         },
         "mode": "markers",
         "name": "3D,Art,Digital,PFP,Music Theme,Video",
         "orientation": "v",
         "showlegend": true,
         "type": "scatter",
         "x": [
          10
         ],
         "xaxis": "x",
         "y": [
          1
         ],
         "yaxis": "y"
        },
        {
         "customdata": [
          [
           100
          ]
         ],
         "hovertemplate": "Category=Collectibles,PFP,P2E<br>Sales=%{x}<br>Owners=%{y}<br>Assets=%{marker.size}<br>Owner_Asset_Ratio=%{customdata[0]}<extra></extra>",
         "legendgroup": "Collectibles,PFP,P2E",
         "marker": {
          "color": "#B6E880",
          "size": [
           4
          ],
          "sizemode": "area",
          "sizeref": 8.3,
          "symbol": "circle"
         },
         "mode": "markers",
         "name": "Collectibles,PFP,P2E",
         "orientation": "v",
         "showlegend": true,
         "type": "scatter",
         "x": [
          10
         ],
         "xaxis": "x",
         "y": [
          4
         ],
         "yaxis": "y"
        },
        {
         "customdata": [
          [
           57.42
          ]
         ],
         "hovertemplate": "Category=Digital,Art,Collectibles,Artifact,Performance,PFP,Graphics,2D,Street Art,Picture<br>Sales=%{x}<br>Owners=%{y}<br>Assets=%{marker.size}<br>Owner_Asset_Ratio=%{customdata[0]}<extra></extra>",
         "legendgroup": "Digital,Art,Collectibles,Artifact,Performance,PFP,Graphics,2D,Street Art,Picture",
         "marker": {
          "color": "#FF97FF",
          "size": [
           155
          ],
          "sizemode": "area",
          "sizeref": 8.3,
          "symbol": "circle"
         },
         "mode": "markers",
         "name": "Digital,Art,Collectibles,Artifact,Performance,PFP,Graphics,2D,Street Art,Picture",
         "orientation": "v",
         "showlegend": true,
         "type": "scatter",
         "x": [
          29
         ],
         "xaxis": "x",
         "y": [
          89
         ],
         "yaxis": "y"
        },
        {
         "customdata": [
          [
           68.18
          ]
         ],
         "hovertemplate": "Category=Art,Digital,Collectibles,Metaverse,Drawing<br>Sales=%{x}<br>Owners=%{y}<br>Assets=%{marker.size}<br>Owner_Asset_Ratio=%{customdata[0]}<extra></extra>",
         "legendgroup": "Art,Digital,Collectibles,Metaverse,Drawing",
         "marker": {
          "color": "#FECB52",
          "size": [
           44
          ],
          "sizemode": "area",
          "sizeref": 8.3,
          "symbol": "circle"
         },
         "mode": "markers",
         "name": "Art,Digital,Collectibles,Metaverse,Drawing",
         "orientation": "v",
         "showlegend": true,
         "type": "scatter",
         "x": [
          102
         ],
         "xaxis": "x",
         "y": [
          30
         ],
         "yaxis": "y"
        },
        {
         "customdata": [
          [
           62.5
          ]
         ],
         "hovertemplate": "Category=Digital,Art,Collectibles,PFP,2D,Drawing,Image,Picture,Design<br>Sales=%{x}<br>Owners=%{y}<br>Assets=%{marker.size}<br>Owner_Asset_Ratio=%{customdata[0]}<extra></extra>",
         "legendgroup": "Digital,Art,Collectibles,PFP,2D,Drawing,Image,Picture,Design",
         "marker": {
          "color": "#636efa",
          "size": [
           8
          ],
          "sizemode": "area",
          "sizeref": 8.3,
          "symbol": "circle"
         },
         "mode": "markers",
         "name": "Digital,Art,Collectibles,PFP,2D,Drawing,Image,Picture,Design",
         "orientation": "v",
         "showlegend": true,
         "type": "scatter",
         "x": [
          38
         ],
         "xaxis": "x",
         "y": [
          5
         ],
         "yaxis": "y"
        },
        {
         "customdata": [
          [
           21.43
          ]
         ],
         "hovertemplate": "Category=Photography,Art<br>Sales=%{x}<br>Owners=%{y}<br>Assets=%{marker.size}<br>Owner_Asset_Ratio=%{customdata[0]}<extra></extra>",
         "legendgroup": "Photography,Art",
         "marker": {
          "color": "#EF553B",
          "size": [
           14
          ],
          "sizemode": "area",
          "sizeref": 8.3,
          "symbol": "circle"
         },
         "mode": "markers",
         "name": "Photography,Art",
         "orientation": "v",
         "showlegend": true,
         "type": "scatter",
         "x": [
          3
         ],
         "xaxis": "x",
         "y": [
          3
         ],
         "yaxis": "y"
        },
        {
         "customdata": [
          [
           1.14
          ]
         ],
         "hovertemplate": "Category=Physical,Digital,Privilege<br>Sales=%{x}<br>Owners=%{y}<br>Assets=%{marker.size}<br>Owner_Asset_Ratio=%{customdata[0]}<extra></extra>",
         "legendgroup": "Physical,Digital,Privilege",
         "marker": {
          "color": "#00cc96",
          "size": [
           88
          ],
          "sizemode": "area",
          "sizeref": 8.3,
          "symbol": "circle"
         },
         "mode": "markers",
         "name": "Physical,Digital,Privilege",
         "orientation": "v",
         "showlegend": true,
         "type": "scatter",
         "x": [
          11
         ],
         "xaxis": "x",
         "y": [
          1
         ],
         "yaxis": "y"
        },
        {
         "customdata": [
          [
           100
          ]
         ],
         "hovertemplate": "Category=Digital,Metaverse,Art,Collectibles,2D,Drawing<br>Sales=%{x}<br>Owners=%{y}<br>Assets=%{marker.size}<br>Owner_Asset_Ratio=%{customdata[0]}<extra></extra>",
         "legendgroup": "Digital,Metaverse,Art,Collectibles,2D,Drawing",
         "marker": {
          "color": "#ab63fa",
          "size": [
           1
          ],
          "sizemode": "area",
          "sizeref": 8.3,
          "symbol": "circle"
         },
         "mode": "markers",
         "name": "Digital,Metaverse,Art,Collectibles,2D,Drawing",
         "orientation": "v",
         "showlegend": true,
         "type": "scatter",
         "x": [
          8
         ],
         "xaxis": "x",
         "y": [
          1
         ],
         "yaxis": "y"
        },
        {
         "customdata": [
          [
           38.46
          ]
         ],
         "hovertemplate": "Category=Design,Photography,Digital<br>Sales=%{x}<br>Owners=%{y}<br>Assets=%{marker.size}<br>Owner_Asset_Ratio=%{customdata[0]}<extra></extra>",
         "legendgroup": "Design,Photography,Digital",
         "marker": {
          "color": "#FFA15A",
          "size": [
           39
          ],
          "sizemode": "area",
          "sizeref": 8.3,
          "symbol": "circle"
         },
         "mode": "markers",
         "name": "Design,Photography,Digital",
         "orientation": "v",
         "showlegend": true,
         "type": "scatter",
         "x": [
          6
         ],
         "xaxis": "x",
         "y": [
          15
         ],
         "yaxis": "y"
        },
        {
         "customdata": [
          [
           52.63
          ]
         ],
         "hovertemplate": "Category=Digital,Metaverse,Art,Collectibles,Graphics,2D,Design,Picture,Image<br>Sales=%{x}<br>Owners=%{y}<br>Assets=%{marker.size}<br>Owner_Asset_Ratio=%{customdata[0]}<extra></extra>",
         "legendgroup": "Digital,Metaverse,Art,Collectibles,Graphics,2D,Design,Picture,Image",
         "marker": {
          "color": "#19d3f3",
          "size": [
           19
          ],
          "sizemode": "area",
          "sizeref": 8.3,
          "symbol": "circle"
         },
         "mode": "markers",
         "name": "Digital,Metaverse,Art,Collectibles,Graphics,2D,Design,Picture,Image",
         "orientation": "v",
         "showlegend": true,
         "type": "scatter",
         "x": [
          30
         ],
         "xaxis": "x",
         "y": [
          10
         ],
         "yaxis": "y"
        },
        {
         "customdata": [
          [
           23.53
          ]
         ],
         "hovertemplate": "Category=Art,Digital,Image,Painting,Collectibles,2D,Design,AI<br>Sales=%{x}<br>Owners=%{y}<br>Assets=%{marker.size}<br>Owner_Asset_Ratio=%{customdata[0]}<extra></extra>",
         "legendgroup": "Art,Digital,Image,Painting,Collectibles,2D,Design,AI",
         "marker": {
          "color": "#FF6692",
          "size": [
           34
          ],
          "sizemode": "area",
          "sizeref": 8.3,
          "symbol": "circle"
         },
         "mode": "markers",
         "name": "Art,Digital,Image,Painting,Collectibles,2D,Design,AI",
         "orientation": "v",
         "showlegend": true,
         "type": "scatter",
         "x": [
          12
         ],
         "xaxis": "x",
         "y": [
          8
         ],
         "yaxis": "y"
        },
        {
         "customdata": [
          [
           20
          ]
         ],
         "hovertemplate": "Category=Digital,Metaverse,Art,Collectibles,Music,Music Theme,Painting,Picture,Image<br>Sales=%{x}<br>Owners=%{y}<br>Assets=%{marker.size}<br>Owner_Asset_Ratio=%{customdata[0]}<extra></extra>",
         "legendgroup": "Digital,Metaverse,Art,Collectibles,Music,Music Theme,Painting,Picture,Image",
         "marker": {
          "color": "#B6E880",
          "size": [
           70
          ],
          "sizemode": "area",
          "sizeref": 8.3,
          "symbol": "circle"
         },
         "mode": "markers",
         "name": "Digital,Metaverse,Art,Collectibles,Music,Music Theme,Painting,Picture,Image",
         "orientation": "v",
         "showlegend": true,
         "type": "scatter",
         "x": [
          63
         ],
         "xaxis": "x",
         "y": [
          14
         ],
         "yaxis": "y"
        },
        {
         "customdata": [
          [
           13.33
          ]
         ],
         "hovertemplate": "Category=3D,Art,Video,Collectibles,Design,Digital,Graphics,Image,Picture,Sculpture,Photography<br>Sales=%{x}<br>Owners=%{y}<br>Assets=%{marker.size}<br>Owner_Asset_Ratio=%{customdata[0]}<extra></extra>",
         "legendgroup": "3D,Art,Video,Collectibles,Design,Digital,Graphics,Image,Picture,Sculpture,Photography",
         "marker": {
          "color": "#FF97FF",
          "size": [
           15
          ],
          "sizemode": "area",
          "sizeref": 8.3,
          "symbol": "circle"
         },
         "mode": "markers",
         "name": "3D,Art,Video,Collectibles,Design,Digital,Graphics,Image,Picture,Sculpture,Photography",
         "orientation": "v",
         "showlegend": true,
         "type": "scatter",
         "x": [
          5
         ],
         "xaxis": "x",
         "y": [
          2
         ],
         "yaxis": "y"
        },
        {
         "customdata": [
          [
           9.73
          ]
         ],
         "hovertemplate": "Category=Photography,Collectibles,Art<br>Sales=%{x}<br>Owners=%{y}<br>Assets=%{marker.size}<br>Owner_Asset_Ratio=%{customdata[0]}<extra></extra>",
         "legendgroup": "Photography,Collectibles,Art",
         "marker": {
          "color": "#FECB52",
          "size": [
           113
          ],
          "sizemode": "area",
          "sizeref": 8.3,
          "symbol": "circle"
         },
         "mode": "markers",
         "name": "Photography,Collectibles,Art",
         "orientation": "v",
         "showlegend": true,
         "type": "scatter",
         "x": [
          26
         ],
         "xaxis": "x",
         "y": [
          11
         ],
         "yaxis": "y"
        },
        {
         "customdata": [
          [
           4
          ]
         ],
         "hovertemplate": "Category=Digital,Street Art,Collectibles,Art,2D<br>Sales=%{x}<br>Owners=%{y}<br>Assets=%{marker.size}<br>Owner_Asset_Ratio=%{customdata[0]}<extra></extra>",
         "legendgroup": "Digital,Street Art,Collectibles,Art,2D",
         "marker": {
          "color": "#636efa",
          "size": [
           50
          ],
          "sizemode": "area",
          "sizeref": 8.3,
          "symbol": "circle"
         },
         "mode": "markers",
         "name": "Digital,Street Art,Collectibles,Art,2D",
         "orientation": "v",
         "showlegend": true,
         "type": "scatter",
         "x": [
          13
         ],
         "xaxis": "x",
         "y": [
          2
         ],
         "yaxis": "y"
        },
        {
         "customdata": [
          [
           7.95
          ]
         ],
         "hovertemplate": "Category=2D,Digital,Metaverse,Art,Collectibles,Artifact,Image,Picture,Drawing,Painting,Graphics<br>Sales=%{x}<br>Owners=%{y}<br>Assets=%{marker.size}<br>Owner_Asset_Ratio=%{customdata[0]}<extra></extra>",
         "legendgroup": "2D,Digital,Metaverse,Art,Collectibles,Artifact,Image,Picture,Drawing,Painting,Graphics",
         "marker": {
          "color": "#EF553B",
          "size": [
           88
          ],
          "sizemode": "area",
          "sizeref": 8.3,
          "symbol": "circle"
         },
         "mode": "markers",
         "name": "2D,Digital,Metaverse,Art,Collectibles,Artifact,Image,Picture,Drawing,Painting,Graphics",
         "orientation": "v",
         "showlegend": true,
         "type": "scatter",
         "x": [
          20
         ],
         "xaxis": "x",
         "y": [
          7
         ],
         "yaxis": "y"
        },
        {
         "customdata": [
          [
           10.31
          ]
         ],
         "hovertemplate": "Category=Collectibles,Art,Design,PFP,Graphics,2D,3D,Picture,Street Art<br>Sales=%{x}<br>Owners=%{y}<br>Assets=%{marker.size}<br>Owner_Asset_Ratio=%{customdata[0]}<extra></extra>",
         "legendgroup": "Collectibles,Art,Design,PFP,Graphics,2D,3D,Picture,Street Art",
         "marker": {
          "color": "#00cc96",
          "size": [
           97
          ],
          "sizemode": "area",
          "sizeref": 8.3,
          "symbol": "circle"
         },
         "mode": "markers",
         "name": "Collectibles,Art,Design,PFP,Graphics,2D,3D,Picture,Street Art",
         "orientation": "v",
         "showlegend": true,
         "type": "scatter",
         "x": [
          32
         ],
         "xaxis": "x",
         "y": [
          10
         ],
         "yaxis": "y"
        },
        {
         "customdata": [
          [
           null
          ]
         ],
         "hovertemplate": "Category=Digital,Art,2D,Painting,Image,Print<br>Sales=%{x}<br>Owners=%{y}<br>Assets=%{marker.size}<br>Owner_Asset_Ratio=%{customdata[0]}<extra></extra>",
         "legendgroup": "Digital,Art,2D,Painting,Image,Print",
         "marker": {
          "color": "#ab63fa",
          "size": [
           0
          ],
          "sizemode": "area",
          "sizeref": 8.3,
          "symbol": "circle"
         },
         "mode": "markers",
         "name": "Digital,Art,2D,Painting,Image,Print",
         "orientation": "v",
         "showlegend": true,
         "type": "scatter",
         "x": [
          1
         ],
         "xaxis": "x",
         "y": [
          0
         ],
         "yaxis": "y"
        },
        {
         "customdata": [
          [
           1.11
          ]
         ],
         "hovertemplate": "Category=Digital,3D,Privilege<br>Sales=%{x}<br>Owners=%{y}<br>Assets=%{marker.size}<br>Owner_Asset_Ratio=%{customdata[0]}<extra></extra>",
         "legendgroup": "Digital,3D,Privilege",
         "marker": {
          "color": "#FFA15A",
          "size": [
           90
          ],
          "sizemode": "area",
          "sizeref": 8.3,
          "symbol": "circle"
         },
         "mode": "markers",
         "name": "Digital,3D,Privilege",
         "orientation": "v",
         "showlegend": true,
         "type": "scatter",
         "x": [
          10
         ],
         "xaxis": "x",
         "y": [
          1
         ],
         "yaxis": "y"
        },
        {
         "customdata": [
          [
           34.21
          ]
         ],
         "hovertemplate": "Category=Digital,Collectibles,Ticket,Privilege<br>Sales=%{x}<br>Owners=%{y}<br>Assets=%{marker.size}<br>Owner_Asset_Ratio=%{customdata[0]}<extra></extra>",
         "legendgroup": "Digital,Collectibles,Ticket,Privilege",
         "marker": {
          "color": "#19d3f3",
          "size": [
           152
          ],
          "sizemode": "area",
          "sizeref": 8.3,
          "symbol": "circle"
         },
         "mode": "markers",
         "name": "Digital,Collectibles,Ticket,Privilege",
         "orientation": "v",
         "showlegend": true,
         "type": "scatter",
         "x": [
          165
         ],
         "xaxis": "x",
         "y": [
          52
         ],
         "yaxis": "y"
        },
        {
         "customdata": [
          [
           43.14
          ]
         ],
         "hovertemplate": "Category=Collectibles,Art,PFP,2D<br>Sales=%{x}<br>Owners=%{y}<br>Assets=%{marker.size}<br>Owner_Asset_Ratio=%{customdata[0]}<extra></extra>",
         "legendgroup": "Collectibles,Art,PFP,2D",
         "marker": {
          "color": "#FF6692",
          "size": [
           102
          ],
          "sizemode": "area",
          "sizeref": 8.3,
          "symbol": "circle"
         },
         "mode": "markers",
         "name": "Collectibles,Art,PFP,2D",
         "orientation": "v",
         "showlegend": true,
         "type": "scatter",
         "x": [
          80
         ],
         "xaxis": "x",
         "y": [
          44
         ],
         "yaxis": "y"
        },
        {
         "customdata": [
          [
           48.35
          ]
         ],
         "hovertemplate": "Category=P2E,Image,Art,2D,PFP,Collectibles<br>Sales=%{x}<br>Owners=%{y}<br>Assets=%{marker.size}<br>Owner_Asset_Ratio=%{customdata[0]}<extra></extra>",
         "legendgroup": "P2E,Image,Art,2D,PFP,Collectibles",
         "marker": {
          "color": "#B6E880",
          "size": [
           91
          ],
          "sizemode": "area",
          "sizeref": 8.3,
          "symbol": "circle"
         },
         "mode": "markers",
         "name": "P2E,Image,Art,2D,PFP,Collectibles",
         "orientation": "v",
         "showlegend": true,
         "type": "scatter",
         "x": [
          21
         ],
         "xaxis": "x",
         "y": [
          44
         ],
         "yaxis": "y"
        },
        {
         "customdata": [
          [
           28.57
          ]
         ],
         "hovertemplate": "Category=Digital,Physical,Art<br>Sales=%{x}<br>Owners=%{y}<br>Assets=%{marker.size}<br>Owner_Asset_Ratio=%{customdata[0]}<extra></extra>",
         "legendgroup": "Digital,Physical,Art",
         "marker": {
          "color": "#FF97FF",
          "size": [
           7
          ],
          "sizemode": "area",
          "sizeref": 8.3,
          "symbol": "circle"
         },
         "mode": "markers",
         "name": "Digital,Physical,Art",
         "orientation": "v",
         "showlegend": true,
         "type": "scatter",
         "x": [
          3
         ],
         "xaxis": "x",
         "y": [
          2
         ],
         "yaxis": "y"
        },
        {
         "customdata": [
          [
           21.62
          ]
         ],
         "hovertemplate": "Category=PFP,Digital,Metaverse,Trading Cards,Image,Pixel Art,Collectibles<br>Sales=%{x}<br>Owners=%{y}<br>Assets=%{marker.size}<br>Owner_Asset_Ratio=%{customdata[0]}<extra></extra>",
         "legendgroup": "PFP,Digital,Metaverse,Trading Cards,Image,Pixel Art,Collectibles",
         "marker": {
          "color": "#FECB52",
          "size": [
           37
          ],
          "sizemode": "area",
          "sizeref": 8.3,
          "symbol": "circle"
         },
         "mode": "markers",
         "name": "PFP,Digital,Metaverse,Trading Cards,Image,Pixel Art,Collectibles",
         "orientation": "v",
         "showlegend": true,
         "type": "scatter",
         "x": [
          18
         ],
         "xaxis": "x",
         "y": [
          8
         ],
         "yaxis": "y"
        },
        {
         "customdata": [
          [
           2.27
          ]
         ],
         "hovertemplate": "Category=PFP,Metaverse,Digital,Art,2D,Collectibles,Painting<br>Sales=%{x}<br>Owners=%{y}<br>Assets=%{marker.size}<br>Owner_Asset_Ratio=%{customdata[0]}<extra></extra>",
         "legendgroup": "PFP,Metaverse,Digital,Art,2D,Collectibles,Painting",
         "marker": {
          "color": "#636efa",
          "size": [
           44
          ],
          "sizemode": "area",
          "sizeref": 8.3,
          "symbol": "circle"
         },
         "mode": "markers",
         "name": "PFP,Metaverse,Digital,Art,2D,Collectibles,Painting",
         "orientation": "v",
         "showlegend": true,
         "type": "scatter",
         "x": [
          9
         ],
         "xaxis": "x",
         "y": [
          1
         ],
         "yaxis": "y"
        },
        {
         "customdata": [
          [
           33.33
          ]
         ],
         "hovertemplate": "Category=PFP,Drawing<br>Sales=%{x}<br>Owners=%{y}<br>Assets=%{marker.size}<br>Owner_Asset_Ratio=%{customdata[0]}<extra></extra>",
         "legendgroup": "PFP,Drawing",
         "marker": {
          "color": "#EF553B",
          "size": [
           12
          ],
          "sizemode": "area",
          "sizeref": 8.3,
          "symbol": "circle"
         },
         "mode": "markers",
         "name": "PFP,Drawing",
         "orientation": "v",
         "showlegend": true,
         "type": "scatter",
         "x": [
          3
         ],
         "xaxis": "x",
         "y": [
          4
         ],
         "yaxis": "y"
        },
        {
         "customdata": [
          [
           85.71
          ]
         ],
         "hovertemplate": "Category=Digital,Art,Collectibles,Graphics<br>Sales=%{x}<br>Owners=%{y}<br>Assets=%{marker.size}<br>Owner_Asset_Ratio=%{customdata[0]}<extra></extra>",
         "legendgroup": "Digital,Art,Collectibles,Graphics",
         "marker": {
          "color": "#00cc96",
          "size": [
           7
          ],
          "sizemode": "area",
          "sizeref": 8.3,
          "symbol": "circle"
         },
         "mode": "markers",
         "name": "Digital,Art,Collectibles,Graphics",
         "orientation": "v",
         "showlegend": true,
         "type": "scatter",
         "x": [
          20
         ],
         "xaxis": "x",
         "y": [
          6
         ],
         "yaxis": "y"
        },
        {
         "customdata": [
          [
           60.94
          ]
         ],
         "hovertemplate": "Category=Digital,Art,Collectibles,AI,Metaverse,3D<br>Sales=%{x}<br>Owners=%{y}<br>Assets=%{marker.size}<br>Owner_Asset_Ratio=%{customdata[0]}<extra></extra>",
         "legendgroup": "Digital,Art,Collectibles,AI,Metaverse,3D",
         "marker": {
          "color": "#ab63fa",
          "size": [
           64
          ],
          "sizemode": "area",
          "sizeref": 8.3,
          "symbol": "circle"
         },
         "mode": "markers",
         "name": "Digital,Art,Collectibles,AI,Metaverse,3D",
         "orientation": "v",
         "showlegend": true,
         "type": "scatter",
         "x": [
          108
         ],
         "xaxis": "x",
         "y": [
          39
         ],
         "yaxis": "y"
        },
        {
         "customdata": [
          [
           17.34
          ]
         ],
         "hovertemplate": "Category=Digital,Art,Collectibles,Drawing,Video<br>Sales=%{x}<br>Owners=%{y}<br>Assets=%{marker.size}<br>Owner_Asset_Ratio=%{customdata[0]}<extra></extra>",
         "legendgroup": "Digital,Art,Collectibles,Drawing,Video",
         "marker": {
          "color": "#FFA15A",
          "size": [
           173
          ],
          "sizemode": "area",
          "sizeref": 8.3,
          "symbol": "circle"
         },
         "mode": "markers",
         "name": "Digital,Art,Collectibles,Drawing,Video",
         "orientation": "v",
         "showlegend": true,
         "type": "scatter",
         "x": [
          98
         ],
         "xaxis": "x",
         "y": [
          30
         ],
         "yaxis": "y"
        },
        {
         "customdata": [
          [
           42.31
          ]
         ],
         "hovertemplate": "Category=Digital,Art,3D<br>Sales=%{x}<br>Owners=%{y}<br>Assets=%{marker.size}<br>Owner_Asset_Ratio=%{customdata[0]}<extra></extra>",
         "legendgroup": "Digital,Art,3D",
         "marker": {
          "color": "#19d3f3",
          "size": [
           26
          ],
          "sizemode": "area",
          "sizeref": 8.3,
          "symbol": "circle"
         },
         "mode": "markers",
         "name": "Digital,Art,3D",
         "orientation": "v",
         "showlegend": true,
         "type": "scatter",
         "x": [
          22
         ],
         "xaxis": "x",
         "y": [
          11
         ],
         "yaxis": "y"
        },
        {
         "customdata": [
          [
           26.67
          ]
         ],
         "hovertemplate": "Category=Physical,Digital,Collectibles,3D,Trading Cards,Trademark,Photography<br>Sales=%{x}<br>Owners=%{y}<br>Assets=%{marker.size}<br>Owner_Asset_Ratio=%{customdata[0]}<extra></extra>",
         "legendgroup": "Physical,Digital,Collectibles,3D,Trading Cards,Trademark,Photography",
         "marker": {
          "color": "#FF6692",
          "size": [
           15
          ],
          "sizemode": "area",
          "sizeref": 8.3,
          "symbol": "circle"
         },
         "mode": "markers",
         "name": "Physical,Digital,Collectibles,3D,Trading Cards,Trademark,Photography",
         "orientation": "v",
         "showlegend": true,
         "type": "scatter",
         "x": [
          8
         ],
         "xaxis": "x",
         "y": [
          4
         ],
         "yaxis": "y"
        },
        {
         "customdata": [
          [
           null
          ]
         ],
         "hovertemplate": "Category=Digital,Art,2D,Painting,Drawing,Collectibles<br>Sales=%{x}<br>Owners=%{y}<br>Assets=%{marker.size}<br>Owner_Asset_Ratio=%{customdata[0]}<extra></extra>",
         "legendgroup": "Digital,Art,2D,Painting,Drawing,Collectibles",
         "marker": {
          "color": "#B6E880",
          "size": [
           0
          ],
          "sizemode": "area",
          "sizeref": 8.3,
          "symbol": "circle"
         },
         "mode": "markers",
         "name": "Digital,Art,2D,Painting,Drawing,Collectibles",
         "orientation": "v",
         "showlegend": true,
         "type": "scatter",
         "x": [
          4
         ],
         "xaxis": "x",
         "y": [
          0
         ],
         "yaxis": "y"
        },
        {
         "customdata": [
          [
           78.57
          ]
         ],
         "hovertemplate": "Category=Privilege,Art,Drawing,Painting,PFP<br>Sales=%{x}<br>Owners=%{y}<br>Assets=%{marker.size}<br>Owner_Asset_Ratio=%{customdata[0]}<extra></extra>",
         "legendgroup": "Privilege,Art,Drawing,Painting,PFP",
         "marker": {
          "color": "#FF97FF",
          "size": [
           28
          ],
          "sizemode": "area",
          "sizeref": 8.3,
          "symbol": "circle"
         },
         "mode": "markers",
         "name": "Privilege,Art,Drawing,Painting,PFP",
         "orientation": "v",
         "showlegend": true,
         "type": "scatter",
         "x": [
          5
         ],
         "xaxis": "x",
         "y": [
          22
         ],
         "yaxis": "y"
        },
        {
         "customdata": [
          [
           33.33
          ]
         ],
         "hovertemplate": "Category=Physical,Digital,Art<br>Sales=%{x}<br>Owners=%{y}<br>Assets=%{marker.size}<br>Owner_Asset_Ratio=%{customdata[0]}<extra></extra>",
         "legendgroup": "Physical,Digital,Art",
         "marker": {
          "color": "#FECB52",
          "size": [
           3
          ],
          "sizemode": "area",
          "sizeref": 8.3,
          "symbol": "circle"
         },
         "mode": "markers",
         "name": "Physical,Digital,Art",
         "orientation": "v",
         "showlegend": true,
         "type": "scatter",
         "x": [
          8
         ],
         "xaxis": "x",
         "y": [
          1
         ],
         "yaxis": "y"
        },
        {
         "customdata": [
          [
           12.5
          ]
         ],
         "hovertemplate": "Category=Art,Collectibles,PFP,2D,Picture,Image<br>Sales=%{x}<br>Owners=%{y}<br>Assets=%{marker.size}<br>Owner_Asset_Ratio=%{customdata[0]}<extra></extra>",
         "legendgroup": "Art,Collectibles,PFP,2D,Picture,Image",
         "marker": {
          "color": "#636efa",
          "size": [
           8
          ],
          "sizemode": "area",
          "sizeref": 8.3,
          "symbol": "circle"
         },
         "mode": "markers",
         "name": "Art,Collectibles,PFP,2D,Picture,Image",
         "orientation": "v",
         "showlegend": true,
         "type": "scatter",
         "x": [
          7
         ],
         "xaxis": "x",
         "y": [
          1
         ],
         "yaxis": "y"
        },
        {
         "customdata": [
          [
           100
          ]
         ],
         "hovertemplate": "Category=Art,Collectibles,Digital<br>Sales=%{x}<br>Owners=%{y}<br>Assets=%{marker.size}<br>Owner_Asset_Ratio=%{customdata[0]}<extra></extra>",
         "legendgroup": "Art,Collectibles,Digital",
         "marker": {
          "color": "#EF553B",
          "size": [
           2
          ],
          "sizemode": "area",
          "sizeref": 8.3,
          "symbol": "circle"
         },
         "mode": "markers",
         "name": "Art,Collectibles,Digital",
         "orientation": "v",
         "showlegend": true,
         "type": "scatter",
         "x": [
          15
         ],
         "xaxis": "x",
         "y": [
          2
         ],
         "yaxis": "y"
        },
        {
         "customdata": [
          [
           26.32
          ]
         ],
         "hovertemplate": "Category=Digital,Metaverse,Art,Collectibles,3D,Video,PFP<br>Sales=%{x}<br>Owners=%{y}<br>Assets=%{marker.size}<br>Owner_Asset_Ratio=%{customdata[0]}<extra></extra>",
         "legendgroup": "Digital,Metaverse,Art,Collectibles,3D,Video,PFP",
         "marker": {
          "color": "#00cc96",
          "size": [
           19
          ],
          "sizemode": "area",
          "sizeref": 8.3,
          "symbol": "circle"
         },
         "mode": "markers",
         "name": "Digital,Metaverse,Art,Collectibles,3D,Video,PFP",
         "orientation": "v",
         "showlegend": true,
         "type": "scatter",
         "x": [
          5
         ],
         "xaxis": "x",
         "y": [
          5
         ],
         "yaxis": "y"
        },
        {
         "customdata": [
          [
           42.37
          ]
         ],
         "hovertemplate": "Category=Digital,Metaverse,Art,Collectibles,PFP,2D,Drawing,Picture,Image<br>Sales=%{x}<br>Owners=%{y}<br>Assets=%{marker.size}<br>Owner_Asset_Ratio=%{customdata[0]}<extra></extra>",
         "legendgroup": "Digital,Metaverse,Art,Collectibles,PFP,2D,Drawing,Picture,Image",
         "marker": {
          "color": "#ab63fa",
          "size": [
           59
          ],
          "sizemode": "area",
          "sizeref": 8.3,
          "symbol": "circle"
         },
         "mode": "markers",
         "name": "Digital,Metaverse,Art,Collectibles,PFP,2D,Drawing,Picture,Image",
         "orientation": "v",
         "showlegend": true,
         "type": "scatter",
         "x": [
          4
         ],
         "xaxis": "x",
         "y": [
          25
         ],
         "yaxis": "y"
        },
        {
         "customdata": [
          [
           60.32
          ],
          [
           16.67
          ]
         ],
         "hovertemplate": "Category=Metaverse,Collectibles,2D<br>Sales=%{x}<br>Owners=%{y}<br>Assets=%{marker.size}<br>Owner_Asset_Ratio=%{customdata[0]}<extra></extra>",
         "legendgroup": "Metaverse,Collectibles,2D",
         "marker": {
          "color": "#FFA15A",
          "size": [
           63,
           6
          ],
          "sizemode": "area",
          "sizeref": 8.3,
          "symbol": "circle"
         },
         "mode": "markers",
         "name": "Metaverse,Collectibles,2D",
         "orientation": "v",
         "showlegend": true,
         "type": "scatter",
         "x": [
          17,
          3
         ],
         "xaxis": "x",
         "y": [
          38,
          1
         ],
         "yaxis": "y"
        },
        {
         "customdata": [
          [
           21.21
          ]
         ],
         "hovertemplate": "Category=Collectibles,Metaverse,3D,Design<br>Sales=%{x}<br>Owners=%{y}<br>Assets=%{marker.size}<br>Owner_Asset_Ratio=%{customdata[0]}<extra></extra>",
         "legendgroup": "Collectibles,Metaverse,3D,Design",
         "marker": {
          "color": "#19d3f3",
          "size": [
           33
          ],
          "sizemode": "area",
          "sizeref": 8.3,
          "symbol": "circle"
         },
         "mode": "markers",
         "name": "Collectibles,Metaverse,3D,Design",
         "orientation": "v",
         "showlegend": true,
         "type": "scatter",
         "x": [
          9
         ],
         "xaxis": "x",
         "y": [
          7
         ],
         "yaxis": "y"
        },
        {
         "customdata": [
          [
           11.11
          ]
         ],
         "hovertemplate": "Category=Digital,Privilege,Art,Collectibles,PFP,Drawing,Street Art<br>Sales=%{x}<br>Owners=%{y}<br>Assets=%{marker.size}<br>Owner_Asset_Ratio=%{customdata[0]}<extra></extra>",
         "legendgroup": "Digital,Privilege,Art,Collectibles,PFP,Drawing,Street Art",
         "marker": {
          "color": "#FF6692",
          "size": [
           9
          ],
          "sizemode": "area",
          "sizeref": 8.3,
          "symbol": "circle"
         },
         "mode": "markers",
         "name": "Digital,Privilege,Art,Collectibles,PFP,Drawing,Street Art",
         "orientation": "v",
         "showlegend": true,
         "type": "scatter",
         "x": [
          7
         ],
         "xaxis": "x",
         "y": [
          1
         ],
         "yaxis": "y"
        },
        {
         "customdata": [
          [
           2.56
          ]
         ],
         "hovertemplate": "Category=Collectibles,Art,AI<br>Sales=%{x}<br>Owners=%{y}<br>Assets=%{marker.size}<br>Owner_Asset_Ratio=%{customdata[0]}<extra></extra>",
         "legendgroup": "Collectibles,Art,AI",
         "marker": {
          "color": "#B6E880",
          "size": [
           117
          ],
          "sizemode": "area",
          "sizeref": 8.3,
          "symbol": "circle"
         },
         "mode": "markers",
         "name": "Collectibles,Art,AI",
         "orientation": "v",
         "showlegend": true,
         "type": "scatter",
         "x": [
          7
         ],
         "xaxis": "x",
         "y": [
          3
         ],
         "yaxis": "y"
        },
        {
         "customdata": [
          [
           5.88
          ]
         ],
         "hovertemplate": "Category=Art,Graphics,2D,Design,Image,Picture,Drawing,PFP<br>Sales=%{x}<br>Owners=%{y}<br>Assets=%{marker.size}<br>Owner_Asset_Ratio=%{customdata[0]}<extra></extra>",
         "legendgroup": "Art,Graphics,2D,Design,Image,Picture,Drawing,PFP",
         "marker": {
          "color": "#FF97FF",
          "size": [
           17
          ],
          "sizemode": "area",
          "sizeref": 8.3,
          "symbol": "circle"
         },
         "mode": "markers",
         "name": "Art,Graphics,2D,Design,Image,Picture,Drawing,PFP",
         "orientation": "v",
         "showlegend": true,
         "type": "scatter",
         "x": [
          30
         ],
         "xaxis": "x",
         "y": [
          1
         ],
         "yaxis": "y"
        },
        {
         "customdata": [
          [
           56.62
          ]
         ],
         "hovertemplate": "Category=Digital,Art,2D,Metaverse,Collectibles,P2E<br>Sales=%{x}<br>Owners=%{y}<br>Assets=%{marker.size}<br>Owner_Asset_Ratio=%{customdata[0]}<extra></extra>",
         "legendgroup": "Digital,Art,2D,Metaverse,Collectibles,P2E",
         "marker": {
          "color": "#FECB52",
          "size": [
           136
          ],
          "sizemode": "area",
          "sizeref": 8.3,
          "symbol": "circle"
         },
         "mode": "markers",
         "name": "Digital,Art,2D,Metaverse,Collectibles,P2E",
         "orientation": "v",
         "showlegend": true,
         "type": "scatter",
         "x": [
          49
         ],
         "xaxis": "x",
         "y": [
          77
         ],
         "yaxis": "y"
        },
        {
         "customdata": [
          [
           33.33
          ]
         ],
         "hovertemplate": "Category=Art,Collectibles,Drawing<br>Sales=%{x}<br>Owners=%{y}<br>Assets=%{marker.size}<br>Owner_Asset_Ratio=%{customdata[0]}<extra></extra>",
         "legendgroup": "Art,Collectibles,Drawing",
         "marker": {
          "color": "#636efa",
          "size": [
           3
          ],
          "sizemode": "area",
          "sizeref": 8.3,
          "symbol": "circle"
         },
         "mode": "markers",
         "name": "Art,Collectibles,Drawing",
         "orientation": "v",
         "showlegend": true,
         "type": "scatter",
         "x": [
          3
         ],
         "xaxis": "x",
         "y": [
          1
         ],
         "yaxis": "y"
        },
        {
         "customdata": [
          [
           45.45
          ]
         ],
         "hovertemplate": "Category=Digital,Collectibles,Pixel Art<br>Sales=%{x}<br>Owners=%{y}<br>Assets=%{marker.size}<br>Owner_Asset_Ratio=%{customdata[0]}<extra></extra>",
         "legendgroup": "Digital,Collectibles,Pixel Art",
         "marker": {
          "color": "#EF553B",
          "size": [
           11
          ],
          "sizemode": "area",
          "sizeref": 8.3,
          "symbol": "circle"
         },
         "mode": "markers",
         "name": "Digital,Collectibles,Pixel Art",
         "orientation": "v",
         "showlegend": true,
         "type": "scatter",
         "x": [
          62
         ],
         "xaxis": "x",
         "y": [
          5
         ],
         "yaxis": "y"
        },
        {
         "customdata": [
          [
           69.7
          ]
         ],
         "hovertemplate": "Category=2D,Collectibles,Digital,Pixel Art<br>Sales=%{x}<br>Owners=%{y}<br>Assets=%{marker.size}<br>Owner_Asset_Ratio=%{customdata[0]}<extra></extra>",
         "legendgroup": "2D,Collectibles,Digital,Pixel Art",
         "marker": {
          "color": "#00cc96",
          "size": [
           33
          ],
          "sizemode": "area",
          "sizeref": 8.3,
          "symbol": "circle"
         },
         "mode": "markers",
         "name": "2D,Collectibles,Digital,Pixel Art",
         "orientation": "v",
         "showlegend": true,
         "type": "scatter",
         "x": [
          71
         ],
         "xaxis": "x",
         "y": [
          23
         ],
         "yaxis": "y"
        },
        {
         "customdata": [
          [
           70
          ]
         ],
         "hovertemplate": "Category=Collectibles,Digital,Metaverse<br>Sales=%{x}<br>Owners=%{y}<br>Assets=%{marker.size}<br>Owner_Asset_Ratio=%{customdata[0]}<extra></extra>",
         "legendgroup": "Collectibles,Digital,Metaverse",
         "marker": {
          "color": "#ab63fa",
          "size": [
           10
          ],
          "sizemode": "area",
          "sizeref": 8.3,
          "symbol": "circle"
         },
         "mode": "markers",
         "name": "Collectibles,Digital,Metaverse",
         "orientation": "v",
         "showlegend": true,
         "type": "scatter",
         "x": [
          23
         ],
         "xaxis": "x",
         "y": [
          7
         ],
         "yaxis": "y"
        },
        {
         "customdata": [
          [
           55.56
          ]
         ],
         "hovertemplate": "Category=Digital,Art,Collectibles,Image<br>Sales=%{x}<br>Owners=%{y}<br>Assets=%{marker.size}<br>Owner_Asset_Ratio=%{customdata[0]}<extra></extra>",
         "legendgroup": "Digital,Art,Collectibles,Image",
         "marker": {
          "color": "#FFA15A",
          "size": [
           63
          ],
          "sizemode": "area",
          "sizeref": 8.3,
          "symbol": "circle"
         },
         "mode": "markers",
         "name": "Digital,Art,Collectibles,Image",
         "orientation": "v",
         "showlegend": true,
         "type": "scatter",
         "x": [
          8
         ],
         "xaxis": "x",
         "y": [
          35
         ],
         "yaxis": "y"
        },
        {
         "customdata": [
          [
           4.76
          ]
         ],
         "hovertemplate": "Category=Digital,Art,Collectibles,Graphics,Picture,Design,2D,Drawing,PFP,Image<br>Sales=%{x}<br>Owners=%{y}<br>Assets=%{marker.size}<br>Owner_Asset_Ratio=%{customdata[0]}<extra></extra>",
         "legendgroup": "Digital,Art,Collectibles,Graphics,Picture,Design,2D,Drawing,PFP,Image",
         "marker": {
          "color": "#19d3f3",
          "size": [
           21
          ],
          "sizemode": "area",
          "sizeref": 8.3,
          "symbol": "circle"
         },
         "mode": "markers",
         "name": "Digital,Art,Collectibles,Graphics,Picture,Design,2D,Drawing,PFP,Image",
         "orientation": "v",
         "showlegend": true,
         "type": "scatter",
         "x": [
          12
         ],
         "xaxis": "x",
         "y": [
          1
         ],
         "yaxis": "y"
        },
        {
         "customdata": [
          [
           54.17
          ]
         ],
         "hovertemplate": "Category=Digital,Art,Picture,Image,Collectibles,Metaverse<br>Sales=%{x}<br>Owners=%{y}<br>Assets=%{marker.size}<br>Owner_Asset_Ratio=%{customdata[0]}<extra></extra>",
         "legendgroup": "Digital,Art,Picture,Image,Collectibles,Metaverse",
         "marker": {
          "color": "#FF6692",
          "size": [
           24
          ],
          "sizemode": "area",
          "sizeref": 8.3,
          "symbol": "circle"
         },
         "mode": "markers",
         "name": "Digital,Art,Picture,Image,Collectibles,Metaverse",
         "orientation": "v",
         "showlegend": true,
         "type": "scatter",
         "x": [
          16
         ],
         "xaxis": "x",
         "y": [
          13
         ],
         "yaxis": "y"
        },
        {
         "customdata": [
          [
           50
          ]
         ],
         "hovertemplate": "Category=Digital,3D,Collectibles,PFP,Music Theme<br>Sales=%{x}<br>Owners=%{y}<br>Assets=%{marker.size}<br>Owner_Asset_Ratio=%{customdata[0]}<extra></extra>",
         "legendgroup": "Digital,3D,Collectibles,PFP,Music Theme",
         "marker": {
          "color": "#B6E880",
          "size": [
           24
          ],
          "sizemode": "area",
          "sizeref": 8.3,
          "symbol": "circle"
         },
         "mode": "markers",
         "name": "Digital,3D,Collectibles,PFP,Music Theme",
         "orientation": "v",
         "showlegend": true,
         "type": "scatter",
         "x": [
          34
         ],
         "xaxis": "x",
         "y": [
          12
         ],
         "yaxis": "y"
        },
        {
         "customdata": [
          [
           83.61
          ]
         ],
         "hovertemplate": "Category=Digital,Collectibles,Metaverse<br>Sales=%{x}<br>Owners=%{y}<br>Assets=%{marker.size}<br>Owner_Asset_Ratio=%{customdata[0]}<extra></extra>",
         "legendgroup": "Digital,Collectibles,Metaverse",
         "marker": {
          "color": "#FF97FF",
          "size": [
           61
          ],
          "sizemode": "area",
          "sizeref": 8.3,
          "symbol": "circle"
         },
         "mode": "markers",
         "name": "Digital,Collectibles,Metaverse",
         "orientation": "v",
         "showlegend": true,
         "type": "scatter",
         "x": [
          20
         ],
         "xaxis": "x",
         "y": [
          51
         ],
         "yaxis": "y"
        },
        {
         "customdata": [
          [
           22.77
          ]
         ],
         "hovertemplate": "Category=Digital,Metaverse,Privilege,Collectibles,Art<br>Sales=%{x}<br>Owners=%{y}<br>Assets=%{marker.size}<br>Owner_Asset_Ratio=%{customdata[0]}<extra></extra>",
         "legendgroup": "Digital,Metaverse,Privilege,Collectibles,Art",
         "marker": {
          "color": "#FECB52",
          "size": [
           101
          ],
          "sizemode": "area",
          "sizeref": 8.3,
          "symbol": "circle"
         },
         "mode": "markers",
         "name": "Digital,Metaverse,Privilege,Collectibles,Art",
         "orientation": "v",
         "showlegend": true,
         "type": "scatter",
         "x": [
          67
         ],
         "xaxis": "x",
         "y": [
          23
         ],
         "yaxis": "y"
        },
        {
         "customdata": [
          [
           8.11
          ]
         ],
         "hovertemplate": "Category=2D,Art,Collectibles,PFP<br>Sales=%{x}<br>Owners=%{y}<br>Assets=%{marker.size}<br>Owner_Asset_Ratio=%{customdata[0]}<extra></extra>",
         "legendgroup": "2D,Art,Collectibles,PFP",
         "marker": {
          "color": "#636efa",
          "size": [
           296
          ],
          "sizemode": "area",
          "sizeref": 8.3,
          "symbol": "circle"
         },
         "mode": "markers",
         "name": "2D,Art,Collectibles,PFP",
         "orientation": "v",
         "showlegend": true,
         "type": "scatter",
         "x": [
          52
         ],
         "xaxis": "x",
         "y": [
          24
         ],
         "yaxis": "y"
        },
        {
         "customdata": [
          [
           40
          ]
         ],
         "hovertemplate": "Category=Art,Metaverse,Collectibles,Digital,PFP<br>Sales=%{x}<br>Owners=%{y}<br>Assets=%{marker.size}<br>Owner_Asset_Ratio=%{customdata[0]}<extra></extra>",
         "legendgroup": "Art,Metaverse,Collectibles,Digital,PFP",
         "marker": {
          "color": "#EF553B",
          "size": [
           5
          ],
          "sizemode": "area",
          "sizeref": 8.3,
          "symbol": "circle"
         },
         "mode": "markers",
         "name": "Art,Metaverse,Collectibles,Digital,PFP",
         "orientation": "v",
         "showlegend": true,
         "type": "scatter",
         "x": [
          12
         ],
         "xaxis": "x",
         "y": [
          2
         ],
         "yaxis": "y"
        },
        {
         "customdata": [
          [
           20
          ]
         ],
         "hovertemplate": "Category=Art,Design,2D,Collectibles<br>Sales=%{x}<br>Owners=%{y}<br>Assets=%{marker.size}<br>Owner_Asset_Ratio=%{customdata[0]}<extra></extra>",
         "legendgroup": "Art,Design,2D,Collectibles",
         "marker": {
          "color": "#00cc96",
          "size": [
           10
          ],
          "sizemode": "area",
          "sizeref": 8.3,
          "symbol": "circle"
         },
         "mode": "markers",
         "name": "Art,Design,2D,Collectibles",
         "orientation": "v",
         "showlegend": true,
         "type": "scatter",
         "x": [
          13
         ],
         "xaxis": "x",
         "y": [
          2
         ],
         "yaxis": "y"
        },
        {
         "customdata": [
          [
           54.17
          ]
         ],
         "hovertemplate": "Category=2D,Digital,Metaverse,Design<br>Sales=%{x}<br>Owners=%{y}<br>Assets=%{marker.size}<br>Owner_Asset_Ratio=%{customdata[0]}<extra></extra>",
         "legendgroup": "2D,Digital,Metaverse,Design",
         "marker": {
          "color": "#ab63fa",
          "size": [
           72
          ],
          "sizemode": "area",
          "sizeref": 8.3,
          "symbol": "circle"
         },
         "mode": "markers",
         "name": "2D,Digital,Metaverse,Design",
         "orientation": "v",
         "showlegend": true,
         "type": "scatter",
         "x": [
          48
         ],
         "xaxis": "x",
         "y": [
          39
         ],
         "yaxis": "y"
        },
        {
         "customdata": [
          [
           47.62
          ]
         ],
         "hovertemplate": "Category=Art,Digital,Collectibles,Graphics,2D,Street Art,Image,Picture<br>Sales=%{x}<br>Owners=%{y}<br>Assets=%{marker.size}<br>Owner_Asset_Ratio=%{customdata[0]}<extra></extra>",
         "legendgroup": "Art,Digital,Collectibles,Graphics,2D,Street Art,Image,Picture",
         "marker": {
          "color": "#FFA15A",
          "size": [
           21
          ],
          "sizemode": "area",
          "sizeref": 8.3,
          "symbol": "circle"
         },
         "mode": "markers",
         "name": "Art,Digital,Collectibles,Graphics,2D,Street Art,Image,Picture",
         "orientation": "v",
         "showlegend": true,
         "type": "scatter",
         "x": [
          13
         ],
         "xaxis": "x",
         "y": [
          10
         ],
         "yaxis": "y"
        },
        {
         "customdata": [
          [
           100
          ]
         ],
         "hovertemplate": "Category=Art,2D,Collectibles,Image<br>Sales=%{x}<br>Owners=%{y}<br>Assets=%{marker.size}<br>Owner_Asset_Ratio=%{customdata[0]}<extra></extra>",
         "legendgroup": "Art,2D,Collectibles,Image",
         "marker": {
          "color": "#19d3f3",
          "size": [
           1
          ],
          "sizemode": "area",
          "sizeref": 8.3,
          "symbol": "circle"
         },
         "mode": "markers",
         "name": "Art,2D,Collectibles,Image",
         "orientation": "v",
         "showlegend": true,
         "type": "scatter",
         "x": [
          16
         ],
         "xaxis": "x",
         "y": [
          1
         ],
         "yaxis": "y"
        },
        {
         "customdata": [
          [
           28.57
          ]
         ],
         "hovertemplate": "Category=Street Art,Metaverse,Art,Collectibles,Privilege,Digital<br>Sales=%{x}<br>Owners=%{y}<br>Assets=%{marker.size}<br>Owner_Asset_Ratio=%{customdata[0]}<extra></extra>",
         "legendgroup": "Street Art,Metaverse,Art,Collectibles,Privilege,Digital",
         "marker": {
          "color": "#FF6692",
          "size": [
           14
          ],
          "sizemode": "area",
          "sizeref": 8.3,
          "symbol": "circle"
         },
         "mode": "markers",
         "name": "Street Art,Metaverse,Art,Collectibles,Privilege,Digital",
         "orientation": "v",
         "showlegend": true,
         "type": "scatter",
         "x": [
          20
         ],
         "xaxis": "x",
         "y": [
          4
         ],
         "yaxis": "y"
        },
        {
         "customdata": [
          [
           28.13
          ]
         ],
         "hovertemplate": "Category=Digital,Art,Collectibles,Graphics,2D,Design,Image<br>Sales=%{x}<br>Owners=%{y}<br>Assets=%{marker.size}<br>Owner_Asset_Ratio=%{customdata[0]}<extra></extra>",
         "legendgroup": "Digital,Art,Collectibles,Graphics,2D,Design,Image",
         "marker": {
          "color": "#B6E880",
          "size": [
           64
          ],
          "sizemode": "area",
          "sizeref": 8.3,
          "symbol": "circle"
         },
         "mode": "markers",
         "name": "Digital,Art,Collectibles,Graphics,2D,Design,Image",
         "orientation": "v",
         "showlegend": true,
         "type": "scatter",
         "x": [
          57
         ],
         "xaxis": "x",
         "y": [
          18
         ],
         "yaxis": "y"
        },
        {
         "customdata": [
          [
           33.33
          ]
         ],
         "hovertemplate": "Category=Art,Collectibles,2D,3D,Painting,Street Art,Drawing,Design,Image,Picture<br>Sales=%{x}<br>Owners=%{y}<br>Assets=%{marker.size}<br>Owner_Asset_Ratio=%{customdata[0]}<extra></extra>",
         "legendgroup": "Art,Collectibles,2D,3D,Painting,Street Art,Drawing,Design,Image,Picture",
         "marker": {
          "color": "#FF97FF",
          "size": [
           6
          ],
          "sizemode": "area",
          "sizeref": 8.3,
          "symbol": "circle"
         },
         "mode": "markers",
         "name": "Art,Collectibles,2D,3D,Painting,Street Art,Drawing,Design,Image,Picture",
         "orientation": "v",
         "showlegend": true,
         "type": "scatter",
         "x": [
          4
         ],
         "xaxis": "x",
         "y": [
          2
         ],
         "yaxis": "y"
        },
        {
         "customdata": [
          [
           71.43
          ]
         ],
         "hovertemplate": "Category=Digital,Collectibles,3D,2D,Street Art,Drawing,Art,Metaverse,Image<br>Sales=%{x}<br>Owners=%{y}<br>Assets=%{marker.size}<br>Owner_Asset_Ratio=%{customdata[0]}<extra></extra>",
         "legendgroup": "Digital,Collectibles,3D,2D,Street Art,Drawing,Art,Metaverse,Image",
         "marker": {
          "color": "#FECB52",
          "size": [
           7
          ],
          "sizemode": "area",
          "sizeref": 8.3,
          "symbol": "circle"
         },
         "mode": "markers",
         "name": "Digital,Collectibles,3D,2D,Street Art,Drawing,Art,Metaverse,Image",
         "orientation": "v",
         "showlegend": true,
         "type": "scatter",
         "x": [
          3
         ],
         "xaxis": "x",
         "y": [
          5
         ],
         "yaxis": "y"
        },
        {
         "customdata": [
          [
           56
          ]
         ],
         "hovertemplate": "Category=Digital,Metaverse,PFP,Collectibles,Art<br>Sales=%{x}<br>Owners=%{y}<br>Assets=%{marker.size}<br>Owner_Asset_Ratio=%{customdata[0]}<extra></extra>",
         "legendgroup": "Digital,Metaverse,PFP,Collectibles,Art",
         "marker": {
          "color": "#636efa",
          "size": [
           75
          ],
          "sizemode": "area",
          "sizeref": 8.3,
          "symbol": "circle"
         },
         "mode": "markers",
         "name": "Digital,Metaverse,PFP,Collectibles,Art",
         "orientation": "v",
         "showlegend": true,
         "type": "scatter",
         "x": [
          13
         ],
         "xaxis": "x",
         "y": [
          42
         ],
         "yaxis": "y"
        },
        {
         "customdata": [
          [
           6.82
          ]
         ],
         "hovertemplate": "Category=Art,Collectibles,Digital,Metaverse,Image<br>Sales=%{x}<br>Owners=%{y}<br>Assets=%{marker.size}<br>Owner_Asset_Ratio=%{customdata[0]}<extra></extra>",
         "legendgroup": "Art,Collectibles,Digital,Metaverse,Image",
         "marker": {
          "color": "#EF553B",
          "size": [
           132
          ],
          "sizemode": "area",
          "sizeref": 8.3,
          "symbol": "circle"
         },
         "mode": "markers",
         "name": "Art,Collectibles,Digital,Metaverse,Image",
         "orientation": "v",
         "showlegend": true,
         "type": "scatter",
         "x": [
          8
         ],
         "xaxis": "x",
         "y": [
          9
         ],
         "yaxis": "y"
        },
        {
         "customdata": [
          [
           6.38
          ]
         ],
         "hovertemplate": "Category=Collectibles,Digital,Art<br>Sales=%{x}<br>Owners=%{y}<br>Assets=%{marker.size}<br>Owner_Asset_Ratio=%{customdata[0]}<extra></extra>",
         "legendgroup": "Collectibles,Digital,Art",
         "marker": {
          "color": "#00cc96",
          "size": [
           47
          ],
          "sizemode": "area",
          "sizeref": 8.3,
          "symbol": "circle"
         },
         "mode": "markers",
         "name": "Collectibles,Digital,Art",
         "orientation": "v",
         "showlegend": true,
         "type": "scatter",
         "x": [
          6
         ],
         "xaxis": "x",
         "y": [
          3
         ],
         "yaxis": "y"
        },
        {
         "customdata": [
          [
           15.63
          ]
         ],
         "hovertemplate": "Category=Art,Painting,Digital,Metaverse,Graphics,Drawing<br>Sales=%{x}<br>Owners=%{y}<br>Assets=%{marker.size}<br>Owner_Asset_Ratio=%{customdata[0]}<extra></extra>",
         "legendgroup": "Art,Painting,Digital,Metaverse,Graphics,Drawing",
         "marker": {
          "color": "#ab63fa",
          "size": [
           32
          ],
          "sizemode": "area",
          "sizeref": 8.3,
          "symbol": "circle"
         },
         "mode": "markers",
         "name": "Art,Painting,Digital,Metaverse,Graphics,Drawing",
         "orientation": "v",
         "showlegend": true,
         "type": "scatter",
         "x": [
          11
         ],
         "xaxis": "x",
         "y": [
          5
         ],
         "yaxis": "y"
        },
        {
         "customdata": [
          [
           58.82
          ]
         ],
         "hovertemplate": "Category=2D,Metaverse,Art,Digital,PFP,Collectibles<br>Sales=%{x}<br>Owners=%{y}<br>Assets=%{marker.size}<br>Owner_Asset_Ratio=%{customdata[0]}<extra></extra>",
         "legendgroup": "2D,Metaverse,Art,Digital,PFP,Collectibles",
         "marker": {
          "color": "#FFA15A",
          "size": [
           17
          ],
          "sizemode": "area",
          "sizeref": 8.3,
          "symbol": "circle"
         },
         "mode": "markers",
         "name": "2D,Metaverse,Art,Digital,PFP,Collectibles",
         "orientation": "v",
         "showlegend": true,
         "type": "scatter",
         "x": [
          14
         ],
         "xaxis": "x",
         "y": [
          10
         ],
         "yaxis": "y"
        },
        {
         "customdata": [
          [
           30
          ]
         ],
         "hovertemplate": "Category=Art,Design,Digital,Image,Graphics<br>Sales=%{x}<br>Owners=%{y}<br>Assets=%{marker.size}<br>Owner_Asset_Ratio=%{customdata[0]}<extra></extra>",
         "legendgroup": "Art,Design,Digital,Image,Graphics",
         "marker": {
          "color": "#19d3f3",
          "size": [
           40
          ],
          "sizemode": "area",
          "sizeref": 8.3,
          "symbol": "circle"
         },
         "mode": "markers",
         "name": "Art,Design,Digital,Image,Graphics",
         "orientation": "v",
         "showlegend": true,
         "type": "scatter",
         "x": [
          23
         ],
         "xaxis": "x",
         "y": [
          12
         ],
         "yaxis": "y"
        },
        {
         "customdata": [
          [
           40
          ]
         ],
         "hovertemplate": "Category=Art,Collectibles,Artifact,2D,Painting,Picture<br>Sales=%{x}<br>Owners=%{y}<br>Assets=%{marker.size}<br>Owner_Asset_Ratio=%{customdata[0]}<extra></extra>",
         "legendgroup": "Art,Collectibles,Artifact,2D,Painting,Picture",
         "marker": {
          "color": "#FF6692",
          "size": [
           5
          ],
          "sizemode": "area",
          "sizeref": 8.3,
          "symbol": "circle"
         },
         "mode": "markers",
         "name": "Art,Collectibles,Artifact,2D,Painting,Picture",
         "orientation": "v",
         "showlegend": true,
         "type": "scatter",
         "x": [
          14
         ],
         "xaxis": "x",
         "y": [
          2
         ],
         "yaxis": "y"
        },
        {
         "customdata": [
          [
           14.55
          ]
         ],
         "hovertemplate": "Category=Collectibles,Art,Digital,Graphics,Design,Picture<br>Sales=%{x}<br>Owners=%{y}<br>Assets=%{marker.size}<br>Owner_Asset_Ratio=%{customdata[0]}<extra></extra>",
         "legendgroup": "Collectibles,Art,Digital,Graphics,Design,Picture",
         "marker": {
          "color": "#B6E880",
          "size": [
           55
          ],
          "sizemode": "area",
          "sizeref": 8.3,
          "symbol": "circle"
         },
         "mode": "markers",
         "name": "Collectibles,Art,Digital,Graphics,Design,Picture",
         "orientation": "v",
         "showlegend": true,
         "type": "scatter",
         "x": [
          29
         ],
         "xaxis": "x",
         "y": [
          8
         ],
         "yaxis": "y"
        },
        {
         "customdata": [
          [
           26.53
          ]
         ],
         "hovertemplate": "Category=Digital,PFP,Image,Collectibles,2D<br>Sales=%{x}<br>Owners=%{y}<br>Assets=%{marker.size}<br>Owner_Asset_Ratio=%{customdata[0]}<extra></extra>",
         "legendgroup": "Digital,PFP,Image,Collectibles,2D",
         "marker": {
          "color": "#FF97FF",
          "size": [
           49
          ],
          "sizemode": "area",
          "sizeref": 8.3,
          "symbol": "circle"
         },
         "mode": "markers",
         "name": "Digital,PFP,Image,Collectibles,2D",
         "orientation": "v",
         "showlegend": true,
         "type": "scatter",
         "x": [
          52
         ],
         "xaxis": "x",
         "y": [
          13
         ],
         "yaxis": "y"
        },
        {
         "customdata": [
          [
           11.29
          ]
         ],
         "hovertemplate": "Category=Digital,Art,Collectibles,2D<br>Sales=%{x}<br>Owners=%{y}<br>Assets=%{marker.size}<br>Owner_Asset_Ratio=%{customdata[0]}<extra></extra>",
         "legendgroup": "Digital,Art,Collectibles,2D",
         "marker": {
          "color": "#FECB52",
          "size": [
           124
          ],
          "sizemode": "area",
          "sizeref": 8.3,
          "symbol": "circle"
         },
         "mode": "markers",
         "name": "Digital,Art,Collectibles,2D",
         "orientation": "v",
         "showlegend": true,
         "type": "scatter",
         "x": [
          82
         ],
         "xaxis": "x",
         "y": [
          14
         ],
         "yaxis": "y"
        },
        {
         "customdata": [
          [
           54.1
          ]
         ],
         "hovertemplate": "Category=Collectibles,Trading Cards,2D<br>Sales=%{x}<br>Owners=%{y}<br>Assets=%{marker.size}<br>Owner_Asset_Ratio=%{customdata[0]}<extra></extra>",
         "legendgroup": "Collectibles,Trading Cards,2D",
         "marker": {
          "color": "#636efa",
          "size": [
           61
          ],
          "sizemode": "area",
          "sizeref": 8.3,
          "symbol": "circle"
         },
         "mode": "markers",
         "name": "Collectibles,Trading Cards,2D",
         "orientation": "v",
         "showlegend": true,
         "type": "scatter",
         "x": [
          5
         ],
         "xaxis": "x",
         "y": [
          33
         ],
         "yaxis": "y"
        },
        {
         "customdata": [
          [
           51.61
          ]
         ],
         "hovertemplate": "Category=Digital,Art,Collectibles,2D,Graphics,Drawing<br>Sales=%{x}<br>Owners=%{y}<br>Assets=%{marker.size}<br>Owner_Asset_Ratio=%{customdata[0]}<extra></extra>",
         "legendgroup": "Digital,Art,Collectibles,2D,Graphics,Drawing",
         "marker": {
          "color": "#EF553B",
          "size": [
           62
          ],
          "sizemode": "area",
          "sizeref": 8.3,
          "symbol": "circle"
         },
         "mode": "markers",
         "name": "Digital,Art,Collectibles,2D,Graphics,Drawing",
         "orientation": "v",
         "showlegend": true,
         "type": "scatter",
         "x": [
          13
         ],
         "xaxis": "x",
         "y": [
          32
         ],
         "yaxis": "y"
        },
        {
         "customdata": [
          [
           41.03
          ]
         ],
         "hovertemplate": "Category=Digital,Graphics,Image,Drawing,PFP<br>Sales=%{x}<br>Owners=%{y}<br>Assets=%{marker.size}<br>Owner_Asset_Ratio=%{customdata[0]}<extra></extra>",
         "legendgroup": "Digital,Graphics,Image,Drawing,PFP",
         "marker": {
          "color": "#00cc96",
          "size": [
           39
          ],
          "sizemode": "area",
          "sizeref": 8.3,
          "symbol": "circle"
         },
         "mode": "markers",
         "name": "Digital,Graphics,Image,Drawing,PFP",
         "orientation": "v",
         "showlegend": true,
         "type": "scatter",
         "x": [
          20
         ],
         "xaxis": "x",
         "y": [
          16
         ],
         "yaxis": "y"
        },
        {
         "customdata": [
          [
           null
          ]
         ],
         "hovertemplate": "Category=Digital,Art,2D,Graphics,Painting,Drawing,Design<br>Sales=%{x}<br>Owners=%{y}<br>Assets=%{marker.size}<br>Owner_Asset_Ratio=%{customdata[0]}<extra></extra>",
         "legendgroup": "Digital,Art,2D,Graphics,Painting,Drawing,Design",
         "marker": {
          "color": "#ab63fa",
          "size": [
           0
          ],
          "sizemode": "area",
          "sizeref": 8.3,
          "symbol": "circle"
         },
         "mode": "markers",
         "name": "Digital,Art,2D,Graphics,Painting,Drawing,Design",
         "orientation": "v",
         "showlegend": true,
         "type": "scatter",
         "x": [
          4
         ],
         "xaxis": "x",
         "y": [
          0
         ],
         "yaxis": "y"
        },
        {
         "customdata": [
          [
           6.38
          ]
         ],
         "hovertemplate": "Category=Digital,Art,Painting,AI,Collectibles<br>Sales=%{x}<br>Owners=%{y}<br>Assets=%{marker.size}<br>Owner_Asset_Ratio=%{customdata[0]}<extra></extra>",
         "legendgroup": "Digital,Art,Painting,AI,Collectibles",
         "marker": {
          "color": "#FFA15A",
          "size": [
           47
          ],
          "sizemode": "area",
          "sizeref": 8.3,
          "symbol": "circle"
         },
         "mode": "markers",
         "name": "Digital,Art,Painting,AI,Collectibles",
         "orientation": "v",
         "showlegend": true,
         "type": "scatter",
         "x": [
          8
         ],
         "xaxis": "x",
         "y": [
          3
         ],
         "yaxis": "y"
        },
        {
         "customdata": [
          [
           3.77
          ]
         ],
         "hovertemplate": "Category=Art,Digital,Collectibles,Picture,Drawing<br>Sales=%{x}<br>Owners=%{y}<br>Assets=%{marker.size}<br>Owner_Asset_Ratio=%{customdata[0]}<extra></extra>",
         "legendgroup": "Art,Digital,Collectibles,Picture,Drawing",
         "marker": {
          "color": "#19d3f3",
          "size": [
           53
          ],
          "sizemode": "area",
          "sizeref": 8.3,
          "symbol": "circle"
         },
         "mode": "markers",
         "name": "Art,Digital,Collectibles,Picture,Drawing",
         "orientation": "v",
         "showlegend": true,
         "type": "scatter",
         "x": [
          1
         ],
         "xaxis": "x",
         "y": [
          2
         ],
         "yaxis": "y"
        },
        {
         "customdata": [
          [
           69.44
          ]
         ],
         "hovertemplate": "Category=2D,Video,Immaterial,Ticket,Metaverse,Image,Art,Collectibles<br>Sales=%{x}<br>Owners=%{y}<br>Assets=%{marker.size}<br>Owner_Asset_Ratio=%{customdata[0]}<extra></extra>",
         "legendgroup": "2D,Video,Immaterial,Ticket,Metaverse,Image,Art,Collectibles",
         "marker": {
          "color": "#FF6692",
          "size": [
           36
          ],
          "sizemode": "area",
          "sizeref": 8.3,
          "symbol": "circle"
         },
         "mode": "markers",
         "name": "2D,Video,Immaterial,Ticket,Metaverse,Image,Art,Collectibles",
         "orientation": "v",
         "showlegend": true,
         "type": "scatter",
         "x": [
          28
         ],
         "xaxis": "x",
         "y": [
          25
         ],
         "yaxis": "y"
        },
        {
         "customdata": [
          [
           68.85
          ]
         ],
         "hovertemplate": "Category=Digital,Metaverse,Art,Collectibles,2D<br>Sales=%{x}<br>Owners=%{y}<br>Assets=%{marker.size}<br>Owner_Asset_Ratio=%{customdata[0]}<extra></extra>",
         "legendgroup": "Digital,Metaverse,Art,Collectibles,2D",
         "marker": {
          "color": "#B6E880",
          "size": [
           61
          ],
          "sizemode": "area",
          "sizeref": 8.3,
          "symbol": "circle"
         },
         "mode": "markers",
         "name": "Digital,Metaverse,Art,Collectibles,2D",
         "orientation": "v",
         "showlegend": true,
         "type": "scatter",
         "x": [
          39
         ],
         "xaxis": "x",
         "y": [
          42
         ],
         "yaxis": "y"
        },
        {
         "customdata": [
          [
           54.55
          ]
         ],
         "hovertemplate": "Category=Art,Metaverse,Digital,2D,Image,Collectibles<br>Sales=%{x}<br>Owners=%{y}<br>Assets=%{marker.size}<br>Owner_Asset_Ratio=%{customdata[0]}<extra></extra>",
         "legendgroup": "Art,Metaverse,Digital,2D,Image,Collectibles",
         "marker": {
          "color": "#FF97FF",
          "size": [
           22
          ],
          "sizemode": "area",
          "sizeref": 8.3,
          "symbol": "circle"
         },
         "mode": "markers",
         "name": "Art,Metaverse,Digital,2D,Image,Collectibles",
         "orientation": "v",
         "showlegend": true,
         "type": "scatter",
         "x": [
          12
         ],
         "xaxis": "x",
         "y": [
          12
         ],
         "yaxis": "y"
        },
        {
         "customdata": [
          [
           2.44
          ]
         ],
         "hovertemplate": "Category=Art,Collectibles,Photography<br>Sales=%{x}<br>Owners=%{y}<br>Assets=%{marker.size}<br>Owner_Asset_Ratio=%{customdata[0]}<extra></extra>",
         "legendgroup": "Art,Collectibles,Photography",
         "marker": {
          "color": "#FECB52",
          "size": [
           41
          ],
          "sizemode": "area",
          "sizeref": 8.3,
          "symbol": "circle"
         },
         "mode": "markers",
         "name": "Art,Collectibles,Photography",
         "orientation": "v",
         "showlegend": true,
         "type": "scatter",
         "x": [
          9
         ],
         "xaxis": "x",
         "y": [
          1
         ],
         "yaxis": "y"
        },
        {
         "customdata": [
          [
           28.89
          ]
         ],
         "hovertemplate": "Category=PFP,Collectibles,2D,Art<br>Sales=%{x}<br>Owners=%{y}<br>Assets=%{marker.size}<br>Owner_Asset_Ratio=%{customdata[0]}<extra></extra>",
         "legendgroup": "PFP,Collectibles,2D,Art",
         "marker": {
          "color": "#636efa",
          "size": [
           45
          ],
          "sizemode": "area",
          "sizeref": 8.3,
          "symbol": "circle"
         },
         "mode": "markers",
         "name": "PFP,Collectibles,2D,Art",
         "orientation": "v",
         "showlegend": true,
         "type": "scatter",
         "x": [
          29
         ],
         "xaxis": "x",
         "y": [
          13
         ],
         "yaxis": "y"
        },
        {
         "customdata": [
          [
           83.33
          ]
         ],
         "hovertemplate": "Category=Art,Privilege,Metaverse<br>Sales=%{x}<br>Owners=%{y}<br>Assets=%{marker.size}<br>Owner_Asset_Ratio=%{customdata[0]}<extra></extra>",
         "legendgroup": "Art,Privilege,Metaverse",
         "marker": {
          "color": "#EF553B",
          "size": [
           6
          ],
          "sizemode": "area",
          "sizeref": 8.3,
          "symbol": "circle"
         },
         "mode": "markers",
         "name": "Art,Privilege,Metaverse",
         "orientation": "v",
         "showlegend": true,
         "type": "scatter",
         "x": [
          10
         ],
         "xaxis": "x",
         "y": [
          5
         ],
         "yaxis": "y"
        },
        {
         "customdata": [
          [
           83.33
          ]
         ],
         "hovertemplate": "Category=Ticket<br>Sales=%{x}<br>Owners=%{y}<br>Assets=%{marker.size}<br>Owner_Asset_Ratio=%{customdata[0]}<extra></extra>",
         "legendgroup": "Ticket",
         "marker": {
          "color": "#00cc96",
          "size": [
           12
          ],
          "sizemode": "area",
          "sizeref": 8.3,
          "symbol": "circle"
         },
         "mode": "markers",
         "name": "Ticket",
         "orientation": "v",
         "showlegend": true,
         "type": "scatter",
         "x": [
          18
         ],
         "xaxis": "x",
         "y": [
          10
         ],
         "yaxis": "y"
        },
        {
         "customdata": [
          [
           37.5
          ]
         ],
         "hovertemplate": "Category=Collectibles,Art,Digital,3D<br>Sales=%{x}<br>Owners=%{y}<br>Assets=%{marker.size}<br>Owner_Asset_Ratio=%{customdata[0]}<extra></extra>",
         "legendgroup": "Collectibles,Art,Digital,3D",
         "marker": {
          "color": "#ab63fa",
          "size": [
           32
          ],
          "sizemode": "area",
          "sizeref": 8.3,
          "symbol": "circle"
         },
         "mode": "markers",
         "name": "Collectibles,Art,Digital,3D",
         "orientation": "v",
         "showlegend": true,
         "type": "scatter",
         "x": [
          24
         ],
         "xaxis": "x",
         "y": [
          12
         ],
         "yaxis": "y"
        },
        {
         "customdata": [
          [
           48.74
          ]
         ],
         "hovertemplate": "Category=Digital,Art,2D,Collectibles<br>Sales=%{x}<br>Owners=%{y}<br>Assets=%{marker.size}<br>Owner_Asset_Ratio=%{customdata[0]}<extra></extra>",
         "legendgroup": "Digital,Art,2D,Collectibles",
         "marker": {
          "color": "#FFA15A",
          "size": [
           119
          ],
          "sizemode": "area",
          "sizeref": 8.3,
          "symbol": "circle"
         },
         "mode": "markers",
         "name": "Digital,Art,2D,Collectibles",
         "orientation": "v",
         "showlegend": true,
         "type": "scatter",
         "x": [
          15
         ],
         "xaxis": "x",
         "y": [
          58
         ],
         "yaxis": "y"
        },
        {
         "customdata": [
          [
           null
          ]
         ],
         "hovertemplate": "Category=Digital,Art,Design,Trading Cards,Collectibles,Physical<br>Sales=%{x}<br>Owners=%{y}<br>Assets=%{marker.size}<br>Owner_Asset_Ratio=%{customdata[0]}<extra></extra>",
         "legendgroup": "Digital,Art,Design,Trading Cards,Collectibles,Physical",
         "marker": {
          "color": "#19d3f3",
          "size": [
           0
          ],
          "sizemode": "area",
          "sizeref": 8.3,
          "symbol": "circle"
         },
         "mode": "markers",
         "name": "Digital,Art,Design,Trading Cards,Collectibles,Physical",
         "orientation": "v",
         "showlegend": true,
         "type": "scatter",
         "x": [
          1
         ],
         "xaxis": "x",
         "y": [
          0
         ],
         "yaxis": "y"
        },
        {
         "customdata": [
          [
           78.85
          ]
         ],
         "hovertemplate": "Category=Collectibles,Digital<br>Sales=%{x}<br>Owners=%{y}<br>Assets=%{marker.size}<br>Owner_Asset_Ratio=%{customdata[0]}<extra></extra>",
         "legendgroup": "Collectibles,Digital",
         "marker": {
          "color": "#FF6692",
          "size": [
           104
          ],
          "sizemode": "area",
          "sizeref": 8.3,
          "symbol": "circle"
         },
         "mode": "markers",
         "name": "Collectibles,Digital",
         "orientation": "v",
         "showlegend": true,
         "type": "scatter",
         "x": [
          13
         ],
         "xaxis": "x",
         "y": [
          82
         ],
         "yaxis": "y"
        },
        {
         "customdata": [
          [
           25
          ]
         ],
         "hovertemplate": "Category=Digital,Art,Collectibles,Graphics,2D,Drawing<br>Sales=%{x}<br>Owners=%{y}<br>Assets=%{marker.size}<br>Owner_Asset_Ratio=%{customdata[0]}<extra></extra>",
         "legendgroup": "Digital,Art,Collectibles,Graphics,2D,Drawing",
         "marker": {
          "color": "#B6E880",
          "size": [
           28
          ],
          "sizemode": "area",
          "sizeref": 8.3,
          "symbol": "circle"
         },
         "mode": "markers",
         "name": "Digital,Art,Collectibles,Graphics,2D,Drawing",
         "orientation": "v",
         "showlegend": true,
         "type": "scatter",
         "x": [
          15
         ],
         "xaxis": "x",
         "y": [
          7
         ],
         "yaxis": "y"
        },
        {
         "customdata": [
          [
           13.33
          ]
         ],
         "hovertemplate": "Category=Digital,Art,Image<br>Sales=%{x}<br>Owners=%{y}<br>Assets=%{marker.size}<br>Owner_Asset_Ratio=%{customdata[0]}<extra></extra>",
         "legendgroup": "Digital,Art,Image",
         "marker": {
          "color": "#FF97FF",
          "size": [
           15
          ],
          "sizemode": "area",
          "sizeref": 8.3,
          "symbol": "circle"
         },
         "mode": "markers",
         "name": "Digital,Art,Image",
         "orientation": "v",
         "showlegend": true,
         "type": "scatter",
         "x": [
          14
         ],
         "xaxis": "x",
         "y": [
          2
         ],
         "yaxis": "y"
        },
        {
         "customdata": [
          [
           58.06
          ]
         ],
         "hovertemplate": "Category=Metaverse,P2E,Art<br>Sales=%{x}<br>Owners=%{y}<br>Assets=%{marker.size}<br>Owner_Asset_Ratio=%{customdata[0]}<extra></extra>",
         "legendgroup": "Metaverse,P2E,Art",
         "marker": {
          "color": "#FECB52",
          "size": [
           31
          ],
          "sizemode": "area",
          "sizeref": 8.3,
          "symbol": "circle"
         },
         "mode": "markers",
         "name": "Metaverse,P2E,Art",
         "orientation": "v",
         "showlegend": true,
         "type": "scatter",
         "x": [
          13
         ],
         "xaxis": "x",
         "y": [
          18
         ],
         "yaxis": "y"
        },
        {
         "customdata": [
          [
           22.22
          ]
         ],
         "hovertemplate": "Category=Art,Collectibles,2D,PFP<br>Sales=%{x}<br>Owners=%{y}<br>Assets=%{marker.size}<br>Owner_Asset_Ratio=%{customdata[0]}<extra></extra>",
         "legendgroup": "Art,Collectibles,2D,PFP",
         "marker": {
          "color": "#636efa",
          "size": [
           63
          ],
          "sizemode": "area",
          "sizeref": 8.3,
          "symbol": "circle"
         },
         "mode": "markers",
         "name": "Art,Collectibles,2D,PFP",
         "orientation": "v",
         "showlegend": true,
         "type": "scatter",
         "x": [
          28
         ],
         "xaxis": "x",
         "y": [
          14
         ],
         "yaxis": "y"
        },
        {
         "customdata": [
          [
           33.33
          ]
         ],
         "hovertemplate": "Category=Art,Pixel Art,Digital,2D<br>Sales=%{x}<br>Owners=%{y}<br>Assets=%{marker.size}<br>Owner_Asset_Ratio=%{customdata[0]}<extra></extra>",
         "legendgroup": "Art,Pixel Art,Digital,2D",
         "marker": {
          "color": "#EF553B",
          "size": [
           12
          ],
          "sizemode": "area",
          "sizeref": 8.3,
          "symbol": "circle"
         },
         "mode": "markers",
         "name": "Art,Pixel Art,Digital,2D",
         "orientation": "v",
         "showlegend": true,
         "type": "scatter",
         "x": [
          15
         ],
         "xaxis": "x",
         "y": [
          4
         ],
         "yaxis": "y"
        },
        {
         "customdata": [
          [
           null
          ]
         ],
         "hovertemplate": "Category=Digital,Art,PFP,3D<br>Sales=%{x}<br>Owners=%{y}<br>Assets=%{marker.size}<br>Owner_Asset_Ratio=%{customdata[0]}<extra></extra>",
         "legendgroup": "Digital,Art,PFP,3D",
         "marker": {
          "color": "#00cc96",
          "size": [
           15
          ],
          "sizemode": "area",
          "sizeref": 8.3,
          "symbol": "circle"
         },
         "mode": "markers",
         "name": "Digital,Art,PFP,3D",
         "orientation": "v",
         "showlegend": true,
         "type": "scatter",
         "x": [
          4
         ],
         "xaxis": "x",
         "y": [
          16
         ],
         "yaxis": "y"
        },
        {
         "customdata": [
          [
           42.86
          ]
         ],
         "hovertemplate": "Category=Digital,Art,PFP,2D,Drawing,Image,Collectibles,Street Art<br>Sales=%{x}<br>Owners=%{y}<br>Assets=%{marker.size}<br>Owner_Asset_Ratio=%{customdata[0]}<extra></extra>",
         "legendgroup": "Digital,Art,PFP,2D,Drawing,Image,Collectibles,Street Art",
         "marker": {
          "color": "#ab63fa",
          "size": [
           14
          ],
          "sizemode": "area",
          "sizeref": 8.3,
          "symbol": "circle"
         },
         "mode": "markers",
         "name": "Digital,Art,PFP,2D,Drawing,Image,Collectibles,Street Art",
         "orientation": "v",
         "showlegend": true,
         "type": "scatter",
         "x": [
          14
         ],
         "xaxis": "x",
         "y": [
          6
         ],
         "yaxis": "y"
        },
        {
         "customdata": [
          [
           14.81
          ]
         ],
         "hovertemplate": "Category=Digital,Art,Collectibles,PFP<br>Sales=%{x}<br>Owners=%{y}<br>Assets=%{marker.size}<br>Owner_Asset_Ratio=%{customdata[0]}<extra></extra>",
         "legendgroup": "Digital,Art,Collectibles,PFP",
         "marker": {
          "color": "#FFA15A",
          "size": [
           81
          ],
          "sizemode": "area",
          "sizeref": 8.3,
          "symbol": "circle"
         },
         "mode": "markers",
         "name": "Digital,Art,Collectibles,PFP",
         "orientation": "v",
         "showlegend": true,
         "type": "scatter",
         "x": [
          87
         ],
         "xaxis": "x",
         "y": [
          12
         ],
         "yaxis": "y"
        },
        {
         "customdata": [
          [
           76.47
          ]
         ],
         "hovertemplate": "Category=Digital,3D,2D,Graphics,Metaverse<br>Sales=%{x}<br>Owners=%{y}<br>Assets=%{marker.size}<br>Owner_Asset_Ratio=%{customdata[0]}<extra></extra>",
         "legendgroup": "Digital,3D,2D,Graphics,Metaverse",
         "marker": {
          "color": "#19d3f3",
          "size": [
           17
          ],
          "sizemode": "area",
          "sizeref": 8.3,
          "symbol": "circle"
         },
         "mode": "markers",
         "name": "Digital,3D,2D,Graphics,Metaverse",
         "orientation": "v",
         "showlegend": true,
         "type": "scatter",
         "x": [
          11
         ],
         "xaxis": "x",
         "y": [
          13
         ],
         "yaxis": "y"
        },
        {
         "customdata": [
          [
           50
          ]
         ],
         "hovertemplate": "Category=Art,Collectibles,Painting,Print,Design,Image,Picture,AI,Digital,Graphics,Metaverse<br>Sales=%{x}<br>Owners=%{y}<br>Assets=%{marker.size}<br>Owner_Asset_Ratio=%{customdata[0]}<extra></extra>",
         "legendgroup": "Art,Collectibles,Painting,Print,Design,Image,Picture,AI,Digital,Graphics,Metaverse",
         "marker": {
          "color": "#FF6692",
          "size": [
           18
          ],
          "sizemode": "area",
          "sizeref": 8.3,
          "symbol": "circle"
         },
         "mode": "markers",
         "name": "Art,Collectibles,Painting,Print,Design,Image,Picture,AI,Digital,Graphics,Metaverse",
         "orientation": "v",
         "showlegend": true,
         "type": "scatter",
         "x": [
          5
         ],
         "xaxis": "x",
         "y": [
          9
         ],
         "yaxis": "y"
        },
        {
         "customdata": [
          [
           7.69
          ]
         ],
         "hovertemplate": "Category=Digital,Metaverse,Collectibles,Art,3D<br>Sales=%{x}<br>Owners=%{y}<br>Assets=%{marker.size}<br>Owner_Asset_Ratio=%{customdata[0]}<extra></extra>",
         "legendgroup": "Digital,Metaverse,Collectibles,Art,3D",
         "marker": {
          "color": "#B6E880",
          "size": [
           13
          ],
          "sizemode": "area",
          "sizeref": 8.3,
          "symbol": "circle"
         },
         "mode": "markers",
         "name": "Digital,Metaverse,Collectibles,Art,3D",
         "orientation": "v",
         "showlegend": true,
         "type": "scatter",
         "x": [
          1
         ],
         "xaxis": "x",
         "y": [
          1
         ],
         "yaxis": "y"
        },
        {
         "customdata": [
          [
           25
          ]
         ],
         "hovertemplate": "Category=Digital,Physical,Art,Painting<br>Sales=%{x}<br>Owners=%{y}<br>Assets=%{marker.size}<br>Owner_Asset_Ratio=%{customdata[0]}<extra></extra>",
         "legendgroup": "Digital,Physical,Art,Painting",
         "marker": {
          "color": "#FF97FF",
          "size": [
           24
          ],
          "sizemode": "area",
          "sizeref": 8.3,
          "symbol": "circle"
         },
         "mode": "markers",
         "name": "Digital,Physical,Art,Painting",
         "orientation": "v",
         "showlegend": true,
         "type": "scatter",
         "x": [
          1
         ],
         "xaxis": "x",
         "y": [
          6
         ],
         "yaxis": "y"
        },
        {
         "customdata": [
          [
           32.2
          ]
         ],
         "hovertemplate": "Category=Digital,Privilege,3D,Video,Collectibles<br>Sales=%{x}<br>Owners=%{y}<br>Assets=%{marker.size}<br>Owner_Asset_Ratio=%{customdata[0]}<extra></extra>",
         "legendgroup": "Digital,Privilege,3D,Video,Collectibles",
         "marker": {
          "color": "#FECB52",
          "size": [
           205
          ],
          "sizemode": "area",
          "sizeref": 8.3,
          "symbol": "circle"
         },
         "mode": "markers",
         "name": "Digital,Privilege,3D,Video,Collectibles",
         "orientation": "v",
         "showlegend": true,
         "type": "scatter",
         "x": [
          1
         ],
         "xaxis": "x",
         "y": [
          66
         ],
         "yaxis": "y"
        },
        {
         "customdata": [
          [
           null
          ]
         ],
         "hovertemplate": "Category=2D,Art,Digital,Collectibles,Drawing<br>Sales=%{x}<br>Owners=%{y}<br>Assets=%{marker.size}<br>Owner_Asset_Ratio=%{customdata[0]}<extra></extra>",
         "legendgroup": "2D,Art,Digital,Collectibles,Drawing",
         "marker": {
          "color": "#636efa",
          "size": [
           2
          ],
          "sizemode": "area",
          "sizeref": 8.3,
          "symbol": "circle"
         },
         "mode": "markers",
         "name": "2D,Art,Digital,Collectibles,Drawing",
         "orientation": "v",
         "showlegend": true,
         "type": "scatter",
         "x": [
          0
         ],
         "xaxis": "x",
         "y": [
          0
         ],
         "yaxis": "y"
        },
        {
         "customdata": [
          [
           67.86
          ]
         ],
         "hovertemplate": "Category=Art,PFP,2D<br>Sales=%{x}<br>Owners=%{y}<br>Assets=%{marker.size}<br>Owner_Asset_Ratio=%{customdata[0]}<extra></extra>",
         "legendgroup": "Art,PFP,2D",
         "marker": {
          "color": "#EF553B",
          "size": [
           56
          ],
          "sizemode": "area",
          "sizeref": 8.3,
          "symbol": "circle"
         },
         "mode": "markers",
         "name": "Art,PFP,2D",
         "orientation": "v",
         "showlegend": true,
         "type": "scatter",
         "x": [
          0
         ],
         "xaxis": "x",
         "y": [
          38
         ],
         "yaxis": "y"
        }
       ],
       "layout": {
        "legend": {
         "itemsizing": "constant",
         "title": {
          "text": "Category"
         },
         "tracegroupgap": 0
        },
        "margin": {
         "t": 60
        },
        "template": {
         "data": {
          "bar": [
           {
            "error_x": {
             "color": "#2a3f5f"
            },
            "error_y": {
             "color": "#2a3f5f"
            },
            "marker": {
             "line": {
              "color": "#E5ECF6",
              "width": 0.5
             },
             "pattern": {
              "fillmode": "overlay",
              "size": 10,
              "solidity": 0.2
             }
            },
            "type": "bar"
           }
          ],
          "barpolar": [
           {
            "marker": {
             "line": {
              "color": "#E5ECF6",
              "width": 0.5
             },
             "pattern": {
              "fillmode": "overlay",
              "size": 10,
              "solidity": 0.2
             }
            },
            "type": "barpolar"
           }
          ],
          "carpet": [
           {
            "aaxis": {
             "endlinecolor": "#2a3f5f",
             "gridcolor": "white",
             "linecolor": "white",
             "minorgridcolor": "white",
             "startlinecolor": "#2a3f5f"
            },
            "baxis": {
             "endlinecolor": "#2a3f5f",
             "gridcolor": "white",
             "linecolor": "white",
             "minorgridcolor": "white",
             "startlinecolor": "#2a3f5f"
            },
            "type": "carpet"
           }
          ],
          "choropleth": [
           {
            "colorbar": {
             "outlinewidth": 0,
             "ticks": ""
            },
            "type": "choropleth"
           }
          ],
          "contour": [
           {
            "colorbar": {
             "outlinewidth": 0,
             "ticks": ""
            },
            "colorscale": [
             [
              0,
              "#0d0887"
             ],
             [
              0.1111111111111111,
              "#46039f"
             ],
             [
              0.2222222222222222,
              "#7201a8"
             ],
             [
              0.3333333333333333,
              "#9c179e"
             ],
             [
              0.4444444444444444,
              "#bd3786"
             ],
             [
              0.5555555555555556,
              "#d8576b"
             ],
             [
              0.6666666666666666,
              "#ed7953"
             ],
             [
              0.7777777777777778,
              "#fb9f3a"
             ],
             [
              0.8888888888888888,
              "#fdca26"
             ],
             [
              1,
              "#f0f921"
             ]
            ],
            "type": "contour"
           }
          ],
          "contourcarpet": [
           {
            "colorbar": {
             "outlinewidth": 0,
             "ticks": ""
            },
            "type": "contourcarpet"
           }
          ],
          "heatmap": [
           {
            "colorbar": {
             "outlinewidth": 0,
             "ticks": ""
            },
            "colorscale": [
             [
              0,
              "#0d0887"
             ],
             [
              0.1111111111111111,
              "#46039f"
             ],
             [
              0.2222222222222222,
              "#7201a8"
             ],
             [
              0.3333333333333333,
              "#9c179e"
             ],
             [
              0.4444444444444444,
              "#bd3786"
             ],
             [
              0.5555555555555556,
              "#d8576b"
             ],
             [
              0.6666666666666666,
              "#ed7953"
             ],
             [
              0.7777777777777778,
              "#fb9f3a"
             ],
             [
              0.8888888888888888,
              "#fdca26"
             ],
             [
              1,
              "#f0f921"
             ]
            ],
            "type": "heatmap"
           }
          ],
          "heatmapgl": [
           {
            "colorbar": {
             "outlinewidth": 0,
             "ticks": ""
            },
            "colorscale": [
             [
              0,
              "#0d0887"
             ],
             [
              0.1111111111111111,
              "#46039f"
             ],
             [
              0.2222222222222222,
              "#7201a8"
             ],
             [
              0.3333333333333333,
              "#9c179e"
             ],
             [
              0.4444444444444444,
              "#bd3786"
             ],
             [
              0.5555555555555556,
              "#d8576b"
             ],
             [
              0.6666666666666666,
              "#ed7953"
             ],
             [
              0.7777777777777778,
              "#fb9f3a"
             ],
             [
              0.8888888888888888,
              "#fdca26"
             ],
             [
              1,
              "#f0f921"
             ]
            ],
            "type": "heatmapgl"
           }
          ],
          "histogram": [
           {
            "marker": {
             "pattern": {
              "fillmode": "overlay",
              "size": 10,
              "solidity": 0.2
             }
            },
            "type": "histogram"
           }
          ],
          "histogram2d": [
           {
            "colorbar": {
             "outlinewidth": 0,
             "ticks": ""
            },
            "colorscale": [
             [
              0,
              "#0d0887"
             ],
             [
              0.1111111111111111,
              "#46039f"
             ],
             [
              0.2222222222222222,
              "#7201a8"
             ],
             [
              0.3333333333333333,
              "#9c179e"
             ],
             [
              0.4444444444444444,
              "#bd3786"
             ],
             [
              0.5555555555555556,
              "#d8576b"
             ],
             [
              0.6666666666666666,
              "#ed7953"
             ],
             [
              0.7777777777777778,
              "#fb9f3a"
             ],
             [
              0.8888888888888888,
              "#fdca26"
             ],
             [
              1,
              "#f0f921"
             ]
            ],
            "type": "histogram2d"
           }
          ],
          "histogram2dcontour": [
           {
            "colorbar": {
             "outlinewidth": 0,
             "ticks": ""
            },
            "colorscale": [
             [
              0,
              "#0d0887"
             ],
             [
              0.1111111111111111,
              "#46039f"
             ],
             [
              0.2222222222222222,
              "#7201a8"
             ],
             [
              0.3333333333333333,
              "#9c179e"
             ],
             [
              0.4444444444444444,
              "#bd3786"
             ],
             [
              0.5555555555555556,
              "#d8576b"
             ],
             [
              0.6666666666666666,
              "#ed7953"
             ],
             [
              0.7777777777777778,
              "#fb9f3a"
             ],
             [
              0.8888888888888888,
              "#fdca26"
             ],
             [
              1,
              "#f0f921"
             ]
            ],
            "type": "histogram2dcontour"
           }
          ],
          "mesh3d": [
           {
            "colorbar": {
             "outlinewidth": 0,
             "ticks": ""
            },
            "type": "mesh3d"
           }
          ],
          "parcoords": [
           {
            "line": {
             "colorbar": {
              "outlinewidth": 0,
              "ticks": ""
             }
            },
            "type": "parcoords"
           }
          ],
          "pie": [
           {
            "automargin": true,
            "type": "pie"
           }
          ],
          "scatter": [
           {
            "marker": {
             "colorbar": {
              "outlinewidth": 0,
              "ticks": ""
             }
            },
            "type": "scatter"
           }
          ],
          "scatter3d": [
           {
            "line": {
             "colorbar": {
              "outlinewidth": 0,
              "ticks": ""
             }
            },
            "marker": {
             "colorbar": {
              "outlinewidth": 0,
              "ticks": ""
             }
            },
            "type": "scatter3d"
           }
          ],
          "scattercarpet": [
           {
            "marker": {
             "colorbar": {
              "outlinewidth": 0,
              "ticks": ""
             }
            },
            "type": "scattercarpet"
           }
          ],
          "scattergeo": [
           {
            "marker": {
             "colorbar": {
              "outlinewidth": 0,
              "ticks": ""
             }
            },
            "type": "scattergeo"
           }
          ],
          "scattergl": [
           {
            "marker": {
             "colorbar": {
              "outlinewidth": 0,
              "ticks": ""
             }
            },
            "type": "scattergl"
           }
          ],
          "scattermapbox": [
           {
            "marker": {
             "colorbar": {
              "outlinewidth": 0,
              "ticks": ""
             }
            },
            "type": "scattermapbox"
           }
          ],
          "scatterpolar": [
           {
            "marker": {
             "colorbar": {
              "outlinewidth": 0,
              "ticks": ""
             }
            },
            "type": "scatterpolar"
           }
          ],
          "scatterpolargl": [
           {
            "marker": {
             "colorbar": {
              "outlinewidth": 0,
              "ticks": ""
             }
            },
            "type": "scatterpolargl"
           }
          ],
          "scatterternary": [
           {
            "marker": {
             "colorbar": {
              "outlinewidth": 0,
              "ticks": ""
             }
            },
            "type": "scatterternary"
           }
          ],
          "surface": [
           {
            "colorbar": {
             "outlinewidth": 0,
             "ticks": ""
            },
            "colorscale": [
             [
              0,
              "#0d0887"
             ],
             [
              0.1111111111111111,
              "#46039f"
             ],
             [
              0.2222222222222222,
              "#7201a8"
             ],
             [
              0.3333333333333333,
              "#9c179e"
             ],
             [
              0.4444444444444444,
              "#bd3786"
             ],
             [
              0.5555555555555556,
              "#d8576b"
             ],
             [
              0.6666666666666666,
              "#ed7953"
             ],
             [
              0.7777777777777778,
              "#fb9f3a"
             ],
             [
              0.8888888888888888,
              "#fdca26"
             ],
             [
              1,
              "#f0f921"
             ]
            ],
            "type": "surface"
           }
          ],
          "table": [
           {
            "cells": {
             "fill": {
              "color": "#EBF0F8"
             },
             "line": {
              "color": "white"
             }
            },
            "header": {
             "fill": {
              "color": "#C8D4E3"
             },
             "line": {
              "color": "white"
             }
            },
            "type": "table"
           }
          ]
         },
         "layout": {
          "annotationdefaults": {
           "arrowcolor": "#2a3f5f",
           "arrowhead": 0,
           "arrowwidth": 1
          },
          "autotypenumbers": "strict",
          "coloraxis": {
           "colorbar": {
            "outlinewidth": 0,
            "ticks": ""
           }
          },
          "colorscale": {
           "diverging": [
            [
             0,
             "#8e0152"
            ],
            [
             0.1,
             "#c51b7d"
            ],
            [
             0.2,
             "#de77ae"
            ],
            [
             0.3,
             "#f1b6da"
            ],
            [
             0.4,
             "#fde0ef"
            ],
            [
             0.5,
             "#f7f7f7"
            ],
            [
             0.6,
             "#e6f5d0"
            ],
            [
             0.7,
             "#b8e186"
            ],
            [
             0.8,
             "#7fbc41"
            ],
            [
             0.9,
             "#4d9221"
            ],
            [
             1,
             "#276419"
            ]
           ],
           "sequential": [
            [
             0,
             "#0d0887"
            ],
            [
             0.1111111111111111,
             "#46039f"
            ],
            [
             0.2222222222222222,
             "#7201a8"
            ],
            [
             0.3333333333333333,
             "#9c179e"
            ],
            [
             0.4444444444444444,
             "#bd3786"
            ],
            [
             0.5555555555555556,
             "#d8576b"
            ],
            [
             0.6666666666666666,
             "#ed7953"
            ],
            [
             0.7777777777777778,
             "#fb9f3a"
            ],
            [
             0.8888888888888888,
             "#fdca26"
            ],
            [
             1,
             "#f0f921"
            ]
           ],
           "sequentialminus": [
            [
             0,
             "#0d0887"
            ],
            [
             0.1111111111111111,
             "#46039f"
            ],
            [
             0.2222222222222222,
             "#7201a8"
            ],
            [
             0.3333333333333333,
             "#9c179e"
            ],
            [
             0.4444444444444444,
             "#bd3786"
            ],
            [
             0.5555555555555556,
             "#d8576b"
            ],
            [
             0.6666666666666666,
             "#ed7953"
            ],
            [
             0.7777777777777778,
             "#fb9f3a"
            ],
            [
             0.8888888888888888,
             "#fdca26"
            ],
            [
             1,
             "#f0f921"
            ]
           ]
          },
          "colorway": [
           "#636efa",
           "#EF553B",
           "#00cc96",
           "#ab63fa",
           "#FFA15A",
           "#19d3f3",
           "#FF6692",
           "#B6E880",
           "#FF97FF",
           "#FECB52"
          ],
          "font": {
           "color": "#2a3f5f"
          },
          "geo": {
           "bgcolor": "white",
           "lakecolor": "white",
           "landcolor": "#E5ECF6",
           "showlakes": true,
           "showland": true,
           "subunitcolor": "white"
          },
          "hoverlabel": {
           "align": "left"
          },
          "hovermode": "closest",
          "mapbox": {
           "style": "light"
          },
          "paper_bgcolor": "white",
          "plot_bgcolor": "#E5ECF6",
          "polar": {
           "angularaxis": {
            "gridcolor": "white",
            "linecolor": "white",
            "ticks": ""
           },
           "bgcolor": "#E5ECF6",
           "radialaxis": {
            "gridcolor": "white",
            "linecolor": "white",
            "ticks": ""
           }
          },
          "scene": {
           "xaxis": {
            "backgroundcolor": "#E5ECF6",
            "gridcolor": "white",
            "gridwidth": 2,
            "linecolor": "white",
            "showbackground": true,
            "ticks": "",
            "zerolinecolor": "white"
           },
           "yaxis": {
            "backgroundcolor": "#E5ECF6",
            "gridcolor": "white",
            "gridwidth": 2,
            "linecolor": "white",
            "showbackground": true,
            "ticks": "",
            "zerolinecolor": "white"
           },
           "zaxis": {
            "backgroundcolor": "#E5ECF6",
            "gridcolor": "white",
            "gridwidth": 2,
            "linecolor": "white",
            "showbackground": true,
            "ticks": "",
            "zerolinecolor": "white"
           }
          },
          "shapedefaults": {
           "line": {
            "color": "#2a3f5f"
           }
          },
          "ternary": {
           "aaxis": {
            "gridcolor": "white",
            "linecolor": "white",
            "ticks": ""
           },
           "baxis": {
            "gridcolor": "white",
            "linecolor": "white",
            "ticks": ""
           },
           "bgcolor": "#E5ECF6",
           "caxis": {
            "gridcolor": "white",
            "linecolor": "white",
            "ticks": ""
           }
          },
          "title": {
           "x": 0.05
          },
          "xaxis": {
           "automargin": true,
           "gridcolor": "white",
           "linecolor": "white",
           "ticks": "",
           "title": {
            "standoff": 15
           },
           "zerolinecolor": "white",
           "zerolinewidth": 2
          },
          "yaxis": {
           "automargin": true,
           "gridcolor": "white",
           "linecolor": "white",
           "ticks": "",
           "title": {
            "standoff": 15
           },
           "zerolinecolor": "white",
           "zerolinewidth": 2
          }
         }
        },
        "xaxis": {
         "anchor": "y",
         "domain": [
          0,
          1
         ],
         "title": {
          "text": "Sales"
         }
        },
        "yaxis": {
         "anchor": "x",
         "domain": [
          0,
          1
         ],
         "title": {
          "text": "Owners"
         }
        }
       }
      },
      "text/html": [
       "<div>                            <div id=\"5d8fa0e4-ba96-44cd-81a4-bb1ad6333cd3\" class=\"plotly-graph-div\" style=\"height:525px; width:100%;\"></div>            <script type=\"text/javascript\">                require([\"plotly\"], function(Plotly) {                    window.PLOTLYENV=window.PLOTLYENV || {};                                    if (document.getElementById(\"5d8fa0e4-ba96-44cd-81a4-bb1ad6333cd3\")) {                    Plotly.newPlot(                        \"5d8fa0e4-ba96-44cd-81a4-bb1ad6333cd3\",                        [{\"customdata\":[[75.0]],\"hovertemplate\":\"Category=Collectibles,Digital,Privilege<br>Sales=%{x}<br>Owners=%{y}<br>Assets=%{marker.size}<br>Owner_Asset_Ratio=%{customdata[0]}<extra></extra>\",\"legendgroup\":\"Collectibles,Digital,Privilege\",\"marker\":{\"color\":\"#636efa\",\"size\":[16],\"sizemode\":\"area\",\"sizeref\":8.3,\"symbol\":\"circle\"},\"mode\":\"markers\",\"name\":\"Collectibles,Digital,Privilege\",\"orientation\":\"v\",\"showlegend\":true,\"x\":[366],\"xaxis\":\"x\",\"y\":[12],\"yaxis\":\"y\",\"type\":\"scatter\"},{\"customdata\":[[78.03],[55.25],[82.61],[56.0],[46.12],[72.27],[69.43],[48.76],[83.33],[70.29],[31.32],[68.02],[93.33],[100.0],[69.53],[71.32],[74.51],[null],[null],[64.15],[77.66],[null],[33.02],[null],[null],[56.11],[41.61],[14.07],[89.47],[100.0],[61.9],[100.0],[46.71],[70.37],[57.78],[100.0],[100.0],[75.0],[60.0],[78.26],[74.36],[67.69],[23.08],[93.33],[65.41],[null],[59.6],[33.33],[66.55],[null],[81.82],[43.8],[52.34],[55.0],[100.0],[47.62],[null],[100.0],[null],[69.92],[100.0],[5.05],[39.15],[64.29],[null],[50.0],[68.57],[58.93],[37.5],[82.76],[51.61],[null],[48.72],[56.67],[55.16],[56.25],[11.89],[60.0],[72.97],[81.58],[null],[null],[84.62],[75.32],[58.73],[null],[56.1],[83.02],[null],[41.67],[77.78],[88.89],[null],[null],[56.15],[null],[2.86],[50.96],[73.63],[67.57],[62.5],[87.88],[100.0],[100.0],[43.96],[69.23],[47.76],[72.73],[100.0],[null],[67.03],[61.33],[100.0],[16.45],[null],[52.94],[100.0],[48.55],[null],[100.0],[100.0],[66.39],[100.0],[51.96],[30.56],[63.41],[53.13],[0.76],[47.95],[70.0],[72.77],[62.69],[100.0],[74.47],[46.67],[93.75],[71.43],[100.0],[54.41],[86.67],[79.41],[52.63],[60.0],[null],[27.78],[65.91],[77.78],[76.92],[42.14],[66.67],[null],[85.71],[100.0],[90.91],[63.16],[17.54],[71.43],[null],[100.0],[null],[20.27],[56.0],[80.0],[67.96],[null],[65.38],[55.0],[54.84],[100.0],[null],[25.0],[69.23],[20.83],[87.5],[null],[51.85],[2.78],[46.51],[76.47],[null],[69.62],[87.5],[20.83],[56.03],[100.0],[100.0],[null],[1.53],[63.46],[66.67],[44.54],[25.0],[100.0],[100.0],[100.0],[100.0],[100.0],[86.67],[80.0],[94.12],[66.67],[75.76],[40.0],[66.52],[87.5],[55.57],[58.59],[84.62],[100.0],[63.64],[37.5],[64.71],[80.0],[null],[77.14],[100.0],[65.36],[85.71],[null],[3.13],[100.0],[null],[53.85],[81.25],[23.33],[50.85],[45.81],[100.0],[76.74],[83.33],[8.33],[4.17],[12.5],[51.25],[50.0],[2.44],[12.9],[4.58],[68.09],[83.33],[61.11],[50.0],[52.46],[92.59],[31.58],[67.19],[27.27],[11.11],[1.4],[66.67],[100.0],[80.0],[66.67],[3.57],[26.32],[70.0],[35.05],[100.0],[75.0],[57.14],[60.0],[75.86],[null],[46.21],[72.41],[93.33],[100.0],[57.38],[59.67],[93.33],[75.0],[78.95],[61.54],[58.82],[61.54],[null],[null],[0.26],[40.0],[50.0],[100.0],[69.57]],\"hovertemplate\":\"Category=Unknown<br>Sales=%{x}<br>Owners=%{y}<br>Assets=%{marker.size}<br>Owner_Asset_Ratio=%{customdata[0]}<extra></extra>\",\"legendgroup\":\"Unknown\",\"marker\":{\"color\":\"#EF553B\",\"size\":[132,1638,23,50,529,1309,916,847,6,175,1239,419,15,29,128,272,51,0,1,212,94,0,427,0,0,319,793,803,38,8,63,15,865,162,585,3,4,4,270,92,78,65,26,30,133,0,354,3,284,0,44,1491,598,80,3,63,0,1,0,133,14,1148,212,112,0,4,35,112,24,29,93,0,39,60,223,16,185,5,74,38,0,7,13,77,189,0,123,53,0,24,108,27,0,0,130,0,35,157,91,37,8,33,1,5,207,13,67,44,1,0,182,150,6,152,0,17,6,276,0,8,2,122,6,331,517,41,32,262,73,10,202,67,3,47,45,16,28,1,204,60,34,114,30,0,18,44,9,13,318,33,0,7,14,11,57,57,14,0,1,0,74,75,10,103,13,26,60,31,1,0,68,39,72,8,0,54,504,258,17,0,79,8,24,423,4,1,0,262,52,3,934,12,1,8,1,3,5,15,5,17,54,33,5,230,32,1096,128,13,4,11,32,68,5,0,35,1,941,7,0,96,2,0,13,64,30,59,155,1,43,12,24,24,16,80,4,41,31,240,47,12,18,2,61,27,19,64,33,9,214,15,1,5,3,28,19,10,97,2,32,7,10,29,0,264,29,15,1,61,719,15,4,38,39,34,13,41,0,392,5,2,4,23],\"sizemode\":\"area\",\"sizeref\":8.3,\"symbol\":\"circle\"},\"mode\":\"markers\",\"name\":\"Unknown\",\"orientation\":\"v\",\"showlegend\":true,\"x\":[2075,1504,395,729,1418,5229,1489,2906,597,1162,1264,1195,126,424,507,435,474,2,139,507,586,53,307,96,99,780,464,774,102,89,382,52,897,150,1134,208,111,361,181,158,109,101,138,53,91,92,408,243,369,107,67,1477,523,97,4,244,65,3,64,629,205,156,831,243,4,19,25,302,14,59,106,89,157,58,930,47,115,36,45,40,37,9,21,244,586,18,707,106,62,38,175,38,27,8,137,16,10,65,120,94,18,42,18,27,91,92,78,60,13,25,54,111,80,47,2,64,8,400,48,30,37,125,64,605,800,36,30,18,56,5,255,35,17,63,92,19,30,7,185,24,31,33,18,3,14,15,20,26,453,71,7,48,5,8,39,36,51,39,78,5,106,36,4,53,10,15,19,10,10,10,72,62,36,15,17,29,60,236,8,10,48,28,30,382,9,11,7,20,35,10,548,2,11,3,13,2,21,16,6,9,177,23,8,101,13,426,166,9,4,5,17,37,13,3,19,6,250,1,1,7,3,9,10,43,20,22,47,7,12,34,6,6,8,47,10,5,27,38,26,7,18,7,44,4,9,32,13,1,13,4,6,3,2,12,15,26,50,18,37,2,18,4,3,22,29,7,8,16,33,4,2,3,21,12,1,0,0,0,0,0,0,0],\"xaxis\":\"x\",\"y\":[103,905,19,28,244,946,636,413,5,123,388,285,14,29,89,194,38,0,0,136,73,0,141,0,0,179,330,113,34,8,39,15,404,114,338,3,4,3,162,72,58,44,6,28,87,0,211,1,189,0,36,653,313,44,3,30,0,1,0,93,14,58,83,72,0,2,24,66,9,24,48,0,19,34,123,9,22,3,54,31,0,0,11,58,111,0,69,44,0,10,84,24,0,0,73,0,1,80,67,25,5,29,1,5,91,9,32,32,1,0,122,92,6,25,0,9,6,134,0,8,2,81,6,172,158,26,17,2,35,7,147,42,3,35,21,15,20,1,111,52,27,60,18,0,5,29,7,10,134,22,0,6,14,10,36,10,10,0,1,0,15,42,8,70,20,17,33,17,1,0,17,27,15,7,0,28,14,120,13,0,55,7,5,237,4,1,0,4,33,2,416,3,1,8,1,3,5,13,4,16,36,25,2,153,28,609,75,11,4,7,12,44,4,0,27,1,615,6,0,3,2,0,7,52,7,30,71,1,33,10,2,1,2,41,2,1,4,11,32,10,11,1,32,25,6,43,9,1,3,10,1,4,2,1,5,7,34,2,24,4,6,22,0,122,21,14,1,35,429,14,3,30,24,20,8,0,0,1,2,1,4,16],\"yaxis\":\"y\",\"type\":\"scatter\"},{\"customdata\":[[49.67]],\"hovertemplate\":\"Category=Art,Collectibles,Graphics,2D,Image<br>Sales=%{x}<br>Owners=%{y}<br>Assets=%{marker.size}<br>Owner_Asset_Ratio=%{customdata[0]}<extra></extra>\",\"legendgroup\":\"Art,Collectibles,Graphics,2D,Image\",\"marker\":{\"color\":\"#00cc96\",\"size\":[1206],\"sizemode\":\"area\",\"sizeref\":8.3,\"symbol\":\"circle\"},\"mode\":\"markers\",\"name\":\"Art,Collectibles,Graphics,2D,Image\",\"orientation\":\"v\",\"showlegend\":true,\"x\":[1411],\"xaxis\":\"x\",\"y\":[599],\"yaxis\":\"y\",\"type\":\"scatter\"},{\"customdata\":[[58.48]],\"hovertemplate\":\"Category=3D,PFP,Metaverse,Art,Collectibles<br>Sales=%{x}<br>Owners=%{y}<br>Assets=%{marker.size}<br>Owner_Asset_Ratio=%{customdata[0]}<extra></extra>\",\"legendgroup\":\"3D,PFP,Metaverse,Art,Collectibles\",\"marker\":{\"color\":\"#ab63fa\",\"size\":[643],\"sizemode\":\"area\",\"sizeref\":8.3,\"symbol\":\"circle\"},\"mode\":\"markers\",\"name\":\"3D,PFP,Metaverse,Art,Collectibles\",\"orientation\":\"v\",\"showlegend\":true,\"x\":[1156],\"xaxis\":\"x\",\"y\":[376],\"yaxis\":\"y\",\"type\":\"scatter\"},{\"customdata\":[[62.15]],\"hovertemplate\":\"Category=Digital,Metaverse,Art,Picture,Image<br>Sales=%{x}<br>Owners=%{y}<br>Assets=%{marker.size}<br>Owner_Asset_Ratio=%{customdata[0]}<extra></extra>\",\"legendgroup\":\"Digital,Metaverse,Art,Picture,Image\",\"marker\":{\"color\":\"#FFA15A\",\"size\":[391],\"sizemode\":\"area\",\"sizeref\":8.3,\"symbol\":\"circle\"},\"mode\":\"markers\",\"name\":\"Digital,Metaverse,Art,Picture,Image\",\"orientation\":\"v\",\"showlegend\":true,\"x\":[412],\"xaxis\":\"x\",\"y\":[243],\"yaxis\":\"y\",\"type\":\"scatter\"},{\"customdata\":[[77.95]],\"hovertemplate\":\"Category=Art,Digital,PFP,3D<br>Sales=%{x}<br>Owners=%{y}<br>Assets=%{marker.size}<br>Owner_Asset_Ratio=%{customdata[0]}<extra></extra>\",\"legendgroup\":\"Art,Digital,PFP,3D\",\"marker\":{\"color\":\"#19d3f3\",\"size\":[127],\"sizemode\":\"area\",\"sizeref\":8.3,\"symbol\":\"circle\"},\"mode\":\"markers\",\"name\":\"Art,Digital,PFP,3D\",\"orientation\":\"v\",\"showlegend\":true,\"x\":[370],\"xaxis\":\"x\",\"y\":[99],\"yaxis\":\"y\",\"type\":\"scatter\"},{\"customdata\":[[92.31]],\"hovertemplate\":\"Category=Digital,Art,Metaverse,Collectibles,PFP,3D<br>Sales=%{x}<br>Owners=%{y}<br>Assets=%{marker.size}<br>Owner_Asset_Ratio=%{customdata[0]}<extra></extra>\",\"legendgroup\":\"Digital,Art,Metaverse,Collectibles,PFP,3D\",\"marker\":{\"color\":\"#FF6692\",\"size\":[13],\"sizemode\":\"area\",\"sizeref\":8.3,\"symbol\":\"circle\"},\"mode\":\"markers\",\"name\":\"Digital,Art,Metaverse,Collectibles,PFP,3D\",\"orientation\":\"v\",\"showlegend\":true,\"x\":[60],\"xaxis\":\"x\",\"y\":[12],\"yaxis\":\"y\",\"type\":\"scatter\"},{\"customdata\":[[56.84]],\"hovertemplate\":\"Category=Art,Music,Collectibles<br>Sales=%{x}<br>Owners=%{y}<br>Assets=%{marker.size}<br>Owner_Asset_Ratio=%{customdata[0]}<extra></extra>\",\"legendgroup\":\"Art,Music,Collectibles\",\"marker\":{\"color\":\"#B6E880\",\"size\":[1242],\"sizemode\":\"area\",\"sizeref\":8.3,\"symbol\":\"circle\"},\"mode\":\"markers\",\"name\":\"Art,Music,Collectibles\",\"orientation\":\"v\",\"showlegend\":true,\"x\":[4596],\"xaxis\":\"x\",\"y\":[706],\"yaxis\":\"y\",\"type\":\"scatter\"},{\"customdata\":[[70.49]],\"hovertemplate\":\"Category=Privilege<br>Sales=%{x}<br>Owners=%{y}<br>Assets=%{marker.size}<br>Owner_Asset_Ratio=%{customdata[0]}<extra></extra>\",\"legendgroup\":\"Privilege\",\"marker\":{\"color\":\"#FF97FF\",\"size\":[122],\"sizemode\":\"area\",\"sizeref\":8.3,\"symbol\":\"circle\"},\"mode\":\"markers\",\"name\":\"Privilege\",\"orientation\":\"v\",\"showlegend\":true,\"x\":[1009],\"xaxis\":\"x\",\"y\":[86],\"yaxis\":\"y\",\"type\":\"scatter\"},{\"customdata\":[[61.48],[64.44],[82.35],[33.33],[24.3],[64.29],[71.19],[15.0],[15.71]],\"hovertemplate\":\"Category=Collectibles<br>Sales=%{x}<br>Owners=%{y}<br>Assets=%{marker.size}<br>Owner_Asset_Ratio=%{customdata[0]}<extra></extra>\",\"legendgroup\":\"Collectibles\",\"marker\":{\"color\":\"#FECB52\",\"size\":[3320,45,17,78,856,28,59,20,70],\"sizemode\":\"area\",\"sizeref\":8.3,\"symbol\":\"circle\"},\"mode\":\"markers\",\"name\":\"Collectibles\",\"orientation\":\"v\",\"showlegend\":true,\"x\":[4980,421,57,43,369,44,11,2,47],\"xaxis\":\"x\",\"y\":[2041,29,14,26,208,18,42,3,11],\"yaxis\":\"y\",\"type\":\"scatter\"},{\"customdata\":[[60.34],[87.5],[60.0]],\"hovertemplate\":\"Category=Digital,Art<br>Sales=%{x}<br>Owners=%{y}<br>Assets=%{marker.size}<br>Owner_Asset_Ratio=%{customdata[0]}<extra></extra>\",\"legendgroup\":\"Digital,Art\",\"marker\":{\"color\":\"#636efa\",\"size\":[58,32,5],\"sizemode\":\"area\",\"sizeref\":8.3,\"symbol\":\"circle\"},\"mode\":\"markers\",\"name\":\"Digital,Art\",\"orientation\":\"v\",\"showlegend\":true,\"x\":[315,58,1],\"xaxis\":\"x\",\"y\":[35,28,3],\"yaxis\":\"y\",\"type\":\"scatter\"},{\"customdata\":[[67.41]],\"hovertemplate\":\"Category=AI,Pixel Art,Metaverse,Trading Cards<br>Sales=%{x}<br>Owners=%{y}<br>Assets=%{marker.size}<br>Owner_Asset_Ratio=%{customdata[0]}<extra></extra>\",\"legendgroup\":\"AI,Pixel Art,Metaverse,Trading Cards\",\"marker\":{\"color\":\"#EF553B\",\"size\":[451],\"sizemode\":\"area\",\"sizeref\":8.3,\"symbol\":\"circle\"},\"mode\":\"markers\",\"name\":\"AI,Pixel Art,Metaverse,Trading Cards\",\"orientation\":\"v\",\"showlegend\":true,\"x\":[411],\"xaxis\":\"x\",\"y\":[304],\"yaxis\":\"y\",\"type\":\"scatter\"},{\"customdata\":[[64.29]],\"hovertemplate\":\"Category=Metaverse,Collectibles,PFP,3D,Design<br>Sales=%{x}<br>Owners=%{y}<br>Assets=%{marker.size}<br>Owner_Asset_Ratio=%{customdata[0]}<extra></extra>\",\"legendgroup\":\"Metaverse,Collectibles,PFP,3D,Design\",\"marker\":{\"color\":\"#00cc96\",\"size\":[28],\"sizemode\":\"area\",\"sizeref\":8.3,\"symbol\":\"circle\"},\"mode\":\"markers\",\"name\":\"Metaverse,Collectibles,PFP,3D,Design\",\"orientation\":\"v\",\"showlegend\":true,\"x\":[200],\"xaxis\":\"x\",\"y\":[18],\"yaxis\":\"y\",\"type\":\"scatter\"},{\"customdata\":[[3.22]],\"hovertemplate\":\"Category=Collectibles,Art,Digital,PFP<br>Sales=%{x}<br>Owners=%{y}<br>Assets=%{marker.size}<br>Owner_Asset_Ratio=%{customdata[0]}<extra></extra>\",\"legendgroup\":\"Collectibles,Art,Digital,PFP\",\"marker\":{\"color\":\"#ab63fa\",\"size\":[466],\"sizemode\":\"area\",\"sizeref\":8.3,\"symbol\":\"circle\"},\"mode\":\"markers\",\"name\":\"Collectibles,Art,Digital,PFP\",\"orientation\":\"v\",\"showlegend\":true,\"x\":[579],\"xaxis\":\"x\",\"y\":[15],\"yaxis\":\"y\",\"type\":\"scatter\"},{\"customdata\":[[80.77]],\"hovertemplate\":\"Category=Digital,Art,Collectibles,PFP,2D<br>Sales=%{x}<br>Owners=%{y}<br>Assets=%{marker.size}<br>Owner_Asset_Ratio=%{customdata[0]}<extra></extra>\",\"legendgroup\":\"Digital,Art,Collectibles,PFP,2D\",\"marker\":{\"color\":\"#FFA15A\",\"size\":[52],\"sizemode\":\"area\",\"sizeref\":8.3,\"symbol\":\"circle\"},\"mode\":\"markers\",\"name\":\"Digital,Art,Collectibles,PFP,2D\",\"orientation\":\"v\",\"showlegend\":true,\"x\":[350],\"xaxis\":\"x\",\"y\":[42],\"yaxis\":\"y\",\"type\":\"scatter\"},{\"customdata\":[[25.14],[27.03],[49.57],[9.86],[24.0],[48.0],[65.12],[10.91],[null]],\"hovertemplate\":\"Category=Digital,Art,Collectibles<br>Sales=%{x}<br>Owners=%{y}<br>Assets=%{marker.size}<br>Owner_Asset_Ratio=%{customdata[0]}<extra></extra>\",\"legendgroup\":\"Digital,Art,Collectibles\",\"marker\":{\"color\":\"#19d3f3\",\"size\":[183,185,115,71,25,25,43,55,0],\"sizemode\":\"area\",\"sizeref\":8.3,\"symbol\":\"circle\"},\"mode\":\"markers\",\"name\":\"Digital,Art,Collectibles\",\"orientation\":\"v\",\"showlegend\":true,\"x\":[285,295,52,23,73,35,26,31,11],\"xaxis\":\"x\",\"y\":[46,50,57,7,6,12,28,6,0],\"yaxis\":\"y\",\"type\":\"scatter\"},{\"customdata\":[[33.93]],\"hovertemplate\":\"Category=PFP,Digital,Collectibles,Ticket<br>Sales=%{x}<br>Owners=%{y}<br>Assets=%{marker.size}<br>Owner_Asset_Ratio=%{customdata[0]}<extra></extra>\",\"legendgroup\":\"PFP,Digital,Collectibles,Ticket\",\"marker\":{\"color\":\"#FF6692\",\"size\":[504],\"sizemode\":\"area\",\"sizeref\":8.3,\"symbol\":\"circle\"},\"mode\":\"markers\",\"name\":\"PFP,Digital,Collectibles,Ticket\",\"orientation\":\"v\",\"showlegend\":true,\"x\":[370],\"xaxis\":\"x\",\"y\":[171],\"yaxis\":\"y\",\"type\":\"scatter\"},{\"customdata\":[[6.51]],\"hovertemplate\":\"Category=Digital,Art,Collectibles,Trading Cards,3D,Video<br>Sales=%{x}<br>Owners=%{y}<br>Assets=%{marker.size}<br>Owner_Asset_Ratio=%{customdata[0]}<extra></extra>\",\"legendgroup\":\"Digital,Art,Collectibles,Trading Cards,3D,Video\",\"marker\":{\"color\":\"#B6E880\",\"size\":[860],\"sizemode\":\"area\",\"sizeref\":8.3,\"symbol\":\"circle\"},\"mode\":\"markers\",\"name\":\"Digital,Art,Collectibles,Trading Cards,3D,Video\",\"orientation\":\"v\",\"showlegend\":true,\"x\":[506],\"xaxis\":\"x\",\"y\":[56],\"yaxis\":\"y\",\"type\":\"scatter\"},{\"customdata\":[[63.95],[13.99],[90.57]],\"hovertemplate\":\"Category=Collectibles,PFP<br>Sales=%{x}<br>Owners=%{y}<br>Assets=%{marker.size}<br>Owner_Asset_Ratio=%{customdata[0]}<extra></extra>\",\"legendgroup\":\"Collectibles,PFP\",\"marker\":{\"color\":\"#FF97FF\",\"size\":[516,772,53],\"sizemode\":\"area\",\"sizeref\":8.3,\"symbol\":\"circle\"},\"mode\":\"markers\",\"name\":\"Collectibles,PFP\",\"orientation\":\"v\",\"showlegend\":true,\"x\":[1148,320,236],\"xaxis\":\"x\",\"y\":[330,108,48],\"yaxis\":\"y\",\"type\":\"scatter\"},{\"customdata\":[[35.71]],\"hovertemplate\":\"Category=Art,Collectibles,Photography,Metaverse,Performance,3D,Drawing,Digital<br>Sales=%{x}<br>Owners=%{y}<br>Assets=%{marker.size}<br>Owner_Asset_Ratio=%{customdata[0]}<extra></extra>\",\"legendgroup\":\"Art,Collectibles,Photography,Metaverse,Performance,3D,Drawing,Digital\",\"marker\":{\"color\":\"#FECB52\",\"size\":[14],\"sizemode\":\"area\",\"sizeref\":8.3,\"symbol\":\"circle\"},\"mode\":\"markers\",\"name\":\"Art,Collectibles,Photography,Metaverse,Performance,3D,Drawing,Digital\",\"orientation\":\"v\",\"showlegend\":true,\"x\":[11],\"xaxis\":\"x\",\"y\":[5],\"yaxis\":\"y\",\"type\":\"scatter\"},{\"customdata\":[[0.62]],\"hovertemplate\":\"Category=Art,Digital,Graphics,Collectibles<br>Sales=%{x}<br>Owners=%{y}<br>Assets=%{marker.size}<br>Owner_Asset_Ratio=%{customdata[0]}<extra></extra>\",\"legendgroup\":\"Art,Digital,Graphics,Collectibles\",\"marker\":{\"color\":\"#636efa\",\"size\":[963],\"sizemode\":\"area\",\"sizeref\":8.3,\"symbol\":\"circle\"},\"mode\":\"markers\",\"name\":\"Art,Digital,Graphics,Collectibles\",\"orientation\":\"v\",\"showlegend\":true,\"x\":[642],\"xaxis\":\"x\",\"y\":[6],\"yaxis\":\"y\",\"type\":\"scatter\"},{\"customdata\":[[92.96]],\"hovertemplate\":\"Category=Metaverse,Privilege<br>Sales=%{x}<br>Owners=%{y}<br>Assets=%{marker.size}<br>Owner_Asset_Ratio=%{customdata[0]}<extra></extra>\",\"legendgroup\":\"Metaverse,Privilege\",\"marker\":{\"color\":\"#EF553B\",\"size\":[341],\"sizemode\":\"area\",\"sizeref\":8.3,\"symbol\":\"circle\"},\"mode\":\"markers\",\"name\":\"Metaverse,Privilege\",\"orientation\":\"v\",\"showlegend\":true,\"x\":[191],\"xaxis\":\"x\",\"y\":[317],\"yaxis\":\"y\",\"type\":\"scatter\"},{\"customdata\":[[15.22]],\"hovertemplate\":\"Category=Digital,Art,Collectibles,Painting,Image,Picture<br>Sales=%{x}<br>Owners=%{y}<br>Assets=%{marker.size}<br>Owner_Asset_Ratio=%{customdata[0]}<extra></extra>\",\"legendgroup\":\"Digital,Art,Collectibles,Painting,Image,Picture\",\"marker\":{\"color\":\"#00cc96\",\"size\":[46],\"sizemode\":\"area\",\"sizeref\":8.3,\"symbol\":\"circle\"},\"mode\":\"markers\",\"name\":\"Digital,Art,Collectibles,Painting,Image,Picture\",\"orientation\":\"v\",\"showlegend\":true,\"x\":[35],\"xaxis\":\"x\",\"y\":[7],\"yaxis\":\"y\",\"type\":\"scatter\"},{\"customdata\":[[64.04]],\"hovertemplate\":\"Category=Collectibles,Digital,Metaverse,Art,Graphics,2D,Picture,Image,Design<br>Sales=%{x}<br>Owners=%{y}<br>Assets=%{marker.size}<br>Owner_Asset_Ratio=%{customdata[0]}<extra></extra>\",\"legendgroup\":\"Collectibles,Digital,Metaverse,Art,Graphics,2D,Picture,Image,Design\",\"marker\":{\"color\":\"#ab63fa\",\"size\":[114],\"sizemode\":\"area\",\"sizeref\":8.3,\"symbol\":\"circle\"},\"mode\":\"markers\",\"name\":\"Collectibles,Digital,Metaverse,Art,Graphics,2D,Picture,Image,Design\",\"orientation\":\"v\",\"showlegend\":true,\"x\":[376],\"xaxis\":\"x\",\"y\":[73],\"yaxis\":\"y\",\"type\":\"scatter\"},{\"customdata\":[[47.14]],\"hovertemplate\":\"Category=Digital,Art,Collectibles,2D,PFP,Drawing,P2E,Design,Image,Metaverse<br>Sales=%{x}<br>Owners=%{y}<br>Assets=%{marker.size}<br>Owner_Asset_Ratio=%{customdata[0]}<extra></extra>\",\"legendgroup\":\"Digital,Art,Collectibles,2D,PFP,Drawing,P2E,Design,Image,Metaverse\",\"marker\":{\"color\":\"#FFA15A\",\"size\":[210],\"sizemode\":\"area\",\"sizeref\":8.3,\"symbol\":\"circle\"},\"mode\":\"markers\",\"name\":\"Digital,Art,Collectibles,2D,PFP,Drawing,P2E,Design,Image,Metaverse\",\"orientation\":\"v\",\"showlegend\":true,\"x\":[302],\"xaxis\":\"x\",\"y\":[99],\"yaxis\":\"y\",\"type\":\"scatter\"},{\"customdata\":[[38.46],[58.06],[26.67]],\"hovertemplate\":\"Category=Art,Digital,Collectibles<br>Sales=%{x}<br>Owners=%{y}<br>Assets=%{marker.size}<br>Owner_Asset_Ratio=%{customdata[0]}<extra></extra>\",\"legendgroup\":\"Art,Digital,Collectibles\",\"marker\":{\"color\":\"#19d3f3\",\"size\":[195,31,15],\"sizemode\":\"area\",\"sizeref\":8.3,\"symbol\":\"circle\"},\"mode\":\"markers\",\"name\":\"Art,Digital,Collectibles\",\"orientation\":\"v\",\"showlegend\":true,\"x\":[348,40,7],\"xaxis\":\"x\",\"y\":[75,18,4],\"yaxis\":\"y\",\"type\":\"scatter\"},{\"customdata\":[[67.87]],\"hovertemplate\":\"Category=2D,Collectibles,Graphics,PFP<br>Sales=%{x}<br>Owners=%{y}<br>Assets=%{marker.size}<br>Owner_Asset_Ratio=%{customdata[0]}<extra></extra>\",\"legendgroup\":\"2D,Collectibles,Graphics,PFP\",\"marker\":{\"color\":\"#FF6692\",\"size\":[249],\"sizemode\":\"area\",\"sizeref\":8.3,\"symbol\":\"circle\"},\"mode\":\"markers\",\"name\":\"2D,Collectibles,Graphics,PFP\",\"orientation\":\"v\",\"showlegend\":true,\"x\":[1032],\"xaxis\":\"x\",\"y\":[169],\"yaxis\":\"y\",\"type\":\"scatter\"},{\"customdata\":[[40.91]],\"hovertemplate\":\"Category=Digital,Design,Art,Collectibles,Graphics<br>Sales=%{x}<br>Owners=%{y}<br>Assets=%{marker.size}<br>Owner_Asset_Ratio=%{customdata[0]}<extra></extra>\",\"legendgroup\":\"Digital,Design,Art,Collectibles,Graphics\",\"marker\":{\"color\":\"#B6E880\",\"size\":[110],\"sizemode\":\"area\",\"sizeref\":8.3,\"symbol\":\"circle\"},\"mode\":\"markers\",\"name\":\"Digital,Design,Art,Collectibles,Graphics\",\"orientation\":\"v\",\"showlegend\":true,\"x\":[267],\"xaxis\":\"x\",\"y\":[45],\"yaxis\":\"y\",\"type\":\"scatter\"},{\"customdata\":[[63.98]],\"hovertemplate\":\"Category=P2E,Metaverse<br>Sales=%{x}<br>Owners=%{y}<br>Assets=%{marker.size}<br>Owner_Asset_Ratio=%{customdata[0]}<extra></extra>\",\"legendgroup\":\"P2E,Metaverse\",\"marker\":{\"color\":\"#FF97FF\",\"size\":[186],\"sizemode\":\"area\",\"sizeref\":8.3,\"symbol\":\"circle\"},\"mode\":\"markers\",\"name\":\"P2E,Metaverse\",\"orientation\":\"v\",\"showlegend\":true,\"x\":[274],\"xaxis\":\"x\",\"y\":[119],\"yaxis\":\"y\",\"type\":\"scatter\"},{\"customdata\":[[72.09]],\"hovertemplate\":\"Category=Digital,Metaverse,P2E,Art<br>Sales=%{x}<br>Owners=%{y}<br>Assets=%{marker.size}<br>Owner_Asset_Ratio=%{customdata[0]}<extra></extra>\",\"legendgroup\":\"Digital,Metaverse,P2E,Art\",\"marker\":{\"color\":\"#FECB52\",\"size\":[344],\"sizemode\":\"area\",\"sizeref\":8.3,\"symbol\":\"circle\"},\"mode\":\"markers\",\"name\":\"Digital,Metaverse,P2E,Art\",\"orientation\":\"v\",\"showlegend\":true,\"x\":[372],\"xaxis\":\"x\",\"y\":[248],\"yaxis\":\"y\",\"type\":\"scatter\"},{\"customdata\":[[62.01]],\"hovertemplate\":\"Category=Digital,Art,PFP,2D,Design,Picture,Collectibles<br>Sales=%{x}<br>Owners=%{y}<br>Assets=%{marker.size}<br>Owner_Asset_Ratio=%{customdata[0]}<extra></extra>\",\"legendgroup\":\"Digital,Art,PFP,2D,Design,Picture,Collectibles\",\"marker\":{\"color\":\"#636efa\",\"size\":[587],\"sizemode\":\"area\",\"sizeref\":8.3,\"symbol\":\"circle\"},\"mode\":\"markers\",\"name\":\"Digital,Art,PFP,2D,Design,Picture,Collectibles\",\"orientation\":\"v\",\"showlegend\":true,\"x\":[454],\"xaxis\":\"x\",\"y\":[364],\"yaxis\":\"y\",\"type\":\"scatter\"},{\"customdata\":[[36.12]],\"hovertemplate\":\"Category=Digital,Metaverse,Art,Collectibles,2D,P2E<br>Sales=%{x}<br>Owners=%{y}<br>Assets=%{marker.size}<br>Owner_Asset_Ratio=%{customdata[0]}<extra></extra>\",\"legendgroup\":\"Digital,Metaverse,Art,Collectibles,2D,P2E\",\"marker\":{\"color\":\"#EF553B\",\"size\":[872],\"sizemode\":\"area\",\"sizeref\":8.3,\"symbol\":\"circle\"},\"mode\":\"markers\",\"name\":\"Digital,Metaverse,Art,Collectibles,2D,P2E\",\"orientation\":\"v\",\"showlegend\":true,\"x\":[1514],\"xaxis\":\"x\",\"y\":[315],\"yaxis\":\"y\",\"type\":\"scatter\"},{\"customdata\":[[57.14]],\"hovertemplate\":\"Category=Digital,Art,Collectibles,Immaterial,Metaverse,Graphics,2D,Photography,Picture,Pixel Art<br>Sales=%{x}<br>Owners=%{y}<br>Assets=%{marker.size}<br>Owner_Asset_Ratio=%{customdata[0]}<extra></extra>\",\"legendgroup\":\"Digital,Art,Collectibles,Immaterial,Metaverse,Graphics,2D,Photography,Picture,Pixel Art\",\"marker\":{\"color\":\"#00cc96\",\"size\":[7],\"sizemode\":\"area\",\"sizeref\":8.3,\"symbol\":\"circle\"},\"mode\":\"markers\",\"name\":\"Digital,Art,Collectibles,Immaterial,Metaverse,Graphics,2D,Photography,Picture,Pixel Art\",\"orientation\":\"v\",\"showlegend\":true,\"x\":[8],\"xaxis\":\"x\",\"y\":[4],\"yaxis\":\"y\",\"type\":\"scatter\"},{\"customdata\":[[57.25]],\"hovertemplate\":\"Category=Art,Collectibles,P2E,Metaverse,3D<br>Sales=%{x}<br>Owners=%{y}<br>Assets=%{marker.size}<br>Owner_Asset_Ratio=%{customdata[0]}<extra></extra>\",\"legendgroup\":\"Art,Collectibles,P2E,Metaverse,3D\",\"marker\":{\"color\":\"#ab63fa\",\"size\":[559],\"sizemode\":\"area\",\"sizeref\":8.3,\"symbol\":\"circle\"},\"mode\":\"markers\",\"name\":\"Art,Collectibles,P2E,Metaverse,3D\",\"orientation\":\"v\",\"showlegend\":true,\"x\":[1904],\"xaxis\":\"x\",\"y\":[320],\"yaxis\":\"y\",\"type\":\"scatter\"},{\"customdata\":[[67.8]],\"hovertemplate\":\"Category=Digital,Metaverse,Art,PFP<br>Sales=%{x}<br>Owners=%{y}<br>Assets=%{marker.size}<br>Owner_Asset_Ratio=%{customdata[0]}<extra></extra>\",\"legendgroup\":\"Digital,Metaverse,Art,PFP\",\"marker\":{\"color\":\"#FFA15A\",\"size\":[118],\"sizemode\":\"area\",\"sizeref\":8.3,\"symbol\":\"circle\"},\"mode\":\"markers\",\"name\":\"Digital,Metaverse,Art,PFP\",\"orientation\":\"v\",\"showlegend\":true,\"x\":[190],\"xaxis\":\"x\",\"y\":[80],\"yaxis\":\"y\",\"type\":\"scatter\"},{\"customdata\":[[62.5]],\"hovertemplate\":\"Category=Metaverse,P2E,Collectibles,Art,PFP<br>Sales=%{x}<br>Owners=%{y}<br>Assets=%{marker.size}<br>Owner_Asset_Ratio=%{customdata[0]}<extra></extra>\",\"legendgroup\":\"Metaverse,P2E,Collectibles,Art,PFP\",\"marker\":{\"color\":\"#19d3f3\",\"size\":[56],\"sizemode\":\"area\",\"sizeref\":8.3,\"symbol\":\"circle\"},\"mode\":\"markers\",\"name\":\"Metaverse,P2E,Collectibles,Art,PFP\",\"orientation\":\"v\",\"showlegend\":true,\"x\":[156],\"xaxis\":\"x\",\"y\":[35],\"yaxis\":\"y\",\"type\":\"scatter\"},{\"customdata\":[[100.0]],\"hovertemplate\":\"Category=Digital,Collectibles,PFP,Metaverse,Privilege,Art<br>Sales=%{x}<br>Owners=%{y}<br>Assets=%{marker.size}<br>Owner_Asset_Ratio=%{customdata[0]}<extra></extra>\",\"legendgroup\":\"Digital,Collectibles,PFP,Metaverse,Privilege,Art\",\"marker\":{\"color\":\"#FF6692\",\"size\":[13],\"sizemode\":\"area\",\"sizeref\":8.3,\"symbol\":\"circle\"},\"mode\":\"markers\",\"name\":\"Digital,Collectibles,PFP,Metaverse,Privilege,Art\",\"orientation\":\"v\",\"showlegend\":true,\"x\":[69],\"xaxis\":\"x\",\"y\":[13],\"yaxis\":\"y\",\"type\":\"scatter\"},{\"customdata\":[[60.97]],\"hovertemplate\":\"Category=Collectibles,Digital,Metaverse,Art,PFP<br>Sales=%{x}<br>Owners=%{y}<br>Assets=%{marker.size}<br>Owner_Asset_Ratio=%{customdata[0]}<extra></extra>\",\"legendgroup\":\"Collectibles,Digital,Metaverse,Art,PFP\",\"marker\":{\"color\":\"#B6E880\",\"size\":[497],\"sizemode\":\"area\",\"sizeref\":8.3,\"symbol\":\"circle\"},\"mode\":\"markers\",\"name\":\"Collectibles,Digital,Metaverse,Art,PFP\",\"orientation\":\"v\",\"showlegend\":true,\"x\":[1529],\"xaxis\":\"x\",\"y\":[303],\"yaxis\":\"y\",\"type\":\"scatter\"},{\"customdata\":[[20.65]],\"hovertemplate\":\"Category=Metaverse,Digital,Art,Graphics,2D,3D,Painting,Photography,Drawing,Video,Design,Pixel Art<br>Sales=%{x}<br>Owners=%{y}<br>Assets=%{marker.size}<br>Owner_Asset_Ratio=%{customdata[0]}<extra></extra>\",\"legendgroup\":\"Metaverse,Digital,Art,Graphics,2D,3D,Painting,Photography,Drawing,Video,Design,Pixel Art\",\"marker\":{\"color\":\"#FF97FF\",\"size\":[92],\"sizemode\":\"area\",\"sizeref\":8.3,\"symbol\":\"circle\"},\"mode\":\"markers\",\"name\":\"Metaverse,Digital,Art,Graphics,2D,3D,Painting,Photography,Drawing,Video,Design,Pixel Art\",\"orientation\":\"v\",\"showlegend\":true,\"x\":[41],\"xaxis\":\"x\",\"y\":[19],\"yaxis\":\"y\",\"type\":\"scatter\"},{\"customdata\":[[35.16]],\"hovertemplate\":\"Category=Art,Collectibles,2D,Painting,Picture,Image<br>Sales=%{x}<br>Owners=%{y}<br>Assets=%{marker.size}<br>Owner_Asset_Ratio=%{customdata[0]}<extra></extra>\",\"legendgroup\":\"Art,Collectibles,2D,Painting,Picture,Image\",\"marker\":{\"color\":\"#FECB52\",\"size\":[91],\"sizemode\":\"area\",\"sizeref\":8.3,\"symbol\":\"circle\"},\"mode\":\"markers\",\"name\":\"Art,Collectibles,2D,Painting,Picture,Image\",\"orientation\":\"v\",\"showlegend\":true,\"x\":[120],\"xaxis\":\"x\",\"y\":[32],\"yaxis\":\"y\",\"type\":\"scatter\"},{\"customdata\":[[72.92]],\"hovertemplate\":\"Category=Digital,Privilege,Art,Collectibles<br>Sales=%{x}<br>Owners=%{y}<br>Assets=%{marker.size}<br>Owner_Asset_Ratio=%{customdata[0]}<extra></extra>\",\"legendgroup\":\"Digital,Privilege,Art,Collectibles\",\"marker\":{\"color\":\"#636efa\",\"size\":[48],\"sizemode\":\"area\",\"sizeref\":8.3,\"symbol\":\"circle\"},\"mode\":\"markers\",\"name\":\"Digital,Privilege,Art,Collectibles\",\"orientation\":\"v\",\"showlegend\":true,\"x\":[84],\"xaxis\":\"x\",\"y\":[35],\"yaxis\":\"y\",\"type\":\"scatter\"},{\"customdata\":[[90.0]],\"hovertemplate\":\"Category=P2E,Digital,Collectibles<br>Sales=%{x}<br>Owners=%{y}<br>Assets=%{marker.size}<br>Owner_Asset_Ratio=%{customdata[0]}<extra></extra>\",\"legendgroup\":\"P2E,Digital,Collectibles\",\"marker\":{\"color\":\"#EF553B\",\"size\":[10],\"sizemode\":\"area\",\"sizeref\":8.3,\"symbol\":\"circle\"},\"mode\":\"markers\",\"name\":\"P2E,Digital,Collectibles\",\"orientation\":\"v\",\"showlegend\":true,\"x\":[39],\"xaxis\":\"x\",\"y\":[9],\"yaxis\":\"y\",\"type\":\"scatter\"},{\"customdata\":[[0.94]],\"hovertemplate\":\"Category=Digital,Privilege,Metaverse,Collectibles,3D,Video<br>Sales=%{x}<br>Owners=%{y}<br>Assets=%{marker.size}<br>Owner_Asset_Ratio=%{customdata[0]}<extra></extra>\",\"legendgroup\":\"Digital,Privilege,Metaverse,Collectibles,3D,Video\",\"marker\":{\"color\":\"#00cc96\",\"size\":[106],\"sizemode\":\"area\",\"sizeref\":8.3,\"symbol\":\"circle\"},\"mode\":\"markers\",\"name\":\"Digital,Privilege,Metaverse,Collectibles,3D,Video\",\"orientation\":\"v\",\"showlegend\":true,\"x\":[27],\"xaxis\":\"x\",\"y\":[1],\"yaxis\":\"y\",\"type\":\"scatter\"},{\"customdata\":[[53.33]],\"hovertemplate\":\"Category=Art,Digital,Painting<br>Sales=%{x}<br>Owners=%{y}<br>Assets=%{marker.size}<br>Owner_Asset_Ratio=%{customdata[0]}<extra></extra>\",\"legendgroup\":\"Art,Digital,Painting\",\"marker\":{\"color\":\"#ab63fa\",\"size\":[45],\"sizemode\":\"area\",\"sizeref\":8.3,\"symbol\":\"circle\"},\"mode\":\"markers\",\"name\":\"Art,Digital,Painting\",\"orientation\":\"v\",\"showlegend\":true,\"x\":[40],\"xaxis\":\"x\",\"y\":[24],\"yaxis\":\"y\",\"type\":\"scatter\"},{\"customdata\":[[33.33]],\"hovertemplate\":\"Category=Collectibles,2D,Image,Picture<br>Sales=%{x}<br>Owners=%{y}<br>Assets=%{marker.size}<br>Owner_Asset_Ratio=%{customdata[0]}<extra></extra>\",\"legendgroup\":\"Collectibles,2D,Image,Picture\",\"marker\":{\"color\":\"#FFA15A\",\"size\":[120],\"sizemode\":\"area\",\"sizeref\":8.3,\"symbol\":\"circle\"},\"mode\":\"markers\",\"name\":\"Collectibles,2D,Image,Picture\",\"orientation\":\"v\",\"showlegend\":true,\"x\":[82],\"xaxis\":\"x\",\"y\":[40],\"yaxis\":\"y\",\"type\":\"scatter\"},{\"customdata\":[[35.58]],\"hovertemplate\":\"Category=P2E,Digital,Art,Metaverse,PFP<br>Sales=%{x}<br>Owners=%{y}<br>Assets=%{marker.size}<br>Owner_Asset_Ratio=%{customdata[0]}<extra></extra>\",\"legendgroup\":\"P2E,Digital,Art,Metaverse,PFP\",\"marker\":{\"color\":\"#19d3f3\",\"size\":[208],\"sizemode\":\"area\",\"sizeref\":8.3,\"symbol\":\"circle\"},\"mode\":\"markers\",\"name\":\"P2E,Digital,Art,Metaverse,PFP\",\"orientation\":\"v\",\"showlegend\":true,\"x\":[255],\"xaxis\":\"x\",\"y\":[74],\"yaxis\":\"y\",\"type\":\"scatter\"},{\"customdata\":[[23.53]],\"hovertemplate\":\"Category=Digital,Art,Collectibles,2D,Painting,Drawing,Image<br>Sales=%{x}<br>Owners=%{y}<br>Assets=%{marker.size}<br>Owner_Asset_Ratio=%{customdata[0]}<extra></extra>\",\"legendgroup\":\"Digital,Art,Collectibles,2D,Painting,Drawing,Image\",\"marker\":{\"color\":\"#FF6692\",\"size\":[85],\"sizemode\":\"area\",\"sizeref\":8.3,\"symbol\":\"circle\"},\"mode\":\"markers\",\"name\":\"Digital,Art,Collectibles,2D,Painting,Drawing,Image\",\"orientation\":\"v\",\"showlegend\":true,\"x\":[10],\"xaxis\":\"x\",\"y\":[20],\"yaxis\":\"y\",\"type\":\"scatter\"},{\"customdata\":[[null]],\"hovertemplate\":\"Category=Digital,Print,Collectibles,Art,PFP<br>Sales=%{x}<br>Owners=%{y}<br>Assets=%{marker.size}<br>Owner_Asset_Ratio=%{customdata[0]}<extra></extra>\",\"legendgroup\":\"Digital,Print,Collectibles,Art,PFP\",\"marker\":{\"color\":\"#B6E880\",\"size\":[0],\"sizemode\":\"area\",\"sizeref\":8.3,\"symbol\":\"circle\"},\"mode\":\"markers\",\"name\":\"Digital,Print,Collectibles,Art,PFP\",\"orientation\":\"v\",\"showlegend\":true,\"x\":[242],\"xaxis\":\"x\",\"y\":[0],\"yaxis\":\"y\",\"type\":\"scatter\"},{\"customdata\":[[92.0]],\"hovertemplate\":\"Category=3D,Art<br>Sales=%{x}<br>Owners=%{y}<br>Assets=%{marker.size}<br>Owner_Asset_Ratio=%{customdata[0]}<extra></extra>\",\"legendgroup\":\"3D,Art\",\"marker\":{\"color\":\"#FF97FF\",\"size\":[25],\"sizemode\":\"area\",\"sizeref\":8.3,\"symbol\":\"circle\"},\"mode\":\"markers\",\"name\":\"3D,Art\",\"orientation\":\"v\",\"showlegend\":true,\"x\":[93],\"xaxis\":\"x\",\"y\":[23],\"yaxis\":\"y\",\"type\":\"scatter\"},{\"customdata\":[[70.97]],\"hovertemplate\":\"Category=Digital,Metaverse,Art,Collectibles,PFP,3D,Design,P2E<br>Sales=%{x}<br>Owners=%{y}<br>Assets=%{marker.size}<br>Owner_Asset_Ratio=%{customdata[0]}<extra></extra>\",\"legendgroup\":\"Digital,Metaverse,Art,Collectibles,PFP,3D,Design,P2E\",\"marker\":{\"color\":\"#FECB52\",\"size\":[31],\"sizemode\":\"area\",\"sizeref\":8.3,\"symbol\":\"circle\"},\"mode\":\"markers\",\"name\":\"Digital,Metaverse,Art,Collectibles,PFP,3D,Design,P2E\",\"orientation\":\"v\",\"showlegend\":true,\"x\":[84],\"xaxis\":\"x\",\"y\":[22],\"yaxis\":\"y\",\"type\":\"scatter\"},{\"customdata\":[[50.39],[15.38]],\"hovertemplate\":\"Category=Trading Cards,Collectibles<br>Sales=%{x}<br>Owners=%{y}<br>Assets=%{marker.size}<br>Owner_Asset_Ratio=%{customdata[0]}<extra></extra>\",\"legendgroup\":\"Trading Cards,Collectibles\",\"marker\":{\"color\":\"#636efa\",\"size\":[127,13],\"sizemode\":\"area\",\"sizeref\":8.3,\"symbol\":\"circle\"},\"mode\":\"markers\",\"name\":\"Trading Cards,Collectibles\",\"orientation\":\"v\",\"showlegend\":true,\"x\":[66,1],\"xaxis\":\"x\",\"y\":[64,2],\"yaxis\":\"y\",\"type\":\"scatter\"},{\"customdata\":[[61.11]],\"hovertemplate\":\"Category=Art,Collectibles,Digital,PFP<br>Sales=%{x}<br>Owners=%{y}<br>Assets=%{marker.size}<br>Owner_Asset_Ratio=%{customdata[0]}<extra></extra>\",\"legendgroup\":\"Art,Collectibles,Digital,PFP\",\"marker\":{\"color\":\"#EF553B\",\"size\":[18],\"sizemode\":\"area\",\"sizeref\":8.3,\"symbol\":\"circle\"},\"mode\":\"markers\",\"name\":\"Art,Collectibles,Digital,PFP\",\"orientation\":\"v\",\"showlegend\":true,\"x\":[18],\"xaxis\":\"x\",\"y\":[11],\"yaxis\":\"y\",\"type\":\"scatter\"},{\"customdata\":[[18.27]],\"hovertemplate\":\"Category=Metaverse,Collectibles,Digital,Image<br>Sales=%{x}<br>Owners=%{y}<br>Assets=%{marker.size}<br>Owner_Asset_Ratio=%{customdata[0]}<extra></extra>\",\"legendgroup\":\"Metaverse,Collectibles,Digital,Image\",\"marker\":{\"color\":\"#00cc96\",\"size\":[301],\"sizemode\":\"area\",\"sizeref\":8.3,\"symbol\":\"circle\"},\"mode\":\"markers\",\"name\":\"Metaverse,Collectibles,Digital,Image\",\"orientation\":\"v\",\"showlegend\":true,\"x\":[629],\"xaxis\":\"x\",\"y\":[55],\"yaxis\":\"y\",\"type\":\"scatter\"},{\"customdata\":[[49.68]],\"hovertemplate\":\"Category=Collectibles,Art,Image,Picture<br>Sales=%{x}<br>Owners=%{y}<br>Assets=%{marker.size}<br>Owner_Asset_Ratio=%{customdata[0]}<extra></extra>\",\"legendgroup\":\"Collectibles,Art,Image,Picture\",\"marker\":{\"color\":\"#ab63fa\",\"size\":[473],\"sizemode\":\"area\",\"sizeref\":8.3,\"symbol\":\"circle\"},\"mode\":\"markers\",\"name\":\"Collectibles,Art,Image,Picture\",\"orientation\":\"v\",\"showlegend\":true,\"x\":[1307],\"xaxis\":\"x\",\"y\":[235],\"yaxis\":\"y\",\"type\":\"scatter\"},{\"customdata\":[[52.72],[43.82]],\"hovertemplate\":\"Category=Digital,Art,Collectibles,PFP,2D,Image<br>Sales=%{x}<br>Owners=%{y}<br>Assets=%{marker.size}<br>Owner_Asset_Ratio=%{customdata[0]}<extra></extra>\",\"legendgroup\":\"Digital,Art,Collectibles,PFP,2D,Image\",\"marker\":{\"color\":\"#FFA15A\",\"size\":[368,178],\"sizemode\":\"area\",\"sizeref\":8.3,\"symbol\":\"circle\"},\"mode\":\"markers\",\"name\":\"Digital,Art,Collectibles,PFP,2D,Image\",\"orientation\":\"v\",\"showlegend\":true,\"x\":[504,369],\"xaxis\":\"x\",\"y\":[194,78],\"yaxis\":\"y\",\"type\":\"scatter\"},{\"customdata\":[[65.85]],\"hovertemplate\":\"Category=Digital,Art,Collectibles,2D,Drawing,Painting<br>Sales=%{x}<br>Owners=%{y}<br>Assets=%{marker.size}<br>Owner_Asset_Ratio=%{customdata[0]}<extra></extra>\",\"legendgroup\":\"Digital,Art,Collectibles,2D,Drawing,Painting\",\"marker\":{\"color\":\"#19d3f3\",\"size\":[41],\"sizemode\":\"area\",\"sizeref\":8.3,\"symbol\":\"circle\"},\"mode\":\"markers\",\"name\":\"Digital,Art,Collectibles,2D,Drawing,Painting\",\"orientation\":\"v\",\"showlegend\":true,\"x\":[91],\"xaxis\":\"x\",\"y\":[27],\"yaxis\":\"y\",\"type\":\"scatter\"},{\"customdata\":[[61.9]],\"hovertemplate\":\"Category=Art,Painting,Drawing,Digital,Collectibles,AI,Design<br>Sales=%{x}<br>Owners=%{y}<br>Assets=%{marker.size}<br>Owner_Asset_Ratio=%{customdata[0]}<extra></extra>\",\"legendgroup\":\"Art,Painting,Drawing,Digital,Collectibles,AI,Design\",\"marker\":{\"color\":\"#FF6692\",\"size\":[42],\"sizemode\":\"area\",\"sizeref\":8.3,\"symbol\":\"circle\"},\"mode\":\"markers\",\"name\":\"Art,Painting,Drawing,Digital,Collectibles,AI,Design\",\"orientation\":\"v\",\"showlegend\":true,\"x\":[127],\"xaxis\":\"x\",\"y\":[26],\"yaxis\":\"y\",\"type\":\"scatter\"},{\"customdata\":[[74.36],[48.87]],\"hovertemplate\":\"Category=Metaverse,Art<br>Sales=%{x}<br>Owners=%{y}<br>Assets=%{marker.size}<br>Owner_Asset_Ratio=%{customdata[0]}<extra></extra>\",\"legendgroup\":\"Metaverse,Art\",\"marker\":{\"color\":\"#B6E880\",\"size\":[39,397],\"sizemode\":\"area\",\"sizeref\":8.3,\"symbol\":\"circle\"},\"mode\":\"markers\",\"name\":\"Metaverse,Art\",\"orientation\":\"v\",\"showlegend\":true,\"x\":[51,185],\"xaxis\":\"x\",\"y\":[29,194],\"yaxis\":\"y\",\"type\":\"scatter\"},{\"customdata\":[[21.05]],\"hovertemplate\":\"Category=Art,Collectibles,PFP<br>Sales=%{x}<br>Owners=%{y}<br>Assets=%{marker.size}<br>Owner_Asset_Ratio=%{customdata[0]}<extra></extra>\",\"legendgroup\":\"Art,Collectibles,PFP\",\"marker\":{\"color\":\"#FF97FF\",\"size\":[76],\"sizemode\":\"area\",\"sizeref\":8.3,\"symbol\":\"circle\"},\"mode\":\"markers\",\"name\":\"Art,Collectibles,PFP\",\"orientation\":\"v\",\"showlegend\":true,\"x\":[38],\"xaxis\":\"x\",\"y\":[16],\"yaxis\":\"y\",\"type\":\"scatter\"},{\"customdata\":[[65.0]],\"hovertemplate\":\"Category=Digital,Metaverse,Art,Collectibles,PFP,3D,Picture<br>Sales=%{x}<br>Owners=%{y}<br>Assets=%{marker.size}<br>Owner_Asset_Ratio=%{customdata[0]}<extra></extra>\",\"legendgroup\":\"Digital,Metaverse,Art,Collectibles,PFP,3D,Picture\",\"marker\":{\"color\":\"#FECB52\",\"size\":[40],\"sizemode\":\"area\",\"sizeref\":8.3,\"symbol\":\"circle\"},\"mode\":\"markers\",\"name\":\"Digital,Metaverse,Art,Collectibles,PFP,3D,Picture\",\"orientation\":\"v\",\"showlegend\":true,\"x\":[75],\"xaxis\":\"x\",\"y\":[26],\"yaxis\":\"y\",\"type\":\"scatter\"},{\"customdata\":[[46.92]],\"hovertemplate\":\"Category=Digital,Art,Design,Collectibles,3D<br>Sales=%{x}<br>Owners=%{y}<br>Assets=%{marker.size}<br>Owner_Asset_Ratio=%{customdata[0]}<extra></extra>\",\"legendgroup\":\"Digital,Art,Design,Collectibles,3D\",\"marker\":{\"color\":\"#636efa\",\"size\":[130],\"sizemode\":\"area\",\"sizeref\":8.3,\"symbol\":\"circle\"},\"mode\":\"markers\",\"name\":\"Digital,Art,Design,Collectibles,3D\",\"orientation\":\"v\",\"showlegend\":true,\"x\":[247],\"xaxis\":\"x\",\"y\":[61],\"yaxis\":\"y\",\"type\":\"scatter\"},{\"customdata\":[[68.06]],\"hovertemplate\":\"Category=Digital,Art,PFP,3D,Design,Graphics,Collectibles,Sculpture<br>Sales=%{x}<br>Owners=%{y}<br>Assets=%{marker.size}<br>Owner_Asset_Ratio=%{customdata[0]}<extra></extra>\",\"legendgroup\":\"Digital,Art,PFP,3D,Design,Graphics,Collectibles,Sculpture\",\"marker\":{\"color\":\"#EF553B\",\"size\":[72],\"sizemode\":\"area\",\"sizeref\":8.3,\"symbol\":\"circle\"},\"mode\":\"markers\",\"name\":\"Digital,Art,PFP,3D,Design,Graphics,Collectibles,Sculpture\",\"orientation\":\"v\",\"showlegend\":true,\"x\":[98],\"xaxis\":\"x\",\"y\":[49],\"yaxis\":\"y\",\"type\":\"scatter\"},{\"customdata\":[[58.94]],\"hovertemplate\":\"Category=2D,Art,Metaverse,Collectibles<br>Sales=%{x}<br>Owners=%{y}<br>Assets=%{marker.size}<br>Owner_Asset_Ratio=%{customdata[0]}<extra></extra>\",\"legendgroup\":\"2D,Art,Metaverse,Collectibles\",\"marker\":{\"color\":\"#00cc96\",\"size\":[207],\"sizemode\":\"area\",\"sizeref\":8.3,\"symbol\":\"circle\"},\"mode\":\"markers\",\"name\":\"2D,Art,Metaverse,Collectibles\",\"orientation\":\"v\",\"showlegend\":true,\"x\":[206],\"xaxis\":\"x\",\"y\":[122],\"yaxis\":\"y\",\"type\":\"scatter\"},{\"customdata\":[[52.17],[80.0]],\"hovertemplate\":\"Category=Art,Digital,Collectibles,3D<br>Sales=%{x}<br>Owners=%{y}<br>Assets=%{marker.size}<br>Owner_Asset_Ratio=%{customdata[0]}<extra></extra>\",\"legendgroup\":\"Art,Digital,Collectibles,3D\",\"marker\":{\"color\":\"#ab63fa\",\"size\":[115,5],\"sizemode\":\"area\",\"sizeref\":8.3,\"symbol\":\"circle\"},\"mode\":\"markers\",\"name\":\"Art,Digital,Collectibles,3D\",\"orientation\":\"v\",\"showlegend\":true,\"x\":[64,5],\"xaxis\":\"x\",\"y\":[60,4],\"yaxis\":\"y\",\"type\":\"scatter\"},{\"customdata\":[[32.28]],\"hovertemplate\":\"Category=Digital,Collectibles,Art,Drawing,Painting<br>Sales=%{x}<br>Owners=%{y}<br>Assets=%{marker.size}<br>Owner_Asset_Ratio=%{customdata[0]}<extra></extra>\",\"legendgroup\":\"Digital,Collectibles,Art,Drawing,Painting\",\"marker\":{\"color\":\"#FFA15A\",\"size\":[127],\"sizemode\":\"area\",\"sizeref\":8.3,\"symbol\":\"circle\"},\"mode\":\"markers\",\"name\":\"Digital,Collectibles,Art,Drawing,Painting\",\"orientation\":\"v\",\"showlegend\":true,\"x\":[200],\"xaxis\":\"x\",\"y\":[41],\"yaxis\":\"y\",\"type\":\"scatter\"},{\"customdata\":[[10.0]],\"hovertemplate\":\"Category=Digital,Metaverse,Collectibles,Art,Trading Cards,P2E<br>Sales=%{x}<br>Owners=%{y}<br>Assets=%{marker.size}<br>Owner_Asset_Ratio=%{customdata[0]}<extra></extra>\",\"legendgroup\":\"Digital,Metaverse,Collectibles,Art,Trading Cards,P2E\",\"marker\":{\"color\":\"#19d3f3\",\"size\":[10],\"sizemode\":\"area\",\"sizeref\":8.3,\"symbol\":\"circle\"},\"mode\":\"markers\",\"name\":\"Digital,Metaverse,Collectibles,Art,Trading Cards,P2E\",\"orientation\":\"v\",\"showlegend\":true,\"x\":[71],\"xaxis\":\"x\",\"y\":[1],\"yaxis\":\"y\",\"type\":\"scatter\"},{\"customdata\":[[32.35],[67.47],[null],[75.0],[50.0],[null],[41.38],[100.0],[7.53],[29.41],[11.11],[50.0]],\"hovertemplate\":\"Category=Art<br>Sales=%{x}<br>Owners=%{y}<br>Assets=%{marker.size}<br>Owner_Asset_Ratio=%{customdata[0]}<extra></extra>\",\"legendgroup\":\"Art\",\"marker\":{\"color\":\"#FF6692\",\"size\":[136,83,0,4,2,34,116,1,93,17,9,8],\"sizemode\":\"area\",\"sizeref\":8.3,\"symbol\":\"circle\"},\"mode\":\"markers\",\"name\":\"Art\",\"orientation\":\"v\",\"showlegend\":true,\"x\":[109,262,15,18,10,42,162,3,7,13,1,15],\"xaxis\":\"x\",\"y\":[44,56,0,3,1,39,48,1,7,5,1,4],\"yaxis\":\"y\",\"type\":\"scatter\"},{\"customdata\":[[67.86]],\"hovertemplate\":\"Category=Digital,Metaverse,Art,2D,P2E<br>Sales=%{x}<br>Owners=%{y}<br>Assets=%{marker.size}<br>Owner_Asset_Ratio=%{customdata[0]}<extra></extra>\",\"legendgroup\":\"Digital,Metaverse,Art,2D,P2E\",\"marker\":{\"color\":\"#B6E880\",\"size\":[84],\"sizemode\":\"area\",\"sizeref\":8.3,\"symbol\":\"circle\"},\"mode\":\"markers\",\"name\":\"Digital,Metaverse,Art,2D,P2E\",\"orientation\":\"v\",\"showlegend\":true,\"x\":[77],\"xaxis\":\"x\",\"y\":[57],\"yaxis\":\"y\",\"type\":\"scatter\"},{\"customdata\":[[62.0]],\"hovertemplate\":\"Category=Digital,Metaverse,Art,Collectibles,PFP,2D,Design<br>Sales=%{x}<br>Owners=%{y}<br>Assets=%{marker.size}<br>Owner_Asset_Ratio=%{customdata[0]}<extra></extra>\",\"legendgroup\":\"Digital,Metaverse,Art,Collectibles,PFP,2D,Design\",\"marker\":{\"color\":\"#FF97FF\",\"size\":[50],\"sizemode\":\"area\",\"sizeref\":8.3,\"symbol\":\"circle\"},\"mode\":\"markers\",\"name\":\"Digital,Metaverse,Art,Collectibles,PFP,2D,Design\",\"orientation\":\"v\",\"showlegend\":true,\"x\":[58],\"xaxis\":\"x\",\"y\":[31],\"yaxis\":\"y\",\"type\":\"scatter\"},{\"customdata\":[[53.22]],\"hovertemplate\":\"Category=Art,P2E<br>Sales=%{x}<br>Owners=%{y}<br>Assets=%{marker.size}<br>Owner_Asset_Ratio=%{customdata[0]}<extra></extra>\",\"legendgroup\":\"Art,P2E\",\"marker\":{\"color\":\"#FECB52\",\"size\":[528],\"sizemode\":\"area\",\"sizeref\":8.3,\"symbol\":\"circle\"},\"mode\":\"markers\",\"name\":\"Art,P2E\",\"orientation\":\"v\",\"showlegend\":true,\"x\":[831],\"xaxis\":\"x\",\"y\":[281],\"yaxis\":\"y\",\"type\":\"scatter\"},{\"customdata\":[[100.0]],\"hovertemplate\":\"Category=3D,Digital,Privilege,Art,Image<br>Sales=%{x}<br>Owners=%{y}<br>Assets=%{marker.size}<br>Owner_Asset_Ratio=%{customdata[0]}<extra></extra>\",\"legendgroup\":\"3D,Digital,Privilege,Art,Image\",\"marker\":{\"color\":\"#636efa\",\"size\":[4],\"sizemode\":\"area\",\"sizeref\":8.3,\"symbol\":\"circle\"},\"mode\":\"markers\",\"name\":\"3D,Digital,Privilege,Art,Image\",\"orientation\":\"v\",\"showlegend\":true,\"x\":[44],\"xaxis\":\"x\",\"y\":[4],\"yaxis\":\"y\",\"type\":\"scatter\"},{\"customdata\":[[40.0],[63.64],[48.15]],\"hovertemplate\":\"Category=Art,Collectibles<br>Sales=%{x}<br>Owners=%{y}<br>Assets=%{marker.size}<br>Owner_Asset_Ratio=%{customdata[0]}<extra></extra>\",\"legendgroup\":\"Art,Collectibles\",\"marker\":{\"color\":\"#EF553B\",\"size\":[25,11,27],\"sizemode\":\"area\",\"sizeref\":8.3,\"symbol\":\"circle\"},\"mode\":\"markers\",\"name\":\"Art,Collectibles\",\"orientation\":\"v\",\"showlegend\":true,\"x\":[48,22,3],\"xaxis\":\"x\",\"y\":[10,7,13],\"yaxis\":\"y\",\"type\":\"scatter\"},{\"customdata\":[[71.05]],\"hovertemplate\":\"Category=PFP,Digital,Art,Collectibles,Drawing<br>Sales=%{x}<br>Owners=%{y}<br>Assets=%{marker.size}<br>Owner_Asset_Ratio=%{customdata[0]}<extra></extra>\",\"legendgroup\":\"PFP,Digital,Art,Collectibles,Drawing\",\"marker\":{\"color\":\"#00cc96\",\"size\":[190],\"sizemode\":\"area\",\"sizeref\":8.3,\"symbol\":\"circle\"},\"mode\":\"markers\",\"name\":\"PFP,Digital,Art,Collectibles,Drawing\",\"orientation\":\"v\",\"showlegend\":true,\"x\":[212],\"xaxis\":\"x\",\"y\":[135],\"yaxis\":\"y\",\"type\":\"scatter\"},{\"customdata\":[[61.57]],\"hovertemplate\":\"Category=Collectibles,Metaverse<br>Sales=%{x}<br>Owners=%{y}<br>Assets=%{marker.size}<br>Owner_Asset_Ratio=%{customdata[0]}<extra></extra>\",\"legendgroup\":\"Collectibles,Metaverse\",\"marker\":{\"color\":\"#ab63fa\",\"size\":[432],\"sizemode\":\"area\",\"sizeref\":8.3,\"symbol\":\"circle\"},\"mode\":\"markers\",\"name\":\"Collectibles,Metaverse\",\"orientation\":\"v\",\"showlegend\":true,\"x\":[397],\"xaxis\":\"x\",\"y\":[266],\"yaxis\":\"y\",\"type\":\"scatter\"},{\"customdata\":[[45.39]],\"hovertemplate\":\"Category=PFP,Digital,Art,Collectibles<br>Sales=%{x}<br>Owners=%{y}<br>Assets=%{marker.size}<br>Owner_Asset_Ratio=%{customdata[0]}<extra></extra>\",\"legendgroup\":\"PFP,Digital,Art,Collectibles\",\"marker\":{\"color\":\"#FFA15A\",\"size\":[304],\"sizemode\":\"area\",\"sizeref\":8.3,\"symbol\":\"circle\"},\"mode\":\"markers\",\"name\":\"PFP,Digital,Art,Collectibles\",\"orientation\":\"v\",\"showlegend\":true,\"x\":[97],\"xaxis\":\"x\",\"y\":[138],\"yaxis\":\"y\",\"type\":\"scatter\"},{\"customdata\":[[39.82]],\"hovertemplate\":\"Category=Digital,Art,Collectibles,PFP,2D,Drawing,Image<br>Sales=%{x}<br>Owners=%{y}<br>Assets=%{marker.size}<br>Owner_Asset_Ratio=%{customdata[0]}<extra></extra>\",\"legendgroup\":\"Digital,Art,Collectibles,PFP,2D,Drawing,Image\",\"marker\":{\"color\":\"#19d3f3\",\"size\":[113],\"sizemode\":\"area\",\"sizeref\":8.3,\"symbol\":\"circle\"},\"mode\":\"markers\",\"name\":\"Digital,Art,Collectibles,PFP,2D,Drawing,Image\",\"orientation\":\"v\",\"showlegend\":true,\"x\":[20],\"xaxis\":\"x\",\"y\":[45],\"yaxis\":\"y\",\"type\":\"scatter\"},{\"customdata\":[[50.0]],\"hovertemplate\":\"Category=Art,PFP,Digital,Collectibles,Metaverse,Graphics,Drawing,Image,Picture<br>Sales=%{x}<br>Owners=%{y}<br>Assets=%{marker.size}<br>Owner_Asset_Ratio=%{customdata[0]}<extra></extra>\",\"legendgroup\":\"Art,PFP,Digital,Collectibles,Metaverse,Graphics,Drawing,Image,Picture\",\"marker\":{\"color\":\"#FF6692\",\"size\":[54],\"sizemode\":\"area\",\"sizeref\":8.3,\"symbol\":\"circle\"},\"mode\":\"markers\",\"name\":\"Art,PFP,Digital,Collectibles,Metaverse,Graphics,Drawing,Image,Picture\",\"orientation\":\"v\",\"showlegend\":true,\"x\":[112],\"xaxis\":\"x\",\"y\":[27],\"yaxis\":\"y\",\"type\":\"scatter\"},{\"customdata\":[[69.81]],\"hovertemplate\":\"Category=Digital,Metaverse,Art,PFP,Graphics,2D,Drawing,Design,Image<br>Sales=%{x}<br>Owners=%{y}<br>Assets=%{marker.size}<br>Owner_Asset_Ratio=%{customdata[0]}<extra></extra>\",\"legendgroup\":\"Digital,Metaverse,Art,PFP,Graphics,2D,Drawing,Design,Image\",\"marker\":{\"color\":\"#B6E880\",\"size\":[53],\"sizemode\":\"area\",\"sizeref\":8.3,\"symbol\":\"circle\"},\"mode\":\"markers\",\"name\":\"Digital,Metaverse,Art,PFP,Graphics,2D,Drawing,Design,Image\",\"orientation\":\"v\",\"showlegend\":true,\"x\":[162],\"xaxis\":\"x\",\"y\":[37],\"yaxis\":\"y\",\"type\":\"scatter\"},{\"customdata\":[[8.33]],\"hovertemplate\":\"Category=Physical,Privilege,Collectibles<br>Sales=%{x}<br>Owners=%{y}<br>Assets=%{marker.size}<br>Owner_Asset_Ratio=%{customdata[0]}<extra></extra>\",\"legendgroup\":\"Physical,Privilege,Collectibles\",\"marker\":{\"color\":\"#FF97FF\",\"size\":[12],\"sizemode\":\"area\",\"sizeref\":8.3,\"symbol\":\"circle\"},\"mode\":\"markers\",\"name\":\"Physical,Privilege,Collectibles\",\"orientation\":\"v\",\"showlegend\":true,\"x\":[6],\"xaxis\":\"x\",\"y\":[1],\"yaxis\":\"y\",\"type\":\"scatter\"},{\"customdata\":[[66.13]],\"hovertemplate\":\"Category=Art,Pixel Art,Digital<br>Sales=%{x}<br>Owners=%{y}<br>Assets=%{marker.size}<br>Owner_Asset_Ratio=%{customdata[0]}<extra></extra>\",\"legendgroup\":\"Art,Pixel Art,Digital\",\"marker\":{\"color\":\"#FECB52\",\"size\":[124],\"sizemode\":\"area\",\"sizeref\":8.3,\"symbol\":\"circle\"},\"mode\":\"markers\",\"name\":\"Art,Pixel Art,Digital\",\"orientation\":\"v\",\"showlegend\":true,\"x\":[466],\"xaxis\":\"x\",\"y\":[82],\"yaxis\":\"y\",\"type\":\"scatter\"},{\"customdata\":[[100.0],[11.11]],\"hovertemplate\":\"Category=Digital,Art,Drawing<br>Sales=%{x}<br>Owners=%{y}<br>Assets=%{marker.size}<br>Owner_Asset_Ratio=%{customdata[0]}<extra></extra>\",\"legendgroup\":\"Digital,Art,Drawing\",\"marker\":{\"color\":\"#636efa\",\"size\":[8,9],\"sizemode\":\"area\",\"sizeref\":8.3,\"symbol\":\"circle\"},\"mode\":\"markers\",\"name\":\"Digital,Art,Drawing\",\"orientation\":\"v\",\"showlegend\":true,\"x\":[67,3],\"xaxis\":\"x\",\"y\":[8,1],\"yaxis\":\"y\",\"type\":\"scatter\"},{\"customdata\":[[66.67]],\"hovertemplate\":\"Category=Art,Collectibles,2D,Digital<br>Sales=%{x}<br>Owners=%{y}<br>Assets=%{marker.size}<br>Owner_Asset_Ratio=%{customdata[0]}<extra></extra>\",\"legendgroup\":\"Art,Collectibles,2D,Digital\",\"marker\":{\"color\":\"#EF553B\",\"size\":[147],\"sizemode\":\"area\",\"sizeref\":8.3,\"symbol\":\"circle\"},\"mode\":\"markers\",\"name\":\"Art,Collectibles,2D,Digital\",\"orientation\":\"v\",\"showlegend\":true,\"x\":[64],\"xaxis\":\"x\",\"y\":[98],\"yaxis\":\"y\",\"type\":\"scatter\"},{\"customdata\":[[82.0]],\"hovertemplate\":\"Category=Art,Collectibles,Metaverse,PFP,Graphics,2D<br>Sales=%{x}<br>Owners=%{y}<br>Assets=%{marker.size}<br>Owner_Asset_Ratio=%{customdata[0]}<extra></extra>\",\"legendgroup\":\"Art,Collectibles,Metaverse,PFP,Graphics,2D\",\"marker\":{\"color\":\"#00cc96\",\"size\":[50],\"sizemode\":\"area\",\"sizeref\":8.3,\"symbol\":\"circle\"},\"mode\":\"markers\",\"name\":\"Art,Collectibles,Metaverse,PFP,Graphics,2D\",\"orientation\":\"v\",\"showlegend\":true,\"x\":[37],\"xaxis\":\"x\",\"y\":[41],\"yaxis\":\"y\",\"type\":\"scatter\"},{\"customdata\":[[58.93]],\"hovertemplate\":\"Category=Digital,Collectibles,3D<br>Sales=%{x}<br>Owners=%{y}<br>Assets=%{marker.size}<br>Owner_Asset_Ratio=%{customdata[0]}<extra></extra>\",\"legendgroup\":\"Digital,Collectibles,3D\",\"marker\":{\"color\":\"#ab63fa\",\"size\":[56],\"sizemode\":\"area\",\"sizeref\":8.3,\"symbol\":\"circle\"},\"mode\":\"markers\",\"name\":\"Digital,Collectibles,3D\",\"orientation\":\"v\",\"showlegend\":true,\"x\":[106],\"xaxis\":\"x\",\"y\":[33],\"yaxis\":\"y\",\"type\":\"scatter\"},{\"customdata\":[[76.92]],\"hovertemplate\":\"Category=Collectibles,2D,Digital<br>Sales=%{x}<br>Owners=%{y}<br>Assets=%{marker.size}<br>Owner_Asset_Ratio=%{customdata[0]}<extra></extra>\",\"legendgroup\":\"Collectibles,2D,Digital\",\"marker\":{\"color\":\"#FFA15A\",\"size\":[13],\"sizemode\":\"area\",\"sizeref\":8.3,\"symbol\":\"circle\"},\"mode\":\"markers\",\"name\":\"Collectibles,2D,Digital\",\"orientation\":\"v\",\"showlegend\":true,\"x\":[35],\"xaxis\":\"x\",\"y\":[10],\"yaxis\":\"y\",\"type\":\"scatter\"},{\"customdata\":[[35.9]],\"hovertemplate\":\"Category=Art,AI,Image,Picture,Painting,Collectibles<br>Sales=%{x}<br>Owners=%{y}<br>Assets=%{marker.size}<br>Owner_Asset_Ratio=%{customdata[0]}<extra></extra>\",\"legendgroup\":\"Art,AI,Image,Picture,Painting,Collectibles\",\"marker\":{\"color\":\"#19d3f3\",\"size\":[39],\"sizemode\":\"area\",\"sizeref\":8.3,\"symbol\":\"circle\"},\"mode\":\"markers\",\"name\":\"Art,AI,Image,Picture,Painting,Collectibles\",\"orientation\":\"v\",\"showlegend\":true,\"x\":[67],\"xaxis\":\"x\",\"y\":[14],\"yaxis\":\"y\",\"type\":\"scatter\"},{\"customdata\":[[71.43],[54.24]],\"hovertemplate\":\"Category=PFP<br>Sales=%{x}<br>Owners=%{y}<br>Assets=%{marker.size}<br>Owner_Asset_Ratio=%{customdata[0]}<extra></extra>\",\"legendgroup\":\"PFP\",\"marker\":{\"color\":\"#FF6692\",\"size\":[28,177],\"sizemode\":\"area\",\"sizeref\":8.3,\"symbol\":\"circle\"},\"mode\":\"markers\",\"name\":\"PFP\",\"orientation\":\"v\",\"showlegend\":true,\"x\":[58,206],\"xaxis\":\"x\",\"y\":[20,96],\"yaxis\":\"y\",\"type\":\"scatter\"},{\"customdata\":[[66.67]],\"hovertemplate\":\"Category=Art,Collectibles,Trading Cards<br>Sales=%{x}<br>Owners=%{y}<br>Assets=%{marker.size}<br>Owner_Asset_Ratio=%{customdata[0]}<extra></extra>\",\"legendgroup\":\"Art,Collectibles,Trading Cards\",\"marker\":{\"color\":\"#B6E880\",\"size\":[6],\"sizemode\":\"area\",\"sizeref\":8.3,\"symbol\":\"circle\"},\"mode\":\"markers\",\"name\":\"Art,Collectibles,Trading Cards\",\"orientation\":\"v\",\"showlegend\":true,\"x\":[15],\"xaxis\":\"x\",\"y\":[4],\"yaxis\":\"y\",\"type\":\"scatter\"},{\"customdata\":[[100.0]],\"hovertemplate\":\"Category=Digital,Privilege,Art,Collectibles,Graphics<br>Sales=%{x}<br>Owners=%{y}<br>Assets=%{marker.size}<br>Owner_Asset_Ratio=%{customdata[0]}<extra></extra>\",\"legendgroup\":\"Digital,Privilege,Art,Collectibles,Graphics\",\"marker\":{\"color\":\"#FF97FF\",\"size\":[3],\"sizemode\":\"area\",\"sizeref\":8.3,\"symbol\":\"circle\"},\"mode\":\"markers\",\"name\":\"Digital,Privilege,Art,Collectibles,Graphics\",\"orientation\":\"v\",\"showlegend\":true,\"x\":[60],\"xaxis\":\"x\",\"y\":[3],\"yaxis\":\"y\",\"type\":\"scatter\"},{\"customdata\":[[59.26]],\"hovertemplate\":\"Category=Digital,Art,Collectibles,PFP,Image,Design,Pixel Art<br>Sales=%{x}<br>Owners=%{y}<br>Assets=%{marker.size}<br>Owner_Asset_Ratio=%{customdata[0]}<extra></extra>\",\"legendgroup\":\"Digital,Art,Collectibles,PFP,Image,Design,Pixel Art\",\"marker\":{\"color\":\"#FECB52\",\"size\":[27],\"sizemode\":\"area\",\"sizeref\":8.3,\"symbol\":\"circle\"},\"mode\":\"markers\",\"name\":\"Digital,Art,Collectibles,PFP,Image,Design,Pixel Art\",\"orientation\":\"v\",\"showlegend\":true,\"x\":[136],\"xaxis\":\"x\",\"y\":[16],\"yaxis\":\"y\",\"type\":\"scatter\"},{\"customdata\":[[64.86]],\"hovertemplate\":\"Category=Art,Collectibles,2D,Metaverse<br>Sales=%{x}<br>Owners=%{y}<br>Assets=%{marker.size}<br>Owner_Asset_Ratio=%{customdata[0]}<extra></extra>\",\"legendgroup\":\"Art,Collectibles,2D,Metaverse\",\"marker\":{\"color\":\"#636efa\",\"size\":[111],\"sizemode\":\"area\",\"sizeref\":8.3,\"symbol\":\"circle\"},\"mode\":\"markers\",\"name\":\"Art,Collectibles,2D,Metaverse\",\"orientation\":\"v\",\"showlegend\":true,\"x\":[317],\"xaxis\":\"x\",\"y\":[72],\"yaxis\":\"y\",\"type\":\"scatter\"},{\"customdata\":[[75.0]],\"hovertemplate\":\"Category=P2E,Collectibles<br>Sales=%{x}<br>Owners=%{y}<br>Assets=%{marker.size}<br>Owner_Asset_Ratio=%{customdata[0]}<extra></extra>\",\"legendgroup\":\"P2E,Collectibles\",\"marker\":{\"color\":\"#EF553B\",\"size\":[32],\"sizemode\":\"area\",\"sizeref\":8.3,\"symbol\":\"circle\"},\"mode\":\"markers\",\"name\":\"P2E,Collectibles\",\"orientation\":\"v\",\"showlegend\":true,\"x\":[29],\"xaxis\":\"x\",\"y\":[24],\"yaxis\":\"y\",\"type\":\"scatter\"},{\"customdata\":[[66.67]],\"hovertemplate\":\"Category=Digital,Art,PFP,Drawing,Metaverse,Collectibles<br>Sales=%{x}<br>Owners=%{y}<br>Assets=%{marker.size}<br>Owner_Asset_Ratio=%{customdata[0]}<extra></extra>\",\"legendgroup\":\"Digital,Art,PFP,Drawing,Metaverse,Collectibles\",\"marker\":{\"color\":\"#00cc96\",\"size\":[6],\"sizemode\":\"area\",\"sizeref\":8.3,\"symbol\":\"circle\"},\"mode\":\"markers\",\"name\":\"Digital,Art,PFP,Drawing,Metaverse,Collectibles\",\"orientation\":\"v\",\"showlegend\":true,\"x\":[12],\"xaxis\":\"x\",\"y\":[4],\"yaxis\":\"y\",\"type\":\"scatter\"},{\"customdata\":[[17.58]],\"hovertemplate\":\"Category=Digital,Collectibles,2D,Art<br>Sales=%{x}<br>Owners=%{y}<br>Assets=%{marker.size}<br>Owner_Asset_Ratio=%{customdata[0]}<extra></extra>\",\"legendgroup\":\"Digital,Collectibles,2D,Art\",\"marker\":{\"color\":\"#ab63fa\",\"size\":[182],\"sizemode\":\"area\",\"sizeref\":8.3,\"symbol\":\"circle\"},\"mode\":\"markers\",\"name\":\"Digital,Collectibles,2D,Art\",\"orientation\":\"v\",\"showlegend\":true,\"x\":[137],\"xaxis\":\"x\",\"y\":[32],\"yaxis\":\"y\",\"type\":\"scatter\"},{\"customdata\":[[83.08]],\"hovertemplate\":\"Category=Digital,Art,Video,Graphics<br>Sales=%{x}<br>Owners=%{y}<br>Assets=%{marker.size}<br>Owner_Asset_Ratio=%{customdata[0]}<extra></extra>\",\"legendgroup\":\"Digital,Art,Video,Graphics\",\"marker\":{\"color\":\"#FFA15A\",\"size\":[65],\"sizemode\":\"area\",\"sizeref\":8.3,\"symbol\":\"circle\"},\"mode\":\"markers\",\"name\":\"Digital,Art,Video,Graphics\",\"orientation\":\"v\",\"showlegend\":true,\"x\":[22],\"xaxis\":\"x\",\"y\":[54],\"yaxis\":\"y\",\"type\":\"scatter\"},{\"customdata\":[[68.52],[89.66]],\"hovertemplate\":\"Category=3D<br>Sales=%{x}<br>Owners=%{y}<br>Assets=%{marker.size}<br>Owner_Asset_Ratio=%{customdata[0]}<extra></extra>\",\"legendgroup\":\"3D\",\"marker\":{\"color\":\"#19d3f3\",\"size\":[54,29],\"sizemode\":\"area\",\"sizeref\":8.3,\"symbol\":\"circle\"},\"mode\":\"markers\",\"name\":\"3D\",\"orientation\":\"v\",\"showlegend\":true,\"x\":[359,20],\"xaxis\":\"x\",\"y\":[37,26],\"yaxis\":\"y\",\"type\":\"scatter\"},{\"customdata\":[[67.14]],\"hovertemplate\":\"Category=Metaverse,Art,Collectibles,2D,Image,Digital<br>Sales=%{x}<br>Owners=%{y}<br>Assets=%{marker.size}<br>Owner_Asset_Ratio=%{customdata[0]}<extra></extra>\",\"legendgroup\":\"Metaverse,Art,Collectibles,2D,Image,Digital\",\"marker\":{\"color\":\"#FF6692\",\"size\":[70],\"sizemode\":\"area\",\"sizeref\":8.3,\"symbol\":\"circle\"},\"mode\":\"markers\",\"name\":\"Metaverse,Art,Collectibles,2D,Image,Digital\",\"orientation\":\"v\",\"showlegend\":true,\"x\":[57],\"xaxis\":\"x\",\"y\":[47],\"yaxis\":\"y\",\"type\":\"scatter\"},{\"customdata\":[[33.33]],\"hovertemplate\":\"Category=Art,Painting,AI,Image,Digital,Collectibles<br>Sales=%{x}<br>Owners=%{y}<br>Assets=%{marker.size}<br>Owner_Asset_Ratio=%{customdata[0]}<extra></extra>\",\"legendgroup\":\"Art,Painting,AI,Image,Digital,Collectibles\",\"marker\":{\"color\":\"#B6E880\",\"size\":[9],\"sizemode\":\"area\",\"sizeref\":8.3,\"symbol\":\"circle\"},\"mode\":\"markers\",\"name\":\"Art,Painting,AI,Image,Digital,Collectibles\",\"orientation\":\"v\",\"showlegend\":true,\"x\":[17],\"xaxis\":\"x\",\"y\":[3],\"yaxis\":\"y\",\"type\":\"scatter\"},{\"customdata\":[[28.28]],\"hovertemplate\":\"Category=Digital,Metaverse,Art,Graphics,3D,Design,Image<br>Sales=%{x}<br>Owners=%{y}<br>Assets=%{marker.size}<br>Owner_Asset_Ratio=%{customdata[0]}<extra></extra>\",\"legendgroup\":\"Digital,Metaverse,Art,Graphics,3D,Design,Image\",\"marker\":{\"color\":\"#FF97FF\",\"size\":[99],\"sizemode\":\"area\",\"sizeref\":8.3,\"symbol\":\"circle\"},\"mode\":\"markers\",\"name\":\"Digital,Metaverse,Art,Graphics,3D,Design,Image\",\"orientation\":\"v\",\"showlegend\":true,\"x\":[85],\"xaxis\":\"x\",\"y\":[28],\"yaxis\":\"y\",\"type\":\"scatter\"},{\"customdata\":[[61.4]],\"hovertemplate\":\"Category=Collectibles,Digital,2D,Art,Image,Drawing<br>Sales=%{x}<br>Owners=%{y}<br>Assets=%{marker.size}<br>Owner_Asset_Ratio=%{customdata[0]}<extra></extra>\",\"legendgroup\":\"Collectibles,Digital,2D,Art,Image,Drawing\",\"marker\":{\"color\":\"#FECB52\",\"size\":[57],\"sizemode\":\"area\",\"sizeref\":8.3,\"symbol\":\"circle\"},\"mode\":\"markers\",\"name\":\"Collectibles,Digital,2D,Art,Image,Drawing\",\"orientation\":\"v\",\"showlegend\":true,\"x\":[236],\"xaxis\":\"x\",\"y\":[35],\"yaxis\":\"y\",\"type\":\"scatter\"},{\"customdata\":[[81.82]],\"hovertemplate\":\"Category=Metaverse,Art,Collectibles<br>Sales=%{x}<br>Owners=%{y}<br>Assets=%{marker.size}<br>Owner_Asset_Ratio=%{customdata[0]}<extra></extra>\",\"legendgroup\":\"Metaverse,Art,Collectibles\",\"marker\":{\"color\":\"#636efa\",\"size\":[33],\"sizemode\":\"area\",\"sizeref\":8.3,\"symbol\":\"circle\"},\"mode\":\"markers\",\"name\":\"Metaverse,Art,Collectibles\",\"orientation\":\"v\",\"showlegend\":true,\"x\":[37],\"xaxis\":\"x\",\"y\":[27],\"yaxis\":\"y\",\"type\":\"scatter\"},{\"customdata\":[[32.65]],\"hovertemplate\":\"Category=Digital,Art,Collectibles,Trading Cards,2D,Drawing,Street Art,Image,Design<br>Sales=%{x}<br>Owners=%{y}<br>Assets=%{marker.size}<br>Owner_Asset_Ratio=%{customdata[0]}<extra></extra>\",\"legendgroup\":\"Digital,Art,Collectibles,Trading Cards,2D,Drawing,Street Art,Image,Design\",\"marker\":{\"color\":\"#EF553B\",\"size\":[49],\"sizemode\":\"area\",\"sizeref\":8.3,\"symbol\":\"circle\"},\"mode\":\"markers\",\"name\":\"Digital,Art,Collectibles,Trading Cards,2D,Drawing,Street Art,Image,Design\",\"orientation\":\"v\",\"showlegend\":true,\"x\":[86],\"xaxis\":\"x\",\"y\":[16],\"yaxis\":\"y\",\"type\":\"scatter\"},{\"customdata\":[[4.32]],\"hovertemplate\":\"Category=Art,Collectibles,Metaverse<br>Sales=%{x}<br>Owners=%{y}<br>Assets=%{marker.size}<br>Owner_Asset_Ratio=%{customdata[0]}<extra></extra>\",\"legendgroup\":\"Art,Collectibles,Metaverse\",\"marker\":{\"color\":\"#00cc96\",\"size\":[301],\"sizemode\":\"area\",\"sizeref\":8.3,\"symbol\":\"circle\"},\"mode\":\"markers\",\"name\":\"Art,Collectibles,Metaverse\",\"orientation\":\"v\",\"showlegend\":true,\"x\":[43],\"xaxis\":\"x\",\"y\":[13],\"yaxis\":\"y\",\"type\":\"scatter\"},{\"customdata\":[[85.71],[67.87]],\"hovertemplate\":\"Category=Metaverse,Collectibles<br>Sales=%{x}<br>Owners=%{y}<br>Assets=%{marker.size}<br>Owner_Asset_Ratio=%{customdata[0]}<extra></extra>\",\"legendgroup\":\"Metaverse,Collectibles\",\"marker\":{\"color\":\"#ab63fa\",\"size\":[7,221],\"sizemode\":\"area\",\"sizeref\":8.3,\"symbol\":\"circle\"},\"mode\":\"markers\",\"name\":\"Metaverse,Collectibles\",\"orientation\":\"v\",\"showlegend\":true,\"x\":[10,133],\"xaxis\":\"x\",\"y\":[6,150],\"yaxis\":\"y\",\"type\":\"scatter\"},{\"customdata\":[[82.5]],\"hovertemplate\":\"Category=Digital,Collectibles,PFP<br>Sales=%{x}<br>Owners=%{y}<br>Assets=%{marker.size}<br>Owner_Asset_Ratio=%{customdata[0]}<extra></extra>\",\"legendgroup\":\"Digital,Collectibles,PFP\",\"marker\":{\"color\":\"#FFA15A\",\"size\":[40],\"sizemode\":\"area\",\"sizeref\":8.3,\"symbol\":\"circle\"},\"mode\":\"markers\",\"name\":\"Digital,Collectibles,PFP\",\"orientation\":\"v\",\"showlegend\":true,\"x\":[83],\"xaxis\":\"x\",\"y\":[33],\"yaxis\":\"y\",\"type\":\"scatter\"},{\"customdata\":[[1.92]],\"hovertemplate\":\"Category=Metaverse<br>Sales=%{x}<br>Owners=%{y}<br>Assets=%{marker.size}<br>Owner_Asset_Ratio=%{customdata[0]}<extra></extra>\",\"legendgroup\":\"Metaverse\",\"marker\":{\"color\":\"#19d3f3\",\"size\":[156],\"sizemode\":\"area\",\"sizeref\":8.3,\"symbol\":\"circle\"},\"mode\":\"markers\",\"name\":\"Metaverse\",\"orientation\":\"v\",\"showlegend\":true,\"x\":[19],\"xaxis\":\"x\",\"y\":[3],\"yaxis\":\"y\",\"type\":\"scatter\"},{\"customdata\":[[65.31]],\"hovertemplate\":\"Category=Digital,Art,Graphics,Drawing,Design<br>Sales=%{x}<br>Owners=%{y}<br>Assets=%{marker.size}<br>Owner_Asset_Ratio=%{customdata[0]}<extra></extra>\",\"legendgroup\":\"Digital,Art,Graphics,Drawing,Design\",\"marker\":{\"color\":\"#FF6692\",\"size\":[343],\"sizemode\":\"area\",\"sizeref\":8.3,\"symbol\":\"circle\"},\"mode\":\"markers\",\"name\":\"Digital,Art,Graphics,Drawing,Design\",\"orientation\":\"v\",\"showlegend\":true,\"x\":[316],\"xaxis\":\"x\",\"y\":[224],\"yaxis\":\"y\",\"type\":\"scatter\"},{\"customdata\":[[32.26]],\"hovertemplate\":\"Category=Digital,Collectibles,2D,Ticket<br>Sales=%{x}<br>Owners=%{y}<br>Assets=%{marker.size}<br>Owner_Asset_Ratio=%{customdata[0]}<extra></extra>\",\"legendgroup\":\"Digital,Collectibles,2D,Ticket\",\"marker\":{\"color\":\"#B6E880\",\"size\":[62],\"sizemode\":\"area\",\"sizeref\":8.3,\"symbol\":\"circle\"},\"mode\":\"markers\",\"name\":\"Digital,Collectibles,2D,Ticket\",\"orientation\":\"v\",\"showlegend\":true,\"x\":[128],\"xaxis\":\"x\",\"y\":[20],\"yaxis\":\"y\",\"type\":\"scatter\"},{\"customdata\":[[16.46]],\"hovertemplate\":\"Category=Digital,Collectibles<br>Sales=%{x}<br>Owners=%{y}<br>Assets=%{marker.size}<br>Owner_Asset_Ratio=%{customdata[0]}<extra></extra>\",\"legendgroup\":\"Digital,Collectibles\",\"marker\":{\"color\":\"#FF97FF\",\"size\":[79],\"sizemode\":\"area\",\"sizeref\":8.3,\"symbol\":\"circle\"},\"mode\":\"markers\",\"name\":\"Digital,Collectibles\",\"orientation\":\"v\",\"showlegend\":true,\"x\":[24],\"xaxis\":\"x\",\"y\":[13],\"yaxis\":\"y\",\"type\":\"scatter\"},{\"customdata\":[[37.29]],\"hovertemplate\":\"Category=PFP,Collectibles,2D<br>Sales=%{x}<br>Owners=%{y}<br>Assets=%{marker.size}<br>Owner_Asset_Ratio=%{customdata[0]}<extra></extra>\",\"legendgroup\":\"PFP,Collectibles,2D\",\"marker\":{\"color\":\"#FECB52\",\"size\":[59],\"sizemode\":\"area\",\"sizeref\":8.3,\"symbol\":\"circle\"},\"mode\":\"markers\",\"name\":\"PFP,Collectibles,2D\",\"orientation\":\"v\",\"showlegend\":true,\"x\":[80],\"xaxis\":\"x\",\"y\":[22],\"yaxis\":\"y\",\"type\":\"scatter\"},{\"customdata\":[[52.27]],\"hovertemplate\":\"Category=Metaverse,Digital,Collectibles,Art,3D,AI<br>Sales=%{x}<br>Owners=%{y}<br>Assets=%{marker.size}<br>Owner_Asset_Ratio=%{customdata[0]}<extra></extra>\",\"legendgroup\":\"Metaverse,Digital,Collectibles,Art,3D,AI\",\"marker\":{\"color\":\"#636efa\",\"size\":[44],\"sizemode\":\"area\",\"sizeref\":8.3,\"symbol\":\"circle\"},\"mode\":\"markers\",\"name\":\"Metaverse,Digital,Collectibles,Art,3D,AI\",\"orientation\":\"v\",\"showlegend\":true,\"x\":[11],\"xaxis\":\"x\",\"y\":[23],\"yaxis\":\"y\",\"type\":\"scatter\"},{\"customdata\":[[19.23]],\"hovertemplate\":\"Category=Digital,Metaverse,Art,Collectibles,Trading Cards,Immaterial,2D,Design,Picture,Image<br>Sales=%{x}<br>Owners=%{y}<br>Assets=%{marker.size}<br>Owner_Asset_Ratio=%{customdata[0]}<extra></extra>\",\"legendgroup\":\"Digital,Metaverse,Art,Collectibles,Trading Cards,Immaterial,2D,Design,Picture,Image\",\"marker\":{\"color\":\"#EF553B\",\"size\":[52],\"sizemode\":\"area\",\"sizeref\":8.3,\"symbol\":\"circle\"},\"mode\":\"markers\",\"name\":\"Digital,Metaverse,Art,Collectibles,Trading Cards,Immaterial,2D,Design,Picture,Image\",\"orientation\":\"v\",\"showlegend\":true,\"x\":[32],\"xaxis\":\"x\",\"y\":[10],\"yaxis\":\"y\",\"type\":\"scatter\"},{\"customdata\":[[6.06]],\"hovertemplate\":\"Category=Digital,Metaverse,Art,Artifact,Trading Cards,Collectibles,Design<br>Sales=%{x}<br>Owners=%{y}<br>Assets=%{marker.size}<br>Owner_Asset_Ratio=%{customdata[0]}<extra></extra>\",\"legendgroup\":\"Digital,Metaverse,Art,Artifact,Trading Cards,Collectibles,Design\",\"marker\":{\"color\":\"#00cc96\",\"size\":[66],\"sizemode\":\"area\",\"sizeref\":8.3,\"symbol\":\"circle\"},\"mode\":\"markers\",\"name\":\"Digital,Metaverse,Art,Artifact,Trading Cards,Collectibles,Design\",\"orientation\":\"v\",\"showlegend\":true,\"x\":[29],\"xaxis\":\"x\",\"y\":[4],\"yaxis\":\"y\",\"type\":\"scatter\"},{\"customdata\":[[7.79]],\"hovertemplate\":\"Category=Digital,Metaverse,Art,Photography,Immaterial,Collectibles,Design,Image<br>Sales=%{x}<br>Owners=%{y}<br>Assets=%{marker.size}<br>Owner_Asset_Ratio=%{customdata[0]}<extra></extra>\",\"legendgroup\":\"Digital,Metaverse,Art,Photography,Immaterial,Collectibles,Design,Image\",\"marker\":{\"color\":\"#ab63fa\",\"size\":[77],\"sizemode\":\"area\",\"sizeref\":8.3,\"symbol\":\"circle\"},\"mode\":\"markers\",\"name\":\"Digital,Metaverse,Art,Photography,Immaterial,Collectibles,Design,Image\",\"orientation\":\"v\",\"showlegend\":true,\"x\":[10],\"xaxis\":\"x\",\"y\":[6],\"yaxis\":\"y\",\"type\":\"scatter\"},{\"customdata\":[[30.77]],\"hovertemplate\":\"Category=Collectibles,3D,Design,Art,Graphics,PFP<br>Sales=%{x}<br>Owners=%{y}<br>Assets=%{marker.size}<br>Owner_Asset_Ratio=%{customdata[0]}<extra></extra>\",\"legendgroup\":\"Collectibles,3D,Design,Art,Graphics,PFP\",\"marker\":{\"color\":\"#FFA15A\",\"size\":[65],\"sizemode\":\"area\",\"sizeref\":8.3,\"symbol\":\"circle\"},\"mode\":\"markers\",\"name\":\"Collectibles,3D,Design,Art,Graphics,PFP\",\"orientation\":\"v\",\"showlegend\":true,\"x\":[77],\"xaxis\":\"x\",\"y\":[20],\"yaxis\":\"y\",\"type\":\"scatter\"},{\"customdata\":[[39.29]],\"hovertemplate\":\"Category=Metaverse,Collectibles,Digital,2D,Graphics<br>Sales=%{x}<br>Owners=%{y}<br>Assets=%{marker.size}<br>Owner_Asset_Ratio=%{customdata[0]}<extra></extra>\",\"legendgroup\":\"Metaverse,Collectibles,Digital,2D,Graphics\",\"marker\":{\"color\":\"#19d3f3\",\"size\":[28],\"sizemode\":\"area\",\"sizeref\":8.3,\"symbol\":\"circle\"},\"mode\":\"markers\",\"name\":\"Metaverse,Collectibles,Digital,2D,Graphics\",\"orientation\":\"v\",\"showlegend\":true,\"x\":[41],\"xaxis\":\"x\",\"y\":[11],\"yaxis\":\"y\",\"type\":\"scatter\"},{\"customdata\":[[13.16]],\"hovertemplate\":\"Category=Digital,3D,Video,Design,Art,Graphics<br>Sales=%{x}<br>Owners=%{y}<br>Assets=%{marker.size}<br>Owner_Asset_Ratio=%{customdata[0]}<extra></extra>\",\"legendgroup\":\"Digital,3D,Video,Design,Art,Graphics\",\"marker\":{\"color\":\"#FF6692\",\"size\":[38],\"sizemode\":\"area\",\"sizeref\":8.3,\"symbol\":\"circle\"},\"mode\":\"markers\",\"name\":\"Digital,3D,Video,Design,Art,Graphics\",\"orientation\":\"v\",\"showlegend\":true,\"x\":[11],\"xaxis\":\"x\",\"y\":[5],\"yaxis\":\"y\",\"type\":\"scatter\"},{\"customdata\":[[61.92],[79.07],[25.0]],\"hovertemplate\":\"Category=Digital<br>Sales=%{x}<br>Owners=%{y}<br>Assets=%{marker.size}<br>Owner_Asset_Ratio=%{customdata[0]}<extra></extra>\",\"legendgroup\":\"Digital\",\"marker\":{\"color\":\"#B6E880\",\"size\":[281,43,4],\"sizemode\":\"area\",\"sizeref\":8.3,\"symbol\":\"circle\"},\"mode\":\"markers\",\"name\":\"Digital\",\"orientation\":\"v\",\"showlegend\":true,\"x\":[527,27,3],\"xaxis\":\"x\",\"y\":[174,34,1],\"yaxis\":\"y\",\"type\":\"scatter\"},{\"customdata\":[[69.01]],\"hovertemplate\":\"Category=Digital,Metaverse,Art,Trading Cards,PFP,2D,Picture,Design,Image,AI,Collectibles<br>Sales=%{x}<br>Owners=%{y}<br>Assets=%{marker.size}<br>Owner_Asset_Ratio=%{customdata[0]}<extra></extra>\",\"legendgroup\":\"Digital,Metaverse,Art,Trading Cards,PFP,2D,Picture,Design,Image,AI,Collectibles\",\"marker\":{\"color\":\"#FF97FF\",\"size\":[71],\"sizemode\":\"area\",\"sizeref\":8.3,\"symbol\":\"circle\"},\"mode\":\"markers\",\"name\":\"Digital,Metaverse,Art,Trading Cards,PFP,2D,Picture,Design,Image,AI,Collectibles\",\"orientation\":\"v\",\"showlegend\":true,\"x\":[60],\"xaxis\":\"x\",\"y\":[49],\"yaxis\":\"y\",\"type\":\"scatter\"},{\"customdata\":[[18.75]],\"hovertemplate\":\"Category=Digital,3D,Video,Collectibles,Metaverse<br>Sales=%{x}<br>Owners=%{y}<br>Assets=%{marker.size}<br>Owner_Asset_Ratio=%{customdata[0]}<extra></extra>\",\"legendgroup\":\"Digital,3D,Video,Collectibles,Metaverse\",\"marker\":{\"color\":\"#FECB52\",\"size\":[32],\"sizemode\":\"area\",\"sizeref\":8.3,\"symbol\":\"circle\"},\"mode\":\"markers\",\"name\":\"Digital,3D,Video,Collectibles,Metaverse\",\"orientation\":\"v\",\"showlegend\":true,\"x\":[26],\"xaxis\":\"x\",\"y\":[6],\"yaxis\":\"y\",\"type\":\"scatter\"},{\"customdata\":[[50.0]],\"hovertemplate\":\"Category=Digital,Art,Collectibles,Artifact<br>Sales=%{x}<br>Owners=%{y}<br>Assets=%{marker.size}<br>Owner_Asset_Ratio=%{customdata[0]}<extra></extra>\",\"legendgroup\":\"Digital,Art,Collectibles,Artifact\",\"marker\":{\"color\":\"#636efa\",\"size\":[22],\"sizemode\":\"area\",\"sizeref\":8.3,\"symbol\":\"circle\"},\"mode\":\"markers\",\"name\":\"Digital,Art,Collectibles,Artifact\",\"orientation\":\"v\",\"showlegend\":true,\"x\":[6],\"xaxis\":\"x\",\"y\":[11],\"yaxis\":\"y\",\"type\":\"scatter\"},{\"customdata\":[[12.5]],\"hovertemplate\":\"Category=Digital,2D,Art,Collectibles<br>Sales=%{x}<br>Owners=%{y}<br>Assets=%{marker.size}<br>Owner_Asset_Ratio=%{customdata[0]}<extra></extra>\",\"legendgroup\":\"Digital,2D,Art,Collectibles\",\"marker\":{\"color\":\"#EF553B\",\"size\":[8],\"sizemode\":\"area\",\"sizeref\":8.3,\"symbol\":\"circle\"},\"mode\":\"markers\",\"name\":\"Digital,2D,Art,Collectibles\",\"orientation\":\"v\",\"showlegend\":true,\"x\":[1],\"xaxis\":\"x\",\"y\":[1],\"yaxis\":\"y\",\"type\":\"scatter\"},{\"customdata\":[[4.64]],\"hovertemplate\":\"Category=Music,Art,Collectibles,Drawing<br>Sales=%{x}<br>Owners=%{y}<br>Assets=%{marker.size}<br>Owner_Asset_Ratio=%{customdata[0]}<extra></extra>\",\"legendgroup\":\"Music,Art,Collectibles,Drawing\",\"marker\":{\"color\":\"#00cc96\",\"size\":[151],\"sizemode\":\"area\",\"sizeref\":8.3,\"symbol\":\"circle\"},\"mode\":\"markers\",\"name\":\"Music,Art,Collectibles,Drawing\",\"orientation\":\"v\",\"showlegend\":true,\"x\":[38],\"xaxis\":\"x\",\"y\":[7],\"yaxis\":\"y\",\"type\":\"scatter\"},{\"customdata\":[[50.7]],\"hovertemplate\":\"Category=Collectibles,Digital,PFP<br>Sales=%{x}<br>Owners=%{y}<br>Assets=%{marker.size}<br>Owner_Asset_Ratio=%{customdata[0]}<extra></extra>\",\"legendgroup\":\"Collectibles,Digital,PFP\",\"marker\":{\"color\":\"#ab63fa\",\"size\":[142],\"sizemode\":\"area\",\"sizeref\":8.3,\"symbol\":\"circle\"},\"mode\":\"markers\",\"name\":\"Collectibles,Digital,PFP\",\"orientation\":\"v\",\"showlegend\":true,\"x\":[323],\"xaxis\":\"x\",\"y\":[72],\"yaxis\":\"y\",\"type\":\"scatter\"},{\"customdata\":[[10.53]],\"hovertemplate\":\"Category=Art,Physical,Collectibles,Music,Audio,3D,Painting,Sculpture,Photography<br>Sales=%{x}<br>Owners=%{y}<br>Assets=%{marker.size}<br>Owner_Asset_Ratio=%{customdata[0]}<extra></extra>\",\"legendgroup\":\"Art,Physical,Collectibles,Music,Audio,3D,Painting,Sculpture,Photography\",\"marker\":{\"color\":\"#FFA15A\",\"size\":[152],\"sizemode\":\"area\",\"sizeref\":8.3,\"symbol\":\"circle\"},\"mode\":\"markers\",\"name\":\"Art,Physical,Collectibles,Music,Audio,3D,Painting,Sculpture,Photography\",\"orientation\":\"v\",\"showlegend\":true,\"x\":[81],\"xaxis\":\"x\",\"y\":[16],\"yaxis\":\"y\",\"type\":\"scatter\"},{\"customdata\":[[66.67]],\"hovertemplate\":\"Category=Digital,3D,Metaverse,Art,Graphics,Video<br>Sales=%{x}<br>Owners=%{y}<br>Assets=%{marker.size}<br>Owner_Asset_Ratio=%{customdata[0]}<extra></extra>\",\"legendgroup\":\"Digital,3D,Metaverse,Art,Graphics,Video\",\"marker\":{\"color\":\"#19d3f3\",\"size\":[9],\"sizemode\":\"area\",\"sizeref\":8.3,\"symbol\":\"circle\"},\"mode\":\"markers\",\"name\":\"Digital,3D,Metaverse,Art,Graphics,Video\",\"orientation\":\"v\",\"showlegend\":true,\"x\":[15],\"xaxis\":\"x\",\"y\":[6],\"yaxis\":\"y\",\"type\":\"scatter\"},{\"customdata\":[[53.1]],\"hovertemplate\":\"Category=Digital,Metaverse,Immaterial,Art,Collectibles,Privilege,Ticket<br>Sales=%{x}<br>Owners=%{y}<br>Assets=%{marker.size}<br>Owner_Asset_Ratio=%{customdata[0]}<extra></extra>\",\"legendgroup\":\"Digital,Metaverse,Immaterial,Art,Collectibles,Privilege,Ticket\",\"marker\":{\"color\":\"#FF6692\",\"size\":[113],\"sizemode\":\"area\",\"sizeref\":8.3,\"symbol\":\"circle\"},\"mode\":\"markers\",\"name\":\"Digital,Metaverse,Immaterial,Art,Collectibles,Privilege,Ticket\",\"orientation\":\"v\",\"showlegend\":true,\"x\":[122],\"xaxis\":\"x\",\"y\":[60],\"yaxis\":\"y\",\"type\":\"scatter\"},{\"customdata\":[[45.83]],\"hovertemplate\":\"Category=Art,3D,Digital,PFP,Design,Ticket<br>Sales=%{x}<br>Owners=%{y}<br>Assets=%{marker.size}<br>Owner_Asset_Ratio=%{customdata[0]}<extra></extra>\",\"legendgroup\":\"Art,3D,Digital,PFP,Design,Ticket\",\"marker\":{\"color\":\"#B6E880\",\"size\":[96],\"sizemode\":\"area\",\"sizeref\":8.3,\"symbol\":\"circle\"},\"mode\":\"markers\",\"name\":\"Art,3D,Digital,PFP,Design,Ticket\",\"orientation\":\"v\",\"showlegend\":true,\"x\":[122],\"xaxis\":\"x\",\"y\":[44],\"yaxis\":\"y\",\"type\":\"scatter\"},{\"customdata\":[[41.94]],\"hovertemplate\":\"Category=Digital,Art,Collectibles,Drawing,PFP,Picture,Painting,2D<br>Sales=%{x}<br>Owners=%{y}<br>Assets=%{marker.size}<br>Owner_Asset_Ratio=%{customdata[0]}<extra></extra>\",\"legendgroup\":\"Digital,Art,Collectibles,Drawing,PFP,Picture,Painting,2D\",\"marker\":{\"color\":\"#FF97FF\",\"size\":[62],\"sizemode\":\"area\",\"sizeref\":8.3,\"symbol\":\"circle\"},\"mode\":\"markers\",\"name\":\"Digital,Art,Collectibles,Drawing,PFP,Picture,Painting,2D\",\"orientation\":\"v\",\"showlegend\":true,\"x\":[62],\"xaxis\":\"x\",\"y\":[26],\"yaxis\":\"y\",\"type\":\"scatter\"},{\"customdata\":[[100.0]],\"hovertemplate\":\"Category=PFP,Metaverse,Drawing,Art,Collectibles,2D,Digital<br>Sales=%{x}<br>Owners=%{y}<br>Assets=%{marker.size}<br>Owner_Asset_Ratio=%{customdata[0]}<extra></extra>\",\"legendgroup\":\"PFP,Metaverse,Drawing,Art,Collectibles,2D,Digital\",\"marker\":{\"color\":\"#FECB52\",\"size\":[2],\"sizemode\":\"area\",\"sizeref\":8.3,\"symbol\":\"circle\"},\"mode\":\"markers\",\"name\":\"PFP,Metaverse,Drawing,Art,Collectibles,2D,Digital\",\"orientation\":\"v\",\"showlegend\":true,\"x\":[26],\"xaxis\":\"x\",\"y\":[2],\"yaxis\":\"y\",\"type\":\"scatter\"},{\"customdata\":[[90.0]],\"hovertemplate\":\"Category=Digital,Art,Collectibles,2D,Image<br>Sales=%{x}<br>Owners=%{y}<br>Assets=%{marker.size}<br>Owner_Asset_Ratio=%{customdata[0]}<extra></extra>\",\"legendgroup\":\"Digital,Art,Collectibles,2D,Image\",\"marker\":{\"color\":\"#636efa\",\"size\":[40],\"sizemode\":\"area\",\"sizeref\":8.3,\"symbol\":\"circle\"},\"mode\":\"markers\",\"name\":\"Digital,Art,Collectibles,2D,Image\",\"orientation\":\"v\",\"showlegend\":true,\"x\":[35],\"xaxis\":\"x\",\"y\":[36],\"yaxis\":\"y\",\"type\":\"scatter\"},{\"customdata\":[[47.37]],\"hovertemplate\":\"Category=Digital,Trading Cards,Graphics,Design,Image,Drawing,Art,2D,Collectibles<br>Sales=%{x}<br>Owners=%{y}<br>Assets=%{marker.size}<br>Owner_Asset_Ratio=%{customdata[0]}<extra></extra>\",\"legendgroup\":\"Digital,Trading Cards,Graphics,Design,Image,Drawing,Art,2D,Collectibles\",\"marker\":{\"color\":\"#EF553B\",\"size\":[57],\"sizemode\":\"area\",\"sizeref\":8.3,\"symbol\":\"circle\"},\"mode\":\"markers\",\"name\":\"Digital,Trading Cards,Graphics,Design,Image,Drawing,Art,2D,Collectibles\",\"orientation\":\"v\",\"showlegend\":true,\"x\":[82],\"xaxis\":\"x\",\"y\":[27],\"yaxis\":\"y\",\"type\":\"scatter\"},{\"customdata\":[[56.76]],\"hovertemplate\":\"Category=Art,PFP,Collectibles,Metaverse,Digital,Graphics,2D,Design,Drawing<br>Sales=%{x}<br>Owners=%{y}<br>Assets=%{marker.size}<br>Owner_Asset_Ratio=%{customdata[0]}<extra></extra>\",\"legendgroup\":\"Art,PFP,Collectibles,Metaverse,Digital,Graphics,2D,Design,Drawing\",\"marker\":{\"color\":\"#00cc96\",\"size\":[37],\"sizemode\":\"area\",\"sizeref\":8.3,\"symbol\":\"circle\"},\"mode\":\"markers\",\"name\":\"Art,PFP,Collectibles,Metaverse,Digital,Graphics,2D,Design,Drawing\",\"orientation\":\"v\",\"showlegend\":true,\"x\":[28],\"xaxis\":\"x\",\"y\":[21],\"yaxis\":\"y\",\"type\":\"scatter\"},{\"customdata\":[[83.33]],\"hovertemplate\":\"Category=Image,Art,Collectibles,3D,Design,Graphics<br>Sales=%{x}<br>Owners=%{y}<br>Assets=%{marker.size}<br>Owner_Asset_Ratio=%{customdata[0]}<extra></extra>\",\"legendgroup\":\"Image,Art,Collectibles,3D,Design,Graphics\",\"marker\":{\"color\":\"#ab63fa\",\"size\":[18],\"sizemode\":\"area\",\"sizeref\":8.3,\"symbol\":\"circle\"},\"mode\":\"markers\",\"name\":\"Image,Art,Collectibles,3D,Design,Graphics\",\"orientation\":\"v\",\"showlegend\":true,\"x\":[15],\"xaxis\":\"x\",\"y\":[15],\"yaxis\":\"y\",\"type\":\"scatter\"},{\"customdata\":[[44.0]],\"hovertemplate\":\"Category=Digital,Art,Metaverse,PFP,Graphics,3D,Collectibles,Design<br>Sales=%{x}<br>Owners=%{y}<br>Assets=%{marker.size}<br>Owner_Asset_Ratio=%{customdata[0]}<extra></extra>\",\"legendgroup\":\"Digital,Art,Metaverse,PFP,Graphics,3D,Collectibles,Design\",\"marker\":{\"color\":\"#FFA15A\",\"size\":[25],\"sizemode\":\"area\",\"sizeref\":8.3,\"symbol\":\"circle\"},\"mode\":\"markers\",\"name\":\"Digital,Art,Metaverse,PFP,Graphics,3D,Collectibles,Design\",\"orientation\":\"v\",\"showlegend\":true,\"x\":[16],\"xaxis\":\"x\",\"y\":[11],\"yaxis\":\"y\",\"type\":\"scatter\"},{\"customdata\":[[100.0],[70.37],[69.01]],\"hovertemplate\":\"Category=Collectibles,Art<br>Sales=%{x}<br>Owners=%{y}<br>Assets=%{marker.size}<br>Owner_Asset_Ratio=%{customdata[0]}<extra></extra>\",\"legendgroup\":\"Collectibles,Art\",\"marker\":{\"color\":\"#19d3f3\",\"size\":[1,54,71],\"sizemode\":\"area\",\"sizeref\":8.3,\"symbol\":\"circle\"},\"mode\":\"markers\",\"name\":\"Collectibles,Art\",\"orientation\":\"v\",\"showlegend\":true,\"x\":[33,32,12],\"xaxis\":\"x\",\"y\":[1,38,49],\"yaxis\":\"y\",\"type\":\"scatter\"},{\"customdata\":[[28.38]],\"hovertemplate\":\"Category=Art,PFP,Collectibles<br>Sales=%{x}<br>Owners=%{y}<br>Assets=%{marker.size}<br>Owner_Asset_Ratio=%{customdata[0]}<extra></extra>\",\"legendgroup\":\"Art,PFP,Collectibles\",\"marker\":{\"color\":\"#FF6692\",\"size\":[74],\"sizemode\":\"area\",\"sizeref\":8.3,\"symbol\":\"circle\"},\"mode\":\"markers\",\"name\":\"Art,PFP,Collectibles\",\"orientation\":\"v\",\"showlegend\":true,\"x\":[56],\"xaxis\":\"x\",\"y\":[21],\"yaxis\":\"y\",\"type\":\"scatter\"},{\"customdata\":[[64.62]],\"hovertemplate\":\"Category=Art,Digital,2D,Design,Image<br>Sales=%{x}<br>Owners=%{y}<br>Assets=%{marker.size}<br>Owner_Asset_Ratio=%{customdata[0]}<extra></extra>\",\"legendgroup\":\"Art,Digital,2D,Design,Image\",\"marker\":{\"color\":\"#B6E880\",\"size\":[65],\"sizemode\":\"area\",\"sizeref\":8.3,\"symbol\":\"circle\"},\"mode\":\"markers\",\"name\":\"Art,Digital,2D,Design,Image\",\"orientation\":\"v\",\"showlegend\":true,\"x\":[33],\"xaxis\":\"x\",\"y\":[42],\"yaxis\":\"y\",\"type\":\"scatter\"},{\"customdata\":[[72.73]],\"hovertemplate\":\"Category=Digital,PFP,Collectibles,3D,P2E<br>Sales=%{x}<br>Owners=%{y}<br>Assets=%{marker.size}<br>Owner_Asset_Ratio=%{customdata[0]}<extra></extra>\",\"legendgroup\":\"Digital,PFP,Collectibles,3D,P2E\",\"marker\":{\"color\":\"#FF97FF\",\"size\":[11],\"sizemode\":\"area\",\"sizeref\":8.3,\"symbol\":\"circle\"},\"mode\":\"markers\",\"name\":\"Digital,PFP,Collectibles,3D,P2E\",\"orientation\":\"v\",\"showlegend\":true,\"x\":[20],\"xaxis\":\"x\",\"y\":[8],\"yaxis\":\"y\",\"type\":\"scatter\"},{\"customdata\":[[75.0]],\"hovertemplate\":\"Category=Digital,Art,3D,Drawing,Print,Collectibles<br>Sales=%{x}<br>Owners=%{y}<br>Assets=%{marker.size}<br>Owner_Asset_Ratio=%{customdata[0]}<extra></extra>\",\"legendgroup\":\"Digital,Art,3D,Drawing,Print,Collectibles\",\"marker\":{\"color\":\"#FECB52\",\"size\":[4],\"sizemode\":\"area\",\"sizeref\":8.3,\"symbol\":\"circle\"},\"mode\":\"markers\",\"name\":\"Digital,Art,3D,Drawing,Print,Collectibles\",\"orientation\":\"v\",\"showlegend\":true,\"x\":[54],\"xaxis\":\"x\",\"y\":[3],\"yaxis\":\"y\",\"type\":\"scatter\"},{\"customdata\":[[29.03]],\"hovertemplate\":\"Category=Art,Collectibles,2D,Image,Graphics,Digital<br>Sales=%{x}<br>Owners=%{y}<br>Assets=%{marker.size}<br>Owner_Asset_Ratio=%{customdata[0]}<extra></extra>\",\"legendgroup\":\"Art,Collectibles,2D,Image,Graphics,Digital\",\"marker\":{\"color\":\"#636efa\",\"size\":[31],\"sizemode\":\"area\",\"sizeref\":8.3,\"symbol\":\"circle\"},\"mode\":\"markers\",\"name\":\"Art,Collectibles,2D,Image,Graphics,Digital\",\"orientation\":\"v\",\"showlegend\":true,\"x\":[21],\"xaxis\":\"x\",\"y\":[9],\"yaxis\":\"y\",\"type\":\"scatter\"},{\"customdata\":[[null]],\"hovertemplate\":\"Category=Digital,Privilege,Art,2D<br>Sales=%{x}<br>Owners=%{y}<br>Assets=%{marker.size}<br>Owner_Asset_Ratio=%{customdata[0]}<extra></extra>\",\"legendgroup\":\"Digital,Privilege,Art,2D\",\"marker\":{\"color\":\"#EF553B\",\"size\":[0],\"sizemode\":\"area\",\"sizeref\":8.3,\"symbol\":\"circle\"},\"mode\":\"markers\",\"name\":\"Digital,Privilege,Art,2D\",\"orientation\":\"v\",\"showlegend\":true,\"x\":[5],\"xaxis\":\"x\",\"y\":[0],\"yaxis\":\"y\",\"type\":\"scatter\"},{\"customdata\":[[null]],\"hovertemplate\":\"Category=Collectibles,Digital,Drawing<br>Sales=%{x}<br>Owners=%{y}<br>Assets=%{marker.size}<br>Owner_Asset_Ratio=%{customdata[0]}<extra></extra>\",\"legendgroup\":\"Collectibles,Digital,Drawing\",\"marker\":{\"color\":\"#00cc96\",\"size\":[0],\"sizemode\":\"area\",\"sizeref\":8.3,\"symbol\":\"circle\"},\"mode\":\"markers\",\"name\":\"Collectibles,Digital,Drawing\",\"orientation\":\"v\",\"showlegend\":true,\"x\":[13],\"xaxis\":\"x\",\"y\":[0],\"yaxis\":\"y\",\"type\":\"scatter\"},{\"customdata\":[[55.39]],\"hovertemplate\":\"Category=P2E,Metaverse,Art<br>Sales=%{x}<br>Owners=%{y}<br>Assets=%{marker.size}<br>Owner_Asset_Ratio=%{customdata[0]}<extra></extra>\",\"legendgroup\":\"P2E,Metaverse,Art\",\"marker\":{\"color\":\"#ab63fa\",\"size\":[547],\"sizemode\":\"area\",\"sizeref\":8.3,\"symbol\":\"circle\"},\"mode\":\"markers\",\"name\":\"P2E,Metaverse,Art\",\"orientation\":\"v\",\"showlegend\":true,\"x\":[316],\"xaxis\":\"x\",\"y\":[303],\"yaxis\":\"y\",\"type\":\"scatter\"},{\"customdata\":[[15.6]],\"hovertemplate\":\"Category=Digital,Art,Painting<br>Sales=%{x}<br>Owners=%{y}<br>Assets=%{marker.size}<br>Owner_Asset_Ratio=%{customdata[0]}<extra></extra>\",\"legendgroup\":\"Digital,Art,Painting\",\"marker\":{\"color\":\"#FFA15A\",\"size\":[141],\"sizemode\":\"area\",\"sizeref\":8.3,\"symbol\":\"circle\"},\"mode\":\"markers\",\"name\":\"Digital,Art,Painting\",\"orientation\":\"v\",\"showlegend\":true,\"x\":[61],\"xaxis\":\"x\",\"y\":[22],\"yaxis\":\"y\",\"type\":\"scatter\"},{\"customdata\":[[70.0],[42.38]],\"hovertemplate\":\"Category=Art,Collectibles,2D<br>Sales=%{x}<br>Owners=%{y}<br>Assets=%{marker.size}<br>Owner_Asset_Ratio=%{customdata[0]}<extra></extra>\",\"legendgroup\":\"Art,Collectibles,2D\",\"marker\":{\"color\":\"#19d3f3\",\"size\":[50,302],\"sizemode\":\"area\",\"sizeref\":8.3,\"symbol\":\"circle\"},\"mode\":\"markers\",\"name\":\"Art,Collectibles,2D\",\"orientation\":\"v\",\"showlegend\":true,\"x\":[16,362],\"xaxis\":\"x\",\"y\":[35,128],\"yaxis\":\"y\",\"type\":\"scatter\"},{\"customdata\":[[null]],\"hovertemplate\":\"Category=Collectibles,Ticket,Video<br>Sales=%{x}<br>Owners=%{y}<br>Assets=%{marker.size}<br>Owner_Asset_Ratio=%{customdata[0]}<extra></extra>\",\"legendgroup\":\"Collectibles,Ticket,Video\",\"marker\":{\"color\":\"#FF6692\",\"size\":[0],\"sizemode\":\"area\",\"sizeref\":8.3,\"symbol\":\"circle\"},\"mode\":\"markers\",\"name\":\"Collectibles,Ticket,Video\",\"orientation\":\"v\",\"showlegend\":true,\"x\":[29],\"xaxis\":\"x\",\"y\":[0],\"yaxis\":\"y\",\"type\":\"scatter\"},{\"customdata\":[[11.43]],\"hovertemplate\":\"Category=Collectibles,2D,Pixel Art<br>Sales=%{x}<br>Owners=%{y}<br>Assets=%{marker.size}<br>Owner_Asset_Ratio=%{customdata[0]}<extra></extra>\",\"legendgroup\":\"Collectibles,2D,Pixel Art\",\"marker\":{\"color\":\"#B6E880\",\"size\":[35],\"sizemode\":\"area\",\"sizeref\":8.3,\"symbol\":\"circle\"},\"mode\":\"markers\",\"name\":\"Collectibles,2D,Pixel Art\",\"orientation\":\"v\",\"showlegend\":true,\"x\":[7],\"xaxis\":\"x\",\"y\":[4],\"yaxis\":\"y\",\"type\":\"scatter\"},{\"customdata\":[[43.48]],\"hovertemplate\":\"Category=Art,Collectibles,Metaverse,PFP,Digital<br>Sales=%{x}<br>Owners=%{y}<br>Assets=%{marker.size}<br>Owner_Asset_Ratio=%{customdata[0]}<extra></extra>\",\"legendgroup\":\"Art,Collectibles,Metaverse,PFP,Digital\",\"marker\":{\"color\":\"#FF97FF\",\"size\":[23],\"sizemode\":\"area\",\"sizeref\":8.3,\"symbol\":\"circle\"},\"mode\":\"markers\",\"name\":\"Art,Collectibles,Metaverse,PFP,Digital\",\"orientation\":\"v\",\"showlegend\":true,\"x\":[46],\"xaxis\":\"x\",\"y\":[10],\"yaxis\":\"y\",\"type\":\"scatter\"},{\"customdata\":[[50.0]],\"hovertemplate\":\"Category=Art,Collectibles,2D,Drawing<br>Sales=%{x}<br>Owners=%{y}<br>Assets=%{marker.size}<br>Owner_Asset_Ratio=%{customdata[0]}<extra></extra>\",\"legendgroup\":\"Art,Collectibles,2D,Drawing\",\"marker\":{\"color\":\"#FECB52\",\"size\":[2],\"sizemode\":\"area\",\"sizeref\":8.3,\"symbol\":\"circle\"},\"mode\":\"markers\",\"name\":\"Art,Collectibles,2D,Drawing\",\"orientation\":\"v\",\"showlegend\":true,\"x\":[3],\"xaxis\":\"x\",\"y\":[1],\"yaxis\":\"y\",\"type\":\"scatter\"},{\"customdata\":[[53.54]],\"hovertemplate\":\"Category=3D,Art,Collectibles<br>Sales=%{x}<br>Owners=%{y}<br>Assets=%{marker.size}<br>Owner_Asset_Ratio=%{customdata[0]}<extra></extra>\",\"legendgroup\":\"3D,Art,Collectibles\",\"marker\":{\"color\":\"#636efa\",\"size\":[99],\"sizemode\":\"area\",\"sizeref\":8.3,\"symbol\":\"circle\"},\"mode\":\"markers\",\"name\":\"3D,Art,Collectibles\",\"orientation\":\"v\",\"showlegend\":true,\"x\":[27],\"xaxis\":\"x\",\"y\":[53],\"yaxis\":\"y\",\"type\":\"scatter\"},{\"customdata\":[[64.0]],\"hovertemplate\":\"Category=Digital,AI,Art,Collectibles,PFP,2D,Graphics,Drawing,Image<br>Sales=%{x}<br>Owners=%{y}<br>Assets=%{marker.size}<br>Owner_Asset_Ratio=%{customdata[0]}<extra></extra>\",\"legendgroup\":\"Digital,AI,Art,Collectibles,PFP,2D,Graphics,Drawing,Image\",\"marker\":{\"color\":\"#EF553B\",\"size\":[75],\"sizemode\":\"area\",\"sizeref\":8.3,\"symbol\":\"circle\"},\"mode\":\"markers\",\"name\":\"Digital,AI,Art,Collectibles,PFP,2D,Graphics,Drawing,Image\",\"orientation\":\"v\",\"showlegend\":true,\"x\":[117],\"xaxis\":\"x\",\"y\":[48],\"yaxis\":\"y\",\"type\":\"scatter\"},{\"customdata\":[[54.55]],\"hovertemplate\":\"Category=2D,Metaverse,Collectibles,Graphics,Image<br>Sales=%{x}<br>Owners=%{y}<br>Assets=%{marker.size}<br>Owner_Asset_Ratio=%{customdata[0]}<extra></extra>\",\"legendgroup\":\"2D,Metaverse,Collectibles,Graphics,Image\",\"marker\":{\"color\":\"#00cc96\",\"size\":[22],\"sizemode\":\"area\",\"sizeref\":8.3,\"symbol\":\"circle\"},\"mode\":\"markers\",\"name\":\"2D,Metaverse,Collectibles,Graphics,Image\",\"orientation\":\"v\",\"showlegend\":true,\"x\":[108],\"xaxis\":\"x\",\"y\":[12],\"yaxis\":\"y\",\"type\":\"scatter\"},{\"customdata\":[[1.96]],\"hovertemplate\":\"Category=Digital,Art,Collectibles,Graphics,Street Art,Picture,Image<br>Sales=%{x}<br>Owners=%{y}<br>Assets=%{marker.size}<br>Owner_Asset_Ratio=%{customdata[0]}<extra></extra>\",\"legendgroup\":\"Digital,Art,Collectibles,Graphics,Street Art,Picture,Image\",\"marker\":{\"color\":\"#ab63fa\",\"size\":[818],\"sizemode\":\"area\",\"sizeref\":8.3,\"symbol\":\"circle\"},\"mode\":\"markers\",\"name\":\"Digital,Art,Collectibles,Graphics,Street Art,Picture,Image\",\"orientation\":\"v\",\"showlegend\":true,\"x\":[35],\"xaxis\":\"x\",\"y\":[16],\"yaxis\":\"y\",\"type\":\"scatter\"},{\"customdata\":[[18.66]],\"hovertemplate\":\"Category=Digital,Art,Painting,Drawing,Collectibles<br>Sales=%{x}<br>Owners=%{y}<br>Assets=%{marker.size}<br>Owner_Asset_Ratio=%{customdata[0]}<extra></extra>\",\"legendgroup\":\"Digital,Art,Painting,Drawing,Collectibles\",\"marker\":{\"color\":\"#FFA15A\",\"size\":[134],\"sizemode\":\"area\",\"sizeref\":8.3,\"symbol\":\"circle\"},\"mode\":\"markers\",\"name\":\"Digital,Art,Painting,Drawing,Collectibles\",\"orientation\":\"v\",\"showlegend\":true,\"x\":[84],\"xaxis\":\"x\",\"y\":[25],\"yaxis\":\"y\",\"type\":\"scatter\"},{\"customdata\":[[85.71]],\"hovertemplate\":\"Category=Metaverse,Privilege,Digital,Art<br>Sales=%{x}<br>Owners=%{y}<br>Assets=%{marker.size}<br>Owner_Asset_Ratio=%{customdata[0]}<extra></extra>\",\"legendgroup\":\"Metaverse,Privilege,Digital,Art\",\"marker\":{\"color\":\"#19d3f3\",\"size\":[7],\"sizemode\":\"area\",\"sizeref\":8.3,\"symbol\":\"circle\"},\"mode\":\"markers\",\"name\":\"Metaverse,Privilege,Digital,Art\",\"orientation\":\"v\",\"showlegend\":true,\"x\":[4],\"xaxis\":\"x\",\"y\":[6],\"yaxis\":\"y\",\"type\":\"scatter\"},{\"customdata\":[[12.5]],\"hovertemplate\":\"Category=3D,Art,Digital,PFP,Music Theme,Video<br>Sales=%{x}<br>Owners=%{y}<br>Assets=%{marker.size}<br>Owner_Asset_Ratio=%{customdata[0]}<extra></extra>\",\"legendgroup\":\"3D,Art,Digital,PFP,Music Theme,Video\",\"marker\":{\"color\":\"#FF6692\",\"size\":[8],\"sizemode\":\"area\",\"sizeref\":8.3,\"symbol\":\"circle\"},\"mode\":\"markers\",\"name\":\"3D,Art,Digital,PFP,Music Theme,Video\",\"orientation\":\"v\",\"showlegend\":true,\"x\":[10],\"xaxis\":\"x\",\"y\":[1],\"yaxis\":\"y\",\"type\":\"scatter\"},{\"customdata\":[[100.0]],\"hovertemplate\":\"Category=Collectibles,PFP,P2E<br>Sales=%{x}<br>Owners=%{y}<br>Assets=%{marker.size}<br>Owner_Asset_Ratio=%{customdata[0]}<extra></extra>\",\"legendgroup\":\"Collectibles,PFP,P2E\",\"marker\":{\"color\":\"#B6E880\",\"size\":[4],\"sizemode\":\"area\",\"sizeref\":8.3,\"symbol\":\"circle\"},\"mode\":\"markers\",\"name\":\"Collectibles,PFP,P2E\",\"orientation\":\"v\",\"showlegend\":true,\"x\":[10],\"xaxis\":\"x\",\"y\":[4],\"yaxis\":\"y\",\"type\":\"scatter\"},{\"customdata\":[[57.42]],\"hovertemplate\":\"Category=Digital,Art,Collectibles,Artifact,Performance,PFP,Graphics,2D,Street Art,Picture<br>Sales=%{x}<br>Owners=%{y}<br>Assets=%{marker.size}<br>Owner_Asset_Ratio=%{customdata[0]}<extra></extra>\",\"legendgroup\":\"Digital,Art,Collectibles,Artifact,Performance,PFP,Graphics,2D,Street Art,Picture\",\"marker\":{\"color\":\"#FF97FF\",\"size\":[155],\"sizemode\":\"area\",\"sizeref\":8.3,\"symbol\":\"circle\"},\"mode\":\"markers\",\"name\":\"Digital,Art,Collectibles,Artifact,Performance,PFP,Graphics,2D,Street Art,Picture\",\"orientation\":\"v\",\"showlegend\":true,\"x\":[29],\"xaxis\":\"x\",\"y\":[89],\"yaxis\":\"y\",\"type\":\"scatter\"},{\"customdata\":[[68.18]],\"hovertemplate\":\"Category=Art,Digital,Collectibles,Metaverse,Drawing<br>Sales=%{x}<br>Owners=%{y}<br>Assets=%{marker.size}<br>Owner_Asset_Ratio=%{customdata[0]}<extra></extra>\",\"legendgroup\":\"Art,Digital,Collectibles,Metaverse,Drawing\",\"marker\":{\"color\":\"#FECB52\",\"size\":[44],\"sizemode\":\"area\",\"sizeref\":8.3,\"symbol\":\"circle\"},\"mode\":\"markers\",\"name\":\"Art,Digital,Collectibles,Metaverse,Drawing\",\"orientation\":\"v\",\"showlegend\":true,\"x\":[102],\"xaxis\":\"x\",\"y\":[30],\"yaxis\":\"y\",\"type\":\"scatter\"},{\"customdata\":[[62.5]],\"hovertemplate\":\"Category=Digital,Art,Collectibles,PFP,2D,Drawing,Image,Picture,Design<br>Sales=%{x}<br>Owners=%{y}<br>Assets=%{marker.size}<br>Owner_Asset_Ratio=%{customdata[0]}<extra></extra>\",\"legendgroup\":\"Digital,Art,Collectibles,PFP,2D,Drawing,Image,Picture,Design\",\"marker\":{\"color\":\"#636efa\",\"size\":[8],\"sizemode\":\"area\",\"sizeref\":8.3,\"symbol\":\"circle\"},\"mode\":\"markers\",\"name\":\"Digital,Art,Collectibles,PFP,2D,Drawing,Image,Picture,Design\",\"orientation\":\"v\",\"showlegend\":true,\"x\":[38],\"xaxis\":\"x\",\"y\":[5],\"yaxis\":\"y\",\"type\":\"scatter\"},{\"customdata\":[[21.43]],\"hovertemplate\":\"Category=Photography,Art<br>Sales=%{x}<br>Owners=%{y}<br>Assets=%{marker.size}<br>Owner_Asset_Ratio=%{customdata[0]}<extra></extra>\",\"legendgroup\":\"Photography,Art\",\"marker\":{\"color\":\"#EF553B\",\"size\":[14],\"sizemode\":\"area\",\"sizeref\":8.3,\"symbol\":\"circle\"},\"mode\":\"markers\",\"name\":\"Photography,Art\",\"orientation\":\"v\",\"showlegend\":true,\"x\":[3],\"xaxis\":\"x\",\"y\":[3],\"yaxis\":\"y\",\"type\":\"scatter\"},{\"customdata\":[[1.14]],\"hovertemplate\":\"Category=Physical,Digital,Privilege<br>Sales=%{x}<br>Owners=%{y}<br>Assets=%{marker.size}<br>Owner_Asset_Ratio=%{customdata[0]}<extra></extra>\",\"legendgroup\":\"Physical,Digital,Privilege\",\"marker\":{\"color\":\"#00cc96\",\"size\":[88],\"sizemode\":\"area\",\"sizeref\":8.3,\"symbol\":\"circle\"},\"mode\":\"markers\",\"name\":\"Physical,Digital,Privilege\",\"orientation\":\"v\",\"showlegend\":true,\"x\":[11],\"xaxis\":\"x\",\"y\":[1],\"yaxis\":\"y\",\"type\":\"scatter\"},{\"customdata\":[[100.0]],\"hovertemplate\":\"Category=Digital,Metaverse,Art,Collectibles,2D,Drawing<br>Sales=%{x}<br>Owners=%{y}<br>Assets=%{marker.size}<br>Owner_Asset_Ratio=%{customdata[0]}<extra></extra>\",\"legendgroup\":\"Digital,Metaverse,Art,Collectibles,2D,Drawing\",\"marker\":{\"color\":\"#ab63fa\",\"size\":[1],\"sizemode\":\"area\",\"sizeref\":8.3,\"symbol\":\"circle\"},\"mode\":\"markers\",\"name\":\"Digital,Metaverse,Art,Collectibles,2D,Drawing\",\"orientation\":\"v\",\"showlegend\":true,\"x\":[8],\"xaxis\":\"x\",\"y\":[1],\"yaxis\":\"y\",\"type\":\"scatter\"},{\"customdata\":[[38.46]],\"hovertemplate\":\"Category=Design,Photography,Digital<br>Sales=%{x}<br>Owners=%{y}<br>Assets=%{marker.size}<br>Owner_Asset_Ratio=%{customdata[0]}<extra></extra>\",\"legendgroup\":\"Design,Photography,Digital\",\"marker\":{\"color\":\"#FFA15A\",\"size\":[39],\"sizemode\":\"area\",\"sizeref\":8.3,\"symbol\":\"circle\"},\"mode\":\"markers\",\"name\":\"Design,Photography,Digital\",\"orientation\":\"v\",\"showlegend\":true,\"x\":[6],\"xaxis\":\"x\",\"y\":[15],\"yaxis\":\"y\",\"type\":\"scatter\"},{\"customdata\":[[52.63]],\"hovertemplate\":\"Category=Digital,Metaverse,Art,Collectibles,Graphics,2D,Design,Picture,Image<br>Sales=%{x}<br>Owners=%{y}<br>Assets=%{marker.size}<br>Owner_Asset_Ratio=%{customdata[0]}<extra></extra>\",\"legendgroup\":\"Digital,Metaverse,Art,Collectibles,Graphics,2D,Design,Picture,Image\",\"marker\":{\"color\":\"#19d3f3\",\"size\":[19],\"sizemode\":\"area\",\"sizeref\":8.3,\"symbol\":\"circle\"},\"mode\":\"markers\",\"name\":\"Digital,Metaverse,Art,Collectibles,Graphics,2D,Design,Picture,Image\",\"orientation\":\"v\",\"showlegend\":true,\"x\":[30],\"xaxis\":\"x\",\"y\":[10],\"yaxis\":\"y\",\"type\":\"scatter\"},{\"customdata\":[[23.53]],\"hovertemplate\":\"Category=Art,Digital,Image,Painting,Collectibles,2D,Design,AI<br>Sales=%{x}<br>Owners=%{y}<br>Assets=%{marker.size}<br>Owner_Asset_Ratio=%{customdata[0]}<extra></extra>\",\"legendgroup\":\"Art,Digital,Image,Painting,Collectibles,2D,Design,AI\",\"marker\":{\"color\":\"#FF6692\",\"size\":[34],\"sizemode\":\"area\",\"sizeref\":8.3,\"symbol\":\"circle\"},\"mode\":\"markers\",\"name\":\"Art,Digital,Image,Painting,Collectibles,2D,Design,AI\",\"orientation\":\"v\",\"showlegend\":true,\"x\":[12],\"xaxis\":\"x\",\"y\":[8],\"yaxis\":\"y\",\"type\":\"scatter\"},{\"customdata\":[[20.0]],\"hovertemplate\":\"Category=Digital,Metaverse,Art,Collectibles,Music,Music Theme,Painting,Picture,Image<br>Sales=%{x}<br>Owners=%{y}<br>Assets=%{marker.size}<br>Owner_Asset_Ratio=%{customdata[0]}<extra></extra>\",\"legendgroup\":\"Digital,Metaverse,Art,Collectibles,Music,Music Theme,Painting,Picture,Image\",\"marker\":{\"color\":\"#B6E880\",\"size\":[70],\"sizemode\":\"area\",\"sizeref\":8.3,\"symbol\":\"circle\"},\"mode\":\"markers\",\"name\":\"Digital,Metaverse,Art,Collectibles,Music,Music Theme,Painting,Picture,Image\",\"orientation\":\"v\",\"showlegend\":true,\"x\":[63],\"xaxis\":\"x\",\"y\":[14],\"yaxis\":\"y\",\"type\":\"scatter\"},{\"customdata\":[[13.33]],\"hovertemplate\":\"Category=3D,Art,Video,Collectibles,Design,Digital,Graphics,Image,Picture,Sculpture,Photography<br>Sales=%{x}<br>Owners=%{y}<br>Assets=%{marker.size}<br>Owner_Asset_Ratio=%{customdata[0]}<extra></extra>\",\"legendgroup\":\"3D,Art,Video,Collectibles,Design,Digital,Graphics,Image,Picture,Sculpture,Photography\",\"marker\":{\"color\":\"#FF97FF\",\"size\":[15],\"sizemode\":\"area\",\"sizeref\":8.3,\"symbol\":\"circle\"},\"mode\":\"markers\",\"name\":\"3D,Art,Video,Collectibles,Design,Digital,Graphics,Image,Picture,Sculpture,Photography\",\"orientation\":\"v\",\"showlegend\":true,\"x\":[5],\"xaxis\":\"x\",\"y\":[2],\"yaxis\":\"y\",\"type\":\"scatter\"},{\"customdata\":[[9.73]],\"hovertemplate\":\"Category=Photography,Collectibles,Art<br>Sales=%{x}<br>Owners=%{y}<br>Assets=%{marker.size}<br>Owner_Asset_Ratio=%{customdata[0]}<extra></extra>\",\"legendgroup\":\"Photography,Collectibles,Art\",\"marker\":{\"color\":\"#FECB52\",\"size\":[113],\"sizemode\":\"area\",\"sizeref\":8.3,\"symbol\":\"circle\"},\"mode\":\"markers\",\"name\":\"Photography,Collectibles,Art\",\"orientation\":\"v\",\"showlegend\":true,\"x\":[26],\"xaxis\":\"x\",\"y\":[11],\"yaxis\":\"y\",\"type\":\"scatter\"},{\"customdata\":[[4.0]],\"hovertemplate\":\"Category=Digital,Street Art,Collectibles,Art,2D<br>Sales=%{x}<br>Owners=%{y}<br>Assets=%{marker.size}<br>Owner_Asset_Ratio=%{customdata[0]}<extra></extra>\",\"legendgroup\":\"Digital,Street Art,Collectibles,Art,2D\",\"marker\":{\"color\":\"#636efa\",\"size\":[50],\"sizemode\":\"area\",\"sizeref\":8.3,\"symbol\":\"circle\"},\"mode\":\"markers\",\"name\":\"Digital,Street Art,Collectibles,Art,2D\",\"orientation\":\"v\",\"showlegend\":true,\"x\":[13],\"xaxis\":\"x\",\"y\":[2],\"yaxis\":\"y\",\"type\":\"scatter\"},{\"customdata\":[[7.95]],\"hovertemplate\":\"Category=2D,Digital,Metaverse,Art,Collectibles,Artifact,Image,Picture,Drawing,Painting,Graphics<br>Sales=%{x}<br>Owners=%{y}<br>Assets=%{marker.size}<br>Owner_Asset_Ratio=%{customdata[0]}<extra></extra>\",\"legendgroup\":\"2D,Digital,Metaverse,Art,Collectibles,Artifact,Image,Picture,Drawing,Painting,Graphics\",\"marker\":{\"color\":\"#EF553B\",\"size\":[88],\"sizemode\":\"area\",\"sizeref\":8.3,\"symbol\":\"circle\"},\"mode\":\"markers\",\"name\":\"2D,Digital,Metaverse,Art,Collectibles,Artifact,Image,Picture,Drawing,Painting,Graphics\",\"orientation\":\"v\",\"showlegend\":true,\"x\":[20],\"xaxis\":\"x\",\"y\":[7],\"yaxis\":\"y\",\"type\":\"scatter\"},{\"customdata\":[[10.31]],\"hovertemplate\":\"Category=Collectibles,Art,Design,PFP,Graphics,2D,3D,Picture,Street Art<br>Sales=%{x}<br>Owners=%{y}<br>Assets=%{marker.size}<br>Owner_Asset_Ratio=%{customdata[0]}<extra></extra>\",\"legendgroup\":\"Collectibles,Art,Design,PFP,Graphics,2D,3D,Picture,Street Art\",\"marker\":{\"color\":\"#00cc96\",\"size\":[97],\"sizemode\":\"area\",\"sizeref\":8.3,\"symbol\":\"circle\"},\"mode\":\"markers\",\"name\":\"Collectibles,Art,Design,PFP,Graphics,2D,3D,Picture,Street Art\",\"orientation\":\"v\",\"showlegend\":true,\"x\":[32],\"xaxis\":\"x\",\"y\":[10],\"yaxis\":\"y\",\"type\":\"scatter\"},{\"customdata\":[[null]],\"hovertemplate\":\"Category=Digital,Art,2D,Painting,Image,Print<br>Sales=%{x}<br>Owners=%{y}<br>Assets=%{marker.size}<br>Owner_Asset_Ratio=%{customdata[0]}<extra></extra>\",\"legendgroup\":\"Digital,Art,2D,Painting,Image,Print\",\"marker\":{\"color\":\"#ab63fa\",\"size\":[0],\"sizemode\":\"area\",\"sizeref\":8.3,\"symbol\":\"circle\"},\"mode\":\"markers\",\"name\":\"Digital,Art,2D,Painting,Image,Print\",\"orientation\":\"v\",\"showlegend\":true,\"x\":[1],\"xaxis\":\"x\",\"y\":[0],\"yaxis\":\"y\",\"type\":\"scatter\"},{\"customdata\":[[1.11]],\"hovertemplate\":\"Category=Digital,3D,Privilege<br>Sales=%{x}<br>Owners=%{y}<br>Assets=%{marker.size}<br>Owner_Asset_Ratio=%{customdata[0]}<extra></extra>\",\"legendgroup\":\"Digital,3D,Privilege\",\"marker\":{\"color\":\"#FFA15A\",\"size\":[90],\"sizemode\":\"area\",\"sizeref\":8.3,\"symbol\":\"circle\"},\"mode\":\"markers\",\"name\":\"Digital,3D,Privilege\",\"orientation\":\"v\",\"showlegend\":true,\"x\":[10],\"xaxis\":\"x\",\"y\":[1],\"yaxis\":\"y\",\"type\":\"scatter\"},{\"customdata\":[[34.21]],\"hovertemplate\":\"Category=Digital,Collectibles,Ticket,Privilege<br>Sales=%{x}<br>Owners=%{y}<br>Assets=%{marker.size}<br>Owner_Asset_Ratio=%{customdata[0]}<extra></extra>\",\"legendgroup\":\"Digital,Collectibles,Ticket,Privilege\",\"marker\":{\"color\":\"#19d3f3\",\"size\":[152],\"sizemode\":\"area\",\"sizeref\":8.3,\"symbol\":\"circle\"},\"mode\":\"markers\",\"name\":\"Digital,Collectibles,Ticket,Privilege\",\"orientation\":\"v\",\"showlegend\":true,\"x\":[165],\"xaxis\":\"x\",\"y\":[52],\"yaxis\":\"y\",\"type\":\"scatter\"},{\"customdata\":[[43.14]],\"hovertemplate\":\"Category=Collectibles,Art,PFP,2D<br>Sales=%{x}<br>Owners=%{y}<br>Assets=%{marker.size}<br>Owner_Asset_Ratio=%{customdata[0]}<extra></extra>\",\"legendgroup\":\"Collectibles,Art,PFP,2D\",\"marker\":{\"color\":\"#FF6692\",\"size\":[102],\"sizemode\":\"area\",\"sizeref\":8.3,\"symbol\":\"circle\"},\"mode\":\"markers\",\"name\":\"Collectibles,Art,PFP,2D\",\"orientation\":\"v\",\"showlegend\":true,\"x\":[80],\"xaxis\":\"x\",\"y\":[44],\"yaxis\":\"y\",\"type\":\"scatter\"},{\"customdata\":[[48.35]],\"hovertemplate\":\"Category=P2E,Image,Art,2D,PFP,Collectibles<br>Sales=%{x}<br>Owners=%{y}<br>Assets=%{marker.size}<br>Owner_Asset_Ratio=%{customdata[0]}<extra></extra>\",\"legendgroup\":\"P2E,Image,Art,2D,PFP,Collectibles\",\"marker\":{\"color\":\"#B6E880\",\"size\":[91],\"sizemode\":\"area\",\"sizeref\":8.3,\"symbol\":\"circle\"},\"mode\":\"markers\",\"name\":\"P2E,Image,Art,2D,PFP,Collectibles\",\"orientation\":\"v\",\"showlegend\":true,\"x\":[21],\"xaxis\":\"x\",\"y\":[44],\"yaxis\":\"y\",\"type\":\"scatter\"},{\"customdata\":[[28.57]],\"hovertemplate\":\"Category=Digital,Physical,Art<br>Sales=%{x}<br>Owners=%{y}<br>Assets=%{marker.size}<br>Owner_Asset_Ratio=%{customdata[0]}<extra></extra>\",\"legendgroup\":\"Digital,Physical,Art\",\"marker\":{\"color\":\"#FF97FF\",\"size\":[7],\"sizemode\":\"area\",\"sizeref\":8.3,\"symbol\":\"circle\"},\"mode\":\"markers\",\"name\":\"Digital,Physical,Art\",\"orientation\":\"v\",\"showlegend\":true,\"x\":[3],\"xaxis\":\"x\",\"y\":[2],\"yaxis\":\"y\",\"type\":\"scatter\"},{\"customdata\":[[21.62]],\"hovertemplate\":\"Category=PFP,Digital,Metaverse,Trading Cards,Image,Pixel Art,Collectibles<br>Sales=%{x}<br>Owners=%{y}<br>Assets=%{marker.size}<br>Owner_Asset_Ratio=%{customdata[0]}<extra></extra>\",\"legendgroup\":\"PFP,Digital,Metaverse,Trading Cards,Image,Pixel Art,Collectibles\",\"marker\":{\"color\":\"#FECB52\",\"size\":[37],\"sizemode\":\"area\",\"sizeref\":8.3,\"symbol\":\"circle\"},\"mode\":\"markers\",\"name\":\"PFP,Digital,Metaverse,Trading Cards,Image,Pixel Art,Collectibles\",\"orientation\":\"v\",\"showlegend\":true,\"x\":[18],\"xaxis\":\"x\",\"y\":[8],\"yaxis\":\"y\",\"type\":\"scatter\"},{\"customdata\":[[2.27]],\"hovertemplate\":\"Category=PFP,Metaverse,Digital,Art,2D,Collectibles,Painting<br>Sales=%{x}<br>Owners=%{y}<br>Assets=%{marker.size}<br>Owner_Asset_Ratio=%{customdata[0]}<extra></extra>\",\"legendgroup\":\"PFP,Metaverse,Digital,Art,2D,Collectibles,Painting\",\"marker\":{\"color\":\"#636efa\",\"size\":[44],\"sizemode\":\"area\",\"sizeref\":8.3,\"symbol\":\"circle\"},\"mode\":\"markers\",\"name\":\"PFP,Metaverse,Digital,Art,2D,Collectibles,Painting\",\"orientation\":\"v\",\"showlegend\":true,\"x\":[9],\"xaxis\":\"x\",\"y\":[1],\"yaxis\":\"y\",\"type\":\"scatter\"},{\"customdata\":[[33.33]],\"hovertemplate\":\"Category=PFP,Drawing<br>Sales=%{x}<br>Owners=%{y}<br>Assets=%{marker.size}<br>Owner_Asset_Ratio=%{customdata[0]}<extra></extra>\",\"legendgroup\":\"PFP,Drawing\",\"marker\":{\"color\":\"#EF553B\",\"size\":[12],\"sizemode\":\"area\",\"sizeref\":8.3,\"symbol\":\"circle\"},\"mode\":\"markers\",\"name\":\"PFP,Drawing\",\"orientation\":\"v\",\"showlegend\":true,\"x\":[3],\"xaxis\":\"x\",\"y\":[4],\"yaxis\":\"y\",\"type\":\"scatter\"},{\"customdata\":[[85.71]],\"hovertemplate\":\"Category=Digital,Art,Collectibles,Graphics<br>Sales=%{x}<br>Owners=%{y}<br>Assets=%{marker.size}<br>Owner_Asset_Ratio=%{customdata[0]}<extra></extra>\",\"legendgroup\":\"Digital,Art,Collectibles,Graphics\",\"marker\":{\"color\":\"#00cc96\",\"size\":[7],\"sizemode\":\"area\",\"sizeref\":8.3,\"symbol\":\"circle\"},\"mode\":\"markers\",\"name\":\"Digital,Art,Collectibles,Graphics\",\"orientation\":\"v\",\"showlegend\":true,\"x\":[20],\"xaxis\":\"x\",\"y\":[6],\"yaxis\":\"y\",\"type\":\"scatter\"},{\"customdata\":[[60.94]],\"hovertemplate\":\"Category=Digital,Art,Collectibles,AI,Metaverse,3D<br>Sales=%{x}<br>Owners=%{y}<br>Assets=%{marker.size}<br>Owner_Asset_Ratio=%{customdata[0]}<extra></extra>\",\"legendgroup\":\"Digital,Art,Collectibles,AI,Metaverse,3D\",\"marker\":{\"color\":\"#ab63fa\",\"size\":[64],\"sizemode\":\"area\",\"sizeref\":8.3,\"symbol\":\"circle\"},\"mode\":\"markers\",\"name\":\"Digital,Art,Collectibles,AI,Metaverse,3D\",\"orientation\":\"v\",\"showlegend\":true,\"x\":[108],\"xaxis\":\"x\",\"y\":[39],\"yaxis\":\"y\",\"type\":\"scatter\"},{\"customdata\":[[17.34]],\"hovertemplate\":\"Category=Digital,Art,Collectibles,Drawing,Video<br>Sales=%{x}<br>Owners=%{y}<br>Assets=%{marker.size}<br>Owner_Asset_Ratio=%{customdata[0]}<extra></extra>\",\"legendgroup\":\"Digital,Art,Collectibles,Drawing,Video\",\"marker\":{\"color\":\"#FFA15A\",\"size\":[173],\"sizemode\":\"area\",\"sizeref\":8.3,\"symbol\":\"circle\"},\"mode\":\"markers\",\"name\":\"Digital,Art,Collectibles,Drawing,Video\",\"orientation\":\"v\",\"showlegend\":true,\"x\":[98],\"xaxis\":\"x\",\"y\":[30],\"yaxis\":\"y\",\"type\":\"scatter\"},{\"customdata\":[[42.31]],\"hovertemplate\":\"Category=Digital,Art,3D<br>Sales=%{x}<br>Owners=%{y}<br>Assets=%{marker.size}<br>Owner_Asset_Ratio=%{customdata[0]}<extra></extra>\",\"legendgroup\":\"Digital,Art,3D\",\"marker\":{\"color\":\"#19d3f3\",\"size\":[26],\"sizemode\":\"area\",\"sizeref\":8.3,\"symbol\":\"circle\"},\"mode\":\"markers\",\"name\":\"Digital,Art,3D\",\"orientation\":\"v\",\"showlegend\":true,\"x\":[22],\"xaxis\":\"x\",\"y\":[11],\"yaxis\":\"y\",\"type\":\"scatter\"},{\"customdata\":[[26.67]],\"hovertemplate\":\"Category=Physical,Digital,Collectibles,3D,Trading Cards,Trademark,Photography<br>Sales=%{x}<br>Owners=%{y}<br>Assets=%{marker.size}<br>Owner_Asset_Ratio=%{customdata[0]}<extra></extra>\",\"legendgroup\":\"Physical,Digital,Collectibles,3D,Trading Cards,Trademark,Photography\",\"marker\":{\"color\":\"#FF6692\",\"size\":[15],\"sizemode\":\"area\",\"sizeref\":8.3,\"symbol\":\"circle\"},\"mode\":\"markers\",\"name\":\"Physical,Digital,Collectibles,3D,Trading Cards,Trademark,Photography\",\"orientation\":\"v\",\"showlegend\":true,\"x\":[8],\"xaxis\":\"x\",\"y\":[4],\"yaxis\":\"y\",\"type\":\"scatter\"},{\"customdata\":[[null]],\"hovertemplate\":\"Category=Digital,Art,2D,Painting,Drawing,Collectibles<br>Sales=%{x}<br>Owners=%{y}<br>Assets=%{marker.size}<br>Owner_Asset_Ratio=%{customdata[0]}<extra></extra>\",\"legendgroup\":\"Digital,Art,2D,Painting,Drawing,Collectibles\",\"marker\":{\"color\":\"#B6E880\",\"size\":[0],\"sizemode\":\"area\",\"sizeref\":8.3,\"symbol\":\"circle\"},\"mode\":\"markers\",\"name\":\"Digital,Art,2D,Painting,Drawing,Collectibles\",\"orientation\":\"v\",\"showlegend\":true,\"x\":[4],\"xaxis\":\"x\",\"y\":[0],\"yaxis\":\"y\",\"type\":\"scatter\"},{\"customdata\":[[78.57]],\"hovertemplate\":\"Category=Privilege,Art,Drawing,Painting,PFP<br>Sales=%{x}<br>Owners=%{y}<br>Assets=%{marker.size}<br>Owner_Asset_Ratio=%{customdata[0]}<extra></extra>\",\"legendgroup\":\"Privilege,Art,Drawing,Painting,PFP\",\"marker\":{\"color\":\"#FF97FF\",\"size\":[28],\"sizemode\":\"area\",\"sizeref\":8.3,\"symbol\":\"circle\"},\"mode\":\"markers\",\"name\":\"Privilege,Art,Drawing,Painting,PFP\",\"orientation\":\"v\",\"showlegend\":true,\"x\":[5],\"xaxis\":\"x\",\"y\":[22],\"yaxis\":\"y\",\"type\":\"scatter\"},{\"customdata\":[[33.33]],\"hovertemplate\":\"Category=Physical,Digital,Art<br>Sales=%{x}<br>Owners=%{y}<br>Assets=%{marker.size}<br>Owner_Asset_Ratio=%{customdata[0]}<extra></extra>\",\"legendgroup\":\"Physical,Digital,Art\",\"marker\":{\"color\":\"#FECB52\",\"size\":[3],\"sizemode\":\"area\",\"sizeref\":8.3,\"symbol\":\"circle\"},\"mode\":\"markers\",\"name\":\"Physical,Digital,Art\",\"orientation\":\"v\",\"showlegend\":true,\"x\":[8],\"xaxis\":\"x\",\"y\":[1],\"yaxis\":\"y\",\"type\":\"scatter\"},{\"customdata\":[[12.5]],\"hovertemplate\":\"Category=Art,Collectibles,PFP,2D,Picture,Image<br>Sales=%{x}<br>Owners=%{y}<br>Assets=%{marker.size}<br>Owner_Asset_Ratio=%{customdata[0]}<extra></extra>\",\"legendgroup\":\"Art,Collectibles,PFP,2D,Picture,Image\",\"marker\":{\"color\":\"#636efa\",\"size\":[8],\"sizemode\":\"area\",\"sizeref\":8.3,\"symbol\":\"circle\"},\"mode\":\"markers\",\"name\":\"Art,Collectibles,PFP,2D,Picture,Image\",\"orientation\":\"v\",\"showlegend\":true,\"x\":[7],\"xaxis\":\"x\",\"y\":[1],\"yaxis\":\"y\",\"type\":\"scatter\"},{\"customdata\":[[100.0]],\"hovertemplate\":\"Category=Art,Collectibles,Digital<br>Sales=%{x}<br>Owners=%{y}<br>Assets=%{marker.size}<br>Owner_Asset_Ratio=%{customdata[0]}<extra></extra>\",\"legendgroup\":\"Art,Collectibles,Digital\",\"marker\":{\"color\":\"#EF553B\",\"size\":[2],\"sizemode\":\"area\",\"sizeref\":8.3,\"symbol\":\"circle\"},\"mode\":\"markers\",\"name\":\"Art,Collectibles,Digital\",\"orientation\":\"v\",\"showlegend\":true,\"x\":[15],\"xaxis\":\"x\",\"y\":[2],\"yaxis\":\"y\",\"type\":\"scatter\"},{\"customdata\":[[26.32]],\"hovertemplate\":\"Category=Digital,Metaverse,Art,Collectibles,3D,Video,PFP<br>Sales=%{x}<br>Owners=%{y}<br>Assets=%{marker.size}<br>Owner_Asset_Ratio=%{customdata[0]}<extra></extra>\",\"legendgroup\":\"Digital,Metaverse,Art,Collectibles,3D,Video,PFP\",\"marker\":{\"color\":\"#00cc96\",\"size\":[19],\"sizemode\":\"area\",\"sizeref\":8.3,\"symbol\":\"circle\"},\"mode\":\"markers\",\"name\":\"Digital,Metaverse,Art,Collectibles,3D,Video,PFP\",\"orientation\":\"v\",\"showlegend\":true,\"x\":[5],\"xaxis\":\"x\",\"y\":[5],\"yaxis\":\"y\",\"type\":\"scatter\"},{\"customdata\":[[42.37]],\"hovertemplate\":\"Category=Digital,Metaverse,Art,Collectibles,PFP,2D,Drawing,Picture,Image<br>Sales=%{x}<br>Owners=%{y}<br>Assets=%{marker.size}<br>Owner_Asset_Ratio=%{customdata[0]}<extra></extra>\",\"legendgroup\":\"Digital,Metaverse,Art,Collectibles,PFP,2D,Drawing,Picture,Image\",\"marker\":{\"color\":\"#ab63fa\",\"size\":[59],\"sizemode\":\"area\",\"sizeref\":8.3,\"symbol\":\"circle\"},\"mode\":\"markers\",\"name\":\"Digital,Metaverse,Art,Collectibles,PFP,2D,Drawing,Picture,Image\",\"orientation\":\"v\",\"showlegend\":true,\"x\":[4],\"xaxis\":\"x\",\"y\":[25],\"yaxis\":\"y\",\"type\":\"scatter\"},{\"customdata\":[[60.32],[16.67]],\"hovertemplate\":\"Category=Metaverse,Collectibles,2D<br>Sales=%{x}<br>Owners=%{y}<br>Assets=%{marker.size}<br>Owner_Asset_Ratio=%{customdata[0]}<extra></extra>\",\"legendgroup\":\"Metaverse,Collectibles,2D\",\"marker\":{\"color\":\"#FFA15A\",\"size\":[63,6],\"sizemode\":\"area\",\"sizeref\":8.3,\"symbol\":\"circle\"},\"mode\":\"markers\",\"name\":\"Metaverse,Collectibles,2D\",\"orientation\":\"v\",\"showlegend\":true,\"x\":[17,3],\"xaxis\":\"x\",\"y\":[38,1],\"yaxis\":\"y\",\"type\":\"scatter\"},{\"customdata\":[[21.21]],\"hovertemplate\":\"Category=Collectibles,Metaverse,3D,Design<br>Sales=%{x}<br>Owners=%{y}<br>Assets=%{marker.size}<br>Owner_Asset_Ratio=%{customdata[0]}<extra></extra>\",\"legendgroup\":\"Collectibles,Metaverse,3D,Design\",\"marker\":{\"color\":\"#19d3f3\",\"size\":[33],\"sizemode\":\"area\",\"sizeref\":8.3,\"symbol\":\"circle\"},\"mode\":\"markers\",\"name\":\"Collectibles,Metaverse,3D,Design\",\"orientation\":\"v\",\"showlegend\":true,\"x\":[9],\"xaxis\":\"x\",\"y\":[7],\"yaxis\":\"y\",\"type\":\"scatter\"},{\"customdata\":[[11.11]],\"hovertemplate\":\"Category=Digital,Privilege,Art,Collectibles,PFP,Drawing,Street Art<br>Sales=%{x}<br>Owners=%{y}<br>Assets=%{marker.size}<br>Owner_Asset_Ratio=%{customdata[0]}<extra></extra>\",\"legendgroup\":\"Digital,Privilege,Art,Collectibles,PFP,Drawing,Street Art\",\"marker\":{\"color\":\"#FF6692\",\"size\":[9],\"sizemode\":\"area\",\"sizeref\":8.3,\"symbol\":\"circle\"},\"mode\":\"markers\",\"name\":\"Digital,Privilege,Art,Collectibles,PFP,Drawing,Street Art\",\"orientation\":\"v\",\"showlegend\":true,\"x\":[7],\"xaxis\":\"x\",\"y\":[1],\"yaxis\":\"y\",\"type\":\"scatter\"},{\"customdata\":[[2.56]],\"hovertemplate\":\"Category=Collectibles,Art,AI<br>Sales=%{x}<br>Owners=%{y}<br>Assets=%{marker.size}<br>Owner_Asset_Ratio=%{customdata[0]}<extra></extra>\",\"legendgroup\":\"Collectibles,Art,AI\",\"marker\":{\"color\":\"#B6E880\",\"size\":[117],\"sizemode\":\"area\",\"sizeref\":8.3,\"symbol\":\"circle\"},\"mode\":\"markers\",\"name\":\"Collectibles,Art,AI\",\"orientation\":\"v\",\"showlegend\":true,\"x\":[7],\"xaxis\":\"x\",\"y\":[3],\"yaxis\":\"y\",\"type\":\"scatter\"},{\"customdata\":[[5.88]],\"hovertemplate\":\"Category=Art,Graphics,2D,Design,Image,Picture,Drawing,PFP<br>Sales=%{x}<br>Owners=%{y}<br>Assets=%{marker.size}<br>Owner_Asset_Ratio=%{customdata[0]}<extra></extra>\",\"legendgroup\":\"Art,Graphics,2D,Design,Image,Picture,Drawing,PFP\",\"marker\":{\"color\":\"#FF97FF\",\"size\":[17],\"sizemode\":\"area\",\"sizeref\":8.3,\"symbol\":\"circle\"},\"mode\":\"markers\",\"name\":\"Art,Graphics,2D,Design,Image,Picture,Drawing,PFP\",\"orientation\":\"v\",\"showlegend\":true,\"x\":[30],\"xaxis\":\"x\",\"y\":[1],\"yaxis\":\"y\",\"type\":\"scatter\"},{\"customdata\":[[56.62]],\"hovertemplate\":\"Category=Digital,Art,2D,Metaverse,Collectibles,P2E<br>Sales=%{x}<br>Owners=%{y}<br>Assets=%{marker.size}<br>Owner_Asset_Ratio=%{customdata[0]}<extra></extra>\",\"legendgroup\":\"Digital,Art,2D,Metaverse,Collectibles,P2E\",\"marker\":{\"color\":\"#FECB52\",\"size\":[136],\"sizemode\":\"area\",\"sizeref\":8.3,\"symbol\":\"circle\"},\"mode\":\"markers\",\"name\":\"Digital,Art,2D,Metaverse,Collectibles,P2E\",\"orientation\":\"v\",\"showlegend\":true,\"x\":[49],\"xaxis\":\"x\",\"y\":[77],\"yaxis\":\"y\",\"type\":\"scatter\"},{\"customdata\":[[33.33]],\"hovertemplate\":\"Category=Art,Collectibles,Drawing<br>Sales=%{x}<br>Owners=%{y}<br>Assets=%{marker.size}<br>Owner_Asset_Ratio=%{customdata[0]}<extra></extra>\",\"legendgroup\":\"Art,Collectibles,Drawing\",\"marker\":{\"color\":\"#636efa\",\"size\":[3],\"sizemode\":\"area\",\"sizeref\":8.3,\"symbol\":\"circle\"},\"mode\":\"markers\",\"name\":\"Art,Collectibles,Drawing\",\"orientation\":\"v\",\"showlegend\":true,\"x\":[3],\"xaxis\":\"x\",\"y\":[1],\"yaxis\":\"y\",\"type\":\"scatter\"},{\"customdata\":[[45.45]],\"hovertemplate\":\"Category=Digital,Collectibles,Pixel Art<br>Sales=%{x}<br>Owners=%{y}<br>Assets=%{marker.size}<br>Owner_Asset_Ratio=%{customdata[0]}<extra></extra>\",\"legendgroup\":\"Digital,Collectibles,Pixel Art\",\"marker\":{\"color\":\"#EF553B\",\"size\":[11],\"sizemode\":\"area\",\"sizeref\":8.3,\"symbol\":\"circle\"},\"mode\":\"markers\",\"name\":\"Digital,Collectibles,Pixel Art\",\"orientation\":\"v\",\"showlegend\":true,\"x\":[62],\"xaxis\":\"x\",\"y\":[5],\"yaxis\":\"y\",\"type\":\"scatter\"},{\"customdata\":[[69.7]],\"hovertemplate\":\"Category=2D,Collectibles,Digital,Pixel Art<br>Sales=%{x}<br>Owners=%{y}<br>Assets=%{marker.size}<br>Owner_Asset_Ratio=%{customdata[0]}<extra></extra>\",\"legendgroup\":\"2D,Collectibles,Digital,Pixel Art\",\"marker\":{\"color\":\"#00cc96\",\"size\":[33],\"sizemode\":\"area\",\"sizeref\":8.3,\"symbol\":\"circle\"},\"mode\":\"markers\",\"name\":\"2D,Collectibles,Digital,Pixel Art\",\"orientation\":\"v\",\"showlegend\":true,\"x\":[71],\"xaxis\":\"x\",\"y\":[23],\"yaxis\":\"y\",\"type\":\"scatter\"},{\"customdata\":[[70.0]],\"hovertemplate\":\"Category=Collectibles,Digital,Metaverse<br>Sales=%{x}<br>Owners=%{y}<br>Assets=%{marker.size}<br>Owner_Asset_Ratio=%{customdata[0]}<extra></extra>\",\"legendgroup\":\"Collectibles,Digital,Metaverse\",\"marker\":{\"color\":\"#ab63fa\",\"size\":[10],\"sizemode\":\"area\",\"sizeref\":8.3,\"symbol\":\"circle\"},\"mode\":\"markers\",\"name\":\"Collectibles,Digital,Metaverse\",\"orientation\":\"v\",\"showlegend\":true,\"x\":[23],\"xaxis\":\"x\",\"y\":[7],\"yaxis\":\"y\",\"type\":\"scatter\"},{\"customdata\":[[55.56]],\"hovertemplate\":\"Category=Digital,Art,Collectibles,Image<br>Sales=%{x}<br>Owners=%{y}<br>Assets=%{marker.size}<br>Owner_Asset_Ratio=%{customdata[0]}<extra></extra>\",\"legendgroup\":\"Digital,Art,Collectibles,Image\",\"marker\":{\"color\":\"#FFA15A\",\"size\":[63],\"sizemode\":\"area\",\"sizeref\":8.3,\"symbol\":\"circle\"},\"mode\":\"markers\",\"name\":\"Digital,Art,Collectibles,Image\",\"orientation\":\"v\",\"showlegend\":true,\"x\":[8],\"xaxis\":\"x\",\"y\":[35],\"yaxis\":\"y\",\"type\":\"scatter\"},{\"customdata\":[[4.76]],\"hovertemplate\":\"Category=Digital,Art,Collectibles,Graphics,Picture,Design,2D,Drawing,PFP,Image<br>Sales=%{x}<br>Owners=%{y}<br>Assets=%{marker.size}<br>Owner_Asset_Ratio=%{customdata[0]}<extra></extra>\",\"legendgroup\":\"Digital,Art,Collectibles,Graphics,Picture,Design,2D,Drawing,PFP,Image\",\"marker\":{\"color\":\"#19d3f3\",\"size\":[21],\"sizemode\":\"area\",\"sizeref\":8.3,\"symbol\":\"circle\"},\"mode\":\"markers\",\"name\":\"Digital,Art,Collectibles,Graphics,Picture,Design,2D,Drawing,PFP,Image\",\"orientation\":\"v\",\"showlegend\":true,\"x\":[12],\"xaxis\":\"x\",\"y\":[1],\"yaxis\":\"y\",\"type\":\"scatter\"},{\"customdata\":[[54.17]],\"hovertemplate\":\"Category=Digital,Art,Picture,Image,Collectibles,Metaverse<br>Sales=%{x}<br>Owners=%{y}<br>Assets=%{marker.size}<br>Owner_Asset_Ratio=%{customdata[0]}<extra></extra>\",\"legendgroup\":\"Digital,Art,Picture,Image,Collectibles,Metaverse\",\"marker\":{\"color\":\"#FF6692\",\"size\":[24],\"sizemode\":\"area\",\"sizeref\":8.3,\"symbol\":\"circle\"},\"mode\":\"markers\",\"name\":\"Digital,Art,Picture,Image,Collectibles,Metaverse\",\"orientation\":\"v\",\"showlegend\":true,\"x\":[16],\"xaxis\":\"x\",\"y\":[13],\"yaxis\":\"y\",\"type\":\"scatter\"},{\"customdata\":[[50.0]],\"hovertemplate\":\"Category=Digital,3D,Collectibles,PFP,Music Theme<br>Sales=%{x}<br>Owners=%{y}<br>Assets=%{marker.size}<br>Owner_Asset_Ratio=%{customdata[0]}<extra></extra>\",\"legendgroup\":\"Digital,3D,Collectibles,PFP,Music Theme\",\"marker\":{\"color\":\"#B6E880\",\"size\":[24],\"sizemode\":\"area\",\"sizeref\":8.3,\"symbol\":\"circle\"},\"mode\":\"markers\",\"name\":\"Digital,3D,Collectibles,PFP,Music Theme\",\"orientation\":\"v\",\"showlegend\":true,\"x\":[34],\"xaxis\":\"x\",\"y\":[12],\"yaxis\":\"y\",\"type\":\"scatter\"},{\"customdata\":[[83.61]],\"hovertemplate\":\"Category=Digital,Collectibles,Metaverse<br>Sales=%{x}<br>Owners=%{y}<br>Assets=%{marker.size}<br>Owner_Asset_Ratio=%{customdata[0]}<extra></extra>\",\"legendgroup\":\"Digital,Collectibles,Metaverse\",\"marker\":{\"color\":\"#FF97FF\",\"size\":[61],\"sizemode\":\"area\",\"sizeref\":8.3,\"symbol\":\"circle\"},\"mode\":\"markers\",\"name\":\"Digital,Collectibles,Metaverse\",\"orientation\":\"v\",\"showlegend\":true,\"x\":[20],\"xaxis\":\"x\",\"y\":[51],\"yaxis\":\"y\",\"type\":\"scatter\"},{\"customdata\":[[22.77]],\"hovertemplate\":\"Category=Digital,Metaverse,Privilege,Collectibles,Art<br>Sales=%{x}<br>Owners=%{y}<br>Assets=%{marker.size}<br>Owner_Asset_Ratio=%{customdata[0]}<extra></extra>\",\"legendgroup\":\"Digital,Metaverse,Privilege,Collectibles,Art\",\"marker\":{\"color\":\"#FECB52\",\"size\":[101],\"sizemode\":\"area\",\"sizeref\":8.3,\"symbol\":\"circle\"},\"mode\":\"markers\",\"name\":\"Digital,Metaverse,Privilege,Collectibles,Art\",\"orientation\":\"v\",\"showlegend\":true,\"x\":[67],\"xaxis\":\"x\",\"y\":[23],\"yaxis\":\"y\",\"type\":\"scatter\"},{\"customdata\":[[8.11]],\"hovertemplate\":\"Category=2D,Art,Collectibles,PFP<br>Sales=%{x}<br>Owners=%{y}<br>Assets=%{marker.size}<br>Owner_Asset_Ratio=%{customdata[0]}<extra></extra>\",\"legendgroup\":\"2D,Art,Collectibles,PFP\",\"marker\":{\"color\":\"#636efa\",\"size\":[296],\"sizemode\":\"area\",\"sizeref\":8.3,\"symbol\":\"circle\"},\"mode\":\"markers\",\"name\":\"2D,Art,Collectibles,PFP\",\"orientation\":\"v\",\"showlegend\":true,\"x\":[52],\"xaxis\":\"x\",\"y\":[24],\"yaxis\":\"y\",\"type\":\"scatter\"},{\"customdata\":[[40.0]],\"hovertemplate\":\"Category=Art,Metaverse,Collectibles,Digital,PFP<br>Sales=%{x}<br>Owners=%{y}<br>Assets=%{marker.size}<br>Owner_Asset_Ratio=%{customdata[0]}<extra></extra>\",\"legendgroup\":\"Art,Metaverse,Collectibles,Digital,PFP\",\"marker\":{\"color\":\"#EF553B\",\"size\":[5],\"sizemode\":\"area\",\"sizeref\":8.3,\"symbol\":\"circle\"},\"mode\":\"markers\",\"name\":\"Art,Metaverse,Collectibles,Digital,PFP\",\"orientation\":\"v\",\"showlegend\":true,\"x\":[12],\"xaxis\":\"x\",\"y\":[2],\"yaxis\":\"y\",\"type\":\"scatter\"},{\"customdata\":[[20.0]],\"hovertemplate\":\"Category=Art,Design,2D,Collectibles<br>Sales=%{x}<br>Owners=%{y}<br>Assets=%{marker.size}<br>Owner_Asset_Ratio=%{customdata[0]}<extra></extra>\",\"legendgroup\":\"Art,Design,2D,Collectibles\",\"marker\":{\"color\":\"#00cc96\",\"size\":[10],\"sizemode\":\"area\",\"sizeref\":8.3,\"symbol\":\"circle\"},\"mode\":\"markers\",\"name\":\"Art,Design,2D,Collectibles\",\"orientation\":\"v\",\"showlegend\":true,\"x\":[13],\"xaxis\":\"x\",\"y\":[2],\"yaxis\":\"y\",\"type\":\"scatter\"},{\"customdata\":[[54.17]],\"hovertemplate\":\"Category=2D,Digital,Metaverse,Design<br>Sales=%{x}<br>Owners=%{y}<br>Assets=%{marker.size}<br>Owner_Asset_Ratio=%{customdata[0]}<extra></extra>\",\"legendgroup\":\"2D,Digital,Metaverse,Design\",\"marker\":{\"color\":\"#ab63fa\",\"size\":[72],\"sizemode\":\"area\",\"sizeref\":8.3,\"symbol\":\"circle\"},\"mode\":\"markers\",\"name\":\"2D,Digital,Metaverse,Design\",\"orientation\":\"v\",\"showlegend\":true,\"x\":[48],\"xaxis\":\"x\",\"y\":[39],\"yaxis\":\"y\",\"type\":\"scatter\"},{\"customdata\":[[47.62]],\"hovertemplate\":\"Category=Art,Digital,Collectibles,Graphics,2D,Street Art,Image,Picture<br>Sales=%{x}<br>Owners=%{y}<br>Assets=%{marker.size}<br>Owner_Asset_Ratio=%{customdata[0]}<extra></extra>\",\"legendgroup\":\"Art,Digital,Collectibles,Graphics,2D,Street Art,Image,Picture\",\"marker\":{\"color\":\"#FFA15A\",\"size\":[21],\"sizemode\":\"area\",\"sizeref\":8.3,\"symbol\":\"circle\"},\"mode\":\"markers\",\"name\":\"Art,Digital,Collectibles,Graphics,2D,Street Art,Image,Picture\",\"orientation\":\"v\",\"showlegend\":true,\"x\":[13],\"xaxis\":\"x\",\"y\":[10],\"yaxis\":\"y\",\"type\":\"scatter\"},{\"customdata\":[[100.0]],\"hovertemplate\":\"Category=Art,2D,Collectibles,Image<br>Sales=%{x}<br>Owners=%{y}<br>Assets=%{marker.size}<br>Owner_Asset_Ratio=%{customdata[0]}<extra></extra>\",\"legendgroup\":\"Art,2D,Collectibles,Image\",\"marker\":{\"color\":\"#19d3f3\",\"size\":[1],\"sizemode\":\"area\",\"sizeref\":8.3,\"symbol\":\"circle\"},\"mode\":\"markers\",\"name\":\"Art,2D,Collectibles,Image\",\"orientation\":\"v\",\"showlegend\":true,\"x\":[16],\"xaxis\":\"x\",\"y\":[1],\"yaxis\":\"y\",\"type\":\"scatter\"},{\"customdata\":[[28.57]],\"hovertemplate\":\"Category=Street Art,Metaverse,Art,Collectibles,Privilege,Digital<br>Sales=%{x}<br>Owners=%{y}<br>Assets=%{marker.size}<br>Owner_Asset_Ratio=%{customdata[0]}<extra></extra>\",\"legendgroup\":\"Street Art,Metaverse,Art,Collectibles,Privilege,Digital\",\"marker\":{\"color\":\"#FF6692\",\"size\":[14],\"sizemode\":\"area\",\"sizeref\":8.3,\"symbol\":\"circle\"},\"mode\":\"markers\",\"name\":\"Street Art,Metaverse,Art,Collectibles,Privilege,Digital\",\"orientation\":\"v\",\"showlegend\":true,\"x\":[20],\"xaxis\":\"x\",\"y\":[4],\"yaxis\":\"y\",\"type\":\"scatter\"},{\"customdata\":[[28.13]],\"hovertemplate\":\"Category=Digital,Art,Collectibles,Graphics,2D,Design,Image<br>Sales=%{x}<br>Owners=%{y}<br>Assets=%{marker.size}<br>Owner_Asset_Ratio=%{customdata[0]}<extra></extra>\",\"legendgroup\":\"Digital,Art,Collectibles,Graphics,2D,Design,Image\",\"marker\":{\"color\":\"#B6E880\",\"size\":[64],\"sizemode\":\"area\",\"sizeref\":8.3,\"symbol\":\"circle\"},\"mode\":\"markers\",\"name\":\"Digital,Art,Collectibles,Graphics,2D,Design,Image\",\"orientation\":\"v\",\"showlegend\":true,\"x\":[57],\"xaxis\":\"x\",\"y\":[18],\"yaxis\":\"y\",\"type\":\"scatter\"},{\"customdata\":[[33.33]],\"hovertemplate\":\"Category=Art,Collectibles,2D,3D,Painting,Street Art,Drawing,Design,Image,Picture<br>Sales=%{x}<br>Owners=%{y}<br>Assets=%{marker.size}<br>Owner_Asset_Ratio=%{customdata[0]}<extra></extra>\",\"legendgroup\":\"Art,Collectibles,2D,3D,Painting,Street Art,Drawing,Design,Image,Picture\",\"marker\":{\"color\":\"#FF97FF\",\"size\":[6],\"sizemode\":\"area\",\"sizeref\":8.3,\"symbol\":\"circle\"},\"mode\":\"markers\",\"name\":\"Art,Collectibles,2D,3D,Painting,Street Art,Drawing,Design,Image,Picture\",\"orientation\":\"v\",\"showlegend\":true,\"x\":[4],\"xaxis\":\"x\",\"y\":[2],\"yaxis\":\"y\",\"type\":\"scatter\"},{\"customdata\":[[71.43]],\"hovertemplate\":\"Category=Digital,Collectibles,3D,2D,Street Art,Drawing,Art,Metaverse,Image<br>Sales=%{x}<br>Owners=%{y}<br>Assets=%{marker.size}<br>Owner_Asset_Ratio=%{customdata[0]}<extra></extra>\",\"legendgroup\":\"Digital,Collectibles,3D,2D,Street Art,Drawing,Art,Metaverse,Image\",\"marker\":{\"color\":\"#FECB52\",\"size\":[7],\"sizemode\":\"area\",\"sizeref\":8.3,\"symbol\":\"circle\"},\"mode\":\"markers\",\"name\":\"Digital,Collectibles,3D,2D,Street Art,Drawing,Art,Metaverse,Image\",\"orientation\":\"v\",\"showlegend\":true,\"x\":[3],\"xaxis\":\"x\",\"y\":[5],\"yaxis\":\"y\",\"type\":\"scatter\"},{\"customdata\":[[56.0]],\"hovertemplate\":\"Category=Digital,Metaverse,PFP,Collectibles,Art<br>Sales=%{x}<br>Owners=%{y}<br>Assets=%{marker.size}<br>Owner_Asset_Ratio=%{customdata[0]}<extra></extra>\",\"legendgroup\":\"Digital,Metaverse,PFP,Collectibles,Art\",\"marker\":{\"color\":\"#636efa\",\"size\":[75],\"sizemode\":\"area\",\"sizeref\":8.3,\"symbol\":\"circle\"},\"mode\":\"markers\",\"name\":\"Digital,Metaverse,PFP,Collectibles,Art\",\"orientation\":\"v\",\"showlegend\":true,\"x\":[13],\"xaxis\":\"x\",\"y\":[42],\"yaxis\":\"y\",\"type\":\"scatter\"},{\"customdata\":[[6.82]],\"hovertemplate\":\"Category=Art,Collectibles,Digital,Metaverse,Image<br>Sales=%{x}<br>Owners=%{y}<br>Assets=%{marker.size}<br>Owner_Asset_Ratio=%{customdata[0]}<extra></extra>\",\"legendgroup\":\"Art,Collectibles,Digital,Metaverse,Image\",\"marker\":{\"color\":\"#EF553B\",\"size\":[132],\"sizemode\":\"area\",\"sizeref\":8.3,\"symbol\":\"circle\"},\"mode\":\"markers\",\"name\":\"Art,Collectibles,Digital,Metaverse,Image\",\"orientation\":\"v\",\"showlegend\":true,\"x\":[8],\"xaxis\":\"x\",\"y\":[9],\"yaxis\":\"y\",\"type\":\"scatter\"},{\"customdata\":[[6.38]],\"hovertemplate\":\"Category=Collectibles,Digital,Art<br>Sales=%{x}<br>Owners=%{y}<br>Assets=%{marker.size}<br>Owner_Asset_Ratio=%{customdata[0]}<extra></extra>\",\"legendgroup\":\"Collectibles,Digital,Art\",\"marker\":{\"color\":\"#00cc96\",\"size\":[47],\"sizemode\":\"area\",\"sizeref\":8.3,\"symbol\":\"circle\"},\"mode\":\"markers\",\"name\":\"Collectibles,Digital,Art\",\"orientation\":\"v\",\"showlegend\":true,\"x\":[6],\"xaxis\":\"x\",\"y\":[3],\"yaxis\":\"y\",\"type\":\"scatter\"},{\"customdata\":[[15.63]],\"hovertemplate\":\"Category=Art,Painting,Digital,Metaverse,Graphics,Drawing<br>Sales=%{x}<br>Owners=%{y}<br>Assets=%{marker.size}<br>Owner_Asset_Ratio=%{customdata[0]}<extra></extra>\",\"legendgroup\":\"Art,Painting,Digital,Metaverse,Graphics,Drawing\",\"marker\":{\"color\":\"#ab63fa\",\"size\":[32],\"sizemode\":\"area\",\"sizeref\":8.3,\"symbol\":\"circle\"},\"mode\":\"markers\",\"name\":\"Art,Painting,Digital,Metaverse,Graphics,Drawing\",\"orientation\":\"v\",\"showlegend\":true,\"x\":[11],\"xaxis\":\"x\",\"y\":[5],\"yaxis\":\"y\",\"type\":\"scatter\"},{\"customdata\":[[58.82]],\"hovertemplate\":\"Category=2D,Metaverse,Art,Digital,PFP,Collectibles<br>Sales=%{x}<br>Owners=%{y}<br>Assets=%{marker.size}<br>Owner_Asset_Ratio=%{customdata[0]}<extra></extra>\",\"legendgroup\":\"2D,Metaverse,Art,Digital,PFP,Collectibles\",\"marker\":{\"color\":\"#FFA15A\",\"size\":[17],\"sizemode\":\"area\",\"sizeref\":8.3,\"symbol\":\"circle\"},\"mode\":\"markers\",\"name\":\"2D,Metaverse,Art,Digital,PFP,Collectibles\",\"orientation\":\"v\",\"showlegend\":true,\"x\":[14],\"xaxis\":\"x\",\"y\":[10],\"yaxis\":\"y\",\"type\":\"scatter\"},{\"customdata\":[[30.0]],\"hovertemplate\":\"Category=Art,Design,Digital,Image,Graphics<br>Sales=%{x}<br>Owners=%{y}<br>Assets=%{marker.size}<br>Owner_Asset_Ratio=%{customdata[0]}<extra></extra>\",\"legendgroup\":\"Art,Design,Digital,Image,Graphics\",\"marker\":{\"color\":\"#19d3f3\",\"size\":[40],\"sizemode\":\"area\",\"sizeref\":8.3,\"symbol\":\"circle\"},\"mode\":\"markers\",\"name\":\"Art,Design,Digital,Image,Graphics\",\"orientation\":\"v\",\"showlegend\":true,\"x\":[23],\"xaxis\":\"x\",\"y\":[12],\"yaxis\":\"y\",\"type\":\"scatter\"},{\"customdata\":[[40.0]],\"hovertemplate\":\"Category=Art,Collectibles,Artifact,2D,Painting,Picture<br>Sales=%{x}<br>Owners=%{y}<br>Assets=%{marker.size}<br>Owner_Asset_Ratio=%{customdata[0]}<extra></extra>\",\"legendgroup\":\"Art,Collectibles,Artifact,2D,Painting,Picture\",\"marker\":{\"color\":\"#FF6692\",\"size\":[5],\"sizemode\":\"area\",\"sizeref\":8.3,\"symbol\":\"circle\"},\"mode\":\"markers\",\"name\":\"Art,Collectibles,Artifact,2D,Painting,Picture\",\"orientation\":\"v\",\"showlegend\":true,\"x\":[14],\"xaxis\":\"x\",\"y\":[2],\"yaxis\":\"y\",\"type\":\"scatter\"},{\"customdata\":[[14.55]],\"hovertemplate\":\"Category=Collectibles,Art,Digital,Graphics,Design,Picture<br>Sales=%{x}<br>Owners=%{y}<br>Assets=%{marker.size}<br>Owner_Asset_Ratio=%{customdata[0]}<extra></extra>\",\"legendgroup\":\"Collectibles,Art,Digital,Graphics,Design,Picture\",\"marker\":{\"color\":\"#B6E880\",\"size\":[55],\"sizemode\":\"area\",\"sizeref\":8.3,\"symbol\":\"circle\"},\"mode\":\"markers\",\"name\":\"Collectibles,Art,Digital,Graphics,Design,Picture\",\"orientation\":\"v\",\"showlegend\":true,\"x\":[29],\"xaxis\":\"x\",\"y\":[8],\"yaxis\":\"y\",\"type\":\"scatter\"},{\"customdata\":[[26.53]],\"hovertemplate\":\"Category=Digital,PFP,Image,Collectibles,2D<br>Sales=%{x}<br>Owners=%{y}<br>Assets=%{marker.size}<br>Owner_Asset_Ratio=%{customdata[0]}<extra></extra>\",\"legendgroup\":\"Digital,PFP,Image,Collectibles,2D\",\"marker\":{\"color\":\"#FF97FF\",\"size\":[49],\"sizemode\":\"area\",\"sizeref\":8.3,\"symbol\":\"circle\"},\"mode\":\"markers\",\"name\":\"Digital,PFP,Image,Collectibles,2D\",\"orientation\":\"v\",\"showlegend\":true,\"x\":[52],\"xaxis\":\"x\",\"y\":[13],\"yaxis\":\"y\",\"type\":\"scatter\"},{\"customdata\":[[11.29]],\"hovertemplate\":\"Category=Digital,Art,Collectibles,2D<br>Sales=%{x}<br>Owners=%{y}<br>Assets=%{marker.size}<br>Owner_Asset_Ratio=%{customdata[0]}<extra></extra>\",\"legendgroup\":\"Digital,Art,Collectibles,2D\",\"marker\":{\"color\":\"#FECB52\",\"size\":[124],\"sizemode\":\"area\",\"sizeref\":8.3,\"symbol\":\"circle\"},\"mode\":\"markers\",\"name\":\"Digital,Art,Collectibles,2D\",\"orientation\":\"v\",\"showlegend\":true,\"x\":[82],\"xaxis\":\"x\",\"y\":[14],\"yaxis\":\"y\",\"type\":\"scatter\"},{\"customdata\":[[54.1]],\"hovertemplate\":\"Category=Collectibles,Trading Cards,2D<br>Sales=%{x}<br>Owners=%{y}<br>Assets=%{marker.size}<br>Owner_Asset_Ratio=%{customdata[0]}<extra></extra>\",\"legendgroup\":\"Collectibles,Trading Cards,2D\",\"marker\":{\"color\":\"#636efa\",\"size\":[61],\"sizemode\":\"area\",\"sizeref\":8.3,\"symbol\":\"circle\"},\"mode\":\"markers\",\"name\":\"Collectibles,Trading Cards,2D\",\"orientation\":\"v\",\"showlegend\":true,\"x\":[5],\"xaxis\":\"x\",\"y\":[33],\"yaxis\":\"y\",\"type\":\"scatter\"},{\"customdata\":[[51.61]],\"hovertemplate\":\"Category=Digital,Art,Collectibles,2D,Graphics,Drawing<br>Sales=%{x}<br>Owners=%{y}<br>Assets=%{marker.size}<br>Owner_Asset_Ratio=%{customdata[0]}<extra></extra>\",\"legendgroup\":\"Digital,Art,Collectibles,2D,Graphics,Drawing\",\"marker\":{\"color\":\"#EF553B\",\"size\":[62],\"sizemode\":\"area\",\"sizeref\":8.3,\"symbol\":\"circle\"},\"mode\":\"markers\",\"name\":\"Digital,Art,Collectibles,2D,Graphics,Drawing\",\"orientation\":\"v\",\"showlegend\":true,\"x\":[13],\"xaxis\":\"x\",\"y\":[32],\"yaxis\":\"y\",\"type\":\"scatter\"},{\"customdata\":[[41.03]],\"hovertemplate\":\"Category=Digital,Graphics,Image,Drawing,PFP<br>Sales=%{x}<br>Owners=%{y}<br>Assets=%{marker.size}<br>Owner_Asset_Ratio=%{customdata[0]}<extra></extra>\",\"legendgroup\":\"Digital,Graphics,Image,Drawing,PFP\",\"marker\":{\"color\":\"#00cc96\",\"size\":[39],\"sizemode\":\"area\",\"sizeref\":8.3,\"symbol\":\"circle\"},\"mode\":\"markers\",\"name\":\"Digital,Graphics,Image,Drawing,PFP\",\"orientation\":\"v\",\"showlegend\":true,\"x\":[20],\"xaxis\":\"x\",\"y\":[16],\"yaxis\":\"y\",\"type\":\"scatter\"},{\"customdata\":[[null]],\"hovertemplate\":\"Category=Digital,Art,2D,Graphics,Painting,Drawing,Design<br>Sales=%{x}<br>Owners=%{y}<br>Assets=%{marker.size}<br>Owner_Asset_Ratio=%{customdata[0]}<extra></extra>\",\"legendgroup\":\"Digital,Art,2D,Graphics,Painting,Drawing,Design\",\"marker\":{\"color\":\"#ab63fa\",\"size\":[0],\"sizemode\":\"area\",\"sizeref\":8.3,\"symbol\":\"circle\"},\"mode\":\"markers\",\"name\":\"Digital,Art,2D,Graphics,Painting,Drawing,Design\",\"orientation\":\"v\",\"showlegend\":true,\"x\":[4],\"xaxis\":\"x\",\"y\":[0],\"yaxis\":\"y\",\"type\":\"scatter\"},{\"customdata\":[[6.38]],\"hovertemplate\":\"Category=Digital,Art,Painting,AI,Collectibles<br>Sales=%{x}<br>Owners=%{y}<br>Assets=%{marker.size}<br>Owner_Asset_Ratio=%{customdata[0]}<extra></extra>\",\"legendgroup\":\"Digital,Art,Painting,AI,Collectibles\",\"marker\":{\"color\":\"#FFA15A\",\"size\":[47],\"sizemode\":\"area\",\"sizeref\":8.3,\"symbol\":\"circle\"},\"mode\":\"markers\",\"name\":\"Digital,Art,Painting,AI,Collectibles\",\"orientation\":\"v\",\"showlegend\":true,\"x\":[8],\"xaxis\":\"x\",\"y\":[3],\"yaxis\":\"y\",\"type\":\"scatter\"},{\"customdata\":[[3.77]],\"hovertemplate\":\"Category=Art,Digital,Collectibles,Picture,Drawing<br>Sales=%{x}<br>Owners=%{y}<br>Assets=%{marker.size}<br>Owner_Asset_Ratio=%{customdata[0]}<extra></extra>\",\"legendgroup\":\"Art,Digital,Collectibles,Picture,Drawing\",\"marker\":{\"color\":\"#19d3f3\",\"size\":[53],\"sizemode\":\"area\",\"sizeref\":8.3,\"symbol\":\"circle\"},\"mode\":\"markers\",\"name\":\"Art,Digital,Collectibles,Picture,Drawing\",\"orientation\":\"v\",\"showlegend\":true,\"x\":[1],\"xaxis\":\"x\",\"y\":[2],\"yaxis\":\"y\",\"type\":\"scatter\"},{\"customdata\":[[69.44]],\"hovertemplate\":\"Category=2D,Video,Immaterial,Ticket,Metaverse,Image,Art,Collectibles<br>Sales=%{x}<br>Owners=%{y}<br>Assets=%{marker.size}<br>Owner_Asset_Ratio=%{customdata[0]}<extra></extra>\",\"legendgroup\":\"2D,Video,Immaterial,Ticket,Metaverse,Image,Art,Collectibles\",\"marker\":{\"color\":\"#FF6692\",\"size\":[36],\"sizemode\":\"area\",\"sizeref\":8.3,\"symbol\":\"circle\"},\"mode\":\"markers\",\"name\":\"2D,Video,Immaterial,Ticket,Metaverse,Image,Art,Collectibles\",\"orientation\":\"v\",\"showlegend\":true,\"x\":[28],\"xaxis\":\"x\",\"y\":[25],\"yaxis\":\"y\",\"type\":\"scatter\"},{\"customdata\":[[68.85]],\"hovertemplate\":\"Category=Digital,Metaverse,Art,Collectibles,2D<br>Sales=%{x}<br>Owners=%{y}<br>Assets=%{marker.size}<br>Owner_Asset_Ratio=%{customdata[0]}<extra></extra>\",\"legendgroup\":\"Digital,Metaverse,Art,Collectibles,2D\",\"marker\":{\"color\":\"#B6E880\",\"size\":[61],\"sizemode\":\"area\",\"sizeref\":8.3,\"symbol\":\"circle\"},\"mode\":\"markers\",\"name\":\"Digital,Metaverse,Art,Collectibles,2D\",\"orientation\":\"v\",\"showlegend\":true,\"x\":[39],\"xaxis\":\"x\",\"y\":[42],\"yaxis\":\"y\",\"type\":\"scatter\"},{\"customdata\":[[54.55]],\"hovertemplate\":\"Category=Art,Metaverse,Digital,2D,Image,Collectibles<br>Sales=%{x}<br>Owners=%{y}<br>Assets=%{marker.size}<br>Owner_Asset_Ratio=%{customdata[0]}<extra></extra>\",\"legendgroup\":\"Art,Metaverse,Digital,2D,Image,Collectibles\",\"marker\":{\"color\":\"#FF97FF\",\"size\":[22],\"sizemode\":\"area\",\"sizeref\":8.3,\"symbol\":\"circle\"},\"mode\":\"markers\",\"name\":\"Art,Metaverse,Digital,2D,Image,Collectibles\",\"orientation\":\"v\",\"showlegend\":true,\"x\":[12],\"xaxis\":\"x\",\"y\":[12],\"yaxis\":\"y\",\"type\":\"scatter\"},{\"customdata\":[[2.44]],\"hovertemplate\":\"Category=Art,Collectibles,Photography<br>Sales=%{x}<br>Owners=%{y}<br>Assets=%{marker.size}<br>Owner_Asset_Ratio=%{customdata[0]}<extra></extra>\",\"legendgroup\":\"Art,Collectibles,Photography\",\"marker\":{\"color\":\"#FECB52\",\"size\":[41],\"sizemode\":\"area\",\"sizeref\":8.3,\"symbol\":\"circle\"},\"mode\":\"markers\",\"name\":\"Art,Collectibles,Photography\",\"orientation\":\"v\",\"showlegend\":true,\"x\":[9],\"xaxis\":\"x\",\"y\":[1],\"yaxis\":\"y\",\"type\":\"scatter\"},{\"customdata\":[[28.89]],\"hovertemplate\":\"Category=PFP,Collectibles,2D,Art<br>Sales=%{x}<br>Owners=%{y}<br>Assets=%{marker.size}<br>Owner_Asset_Ratio=%{customdata[0]}<extra></extra>\",\"legendgroup\":\"PFP,Collectibles,2D,Art\",\"marker\":{\"color\":\"#636efa\",\"size\":[45],\"sizemode\":\"area\",\"sizeref\":8.3,\"symbol\":\"circle\"},\"mode\":\"markers\",\"name\":\"PFP,Collectibles,2D,Art\",\"orientation\":\"v\",\"showlegend\":true,\"x\":[29],\"xaxis\":\"x\",\"y\":[13],\"yaxis\":\"y\",\"type\":\"scatter\"},{\"customdata\":[[83.33]],\"hovertemplate\":\"Category=Art,Privilege,Metaverse<br>Sales=%{x}<br>Owners=%{y}<br>Assets=%{marker.size}<br>Owner_Asset_Ratio=%{customdata[0]}<extra></extra>\",\"legendgroup\":\"Art,Privilege,Metaverse\",\"marker\":{\"color\":\"#EF553B\",\"size\":[6],\"sizemode\":\"area\",\"sizeref\":8.3,\"symbol\":\"circle\"},\"mode\":\"markers\",\"name\":\"Art,Privilege,Metaverse\",\"orientation\":\"v\",\"showlegend\":true,\"x\":[10],\"xaxis\":\"x\",\"y\":[5],\"yaxis\":\"y\",\"type\":\"scatter\"},{\"customdata\":[[83.33]],\"hovertemplate\":\"Category=Ticket<br>Sales=%{x}<br>Owners=%{y}<br>Assets=%{marker.size}<br>Owner_Asset_Ratio=%{customdata[0]}<extra></extra>\",\"legendgroup\":\"Ticket\",\"marker\":{\"color\":\"#00cc96\",\"size\":[12],\"sizemode\":\"area\",\"sizeref\":8.3,\"symbol\":\"circle\"},\"mode\":\"markers\",\"name\":\"Ticket\",\"orientation\":\"v\",\"showlegend\":true,\"x\":[18],\"xaxis\":\"x\",\"y\":[10],\"yaxis\":\"y\",\"type\":\"scatter\"},{\"customdata\":[[37.5]],\"hovertemplate\":\"Category=Collectibles,Art,Digital,3D<br>Sales=%{x}<br>Owners=%{y}<br>Assets=%{marker.size}<br>Owner_Asset_Ratio=%{customdata[0]}<extra></extra>\",\"legendgroup\":\"Collectibles,Art,Digital,3D\",\"marker\":{\"color\":\"#ab63fa\",\"size\":[32],\"sizemode\":\"area\",\"sizeref\":8.3,\"symbol\":\"circle\"},\"mode\":\"markers\",\"name\":\"Collectibles,Art,Digital,3D\",\"orientation\":\"v\",\"showlegend\":true,\"x\":[24],\"xaxis\":\"x\",\"y\":[12],\"yaxis\":\"y\",\"type\":\"scatter\"},{\"customdata\":[[48.74]],\"hovertemplate\":\"Category=Digital,Art,2D,Collectibles<br>Sales=%{x}<br>Owners=%{y}<br>Assets=%{marker.size}<br>Owner_Asset_Ratio=%{customdata[0]}<extra></extra>\",\"legendgroup\":\"Digital,Art,2D,Collectibles\",\"marker\":{\"color\":\"#FFA15A\",\"size\":[119],\"sizemode\":\"area\",\"sizeref\":8.3,\"symbol\":\"circle\"},\"mode\":\"markers\",\"name\":\"Digital,Art,2D,Collectibles\",\"orientation\":\"v\",\"showlegend\":true,\"x\":[15],\"xaxis\":\"x\",\"y\":[58],\"yaxis\":\"y\",\"type\":\"scatter\"},{\"customdata\":[[null]],\"hovertemplate\":\"Category=Digital,Art,Design,Trading Cards,Collectibles,Physical<br>Sales=%{x}<br>Owners=%{y}<br>Assets=%{marker.size}<br>Owner_Asset_Ratio=%{customdata[0]}<extra></extra>\",\"legendgroup\":\"Digital,Art,Design,Trading Cards,Collectibles,Physical\",\"marker\":{\"color\":\"#19d3f3\",\"size\":[0],\"sizemode\":\"area\",\"sizeref\":8.3,\"symbol\":\"circle\"},\"mode\":\"markers\",\"name\":\"Digital,Art,Design,Trading Cards,Collectibles,Physical\",\"orientation\":\"v\",\"showlegend\":true,\"x\":[1],\"xaxis\":\"x\",\"y\":[0],\"yaxis\":\"y\",\"type\":\"scatter\"},{\"customdata\":[[78.85]],\"hovertemplate\":\"Category=Collectibles,Digital<br>Sales=%{x}<br>Owners=%{y}<br>Assets=%{marker.size}<br>Owner_Asset_Ratio=%{customdata[0]}<extra></extra>\",\"legendgroup\":\"Collectibles,Digital\",\"marker\":{\"color\":\"#FF6692\",\"size\":[104],\"sizemode\":\"area\",\"sizeref\":8.3,\"symbol\":\"circle\"},\"mode\":\"markers\",\"name\":\"Collectibles,Digital\",\"orientation\":\"v\",\"showlegend\":true,\"x\":[13],\"xaxis\":\"x\",\"y\":[82],\"yaxis\":\"y\",\"type\":\"scatter\"},{\"customdata\":[[25.0]],\"hovertemplate\":\"Category=Digital,Art,Collectibles,Graphics,2D,Drawing<br>Sales=%{x}<br>Owners=%{y}<br>Assets=%{marker.size}<br>Owner_Asset_Ratio=%{customdata[0]}<extra></extra>\",\"legendgroup\":\"Digital,Art,Collectibles,Graphics,2D,Drawing\",\"marker\":{\"color\":\"#B6E880\",\"size\":[28],\"sizemode\":\"area\",\"sizeref\":8.3,\"symbol\":\"circle\"},\"mode\":\"markers\",\"name\":\"Digital,Art,Collectibles,Graphics,2D,Drawing\",\"orientation\":\"v\",\"showlegend\":true,\"x\":[15],\"xaxis\":\"x\",\"y\":[7],\"yaxis\":\"y\",\"type\":\"scatter\"},{\"customdata\":[[13.33]],\"hovertemplate\":\"Category=Digital,Art,Image<br>Sales=%{x}<br>Owners=%{y}<br>Assets=%{marker.size}<br>Owner_Asset_Ratio=%{customdata[0]}<extra></extra>\",\"legendgroup\":\"Digital,Art,Image\",\"marker\":{\"color\":\"#FF97FF\",\"size\":[15],\"sizemode\":\"area\",\"sizeref\":8.3,\"symbol\":\"circle\"},\"mode\":\"markers\",\"name\":\"Digital,Art,Image\",\"orientation\":\"v\",\"showlegend\":true,\"x\":[14],\"xaxis\":\"x\",\"y\":[2],\"yaxis\":\"y\",\"type\":\"scatter\"},{\"customdata\":[[58.06]],\"hovertemplate\":\"Category=Metaverse,P2E,Art<br>Sales=%{x}<br>Owners=%{y}<br>Assets=%{marker.size}<br>Owner_Asset_Ratio=%{customdata[0]}<extra></extra>\",\"legendgroup\":\"Metaverse,P2E,Art\",\"marker\":{\"color\":\"#FECB52\",\"size\":[31],\"sizemode\":\"area\",\"sizeref\":8.3,\"symbol\":\"circle\"},\"mode\":\"markers\",\"name\":\"Metaverse,P2E,Art\",\"orientation\":\"v\",\"showlegend\":true,\"x\":[13],\"xaxis\":\"x\",\"y\":[18],\"yaxis\":\"y\",\"type\":\"scatter\"},{\"customdata\":[[22.22]],\"hovertemplate\":\"Category=Art,Collectibles,2D,PFP<br>Sales=%{x}<br>Owners=%{y}<br>Assets=%{marker.size}<br>Owner_Asset_Ratio=%{customdata[0]}<extra></extra>\",\"legendgroup\":\"Art,Collectibles,2D,PFP\",\"marker\":{\"color\":\"#636efa\",\"size\":[63],\"sizemode\":\"area\",\"sizeref\":8.3,\"symbol\":\"circle\"},\"mode\":\"markers\",\"name\":\"Art,Collectibles,2D,PFP\",\"orientation\":\"v\",\"showlegend\":true,\"x\":[28],\"xaxis\":\"x\",\"y\":[14],\"yaxis\":\"y\",\"type\":\"scatter\"},{\"customdata\":[[33.33]],\"hovertemplate\":\"Category=Art,Pixel Art,Digital,2D<br>Sales=%{x}<br>Owners=%{y}<br>Assets=%{marker.size}<br>Owner_Asset_Ratio=%{customdata[0]}<extra></extra>\",\"legendgroup\":\"Art,Pixel Art,Digital,2D\",\"marker\":{\"color\":\"#EF553B\",\"size\":[12],\"sizemode\":\"area\",\"sizeref\":8.3,\"symbol\":\"circle\"},\"mode\":\"markers\",\"name\":\"Art,Pixel Art,Digital,2D\",\"orientation\":\"v\",\"showlegend\":true,\"x\":[15],\"xaxis\":\"x\",\"y\":[4],\"yaxis\":\"y\",\"type\":\"scatter\"},{\"customdata\":[[null]],\"hovertemplate\":\"Category=Digital,Art,PFP,3D<br>Sales=%{x}<br>Owners=%{y}<br>Assets=%{marker.size}<br>Owner_Asset_Ratio=%{customdata[0]}<extra></extra>\",\"legendgroup\":\"Digital,Art,PFP,3D\",\"marker\":{\"color\":\"#00cc96\",\"size\":[15],\"sizemode\":\"area\",\"sizeref\":8.3,\"symbol\":\"circle\"},\"mode\":\"markers\",\"name\":\"Digital,Art,PFP,3D\",\"orientation\":\"v\",\"showlegend\":true,\"x\":[4],\"xaxis\":\"x\",\"y\":[16],\"yaxis\":\"y\",\"type\":\"scatter\"},{\"customdata\":[[42.86]],\"hovertemplate\":\"Category=Digital,Art,PFP,2D,Drawing,Image,Collectibles,Street Art<br>Sales=%{x}<br>Owners=%{y}<br>Assets=%{marker.size}<br>Owner_Asset_Ratio=%{customdata[0]}<extra></extra>\",\"legendgroup\":\"Digital,Art,PFP,2D,Drawing,Image,Collectibles,Street Art\",\"marker\":{\"color\":\"#ab63fa\",\"size\":[14],\"sizemode\":\"area\",\"sizeref\":8.3,\"symbol\":\"circle\"},\"mode\":\"markers\",\"name\":\"Digital,Art,PFP,2D,Drawing,Image,Collectibles,Street Art\",\"orientation\":\"v\",\"showlegend\":true,\"x\":[14],\"xaxis\":\"x\",\"y\":[6],\"yaxis\":\"y\",\"type\":\"scatter\"},{\"customdata\":[[14.81]],\"hovertemplate\":\"Category=Digital,Art,Collectibles,PFP<br>Sales=%{x}<br>Owners=%{y}<br>Assets=%{marker.size}<br>Owner_Asset_Ratio=%{customdata[0]}<extra></extra>\",\"legendgroup\":\"Digital,Art,Collectibles,PFP\",\"marker\":{\"color\":\"#FFA15A\",\"size\":[81],\"sizemode\":\"area\",\"sizeref\":8.3,\"symbol\":\"circle\"},\"mode\":\"markers\",\"name\":\"Digital,Art,Collectibles,PFP\",\"orientation\":\"v\",\"showlegend\":true,\"x\":[87],\"xaxis\":\"x\",\"y\":[12],\"yaxis\":\"y\",\"type\":\"scatter\"},{\"customdata\":[[76.47]],\"hovertemplate\":\"Category=Digital,3D,2D,Graphics,Metaverse<br>Sales=%{x}<br>Owners=%{y}<br>Assets=%{marker.size}<br>Owner_Asset_Ratio=%{customdata[0]}<extra></extra>\",\"legendgroup\":\"Digital,3D,2D,Graphics,Metaverse\",\"marker\":{\"color\":\"#19d3f3\",\"size\":[17],\"sizemode\":\"area\",\"sizeref\":8.3,\"symbol\":\"circle\"},\"mode\":\"markers\",\"name\":\"Digital,3D,2D,Graphics,Metaverse\",\"orientation\":\"v\",\"showlegend\":true,\"x\":[11],\"xaxis\":\"x\",\"y\":[13],\"yaxis\":\"y\",\"type\":\"scatter\"},{\"customdata\":[[50.0]],\"hovertemplate\":\"Category=Art,Collectibles,Painting,Print,Design,Image,Picture,AI,Digital,Graphics,Metaverse<br>Sales=%{x}<br>Owners=%{y}<br>Assets=%{marker.size}<br>Owner_Asset_Ratio=%{customdata[0]}<extra></extra>\",\"legendgroup\":\"Art,Collectibles,Painting,Print,Design,Image,Picture,AI,Digital,Graphics,Metaverse\",\"marker\":{\"color\":\"#FF6692\",\"size\":[18],\"sizemode\":\"area\",\"sizeref\":8.3,\"symbol\":\"circle\"},\"mode\":\"markers\",\"name\":\"Art,Collectibles,Painting,Print,Design,Image,Picture,AI,Digital,Graphics,Metaverse\",\"orientation\":\"v\",\"showlegend\":true,\"x\":[5],\"xaxis\":\"x\",\"y\":[9],\"yaxis\":\"y\",\"type\":\"scatter\"},{\"customdata\":[[7.69]],\"hovertemplate\":\"Category=Digital,Metaverse,Collectibles,Art,3D<br>Sales=%{x}<br>Owners=%{y}<br>Assets=%{marker.size}<br>Owner_Asset_Ratio=%{customdata[0]}<extra></extra>\",\"legendgroup\":\"Digital,Metaverse,Collectibles,Art,3D\",\"marker\":{\"color\":\"#B6E880\",\"size\":[13],\"sizemode\":\"area\",\"sizeref\":8.3,\"symbol\":\"circle\"},\"mode\":\"markers\",\"name\":\"Digital,Metaverse,Collectibles,Art,3D\",\"orientation\":\"v\",\"showlegend\":true,\"x\":[1],\"xaxis\":\"x\",\"y\":[1],\"yaxis\":\"y\",\"type\":\"scatter\"},{\"customdata\":[[25.0]],\"hovertemplate\":\"Category=Digital,Physical,Art,Painting<br>Sales=%{x}<br>Owners=%{y}<br>Assets=%{marker.size}<br>Owner_Asset_Ratio=%{customdata[0]}<extra></extra>\",\"legendgroup\":\"Digital,Physical,Art,Painting\",\"marker\":{\"color\":\"#FF97FF\",\"size\":[24],\"sizemode\":\"area\",\"sizeref\":8.3,\"symbol\":\"circle\"},\"mode\":\"markers\",\"name\":\"Digital,Physical,Art,Painting\",\"orientation\":\"v\",\"showlegend\":true,\"x\":[1],\"xaxis\":\"x\",\"y\":[6],\"yaxis\":\"y\",\"type\":\"scatter\"},{\"customdata\":[[32.2]],\"hovertemplate\":\"Category=Digital,Privilege,3D,Video,Collectibles<br>Sales=%{x}<br>Owners=%{y}<br>Assets=%{marker.size}<br>Owner_Asset_Ratio=%{customdata[0]}<extra></extra>\",\"legendgroup\":\"Digital,Privilege,3D,Video,Collectibles\",\"marker\":{\"color\":\"#FECB52\",\"size\":[205],\"sizemode\":\"area\",\"sizeref\":8.3,\"symbol\":\"circle\"},\"mode\":\"markers\",\"name\":\"Digital,Privilege,3D,Video,Collectibles\",\"orientation\":\"v\",\"showlegend\":true,\"x\":[1],\"xaxis\":\"x\",\"y\":[66],\"yaxis\":\"y\",\"type\":\"scatter\"},{\"customdata\":[[null]],\"hovertemplate\":\"Category=2D,Art,Digital,Collectibles,Drawing<br>Sales=%{x}<br>Owners=%{y}<br>Assets=%{marker.size}<br>Owner_Asset_Ratio=%{customdata[0]}<extra></extra>\",\"legendgroup\":\"2D,Art,Digital,Collectibles,Drawing\",\"marker\":{\"color\":\"#636efa\",\"size\":[2],\"sizemode\":\"area\",\"sizeref\":8.3,\"symbol\":\"circle\"},\"mode\":\"markers\",\"name\":\"2D,Art,Digital,Collectibles,Drawing\",\"orientation\":\"v\",\"showlegend\":true,\"x\":[0],\"xaxis\":\"x\",\"y\":[0],\"yaxis\":\"y\",\"type\":\"scatter\"},{\"customdata\":[[67.86]],\"hovertemplate\":\"Category=Art,PFP,2D<br>Sales=%{x}<br>Owners=%{y}<br>Assets=%{marker.size}<br>Owner_Asset_Ratio=%{customdata[0]}<extra></extra>\",\"legendgroup\":\"Art,PFP,2D\",\"marker\":{\"color\":\"#EF553B\",\"size\":[56],\"sizemode\":\"area\",\"sizeref\":8.3,\"symbol\":\"circle\"},\"mode\":\"markers\",\"name\":\"Art,PFP,2D\",\"orientation\":\"v\",\"showlegend\":true,\"x\":[0],\"xaxis\":\"x\",\"y\":[38],\"yaxis\":\"y\",\"type\":\"scatter\"}],                        {\"template\":{\"data\":{\"bar\":[{\"error_x\":{\"color\":\"#2a3f5f\"},\"error_y\":{\"color\":\"#2a3f5f\"},\"marker\":{\"line\":{\"color\":\"#E5ECF6\",\"width\":0.5},\"pattern\":{\"fillmode\":\"overlay\",\"size\":10,\"solidity\":0.2}},\"type\":\"bar\"}],\"barpolar\":[{\"marker\":{\"line\":{\"color\":\"#E5ECF6\",\"width\":0.5},\"pattern\":{\"fillmode\":\"overlay\",\"size\":10,\"solidity\":0.2}},\"type\":\"barpolar\"}],\"carpet\":[{\"aaxis\":{\"endlinecolor\":\"#2a3f5f\",\"gridcolor\":\"white\",\"linecolor\":\"white\",\"minorgridcolor\":\"white\",\"startlinecolor\":\"#2a3f5f\"},\"baxis\":{\"endlinecolor\":\"#2a3f5f\",\"gridcolor\":\"white\",\"linecolor\":\"white\",\"minorgridcolor\":\"white\",\"startlinecolor\":\"#2a3f5f\"},\"type\":\"carpet\"}],\"choropleth\":[{\"colorbar\":{\"outlinewidth\":0,\"ticks\":\"\"},\"type\":\"choropleth\"}],\"contour\":[{\"colorbar\":{\"outlinewidth\":0,\"ticks\":\"\"},\"colorscale\":[[0.0,\"#0d0887\"],[0.1111111111111111,\"#46039f\"],[0.2222222222222222,\"#7201a8\"],[0.3333333333333333,\"#9c179e\"],[0.4444444444444444,\"#bd3786\"],[0.5555555555555556,\"#d8576b\"],[0.6666666666666666,\"#ed7953\"],[0.7777777777777778,\"#fb9f3a\"],[0.8888888888888888,\"#fdca26\"],[1.0,\"#f0f921\"]],\"type\":\"contour\"}],\"contourcarpet\":[{\"colorbar\":{\"outlinewidth\":0,\"ticks\":\"\"},\"type\":\"contourcarpet\"}],\"heatmap\":[{\"colorbar\":{\"outlinewidth\":0,\"ticks\":\"\"},\"colorscale\":[[0.0,\"#0d0887\"],[0.1111111111111111,\"#46039f\"],[0.2222222222222222,\"#7201a8\"],[0.3333333333333333,\"#9c179e\"],[0.4444444444444444,\"#bd3786\"],[0.5555555555555556,\"#d8576b\"],[0.6666666666666666,\"#ed7953\"],[0.7777777777777778,\"#fb9f3a\"],[0.8888888888888888,\"#fdca26\"],[1.0,\"#f0f921\"]],\"type\":\"heatmap\"}],\"heatmapgl\":[{\"colorbar\":{\"outlinewidth\":0,\"ticks\":\"\"},\"colorscale\":[[0.0,\"#0d0887\"],[0.1111111111111111,\"#46039f\"],[0.2222222222222222,\"#7201a8\"],[0.3333333333333333,\"#9c179e\"],[0.4444444444444444,\"#bd3786\"],[0.5555555555555556,\"#d8576b\"],[0.6666666666666666,\"#ed7953\"],[0.7777777777777778,\"#fb9f3a\"],[0.8888888888888888,\"#fdca26\"],[1.0,\"#f0f921\"]],\"type\":\"heatmapgl\"}],\"histogram\":[{\"marker\":{\"pattern\":{\"fillmode\":\"overlay\",\"size\":10,\"solidity\":0.2}},\"type\":\"histogram\"}],\"histogram2d\":[{\"colorbar\":{\"outlinewidth\":0,\"ticks\":\"\"},\"colorscale\":[[0.0,\"#0d0887\"],[0.1111111111111111,\"#46039f\"],[0.2222222222222222,\"#7201a8\"],[0.3333333333333333,\"#9c179e\"],[0.4444444444444444,\"#bd3786\"],[0.5555555555555556,\"#d8576b\"],[0.6666666666666666,\"#ed7953\"],[0.7777777777777778,\"#fb9f3a\"],[0.8888888888888888,\"#fdca26\"],[1.0,\"#f0f921\"]],\"type\":\"histogram2d\"}],\"histogram2dcontour\":[{\"colorbar\":{\"outlinewidth\":0,\"ticks\":\"\"},\"colorscale\":[[0.0,\"#0d0887\"],[0.1111111111111111,\"#46039f\"],[0.2222222222222222,\"#7201a8\"],[0.3333333333333333,\"#9c179e\"],[0.4444444444444444,\"#bd3786\"],[0.5555555555555556,\"#d8576b\"],[0.6666666666666666,\"#ed7953\"],[0.7777777777777778,\"#fb9f3a\"],[0.8888888888888888,\"#fdca26\"],[1.0,\"#f0f921\"]],\"type\":\"histogram2dcontour\"}],\"mesh3d\":[{\"colorbar\":{\"outlinewidth\":0,\"ticks\":\"\"},\"type\":\"mesh3d\"}],\"parcoords\":[{\"line\":{\"colorbar\":{\"outlinewidth\":0,\"ticks\":\"\"}},\"type\":\"parcoords\"}],\"pie\":[{\"automargin\":true,\"type\":\"pie\"}],\"scatter\":[{\"marker\":{\"colorbar\":{\"outlinewidth\":0,\"ticks\":\"\"}},\"type\":\"scatter\"}],\"scatter3d\":[{\"line\":{\"colorbar\":{\"outlinewidth\":0,\"ticks\":\"\"}},\"marker\":{\"colorbar\":{\"outlinewidth\":0,\"ticks\":\"\"}},\"type\":\"scatter3d\"}],\"scattercarpet\":[{\"marker\":{\"colorbar\":{\"outlinewidth\":0,\"ticks\":\"\"}},\"type\":\"scattercarpet\"}],\"scattergeo\":[{\"marker\":{\"colorbar\":{\"outlinewidth\":0,\"ticks\":\"\"}},\"type\":\"scattergeo\"}],\"scattergl\":[{\"marker\":{\"colorbar\":{\"outlinewidth\":0,\"ticks\":\"\"}},\"type\":\"scattergl\"}],\"scattermapbox\":[{\"marker\":{\"colorbar\":{\"outlinewidth\":0,\"ticks\":\"\"}},\"type\":\"scattermapbox\"}],\"scatterpolar\":[{\"marker\":{\"colorbar\":{\"outlinewidth\":0,\"ticks\":\"\"}},\"type\":\"scatterpolar\"}],\"scatterpolargl\":[{\"marker\":{\"colorbar\":{\"outlinewidth\":0,\"ticks\":\"\"}},\"type\":\"scatterpolargl\"}],\"scatterternary\":[{\"marker\":{\"colorbar\":{\"outlinewidth\":0,\"ticks\":\"\"}},\"type\":\"scatterternary\"}],\"surface\":[{\"colorbar\":{\"outlinewidth\":0,\"ticks\":\"\"},\"colorscale\":[[0.0,\"#0d0887\"],[0.1111111111111111,\"#46039f\"],[0.2222222222222222,\"#7201a8\"],[0.3333333333333333,\"#9c179e\"],[0.4444444444444444,\"#bd3786\"],[0.5555555555555556,\"#d8576b\"],[0.6666666666666666,\"#ed7953\"],[0.7777777777777778,\"#fb9f3a\"],[0.8888888888888888,\"#fdca26\"],[1.0,\"#f0f921\"]],\"type\":\"surface\"}],\"table\":[{\"cells\":{\"fill\":{\"color\":\"#EBF0F8\"},\"line\":{\"color\":\"white\"}},\"header\":{\"fill\":{\"color\":\"#C8D4E3\"},\"line\":{\"color\":\"white\"}},\"type\":\"table\"}]},\"layout\":{\"annotationdefaults\":{\"arrowcolor\":\"#2a3f5f\",\"arrowhead\":0,\"arrowwidth\":1},\"autotypenumbers\":\"strict\",\"coloraxis\":{\"colorbar\":{\"outlinewidth\":0,\"ticks\":\"\"}},\"colorscale\":{\"diverging\":[[0,\"#8e0152\"],[0.1,\"#c51b7d\"],[0.2,\"#de77ae\"],[0.3,\"#f1b6da\"],[0.4,\"#fde0ef\"],[0.5,\"#f7f7f7\"],[0.6,\"#e6f5d0\"],[0.7,\"#b8e186\"],[0.8,\"#7fbc41\"],[0.9,\"#4d9221\"],[1,\"#276419\"]],\"sequential\":[[0.0,\"#0d0887\"],[0.1111111111111111,\"#46039f\"],[0.2222222222222222,\"#7201a8\"],[0.3333333333333333,\"#9c179e\"],[0.4444444444444444,\"#bd3786\"],[0.5555555555555556,\"#d8576b\"],[0.6666666666666666,\"#ed7953\"],[0.7777777777777778,\"#fb9f3a\"],[0.8888888888888888,\"#fdca26\"],[1.0,\"#f0f921\"]],\"sequentialminus\":[[0.0,\"#0d0887\"],[0.1111111111111111,\"#46039f\"],[0.2222222222222222,\"#7201a8\"],[0.3333333333333333,\"#9c179e\"],[0.4444444444444444,\"#bd3786\"],[0.5555555555555556,\"#d8576b\"],[0.6666666666666666,\"#ed7953\"],[0.7777777777777778,\"#fb9f3a\"],[0.8888888888888888,\"#fdca26\"],[1.0,\"#f0f921\"]]},\"colorway\":[\"#636efa\",\"#EF553B\",\"#00cc96\",\"#ab63fa\",\"#FFA15A\",\"#19d3f3\",\"#FF6692\",\"#B6E880\",\"#FF97FF\",\"#FECB52\"],\"font\":{\"color\":\"#2a3f5f\"},\"geo\":{\"bgcolor\":\"white\",\"lakecolor\":\"white\",\"landcolor\":\"#E5ECF6\",\"showlakes\":true,\"showland\":true,\"subunitcolor\":\"white\"},\"hoverlabel\":{\"align\":\"left\"},\"hovermode\":\"closest\",\"mapbox\":{\"style\":\"light\"},\"paper_bgcolor\":\"white\",\"plot_bgcolor\":\"#E5ECF6\",\"polar\":{\"angularaxis\":{\"gridcolor\":\"white\",\"linecolor\":\"white\",\"ticks\":\"\"},\"bgcolor\":\"#E5ECF6\",\"radialaxis\":{\"gridcolor\":\"white\",\"linecolor\":\"white\",\"ticks\":\"\"}},\"scene\":{\"xaxis\":{\"backgroundcolor\":\"#E5ECF6\",\"gridcolor\":\"white\",\"gridwidth\":2,\"linecolor\":\"white\",\"showbackground\":true,\"ticks\":\"\",\"zerolinecolor\":\"white\"},\"yaxis\":{\"backgroundcolor\":\"#E5ECF6\",\"gridcolor\":\"white\",\"gridwidth\":2,\"linecolor\":\"white\",\"showbackground\":true,\"ticks\":\"\",\"zerolinecolor\":\"white\"},\"zaxis\":{\"backgroundcolor\":\"#E5ECF6\",\"gridcolor\":\"white\",\"gridwidth\":2,\"linecolor\":\"white\",\"showbackground\":true,\"ticks\":\"\",\"zerolinecolor\":\"white\"}},\"shapedefaults\":{\"line\":{\"color\":\"#2a3f5f\"}},\"ternary\":{\"aaxis\":{\"gridcolor\":\"white\",\"linecolor\":\"white\",\"ticks\":\"\"},\"baxis\":{\"gridcolor\":\"white\",\"linecolor\":\"white\",\"ticks\":\"\"},\"bgcolor\":\"#E5ECF6\",\"caxis\":{\"gridcolor\":\"white\",\"linecolor\":\"white\",\"ticks\":\"\"}},\"title\":{\"x\":0.05},\"xaxis\":{\"automargin\":true,\"gridcolor\":\"white\",\"linecolor\":\"white\",\"ticks\":\"\",\"title\":{\"standoff\":15},\"zerolinecolor\":\"white\",\"zerolinewidth\":2},\"yaxis\":{\"automargin\":true,\"gridcolor\":\"white\",\"linecolor\":\"white\",\"ticks\":\"\",\"title\":{\"standoff\":15},\"zerolinecolor\":\"white\",\"zerolinewidth\":2}}},\"xaxis\":{\"anchor\":\"y\",\"domain\":[0.0,1.0],\"title\":{\"text\":\"Sales\"}},\"yaxis\":{\"anchor\":\"x\",\"domain\":[0.0,1.0],\"title\":{\"text\":\"Owners\"}},\"legend\":{\"title\":{\"text\":\"Category\"},\"tracegroupgap\":0,\"itemsizing\":\"constant\"},\"margin\":{\"t\":60}},                        {\"responsive\": true}                    ).then(function(){\n",
       "                            \n",
       "var gd = document.getElementById('5d8fa0e4-ba96-44cd-81a4-bb1ad6333cd3');\n",
       "var x = new MutationObserver(function (mutations, observer) {{\n",
       "        var display = window.getComputedStyle(gd).display;\n",
       "        if (!display || display === 'none') {{\n",
       "            console.log([gd, 'removed!']);\n",
       "            Plotly.purge(gd);\n",
       "            observer.disconnect();\n",
       "        }}\n",
       "}});\n",
       "\n",
       "// Listen for the removal of the full notebook cells\n",
       "var notebookContainer = gd.closest('#notebook-container');\n",
       "if (notebookContainer) {{\n",
       "    x.observe(notebookContainer, {childList: true});\n",
       "}}\n",
       "\n",
       "// Listen for the clearing of the current output cell\n",
       "var outputEl = gd.closest('.output');\n",
       "if (outputEl) {{\n",
       "    x.observe(outputEl, {childList: true});\n",
       "}}\n",
       "\n",
       "                        })                };                });            </script>        </div>"
      ]
     },
     "metadata": {},
     "output_type": "display_data"
    }
   ],
   "source": [
    "fig = px.scatter(df_new,\n",
    "           x = 'Sales',\n",
    "           y = 'Owners',\n",
    "           color = 'Category',\n",
    "           size = 'Assets',\n",
    "           hover_data = ['Owner_Asset_Ratio'])\n",
    "fig"
   ]
  },
  {
   "cell_type": "code",
   "execution_count": 63,
   "metadata": {},
   "outputs": [
    {
     "data": {
      "application/vnd.plotly.v1+json": {
       "config": {
        "plotlyServerURL": "https://plot.ly"
       },
       "data": [
        {
         "hovertemplate": "Category=Collectibles,Digital,Privilege<br>Floor_Price_USD=%{x}<br>Average_Price_USD=%{y}<extra></extra>",
         "legendgroup": "Collectibles,Digital,Privilege",
         "marker": {
          "color": "#636efa",
          "symbol": "circle"
         },
         "mode": "markers",
         "name": "Collectibles,Digital,Privilege",
         "orientation": "v",
         "showlegend": true,
         "type": "scatter",
         "x": [
          5799.39
         ],
         "xaxis": "x",
         "y": [
          10933.9301
         ],
         "yaxis": "y"
        },
        {
         "hovertemplate": "Category=Unknown<br>Floor_Price_USD=%{x}<br>Average_Price_USD=%{y}<extra></extra>",
         "legendgroup": "Unknown",
         "marker": {
          "color": "#EF553B",
          "symbol": "circle"
         },
         "mode": "markers",
         "name": "Unknown",
         "orientation": "v",
         "showlegend": true,
         "type": "scatter",
         "x": [
          98.3694,
          117.456,
          556.4478,
          631.326,
          88.092,
          5.8728,
          14.682,
          35.2368,
          189.3978,
          220.23,
          36.705,
          14.682,
          1321.38,
          176.184,
          30.8322,
          33.7686,
          102.774,
          null,
          null,
          41.1096,
          98.3694,
          null,
          36.705,
          null,
          null,
          13.2138,
          27.8958,
          29.364,
          248.1258,
          220.23,
          4.4046,
          513.87,
          7.341,
          44.046,
          8.8092,
          1174.56,
          337.686,
          1468.2,
          20.5548,
          22.023,
          140.9472,
          60.1962,
          293.64,
          95.433,
          16.1502,
          null,
          5.8728,
          381.732,
          58.728,
          null,
          55.7916,
          4.4046,
          5.8728,
          146.82,
          5138.7,
          17.6184,
          null,
          7194.18,
          null,
          14.682,
          190.866,
          29.364,
          27.8958,
          14.682,
          null,
          700.3314,
          117.456,
          4.4046,
          1174.56,
          95.433,
          132.138,
          null,
          66.069,
          14.682,
          11.7456,
          207.0162,
          14.682,
          880.92,
          102.774,
          74.8782,
          null,
          null,
          176.184,
          19.0866,
          7.341,
          null,
          11.7456,
          24.9594,
          null,
          190.866,
          19.0866,
          14.682,
          null,
          null,
          22.023,
          null,
          734.1,
          44.046,
          11.7456,
          8.8092,
          264.276,
          60.1962,
          6606.9,
          440.46,
          14.682,
          58.728,
          14.682,
          51.387,
          2936.4,
          null,
          42.5778,
          17.6184,
          71.9418,
          33.7686,
          null,
          110.115,
          1174.56,
          11.7456,
          null,
          278.958,
          1468.2,
          4.4046,
          29.364,
          7.341,
          2.9364,
          58.728,
          32.3004,
          146.82,
          49.9188,
          146.82,
          4.4046,
          11.7456,
          155.6292,
          22.023,
          14.682,
          220.23,
          95.433,
          880.92,
          5.8728,
          57.2598,
          58.728,
          22.023,
          22.023,
          null,
          145.3518,
          14.682,
          176.184,
          88.092,
          4.4046,
          17.6184,
          null,
          734.1,
          146.82,
          44.046,
          10.2774,
          42.5778,
          36.705,
          null,
          95.433,
          null,
          2.9364,
          13.2138,
          132.138,
          13.2138,
          11.7456,
          44.046,
          80.751,
          42.5778,
          616.644,
          null,
          36.705,
          19.0866,
          29.364,
          143.8836,
          null,
          58.728,
          22.023,
          4.4046,
          161.502,
          null,
          7.341,
          41.1096,
          2.9364,
          2.9364,
          249.594,
          365.5818,
          null,
          36.705,
          13.2138,
          146.82,
          2.9364,
          146.82,
          null,
          1321.38,
          176.184,
          1140.7914,
          79.2828,
          54.3234,
          585.8118,
          88.092,
          10.2774,
          22.023,
          146.82,
          4.4046,
          64.6008,
          2.9364,
          4.4046,
          44.046,
          293.64,
          88.092,
          71.9418,
          5.8728,
          7.341,
          null,
          8.8092,
          734.1,
          2.9364,
          2936.4,
          null,
          146.82,
          212.889,
          null,
          102.774,
          5.8728,
          36.705,
          14.682,
          7.341,
          130.6698,
          29.364,
          8.8092,
          146.82,
          146.82,
          96.9012,
          7.341,
          146.82,
          146.82,
          29.364,
          14.682,
          10.2774,
          88.092,
          58.728,
          22.023,
          13.2138,
          132.138,
          44.046,
          10.2774,
          29.364,
          293.64,
          22.023,
          29.364,
          1174.56,
          145.3518,
          69.0054,
          58.728,
          14.682,
          24.9594,
          8.8092,
          146.82,
          4.4046,
          411.096,
          5.8728,
          108.6468,
          null,
          14.682,
          22.023,
          36.705,
          42.5778,
          20.5548,
          4.4046,
          80.751,
          101.3058,
          44.046,
          11.7456,
          14.682,
          22.023,
          183.525,
          null,
          88.092,
          73.41,
          86.6238,
          585.8118,
          205.548
         ],
         "xaxis": "x",
         "y": [
          805.2988554,
          657.1942392,
          1388.196109,
          642.6949835,
          239.7721769,
          59.43023144,
          195.620641,
          88.73313758,
          400.9218905,
          143.1229663,
          115.0678519,
          119.2325834,
          1000.147162,
          277.2854986,
          216.763658,
          242.6343945,
          220.1928304,
          51019.95,
          706.2992633,
          173.0535775,
          141.4282485,
          1441.079853,
          242.7264586,
          768.541525,
          692.8717576,
          85.00501538,
          129.7426823,
          70.60258915,
          512.8336235,
          585.5148607,
          133.6561649,
          960.2028,
          54.40687625,
          298.025024,
          39.16883122,
          212.5360673,
          369.0076,
          103.339318,
          204.9720762,
          232.9977646,
          329.024967,
          346.5097366,
          243.8701478,
          629.3868679,
          365.5818,
          351.5062304,
          79.24681471,
          129.0384667,
          81.06135122,
          261.0514486,
          407.3049761,
          17.66710806,
          48.70606119,
          260.7341567,
          6221.13045,
          93.34502705,
          343.6265631,
          7243.12,
          332.8225875,
          31.43441876,
          96.3282439,
          125.2769885,
          23.24915018,
          78.31608395,
          4478.01,
          937.7161579,
          699.391752,
          56.92921192,
          1195.534286,
          282.4418644,
          153.4269,
          177.5037303,
          100.043335,
          266.9845759,
          15.33716452,
          300.4811872,
          121.7201635,
          382.2214,
          287.6040667,
          319.84737,
          339.5906919,
          1386.633333,
          589.4473429,
          50.01507541,
          20.70512765,
          665.5024333,
          16.73166535,
          102.7047453,
          174.2658677,
          274.4374895,
          59.30689029,
          266.1305684,
          322.0252,
          1060.223925,
          60.49627007,
          498.4539,
          734.1,
          111.9220154,
          59.4621,
          74.8157234,
          387.4416667,
          165.2773714,
          372.4334,
          244.2106,
          71.8449956,
          69.53203696,
          79.65926154,
          102.38248,
          469.824,
          237.437304,
          108.5380444,
          52.72292973,
          73.1347125,
          122.6415574,
          2866.6605,
          89.44549688,
          710.792325,
          14.204835,
          116.293675,
          185.53154,
          146.82,
          42.636528,
          75.58935938,
          7.88945157,
          5.8177425,
          127.5702667,
          152.00764,
          244.7,
          77.44755,
          848.32596,
          16.59353882,
          117.3301543,
          228.8664706,
          61.05847619,
          41.66815435,
          200.7570316,
          122.98622,
          523.0986857,
          19.76911459,
          152.019875,
          113.382929,
          106.3777636,
          188.0111667,
          1076.68,
          221.1738429,
          198.50064,
          144.6177,
          111.1879154,
          6.170977483,
          39.22782254,
          396.414,
          56.89275,
          545.87676,
          336.401325,
          68.70423077,
          73.36921667,
          51.55972941,
          67.0478,
          33.39213846,
          519.7428,
          23.92057925,
          68.84226667,
          609.303,
          45.62500755,
          241.66572,
          156.51012,
          121.8606,
          229.33284,
          226.1028,
          220.9641,
          30.281625,
          34.95263226,
          60.15541667,
          144.17724,
          125.2288235,
          71.48615172,
          34.11118,
          8.61634322,
          251.42925,
          198.207,
          40.7731375,
          68.06155714,
          62.6432,
          4.742824084,
          200.654,
          163.7710364,
          246.4478571,
          83.6874,
          47.44383429,
          165.1725,
          2.976587956,
          807.51,
          146.82,
          533.446,
          122.7641077,
          783.2847,
          73.75957143,
          95.433,
          249.3493,
          158.8918667,
          7.946528814,
          61.02605217,
          172.5135,
          13.3882396,
          103.9033846,
          3.163867606,
          7.385222892,
          130.6698,
          293.64,
          232.56288,
          66.58718824,
          29.24495676,
          82.44507692,
          357.262,
          56.17796842,
          174.9605,
          4.11096,
          1027.74,
          1027.74,
          146.82,
          342.58,
          113.7039333,
          102.18672,
          23.04732558,
          49.1847,
          43.97926364,
          20.42984681,
          135.0744,
          75.857,
          25.95259412,
          146.82,
          146.82,
          106.995075,
          17.6496383,
          82.07238,
          161.502,
          29.25524444,
          20.43888947,
          29.47693846,
          109.0662857,
          42.16996667,
          108.0175714,
          17.15124545,
          187.1955,
          83.198,
          23.2159125,
          56.92098462,
          734.1,
          56.46923077,
          181.68975,
          120.1477,
          238.8272,
          353.1021,
          58.728,
          46.493,
          26.65347692,
          13.683624,
          36.705,
          17.85648649,
          330.345,
          34.7474,
          146.82,
          189.8872,
          24.82592727,
          18.02342069,
          72.36128571,
          53.038725,
          20.738325,
          9.788,
          73.41,
          131.4039,
          84.6662,
          12.02525714,
          16.6396,
          14.682,
          0,
          0,
          0,
          0,
          0,
          0,
          0
         ],
         "yaxis": "y"
        },
        {
         "hovertemplate": "Category=Art,Collectibles,Graphics,2D,Image<br>Floor_Price_USD=%{x}<br>Average_Price_USD=%{y}<extra></extra>",
         "legendgroup": "Art,Collectibles,Graphics,2D,Image",
         "marker": {
          "color": "#00cc96",
          "symbol": "circle"
         },
         "mode": "markers",
         "name": "Art,Collectibles,Graphics,2D,Image",
         "orientation": "v",
         "showlegend": true,
         "type": "scatter",
         "x": [
          176.184
         ],
         "xaxis": "x",
         "y": [
          302.2452544
         ],
         "yaxis": "y"
        },
        {
         "hovertemplate": "Category=3D,PFP,Metaverse,Art,Collectibles<br>Floor_Price_USD=%{x}<br>Average_Price_USD=%{y}<extra></extra>",
         "legendgroup": "3D,PFP,Metaverse,Art,Collectibles",
         "marker": {
          "color": "#ab63fa",
          "symbol": "circle"
         },
         "mode": "markers",
         "name": "3D,PFP,Metaverse,Art,Collectibles",
         "orientation": "v",
         "showlegend": true,
         "type": "scatter",
         "x": [
          186.4614
         ],
         "xaxis": "x",
         "y": [
          234.2756953
         ],
         "yaxis": "y"
        },
        {
         "hovertemplate": "Category=Digital,Metaverse,Art,Picture,Image<br>Floor_Price_USD=%{x}<br>Average_Price_USD=%{y}<extra></extra>",
         "legendgroup": "Digital,Metaverse,Art,Picture,Image",
         "marker": {
          "color": "#FFA15A",
          "symbol": "circle"
         },
         "mode": "markers",
         "name": "Digital,Metaverse,Art,Picture,Image",
         "orientation": "v",
         "showlegend": true,
         "type": "scatter",
         "x": [
          146.82
         ],
         "xaxis": "x",
         "y": [
          566.9283248
         ],
         "yaxis": "y"
        },
        {
         "hovertemplate": "Category=Art,Digital,PFP,3D<br>Floor_Price_USD=%{x}<br>Average_Price_USD=%{y}<extra></extra>",
         "legendgroup": "Art,Digital,PFP,3D",
         "marker": {
          "color": "#19d3f3",
          "symbol": "circle"
         },
         "mode": "markers",
         "name": "Art,Digital,PFP,3D",
         "orientation": "v",
         "showlegend": true,
         "type": "scatter",
         "x": [
          218.7618
         ],
         "xaxis": "x",
         "y": [
          490.5891097
         ],
         "yaxis": "y"
        },
        {
         "hovertemplate": "Category=Digital,Art,Metaverse,Collectibles,PFP,3D<br>Floor_Price_USD=%{x}<br>Average_Price_USD=%{y}<extra></extra>",
         "legendgroup": "Digital,Art,Metaverse,Collectibles,PFP,3D",
         "marker": {
          "color": "#FF6692",
          "symbol": "circle"
         },
         "mode": "markers",
         "name": "Digital,Art,Metaverse,Collectibles,PFP,3D",
         "orientation": "v",
         "showlegend": true,
         "type": "scatter",
         "x": [
          2275.71
         ],
         "xaxis": "x",
         "y": [
          2401.31451
         ],
         "yaxis": "y"
        },
        {
         "hovertemplate": "Category=Art,Music,Collectibles<br>Floor_Price_USD=%{x}<br>Average_Price_USD=%{y}<extra></extra>",
         "legendgroup": "Art,Music,Collectibles",
         "marker": {
          "color": "#B6E880",
          "symbol": "circle"
         },
         "mode": "markers",
         "name": "Art,Music,Collectibles",
         "orientation": "v",
         "showlegend": true,
         "type": "scatter",
         "x": [
          14.682
         ],
         "xaxis": "x",
         "y": [
          25.99218734
         ],
         "yaxis": "y"
        },
        {
         "hovertemplate": "Category=Privilege<br>Floor_Price_USD=%{x}<br>Average_Price_USD=%{y}<extra></extra>",
         "legendgroup": "Privilege",
         "marker": {
          "color": "#FF97FF",
          "symbol": "circle"
         },
         "mode": "markers",
         "name": "Privilege",
         "orientation": "v",
         "showlegend": true,
         "type": "scatter",
         "x": [
          80.751
         ],
         "xaxis": "x",
         "y": [
          102.4902547
         ],
         "yaxis": "y"
        },
        {
         "hovertemplate": "Category=Collectibles<br>Floor_Price_USD=%{x}<br>Average_Price_USD=%{y}<extra></extra>",
         "legendgroup": "Collectibles",
         "marker": {
          "color": "#FECB52",
          "symbol": "circle"
         },
         "mode": "markers",
         "name": "Collectibles",
         "orientation": "v",
         "showlegend": true,
         "type": "scatter",
         "x": [
          7.341,
          146.82,
          61.6644,
          49.9188,
          8.8092,
          29.364,
          14.682,
          168.843,
          14.682
         ],
         "xaxis": "x",
         "y": [
          19.43625566,
          173.4952062,
          176.3385474,
          150.0978419,
          12.21510569,
          47.38281818,
          146.9534727,
          712.077,
          17.49344681
         ],
         "yaxis": "y"
        },
        {
         "hovertemplate": "Category=Digital,Art<br>Floor_Price_USD=%{x}<br>Average_Price_USD=%{y}<extra></extra>",
         "legendgroup": "Digital,Art",
         "marker": {
          "color": "#636efa",
          "symbol": "circle"
         },
         "mode": "markers",
         "name": "Digital,Art",
         "orientation": "v",
         "showlegend": true,
         "type": "scatter",
         "x": [
          734.1,
          88.092,
          24380.9292
         ],
         "xaxis": "x",
         "y": [
          306.3644,
          148.4400828,
          1466.7318
         ],
         "yaxis": "y"
        },
        {
         "hovertemplate": "Category=AI,Pixel Art,Metaverse,Trading Cards<br>Floor_Price_USD=%{x}<br>Average_Price_USD=%{y}<extra></extra>",
         "legendgroup": "AI,Pixel Art,Metaverse,Trading Cards",
         "marker": {
          "color": "#EF553B",
          "symbol": "circle"
         },
         "mode": "markers",
         "name": "AI,Pixel Art,Metaverse,Trading Cards",
         "orientation": "v",
         "showlegend": true,
         "type": "scatter",
         "x": [
          36.705
         ],
         "xaxis": "x",
         "y": [
          229.8786818
         ],
         "yaxis": "y"
        },
        {
         "hovertemplate": "Category=Metaverse,Collectibles,PFP,3D,Design<br>Floor_Price_USD=%{x}<br>Average_Price_USD=%{y}<extra></extra>",
         "legendgroup": "Metaverse,Collectibles,PFP,3D,Design",
         "marker": {
          "color": "#00cc96",
          "symbol": "circle"
         },
         "mode": "markers",
         "name": "Metaverse,Collectibles,PFP,3D,Design",
         "orientation": "v",
         "showlegend": true,
         "type": "scatter",
         "x": [
          73.41
         ],
         "xaxis": "x",
         "y": [
          421.821201
         ],
         "yaxis": "y"
        },
        {
         "hovertemplate": "Category=Collectibles,Art,Digital,PFP<br>Floor_Price_USD=%{x}<br>Average_Price_USD=%{y}<extra></extra>",
         "legendgroup": "Collectibles,Art,Digital,PFP",
         "marker": {
          "color": "#ab63fa",
          "symbol": "circle"
         },
         "mode": "markers",
         "name": "Collectibles,Art,Digital,PFP",
         "orientation": "v",
         "showlegend": true,
         "type": "scatter",
         "x": [
          124.797
         ],
         "xaxis": "x",
         "y": [
          131.557313
         ],
         "yaxis": "y"
        },
        {
         "hovertemplate": "Category=Digital,Art,Collectibles,PFP,2D<br>Floor_Price_USD=%{x}<br>Average_Price_USD=%{y}<extra></extra>",
         "legendgroup": "Digital,Art,Collectibles,PFP,2D",
         "marker": {
          "color": "#FFA15A",
          "symbol": "circle"
         },
         "mode": "markers",
         "name": "Digital,Art,Collectibles,PFP,2D",
         "orientation": "v",
         "showlegend": true,
         "type": "scatter",
         "x": [
          176.184
         ],
         "xaxis": "x",
         "y": [
          214.6592297
         ],
         "yaxis": "y"
        },
        {
         "hovertemplate": "Category=Digital,Art,Collectibles<br>Floor_Price_USD=%{x}<br>Average_Price_USD=%{y}<extra></extra>",
         "legendgroup": "Digital,Art,Collectibles",
         "marker": {
          "color": "#19d3f3",
          "symbol": "circle"
         },
         "mode": "markers",
         "name": "Digital,Art,Collectibles",
         "orientation": "v",
         "showlegend": true,
         "type": "scatter",
         "x": [
          115.9878,
          145.3518,
          27.8958,
          73.41,
          14.682,
          48.4506,
          29.364,
          44.046,
          null
         ],
         "xaxis": "x",
         "y": [
          244.4166632,
          161.1735214,
          115.3101692,
          162.7786957,
          31.21433425,
          54.86873143,
          65.22196154,
          47.83490323,
          80.08363636
         ],
         "yaxis": "y"
        },
        {
         "hovertemplate": "Category=PFP,Digital,Collectibles,Ticket<br>Floor_Price_USD=%{x}<br>Average_Price_USD=%{y}<extra></extra>",
         "legendgroup": "PFP,Digital,Collectibles,Ticket",
         "marker": {
          "color": "#FF6692",
          "symbol": "circle"
         },
         "mode": "markers",
         "name": "PFP,Digital,Collectibles,Ticket",
         "orientation": "v",
         "showlegend": true,
         "type": "scatter",
         "x": [
          83.6874
         ],
         "xaxis": "x",
         "y": [
          186.4137827
         ],
         "yaxis": "y"
        },
        {
         "hovertemplate": "Category=Digital,Art,Collectibles,Trading Cards,3D,Video<br>Floor_Price_USD=%{x}<br>Average_Price_USD=%{y}<extra></extra>",
         "legendgroup": "Digital,Art,Collectibles,Trading Cards,3D,Video",
         "marker": {
          "color": "#B6E880",
          "symbol": "circle"
         },
         "mode": "markers",
         "name": "Digital,Art,Collectibles,Trading Cards,3D,Video",
         "orientation": "v",
         "showlegend": true,
         "type": "scatter",
         "x": [
          44.046
         ],
         "xaxis": "x",
         "y": [
          122.5743889
         ],
         "yaxis": "y"
        },
        {
         "hovertemplate": "Category=Collectibles,PFP<br>Floor_Price_USD=%{x}<br>Average_Price_USD=%{y}<extra></extra>",
         "legendgroup": "Collectibles,PFP",
         "marker": {
          "color": "#FF97FF",
          "symbol": "circle"
         },
         "mode": "markers",
         "name": "Collectibles,PFP",
         "orientation": "v",
         "showlegend": true,
         "type": "scatter",
         "x": [
          22.023,
          64.6008,
          69.0054
         ],
         "xaxis": "x",
         "y": [
          50.06459686,
          63.536355,
          82.8164339
         ],
         "yaxis": "y"
        },
        {
         "hovertemplate": "Category=Art,Collectibles,Photography,Metaverse,Performance,3D,Drawing,Digital<br>Floor_Price_USD=%{x}<br>Average_Price_USD=%{y}<extra></extra>",
         "legendgroup": "Art,Collectibles,Photography,Metaverse,Performance,3D,Drawing,Digital",
         "marker": {
          "color": "#FECB52",
          "symbol": "circle"
         },
         "mode": "markers",
         "name": "Art,Collectibles,Photography,Metaverse,Performance,3D,Drawing,Digital",
         "orientation": "v",
         "showlegend": true,
         "type": "scatter",
         "x": [
          3964.14
         ],
         "xaxis": "x",
         "y": [
          5018.574545
         ],
         "yaxis": "y"
        },
        {
         "hovertemplate": "Category=Art,Digital,Graphics,Collectibles<br>Floor_Price_USD=%{x}<br>Average_Price_USD=%{y}<extra></extra>",
         "legendgroup": "Art,Digital,Graphics,Collectibles",
         "marker": {
          "color": "#636efa",
          "symbol": "circle"
         },
         "mode": "markers",
         "name": "Art,Digital,Graphics,Collectibles",
         "orientation": "v",
         "showlegend": true,
         "type": "scatter",
         "x": [
          71.9418
         ],
         "xaxis": "x",
         "y": [
          72.84284486
         ],
         "yaxis": "y"
        },
        {
         "hovertemplate": "Category=Metaverse,Privilege<br>Floor_Price_USD=%{x}<br>Average_Price_USD=%{y}<extra></extra>",
         "legendgroup": "Metaverse,Privilege",
         "marker": {
          "color": "#EF553B",
          "symbol": "circle"
         },
         "mode": "markers",
         "name": "Metaverse,Privilege",
         "orientation": "v",
         "showlegend": true,
         "type": "scatter",
         "x": [
          48.4506
         ],
         "xaxis": "x",
         "y": [
          242.8218314
         ],
         "yaxis": "y"
        },
        {
         "hovertemplate": "Category=Digital,Art,Collectibles,Painting,Image,Picture<br>Floor_Price_USD=%{x}<br>Average_Price_USD=%{y}<extra></extra>",
         "legendgroup": "Digital,Art,Collectibles,Painting,Image,Picture",
         "marker": {
          "color": "#00cc96",
          "symbol": "circle"
         },
         "mode": "markers",
         "name": "Digital,Art,Collectibles,Painting,Image,Picture",
         "orientation": "v",
         "showlegend": true,
         "type": "scatter",
         "x": [
          440.46
         ],
         "xaxis": "x",
         "y": [
          1214.411143
         ],
         "yaxis": "y"
        },
        {
         "hovertemplate": "Category=Collectibles,Digital,Metaverse,Art,Graphics,2D,Picture,Image,Design<br>Floor_Price_USD=%{x}<br>Average_Price_USD=%{y}<extra></extra>",
         "legendgroup": "Collectibles,Digital,Metaverse,Art,Graphics,2D,Picture,Image,Design",
         "marker": {
          "color": "#ab63fa",
          "symbol": "circle"
         },
         "mode": "markers",
         "name": "Collectibles,Digital,Metaverse,Art,Graphics,2D,Picture,Image,Design",
         "orientation": "v",
         "showlegend": true,
         "type": "scatter",
         "x": [
          66.069
         ],
         "xaxis": "x",
         "y": [
          102.8208574
         ],
         "yaxis": "y"
        },
        {
         "hovertemplate": "Category=Digital,Art,Collectibles,2D,PFP,Drawing,P2E,Design,Image,Metaverse<br>Floor_Price_USD=%{x}<br>Average_Price_USD=%{y}<extra></extra>",
         "legendgroup": "Digital,Art,Collectibles,2D,PFP,Drawing,P2E,Design,Image,Metaverse",
         "marker": {
          "color": "#FFA15A",
          "symbol": "circle"
         },
         "mode": "markers",
         "name": "Digital,Art,Collectibles,2D,PFP,Drawing,P2E,Design,Image,Metaverse",
         "orientation": "v",
         "showlegend": true,
         "type": "scatter",
         "x": [
          44.046
         ],
         "xaxis": "x",
         "y": [
          124.1844397
         ],
         "yaxis": "y"
        },
        {
         "hovertemplate": "Category=Art,Digital,Collectibles<br>Floor_Price_USD=%{x}<br>Average_Price_USD=%{y}<extra></extra>",
         "legendgroup": "Art,Digital,Collectibles",
         "marker": {
          "color": "#19d3f3",
          "symbol": "circle"
         },
         "mode": "markers",
         "name": "Art,Digital,Collectibles",
         "orientation": "v",
         "showlegend": true,
         "type": "scatter",
         "x": [
          69.0054,
          293.64,
          146.82
         ],
         "xaxis": "x",
         "y": [
          104.7147241,
          732.19134,
          146.82
         ],
         "yaxis": "y"
        },
        {
         "hovertemplate": "Category=2D,Collectibles,Graphics,PFP<br>Floor_Price_USD=%{x}<br>Average_Price_USD=%{y}<extra></extra>",
         "legendgroup": "2D,Collectibles,Graphics,PFP",
         "marker": {
          "color": "#FF6692",
          "symbol": "circle"
         },
         "mode": "markers",
         "name": "2D,Collectibles,Graphics,PFP",
         "orientation": "v",
         "showlegend": true,
         "type": "scatter",
         "x": [
          33.7686
         ],
         "xaxis": "x",
         "y": [
          34.61509128
         ],
         "yaxis": "y"
        },
        {
         "hovertemplate": "Category=Digital,Design,Art,Collectibles,Graphics<br>Floor_Price_USD=%{x}<br>Average_Price_USD=%{y}<extra></extra>",
         "legendgroup": "Digital,Design,Art,Collectibles,Graphics",
         "marker": {
          "color": "#B6E880",
          "symbol": "circle"
         },
         "mode": "markers",
         "name": "Digital,Design,Art,Collectibles,Graphics",
         "orientation": "v",
         "showlegend": true,
         "type": "scatter",
         "x": [
          14.682
         ],
         "xaxis": "x",
         "y": [
          127.244
         ],
         "yaxis": "y"
        },
        {
         "hovertemplate": "Category=P2E,Metaverse<br>Floor_Price_USD=%{x}<br>Average_Price_USD=%{y}<extra></extra>",
         "legendgroup": "P2E,Metaverse",
         "marker": {
          "color": "#FF97FF",
          "symbol": "circle"
         },
         "mode": "markers",
         "name": "P2E,Metaverse",
         "orientation": "v",
         "showlegend": true,
         "type": "scatter",
         "x": [
          36.705
         ],
         "xaxis": "x",
         "y": [
          123.0233715
         ],
         "yaxis": "y"
        },
        {
         "hovertemplate": "Category=Digital,Metaverse,P2E,Art<br>Floor_Price_USD=%{x}<br>Average_Price_USD=%{y}<extra></extra>",
         "legendgroup": "Digital,Metaverse,P2E,Art",
         "marker": {
          "color": "#FECB52",
          "symbol": "circle"
         },
         "mode": "markers",
         "name": "Digital,Metaverse,P2E,Art",
         "orientation": "v",
         "showlegend": true,
         "type": "scatter",
         "x": [
          16.1502
         ],
         "xaxis": "x",
         "y": [
          90.61004194
         ],
         "yaxis": "y"
        },
        {
         "hovertemplate": "Category=Digital,Art,PFP,2D,Design,Picture,Collectibles<br>Floor_Price_USD=%{x}<br>Average_Price_USD=%{y}<extra></extra>",
         "legendgroup": "Digital,Art,PFP,2D,Design,Picture,Collectibles",
         "marker": {
          "color": "#636efa",
          "symbol": "circle"
         },
         "mode": "markers",
         "name": "Digital,Art,PFP,2D,Design,Picture,Collectibles",
         "orientation": "v",
         "showlegend": true,
         "type": "scatter",
         "x": [
          5.8728
         ],
         "xaxis": "x",
         "y": [
          71.73482907
         ],
         "yaxis": "y"
        },
        {
         "hovertemplate": "Category=Digital,Metaverse,Art,Collectibles,2D,P2E<br>Floor_Price_USD=%{x}<br>Average_Price_USD=%{y}<extra></extra>",
         "legendgroup": "Digital,Metaverse,Art,Collectibles,2D,P2E",
         "marker": {
          "color": "#EF553B",
          "symbol": "circle"
         },
         "mode": "markers",
         "name": "Digital,Metaverse,Art,Collectibles,2D,P2E",
         "orientation": "v",
         "showlegend": true,
         "type": "scatter",
         "x": [
          11.7456
         ],
         "xaxis": "x",
         "y": [
          20.05343976
         ],
         "yaxis": "y"
        },
        {
         "hovertemplate": "Category=Digital,Art,Collectibles,Immaterial,Metaverse,Graphics,2D,Photography,Picture,Pixel Art<br>Floor_Price_USD=%{x}<br>Average_Price_USD=%{y}<extra></extra>",
         "legendgroup": "Digital,Art,Collectibles,Immaterial,Metaverse,Graphics,2D,Photography,Picture,Pixel Art",
         "marker": {
          "color": "#00cc96",
          "symbol": "circle"
         },
         "mode": "markers",
         "name": "Digital,Art,Collectibles,Immaterial,Metaverse,Graphics,2D,Photography,Picture,Pixel Art",
         "orientation": "v",
         "showlegend": true,
         "type": "scatter",
         "x": [
          367.05
         ],
         "xaxis": "x",
         "y": [
          3780.615
         ],
         "yaxis": "y"
        },
        {
         "hovertemplate": "Category=Art,Collectibles,P2E,Metaverse,3D<br>Floor_Price_USD=%{x}<br>Average_Price_USD=%{y}<extra></extra>",
         "legendgroup": "Art,Collectibles,P2E,Metaverse,3D",
         "marker": {
          "color": "#ab63fa",
          "symbol": "circle"
         },
         "mode": "markers",
         "name": "Art,Collectibles,P2E,Metaverse,3D",
         "orientation": "v",
         "showlegend": true,
         "type": "scatter",
         "x": [
          8.8092
         ],
         "xaxis": "x",
         "y": [
          15.48858466
         ],
         "yaxis": "y"
        },
        {
         "hovertemplate": "Category=Digital,Metaverse,Art,PFP<br>Floor_Price_USD=%{x}<br>Average_Price_USD=%{y}<extra></extra>",
         "legendgroup": "Digital,Metaverse,Art,PFP",
         "marker": {
          "color": "#FFA15A",
          "symbol": "circle"
         },
         "mode": "markers",
         "name": "Digital,Metaverse,Art,PFP",
         "orientation": "v",
         "showlegend": true,
         "type": "scatter",
         "x": [
          129.2016
         ],
         "xaxis": "x",
         "y": [
          153.7514495
         ],
         "yaxis": "y"
        },
        {
         "hovertemplate": "Category=Metaverse,P2E,Collectibles,Art,PFP<br>Floor_Price_USD=%{x}<br>Average_Price_USD=%{y}<extra></extra>",
         "legendgroup": "Metaverse,P2E,Collectibles,Art,PFP",
         "marker": {
          "color": "#19d3f3",
          "symbol": "circle"
         },
         "mode": "markers",
         "name": "Metaverse,P2E,Collectibles,Art,PFP",
         "orientation": "v",
         "showlegend": true,
         "type": "scatter",
         "x": [
          212.889
         ],
         "xaxis": "x",
         "y": [
          176.2028231
         ],
         "yaxis": "y"
        },
        {
         "hovertemplate": "Category=Digital,Collectibles,PFP,Metaverse,Privilege,Art<br>Floor_Price_USD=%{x}<br>Average_Price_USD=%{y}<extra></extra>",
         "legendgroup": "Digital,Collectibles,PFP,Metaverse,Privilege,Art",
         "marker": {
          "color": "#FF6692",
          "symbol": "circle"
         },
         "mode": "markers",
         "name": "Digital,Collectibles,PFP,Metaverse,Privilege,Art",
         "orientation": "v",
         "showlegend": true,
         "type": "scatter",
         "x": [
          939.648
         ],
         "xaxis": "x",
         "y": [
          350.4742348
         ],
         "yaxis": "y"
        },
        {
         "hovertemplate": "Category=Collectibles,Digital,Metaverse,Art,PFP<br>Floor_Price_USD=%{x}<br>Average_Price_USD=%{y}<extra></extra>",
         "legendgroup": "Collectibles,Digital,Metaverse,Art,PFP",
         "marker": {
          "color": "#B6E880",
          "symbol": "circle"
         },
         "mode": "markers",
         "name": "Collectibles,Digital,Metaverse,Art,PFP",
         "orientation": "v",
         "showlegend": true,
         "type": "scatter",
         "x": [
          10.2774
         ],
         "xaxis": "x",
         "y": [
          15.28982904
         ],
         "yaxis": "y"
        },
        {
         "hovertemplate": "Category=Metaverse,Digital,Art,Graphics,2D,3D,Painting,Photography,Drawing,Video,Design,Pixel Art<br>Floor_Price_USD=%{x}<br>Average_Price_USD=%{y}<extra></extra>",
         "legendgroup": "Metaverse,Digital,Art,Graphics,2D,3D,Painting,Photography,Drawing,Video,Design,Pixel Art",
         "marker": {
          "color": "#FF97FF",
          "symbol": "circle"
         },
         "mode": "markers",
         "name": "Metaverse,Digital,Art,Graphics,2D,3D,Painting,Photography,Drawing,Video,Design,Pixel Art",
         "orientation": "v",
         "showlegend": true,
         "type": "scatter",
         "x": [
          513.87
         ],
         "xaxis": "x",
         "y": [
          553.797878
         ],
         "yaxis": "y"
        },
        {
         "hovertemplate": "Category=Art,Collectibles,2D,Painting,Picture,Image<br>Floor_Price_USD=%{x}<br>Average_Price_USD=%{y}<extra></extra>",
         "legendgroup": "Art,Collectibles,2D,Painting,Picture,Image",
         "marker": {
          "color": "#FECB52",
          "symbol": "circle"
         },
         "mode": "markers",
         "name": "Art,Collectibles,2D,Painting,Picture,Image",
         "orientation": "v",
         "showlegend": true,
         "type": "scatter",
         "x": [
          180.5886
         ],
         "xaxis": "x",
         "y": [
          186.620455
         ],
         "yaxis": "y"
        },
        {
         "hovertemplate": "Category=Digital,Privilege,Art,Collectibles<br>Floor_Price_USD=%{x}<br>Average_Price_USD=%{y}<extra></extra>",
         "legendgroup": "Digital,Privilege,Art,Collectibles",
         "marker": {
          "color": "#636efa",
          "symbol": "circle"
         },
         "mode": "markers",
         "name": "Digital,Privilege,Art,Collectibles",
         "orientation": "v",
         "showlegend": true,
         "type": "scatter",
         "x": [
          91.0284
         ],
         "xaxis": "x",
         "y": [
          242.8997071
         ],
         "yaxis": "y"
        },
        {
         "hovertemplate": "Category=P2E,Digital,Collectibles<br>Floor_Price_USD=%{x}<br>Average_Price_USD=%{y}<extra></extra>",
         "legendgroup": "P2E,Digital,Collectibles",
         "marker": {
          "color": "#EF553B",
          "symbol": "circle"
         },
         "mode": "markers",
         "name": "P2E,Digital,Collectibles",
         "orientation": "v",
         "showlegend": true,
         "type": "scatter",
         "x": [
          58.728
         ],
         "xaxis": "x",
         "y": [
          495.6492615
         ],
         "yaxis": "y"
        },
        {
         "hovertemplate": "Category=Digital,Privilege,Metaverse,Collectibles,3D,Video<br>Floor_Price_USD=%{x}<br>Average_Price_USD=%{y}<extra></extra>",
         "legendgroup": "Digital,Privilege,Metaverse,Collectibles,3D,Video",
         "marker": {
          "color": "#00cc96",
          "symbol": "circle"
         },
         "mode": "markers",
         "name": "Digital,Privilege,Metaverse,Collectibles,3D,Video",
         "orientation": "v",
         "showlegend": true,
         "type": "scatter",
         "x": [
          697.395
         ],
         "xaxis": "x",
         "y": [
          697.395
         ],
         "yaxis": "y"
        },
        {
         "hovertemplate": "Category=Art,Digital,Painting<br>Floor_Price_USD=%{x}<br>Average_Price_USD=%{y}<extra></extra>",
         "legendgroup": "Art,Digital,Painting",
         "marker": {
          "color": "#ab63fa",
          "symbol": "circle"
         },
         "mode": "markers",
         "name": "Art,Digital,Painting",
         "orientation": "v",
         "showlegend": true,
         "type": "scatter",
         "x": [
          195.2706
         ],
         "xaxis": "x",
         "y": [
          462.483
         ],
         "yaxis": "y"
        },
        {
         "hovertemplate": "Category=Collectibles,2D,Image,Picture<br>Floor_Price_USD=%{x}<br>Average_Price_USD=%{y}<extra></extra>",
         "legendgroup": "Collectibles,2D,Image,Picture",
         "marker": {
          "color": "#FFA15A",
          "symbol": "circle"
         },
         "mode": "markers",
         "name": "Collectibles,2D,Image,Picture",
         "orientation": "v",
         "showlegend": true,
         "type": "scatter",
         "x": [
          146.82
         ],
         "xaxis": "x",
         "y": [
          222.8083024
         ],
         "yaxis": "y"
        },
        {
         "hovertemplate": "Category=P2E,Digital,Art,Metaverse,PFP<br>Floor_Price_USD=%{x}<br>Average_Price_USD=%{y}<extra></extra>",
         "legendgroup": "P2E,Digital,Art,Metaverse,PFP",
         "marker": {
          "color": "#19d3f3",
          "symbol": "circle"
         },
         "mode": "markers",
         "name": "P2E,Digital,Art,Metaverse,PFP",
         "orientation": "v",
         "showlegend": true,
         "type": "scatter",
         "x": [
          32.3004
         ],
         "xaxis": "x",
         "y": [
          71.15300235
         ],
         "yaxis": "y"
        },
        {
         "hovertemplate": "Category=Digital,Art,Collectibles,2D,Painting,Drawing,Image<br>Floor_Price_USD=%{x}<br>Average_Price_USD=%{y}<extra></extra>",
         "legendgroup": "Digital,Art,Collectibles,2D,Painting,Drawing,Image",
         "marker": {
          "color": "#FF6692",
          "symbol": "circle"
         },
         "mode": "markers",
         "name": "Digital,Art,Collectibles,2D,Painting,Drawing,Image",
         "orientation": "v",
         "showlegend": true,
         "type": "scatter",
         "x": [
          367.05
         ],
         "xaxis": "x",
         "y": [
          1696.79874
         ],
         "yaxis": "y"
        },
        {
         "hovertemplate": "Category=Digital,Print,Collectibles,Art,PFP<br>Floor_Price_USD=%{x}<br>Average_Price_USD=%{y}<extra></extra>",
         "legendgroup": "Digital,Print,Collectibles,Art,PFP",
         "marker": {
          "color": "#B6E880",
          "symbol": "circle"
         },
         "mode": "markers",
         "name": "Digital,Print,Collectibles,Art,PFP",
         "orientation": "v",
         "showlegend": true,
         "type": "scatter",
         "x": [
          null
         ],
         "xaxis": "x",
         "y": [
          69.87297273
         ],
         "yaxis": "y"
        },
        {
         "hovertemplate": "Category=3D,Art<br>Floor_Price_USD=%{x}<br>Average_Price_USD=%{y}<extra></extra>",
         "legendgroup": "3D,Art",
         "marker": {
          "color": "#FF97FF",
          "symbol": "circle"
         },
         "mode": "markers",
         "name": "3D,Art",
         "orientation": "v",
         "showlegend": true,
         "type": "scatter",
         "x": [
          36.705
         ],
         "xaxis": "x",
         "y": [
          180.3675806
         ],
         "yaxis": "y"
        },
        {
         "hovertemplate": "Category=Digital,Metaverse,Art,Collectibles,PFP,3D,Design,P2E<br>Floor_Price_USD=%{x}<br>Average_Price_USD=%{y}<extra></extra>",
         "legendgroup": "Digital,Metaverse,Art,Collectibles,PFP,3D,Design,P2E",
         "marker": {
          "color": "#FECB52",
          "symbol": "circle"
         },
         "mode": "markers",
         "name": "Digital,Metaverse,Art,Collectibles,PFP,3D,Design,P2E",
         "orientation": "v",
         "showlegend": true,
         "type": "scatter",
         "x": [
          95.433
         ],
         "xaxis": "x",
         "y": [
          192.9284714
         ],
         "yaxis": "y"
        },
        {
         "hovertemplate": "Category=Trading Cards,Collectibles<br>Floor_Price_USD=%{x}<br>Average_Price_USD=%{y}<extra></extra>",
         "legendgroup": "Trading Cards,Collectibles",
         "marker": {
          "color": "#636efa",
          "symbol": "circle"
         },
         "mode": "markers",
         "name": "Trading Cards,Collectibles",
         "orientation": "v",
         "showlegend": true,
         "type": "scatter",
         "x": [
          36.705,
          146.82
         ],
         "xaxis": "x",
         "y": [
          241.6968636,
          734.1
         ],
         "yaxis": "y"
        },
        {
         "hovertemplate": "Category=Art,Collectibles,Digital,PFP<br>Floor_Price_USD=%{x}<br>Average_Price_USD=%{y}<extra></extra>",
         "legendgroup": "Art,Collectibles,Digital,PFP",
         "marker": {
          "color": "#EF553B",
          "symbol": "circle"
         },
         "mode": "markers",
         "name": "Art,Collectibles,Digital,PFP",
         "orientation": "v",
         "showlegend": true,
         "type": "scatter",
         "x": [
          734.1
         ],
         "xaxis": "x",
         "y": [
          836.0583333
         ],
         "yaxis": "y"
        },
        {
         "hovertemplate": "Category=Metaverse,Collectibles,Digital,Image<br>Floor_Price_USD=%{x}<br>Average_Price_USD=%{y}<extra></extra>",
         "legendgroup": "Metaverse,Collectibles,Digital,Image",
         "marker": {
          "color": "#00cc96",
          "symbol": "circle"
         },
         "mode": "markers",
         "name": "Metaverse,Collectibles,Digital,Image",
         "orientation": "v",
         "showlegend": true,
         "type": "scatter",
         "x": [
          14.682
         ],
         "xaxis": "x",
         "y": [
          21.63319173
         ],
         "yaxis": "y"
        },
        {
         "hovertemplate": "Category=Collectibles,Art,Image,Picture<br>Floor_Price_USD=%{x}<br>Average_Price_USD=%{y}<extra></extra>",
         "legendgroup": "Collectibles,Art,Image,Picture",
         "marker": {
          "color": "#ab63fa",
          "symbol": "circle"
         },
         "mode": "markers",
         "name": "Collectibles,Art,Image,Picture",
         "orientation": "v",
         "showlegend": true,
         "type": "scatter",
         "x": [
          4.4046
         ],
         "xaxis": "x",
         "y": [
          10.2335899
         ],
         "yaxis": "y"
        },
        {
         "hovertemplate": "Category=Digital,Art,Collectibles,PFP,2D,Image<br>Floor_Price_USD=%{x}<br>Average_Price_USD=%{y}<extra></extra>",
         "legendgroup": "Digital,Art,Collectibles,PFP,2D,Image",
         "marker": {
          "color": "#FFA15A",
          "symbol": "circle"
         },
         "mode": "markers",
         "name": "Digital,Art,Collectibles,PFP,2D,Image",
         "orientation": "v",
         "showlegend": true,
         "type": "scatter",
         "x": [
          7.341,
          4.4046
         ],
         "xaxis": "x",
         "y": [
          26.46547024,
          12.54535122
         ],
         "yaxis": "y"
        },
        {
         "hovertemplate": "Category=Digital,Art,Collectibles,2D,Drawing,Painting<br>Floor_Price_USD=%{x}<br>Average_Price_USD=%{y}<extra></extra>",
         "legendgroup": "Digital,Art,Collectibles,2D,Drawing,Painting",
         "marker": {
          "color": "#19d3f3",
          "symbol": "circle"
         },
         "mode": "markers",
         "name": "Digital,Art,Collectibles,2D,Drawing,Painting",
         "orientation": "v",
         "showlegend": true,
         "type": "scatter",
         "x": [
          99.8376
         ],
         "xaxis": "x",
         "y": [
          140.6083846
         ],
         "yaxis": "y"
        },
        {
         "hovertemplate": "Category=Art,Painting,Drawing,Digital,Collectibles,AI,Design<br>Floor_Price_USD=%{x}<br>Average_Price_USD=%{y}<extra></extra>",
         "legendgroup": "Art,Painting,Drawing,Digital,Collectibles,AI,Design",
         "marker": {
          "color": "#FF6692",
          "symbol": "circle"
         },
         "mode": "markers",
         "name": "Art,Painting,Drawing,Digital,Collectibles,AI,Design",
         "orientation": "v",
         "showlegend": true,
         "type": "scatter",
         "x": [
          146.82
         ],
         "xaxis": "x",
         "y": [
          100.5890409
         ],
         "yaxis": "y"
        },
        {
         "hovertemplate": "Category=Metaverse,Art<br>Floor_Price_USD=%{x}<br>Average_Price_USD=%{y}<extra></extra>",
         "legendgroup": "Metaverse,Art",
         "marker": {
          "color": "#B6E880",
          "symbol": "circle"
         },
         "mode": "markers",
         "name": "Metaverse,Art",
         "orientation": "v",
         "showlegend": true,
         "type": "scatter",
         "x": [
          13.2138,
          13.2138
         ],
         "xaxis": "x",
         "y": [
          248.9894471,
          35.97486811
         ],
         "yaxis": "y"
        },
        {
         "hovertemplate": "Category=Art,Collectibles,PFP<br>Floor_Price_USD=%{x}<br>Average_Price_USD=%{y}<extra></extra>",
         "legendgroup": "Art,Collectibles,PFP",
         "marker": {
          "color": "#FF97FF",
          "symbol": "circle"
         },
         "mode": "markers",
         "name": "Art,Collectibles,PFP",
         "orientation": "v",
         "showlegend": true,
         "type": "scatter",
         "x": [
          249.594
         ],
         "xaxis": "x",
         "y": [
          304.6515
         ],
         "yaxis": "y"
        },
        {
         "hovertemplate": "Category=Digital,Metaverse,Art,Collectibles,PFP,3D,Picture<br>Floor_Price_USD=%{x}<br>Average_Price_USD=%{y}<extra></extra>",
         "legendgroup": "Digital,Metaverse,Art,Collectibles,PFP,3D,Picture",
         "marker": {
          "color": "#FECB52",
          "symbol": "circle"
         },
         "mode": "markers",
         "name": "Digital,Metaverse,Art,Collectibles,PFP,3D,Picture",
         "orientation": "v",
         "showlegend": true,
         "type": "scatter",
         "x": [
          126.2652
         ],
         "xaxis": "x",
         "y": [
          152.810256
         ],
         "yaxis": "y"
        },
        {
         "hovertemplate": "Category=Digital,Art,Design,Collectibles,3D<br>Floor_Price_USD=%{x}<br>Average_Price_USD=%{y}<extra></extra>",
         "legendgroup": "Digital,Art,Design,Collectibles,3D",
         "marker": {
          "color": "#636efa",
          "symbol": "circle"
         },
         "mode": "markers",
         "name": "Digital,Art,Design,Collectibles,3D",
         "orientation": "v",
         "showlegend": true,
         "type": "scatter",
         "x": [
          36.705
         ],
         "xaxis": "x",
         "y": [
          46.11455709
         ],
         "yaxis": "y"
        },
        {
         "hovertemplate": "Category=Digital,Art,PFP,3D,Design,Graphics,Collectibles,Sculpture<br>Floor_Price_USD=%{x}<br>Average_Price_USD=%{y}<extra></extra>",
         "legendgroup": "Digital,Art,PFP,3D,Design,Graphics,Collectibles,Sculpture",
         "marker": {
          "color": "#EF553B",
          "symbol": "circle"
         },
         "mode": "markers",
         "name": "Digital,Art,PFP,3D,Design,Graphics,Collectibles,Sculpture",
         "orientation": "v",
         "showlegend": true,
         "type": "scatter",
         "x": [
          36.705
         ],
         "xaxis": "x",
         "y": [
          114.5345816
         ],
         "yaxis": "y"
        },
        {
         "hovertemplate": "Category=2D,Art,Metaverse,Collectibles<br>Floor_Price_USD=%{x}<br>Average_Price_USD=%{y}<extra></extra>",
         "legendgroup": "2D,Art,Metaverse,Collectibles",
         "marker": {
          "color": "#00cc96",
          "symbol": "circle"
         },
         "mode": "markers",
         "name": "2D,Art,Metaverse,Collectibles",
         "orientation": "v",
         "showlegend": true,
         "type": "scatter",
         "x": [
          20.5548
         ],
         "xaxis": "x",
         "y": [
          51.65783301
         ],
         "yaxis": "y"
        },
        {
         "hovertemplate": "Category=Art,Digital,Collectibles,3D<br>Floor_Price_USD=%{x}<br>Average_Price_USD=%{y}<extra></extra>",
         "legendgroup": "Art,Digital,Collectibles,3D",
         "marker": {
          "color": "#ab63fa",
          "symbol": "circle"
         },
         "mode": "markers",
         "name": "Art,Digital,Collectibles,3D",
         "orientation": "v",
         "showlegend": true,
         "type": "scatter",
         "x": [
          129.2016,
          73.41
         ],
         "xaxis": "x",
         "y": [
          165.5166094,
          410.80236
         ],
         "yaxis": "y"
        },
        {
         "hovertemplate": "Category=Digital,Collectibles,Art,Drawing,Painting<br>Floor_Price_USD=%{x}<br>Average_Price_USD=%{y}<extra></extra>",
         "legendgroup": "Digital,Collectibles,Art,Drawing,Painting",
         "marker": {
          "color": "#FFA15A",
          "symbol": "circle"
         },
         "mode": "markers",
         "name": "Digital,Collectibles,Art,Drawing,Painting",
         "orientation": "v",
         "showlegend": true,
         "type": "scatter",
         "x": [
          44.046
         ],
         "xaxis": "x",
         "y": [
          51.291567
         ],
         "yaxis": "y"
        },
        {
         "hovertemplate": "Category=Digital,Metaverse,Collectibles,Art,Trading Cards,P2E<br>Floor_Price_USD=%{x}<br>Average_Price_USD=%{y}<extra></extra>",
         "legendgroup": "Digital,Metaverse,Collectibles,Art,Trading Cards,P2E",
         "marker": {
          "color": "#19d3f3",
          "symbol": "circle"
         },
         "mode": "markers",
         "name": "Digital,Metaverse,Collectibles,Art,Trading Cards,P2E",
         "orientation": "v",
         "showlegend": true,
         "type": "scatter",
         "x": [
          80.751
         ],
         "xaxis": "x",
         "y": [
          141.5468873
         ],
         "yaxis": "y"
        },
        {
         "hovertemplate": "Category=Art<br>Floor_Price_USD=%{x}<br>Average_Price_USD=%{y}<extra></extra>",
         "legendgroup": "Art",
         "marker": {
          "color": "#FF6692",
          "symbol": "circle"
         },
         "mode": "markers",
         "name": "Art",
         "orientation": "v",
         "showlegend": true,
         "type": "scatter",
         "x": [
          29.364,
          11.7456,
          null,
          954.33,
          null,
          42.5778,
          11.7456,
          null,
          73.41,
          58.728,
          734.1,
          46.9824
         ],
         "xaxis": "x",
         "y": [
          91.36514312,
          35.06308168,
          440.46,
          252.8566667,
          411.096,
          76.27648571,
          13.39505926,
          440.46,
          115.3585714,
          61.89027692,
          734.1,
          46.493
         ],
         "yaxis": "y"
        },
        {
         "hovertemplate": "Category=Digital,Metaverse,Art,2D,P2E<br>Floor_Price_USD=%{x}<br>Average_Price_USD=%{y}<extra></extra>",
         "legendgroup": "Digital,Metaverse,Art,2D,P2E",
         "marker": {
          "color": "#B6E880",
          "symbol": "circle"
         },
         "mode": "markers",
         "name": "Digital,Metaverse,Art,2D,P2E",
         "orientation": "v",
         "showlegend": true,
         "type": "scatter",
         "x": [
          140.9472
         ],
         "xaxis": "x",
         "y": [
          128.1528857
         ],
         "yaxis": "y"
        },
        {
         "hovertemplate": "Category=Digital,Metaverse,Art,Collectibles,PFP,2D,Design<br>Floor_Price_USD=%{x}<br>Average_Price_USD=%{y}<extra></extra>",
         "legendgroup": "Digital,Metaverse,Art,Collectibles,PFP,2D,Design",
         "marker": {
          "color": "#FF97FF",
          "symbol": "circle"
         },
         "mode": "markers",
         "name": "Digital,Metaverse,Art,Collectibles,PFP,2D,Design",
         "orientation": "v",
         "showlegend": true,
         "type": "scatter",
         "x": [
          80.751
         ],
         "xaxis": "x",
         "y": [
          158.6415414
         ],
         "yaxis": "y"
        },
        {
         "hovertemplate": "Category=Art,P2E<br>Floor_Price_USD=%{x}<br>Average_Price_USD=%{y}<extra></extra>",
         "legendgroup": "Art,P2E",
         "marker": {
          "color": "#FECB52",
          "symbol": "circle"
         },
         "mode": "markers",
         "name": "Art,P2E",
         "orientation": "v",
         "showlegend": true,
         "type": "scatter",
         "x": [
          4.4046
         ],
         "xaxis": "x",
         "y": [
          10.83393791
         ],
         "yaxis": "y"
        },
        {
         "hovertemplate": "Category=3D,Digital,Privilege,Art,Image<br>Floor_Price_USD=%{x}<br>Average_Price_USD=%{y}<extra></extra>",
         "legendgroup": "3D,Digital,Privilege,Art,Image",
         "marker": {
          "color": "#636efa",
          "symbol": "circle"
         },
         "mode": "markers",
         "name": "3D,Digital,Privilege,Art,Image",
         "orientation": "v",
         "showlegend": true,
         "type": "scatter",
         "x": [
          367.05
         ],
         "xaxis": "x",
         "y": [
          203.3790682
         ],
         "yaxis": "y"
        },
        {
         "hovertemplate": "Category=Art,Collectibles<br>Floor_Price_USD=%{x}<br>Average_Price_USD=%{y}<extra></extra>",
         "legendgroup": "Art,Collectibles",
         "marker": {
          "color": "#EF553B",
          "symbol": "circle"
         },
         "mode": "markers",
         "name": "Art,Collectibles",
         "orientation": "v",
         "showlegend": true,
         "type": "scatter",
         "x": [
          73.41,
          42.5778,
          73.41
         ],
         "xaxis": "x",
         "y": [
          185.3908375,
          49.05122727,
          222.1876
         ],
         "yaxis": "y"
        },
        {
         "hovertemplate": "Category=PFP,Digital,Art,Collectibles,Drawing<br>Floor_Price_USD=%{x}<br>Average_Price_USD=%{y}<extra></extra>",
         "legendgroup": "PFP,Digital,Art,Collectibles,Drawing",
         "marker": {
          "color": "#00cc96",
          "symbol": "circle"
         },
         "mode": "markers",
         "name": "PFP,Digital,Art,Collectibles,Drawing",
         "orientation": "v",
         "showlegend": true,
         "type": "scatter",
         "x": [
          19.0866
         ],
         "xaxis": "x",
         "y": [
          41.21348208
         ],
         "yaxis": "y"
        },
        {
         "hovertemplate": "Category=Collectibles,Metaverse<br>Floor_Price_USD=%{x}<br>Average_Price_USD=%{y}<extra></extra>",
         "legendgroup": "Collectibles,Metaverse",
         "marker": {
          "color": "#ab63fa",
          "symbol": "circle"
         },
         "mode": "markers",
         "name": "Collectibles,Metaverse",
         "orientation": "v",
         "showlegend": true,
         "type": "scatter",
         "x": [
          4.4046
         ],
         "xaxis": "x",
         "y": [
          21.25376675
         ],
         "yaxis": "y"
        },
        {
         "hovertemplate": "Category=PFP,Digital,Art,Collectibles<br>Floor_Price_USD=%{x}<br>Average_Price_USD=%{y}<extra></extra>",
         "legendgroup": "PFP,Digital,Art,Collectibles",
         "marker": {
          "color": "#FFA15A",
          "symbol": "circle"
         },
         "mode": "markers",
         "name": "PFP,Digital,Art,Collectibles",
         "orientation": "v",
         "showlegend": true,
         "type": "scatter",
         "x": [
          22.023
         ],
         "xaxis": "x",
         "y": [
          85.30696082
         ],
         "yaxis": "y"
        },
        {
         "hovertemplate": "Category=Digital,Art,Collectibles,PFP,2D,Drawing,Image<br>Floor_Price_USD=%{x}<br>Average_Price_USD=%{y}<extra></extra>",
         "legendgroup": "Digital,Art,Collectibles,PFP,2D,Drawing,Image",
         "marker": {
          "color": "#19d3f3",
          "symbol": "circle"
         },
         "mode": "markers",
         "name": "Digital,Art,Collectibles,PFP,2D,Drawing,Image",
         "orientation": "v",
         "showlegend": true,
         "type": "scatter",
         "x": [
          17.6184
         ],
         "xaxis": "x",
         "y": [
          410.94918
         ],
         "yaxis": "y"
        },
        {
         "hovertemplate": "Category=Art,PFP,Digital,Collectibles,Metaverse,Graphics,Drawing,Image,Picture<br>Floor_Price_USD=%{x}<br>Average_Price_USD=%{y}<extra></extra>",
         "legendgroup": "Art,PFP,Digital,Collectibles,Metaverse,Graphics,Drawing,Image,Picture",
         "marker": {
          "color": "#FF6692",
          "symbol": "circle"
         },
         "mode": "markers",
         "name": "Art,PFP,Digital,Collectibles,Metaverse,Graphics,Drawing,Image,Picture",
         "orientation": "v",
         "showlegend": true,
         "type": "scatter",
         "x": [
          14.682
         ],
         "xaxis": "x",
         "y": [
          72.51859286
         ],
         "yaxis": "y"
        },
        {
         "hovertemplate": "Category=Digital,Metaverse,Art,PFP,Graphics,2D,Drawing,Design,Image<br>Floor_Price_USD=%{x}<br>Average_Price_USD=%{y}<extra></extra>",
         "legendgroup": "Digital,Metaverse,Art,PFP,Graphics,2D,Drawing,Design,Image",
         "marker": {
          "color": "#B6E880",
          "symbol": "circle"
         },
         "mode": "markers",
         "name": "Digital,Metaverse,Art,PFP,Graphics,2D,Drawing,Design,Image",
         "orientation": "v",
         "showlegend": true,
         "type": "scatter",
         "x": [
          27.8958
         ],
         "xaxis": "x",
         "y": [
          46.92802222
         ],
         "yaxis": "y"
        },
        {
         "hovertemplate": "Category=Physical,Privilege,Collectibles<br>Floor_Price_USD=%{x}<br>Average_Price_USD=%{y}<extra></extra>",
         "legendgroup": "Physical,Privilege,Collectibles",
         "marker": {
          "color": "#FF97FF",
          "symbol": "circle"
         },
         "mode": "markers",
         "name": "Physical,Privilege,Collectibles",
         "orientation": "v",
         "showlegend": true,
         "type": "scatter",
         "x": [
          1192.1784
         ],
         "xaxis": "x",
         "y": [
          1181.4116
         ],
         "yaxis": "y"
        },
        {
         "hovertemplate": "Category=Art,Pixel Art,Digital<br>Floor_Price_USD=%{x}<br>Average_Price_USD=%{y}<extra></extra>",
         "legendgroup": "Art,Pixel Art,Digital",
         "marker": {
          "color": "#FECB52",
          "symbol": "circle"
         },
         "mode": "markers",
         "name": "Art,Pixel Art,Digital",
         "orientation": "v",
         "showlegend": true,
         "type": "scatter",
         "x": [
          13.2138
         ],
         "xaxis": "x",
         "y": [
          14.93720215
         ],
         "yaxis": "y"
        },
        {
         "hovertemplate": "Category=Digital,Art,Drawing<br>Floor_Price_USD=%{x}<br>Average_Price_USD=%{y}<extra></extra>",
         "legendgroup": "Digital,Art,Drawing",
         "marker": {
          "color": "#636efa",
          "symbol": "circle"
         },
         "mode": "markers",
         "name": "Digital,Art,Drawing",
         "orientation": "v",
         "showlegend": true,
         "type": "scatter",
         "x": [
          292.1718,
          146.82
         ],
         "xaxis": "x",
         "y": [
          96.57249851,
          734.1
         ],
         "yaxis": "y"
        },
        {
         "hovertemplate": "Category=Art,Collectibles,2D,Digital<br>Floor_Price_USD=%{x}<br>Average_Price_USD=%{y}<extra></extra>",
         "legendgroup": "Art,Collectibles,2D,Digital",
         "marker": {
          "color": "#EF553B",
          "symbol": "circle"
         },
         "mode": "markers",
         "name": "Art,Collectibles,2D,Digital",
         "orientation": "v",
         "showlegend": true,
         "type": "scatter",
         "x": [
          29.364
         ],
         "xaxis": "x",
         "y": [
          100.8928687
         ],
         "yaxis": "y"
        },
        {
         "hovertemplate": "Category=Art,Collectibles,Metaverse,PFP,Graphics,2D<br>Floor_Price_USD=%{x}<br>Average_Price_USD=%{y}<extra></extra>",
         "legendgroup": "Art,Collectibles,Metaverse,PFP,Graphics,2D",
         "marker": {
          "color": "#00cc96",
          "symbol": "circle"
         },
         "mode": "markers",
         "name": "Art,Collectibles,Metaverse,PFP,Graphics,2D",
         "orientation": "v",
         "showlegend": true,
         "type": "scatter",
         "x": [
          67.5372
         ],
         "xaxis": "x",
         "y": [
          172.771427
         ],
         "yaxis": "y"
        },
        {
         "hovertemplate": "Category=Digital,Collectibles,3D<br>Floor_Price_USD=%{x}<br>Average_Price_USD=%{y}<extra></extra>",
         "legendgroup": "Digital,Collectibles,3D",
         "marker": {
          "color": "#ab63fa",
          "symbol": "circle"
         },
         "mode": "markers",
         "name": "Digital,Collectibles,3D",
         "orientation": "v",
         "showlegend": true,
         "type": "scatter",
         "x": [
          44.046
         ],
         "xaxis": "x",
         "y": [
          59.28203774
         ],
         "yaxis": "y"
        },
        {
         "hovertemplate": "Category=Collectibles,2D,Digital<br>Floor_Price_USD=%{x}<br>Average_Price_USD=%{y}<extra></extra>",
         "legendgroup": "Collectibles,2D,Digital",
         "marker": {
          "color": "#FFA15A",
          "symbol": "circle"
         },
         "mode": "markers",
         "name": "Collectibles,2D,Digital",
         "orientation": "v",
         "showlegend": true,
         "type": "scatter",
         "x": [
          278.958
         ],
         "xaxis": "x",
         "y": [
          171.1082229
         ],
         "yaxis": "y"
        },
        {
         "hovertemplate": "Category=Art,AI,Image,Picture,Painting,Collectibles<br>Floor_Price_USD=%{x}<br>Average_Price_USD=%{y}<extra></extra>",
         "legendgroup": "Art,AI,Image,Picture,Painting,Collectibles",
         "marker": {
          "color": "#19d3f3",
          "symbol": "circle"
         },
         "mode": "markers",
         "name": "Art,AI,Image,Picture,Painting,Collectibles",
         "orientation": "v",
         "showlegend": true,
         "type": "scatter",
         "x": [
          110.115
         ],
         "xaxis": "x",
         "y": [
          88.1577403
         ],
         "yaxis": "y"
        },
        {
         "hovertemplate": "Category=PFP<br>Floor_Price_USD=%{x}<br>Average_Price_USD=%{y}<extra></extra>",
         "legendgroup": "PFP",
         "marker": {
          "color": "#FF6692",
          "symbol": "circle"
         },
         "mode": "markers",
         "name": "PFP",
         "orientation": "v",
         "showlegend": true,
         "type": "scatter",
         "x": [
          333.2814,
          5.8728
         ],
         "xaxis": "x",
         "y": [
          101.4576828,
          15.05261359
         ],
         "yaxis": "y"
        },
        {
         "hovertemplate": "Category=Art,Collectibles,Trading Cards<br>Floor_Price_USD=%{x}<br>Average_Price_USD=%{y}<extra></extra>",
         "legendgroup": "Art,Collectibles,Trading Cards",
         "marker": {
          "color": "#B6E880",
          "symbol": "circle"
         },
         "mode": "markers",
         "name": "Art,Collectibles,Trading Cards",
         "orientation": "v",
         "showlegend": true,
         "type": "scatter",
         "x": [
          146.82
         ],
         "xaxis": "x",
         "y": [
          384.179
         ],
         "yaxis": "y"
        },
        {
         "hovertemplate": "Category=Digital,Privilege,Art,Collectibles,Graphics<br>Floor_Price_USD=%{x}<br>Average_Price_USD=%{y}<extra></extra>",
         "legendgroup": "Digital,Privilege,Art,Collectibles,Graphics",
         "marker": {
          "color": "#FF97FF",
          "symbol": "circle"
         },
         "mode": "markers",
         "name": "Digital,Privilege,Art,Collectibles,Graphics",
         "orientation": "v",
         "showlegend": true,
         "type": "scatter",
         "x": [
          1761.84
         ],
         "xaxis": "x",
         "y": [
          90.7837
         ],
         "yaxis": "y"
        },
        {
         "hovertemplate": "Category=Digital,Art,Collectibles,PFP,Image,Design,Pixel Art<br>Floor_Price_USD=%{x}<br>Average_Price_USD=%{y}<extra></extra>",
         "legendgroup": "Digital,Art,Collectibles,PFP,Image,Design,Pixel Art",
         "marker": {
          "color": "#FECB52",
          "symbol": "circle"
         },
         "mode": "markers",
         "name": "Digital,Art,Collectibles,PFP,Image,Design,Pixel Art",
         "orientation": "v",
         "showlegend": true,
         "type": "scatter",
         "x": [
          29.364
         ],
         "xaxis": "x",
         "y": [
          39.78174265
         ],
         "yaxis": "y"
        },
        {
         "hovertemplate": "Category=Art,Collectibles,2D,Metaverse<br>Floor_Price_USD=%{x}<br>Average_Price_USD=%{y}<extra></extra>",
         "legendgroup": "Art,Collectibles,2D,Metaverse",
         "marker": {
          "color": "#636efa",
          "symbol": "circle"
         },
         "mode": "markers",
         "name": "Art,Collectibles,2D,Metaverse",
         "orientation": "v",
         "showlegend": true,
         "type": "scatter",
         "x": [
          29.364
         ],
         "xaxis": "x",
         "y": [
          17.03019369
         ],
         "yaxis": "y"
        },
        {
         "hovertemplate": "Category=P2E,Collectibles<br>Floor_Price_USD=%{x}<br>Average_Price_USD=%{y}<extra></extra>",
         "legendgroup": "P2E,Collectibles",
         "marker": {
          "color": "#EF553B",
          "symbol": "circle"
         },
         "mode": "markers",
         "name": "P2E,Collectibles",
         "orientation": "v",
         "showlegend": true,
         "type": "scatter",
         "x": [
          190.866
         ],
         "xaxis": "x",
         "y": [
          184.1831586
         ],
         "yaxis": "y"
        },
        {
         "hovertemplate": "Category=Digital,Art,PFP,Drawing,Metaverse,Collectibles<br>Floor_Price_USD=%{x}<br>Average_Price_USD=%{y}<extra></extra>",
         "legendgroup": "Digital,Art,PFP,Drawing,Metaverse,Collectibles",
         "marker": {
          "color": "#00cc96",
          "symbol": "circle"
         },
         "mode": "markers",
         "name": "Digital,Art,PFP,Drawing,Metaverse,Collectibles",
         "orientation": "v",
         "showlegend": true,
         "type": "scatter",
         "x": [
          1174.56
         ],
         "xaxis": "x",
         "y": [
          440.46
         ],
         "yaxis": "y"
        },
        {
         "hovertemplate": "Category=Digital,Collectibles,2D,Art<br>Floor_Price_USD=%{x}<br>Average_Price_USD=%{y}<extra></extra>",
         "legendgroup": "Digital,Collectibles,2D,Art",
         "marker": {
          "color": "#ab63fa",
          "symbol": "circle"
         },
         "mode": "markers",
         "name": "Digital,Collectibles,2D,Art",
         "orientation": "v",
         "showlegend": true,
         "type": "scatter",
         "x": [
          29.364
         ],
         "xaxis": "x",
         "y": [
          38.33395182
         ],
         "yaxis": "y"
        },
        {
         "hovertemplate": "Category=Digital,Art,Video,Graphics<br>Floor_Price_USD=%{x}<br>Average_Price_USD=%{y}<extra></extra>",
         "legendgroup": "Digital,Art,Video,Graphics",
         "marker": {
          "color": "#FFA15A",
          "symbol": "circle"
         },
         "mode": "markers",
         "name": "Digital,Art,Video,Graphics",
         "orientation": "v",
         "showlegend": true,
         "type": "scatter",
         "x": [
          73.41
         ],
         "xaxis": "x",
         "y": [
          234.1779
         ],
         "yaxis": "y"
        },
        {
         "hovertemplate": "Category=3D<br>Floor_Price_USD=%{x}<br>Average_Price_USD=%{y}<extra></extra>",
         "legendgroup": "3D",
         "marker": {
          "color": "#19d3f3",
          "symbol": "circle"
         },
         "mode": "markers",
         "name": "3D",
         "orientation": "v",
         "showlegend": true,
         "type": "scatter",
         "x": [
          14.682,
          58.728
         ],
         "xaxis": "x",
         "y": [
          14.26894095,
          64.38057
         ],
         "yaxis": "y"
        },
        {
         "hovertemplate": "Category=Metaverse,Art,Collectibles,2D,Image,Digital<br>Floor_Price_USD=%{x}<br>Average_Price_USD=%{y}<extra></extra>",
         "legendgroup": "Metaverse,Art,Collectibles,2D,Image,Digital",
         "marker": {
          "color": "#FF6692",
          "symbol": "circle"
         },
         "mode": "markers",
         "name": "Metaverse,Art,Collectibles,2D,Image,Digital",
         "orientation": "v",
         "showlegend": true,
         "type": "scatter",
         "x": [
          51.387
         ],
         "xaxis": "x",
         "y": [
          89.66323158
         ],
         "yaxis": "y"
        },
        {
         "hovertemplate": "Category=Art,Painting,AI,Image,Digital,Collectibles<br>Floor_Price_USD=%{x}<br>Average_Price_USD=%{y}<extra></extra>",
         "legendgroup": "Art,Painting,AI,Image,Digital,Collectibles",
         "marker": {
          "color": "#B6E880",
          "symbol": "circle"
         },
         "mode": "markers",
         "name": "Art,Painting,AI,Image,Digital,Collectibles",
         "orientation": "v",
         "showlegend": true,
         "type": "scatter",
         "x": [
          146.82
         ],
         "xaxis": "x",
         "y": [
          299.6855294
         ],
         "yaxis": "y"
        },
        {
         "hovertemplate": "Category=Digital,Metaverse,Art,Graphics,3D,Design,Image<br>Floor_Price_USD=%{x}<br>Average_Price_USD=%{y}<extra></extra>",
         "legendgroup": "Digital,Metaverse,Art,Graphics,3D,Design,Image",
         "marker": {
          "color": "#FF97FF",
          "symbol": "circle"
         },
         "mode": "markers",
         "name": "Digital,Metaverse,Art,Graphics,3D,Design,Image",
         "orientation": "v",
         "showlegend": true,
         "type": "scatter",
         "x": [
          48.4506
         ],
         "xaxis": "x",
         "y": [
          57.98526353
         ],
         "yaxis": "y"
        },
        {
         "hovertemplate": "Category=Collectibles,Digital,2D,Art,Image,Drawing<br>Floor_Price_USD=%{x}<br>Average_Price_USD=%{y}<extra></extra>",
         "legendgroup": "Collectibles,Digital,2D,Art,Image,Drawing",
         "marker": {
          "color": "#FECB52",
          "symbol": "circle"
         },
         "mode": "markers",
         "name": "Collectibles,Digital,2D,Art,Image,Drawing",
         "orientation": "v",
         "showlegend": true,
         "type": "scatter",
         "x": [
          16.1502
         ],
         "xaxis": "x",
         "y": [
          20.72277203
         ],
         "yaxis": "y"
        },
        {
         "hovertemplate": "Category=Metaverse,Art,Collectibles<br>Floor_Price_USD=%{x}<br>Average_Price_USD=%{y}<extra></extra>",
         "legendgroup": "Metaverse,Art,Collectibles",
         "marker": {
          "color": "#636efa",
          "symbol": "circle"
         },
         "mode": "markers",
         "name": "Metaverse,Art,Collectibles",
         "orientation": "v",
         "showlegend": true,
         "type": "scatter",
         "x": [
          93.9648
         ],
         "xaxis": "x",
         "y": [
          131.8999135
         ],
         "yaxis": "y"
        },
        {
         "hovertemplate": "Category=Digital,Art,Collectibles,Trading Cards,2D,Drawing,Street Art,Image,Design<br>Floor_Price_USD=%{x}<br>Average_Price_USD=%{y}<extra></extra>",
         "legendgroup": "Digital,Art,Collectibles,Trading Cards,2D,Drawing,Street Art,Image,Design",
         "marker": {
          "color": "#EF553B",
          "symbol": "circle"
         },
         "mode": "markers",
         "name": "Digital,Art,Collectibles,Trading Cards,2D,Drawing,Street Art,Image,Design",
         "orientation": "v",
         "showlegend": true,
         "type": "scatter",
         "x": [
          36.705
         ],
         "xaxis": "x",
         "y": [
          52.76983953
         ],
         "yaxis": "y"
        },
        {
         "hovertemplate": "Category=Art,Collectibles,Metaverse<br>Floor_Price_USD=%{x}<br>Average_Price_USD=%{y}<extra></extra>",
         "legendgroup": "Art,Collectibles,Metaverse",
         "marker": {
          "color": "#00cc96",
          "symbol": "circle"
         },
         "mode": "markers",
         "name": "Art,Collectibles,Metaverse",
         "orientation": "v",
         "showlegend": true,
         "type": "scatter",
         "x": [
          95.433
         ],
         "xaxis": "x",
         "y": [
          105.164093
         ],
         "yaxis": "y"
        },
        {
         "hovertemplate": "Category=Metaverse,Collectibles<br>Floor_Price_USD=%{x}<br>Average_Price_USD=%{y}<extra></extra>",
         "legendgroup": "Metaverse,Collectibles",
         "marker": {
          "color": "#ab63fa",
          "symbol": "circle"
         },
         "mode": "markers",
         "name": "Metaverse,Collectibles",
         "orientation": "v",
         "showlegend": true,
         "type": "scatter",
         "x": [
          58728,
          5.8728
         ],
         "xaxis": "x",
         "y": [
          441.04728,
          25.69901955
         ],
         "yaxis": "y"
        },
        {
         "hovertemplate": "Category=Digital,Collectibles,PFP<br>Floor_Price_USD=%{x}<br>Average_Price_USD=%{y}<extra></extra>",
         "legendgroup": "Digital,Collectibles,PFP",
         "marker": {
          "color": "#FFA15A",
          "symbol": "circle"
         },
         "mode": "markers",
         "name": "Digital,Collectibles,PFP",
         "orientation": "v",
         "showlegend": true,
         "type": "scatter",
         "x": [
          17.6184
         ],
         "xaxis": "x",
         "y": [
          52.62524096
         ],
         "yaxis": "y"
        },
        {
         "hovertemplate": "Category=Metaverse<br>Floor_Price_USD=%{x}<br>Average_Price_USD=%{y}<extra></extra>",
         "legendgroup": "Metaverse",
         "marker": {
          "color": "#19d3f3",
          "symbol": "circle"
         },
         "mode": "markers",
         "name": "Metaverse",
         "orientation": "v",
         "showlegend": true,
         "type": "scatter",
         "x": [
          58.728
         ],
         "xaxis": "x",
         "y": [
          221.0027368
         ],
         "yaxis": "y"
        },
        {
         "hovertemplate": "Category=Digital,Art,Graphics,Drawing,Design<br>Floor_Price_USD=%{x}<br>Average_Price_USD=%{y}<extra></extra>",
         "legendgroup": "Digital,Art,Graphics,Drawing,Design",
         "marker": {
          "color": "#FF6692",
          "symbol": "circle"
         },
         "mode": "markers",
         "name": "Digital,Art,Graphics,Drawing,Design",
         "orientation": "v",
         "showlegend": true,
         "type": "scatter",
         "x": [
          5.8728
         ],
         "xaxis": "x",
         "y": [
          12.74453354
         ],
         "yaxis": "y"
        },
        {
         "hovertemplate": "Category=Digital,Collectibles,2D,Ticket<br>Floor_Price_USD=%{x}<br>Average_Price_USD=%{y}<extra></extra>",
         "legendgroup": "Digital,Collectibles,2D,Ticket",
         "marker": {
          "color": "#B6E880",
          "symbol": "circle"
         },
         "mode": "markers",
         "name": "Digital,Collectibles,2D,Ticket",
         "orientation": "v",
         "showlegend": true,
         "type": "scatter",
         "x": [
          29.364
         ],
         "xaxis": "x",
         "y": [
          30.43073906
         ],
         "yaxis": "y"
        },
        {
         "hovertemplate": "Category=Digital,Collectibles<br>Floor_Price_USD=%{x}<br>Average_Price_USD=%{y}<extra></extra>",
         "legendgroup": "Digital,Collectibles",
         "marker": {
          "color": "#FF97FF",
          "symbol": "circle"
         },
         "mode": "markers",
         "name": "Digital,Collectibles",
         "orientation": "v",
         "showlegend": true,
         "type": "scatter",
         "x": [
          69.0054
         ],
         "xaxis": "x",
         "y": [
          157.280925
         ],
         "yaxis": "y"
        },
        {
         "hovertemplate": "Category=PFP,Collectibles,2D<br>Floor_Price_USD=%{x}<br>Average_Price_USD=%{y}<extra></extra>",
         "legendgroup": "PFP,Collectibles,2D",
         "marker": {
          "color": "#FECB52",
          "symbol": "circle"
         },
         "mode": "markers",
         "name": "PFP,Collectibles,2D",
         "orientation": "v",
         "showlegend": true,
         "type": "scatter",
         "x": [
          44.046
         ],
         "xaxis": "x",
         "y": [
          46.5602925
         ],
         "yaxis": "y"
        },
        {
         "hovertemplate": "Category=Metaverse,Digital,Collectibles,Art,3D,AI<br>Floor_Price_USD=%{x}<br>Average_Price_USD=%{y}<extra></extra>",
         "legendgroup": "Metaverse,Digital,Collectibles,Art,3D,AI",
         "marker": {
          "color": "#636efa",
          "symbol": "circle"
         },
         "mode": "markers",
         "name": "Metaverse,Digital,Collectibles,Art,3D,AI",
         "orientation": "v",
         "showlegend": true,
         "type": "scatter",
         "x": [
          146.82
         ],
         "xaxis": "x",
         "y": [
          332.0801455
         ],
         "yaxis": "y"
        },
        {
         "hovertemplate": "Category=Digital,Metaverse,Art,Collectibles,Trading Cards,Immaterial,2D,Design,Picture,Image<br>Floor_Price_USD=%{x}<br>Average_Price_USD=%{y}<extra></extra>",
         "legendgroup": "Digital,Metaverse,Art,Collectibles,Trading Cards,Immaterial,2D,Design,Picture,Image",
         "marker": {
          "color": "#EF553B",
          "symbol": "circle"
         },
         "mode": "markers",
         "name": "Digital,Metaverse,Art,Collectibles,Trading Cards,Immaterial,2D,Design,Picture,Image",
         "orientation": "v",
         "showlegend": true,
         "type": "scatter",
         "x": [
          101.3058
         ],
         "xaxis": "x",
         "y": [
          113.7855
         ],
         "yaxis": "y"
        },
        {
         "hovertemplate": "Category=Digital,Metaverse,Art,Artifact,Trading Cards,Collectibles,Design<br>Floor_Price_USD=%{x}<br>Average_Price_USD=%{y}<extra></extra>",
         "legendgroup": "Digital,Metaverse,Art,Artifact,Trading Cards,Collectibles,Design",
         "marker": {
          "color": "#00cc96",
          "symbol": "circle"
         },
         "mode": "markers",
         "name": "Digital,Metaverse,Art,Artifact,Trading Cards,Collectibles,Design",
         "orientation": "v",
         "showlegend": true,
         "type": "scatter",
         "x": [
          29.364
         ],
         "xaxis": "x",
         "y": [
          121.5568345
         ],
         "yaxis": "y"
        },
        {
         "hovertemplate": "Category=Digital,Metaverse,Art,Photography,Immaterial,Collectibles,Design,Image<br>Floor_Price_USD=%{x}<br>Average_Price_USD=%{y}<extra></extra>",
         "legendgroup": "Digital,Metaverse,Art,Photography,Immaterial,Collectibles,Design,Image",
         "marker": {
          "color": "#ab63fa",
          "symbol": "circle"
         },
         "mode": "markers",
         "name": "Digital,Metaverse,Art,Photography,Immaterial,Collectibles,Design,Image",
         "orientation": "v",
         "showlegend": true,
         "type": "scatter",
         "x": [
          146.82
         ],
         "xaxis": "x",
         "y": [
          345.027
         ],
         "yaxis": "y"
        },
        {
         "hovertemplate": "Category=Collectibles,3D,Design,Art,Graphics,PFP<br>Floor_Price_USD=%{x}<br>Average_Price_USD=%{y}<extra></extra>",
         "legendgroup": "Collectibles,3D,Design,Art,Graphics,PFP",
         "marker": {
          "color": "#FFA15A",
          "symbol": "circle"
         },
         "mode": "markers",
         "name": "Collectibles,3D,Design,Art,Graphics,PFP",
         "orientation": "v",
         "showlegend": true,
         "type": "scatter",
         "x": [
          17.6184
         ],
         "xaxis": "x",
         "y": [
          42.61593506
         ],
         "yaxis": "y"
        },
        {
         "hovertemplate": "Category=Metaverse,Collectibles,Digital,2D,Graphics<br>Floor_Price_USD=%{x}<br>Average_Price_USD=%{y}<extra></extra>",
         "legendgroup": "Metaverse,Collectibles,Digital,2D,Graphics",
         "marker": {
          "color": "#19d3f3",
          "symbol": "circle"
         },
         "mode": "markers",
         "name": "Metaverse,Collectibles,Digital,2D,Graphics",
         "orientation": "v",
         "showlegend": true,
         "type": "scatter",
         "x": [
          14.682
         ],
         "xaxis": "x",
         "y": [
          78.9605122
         ],
         "yaxis": "y"
        },
        {
         "hovertemplate": "Category=Digital,3D,Video,Design,Art,Graphics<br>Floor_Price_USD=%{x}<br>Average_Price_USD=%{y}<extra></extra>",
         "legendgroup": "Digital,3D,Video,Design,Art,Graphics",
         "marker": {
          "color": "#FF6692",
          "symbol": "circle"
         },
         "mode": "markers",
         "name": "Digital,3D,Video,Design,Art,Graphics",
         "orientation": "v",
         "showlegend": true,
         "type": "scatter",
         "x": [
          293.64
         ],
         "xaxis": "x",
         "y": [
          293.64
         ],
         "yaxis": "y"
        },
        {
         "hovertemplate": "Category=Digital<br>Floor_Price_USD=%{x}<br>Average_Price_USD=%{y}<extra></extra>",
         "legendgroup": "Digital",
         "marker": {
          "color": "#B6E880",
          "symbol": "circle"
         },
         "mode": "markers",
         "name": "Digital",
         "orientation": "v",
         "showlegend": true,
         "type": "scatter",
         "x": [
          4.4046,
          7.341,
          293.64
         ],
         "xaxis": "x",
         "y": [
          6.006525996,
          74.3888,
          293.64
         ],
         "yaxis": "y"
        },
        {
         "hovertemplate": "Category=Digital,Metaverse,Art,Trading Cards,PFP,2D,Picture,Design,Image,AI,Collectibles<br>Floor_Price_USD=%{x}<br>Average_Price_USD=%{y}<extra></extra>",
         "legendgroup": "Digital,Metaverse,Art,Trading Cards,PFP,2D,Picture,Design,Image,AI,Collectibles",
         "marker": {
          "color": "#FF97FF",
          "symbol": "circle"
         },
         "mode": "markers",
         "name": "Digital,Metaverse,Art,Trading Cards,PFP,2D,Picture,Design,Image,AI,Collectibles",
         "orientation": "v",
         "showlegend": true,
         "type": "scatter",
         "x": [
          29.364
         ],
         "xaxis": "x",
         "y": [
          51.19124
         ],
         "yaxis": "y"
        },
        {
         "hovertemplate": "Category=Digital,3D,Video,Collectibles,Metaverse<br>Floor_Price_USD=%{x}<br>Average_Price_USD=%{y}<extra></extra>",
         "legendgroup": "Digital,3D,Video,Collectibles,Metaverse",
         "marker": {
          "color": "#FECB52",
          "symbol": "circle"
         },
         "mode": "markers",
         "name": "Digital,3D,Video,Collectibles,Metaverse",
         "orientation": "v",
         "showlegend": true,
         "type": "scatter",
         "x": [
          36.705
         ],
         "xaxis": "x",
         "y": [
          117.1736538
         ],
         "yaxis": "y"
        },
        {
         "hovertemplate": "Category=Digital,Art,Collectibles,Artifact<br>Floor_Price_USD=%{x}<br>Average_Price_USD=%{y}<extra></extra>",
         "legendgroup": "Digital,Art,Collectibles,Artifact",
         "marker": {
          "color": "#636efa",
          "symbol": "circle"
         },
         "mode": "markers",
         "name": "Digital,Art,Collectibles,Artifact",
         "orientation": "v",
         "showlegend": true,
         "type": "scatter",
         "x": [
          132.138
         ],
         "xaxis": "x",
         "y": [
          501.635
         ],
         "yaxis": "y"
        },
        {
         "hovertemplate": "Category=Digital,2D,Art,Collectibles<br>Floor_Price_USD=%{x}<br>Average_Price_USD=%{y}<extra></extra>",
         "legendgroup": "Digital,2D,Art,Collectibles",
         "marker": {
          "color": "#EF553B",
          "symbol": "circle"
         },
         "mode": "markers",
         "name": "Digital,2D,Art,Collectibles",
         "orientation": "v",
         "showlegend": true,
         "type": "scatter",
         "x": [
          146.82
         ],
         "xaxis": "x",
         "y": [
          2936.4
         ],
         "yaxis": "y"
        },
        {
         "hovertemplate": "Category=Music,Art,Collectibles,Drawing<br>Floor_Price_USD=%{x}<br>Average_Price_USD=%{y}<extra></extra>",
         "legendgroup": "Music,Art,Collectibles,Drawing",
         "marker": {
          "color": "#00cc96",
          "symbol": "circle"
         },
         "mode": "markers",
         "name": "Music,Art,Collectibles,Drawing",
         "orientation": "v",
         "showlegend": true,
         "type": "scatter",
         "x": [
          73.41
         ],
         "xaxis": "x",
         "y": [
          75.34184211
         ],
         "yaxis": "y"
        },
        {
         "hovertemplate": "Category=Collectibles,Digital,PFP<br>Floor_Price_USD=%{x}<br>Average_Price_USD=%{y}<extra></extra>",
         "legendgroup": "Collectibles,Digital,PFP",
         "marker": {
          "color": "#ab63fa",
          "symbol": "circle"
         },
         "mode": "markers",
         "name": "Collectibles,Digital,PFP",
         "orientation": "v",
         "showlegend": true,
         "type": "scatter",
         "x": [
          5.8728
         ],
         "xaxis": "x",
         "y": [
          8.713744272
         ],
         "yaxis": "y"
        },
        {
         "hovertemplate": "Category=Art,Physical,Collectibles,Music,Audio,3D,Painting,Sculpture,Photography<br>Floor_Price_USD=%{x}<br>Average_Price_USD=%{y}<extra></extra>",
         "legendgroup": "Art,Physical,Collectibles,Music,Audio,3D,Painting,Sculpture,Photography",
         "marker": {
          "color": "#FFA15A",
          "symbol": "circle"
         },
         "mode": "markers",
         "name": "Art,Physical,Collectibles,Music,Audio,3D,Painting,Sculpture,Photography",
         "orientation": "v",
         "showlegend": true,
         "type": "scatter",
         "x": [
          27.8958
         ],
         "xaxis": "x",
         "y": [
          33.80485185
         ],
         "yaxis": "y"
        },
        {
         "hovertemplate": "Category=Digital,3D,Metaverse,Art,Graphics,Video<br>Floor_Price_USD=%{x}<br>Average_Price_USD=%{y}<extra></extra>",
         "legendgroup": "Digital,3D,Metaverse,Art,Graphics,Video",
         "marker": {
          "color": "#19d3f3",
          "symbol": "circle"
         },
         "mode": "markers",
         "name": "Digital,3D,Metaverse,Art,Graphics,Video",
         "orientation": "v",
         "showlegend": true,
         "type": "scatter",
         "x": [
          190.866
         ],
         "xaxis": "x",
         "y": [
          181.078
         ],
         "yaxis": "y"
        },
        {
         "hovertemplate": "Category=Digital,Metaverse,Immaterial,Art,Collectibles,Privilege,Ticket<br>Floor_Price_USD=%{x}<br>Average_Price_USD=%{y}<extra></extra>",
         "legendgroup": "Digital,Metaverse,Immaterial,Art,Collectibles,Privilege,Ticket",
         "marker": {
          "color": "#FF6692",
          "symbol": "circle"
         },
         "mode": "markers",
         "name": "Digital,Metaverse,Immaterial,Art,Collectibles,Privilege,Ticket",
         "orientation": "v",
         "showlegend": true,
         "type": "scatter",
         "x": [
          14.682
         ],
         "xaxis": "x",
         "y": [
          21.86655246
         ],
         "yaxis": "y"
        },
        {
         "hovertemplate": "Category=Art,3D,Digital,PFP,Design,Ticket<br>Floor_Price_USD=%{x}<br>Average_Price_USD=%{y}<extra></extra>",
         "legendgroup": "Art,3D,Digital,PFP,Design,Ticket",
         "marker": {
          "color": "#B6E880",
          "symbol": "circle"
         },
         "mode": "markers",
         "name": "Art,3D,Digital,PFP,Design,Ticket",
         "orientation": "v",
         "showlegend": true,
         "type": "scatter",
         "x": [
          8.8092
         ],
         "xaxis": "x",
         "y": [
          21.36110656
         ],
         "yaxis": "y"
        },
        {
         "hovertemplate": "Category=Digital,Art,Collectibles,Drawing,PFP,Picture,Painting,2D<br>Floor_Price_USD=%{x}<br>Average_Price_USD=%{y}<extra></extra>",
         "legendgroup": "Digital,Art,Collectibles,Drawing,PFP,Picture,Painting,2D",
         "marker": {
          "color": "#FF97FF",
          "symbol": "circle"
         },
         "mode": "markers",
         "name": "Digital,Art,Collectibles,Drawing,PFP,Picture,Painting,2D",
         "orientation": "v",
         "showlegend": true,
         "type": "scatter",
         "x": [
          44.046
         ],
         "xaxis": "x",
         "y": [
          41.89106129
         ],
         "yaxis": "y"
        },
        {
         "hovertemplate": "Category=PFP,Metaverse,Drawing,Art,Collectibles,2D,Digital<br>Floor_Price_USD=%{x}<br>Average_Price_USD=%{y}<extra></extra>",
         "legendgroup": "PFP,Metaverse,Drawing,Art,Collectibles,2D,Digital",
         "marker": {
          "color": "#FECB52",
          "symbol": "circle"
         },
         "mode": "markers",
         "name": "PFP,Metaverse,Drawing,Art,Collectibles,2D,Digital",
         "orientation": "v",
         "showlegend": true,
         "type": "scatter",
         "x": [
          66.069
         ],
         "xaxis": "x",
         "y": [
          98.25646154
         ],
         "yaxis": "y"
        },
        {
         "hovertemplate": "Category=Digital,Art,Collectibles,2D,Image<br>Floor_Price_USD=%{x}<br>Average_Price_USD=%{y}<extra></extra>",
         "legendgroup": "Digital,Art,Collectibles,2D,Image",
         "marker": {
          "color": "#636efa",
          "symbol": "circle"
         },
         "mode": "markers",
         "name": "Digital,Art,Collectibles,2D,Image",
         "orientation": "v",
         "showlegend": true,
         "type": "scatter",
         "x": [
          44.046
         ],
         "xaxis": "x",
         "y": [
          72.06764571
         ],
         "yaxis": "y"
        },
        {
         "hovertemplate": "Category=Digital,Trading Cards,Graphics,Design,Image,Drawing,Art,2D,Collectibles<br>Floor_Price_USD=%{x}<br>Average_Price_USD=%{y}<extra></extra>",
         "legendgroup": "Digital,Trading Cards,Graphics,Design,Image,Drawing,Art,2D,Collectibles",
         "marker": {
          "color": "#EF553B",
          "symbol": "circle"
         },
         "mode": "markers",
         "name": "Digital,Trading Cards,Graphics,Design,Image,Drawing,Art,2D,Collectibles",
         "orientation": "v",
         "showlegend": true,
         "type": "scatter",
         "x": [
          49.9188
         ],
         "xaxis": "x",
         "y": [
          30.58153171
         ],
         "yaxis": "y"
        },
        {
         "hovertemplate": "Category=Art,PFP,Collectibles,Metaverse,Digital,Graphics,2D,Design,Drawing<br>Floor_Price_USD=%{x}<br>Average_Price_USD=%{y}<extra></extra>",
         "legendgroup": "Art,PFP,Collectibles,Metaverse,Digital,Graphics,2D,Design,Drawing",
         "marker": {
          "color": "#00cc96",
          "symbol": "circle"
         },
         "mode": "markers",
         "name": "Art,PFP,Collectibles,Metaverse,Digital,Graphics,2D,Design,Drawing",
         "orientation": "v",
         "showlegend": true,
         "type": "scatter",
         "x": [
          58.728
         ],
         "xaxis": "x",
         "y": [
          89.45532857
         ],
         "yaxis": "y"
        },
        {
         "hovertemplate": "Category=Image,Art,Collectibles,3D,Design,Graphics<br>Floor_Price_USD=%{x}<br>Average_Price_USD=%{y}<extra></extra>",
         "legendgroup": "Image,Art,Collectibles,3D,Design,Graphics",
         "marker": {
          "color": "#ab63fa",
          "symbol": "circle"
         },
         "mode": "markers",
         "name": "Image,Art,Collectibles,3D,Design,Graphics",
         "orientation": "v",
         "showlegend": true,
         "type": "scatter",
         "x": [
          36.705
         ],
         "xaxis": "x",
         "y": [
          166.59176
         ],
         "yaxis": "y"
        },
        {
         "hovertemplate": "Category=Digital,Art,Metaverse,PFP,Graphics,3D,Collectibles,Design<br>Floor_Price_USD=%{x}<br>Average_Price_USD=%{y}<extra></extra>",
         "legendgroup": "Digital,Art,Metaverse,PFP,Graphics,3D,Collectibles,Design",
         "marker": {
          "color": "#FFA15A",
          "symbol": "circle"
         },
         "mode": "markers",
         "name": "Digital,Art,Metaverse,PFP,Graphics,3D,Collectibles,Design",
         "orientation": "v",
         "showlegend": true,
         "type": "scatter",
         "x": [
          146.82
         ],
         "xaxis": "x",
         "y": [
          155.99625
         ],
         "yaxis": "y"
        },
        {
         "hovertemplate": "Category=Collectibles,Art<br>Floor_Price_USD=%{x}<br>Average_Price_USD=%{y}<extra></extra>",
         "legendgroup": "Collectibles,Art",
         "marker": {
          "color": "#19d3f3",
          "symbol": "circle"
         },
         "mode": "markers",
         "name": "Collectibles,Art",
         "orientation": "v",
         "showlegend": true,
         "type": "scatter",
         "x": [
          88.092,
          35.2368,
          13.2138
         ],
         "xaxis": "x",
         "y": [
          73.63245455,
          52.44226875,
          12.235
         ],
         "yaxis": "y"
        },
        {
         "hovertemplate": "Category=Art,PFP,Collectibles<br>Floor_Price_USD=%{x}<br>Average_Price_USD=%{y}<extra></extra>",
         "legendgroup": "Art,PFP,Collectibles",
         "marker": {
          "color": "#FF6692",
          "symbol": "circle"
         },
         "mode": "markers",
         "name": "Art,PFP,Collectibles",
         "orientation": "v",
         "showlegend": true,
         "type": "scatter",
         "x": [
          44.046
         ],
         "xaxis": "x",
         "y": [
          42.60401786
         ],
         "yaxis": "y"
        },
        {
         "hovertemplate": "Category=Art,Digital,2D,Design,Image<br>Floor_Price_USD=%{x}<br>Average_Price_USD=%{y}<extra></extra>",
         "legendgroup": "Art,Digital,2D,Design,Image",
         "marker": {
          "color": "#B6E880",
          "symbol": "circle"
         },
         "mode": "markers",
         "name": "Art,Digital,2D,Design,Image",
         "orientation": "v",
         "showlegend": true,
         "type": "scatter",
         "x": [
          14.682
         ],
         "xaxis": "x",
         "y": [
          70.963
         ],
         "yaxis": "y"
        },
        {
         "hovertemplate": "Category=Digital,PFP,Collectibles,3D,P2E<br>Floor_Price_USD=%{x}<br>Average_Price_USD=%{y}<extra></extra>",
         "legendgroup": "Digital,PFP,Collectibles,3D,P2E",
         "marker": {
          "color": "#FF97FF",
          "symbol": "circle"
         },
         "mode": "markers",
         "name": "Digital,PFP,Collectibles,3D,P2E",
         "orientation": "v",
         "showlegend": true,
         "type": "scatter",
         "x": [
          58.728
         ],
         "xaxis": "x",
         "y": [
          116.64849
         ],
         "yaxis": "y"
        },
        {
         "hovertemplate": "Category=Digital,Art,3D,Drawing,Print,Collectibles<br>Floor_Price_USD=%{x}<br>Average_Price_USD=%{y}<extra></extra>",
         "legendgroup": "Digital,Art,3D,Drawing,Print,Collectibles",
         "marker": {
          "color": "#FECB52",
          "symbol": "circle"
         },
         "mode": "markers",
         "name": "Digital,Art,3D,Drawing,Print,Collectibles",
         "orientation": "v",
         "showlegend": true,
         "type": "scatter",
         "x": [
          73.41
         ],
         "xaxis": "x",
         "y": [
          43.12157778
         ],
         "yaxis": "y"
        },
        {
         "hovertemplate": "Category=Art,Collectibles,2D,Image,Graphics,Digital<br>Floor_Price_USD=%{x}<br>Average_Price_USD=%{y}<extra></extra>",
         "legendgroup": "Art,Collectibles,2D,Image,Graphics,Digital",
         "marker": {
          "color": "#636efa",
          "symbol": "circle"
         },
         "mode": "markers",
         "name": "Art,Collectibles,2D,Image,Graphics,Digital",
         "orientation": "v",
         "showlegend": true,
         "type": "scatter",
         "x": [
          22.023
         ],
         "xaxis": "x",
         "y": [
          109.9052571
         ],
         "yaxis": "y"
        },
        {
         "hovertemplate": "Category=Digital,Privilege,Art,2D<br>Floor_Price_USD=%{x}<br>Average_Price_USD=%{y}<extra></extra>",
         "legendgroup": "Digital,Privilege,Art,2D",
         "marker": {
          "color": "#EF553B",
          "symbol": "circle"
         },
         "mode": "markers",
         "name": "Digital,Privilege,Art,2D",
         "orientation": "v",
         "showlegend": true,
         "type": "scatter",
         "x": [
          null
         ],
         "xaxis": "x",
         "y": [
          458.37204
         ],
         "yaxis": "y"
        },
        {
         "hovertemplate": "Category=Collectibles,Digital,Drawing<br>Floor_Price_USD=%{x}<br>Average_Price_USD=%{y}<extra></extra>",
         "legendgroup": "Collectibles,Digital,Drawing",
         "marker": {
          "color": "#00cc96",
          "symbol": "circle"
         },
         "mode": "markers",
         "name": "Collectibles,Digital,Drawing",
         "orientation": "v",
         "showlegend": true,
         "type": "scatter",
         "x": [
          null
         ],
         "xaxis": "x",
         "y": [
          175.9581231
         ],
         "yaxis": "y"
        },
        {
         "hovertemplate": "Category=P2E,Metaverse,Art<br>Floor_Price_USD=%{x}<br>Average_Price_USD=%{y}<extra></extra>",
         "legendgroup": "P2E,Metaverse,Art",
         "marker": {
          "color": "#ab63fa",
          "symbol": "circle"
         },
         "mode": "markers",
         "name": "P2E,Metaverse,Art",
         "orientation": "v",
         "showlegend": true,
         "type": "scatter",
         "x": [
          4.4046
         ],
         "xaxis": "x",
         "y": [
          7.183029114
         ],
         "yaxis": "y"
        },
        {
         "hovertemplate": "Category=Digital,Art,Painting<br>Floor_Price_USD=%{x}<br>Average_Price_USD=%{y}<extra></extra>",
         "legendgroup": "Digital,Art,Painting",
         "marker": {
          "color": "#FFA15A",
          "symbol": "circle"
         },
         "mode": "markers",
         "name": "Digital,Art,Painting",
         "orientation": "v",
         "showlegend": true,
         "type": "scatter",
         "x": [
          17.6184
         ],
         "xaxis": "x",
         "y": [
          35.1886623
         ],
         "yaxis": "y"
        },
        {
         "hovertemplate": "Category=Art,Collectibles,2D<br>Floor_Price_USD=%{x}<br>Average_Price_USD=%{y}<extra></extra>",
         "legendgroup": "Art,Collectibles,2D",
         "marker": {
          "color": "#19d3f3",
          "symbol": "circle"
         },
         "mode": "markers",
         "name": "Art,Collectibles,2D",
         "orientation": "v",
         "showlegend": true,
         "type": "scatter",
         "x": [
          66.069,
          2.9364
         ],
         "xaxis": "x",
         "y": [
          133.789725,
          3.848955249
         ],
         "yaxis": "y"
        },
        {
         "hovertemplate": "Category=Collectibles,Ticket,Video<br>Floor_Price_USD=%{x}<br>Average_Price_USD=%{y}<extra></extra>",
         "legendgroup": "Collectibles,Ticket,Video",
         "marker": {
          "color": "#FF6692",
          "symbol": "circle"
         },
         "mode": "markers",
         "name": "Collectibles,Ticket,Video",
         "orientation": "v",
         "showlegend": true,
         "type": "scatter",
         "x": [
          null
         ],
         "xaxis": "x",
         "y": [
          73.41
         ],
         "yaxis": "y"
        },
        {
         "hovertemplate": "Category=Collectibles,2D,Pixel Art<br>Floor_Price_USD=%{x}<br>Average_Price_USD=%{y}<extra></extra>",
         "legendgroup": "Collectibles,2D,Pixel Art",
         "marker": {
          "color": "#B6E880",
          "symbol": "circle"
         },
         "mode": "markers",
         "name": "Collectibles,2D,Pixel Art",
         "orientation": "v",
         "showlegend": true,
         "type": "scatter",
         "x": [
          117.456
         ],
         "xaxis": "x",
         "y": [
          304.1271429
         ],
         "yaxis": "y"
        },
        {
         "hovertemplate": "Category=Art,Collectibles,Metaverse,PFP,Digital<br>Floor_Price_USD=%{x}<br>Average_Price_USD=%{y}<extra></extra>",
         "legendgroup": "Art,Collectibles,Metaverse,PFP,Digital",
         "marker": {
          "color": "#FF97FF",
          "symbol": "circle"
         },
         "mode": "markers",
         "name": "Art,Collectibles,Metaverse,PFP,Digital",
         "orientation": "v",
         "showlegend": true,
         "type": "scatter",
         "x": [
          24.9594
         ],
         "xaxis": "x",
         "y": [
          44.046
         ],
         "yaxis": "y"
        },
        {
         "hovertemplate": "Category=Art,Collectibles,2D,Drawing<br>Floor_Price_USD=%{x}<br>Average_Price_USD=%{y}<extra></extra>",
         "legendgroup": "Art,Collectibles,2D,Drawing",
         "marker": {
          "color": "#FECB52",
          "symbol": "circle"
         },
         "mode": "markers",
         "name": "Art,Collectibles,2D,Drawing",
         "orientation": "v",
         "showlegend": true,
         "type": "scatter",
         "x": [
          440.46
         ],
         "xaxis": "x",
         "y": [
          675.372
         ],
         "yaxis": "y"
        },
        {
         "hovertemplate": "Category=3D,Art,Collectibles<br>Floor_Price_USD=%{x}<br>Average_Price_USD=%{y}<extra></extra>",
         "legendgroup": "3D,Art,Collectibles",
         "marker": {
          "color": "#636efa",
          "symbol": "circle"
         },
         "mode": "markers",
         "name": "3D,Art,Collectibles",
         "orientation": "v",
         "showlegend": true,
         "type": "scatter",
         "x": [
          14.682
         ],
         "xaxis": "x",
         "y": [
          74.49755556
         ],
         "yaxis": "y"
        },
        {
         "hovertemplate": "Category=Digital,AI,Art,Collectibles,PFP,2D,Graphics,Drawing,Image<br>Floor_Price_USD=%{x}<br>Average_Price_USD=%{y}<extra></extra>",
         "legendgroup": "Digital,AI,Art,Collectibles,PFP,2D,Graphics,Drawing,Image",
         "marker": {
          "color": "#EF553B",
          "symbol": "circle"
         },
         "mode": "markers",
         "name": "Digital,AI,Art,Collectibles,PFP,2D,Graphics,Drawing,Image",
         "orientation": "v",
         "showlegend": true,
         "type": "scatter",
         "x": [
          4.4046
         ],
         "xaxis": "x",
         "y": [
          17.06625641
         ],
         "yaxis": "y"
        },
        {
         "hovertemplate": "Category=2D,Metaverse,Collectibles,Graphics,Image<br>Floor_Price_USD=%{x}<br>Average_Price_USD=%{y}<extra></extra>",
         "legendgroup": "2D,Metaverse,Collectibles,Graphics,Image",
         "marker": {
          "color": "#00cc96",
          "symbol": "circle"
         },
         "mode": "markers",
         "name": "2D,Metaverse,Collectibles,Graphics,Image",
         "orientation": "v",
         "showlegend": true,
         "type": "scatter",
         "x": [
          16.1502
         ],
         "xaxis": "x",
         "y": [
          17.34651111
         ],
         "yaxis": "y"
        },
        {
         "hovertemplate": "Category=Digital,Art,Collectibles,Graphics,Street Art,Picture,Image<br>Floor_Price_USD=%{x}<br>Average_Price_USD=%{y}<extra></extra>",
         "legendgroup": "Digital,Art,Collectibles,Graphics,Street Art,Picture,Image",
         "marker": {
          "color": "#ab63fa",
          "symbol": "circle"
         },
         "mode": "markers",
         "name": "Digital,Art,Collectibles,Graphics,Street Art,Picture,Image",
         "orientation": "v",
         "showlegend": true,
         "type": "scatter",
         "x": [
          35.2368
         ],
         "xaxis": "x",
         "y": [
          52.35181714
         ],
         "yaxis": "y"
        },
        {
         "hovertemplate": "Category=Digital,Art,Painting,Drawing,Collectibles<br>Floor_Price_USD=%{x}<br>Average_Price_USD=%{y}<extra></extra>",
         "legendgroup": "Digital,Art,Painting,Drawing,Collectibles",
         "marker": {
          "color": "#FFA15A",
          "symbol": "circle"
         },
         "mode": "markers",
         "name": "Digital,Art,Painting,Drawing,Collectibles",
         "orientation": "v",
         "showlegend": true,
         "type": "scatter",
         "x": [
          22.023
         ],
         "xaxis": "x",
         "y": [
          21.79577857
         ],
         "yaxis": "y"
        },
        {
         "hovertemplate": "Category=Metaverse,Privilege,Digital,Art<br>Floor_Price_USD=%{x}<br>Average_Price_USD=%{y}<extra></extra>",
         "legendgroup": "Metaverse,Privilege,Digital,Art",
         "marker": {
          "color": "#19d3f3",
          "symbol": "circle"
         },
         "mode": "markers",
         "name": "Metaverse,Privilege,Digital,Art",
         "orientation": "v",
         "showlegend": true,
         "type": "scatter",
         "x": [
          293.64
         ],
         "xaxis": "x",
         "y": [
          440.46
         ],
         "yaxis": "y"
        },
        {
         "hovertemplate": "Category=3D,Art,Digital,PFP,Music Theme,Video<br>Floor_Price_USD=%{x}<br>Average_Price_USD=%{y}<extra></extra>",
         "legendgroup": "3D,Art,Digital,PFP,Music Theme,Video",
         "marker": {
          "color": "#FF6692",
          "symbol": "circle"
         },
         "mode": "markers",
         "name": "3D,Art,Digital,PFP,Music Theme,Video",
         "orientation": "v",
         "showlegend": true,
         "type": "scatter",
         "x": [
          176.184
         ],
         "xaxis": "x",
         "y": [
          176.184
         ],
         "yaxis": "y"
        },
        {
         "hovertemplate": "Category=Collectibles,PFP,P2E<br>Floor_Price_USD=%{x}<br>Average_Price_USD=%{y}<extra></extra>",
         "legendgroup": "Collectibles,PFP,P2E",
         "marker": {
          "color": "#B6E880",
          "symbol": "circle"
         },
         "mode": "markers",
         "name": "Collectibles,PFP,P2E",
         "orientation": "v",
         "showlegend": true,
         "type": "scatter",
         "x": [
          1468.2
         ],
         "xaxis": "x",
         "y": [
          174.42216
         ],
         "yaxis": "y"
        },
        {
         "hovertemplate": "Category=Digital,Art,Collectibles,Artifact,Performance,PFP,Graphics,2D,Street Art,Picture<br>Floor_Price_USD=%{x}<br>Average_Price_USD=%{y}<extra></extra>",
         "legendgroup": "Digital,Art,Collectibles,Artifact,Performance,PFP,Graphics,2D,Street Art,Picture",
         "marker": {
          "color": "#FF97FF",
          "symbol": "circle"
         },
         "mode": "markers",
         "name": "Digital,Art,Collectibles,Artifact,Performance,PFP,Graphics,2D,Street Art,Picture",
         "orientation": "v",
         "showlegend": true,
         "type": "scatter",
         "x": [
          42.5778
         ],
         "xaxis": "x",
         "y": [
          59.74055172
         ],
         "yaxis": "y"
        },
        {
         "hovertemplate": "Category=Art,Digital,Collectibles,Metaverse,Drawing<br>Floor_Price_USD=%{x}<br>Average_Price_USD=%{y}<extra></extra>",
         "legendgroup": "Art,Digital,Collectibles,Metaverse,Drawing",
         "marker": {
          "color": "#FECB52",
          "symbol": "circle"
         },
         "mode": "markers",
         "name": "Art,Digital,Collectibles,Metaverse,Drawing",
         "orientation": "v",
         "showlegend": true,
         "type": "scatter",
         "x": [
          14.682
         ],
         "xaxis": "x",
         "y": [
          16.59641765
         ],
         "yaxis": "y"
        },
        {
         "hovertemplate": "Category=Digital,Art,Collectibles,PFP,2D,Drawing,Image,Picture,Design<br>Floor_Price_USD=%{x}<br>Average_Price_USD=%{y}<extra></extra>",
         "legendgroup": "Digital,Art,Collectibles,PFP,2D,Drawing,Image,Picture,Design",
         "marker": {
          "color": "#636efa",
          "symbol": "circle"
         },
         "mode": "markers",
         "name": "Digital,Art,Collectibles,PFP,2D,Drawing,Image,Picture,Design",
         "orientation": "v",
         "showlegend": true,
         "type": "scatter",
         "x": [
          29.364
         ],
         "xaxis": "x",
         "y": [
          43.85281579
         ],
         "yaxis": "y"
        },
        {
         "hovertemplate": "Category=Photography,Art<br>Floor_Price_USD=%{x}<br>Average_Price_USD=%{y}<extra></extra>",
         "legendgroup": "Photography,Art",
         "marker": {
          "color": "#EF553B",
          "symbol": "circle"
         },
         "mode": "markers",
         "name": "Photography,Art",
         "orientation": "v",
         "showlegend": true,
         "type": "scatter",
         "x": [
          541.7658
         ],
         "xaxis": "x",
         "y": [
          541.7658
         ],
         "yaxis": "y"
        },
        {
         "hovertemplate": "Category=Physical,Digital,Privilege<br>Floor_Price_USD=%{x}<br>Average_Price_USD=%{y}<extra></extra>",
         "legendgroup": "Physical,Digital,Privilege",
         "marker": {
          "color": "#00cc96",
          "symbol": "circle"
         },
         "mode": "markers",
         "name": "Physical,Digital,Privilege",
         "orientation": "v",
         "showlegend": true,
         "type": "scatter",
         "x": [
          146.82
         ],
         "xaxis": "x",
         "y": [
          146.82
         ],
         "yaxis": "y"
        },
        {
         "hovertemplate": "Category=Digital,Metaverse,Art,Collectibles,2D,Drawing<br>Floor_Price_USD=%{x}<br>Average_Price_USD=%{y}<extra></extra>",
         "legendgroup": "Digital,Metaverse,Art,Collectibles,2D,Drawing",
         "marker": {
          "color": "#ab63fa",
          "symbol": "circle"
         },
         "mode": "markers",
         "name": "Digital,Metaverse,Art,Collectibles,2D,Drawing",
         "orientation": "v",
         "showlegend": true,
         "type": "scatter",
         "x": [
          880.92
         ],
         "xaxis": "x",
         "y": [
          201.8775
         ],
         "yaxis": "y"
        },
        {
         "hovertemplate": "Category=Design,Photography,Digital<br>Floor_Price_USD=%{x}<br>Average_Price_USD=%{y}<extra></extra>",
         "legendgroup": "Design,Photography,Digital",
         "marker": {
          "color": "#FFA15A",
          "symbol": "circle"
         },
         "mode": "markers",
         "name": "Design,Photography,Digital",
         "orientation": "v",
         "showlegend": true,
         "type": "scatter",
         "x": [
          44.046
         ],
         "xaxis": "x",
         "y": [
          268.9253
         ],
         "yaxis": "y"
        },
        {
         "hovertemplate": "Category=Digital,Metaverse,Art,Collectibles,Graphics,2D,Design,Picture,Image<br>Floor_Price_USD=%{x}<br>Average_Price_USD=%{y}<extra></extra>",
         "legendgroup": "Digital,Metaverse,Art,Collectibles,Graphics,2D,Design,Picture,Image",
         "marker": {
          "color": "#19d3f3",
          "symbol": "circle"
         },
         "mode": "markers",
         "name": "Digital,Metaverse,Art,Collectibles,Graphics,2D,Design,Picture,Image",
         "orientation": "v",
         "showlegend": true,
         "type": "scatter",
         "x": [
          22.023
         ],
         "xaxis": "x",
         "y": [
          53.19778
         ],
         "yaxis": "y"
        },
        {
         "hovertemplate": "Category=Art,Digital,Image,Painting,Collectibles,2D,Design,AI<br>Floor_Price_USD=%{x}<br>Average_Price_USD=%{y}<extra></extra>",
         "legendgroup": "Art,Digital,Image,Painting,Collectibles,2D,Design,AI",
         "marker": {
          "color": "#FF6692",
          "symbol": "circle"
         },
         "mode": "markers",
         "name": "Art,Digital,Image,Painting,Collectibles,2D,Design,AI",
         "orientation": "v",
         "showlegend": true,
         "type": "scatter",
         "x": [
          146.82
         ],
         "xaxis": "x",
         "y": [
          128.4675
         ],
         "yaxis": "y"
        },
        {
         "hovertemplate": "Category=Digital,Metaverse,Art,Collectibles,Music,Music Theme,Painting,Picture,Image<br>Floor_Price_USD=%{x}<br>Average_Price_USD=%{y}<extra></extra>",
         "legendgroup": "Digital,Metaverse,Art,Collectibles,Music,Music Theme,Painting,Picture,Image",
         "marker": {
          "color": "#B6E880",
          "symbol": "circle"
         },
         "mode": "markers",
         "name": "Digital,Metaverse,Art,Collectibles,Music,Music Theme,Painting,Picture,Image",
         "orientation": "v",
         "showlegend": true,
         "type": "scatter",
         "x": [
          17.6184
         ],
         "xaxis": "x",
         "y": [
          24.44669524
         ],
         "yaxis": "y"
        },
        {
         "hovertemplate": "Category=3D,Art,Video,Collectibles,Design,Digital,Graphics,Image,Picture,Sculpture,Photography<br>Floor_Price_USD=%{x}<br>Average_Price_USD=%{y}<extra></extra>",
         "legendgroup": "3D,Art,Video,Collectibles,Design,Digital,Graphics,Image,Picture,Sculpture,Photography",
         "marker": {
          "color": "#FF97FF",
          "symbol": "circle"
         },
         "mode": "markers",
         "name": "3D,Art,Video,Collectibles,Design,Digital,Graphics,Image,Picture,Sculpture,Photography",
         "orientation": "v",
         "showlegend": true,
         "type": "scatter",
         "x": [
          286.299
         ],
         "xaxis": "x",
         "y": [
          302.4492
         ],
         "yaxis": "y"
        },
        {
         "hovertemplate": "Category=Photography,Collectibles,Art<br>Floor_Price_USD=%{x}<br>Average_Price_USD=%{y}<extra></extra>",
         "legendgroup": "Photography,Collectibles,Art",
         "marker": {
          "color": "#FECB52",
          "symbol": "circle"
         },
         "mode": "markers",
         "name": "Photography,Collectibles,Art",
         "orientation": "v",
         "showlegend": true,
         "type": "scatter",
         "x": [
          29.364
         ],
         "xaxis": "x",
         "y": [
          57.59861538
         ],
         "yaxis": "y"
        },
        {
         "hovertemplate": "Category=Digital,Street Art,Collectibles,Art,2D<br>Floor_Price_USD=%{x}<br>Average_Price_USD=%{y}<extra></extra>",
         "legendgroup": "Digital,Street Art,Collectibles,Art,2D",
         "marker": {
          "color": "#636efa",
          "symbol": "circle"
         },
         "mode": "markers",
         "name": "Digital,Street Art,Collectibles,Art,2D",
         "orientation": "v",
         "showlegend": true,
         "type": "scatter",
         "x": [
          101.3058
         ],
         "xaxis": "x",
         "y": [
          113.8419692
         ],
         "yaxis": "y"
        },
        {
         "hovertemplate": "Category=2D,Digital,Metaverse,Art,Collectibles,Artifact,Image,Picture,Drawing,Painting,Graphics<br>Floor_Price_USD=%{x}<br>Average_Price_USD=%{y}<extra></extra>",
         "legendgroup": "2D,Digital,Metaverse,Art,Collectibles,Artifact,Image,Picture,Drawing,Painting,Graphics",
         "marker": {
          "color": "#EF553B",
          "symbol": "circle"
         },
         "mode": "markers",
         "name": "2D,Digital,Metaverse,Art,Collectibles,Artifact,Image,Picture,Drawing,Painting,Graphics",
         "orientation": "v",
         "showlegend": true,
         "type": "scatter",
         "x": [
          73.41
         ],
         "xaxis": "x",
         "y": [
          73.41
         ],
         "yaxis": "y"
        },
        {
         "hovertemplate": "Category=Collectibles,Art,Design,PFP,Graphics,2D,3D,Picture,Street Art<br>Floor_Price_USD=%{x}<br>Average_Price_USD=%{y}<extra></extra>",
         "legendgroup": "Collectibles,Art,Design,PFP,Graphics,2D,3D,Picture,Street Art",
         "marker": {
          "color": "#00cc96",
          "symbol": "circle"
         },
         "mode": "markers",
         "name": "Collectibles,Art,Design,PFP,Graphics,2D,3D,Picture,Street Art",
         "orientation": "v",
         "showlegend": true,
         "type": "scatter",
         "x": [
          29.364
         ],
         "xaxis": "x",
         "y": [
          45.88125
         ],
         "yaxis": "y"
        },
        {
         "hovertemplate": "Category=Digital,Art,2D,Painting,Image,Print<br>Floor_Price_USD=%{x}<br>Average_Price_USD=%{y}<extra></extra>",
         "legendgroup": "Digital,Art,2D,Painting,Image,Print",
         "marker": {
          "color": "#ab63fa",
          "symbol": "circle"
         },
         "mode": "markers",
         "name": "Digital,Art,2D,Painting,Image,Print",
         "orientation": "v",
         "showlegend": true,
         "type": "scatter",
         "x": [
          null
         ],
         "xaxis": "x",
         "y": [
          1468.2
         ],
         "yaxis": "y"
        },
        {
         "hovertemplate": "Category=Digital,3D,Privilege<br>Floor_Price_USD=%{x}<br>Average_Price_USD=%{y}<extra></extra>",
         "legendgroup": "Digital,3D,Privilege",
         "marker": {
          "color": "#FFA15A",
          "symbol": "circle"
         },
         "mode": "markers",
         "name": "Digital,3D,Privilege",
         "orientation": "v",
         "showlegend": true,
         "type": "scatter",
         "x": [
          146.82
         ],
         "xaxis": "x",
         "y": [
          146.82
         ],
         "yaxis": "y"
        },
        {
         "hovertemplate": "Category=Digital,Collectibles,Ticket,Privilege<br>Floor_Price_USD=%{x}<br>Average_Price_USD=%{y}<extra></extra>",
         "legendgroup": "Digital,Collectibles,Ticket,Privilege",
         "marker": {
          "color": "#19d3f3",
          "symbol": "circle"
         },
         "mode": "markers",
         "name": "Digital,Collectibles,Ticket,Privilege",
         "orientation": "v",
         "showlegend": true,
         "type": "scatter",
         "x": [
          7.341
         ],
         "xaxis": "x",
         "y": [
          8.8092
         ],
         "yaxis": "y"
        },
        {
         "hovertemplate": "Category=Collectibles,Art,PFP,2D<br>Floor_Price_USD=%{x}<br>Average_Price_USD=%{y}<extra></extra>",
         "legendgroup": "Collectibles,Art,PFP,2D",
         "marker": {
          "color": "#FF6692",
          "symbol": "circle"
         },
         "mode": "markers",
         "name": "Collectibles,Art,PFP,2D",
         "orientation": "v",
         "showlegend": true,
         "type": "scatter",
         "x": [
          14.682
         ],
         "xaxis": "x",
         "y": [
          18.05886
         ],
         "yaxis": "y"
        },
        {
         "hovertemplate": "Category=P2E,Image,Art,2D,PFP,Collectibles<br>Floor_Price_USD=%{x}<br>Average_Price_USD=%{y}<extra></extra>",
         "legendgroup": "P2E,Image,Art,2D,PFP,Collectibles",
         "marker": {
          "color": "#B6E880",
          "symbol": "circle"
         },
         "mode": "markers",
         "name": "P2E,Image,Art,2D,PFP,Collectibles",
         "orientation": "v",
         "showlegend": true,
         "type": "scatter",
         "x": [
          14.682
         ],
         "xaxis": "x",
         "y": [
          67.60711429
         ],
         "yaxis": "y"
        },
        {
         "hovertemplate": "Category=Digital,Physical,Art<br>Floor_Price_USD=%{x}<br>Average_Price_USD=%{y}<extra></extra>",
         "legendgroup": "Digital,Physical,Art",
         "marker": {
          "color": "#FF97FF",
          "symbol": "circle"
         },
         "mode": "markers",
         "name": "Digital,Physical,Art",
         "orientation": "v",
         "showlegend": true,
         "type": "scatter",
         "x": [
          440.46
         ],
         "xaxis": "x",
         "y": [
          464.93
         ],
         "yaxis": "y"
        },
        {
         "hovertemplate": "Category=PFP,Digital,Metaverse,Trading Cards,Image,Pixel Art,Collectibles<br>Floor_Price_USD=%{x}<br>Average_Price_USD=%{y}<extra></extra>",
         "legendgroup": "PFP,Digital,Metaverse,Trading Cards,Image,Pixel Art,Collectibles",
         "marker": {
          "color": "#FECB52",
          "symbol": "circle"
         },
         "mode": "markers",
         "name": "PFP,Digital,Metaverse,Trading Cards,Image,Pixel Art,Collectibles",
         "orientation": "v",
         "showlegend": true,
         "type": "scatter",
         "x": [
          42.5778
         ],
         "xaxis": "x",
         "y": [
          76.91736667
         ],
         "yaxis": "y"
        },
        {
         "hovertemplate": "Category=PFP,Metaverse,Digital,Art,2D,Collectibles,Painting<br>Floor_Price_USD=%{x}<br>Average_Price_USD=%{y}<extra></extra>",
         "legendgroup": "PFP,Metaverse,Digital,Art,2D,Collectibles,Painting",
         "marker": {
          "color": "#636efa",
          "symbol": "circle"
         },
         "mode": "markers",
         "name": "PFP,Metaverse,Digital,Art,2D,Collectibles,Painting",
         "orientation": "v",
         "showlegend": true,
         "type": "scatter",
         "x": [
          146.82
         ],
         "xaxis": "x",
         "y": [
          146.82
         ],
         "yaxis": "y"
        },
        {
         "hovertemplate": "Category=PFP,Drawing<br>Floor_Price_USD=%{x}<br>Average_Price_USD=%{y}<extra></extra>",
         "legendgroup": "PFP,Drawing",
         "marker": {
          "color": "#EF553B",
          "symbol": "circle"
         },
         "mode": "markers",
         "name": "PFP,Drawing",
         "orientation": "v",
         "showlegend": true,
         "type": "scatter",
         "x": [
          440.46
         ],
         "xaxis": "x",
         "y": [
          440.46
         ],
         "yaxis": "y"
        },
        {
         "hovertemplate": "Category=Digital,Art,Collectibles,Graphics<br>Floor_Price_USD=%{x}<br>Average_Price_USD=%{y}<extra></extra>",
         "legendgroup": "Digital,Art,Collectibles,Graphics",
         "marker": {
          "color": "#00cc96",
          "symbol": "circle"
         },
         "mode": "markers",
         "name": "Digital,Art,Collectibles,Graphics",
         "orientation": "v",
         "showlegend": true,
         "type": "scatter",
         "x": [
          29.364
         ],
         "xaxis": "x",
         "y": [
          65.62854
         ],
         "yaxis": "y"
        },
        {
         "hovertemplate": "Category=Digital,Art,Collectibles,AI,Metaverse,3D<br>Floor_Price_USD=%{x}<br>Average_Price_USD=%{y}<extra></extra>",
         "legendgroup": "Digital,Art,Collectibles,AI,Metaverse,3D",
         "marker": {
          "color": "#ab63fa",
          "symbol": "circle"
         },
         "mode": "markers",
         "name": "Digital,Art,Collectibles,AI,Metaverse,3D",
         "orientation": "v",
         "showlegend": true,
         "type": "scatter",
         "x": [
          13.2138
         ],
         "xaxis": "x",
         "y": [
          12.03108333
         ],
         "yaxis": "y"
        },
        {
         "hovertemplate": "Category=Digital,Art,Collectibles,Drawing,Video<br>Floor_Price_USD=%{x}<br>Average_Price_USD=%{y}<extra></extra>",
         "legendgroup": "Digital,Art,Collectibles,Drawing,Video",
         "marker": {
          "color": "#FFA15A",
          "symbol": "circle"
         },
         "mode": "markers",
         "name": "Digital,Art,Collectibles,Drawing,Video",
         "orientation": "v",
         "showlegend": true,
         "type": "scatter",
         "x": [
          5.8728
         ],
         "xaxis": "x",
         "y": [
          13.2587449
         ],
         "yaxis": "y"
        },
        {
         "hovertemplate": "Category=Digital,Art,3D<br>Floor_Price_USD=%{x}<br>Average_Price_USD=%{y}<extra></extra>",
         "legendgroup": "Digital,Art,3D",
         "marker": {
          "color": "#19d3f3",
          "symbol": "circle"
         },
         "mode": "markers",
         "name": "Digital,Art,3D",
         "orientation": "v",
         "showlegend": true,
         "type": "scatter",
         "x": [
          73.41
         ],
         "xaxis": "x",
         "y": [
          55.12423636
         ],
         "yaxis": "y"
        },
        {
         "hovertemplate": "Category=Physical,Digital,Collectibles,3D,Trading Cards,Trademark,Photography<br>Floor_Price_USD=%{x}<br>Average_Price_USD=%{y}<extra></extra>",
         "legendgroup": "Physical,Digital,Collectibles,3D,Trading Cards,Trademark,Photography",
         "marker": {
          "color": "#FF6692",
          "symbol": "circle"
         },
         "mode": "markers",
         "name": "Physical,Digital,Collectibles,3D,Trading Cards,Trademark,Photography",
         "orientation": "v",
         "showlegend": true,
         "type": "scatter",
         "x": [
          146.82
         ],
         "xaxis": "x",
         "y": [
          146.82
         ],
         "yaxis": "y"
        },
        {
         "hovertemplate": "Category=Digital,Art,2D,Painting,Drawing,Collectibles<br>Floor_Price_USD=%{x}<br>Average_Price_USD=%{y}<extra></extra>",
         "legendgroup": "Digital,Art,2D,Painting,Drawing,Collectibles",
         "marker": {
          "color": "#B6E880",
          "symbol": "circle"
         },
         "mode": "markers",
         "name": "Digital,Art,2D,Painting,Drawing,Collectibles",
         "orientation": "v",
         "showlegend": true,
         "type": "scatter",
         "x": [
          null
         ],
         "xaxis": "x",
         "y": [
          293.64
         ],
         "yaxis": "y"
        },
        {
         "hovertemplate": "Category=Privilege,Art,Drawing,Painting,PFP<br>Floor_Price_USD=%{x}<br>Average_Price_USD=%{y}<extra></extra>",
         "legendgroup": "Privilege,Art,Drawing,Painting,PFP",
         "marker": {
          "color": "#FF97FF",
          "symbol": "circle"
         },
         "mode": "markers",
         "name": "Privilege,Art,Drawing,Painting,PFP",
         "orientation": "v",
         "showlegend": true,
         "type": "scatter",
         "x": [
          290.7036
         ],
         "xaxis": "x",
         "y": [
          234.912
         ],
         "yaxis": "y"
        },
        {
         "hovertemplate": "Category=Physical,Digital,Art<br>Floor_Price_USD=%{x}<br>Average_Price_USD=%{y}<extra></extra>",
         "legendgroup": "Physical,Digital,Art",
         "marker": {
          "color": "#FECB52",
          "symbol": "circle"
         },
         "mode": "markers",
         "name": "Physical,Digital,Art",
         "orientation": "v",
         "showlegend": true,
         "type": "scatter",
         "x": [
          146.82
         ],
         "xaxis": "x",
         "y": [
          146.82
         ],
         "yaxis": "y"
        },
        {
         "hovertemplate": "Category=Art,Collectibles,PFP,2D,Picture,Image<br>Floor_Price_USD=%{x}<br>Average_Price_USD=%{y}<extra></extra>",
         "legendgroup": "Art,Collectibles,PFP,2D,Picture,Image",
         "marker": {
          "color": "#636efa",
          "symbol": "circle"
         },
         "mode": "markers",
         "name": "Art,Collectibles,PFP,2D,Picture,Image",
         "orientation": "v",
         "showlegend": true,
         "type": "scatter",
         "x": [
          146.82
         ],
         "xaxis": "x",
         "y": [
          157.3071429
         ],
         "yaxis": "y"
        },
        {
         "hovertemplate": "Category=Art,Collectibles,Digital<br>Floor_Price_USD=%{x}<br>Average_Price_USD=%{y}<extra></extra>",
         "legendgroup": "Art,Collectibles,Digital",
         "marker": {
          "color": "#EF553B",
          "symbol": "circle"
         },
         "mode": "markers",
         "name": "Art,Collectibles,Digital",
         "orientation": "v",
         "showlegend": true,
         "type": "scatter",
         "x": [
          367.05
         ],
         "xaxis": "x",
         "y": [
          73.41
         ],
         "yaxis": "y"
        },
        {
         "hovertemplate": "Category=Digital,Metaverse,Art,Collectibles,3D,Video,PFP<br>Floor_Price_USD=%{x}<br>Average_Price_USD=%{y}<extra></extra>",
         "legendgroup": "Digital,Metaverse,Art,Collectibles,3D,Video,PFP",
         "marker": {
          "color": "#00cc96",
          "symbol": "circle"
         },
         "mode": "markers",
         "name": "Digital,Metaverse,Art,Collectibles,3D,Video,PFP",
         "orientation": "v",
         "showlegend": true,
         "type": "scatter",
         "x": [
          73.41
         ],
         "xaxis": "x",
         "y": [
          220.23
         ],
         "yaxis": "y"
        },
        {
         "hovertemplate": "Category=Digital,Metaverse,Art,Collectibles,PFP,2D,Drawing,Picture,Image<br>Floor_Price_USD=%{x}<br>Average_Price_USD=%{y}<extra></extra>",
         "legendgroup": "Digital,Metaverse,Art,Collectibles,PFP,2D,Drawing,Picture,Image",
         "marker": {
          "color": "#ab63fa",
          "symbol": "circle"
         },
         "mode": "markers",
         "name": "Digital,Metaverse,Art,Collectibles,PFP,2D,Drawing,Picture,Image",
         "orientation": "v",
         "showlegend": true,
         "type": "scatter",
         "x": [
          248.1258
         ],
         "xaxis": "x",
         "y": [
          271.24995
         ],
         "yaxis": "y"
        },
        {
         "hovertemplate": "Category=Metaverse,Collectibles,2D<br>Floor_Price_USD=%{x}<br>Average_Price_USD=%{y}<extra></extra>",
         "legendgroup": "Metaverse,Collectibles,2D",
         "marker": {
          "color": "#FFA15A",
          "symbol": "circle"
         },
         "mode": "markers",
         "name": "Metaverse,Collectibles,2D",
         "orientation": "v",
         "showlegend": true,
         "type": "scatter",
         "x": [
          29.364,
          146.82
         ],
         "xaxis": "x",
         "y": [
          63.73715294,
          220.23
         ],
         "yaxis": "y"
        },
        {
         "hovertemplate": "Category=Collectibles,Metaverse,3D,Design<br>Floor_Price_USD=%{x}<br>Average_Price_USD=%{y}<extra></extra>",
         "legendgroup": "Collectibles,Metaverse,3D,Design",
         "marker": {
          "color": "#19d3f3",
          "symbol": "circle"
         },
         "mode": "markers",
         "name": "Collectibles,Metaverse,3D,Design",
         "orientation": "v",
         "showlegend": true,
         "type": "scatter",
         "x": [
          102.774
         ],
         "xaxis": "x",
         "y": [
          117.456
         ],
         "yaxis": "y"
        },
        {
         "hovertemplate": "Category=Digital,Privilege,Art,Collectibles,PFP,Drawing,Street Art<br>Floor_Price_USD=%{x}<br>Average_Price_USD=%{y}<extra></extra>",
         "legendgroup": "Digital,Privilege,Art,Collectibles,PFP,Drawing,Street Art",
         "marker": {
          "color": "#FF6692",
          "symbol": "circle"
         },
         "mode": "markers",
         "name": "Digital,Privilege,Art,Collectibles,PFP,Drawing,Street Art",
         "orientation": "v",
         "showlegend": true,
         "type": "scatter",
         "x": [
          146.82
         ],
         "xaxis": "x",
         "y": [
          146.82
         ],
         "yaxis": "y"
        },
        {
         "hovertemplate": "Category=Collectibles,Art,AI<br>Floor_Price_USD=%{x}<br>Average_Price_USD=%{y}<extra></extra>",
         "legendgroup": "Collectibles,Art,AI",
         "marker": {
          "color": "#B6E880",
          "symbol": "circle"
         },
         "mode": "markers",
         "name": "Collectibles,Art,AI",
         "orientation": "v",
         "showlegend": true,
         "type": "scatter",
         "x": [
          146.82
         ],
         "xaxis": "x",
         "y": [
          146.82
         ],
         "yaxis": "y"
        },
        {
         "hovertemplate": "Category=Art,Graphics,2D,Design,Image,Picture,Drawing,PFP<br>Floor_Price_USD=%{x}<br>Average_Price_USD=%{y}<extra></extra>",
         "legendgroup": "Art,Graphics,2D,Design,Image,Picture,Drawing,PFP",
         "marker": {
          "color": "#FF97FF",
          "symbol": "circle"
         },
         "mode": "markers",
         "name": "Art,Graphics,2D,Design,Image,Picture,Drawing,PFP",
         "orientation": "v",
         "showlegend": true,
         "type": "scatter",
         "x": [
          36.705
         ],
         "xaxis": "x",
         "y": [
          33.0345
         ],
         "yaxis": "y"
        },
        {
         "hovertemplate": "Category=Digital,Art,2D,Metaverse,Collectibles,P2E<br>Floor_Price_USD=%{x}<br>Average_Price_USD=%{y}<extra></extra>",
         "legendgroup": "Digital,Art,2D,Metaverse,Collectibles,P2E",
         "marker": {
          "color": "#FECB52",
          "symbol": "circle"
         },
         "mode": "markers",
         "name": "Digital,Art,2D,Metaverse,Collectibles,P2E",
         "orientation": "v",
         "showlegend": true,
         "type": "scatter",
         "x": [
          8.8092
         ],
         "xaxis": "x",
         "y": [
          20.01546122
         ],
         "yaxis": "y"
        },
        {
         "hovertemplate": "Category=Art,Collectibles,Drawing<br>Floor_Price_USD=%{x}<br>Average_Price_USD=%{y}<extra></extra>",
         "legendgroup": "Art,Collectibles,Drawing",
         "marker": {
          "color": "#636efa",
          "symbol": "circle"
         },
         "mode": "markers",
         "name": "Art,Collectibles,Drawing",
         "orientation": "v",
         "showlegend": true,
         "type": "scatter",
         "x": [
          2936.4
         ],
         "xaxis": "x",
         "y": [
          320.0676
         ],
         "yaxis": "y"
        },
        {
         "hovertemplate": "Category=Digital,Collectibles,Pixel Art<br>Floor_Price_USD=%{x}<br>Average_Price_USD=%{y}<extra></extra>",
         "legendgroup": "Digital,Collectibles,Pixel Art",
         "marker": {
          "color": "#EF553B",
          "symbol": "circle"
         },
         "mode": "markers",
         "name": "Digital,Collectibles,Pixel Art",
         "orientation": "v",
         "showlegend": true,
         "type": "scatter",
         "x": [
          14.682
         ],
         "xaxis": "x",
         "y": [
          15.34505806
         ],
         "yaxis": "y"
        },
        {
         "hovertemplate": "Category=2D,Collectibles,Digital,Pixel Art<br>Floor_Price_USD=%{x}<br>Average_Price_USD=%{y}<extra></extra>",
         "legendgroup": "2D,Collectibles,Digital,Pixel Art",
         "marker": {
          "color": "#00cc96",
          "symbol": "circle"
         },
         "mode": "markers",
         "name": "2D,Collectibles,Digital,Pixel Art",
         "orientation": "v",
         "showlegend": true,
         "type": "scatter",
         "x": [
          13.2138
         ],
         "xaxis": "x",
         "y": [
          13.25515775
         ],
         "yaxis": "y"
        },
        {
         "hovertemplate": "Category=Collectibles,Digital,Metaverse<br>Floor_Price_USD=%{x}<br>Average_Price_USD=%{y}<extra></extra>",
         "legendgroup": "Collectibles,Digital,Metaverse",
         "marker": {
          "color": "#ab63fa",
          "symbol": "circle"
         },
         "mode": "markers",
         "name": "Collectibles,Digital,Metaverse",
         "orientation": "v",
         "showlegend": true,
         "type": "scatter",
         "x": [
          58.728
         ],
         "xaxis": "x",
         "y": [
          40.34358261
         ],
         "yaxis": "y"
        },
        {
         "hovertemplate": "Category=Digital,Art,Collectibles,Image<br>Floor_Price_USD=%{x}<br>Average_Price_USD=%{y}<extra></extra>",
         "legendgroup": "Digital,Art,Collectibles,Image",
         "marker": {
          "color": "#FFA15A",
          "symbol": "circle"
         },
         "mode": "markers",
         "name": "Digital,Art,Collectibles,Image",
         "orientation": "v",
         "showlegend": true,
         "type": "scatter",
         "x": [
          70.4736
         ],
         "xaxis": "x",
         "y": [
          115.804275
         ],
         "yaxis": "y"
        },
        {
         "hovertemplate": "Category=Digital,Art,Collectibles,Graphics,Picture,Design,2D,Drawing,PFP,Image<br>Floor_Price_USD=%{x}<br>Average_Price_USD=%{y}<extra></extra>",
         "legendgroup": "Digital,Art,Collectibles,Graphics,Picture,Design,2D,Drawing,PFP,Image",
         "marker": {
          "color": "#19d3f3",
          "symbol": "circle"
         },
         "mode": "markers",
         "name": "Digital,Art,Collectibles,Graphics,Picture,Design,2D,Drawing,PFP,Image",
         "orientation": "v",
         "showlegend": true,
         "type": "scatter",
         "x": [
          44.046
         ],
         "xaxis": "x",
         "y": [
          77.0805
         ],
         "yaxis": "y"
        },
        {
         "hovertemplate": "Category=Digital,Art,Picture,Image,Collectibles,Metaverse<br>Floor_Price_USD=%{x}<br>Average_Price_USD=%{y}<extra></extra>",
         "legendgroup": "Digital,Art,Picture,Image,Collectibles,Metaverse",
         "marker": {
          "color": "#FF6692",
          "symbol": "circle"
         },
         "mode": "markers",
         "name": "Digital,Art,Picture,Image,Collectibles,Metaverse",
         "orientation": "v",
         "showlegend": true,
         "type": "scatter",
         "x": [
          51.387
         ],
         "xaxis": "x",
         "y": [
          57.3515625
         ],
         "yaxis": "y"
        },
        {
         "hovertemplate": "Category=Digital,3D,Collectibles,PFP,Music Theme<br>Floor_Price_USD=%{x}<br>Average_Price_USD=%{y}<extra></extra>",
         "legendgroup": "Digital,3D,Collectibles,PFP,Music Theme",
         "marker": {
          "color": "#B6E880",
          "symbol": "circle"
         },
         "mode": "markers",
         "name": "Digital,3D,Collectibles,PFP,Music Theme",
         "orientation": "v",
         "showlegend": true,
         "type": "scatter",
         "x": [
          11.7456
         ],
         "xaxis": "x",
         "y": [
          26.55714706
         ],
         "yaxis": "y"
        },
        {
         "hovertemplate": "Category=Digital,Collectibles,Metaverse<br>Floor_Price_USD=%{x}<br>Average_Price_USD=%{y}<extra></extra>",
         "legendgroup": "Digital,Collectibles,Metaverse",
         "marker": {
          "color": "#FF97FF",
          "symbol": "circle"
         },
         "mode": "markers",
         "name": "Digital,Collectibles,Metaverse",
         "orientation": "v",
         "showlegend": true,
         "type": "scatter",
         "x": [
          27.8958
         ],
         "xaxis": "x",
         "y": [
          45.00033
         ],
         "yaxis": "y"
        },
        {
         "hovertemplate": "Category=Digital,Metaverse,Privilege,Collectibles,Art<br>Floor_Price_USD=%{x}<br>Average_Price_USD=%{y}<extra></extra>",
         "legendgroup": "Digital,Metaverse,Privilege,Collectibles,Art",
         "marker": {
          "color": "#FECB52",
          "symbol": "circle"
         },
         "mode": "markers",
         "name": "Digital,Metaverse,Privilege,Collectibles,Art",
         "orientation": "v",
         "showlegend": true,
         "type": "scatter",
         "x": [
          8.8092
         ],
         "xaxis": "x",
         "y": [
          13.25762687
         ],
         "yaxis": "y"
        },
        {
         "hovertemplate": "Category=2D,Art,Collectibles,PFP<br>Floor_Price_USD=%{x}<br>Average_Price_USD=%{y}<extra></extra>",
         "legendgroup": "2D,Art,Collectibles,PFP",
         "marker": {
          "color": "#636efa",
          "symbol": "circle"
         },
         "mode": "markers",
         "name": "2D,Art,Collectibles,PFP",
         "orientation": "v",
         "showlegend": true,
         "type": "scatter",
         "x": [
          14.682
         ],
         "xaxis": "x",
         "y": [
          17.05370769
         ],
         "yaxis": "y"
        },
        {
         "hovertemplate": "Category=Art,Metaverse,Collectibles,Digital,PFP<br>Floor_Price_USD=%{x}<br>Average_Price_USD=%{y}<extra></extra>",
         "legendgroup": "Art,Metaverse,Collectibles,Digital,PFP",
         "marker": {
          "color": "#EF553B",
          "symbol": "circle"
         },
         "mode": "markers",
         "name": "Art,Metaverse,Collectibles,Digital,PFP",
         "orientation": "v",
         "showlegend": true,
         "type": "scatter",
         "x": [
          73.41
         ],
         "xaxis": "x",
         "y": [
          73.41
         ],
         "yaxis": "y"
        },
        {
         "hovertemplate": "Category=Art,Design,2D,Collectibles<br>Floor_Price_USD=%{x}<br>Average_Price_USD=%{y}<extra></extra>",
         "legendgroup": "Art,Design,2D,Collectibles",
         "marker": {
          "color": "#00cc96",
          "symbol": "circle"
         },
         "mode": "markers",
         "name": "Art,Design,2D,Collectibles",
         "orientation": "v",
         "showlegend": true,
         "type": "scatter",
         "x": [
          26.4276
         ],
         "xaxis": "x",
         "y": [
          67.65013846
         ],
         "yaxis": "y"
        },
        {
         "hovertemplate": "Category=2D,Digital,Metaverse,Design<br>Floor_Price_USD=%{x}<br>Average_Price_USD=%{y}<extra></extra>",
         "legendgroup": "2D,Digital,Metaverse,Design",
         "marker": {
          "color": "#ab63fa",
          "symbol": "circle"
         },
         "mode": "markers",
         "name": "2D,Digital,Metaverse,Design",
         "orientation": "v",
         "showlegend": true,
         "type": "scatter",
         "x": [
          5.8728
         ],
         "xaxis": "x",
         "y": [
          18.3219125
         ],
         "yaxis": "y"
        },
        {
         "hovertemplate": "Category=Art,Digital,Collectibles,Graphics,2D,Street Art,Image,Picture<br>Floor_Price_USD=%{x}<br>Average_Price_USD=%{y}<extra></extra>",
         "legendgroup": "Art,Digital,Collectibles,Graphics,2D,Street Art,Image,Picture",
         "marker": {
          "color": "#FFA15A",
          "symbol": "circle"
         },
         "mode": "markers",
         "name": "Art,Digital,Collectibles,Graphics,2D,Street Art,Image,Picture",
         "orientation": "v",
         "showlegend": true,
         "type": "scatter",
         "x": [
          146.82
         ],
         "xaxis": "x",
         "y": [
          64.6008
         ],
         "yaxis": "y"
        },
        {
         "hovertemplate": "Category=Art,2D,Collectibles,Image<br>Floor_Price_USD=%{x}<br>Average_Price_USD=%{y}<extra></extra>",
         "legendgroup": "Art,2D,Collectibles,Image",
         "marker": {
          "color": "#19d3f3",
          "symbol": "circle"
         },
         "mode": "markers",
         "name": "Art,2D,Collectibles,Image",
         "orientation": "v",
         "showlegend": true,
         "type": "scatter",
         "x": [
          146.82
         ],
         "xaxis": "x",
         "y": [
          52.304625
         ],
         "yaxis": "y"
        },
        {
         "hovertemplate": "Category=Street Art,Metaverse,Art,Collectibles,Privilege,Digital<br>Floor_Price_USD=%{x}<br>Average_Price_USD=%{y}<extra></extra>",
         "legendgroup": "Street Art,Metaverse,Art,Collectibles,Privilege,Digital",
         "marker": {
          "color": "#FF6692",
          "symbol": "circle"
         },
         "mode": "markers",
         "name": "Street Art,Metaverse,Art,Collectibles,Privilege,Digital",
         "orientation": "v",
         "showlegend": true,
         "type": "scatter",
         "x": [
          41.1096
         ],
         "xaxis": "x",
         "y": [
          41.1096
         ],
         "yaxis": "y"
        },
        {
         "hovertemplate": "Category=Digital,Art,Collectibles,Graphics,2D,Design,Image<br>Floor_Price_USD=%{x}<br>Average_Price_USD=%{y}<extra></extra>",
         "legendgroup": "Digital,Art,Collectibles,Graphics,2D,Design,Image",
         "marker": {
          "color": "#B6E880",
          "symbol": "circle"
         },
         "mode": "markers",
         "name": "Digital,Art,Collectibles,Graphics,2D,Design,Image",
         "orientation": "v",
         "showlegend": true,
         "type": "scatter",
         "x": [
          13.2138
         ],
         "xaxis": "x",
         "y": [
          14.21835789
         ],
         "yaxis": "y"
        },
        {
         "hovertemplate": "Category=Art,Collectibles,2D,3D,Painting,Street Art,Drawing,Design,Image,Picture<br>Floor_Price_USD=%{x}<br>Average_Price_USD=%{y}<extra></extra>",
         "legendgroup": "Art,Collectibles,2D,3D,Painting,Street Art,Drawing,Design,Image,Picture",
         "marker": {
          "color": "#FF97FF",
          "symbol": "circle"
         },
         "mode": "markers",
         "name": "Art,Collectibles,2D,3D,Painting,Street Art,Drawing,Design,Image,Picture",
         "orientation": "v",
         "showlegend": true,
         "type": "scatter",
         "x": [
          146.82
         ],
         "xaxis": "x",
         "y": [
          201.8775
         ],
         "yaxis": "y"
        },
        {
         "hovertemplate": "Category=Digital,Collectibles,3D,2D,Street Art,Drawing,Art,Metaverse,Image<br>Floor_Price_USD=%{x}<br>Average_Price_USD=%{y}<extra></extra>",
         "legendgroup": "Digital,Collectibles,3D,2D,Street Art,Drawing,Art,Metaverse,Image",
         "marker": {
          "color": "#FECB52",
          "symbol": "circle"
         },
         "mode": "markers",
         "name": "Digital,Collectibles,3D,2D,Street Art,Drawing,Art,Metaverse,Image",
         "orientation": "v",
         "showlegend": true,
         "type": "scatter",
         "x": [
          220.23
         ],
         "xaxis": "x",
         "y": [
          269.17
         ],
         "yaxis": "y"
        },
        {
         "hovertemplate": "Category=Digital,Metaverse,PFP,Collectibles,Art<br>Floor_Price_USD=%{x}<br>Average_Price_USD=%{y}<extra></extra>",
         "legendgroup": "Digital,Metaverse,PFP,Collectibles,Art",
         "marker": {
          "color": "#636efa",
          "symbol": "circle"
         },
         "mode": "markers",
         "name": "Digital,Metaverse,PFP,Collectibles,Art",
         "orientation": "v",
         "showlegend": true,
         "type": "scatter",
         "x": [
          14.682
         ],
         "xaxis": "x",
         "y": [
          61.43852308
         ],
         "yaxis": "y"
        },
        {
         "hovertemplate": "Category=Art,Collectibles,Digital,Metaverse,Image<br>Floor_Price_USD=%{x}<br>Average_Price_USD=%{y}<extra></extra>",
         "legendgroup": "Art,Collectibles,Digital,Metaverse,Image",
         "marker": {
          "color": "#EF553B",
          "symbol": "circle"
         },
         "mode": "markers",
         "name": "Art,Collectibles,Digital,Metaverse,Image",
         "orientation": "v",
         "showlegend": true,
         "type": "scatter",
         "x": [
          14.682
         ],
         "xaxis": "x",
         "y": [
          99.654075
         ],
         "yaxis": "y"
        },
        {
         "hovertemplate": "Category=Collectibles,Digital,Art<br>Floor_Price_USD=%{x}<br>Average_Price_USD=%{y}<extra></extra>",
         "legendgroup": "Collectibles,Digital,Art",
         "marker": {
          "color": "#00cc96",
          "symbol": "circle"
         },
         "mode": "markers",
         "name": "Collectibles,Digital,Art",
         "orientation": "v",
         "showlegend": true,
         "type": "scatter",
         "x": [
          146.82
         ],
         "xaxis": "x",
         "y": [
          129.691
         ],
         "yaxis": "y"
        },
        {
         "hovertemplate": "Category=Art,Painting,Digital,Metaverse,Graphics,Drawing<br>Floor_Price_USD=%{x}<br>Average_Price_USD=%{y}<extra></extra>",
         "legendgroup": "Art,Painting,Digital,Metaverse,Graphics,Drawing",
         "marker": {
          "color": "#ab63fa",
          "symbol": "circle"
         },
         "mode": "markers",
         "name": "Art,Painting,Digital,Metaverse,Graphics,Drawing",
         "orientation": "v",
         "showlegend": true,
         "type": "scatter",
         "x": [
          29.364
         ],
         "xaxis": "x",
         "y": [
          70.34012727
         ],
         "yaxis": "y"
        },
        {
         "hovertemplate": "Category=2D,Metaverse,Art,Digital,PFP,Collectibles<br>Floor_Price_USD=%{x}<br>Average_Price_USD=%{y}<extra></extra>",
         "legendgroup": "2D,Metaverse,Art,Digital,PFP,Collectibles",
         "marker": {
          "color": "#FFA15A",
          "symbol": "circle"
         },
         "mode": "markers",
         "name": "2D,Metaverse,Art,Digital,PFP,Collectibles",
         "orientation": "v",
         "showlegend": true,
         "type": "scatter",
         "x": [
          44.046
         ],
         "xaxis": "x",
         "y": [
          55.0575
         ],
         "yaxis": "y"
        },
        {
         "hovertemplate": "Category=Art,Design,Digital,Image,Graphics<br>Floor_Price_USD=%{x}<br>Average_Price_USD=%{y}<extra></extra>",
         "legendgroup": "Art,Design,Digital,Image,Graphics",
         "marker": {
          "color": "#19d3f3",
          "symbol": "circle"
         },
         "mode": "markers",
         "name": "Art,Design,Digital,Image,Graphics",
         "orientation": "v",
         "showlegend": true,
         "type": "scatter",
         "x": [
          29.364
         ],
         "xaxis": "x",
         "y": [
          33.51326087
         ],
         "yaxis": "y"
        },
        {
         "hovertemplate": "Category=Art,Collectibles,Artifact,2D,Painting,Picture<br>Floor_Price_USD=%{x}<br>Average_Price_USD=%{y}<extra></extra>",
         "legendgroup": "Art,Collectibles,Artifact,2D,Painting,Picture",
         "marker": {
          "color": "#FF6692",
          "symbol": "circle"
         },
         "mode": "markers",
         "name": "Art,Collectibles,Artifact,2D,Painting,Picture",
         "orientation": "v",
         "showlegend": true,
         "type": "scatter",
         "x": [
          36.705
         ],
         "xaxis": "x",
         "y": [
          55.0575
         ],
         "yaxis": "y"
        },
        {
         "hovertemplate": "Category=Collectibles,Art,Digital,Graphics,Design,Picture<br>Floor_Price_USD=%{x}<br>Average_Price_USD=%{y}<extra></extra>",
         "legendgroup": "Collectibles,Art,Digital,Graphics,Design,Picture",
         "marker": {
          "color": "#B6E880",
          "symbol": "circle"
         },
         "mode": "markers",
         "name": "Collectibles,Art,Digital,Graphics,Design,Picture",
         "orientation": "v",
         "showlegend": true,
         "type": "scatter",
         "x": [
          13.2138
         ],
         "xaxis": "x",
         "y": [
          26.4276
         ],
         "yaxis": "y"
        },
        {
         "hovertemplate": "Category=Digital,PFP,Image,Collectibles,2D<br>Floor_Price_USD=%{x}<br>Average_Price_USD=%{y}<extra></extra>",
         "legendgroup": "Digital,PFP,Image,Collectibles,2D",
         "marker": {
          "color": "#FF97FF",
          "symbol": "circle"
         },
         "mode": "markers",
         "name": "Digital,PFP,Image,Collectibles,2D",
         "orientation": "v",
         "showlegend": true,
         "type": "scatter",
         "x": [
          10.2774
         ],
         "xaxis": "x",
         "y": [
          14.65376538
         ],
         "yaxis": "y"
        },
        {
         "hovertemplate": "Category=Digital,Art,Collectibles,2D<br>Floor_Price_USD=%{x}<br>Average_Price_USD=%{y}<extra></extra>",
         "legendgroup": "Digital,Art,Collectibles,2D",
         "marker": {
          "color": "#FECB52",
          "symbol": "circle"
         },
         "mode": "markers",
         "name": "Digital,Art,Collectibles,2D",
         "orientation": "v",
         "showlegend": true,
         "type": "scatter",
         "x": [
          2.9364
         ],
         "xaxis": "x",
         "y": [
          9.238917073
         ],
         "yaxis": "y"
        },
        {
         "hovertemplate": "Category=Collectibles,Trading Cards,2D<br>Floor_Price_USD=%{x}<br>Average_Price_USD=%{y}<extra></extra>",
         "legendgroup": "Collectibles,Trading Cards,2D",
         "marker": {
          "color": "#636efa",
          "symbol": "circle"
         },
         "mode": "markers",
         "name": "Collectibles,Trading Cards,2D",
         "orientation": "v",
         "showlegend": true,
         "type": "scatter",
         "x": [
          29.364
         ],
         "xaxis": "x",
         "y": [
          149.7564
         ],
         "yaxis": "y"
        },
        {
         "hovertemplate": "Category=Digital,Art,Collectibles,2D,Graphics,Drawing<br>Floor_Price_USD=%{x}<br>Average_Price_USD=%{y}<extra></extra>",
         "legendgroup": "Digital,Art,Collectibles,2D,Graphics,Drawing",
         "marker": {
          "color": "#EF553B",
          "symbol": "circle"
         },
         "mode": "markers",
         "name": "Digital,Art,Collectibles,2D,Graphics,Drawing",
         "orientation": "v",
         "showlegend": true,
         "type": "scatter",
         "x": [
          26.4276
         ],
         "xaxis": "x",
         "y": [
          56.92098462
         ],
         "yaxis": "y"
        },
        {
         "hovertemplate": "Category=Digital,Graphics,Image,Drawing,PFP<br>Floor_Price_USD=%{x}<br>Average_Price_USD=%{y}<extra></extra>",
         "legendgroup": "Digital,Graphics,Image,Drawing,PFP",
         "marker": {
          "color": "#00cc96",
          "symbol": "circle"
         },
         "mode": "markers",
         "name": "Digital,Graphics,Image,Drawing,PFP",
         "orientation": "v",
         "showlegend": true,
         "type": "scatter",
         "x": [
          14.682
         ],
         "xaxis": "x",
         "y": [
          36.85182
         ],
         "yaxis": "y"
        },
        {
         "hovertemplate": "Category=Digital,Art,2D,Graphics,Painting,Drawing,Design<br>Floor_Price_USD=%{x}<br>Average_Price_USD=%{y}<extra></extra>",
         "legendgroup": "Digital,Art,2D,Graphics,Painting,Drawing,Design",
         "marker": {
          "color": "#ab63fa",
          "symbol": "circle"
         },
         "mode": "markers",
         "name": "Digital,Art,2D,Graphics,Painting,Drawing,Design",
         "orientation": "v",
         "showlegend": true,
         "type": "scatter",
         "x": [
          null
         ],
         "xaxis": "x",
         "y": [
          183.525
         ],
         "yaxis": "y"
        },
        {
         "hovertemplate": "Category=Digital,Art,Painting,AI,Collectibles<br>Floor_Price_USD=%{x}<br>Average_Price_USD=%{y}<extra></extra>",
         "legendgroup": "Digital,Art,Painting,AI,Collectibles",
         "marker": {
          "color": "#FFA15A",
          "symbol": "circle"
         },
         "mode": "markers",
         "name": "Digital,Art,Painting,AI,Collectibles",
         "orientation": "v",
         "showlegend": true,
         "type": "scatter",
         "x": [
          73.41
         ],
         "xaxis": "x",
         "y": [
          91.7625
         ],
         "yaxis": "y"
        },
        {
         "hovertemplate": "Category=Art,Digital,Collectibles,Picture,Drawing<br>Floor_Price_USD=%{x}<br>Average_Price_USD=%{y}<extra></extra>",
         "legendgroup": "Art,Digital,Collectibles,Picture,Drawing",
         "marker": {
          "color": "#19d3f3",
          "symbol": "circle"
         },
         "mode": "markers",
         "name": "Art,Digital,Collectibles,Picture,Drawing",
         "orientation": "v",
         "showlegend": true,
         "type": "scatter",
         "x": [
          440.46
         ],
         "xaxis": "x",
         "y": [
          734.1
         ],
         "yaxis": "y"
        },
        {
         "hovertemplate": "Category=2D,Video,Immaterial,Ticket,Metaverse,Image,Art,Collectibles<br>Floor_Price_USD=%{x}<br>Average_Price_USD=%{y}<extra></extra>",
         "legendgroup": "2D,Video,Immaterial,Ticket,Metaverse,Image,Art,Collectibles",
         "marker": {
          "color": "#FF6692",
          "symbol": "circle"
         },
         "mode": "markers",
         "name": "2D,Video,Immaterial,Ticket,Metaverse,Image,Art,Collectibles",
         "orientation": "v",
         "showlegend": true,
         "type": "scatter",
         "x": [
          14.682
         ],
         "xaxis": "x",
         "y": [
          25.95567857
         ],
         "yaxis": "y"
        },
        {
         "hovertemplate": "Category=Digital,Metaverse,Art,Collectibles,2D<br>Floor_Price_USD=%{x}<br>Average_Price_USD=%{y}<extra></extra>",
         "legendgroup": "Digital,Metaverse,Art,Collectibles,2D",
         "marker": {
          "color": "#B6E880",
          "symbol": "circle"
         },
         "mode": "markers",
         "name": "Digital,Metaverse,Art,Collectibles,2D",
         "orientation": "v",
         "showlegend": true,
         "type": "scatter",
         "x": [
          5.8728
         ],
         "xaxis": "x",
         "y": [
          17.54310769
         ],
         "yaxis": "y"
        },
        {
         "hovertemplate": "Category=Art,Metaverse,Digital,2D,Image,Collectibles<br>Floor_Price_USD=%{x}<br>Average_Price_USD=%{y}<extra></extra>",
         "legendgroup": "Art,Metaverse,Digital,2D,Image,Collectibles",
         "marker": {
          "color": "#FF97FF",
          "symbol": "circle"
         },
         "mode": "markers",
         "name": "Art,Metaverse,Digital,2D,Image,Collectibles",
         "orientation": "v",
         "showlegend": true,
         "type": "scatter",
         "x": [
          24.9594
         ],
         "xaxis": "x",
         "y": [
          56.15865
         ],
         "yaxis": "y"
        },
        {
         "hovertemplate": "Category=Art,Collectibles,Photography<br>Floor_Price_USD=%{x}<br>Average_Price_USD=%{y}<extra></extra>",
         "legendgroup": "Art,Collectibles,Photography",
         "marker": {
          "color": "#FECB52",
          "symbol": "circle"
         },
         "mode": "markers",
         "name": "Art,Collectibles,Photography",
         "orientation": "v",
         "showlegend": true,
         "type": "scatter",
         "x": [
          67.5372
         ],
         "xaxis": "x",
         "y": [
          74.22566667
         ],
         "yaxis": "y"
        },
        {
         "hovertemplate": "Category=PFP,Collectibles,2D,Art<br>Floor_Price_USD=%{x}<br>Average_Price_USD=%{y}<extra></extra>",
         "legendgroup": "PFP,Collectibles,2D,Art",
         "marker": {
          "color": "#636efa",
          "symbol": "circle"
         },
         "mode": "markers",
         "name": "PFP,Collectibles,2D,Art",
         "orientation": "v",
         "showlegend": true,
         "type": "scatter",
         "x": [
          22.023
         ],
         "xaxis": "x",
         "y": [
          22.3773931
         ],
         "yaxis": "y"
        },
        {
         "hovertemplate": "Category=Art,Privilege,Metaverse<br>Floor_Price_USD=%{x}<br>Average_Price_USD=%{y}<extra></extra>",
         "legendgroup": "Art,Privilege,Metaverse",
         "marker": {
          "color": "#EF553B",
          "symbol": "circle"
         },
         "mode": "markers",
         "name": "Art,Privilege,Metaverse",
         "orientation": "v",
         "showlegend": true,
         "type": "scatter",
         "x": [
          660.69
         ],
         "xaxis": "x",
         "y": [
          64.6008
         ],
         "yaxis": "y"
        },
        {
         "hovertemplate": "Category=Ticket<br>Floor_Price_USD=%{x}<br>Average_Price_USD=%{y}<extra></extra>",
         "legendgroup": "Ticket",
         "marker": {
          "color": "#00cc96",
          "symbol": "circle"
         },
         "mode": "markers",
         "name": "Ticket",
         "orientation": "v",
         "showlegend": true,
         "type": "scatter",
         "x": [
          14.682
         ],
         "xaxis": "x",
         "y": [
          35.7262
         ],
         "yaxis": "y"
        },
        {
         "hovertemplate": "Category=Collectibles,Art,Digital,3D<br>Floor_Price_USD=%{x}<br>Average_Price_USD=%{y}<extra></extra>",
         "legendgroup": "Collectibles,Art,Digital,3D",
         "marker": {
          "color": "#ab63fa",
          "symbol": "circle"
         },
         "mode": "markers",
         "name": "Collectibles,Art,Digital,3D",
         "orientation": "v",
         "showlegend": true,
         "type": "scatter",
         "x": [
          22.023
         ],
         "xaxis": "x",
         "y": [
          25.999375
         ],
         "yaxis": "y"
        },
        {
         "hovertemplate": "Category=Digital,Art,2D,Collectibles<br>Floor_Price_USD=%{x}<br>Average_Price_USD=%{y}<extra></extra>",
         "legendgroup": "Digital,Art,2D,Collectibles",
         "marker": {
          "color": "#FFA15A",
          "symbol": "circle"
         },
         "mode": "markers",
         "name": "Digital,Art,2D,Collectibles",
         "orientation": "v",
         "showlegend": true,
         "type": "scatter",
         "x": [
          19.0866
         ],
         "xaxis": "x",
         "y": [
          39.6414
         ],
         "yaxis": "y"
        },
        {
         "hovertemplate": "Category=Digital,Art,Design,Trading Cards,Collectibles,Physical<br>Floor_Price_USD=%{x}<br>Average_Price_USD=%{y}<extra></extra>",
         "legendgroup": "Digital,Art,Design,Trading Cards,Collectibles,Physical",
         "marker": {
          "color": "#19d3f3",
          "symbol": "circle"
         },
         "mode": "markers",
         "name": "Digital,Art,Design,Trading Cards,Collectibles,Physical",
         "orientation": "v",
         "showlegend": true,
         "type": "scatter",
         "x": [
          null
         ],
         "xaxis": "x",
         "y": [
          587.28
         ],
         "yaxis": "y"
        },
        {
         "hovertemplate": "Category=Collectibles,Digital<br>Floor_Price_USD=%{x}<br>Average_Price_USD=%{y}<extra></extra>",
         "legendgroup": "Collectibles,Digital",
         "marker": {
          "color": "#FF6692",
          "symbol": "circle"
         },
         "mode": "markers",
         "name": "Collectibles,Digital",
         "orientation": "v",
         "showlegend": true,
         "type": "scatter",
         "x": [
          24.9594
         ],
         "xaxis": "x",
         "y": [
          44.72363077
         ],
         "yaxis": "y"
        },
        {
         "hovertemplate": "Category=Digital,Art,Collectibles,Graphics,2D,Drawing<br>Floor_Price_USD=%{x}<br>Average_Price_USD=%{y}<extra></extra>",
         "legendgroup": "Digital,Art,Collectibles,Graphics,2D,Drawing",
         "marker": {
          "color": "#B6E880",
          "symbol": "circle"
         },
         "mode": "markers",
         "name": "Digital,Art,Collectibles,Graphics,2D,Drawing",
         "orientation": "v",
         "showlegend": true,
         "type": "scatter",
         "x": [
          29.364
         ],
         "xaxis": "x",
         "y": [
          36.31348
         ],
         "yaxis": "y"
        },
        {
         "hovertemplate": "Category=Digital,Art,Image<br>Floor_Price_USD=%{x}<br>Average_Price_USD=%{y}<extra></extra>",
         "legendgroup": "Digital,Art,Image",
         "marker": {
          "color": "#FF97FF",
          "symbol": "circle"
         },
         "mode": "markers",
         "name": "Digital,Art,Image",
         "orientation": "v",
         "showlegend": true,
         "type": "scatter",
         "x": [
          29.364
         ],
         "xaxis": "x",
         "y": [
          35.55141429
         ],
         "yaxis": "y"
        },
        {
         "hovertemplate": "Category=Metaverse,P2E,Art<br>Floor_Price_USD=%{x}<br>Average_Price_USD=%{y}<extra></extra>",
         "legendgroup": "Metaverse,P2E,Art",
         "marker": {
          "color": "#FECB52",
          "symbol": "circle"
         },
         "mode": "markers",
         "name": "Metaverse,P2E,Art",
         "orientation": "v",
         "showlegend": true,
         "type": "scatter",
         "x": [
          29.364
         ],
         "xaxis": "x",
         "y": [
          37.15675385
         ],
         "yaxis": "y"
        },
        {
         "hovertemplate": "Category=Art,Collectibles,2D,PFP<br>Floor_Price_USD=%{x}<br>Average_Price_USD=%{y}<extra></extra>",
         "legendgroup": "Art,Collectibles,2D,PFP",
         "marker": {
          "color": "#636efa",
          "symbol": "circle"
         },
         "mode": "markers",
         "name": "Art,Collectibles,2D,PFP",
         "orientation": "v",
         "showlegend": true,
         "type": "scatter",
         "x": [
          11.7456
         ],
         "xaxis": "x",
         "y": [
          17.14647857
         ],
         "yaxis": "y"
        },
        {
         "hovertemplate": "Category=Art,Pixel Art,Digital,2D<br>Floor_Price_USD=%{x}<br>Average_Price_USD=%{y}<extra></extra>",
         "legendgroup": "Art,Pixel Art,Digital,2D",
         "marker": {
          "color": "#EF553B",
          "symbol": "circle"
         },
         "mode": "markers",
         "name": "Art,Pixel Art,Digital,2D",
         "orientation": "v",
         "showlegend": true,
         "type": "scatter",
         "x": [
          146.82
         ],
         "xaxis": "x",
         "y": [
          31.02796
         ],
         "yaxis": "y"
        },
        {
         "hovertemplate": "Category=Digital,Art,PFP,3D<br>Floor_Price_USD=%{x}<br>Average_Price_USD=%{y}<extra></extra>",
         "legendgroup": "Digital,Art,PFP,3D",
         "marker": {
          "color": "#00cc96",
          "symbol": "circle"
         },
         "mode": "markers",
         "name": "Digital,Art,PFP,3D",
         "orientation": "v",
         "showlegend": true,
         "type": "scatter",
         "x": [
          66.069
         ],
         "xaxis": "x",
         "y": [
          110.115
         ],
         "yaxis": "y"
        },
        {
         "hovertemplate": "Category=Digital,Art,PFP,2D,Drawing,Image,Collectibles,Street Art<br>Floor_Price_USD=%{x}<br>Average_Price_USD=%{y}<extra></extra>",
         "legendgroup": "Digital,Art,PFP,2D,Drawing,Image,Collectibles,Street Art",
         "marker": {
          "color": "#ab63fa",
          "symbol": "circle"
         },
         "mode": "markers",
         "name": "Digital,Art,PFP,2D,Drawing,Image,Collectibles,Street Art",
         "orientation": "v",
         "showlegend": true,
         "type": "scatter",
         "x": [
          33.7686
         ],
         "xaxis": "x",
         "y": [
          31.46142857
         ],
         "yaxis": "y"
        },
        {
         "hovertemplate": "Category=Digital,Art,Collectibles,PFP<br>Floor_Price_USD=%{x}<br>Average_Price_USD=%{y}<extra></extra>",
         "legendgroup": "Digital,Art,Collectibles,PFP",
         "marker": {
          "color": "#FFA15A",
          "symbol": "circle"
         },
         "mode": "markers",
         "name": "Digital,Art,Collectibles,PFP",
         "orientation": "v",
         "showlegend": true,
         "type": "scatter",
         "x": [
          11.7456
         ],
         "xaxis": "x",
         "y": [
          4.640862069
         ],
         "yaxis": "y"
        },
        {
         "hovertemplate": "Category=Digital,3D,2D,Graphics,Metaverse<br>Floor_Price_USD=%{x}<br>Average_Price_USD=%{y}<extra></extra>",
         "legendgroup": "Digital,3D,2D,Graphics,Metaverse",
         "marker": {
          "color": "#19d3f3",
          "symbol": "circle"
         },
         "mode": "markers",
         "name": "Digital,3D,2D,Graphics,Metaverse",
         "orientation": "v",
         "showlegend": true,
         "type": "scatter",
         "x": [
          29.364
         ],
         "xaxis": "x",
         "y": [
          35.37027273
         ],
         "yaxis": "y"
        },
        {
         "hovertemplate": "Category=Art,Collectibles,Painting,Print,Design,Image,Picture,AI,Digital,Graphics,Metaverse<br>Floor_Price_USD=%{x}<br>Average_Price_USD=%{y}<extra></extra>",
         "legendgroup": "Art,Collectibles,Painting,Print,Design,Image,Picture,AI,Digital,Graphics,Metaverse",
         "marker": {
          "color": "#FF6692",
          "symbol": "circle"
         },
         "mode": "markers",
         "name": "Art,Collectibles,Painting,Print,Design,Image,Picture,AI,Digital,Graphics,Metaverse",
         "orientation": "v",
         "showlegend": true,
         "type": "scatter",
         "x": [
          73.41
         ],
         "xaxis": "x",
         "y": [
          73.41
         ],
         "yaxis": "y"
        },
        {
         "hovertemplate": "Category=Digital,Metaverse,Collectibles,Art,3D<br>Floor_Price_USD=%{x}<br>Average_Price_USD=%{y}<extra></extra>",
         "legendgroup": "Digital,Metaverse,Collectibles,Art,3D",
         "marker": {
          "color": "#B6E880",
          "symbol": "circle"
         },
         "mode": "markers",
         "name": "Digital,Metaverse,Collectibles,Art,3D",
         "orientation": "v",
         "showlegend": true,
         "type": "scatter",
         "x": [
          146.82
         ],
         "xaxis": "x",
         "y": [
          146.82
         ],
         "yaxis": "y"
        },
        {
         "hovertemplate": "Category=Digital,Physical,Art,Painting<br>Floor_Price_USD=%{x}<br>Average_Price_USD=%{y}<extra></extra>",
         "legendgroup": "Digital,Physical,Art,Painting",
         "marker": {
          "color": "#FF97FF",
          "symbol": "circle"
         },
         "mode": "markers",
         "name": "Digital,Physical,Art,Painting",
         "orientation": "v",
         "showlegend": true,
         "type": "scatter",
         "x": [
          73.41
         ],
         "xaxis": "x",
         "y": [
          102.774
         ],
         "yaxis": "y"
        },
        {
         "hovertemplate": "Category=Digital,Privilege,3D,Video,Collectibles<br>Floor_Price_USD=%{x}<br>Average_Price_USD=%{y}<extra></extra>",
         "legendgroup": "Digital,Privilege,3D,Video,Collectibles",
         "marker": {
          "color": "#FECB52",
          "symbol": "circle"
         },
         "mode": "markers",
         "name": "Digital,Privilege,3D,Video,Collectibles",
         "orientation": "v",
         "showlegend": true,
         "type": "scatter",
         "x": [
          45.5142
         ],
         "xaxis": "x",
         "y": [
          88.092
         ],
         "yaxis": "y"
        },
        {
         "hovertemplate": "Category=2D,Art,Digital,Collectibles,Drawing<br>Floor_Price_USD=%{x}<br>Average_Price_USD=%{y}<extra></extra>",
         "legendgroup": "2D,Art,Digital,Collectibles,Drawing",
         "marker": {
          "color": "#636efa",
          "symbol": "circle"
         },
         "mode": "markers",
         "name": "2D,Art,Digital,Collectibles,Drawing",
         "orientation": "v",
         "showlegend": true,
         "type": "scatter",
         "x": [
          null
         ],
         "xaxis": "x",
         "y": [
          0
         ],
         "yaxis": "y"
        },
        {
         "hovertemplate": "Category=Art,PFP,2D<br>Floor_Price_USD=%{x}<br>Average_Price_USD=%{y}<extra></extra>",
         "legendgroup": "Art,PFP,2D",
         "marker": {
          "color": "#EF553B",
          "symbol": "circle"
         },
         "mode": "markers",
         "name": "Art,PFP,2D",
         "orientation": "v",
         "showlegend": true,
         "type": "scatter",
         "x": [
          29.364
         ],
         "xaxis": "x",
         "y": [
          0
         ],
         "yaxis": "y"
        }
       ],
       "layout": {
        "legend": {
         "title": {
          "text": "Category"
         },
         "tracegroupgap": 0
        },
        "margin": {
         "t": 60
        },
        "template": {
         "data": {
          "bar": [
           {
            "error_x": {
             "color": "#2a3f5f"
            },
            "error_y": {
             "color": "#2a3f5f"
            },
            "marker": {
             "line": {
              "color": "#E5ECF6",
              "width": 0.5
             },
             "pattern": {
              "fillmode": "overlay",
              "size": 10,
              "solidity": 0.2
             }
            },
            "type": "bar"
           }
          ],
          "barpolar": [
           {
            "marker": {
             "line": {
              "color": "#E5ECF6",
              "width": 0.5
             },
             "pattern": {
              "fillmode": "overlay",
              "size": 10,
              "solidity": 0.2
             }
            },
            "type": "barpolar"
           }
          ],
          "carpet": [
           {
            "aaxis": {
             "endlinecolor": "#2a3f5f",
             "gridcolor": "white",
             "linecolor": "white",
             "minorgridcolor": "white",
             "startlinecolor": "#2a3f5f"
            },
            "baxis": {
             "endlinecolor": "#2a3f5f",
             "gridcolor": "white",
             "linecolor": "white",
             "minorgridcolor": "white",
             "startlinecolor": "#2a3f5f"
            },
            "type": "carpet"
           }
          ],
          "choropleth": [
           {
            "colorbar": {
             "outlinewidth": 0,
             "ticks": ""
            },
            "type": "choropleth"
           }
          ],
          "contour": [
           {
            "colorbar": {
             "outlinewidth": 0,
             "ticks": ""
            },
            "colorscale": [
             [
              0,
              "#0d0887"
             ],
             [
              0.1111111111111111,
              "#46039f"
             ],
             [
              0.2222222222222222,
              "#7201a8"
             ],
             [
              0.3333333333333333,
              "#9c179e"
             ],
             [
              0.4444444444444444,
              "#bd3786"
             ],
             [
              0.5555555555555556,
              "#d8576b"
             ],
             [
              0.6666666666666666,
              "#ed7953"
             ],
             [
              0.7777777777777778,
              "#fb9f3a"
             ],
             [
              0.8888888888888888,
              "#fdca26"
             ],
             [
              1,
              "#f0f921"
             ]
            ],
            "type": "contour"
           }
          ],
          "contourcarpet": [
           {
            "colorbar": {
             "outlinewidth": 0,
             "ticks": ""
            },
            "type": "contourcarpet"
           }
          ],
          "heatmap": [
           {
            "colorbar": {
             "outlinewidth": 0,
             "ticks": ""
            },
            "colorscale": [
             [
              0,
              "#0d0887"
             ],
             [
              0.1111111111111111,
              "#46039f"
             ],
             [
              0.2222222222222222,
              "#7201a8"
             ],
             [
              0.3333333333333333,
              "#9c179e"
             ],
             [
              0.4444444444444444,
              "#bd3786"
             ],
             [
              0.5555555555555556,
              "#d8576b"
             ],
             [
              0.6666666666666666,
              "#ed7953"
             ],
             [
              0.7777777777777778,
              "#fb9f3a"
             ],
             [
              0.8888888888888888,
              "#fdca26"
             ],
             [
              1,
              "#f0f921"
             ]
            ],
            "type": "heatmap"
           }
          ],
          "heatmapgl": [
           {
            "colorbar": {
             "outlinewidth": 0,
             "ticks": ""
            },
            "colorscale": [
             [
              0,
              "#0d0887"
             ],
             [
              0.1111111111111111,
              "#46039f"
             ],
             [
              0.2222222222222222,
              "#7201a8"
             ],
             [
              0.3333333333333333,
              "#9c179e"
             ],
             [
              0.4444444444444444,
              "#bd3786"
             ],
             [
              0.5555555555555556,
              "#d8576b"
             ],
             [
              0.6666666666666666,
              "#ed7953"
             ],
             [
              0.7777777777777778,
              "#fb9f3a"
             ],
             [
              0.8888888888888888,
              "#fdca26"
             ],
             [
              1,
              "#f0f921"
             ]
            ],
            "type": "heatmapgl"
           }
          ],
          "histogram": [
           {
            "marker": {
             "pattern": {
              "fillmode": "overlay",
              "size": 10,
              "solidity": 0.2
             }
            },
            "type": "histogram"
           }
          ],
          "histogram2d": [
           {
            "colorbar": {
             "outlinewidth": 0,
             "ticks": ""
            },
            "colorscale": [
             [
              0,
              "#0d0887"
             ],
             [
              0.1111111111111111,
              "#46039f"
             ],
             [
              0.2222222222222222,
              "#7201a8"
             ],
             [
              0.3333333333333333,
              "#9c179e"
             ],
             [
              0.4444444444444444,
              "#bd3786"
             ],
             [
              0.5555555555555556,
              "#d8576b"
             ],
             [
              0.6666666666666666,
              "#ed7953"
             ],
             [
              0.7777777777777778,
              "#fb9f3a"
             ],
             [
              0.8888888888888888,
              "#fdca26"
             ],
             [
              1,
              "#f0f921"
             ]
            ],
            "type": "histogram2d"
           }
          ],
          "histogram2dcontour": [
           {
            "colorbar": {
             "outlinewidth": 0,
             "ticks": ""
            },
            "colorscale": [
             [
              0,
              "#0d0887"
             ],
             [
              0.1111111111111111,
              "#46039f"
             ],
             [
              0.2222222222222222,
              "#7201a8"
             ],
             [
              0.3333333333333333,
              "#9c179e"
             ],
             [
              0.4444444444444444,
              "#bd3786"
             ],
             [
              0.5555555555555556,
              "#d8576b"
             ],
             [
              0.6666666666666666,
              "#ed7953"
             ],
             [
              0.7777777777777778,
              "#fb9f3a"
             ],
             [
              0.8888888888888888,
              "#fdca26"
             ],
             [
              1,
              "#f0f921"
             ]
            ],
            "type": "histogram2dcontour"
           }
          ],
          "mesh3d": [
           {
            "colorbar": {
             "outlinewidth": 0,
             "ticks": ""
            },
            "type": "mesh3d"
           }
          ],
          "parcoords": [
           {
            "line": {
             "colorbar": {
              "outlinewidth": 0,
              "ticks": ""
             }
            },
            "type": "parcoords"
           }
          ],
          "pie": [
           {
            "automargin": true,
            "type": "pie"
           }
          ],
          "scatter": [
           {
            "marker": {
             "colorbar": {
              "outlinewidth": 0,
              "ticks": ""
             }
            },
            "type": "scatter"
           }
          ],
          "scatter3d": [
           {
            "line": {
             "colorbar": {
              "outlinewidth": 0,
              "ticks": ""
             }
            },
            "marker": {
             "colorbar": {
              "outlinewidth": 0,
              "ticks": ""
             }
            },
            "type": "scatter3d"
           }
          ],
          "scattercarpet": [
           {
            "marker": {
             "colorbar": {
              "outlinewidth": 0,
              "ticks": ""
             }
            },
            "type": "scattercarpet"
           }
          ],
          "scattergeo": [
           {
            "marker": {
             "colorbar": {
              "outlinewidth": 0,
              "ticks": ""
             }
            },
            "type": "scattergeo"
           }
          ],
          "scattergl": [
           {
            "marker": {
             "colorbar": {
              "outlinewidth": 0,
              "ticks": ""
             }
            },
            "type": "scattergl"
           }
          ],
          "scattermapbox": [
           {
            "marker": {
             "colorbar": {
              "outlinewidth": 0,
              "ticks": ""
             }
            },
            "type": "scattermapbox"
           }
          ],
          "scatterpolar": [
           {
            "marker": {
             "colorbar": {
              "outlinewidth": 0,
              "ticks": ""
             }
            },
            "type": "scatterpolar"
           }
          ],
          "scatterpolargl": [
           {
            "marker": {
             "colorbar": {
              "outlinewidth": 0,
              "ticks": ""
             }
            },
            "type": "scatterpolargl"
           }
          ],
          "scatterternary": [
           {
            "marker": {
             "colorbar": {
              "outlinewidth": 0,
              "ticks": ""
             }
            },
            "type": "scatterternary"
           }
          ],
          "surface": [
           {
            "colorbar": {
             "outlinewidth": 0,
             "ticks": ""
            },
            "colorscale": [
             [
              0,
              "#0d0887"
             ],
             [
              0.1111111111111111,
              "#46039f"
             ],
             [
              0.2222222222222222,
              "#7201a8"
             ],
             [
              0.3333333333333333,
              "#9c179e"
             ],
             [
              0.4444444444444444,
              "#bd3786"
             ],
             [
              0.5555555555555556,
              "#d8576b"
             ],
             [
              0.6666666666666666,
              "#ed7953"
             ],
             [
              0.7777777777777778,
              "#fb9f3a"
             ],
             [
              0.8888888888888888,
              "#fdca26"
             ],
             [
              1,
              "#f0f921"
             ]
            ],
            "type": "surface"
           }
          ],
          "table": [
           {
            "cells": {
             "fill": {
              "color": "#EBF0F8"
             },
             "line": {
              "color": "white"
             }
            },
            "header": {
             "fill": {
              "color": "#C8D4E3"
             },
             "line": {
              "color": "white"
             }
            },
            "type": "table"
           }
          ]
         },
         "layout": {
          "annotationdefaults": {
           "arrowcolor": "#2a3f5f",
           "arrowhead": 0,
           "arrowwidth": 1
          },
          "autotypenumbers": "strict",
          "coloraxis": {
           "colorbar": {
            "outlinewidth": 0,
            "ticks": ""
           }
          },
          "colorscale": {
           "diverging": [
            [
             0,
             "#8e0152"
            ],
            [
             0.1,
             "#c51b7d"
            ],
            [
             0.2,
             "#de77ae"
            ],
            [
             0.3,
             "#f1b6da"
            ],
            [
             0.4,
             "#fde0ef"
            ],
            [
             0.5,
             "#f7f7f7"
            ],
            [
             0.6,
             "#e6f5d0"
            ],
            [
             0.7,
             "#b8e186"
            ],
            [
             0.8,
             "#7fbc41"
            ],
            [
             0.9,
             "#4d9221"
            ],
            [
             1,
             "#276419"
            ]
           ],
           "sequential": [
            [
             0,
             "#0d0887"
            ],
            [
             0.1111111111111111,
             "#46039f"
            ],
            [
             0.2222222222222222,
             "#7201a8"
            ],
            [
             0.3333333333333333,
             "#9c179e"
            ],
            [
             0.4444444444444444,
             "#bd3786"
            ],
            [
             0.5555555555555556,
             "#d8576b"
            ],
            [
             0.6666666666666666,
             "#ed7953"
            ],
            [
             0.7777777777777778,
             "#fb9f3a"
            ],
            [
             0.8888888888888888,
             "#fdca26"
            ],
            [
             1,
             "#f0f921"
            ]
           ],
           "sequentialminus": [
            [
             0,
             "#0d0887"
            ],
            [
             0.1111111111111111,
             "#46039f"
            ],
            [
             0.2222222222222222,
             "#7201a8"
            ],
            [
             0.3333333333333333,
             "#9c179e"
            ],
            [
             0.4444444444444444,
             "#bd3786"
            ],
            [
             0.5555555555555556,
             "#d8576b"
            ],
            [
             0.6666666666666666,
             "#ed7953"
            ],
            [
             0.7777777777777778,
             "#fb9f3a"
            ],
            [
             0.8888888888888888,
             "#fdca26"
            ],
            [
             1,
             "#f0f921"
            ]
           ]
          },
          "colorway": [
           "#636efa",
           "#EF553B",
           "#00cc96",
           "#ab63fa",
           "#FFA15A",
           "#19d3f3",
           "#FF6692",
           "#B6E880",
           "#FF97FF",
           "#FECB52"
          ],
          "font": {
           "color": "#2a3f5f"
          },
          "geo": {
           "bgcolor": "white",
           "lakecolor": "white",
           "landcolor": "#E5ECF6",
           "showlakes": true,
           "showland": true,
           "subunitcolor": "white"
          },
          "hoverlabel": {
           "align": "left"
          },
          "hovermode": "closest",
          "mapbox": {
           "style": "light"
          },
          "paper_bgcolor": "white",
          "plot_bgcolor": "#E5ECF6",
          "polar": {
           "angularaxis": {
            "gridcolor": "white",
            "linecolor": "white",
            "ticks": ""
           },
           "bgcolor": "#E5ECF6",
           "radialaxis": {
            "gridcolor": "white",
            "linecolor": "white",
            "ticks": ""
           }
          },
          "scene": {
           "xaxis": {
            "backgroundcolor": "#E5ECF6",
            "gridcolor": "white",
            "gridwidth": 2,
            "linecolor": "white",
            "showbackground": true,
            "ticks": "",
            "zerolinecolor": "white"
           },
           "yaxis": {
            "backgroundcolor": "#E5ECF6",
            "gridcolor": "white",
            "gridwidth": 2,
            "linecolor": "white",
            "showbackground": true,
            "ticks": "",
            "zerolinecolor": "white"
           },
           "zaxis": {
            "backgroundcolor": "#E5ECF6",
            "gridcolor": "white",
            "gridwidth": 2,
            "linecolor": "white",
            "showbackground": true,
            "ticks": "",
            "zerolinecolor": "white"
           }
          },
          "shapedefaults": {
           "line": {
            "color": "#2a3f5f"
           }
          },
          "ternary": {
           "aaxis": {
            "gridcolor": "white",
            "linecolor": "white",
            "ticks": ""
           },
           "baxis": {
            "gridcolor": "white",
            "linecolor": "white",
            "ticks": ""
           },
           "bgcolor": "#E5ECF6",
           "caxis": {
            "gridcolor": "white",
            "linecolor": "white",
            "ticks": ""
           }
          },
          "title": {
           "x": 0.05
          },
          "xaxis": {
           "automargin": true,
           "gridcolor": "white",
           "linecolor": "white",
           "ticks": "",
           "title": {
            "standoff": 15
           },
           "zerolinecolor": "white",
           "zerolinewidth": 2
          },
          "yaxis": {
           "automargin": true,
           "gridcolor": "white",
           "linecolor": "white",
           "ticks": "",
           "title": {
            "standoff": 15
           },
           "zerolinecolor": "white",
           "zerolinewidth": 2
          }
         }
        },
        "xaxis": {
         "anchor": "y",
         "domain": [
          0,
          1
         ],
         "title": {
          "text": "Floor_Price_USD"
         }
        },
        "yaxis": {
         "anchor": "x",
         "domain": [
          0,
          1
         ],
         "range": [
          0,
          15000
         ],
         "title": {
          "text": "Average_Price_USD"
         }
        }
       }
      },
      "text/html": [
       "<div>                            <div id=\"f5a047b5-25f2-4495-a5b7-b8b958bf66a3\" class=\"plotly-graph-div\" style=\"height:525px; width:100%;\"></div>            <script type=\"text/javascript\">                require([\"plotly\"], function(Plotly) {                    window.PLOTLYENV=window.PLOTLYENV || {};                                    if (document.getElementById(\"f5a047b5-25f2-4495-a5b7-b8b958bf66a3\")) {                    Plotly.newPlot(                        \"f5a047b5-25f2-4495-a5b7-b8b958bf66a3\",                        [{\"hovertemplate\":\"Category=Collectibles,Digital,Privilege<br>Floor_Price_USD=%{x}<br>Average_Price_USD=%{y}<extra></extra>\",\"legendgroup\":\"Collectibles,Digital,Privilege\",\"marker\":{\"color\":\"#636efa\",\"symbol\":\"circle\"},\"mode\":\"markers\",\"name\":\"Collectibles,Digital,Privilege\",\"orientation\":\"v\",\"showlegend\":true,\"x\":[5799.39],\"xaxis\":\"x\",\"y\":[10933.9301],\"yaxis\":\"y\",\"type\":\"scatter\"},{\"hovertemplate\":\"Category=Unknown<br>Floor_Price_USD=%{x}<br>Average_Price_USD=%{y}<extra></extra>\",\"legendgroup\":\"Unknown\",\"marker\":{\"color\":\"#EF553B\",\"symbol\":\"circle\"},\"mode\":\"markers\",\"name\":\"Unknown\",\"orientation\":\"v\",\"showlegend\":true,\"x\":[98.3694,117.456,556.4478,631.326,88.092,5.8728,14.682,35.2368,189.3978,220.23,36.705,14.682,1321.38,176.184,30.8322,33.7686,102.774,null,null,41.1096,98.3694,null,36.705,null,null,13.2138,27.8958,29.364,248.1258,220.23,4.4046,513.87,7.341,44.046,8.8092,1174.56,337.686,1468.2,20.5548,22.023,140.9472,60.1962,293.64,95.433,16.1502,null,5.8728,381.732,58.728,null,55.7916,4.4046,5.8728,146.82,5138.7,17.6184,null,7194.18,null,14.682,190.866,29.364,27.8958,14.682,null,700.3314,117.456,4.4046,1174.56,95.433,132.138,null,66.069,14.682,11.7456,207.0162,14.682,880.92,102.774,74.8782,null,null,176.184,19.0866,7.341,null,11.7456,24.9594,null,190.866,19.0866,14.682,null,null,22.023,null,734.1,44.046,11.7456,8.8092,264.276,60.1962,6606.9,440.46,14.682,58.728,14.682,51.387,2936.4,null,42.5778,17.6184,71.9418,33.7686,null,110.115,1174.56,11.7456,null,278.958,1468.2,4.4046,29.364,7.341,2.9364,58.728,32.3004,146.82,49.9188,146.82,4.4046,11.7456,155.6292,22.023,14.682,220.23,95.433,880.92,5.8728,57.2598,58.728,22.023,22.023,null,145.3518,14.682,176.184,88.092,4.4046,17.6184,null,734.1,146.82,44.046,10.2774,42.5778,36.705,null,95.433,null,2.9364,13.2138,132.138,13.2138,11.7456,44.046,80.751,42.5778,616.644,null,36.705,19.0866,29.364,143.8836,null,58.728,22.023,4.4046,161.502,null,7.341,41.1096,2.9364,2.9364,249.594,365.5818,null,36.705,13.2138,146.82,2.9364,146.82,null,1321.38,176.184,1140.7914,79.2828,54.3234,585.8118,88.092,10.2774,22.023,146.82,4.4046,64.6008,2.9364,4.4046,44.046,293.64,88.092,71.9418,5.8728,7.341,null,8.8092,734.1,2.9364,2936.4,null,146.82,212.889,null,102.774,5.8728,36.705,14.682,7.341,130.6698,29.364,8.8092,146.82,146.82,96.9012,7.341,146.82,146.82,29.364,14.682,10.2774,88.092,58.728,22.023,13.2138,132.138,44.046,10.2774,29.364,293.64,22.023,29.364,1174.56,145.3518,69.0054,58.728,14.682,24.9594,8.8092,146.82,4.4046,411.096,5.8728,108.6468,null,14.682,22.023,36.705,42.5778,20.5548,4.4046,80.751,101.3058,44.046,11.7456,14.682,22.023,183.525,null,88.092,73.41,86.6238,585.8118,205.548],\"xaxis\":\"x\",\"y\":[805.2988554,657.1942392,1388.196109,642.6949835,239.7721769,59.43023144,195.620641,88.73313758,400.9218905,143.1229663,115.0678519,119.2325834,1000.147162,277.2854986,216.763658,242.6343945,220.1928304,51019.95,706.2992633,173.0535775,141.4282485,1441.079853,242.7264586,768.541525,692.8717576,85.00501538,129.7426823,70.60258915,512.8336235,585.5148607,133.6561649,960.2028,54.40687625,298.025024,39.16883122,212.5360673,369.0076,103.339318,204.9720762,232.9977646,329.024967,346.5097366,243.8701478,629.3868679,365.5818,351.5062304,79.24681471,129.0384667,81.06135122,261.0514486,407.3049761,17.66710806,48.70606119,260.7341567,6221.13045,93.34502705,343.6265631,7243.12,332.8225875,31.43441876,96.3282439,125.2769885,23.24915018,78.31608395,4478.01,937.7161579,699.391752,56.92921192,1195.534286,282.4418644,153.4269,177.5037303,100.043335,266.9845759,15.33716452,300.4811872,121.7201635,382.2214,287.6040667,319.84737,339.5906919,1386.633333,589.4473429,50.01507541,20.70512765,665.5024333,16.73166535,102.7047453,174.2658677,274.4374895,59.30689029,266.1305684,322.0252,1060.223925,60.49627007,498.4539,734.1,111.9220154,59.4621,74.8157234,387.4416667,165.2773714,372.4334,244.2106,71.8449956,69.53203696,79.65926154,102.38248,469.824,237.437304,108.5380444,52.72292973,73.1347125,122.6415574,2866.6605,89.44549688,710.792325,14.204835,116.293675,185.53154,146.82,42.636528,75.58935938,7.88945157,5.8177425,127.5702667,152.00764,244.7,77.44755,848.32596,16.59353882,117.3301543,228.8664706,61.05847619,41.66815435,200.7570316,122.98622,523.0986857,19.76911459,152.019875,113.382929,106.3777636,188.0111667,1076.68,221.1738429,198.50064,144.6177,111.1879154,6.170977483,39.22782254,396.414,56.89275,545.87676,336.401325,68.70423077,73.36921667,51.55972941,67.0478,33.39213846,519.7428,23.92057925,68.84226667,609.303,45.62500755,241.66572,156.51012,121.8606,229.33284,226.1028,220.9641,30.281625,34.95263226,60.15541667,144.17724,125.2288235,71.48615172,34.11118,8.61634322,251.42925,198.207,40.7731375,68.06155714,62.6432,4.742824084,200.654,163.7710364,246.4478571,83.6874,47.44383429,165.1725,2.976587956,807.51,146.82,533.446,122.7641077,783.2847,73.75957143,95.433,249.3493,158.8918667,7.946528814,61.02605217,172.5135,13.3882396,103.9033846,3.163867606,7.385222892,130.6698,293.64,232.56288,66.58718824,29.24495676,82.44507692,357.262,56.17796842,174.9605,4.11096,1027.74,1027.74,146.82,342.58,113.7039333,102.18672,23.04732558,49.1847,43.97926364,20.42984681,135.0744,75.857,25.95259412,146.82,146.82,106.995075,17.6496383,82.07238,161.502,29.25524444,20.43888947,29.47693846,109.0662857,42.16996667,108.0175714,17.15124545,187.1955,83.198,23.2159125,56.92098462,734.1,56.46923077,181.68975,120.1477,238.8272,353.1021,58.728,46.493,26.65347692,13.683624,36.705,17.85648649,330.345,34.7474,146.82,189.8872,24.82592727,18.02342069,72.36128571,53.038725,20.738325,9.788,73.41,131.4039,84.6662,12.02525714,16.6396,14.682,0.0,0.0,0.0,0.0,0.0,0.0,0.0],\"yaxis\":\"y\",\"type\":\"scatter\"},{\"hovertemplate\":\"Category=Art,Collectibles,Graphics,2D,Image<br>Floor_Price_USD=%{x}<br>Average_Price_USD=%{y}<extra></extra>\",\"legendgroup\":\"Art,Collectibles,Graphics,2D,Image\",\"marker\":{\"color\":\"#00cc96\",\"symbol\":\"circle\"},\"mode\":\"markers\",\"name\":\"Art,Collectibles,Graphics,2D,Image\",\"orientation\":\"v\",\"showlegend\":true,\"x\":[176.184],\"xaxis\":\"x\",\"y\":[302.2452544],\"yaxis\":\"y\",\"type\":\"scatter\"},{\"hovertemplate\":\"Category=3D,PFP,Metaverse,Art,Collectibles<br>Floor_Price_USD=%{x}<br>Average_Price_USD=%{y}<extra></extra>\",\"legendgroup\":\"3D,PFP,Metaverse,Art,Collectibles\",\"marker\":{\"color\":\"#ab63fa\",\"symbol\":\"circle\"},\"mode\":\"markers\",\"name\":\"3D,PFP,Metaverse,Art,Collectibles\",\"orientation\":\"v\",\"showlegend\":true,\"x\":[186.4614],\"xaxis\":\"x\",\"y\":[234.2756953],\"yaxis\":\"y\",\"type\":\"scatter\"},{\"hovertemplate\":\"Category=Digital,Metaverse,Art,Picture,Image<br>Floor_Price_USD=%{x}<br>Average_Price_USD=%{y}<extra></extra>\",\"legendgroup\":\"Digital,Metaverse,Art,Picture,Image\",\"marker\":{\"color\":\"#FFA15A\",\"symbol\":\"circle\"},\"mode\":\"markers\",\"name\":\"Digital,Metaverse,Art,Picture,Image\",\"orientation\":\"v\",\"showlegend\":true,\"x\":[146.82],\"xaxis\":\"x\",\"y\":[566.9283248],\"yaxis\":\"y\",\"type\":\"scatter\"},{\"hovertemplate\":\"Category=Art,Digital,PFP,3D<br>Floor_Price_USD=%{x}<br>Average_Price_USD=%{y}<extra></extra>\",\"legendgroup\":\"Art,Digital,PFP,3D\",\"marker\":{\"color\":\"#19d3f3\",\"symbol\":\"circle\"},\"mode\":\"markers\",\"name\":\"Art,Digital,PFP,3D\",\"orientation\":\"v\",\"showlegend\":true,\"x\":[218.7618],\"xaxis\":\"x\",\"y\":[490.5891097],\"yaxis\":\"y\",\"type\":\"scatter\"},{\"hovertemplate\":\"Category=Digital,Art,Metaverse,Collectibles,PFP,3D<br>Floor_Price_USD=%{x}<br>Average_Price_USD=%{y}<extra></extra>\",\"legendgroup\":\"Digital,Art,Metaverse,Collectibles,PFP,3D\",\"marker\":{\"color\":\"#FF6692\",\"symbol\":\"circle\"},\"mode\":\"markers\",\"name\":\"Digital,Art,Metaverse,Collectibles,PFP,3D\",\"orientation\":\"v\",\"showlegend\":true,\"x\":[2275.71],\"xaxis\":\"x\",\"y\":[2401.31451],\"yaxis\":\"y\",\"type\":\"scatter\"},{\"hovertemplate\":\"Category=Art,Music,Collectibles<br>Floor_Price_USD=%{x}<br>Average_Price_USD=%{y}<extra></extra>\",\"legendgroup\":\"Art,Music,Collectibles\",\"marker\":{\"color\":\"#B6E880\",\"symbol\":\"circle\"},\"mode\":\"markers\",\"name\":\"Art,Music,Collectibles\",\"orientation\":\"v\",\"showlegend\":true,\"x\":[14.682],\"xaxis\":\"x\",\"y\":[25.99218734],\"yaxis\":\"y\",\"type\":\"scatter\"},{\"hovertemplate\":\"Category=Privilege<br>Floor_Price_USD=%{x}<br>Average_Price_USD=%{y}<extra></extra>\",\"legendgroup\":\"Privilege\",\"marker\":{\"color\":\"#FF97FF\",\"symbol\":\"circle\"},\"mode\":\"markers\",\"name\":\"Privilege\",\"orientation\":\"v\",\"showlegend\":true,\"x\":[80.751],\"xaxis\":\"x\",\"y\":[102.4902547],\"yaxis\":\"y\",\"type\":\"scatter\"},{\"hovertemplate\":\"Category=Collectibles<br>Floor_Price_USD=%{x}<br>Average_Price_USD=%{y}<extra></extra>\",\"legendgroup\":\"Collectibles\",\"marker\":{\"color\":\"#FECB52\",\"symbol\":\"circle\"},\"mode\":\"markers\",\"name\":\"Collectibles\",\"orientation\":\"v\",\"showlegend\":true,\"x\":[7.341,146.82,61.6644,49.9188,8.8092,29.364,14.682,168.843,14.682],\"xaxis\":\"x\",\"y\":[19.43625566,173.4952062,176.3385474,150.0978419,12.21510569,47.38281818,146.9534727,712.077,17.49344681],\"yaxis\":\"y\",\"type\":\"scatter\"},{\"hovertemplate\":\"Category=Digital,Art<br>Floor_Price_USD=%{x}<br>Average_Price_USD=%{y}<extra></extra>\",\"legendgroup\":\"Digital,Art\",\"marker\":{\"color\":\"#636efa\",\"symbol\":\"circle\"},\"mode\":\"markers\",\"name\":\"Digital,Art\",\"orientation\":\"v\",\"showlegend\":true,\"x\":[734.1,88.092,24380.9292],\"xaxis\":\"x\",\"y\":[306.3644,148.4400828,1466.7318],\"yaxis\":\"y\",\"type\":\"scatter\"},{\"hovertemplate\":\"Category=AI,Pixel Art,Metaverse,Trading Cards<br>Floor_Price_USD=%{x}<br>Average_Price_USD=%{y}<extra></extra>\",\"legendgroup\":\"AI,Pixel Art,Metaverse,Trading Cards\",\"marker\":{\"color\":\"#EF553B\",\"symbol\":\"circle\"},\"mode\":\"markers\",\"name\":\"AI,Pixel Art,Metaverse,Trading Cards\",\"orientation\":\"v\",\"showlegend\":true,\"x\":[36.705],\"xaxis\":\"x\",\"y\":[229.8786818],\"yaxis\":\"y\",\"type\":\"scatter\"},{\"hovertemplate\":\"Category=Metaverse,Collectibles,PFP,3D,Design<br>Floor_Price_USD=%{x}<br>Average_Price_USD=%{y}<extra></extra>\",\"legendgroup\":\"Metaverse,Collectibles,PFP,3D,Design\",\"marker\":{\"color\":\"#00cc96\",\"symbol\":\"circle\"},\"mode\":\"markers\",\"name\":\"Metaverse,Collectibles,PFP,3D,Design\",\"orientation\":\"v\",\"showlegend\":true,\"x\":[73.41],\"xaxis\":\"x\",\"y\":[421.821201],\"yaxis\":\"y\",\"type\":\"scatter\"},{\"hovertemplate\":\"Category=Collectibles,Art,Digital,PFP<br>Floor_Price_USD=%{x}<br>Average_Price_USD=%{y}<extra></extra>\",\"legendgroup\":\"Collectibles,Art,Digital,PFP\",\"marker\":{\"color\":\"#ab63fa\",\"symbol\":\"circle\"},\"mode\":\"markers\",\"name\":\"Collectibles,Art,Digital,PFP\",\"orientation\":\"v\",\"showlegend\":true,\"x\":[124.797],\"xaxis\":\"x\",\"y\":[131.557313],\"yaxis\":\"y\",\"type\":\"scatter\"},{\"hovertemplate\":\"Category=Digital,Art,Collectibles,PFP,2D<br>Floor_Price_USD=%{x}<br>Average_Price_USD=%{y}<extra></extra>\",\"legendgroup\":\"Digital,Art,Collectibles,PFP,2D\",\"marker\":{\"color\":\"#FFA15A\",\"symbol\":\"circle\"},\"mode\":\"markers\",\"name\":\"Digital,Art,Collectibles,PFP,2D\",\"orientation\":\"v\",\"showlegend\":true,\"x\":[176.184],\"xaxis\":\"x\",\"y\":[214.6592297],\"yaxis\":\"y\",\"type\":\"scatter\"},{\"hovertemplate\":\"Category=Digital,Art,Collectibles<br>Floor_Price_USD=%{x}<br>Average_Price_USD=%{y}<extra></extra>\",\"legendgroup\":\"Digital,Art,Collectibles\",\"marker\":{\"color\":\"#19d3f3\",\"symbol\":\"circle\"},\"mode\":\"markers\",\"name\":\"Digital,Art,Collectibles\",\"orientation\":\"v\",\"showlegend\":true,\"x\":[115.9878,145.3518,27.8958,73.41,14.682,48.4506,29.364,44.046,null],\"xaxis\":\"x\",\"y\":[244.4166632,161.1735214,115.3101692,162.7786957,31.21433425,54.86873143,65.22196154,47.83490323,80.08363636],\"yaxis\":\"y\",\"type\":\"scatter\"},{\"hovertemplate\":\"Category=PFP,Digital,Collectibles,Ticket<br>Floor_Price_USD=%{x}<br>Average_Price_USD=%{y}<extra></extra>\",\"legendgroup\":\"PFP,Digital,Collectibles,Ticket\",\"marker\":{\"color\":\"#FF6692\",\"symbol\":\"circle\"},\"mode\":\"markers\",\"name\":\"PFP,Digital,Collectibles,Ticket\",\"orientation\":\"v\",\"showlegend\":true,\"x\":[83.6874],\"xaxis\":\"x\",\"y\":[186.4137827],\"yaxis\":\"y\",\"type\":\"scatter\"},{\"hovertemplate\":\"Category=Digital,Art,Collectibles,Trading Cards,3D,Video<br>Floor_Price_USD=%{x}<br>Average_Price_USD=%{y}<extra></extra>\",\"legendgroup\":\"Digital,Art,Collectibles,Trading Cards,3D,Video\",\"marker\":{\"color\":\"#B6E880\",\"symbol\":\"circle\"},\"mode\":\"markers\",\"name\":\"Digital,Art,Collectibles,Trading Cards,3D,Video\",\"orientation\":\"v\",\"showlegend\":true,\"x\":[44.046],\"xaxis\":\"x\",\"y\":[122.5743889],\"yaxis\":\"y\",\"type\":\"scatter\"},{\"hovertemplate\":\"Category=Collectibles,PFP<br>Floor_Price_USD=%{x}<br>Average_Price_USD=%{y}<extra></extra>\",\"legendgroup\":\"Collectibles,PFP\",\"marker\":{\"color\":\"#FF97FF\",\"symbol\":\"circle\"},\"mode\":\"markers\",\"name\":\"Collectibles,PFP\",\"orientation\":\"v\",\"showlegend\":true,\"x\":[22.023,64.6008,69.0054],\"xaxis\":\"x\",\"y\":[50.06459686,63.536355,82.8164339],\"yaxis\":\"y\",\"type\":\"scatter\"},{\"hovertemplate\":\"Category=Art,Collectibles,Photography,Metaverse,Performance,3D,Drawing,Digital<br>Floor_Price_USD=%{x}<br>Average_Price_USD=%{y}<extra></extra>\",\"legendgroup\":\"Art,Collectibles,Photography,Metaverse,Performance,3D,Drawing,Digital\",\"marker\":{\"color\":\"#FECB52\",\"symbol\":\"circle\"},\"mode\":\"markers\",\"name\":\"Art,Collectibles,Photography,Metaverse,Performance,3D,Drawing,Digital\",\"orientation\":\"v\",\"showlegend\":true,\"x\":[3964.14],\"xaxis\":\"x\",\"y\":[5018.574545],\"yaxis\":\"y\",\"type\":\"scatter\"},{\"hovertemplate\":\"Category=Art,Digital,Graphics,Collectibles<br>Floor_Price_USD=%{x}<br>Average_Price_USD=%{y}<extra></extra>\",\"legendgroup\":\"Art,Digital,Graphics,Collectibles\",\"marker\":{\"color\":\"#636efa\",\"symbol\":\"circle\"},\"mode\":\"markers\",\"name\":\"Art,Digital,Graphics,Collectibles\",\"orientation\":\"v\",\"showlegend\":true,\"x\":[71.9418],\"xaxis\":\"x\",\"y\":[72.84284486],\"yaxis\":\"y\",\"type\":\"scatter\"},{\"hovertemplate\":\"Category=Metaverse,Privilege<br>Floor_Price_USD=%{x}<br>Average_Price_USD=%{y}<extra></extra>\",\"legendgroup\":\"Metaverse,Privilege\",\"marker\":{\"color\":\"#EF553B\",\"symbol\":\"circle\"},\"mode\":\"markers\",\"name\":\"Metaverse,Privilege\",\"orientation\":\"v\",\"showlegend\":true,\"x\":[48.4506],\"xaxis\":\"x\",\"y\":[242.8218314],\"yaxis\":\"y\",\"type\":\"scatter\"},{\"hovertemplate\":\"Category=Digital,Art,Collectibles,Painting,Image,Picture<br>Floor_Price_USD=%{x}<br>Average_Price_USD=%{y}<extra></extra>\",\"legendgroup\":\"Digital,Art,Collectibles,Painting,Image,Picture\",\"marker\":{\"color\":\"#00cc96\",\"symbol\":\"circle\"},\"mode\":\"markers\",\"name\":\"Digital,Art,Collectibles,Painting,Image,Picture\",\"orientation\":\"v\",\"showlegend\":true,\"x\":[440.46],\"xaxis\":\"x\",\"y\":[1214.411143],\"yaxis\":\"y\",\"type\":\"scatter\"},{\"hovertemplate\":\"Category=Collectibles,Digital,Metaverse,Art,Graphics,2D,Picture,Image,Design<br>Floor_Price_USD=%{x}<br>Average_Price_USD=%{y}<extra></extra>\",\"legendgroup\":\"Collectibles,Digital,Metaverse,Art,Graphics,2D,Picture,Image,Design\",\"marker\":{\"color\":\"#ab63fa\",\"symbol\":\"circle\"},\"mode\":\"markers\",\"name\":\"Collectibles,Digital,Metaverse,Art,Graphics,2D,Picture,Image,Design\",\"orientation\":\"v\",\"showlegend\":true,\"x\":[66.069],\"xaxis\":\"x\",\"y\":[102.8208574],\"yaxis\":\"y\",\"type\":\"scatter\"},{\"hovertemplate\":\"Category=Digital,Art,Collectibles,2D,PFP,Drawing,P2E,Design,Image,Metaverse<br>Floor_Price_USD=%{x}<br>Average_Price_USD=%{y}<extra></extra>\",\"legendgroup\":\"Digital,Art,Collectibles,2D,PFP,Drawing,P2E,Design,Image,Metaverse\",\"marker\":{\"color\":\"#FFA15A\",\"symbol\":\"circle\"},\"mode\":\"markers\",\"name\":\"Digital,Art,Collectibles,2D,PFP,Drawing,P2E,Design,Image,Metaverse\",\"orientation\":\"v\",\"showlegend\":true,\"x\":[44.046],\"xaxis\":\"x\",\"y\":[124.1844397],\"yaxis\":\"y\",\"type\":\"scatter\"},{\"hovertemplate\":\"Category=Art,Digital,Collectibles<br>Floor_Price_USD=%{x}<br>Average_Price_USD=%{y}<extra></extra>\",\"legendgroup\":\"Art,Digital,Collectibles\",\"marker\":{\"color\":\"#19d3f3\",\"symbol\":\"circle\"},\"mode\":\"markers\",\"name\":\"Art,Digital,Collectibles\",\"orientation\":\"v\",\"showlegend\":true,\"x\":[69.0054,293.64,146.82],\"xaxis\":\"x\",\"y\":[104.7147241,732.19134,146.82],\"yaxis\":\"y\",\"type\":\"scatter\"},{\"hovertemplate\":\"Category=2D,Collectibles,Graphics,PFP<br>Floor_Price_USD=%{x}<br>Average_Price_USD=%{y}<extra></extra>\",\"legendgroup\":\"2D,Collectibles,Graphics,PFP\",\"marker\":{\"color\":\"#FF6692\",\"symbol\":\"circle\"},\"mode\":\"markers\",\"name\":\"2D,Collectibles,Graphics,PFP\",\"orientation\":\"v\",\"showlegend\":true,\"x\":[33.7686],\"xaxis\":\"x\",\"y\":[34.61509128],\"yaxis\":\"y\",\"type\":\"scatter\"},{\"hovertemplate\":\"Category=Digital,Design,Art,Collectibles,Graphics<br>Floor_Price_USD=%{x}<br>Average_Price_USD=%{y}<extra></extra>\",\"legendgroup\":\"Digital,Design,Art,Collectibles,Graphics\",\"marker\":{\"color\":\"#B6E880\",\"symbol\":\"circle\"},\"mode\":\"markers\",\"name\":\"Digital,Design,Art,Collectibles,Graphics\",\"orientation\":\"v\",\"showlegend\":true,\"x\":[14.682],\"xaxis\":\"x\",\"y\":[127.244],\"yaxis\":\"y\",\"type\":\"scatter\"},{\"hovertemplate\":\"Category=P2E,Metaverse<br>Floor_Price_USD=%{x}<br>Average_Price_USD=%{y}<extra></extra>\",\"legendgroup\":\"P2E,Metaverse\",\"marker\":{\"color\":\"#FF97FF\",\"symbol\":\"circle\"},\"mode\":\"markers\",\"name\":\"P2E,Metaverse\",\"orientation\":\"v\",\"showlegend\":true,\"x\":[36.705],\"xaxis\":\"x\",\"y\":[123.0233715],\"yaxis\":\"y\",\"type\":\"scatter\"},{\"hovertemplate\":\"Category=Digital,Metaverse,P2E,Art<br>Floor_Price_USD=%{x}<br>Average_Price_USD=%{y}<extra></extra>\",\"legendgroup\":\"Digital,Metaverse,P2E,Art\",\"marker\":{\"color\":\"#FECB52\",\"symbol\":\"circle\"},\"mode\":\"markers\",\"name\":\"Digital,Metaverse,P2E,Art\",\"orientation\":\"v\",\"showlegend\":true,\"x\":[16.1502],\"xaxis\":\"x\",\"y\":[90.61004194],\"yaxis\":\"y\",\"type\":\"scatter\"},{\"hovertemplate\":\"Category=Digital,Art,PFP,2D,Design,Picture,Collectibles<br>Floor_Price_USD=%{x}<br>Average_Price_USD=%{y}<extra></extra>\",\"legendgroup\":\"Digital,Art,PFP,2D,Design,Picture,Collectibles\",\"marker\":{\"color\":\"#636efa\",\"symbol\":\"circle\"},\"mode\":\"markers\",\"name\":\"Digital,Art,PFP,2D,Design,Picture,Collectibles\",\"orientation\":\"v\",\"showlegend\":true,\"x\":[5.8728],\"xaxis\":\"x\",\"y\":[71.73482907],\"yaxis\":\"y\",\"type\":\"scatter\"},{\"hovertemplate\":\"Category=Digital,Metaverse,Art,Collectibles,2D,P2E<br>Floor_Price_USD=%{x}<br>Average_Price_USD=%{y}<extra></extra>\",\"legendgroup\":\"Digital,Metaverse,Art,Collectibles,2D,P2E\",\"marker\":{\"color\":\"#EF553B\",\"symbol\":\"circle\"},\"mode\":\"markers\",\"name\":\"Digital,Metaverse,Art,Collectibles,2D,P2E\",\"orientation\":\"v\",\"showlegend\":true,\"x\":[11.7456],\"xaxis\":\"x\",\"y\":[20.05343976],\"yaxis\":\"y\",\"type\":\"scatter\"},{\"hovertemplate\":\"Category=Digital,Art,Collectibles,Immaterial,Metaverse,Graphics,2D,Photography,Picture,Pixel Art<br>Floor_Price_USD=%{x}<br>Average_Price_USD=%{y}<extra></extra>\",\"legendgroup\":\"Digital,Art,Collectibles,Immaterial,Metaverse,Graphics,2D,Photography,Picture,Pixel Art\",\"marker\":{\"color\":\"#00cc96\",\"symbol\":\"circle\"},\"mode\":\"markers\",\"name\":\"Digital,Art,Collectibles,Immaterial,Metaverse,Graphics,2D,Photography,Picture,Pixel Art\",\"orientation\":\"v\",\"showlegend\":true,\"x\":[367.05],\"xaxis\":\"x\",\"y\":[3780.615],\"yaxis\":\"y\",\"type\":\"scatter\"},{\"hovertemplate\":\"Category=Art,Collectibles,P2E,Metaverse,3D<br>Floor_Price_USD=%{x}<br>Average_Price_USD=%{y}<extra></extra>\",\"legendgroup\":\"Art,Collectibles,P2E,Metaverse,3D\",\"marker\":{\"color\":\"#ab63fa\",\"symbol\":\"circle\"},\"mode\":\"markers\",\"name\":\"Art,Collectibles,P2E,Metaverse,3D\",\"orientation\":\"v\",\"showlegend\":true,\"x\":[8.8092],\"xaxis\":\"x\",\"y\":[15.48858466],\"yaxis\":\"y\",\"type\":\"scatter\"},{\"hovertemplate\":\"Category=Digital,Metaverse,Art,PFP<br>Floor_Price_USD=%{x}<br>Average_Price_USD=%{y}<extra></extra>\",\"legendgroup\":\"Digital,Metaverse,Art,PFP\",\"marker\":{\"color\":\"#FFA15A\",\"symbol\":\"circle\"},\"mode\":\"markers\",\"name\":\"Digital,Metaverse,Art,PFP\",\"orientation\":\"v\",\"showlegend\":true,\"x\":[129.2016],\"xaxis\":\"x\",\"y\":[153.7514495],\"yaxis\":\"y\",\"type\":\"scatter\"},{\"hovertemplate\":\"Category=Metaverse,P2E,Collectibles,Art,PFP<br>Floor_Price_USD=%{x}<br>Average_Price_USD=%{y}<extra></extra>\",\"legendgroup\":\"Metaverse,P2E,Collectibles,Art,PFP\",\"marker\":{\"color\":\"#19d3f3\",\"symbol\":\"circle\"},\"mode\":\"markers\",\"name\":\"Metaverse,P2E,Collectibles,Art,PFP\",\"orientation\":\"v\",\"showlegend\":true,\"x\":[212.889],\"xaxis\":\"x\",\"y\":[176.2028231],\"yaxis\":\"y\",\"type\":\"scatter\"},{\"hovertemplate\":\"Category=Digital,Collectibles,PFP,Metaverse,Privilege,Art<br>Floor_Price_USD=%{x}<br>Average_Price_USD=%{y}<extra></extra>\",\"legendgroup\":\"Digital,Collectibles,PFP,Metaverse,Privilege,Art\",\"marker\":{\"color\":\"#FF6692\",\"symbol\":\"circle\"},\"mode\":\"markers\",\"name\":\"Digital,Collectibles,PFP,Metaverse,Privilege,Art\",\"orientation\":\"v\",\"showlegend\":true,\"x\":[939.648],\"xaxis\":\"x\",\"y\":[350.4742348],\"yaxis\":\"y\",\"type\":\"scatter\"},{\"hovertemplate\":\"Category=Collectibles,Digital,Metaverse,Art,PFP<br>Floor_Price_USD=%{x}<br>Average_Price_USD=%{y}<extra></extra>\",\"legendgroup\":\"Collectibles,Digital,Metaverse,Art,PFP\",\"marker\":{\"color\":\"#B6E880\",\"symbol\":\"circle\"},\"mode\":\"markers\",\"name\":\"Collectibles,Digital,Metaverse,Art,PFP\",\"orientation\":\"v\",\"showlegend\":true,\"x\":[10.2774],\"xaxis\":\"x\",\"y\":[15.28982904],\"yaxis\":\"y\",\"type\":\"scatter\"},{\"hovertemplate\":\"Category=Metaverse,Digital,Art,Graphics,2D,3D,Painting,Photography,Drawing,Video,Design,Pixel Art<br>Floor_Price_USD=%{x}<br>Average_Price_USD=%{y}<extra></extra>\",\"legendgroup\":\"Metaverse,Digital,Art,Graphics,2D,3D,Painting,Photography,Drawing,Video,Design,Pixel Art\",\"marker\":{\"color\":\"#FF97FF\",\"symbol\":\"circle\"},\"mode\":\"markers\",\"name\":\"Metaverse,Digital,Art,Graphics,2D,3D,Painting,Photography,Drawing,Video,Design,Pixel Art\",\"orientation\":\"v\",\"showlegend\":true,\"x\":[513.87],\"xaxis\":\"x\",\"y\":[553.797878],\"yaxis\":\"y\",\"type\":\"scatter\"},{\"hovertemplate\":\"Category=Art,Collectibles,2D,Painting,Picture,Image<br>Floor_Price_USD=%{x}<br>Average_Price_USD=%{y}<extra></extra>\",\"legendgroup\":\"Art,Collectibles,2D,Painting,Picture,Image\",\"marker\":{\"color\":\"#FECB52\",\"symbol\":\"circle\"},\"mode\":\"markers\",\"name\":\"Art,Collectibles,2D,Painting,Picture,Image\",\"orientation\":\"v\",\"showlegend\":true,\"x\":[180.5886],\"xaxis\":\"x\",\"y\":[186.620455],\"yaxis\":\"y\",\"type\":\"scatter\"},{\"hovertemplate\":\"Category=Digital,Privilege,Art,Collectibles<br>Floor_Price_USD=%{x}<br>Average_Price_USD=%{y}<extra></extra>\",\"legendgroup\":\"Digital,Privilege,Art,Collectibles\",\"marker\":{\"color\":\"#636efa\",\"symbol\":\"circle\"},\"mode\":\"markers\",\"name\":\"Digital,Privilege,Art,Collectibles\",\"orientation\":\"v\",\"showlegend\":true,\"x\":[91.0284],\"xaxis\":\"x\",\"y\":[242.8997071],\"yaxis\":\"y\",\"type\":\"scatter\"},{\"hovertemplate\":\"Category=P2E,Digital,Collectibles<br>Floor_Price_USD=%{x}<br>Average_Price_USD=%{y}<extra></extra>\",\"legendgroup\":\"P2E,Digital,Collectibles\",\"marker\":{\"color\":\"#EF553B\",\"symbol\":\"circle\"},\"mode\":\"markers\",\"name\":\"P2E,Digital,Collectibles\",\"orientation\":\"v\",\"showlegend\":true,\"x\":[58.728],\"xaxis\":\"x\",\"y\":[495.6492615],\"yaxis\":\"y\",\"type\":\"scatter\"},{\"hovertemplate\":\"Category=Digital,Privilege,Metaverse,Collectibles,3D,Video<br>Floor_Price_USD=%{x}<br>Average_Price_USD=%{y}<extra></extra>\",\"legendgroup\":\"Digital,Privilege,Metaverse,Collectibles,3D,Video\",\"marker\":{\"color\":\"#00cc96\",\"symbol\":\"circle\"},\"mode\":\"markers\",\"name\":\"Digital,Privilege,Metaverse,Collectibles,3D,Video\",\"orientation\":\"v\",\"showlegend\":true,\"x\":[697.395],\"xaxis\":\"x\",\"y\":[697.395],\"yaxis\":\"y\",\"type\":\"scatter\"},{\"hovertemplate\":\"Category=Art,Digital,Painting<br>Floor_Price_USD=%{x}<br>Average_Price_USD=%{y}<extra></extra>\",\"legendgroup\":\"Art,Digital,Painting\",\"marker\":{\"color\":\"#ab63fa\",\"symbol\":\"circle\"},\"mode\":\"markers\",\"name\":\"Art,Digital,Painting\",\"orientation\":\"v\",\"showlegend\":true,\"x\":[195.2706],\"xaxis\":\"x\",\"y\":[462.483],\"yaxis\":\"y\",\"type\":\"scatter\"},{\"hovertemplate\":\"Category=Collectibles,2D,Image,Picture<br>Floor_Price_USD=%{x}<br>Average_Price_USD=%{y}<extra></extra>\",\"legendgroup\":\"Collectibles,2D,Image,Picture\",\"marker\":{\"color\":\"#FFA15A\",\"symbol\":\"circle\"},\"mode\":\"markers\",\"name\":\"Collectibles,2D,Image,Picture\",\"orientation\":\"v\",\"showlegend\":true,\"x\":[146.82],\"xaxis\":\"x\",\"y\":[222.8083024],\"yaxis\":\"y\",\"type\":\"scatter\"},{\"hovertemplate\":\"Category=P2E,Digital,Art,Metaverse,PFP<br>Floor_Price_USD=%{x}<br>Average_Price_USD=%{y}<extra></extra>\",\"legendgroup\":\"P2E,Digital,Art,Metaverse,PFP\",\"marker\":{\"color\":\"#19d3f3\",\"symbol\":\"circle\"},\"mode\":\"markers\",\"name\":\"P2E,Digital,Art,Metaverse,PFP\",\"orientation\":\"v\",\"showlegend\":true,\"x\":[32.3004],\"xaxis\":\"x\",\"y\":[71.15300235],\"yaxis\":\"y\",\"type\":\"scatter\"},{\"hovertemplate\":\"Category=Digital,Art,Collectibles,2D,Painting,Drawing,Image<br>Floor_Price_USD=%{x}<br>Average_Price_USD=%{y}<extra></extra>\",\"legendgroup\":\"Digital,Art,Collectibles,2D,Painting,Drawing,Image\",\"marker\":{\"color\":\"#FF6692\",\"symbol\":\"circle\"},\"mode\":\"markers\",\"name\":\"Digital,Art,Collectibles,2D,Painting,Drawing,Image\",\"orientation\":\"v\",\"showlegend\":true,\"x\":[367.05],\"xaxis\":\"x\",\"y\":[1696.79874],\"yaxis\":\"y\",\"type\":\"scatter\"},{\"hovertemplate\":\"Category=Digital,Print,Collectibles,Art,PFP<br>Floor_Price_USD=%{x}<br>Average_Price_USD=%{y}<extra></extra>\",\"legendgroup\":\"Digital,Print,Collectibles,Art,PFP\",\"marker\":{\"color\":\"#B6E880\",\"symbol\":\"circle\"},\"mode\":\"markers\",\"name\":\"Digital,Print,Collectibles,Art,PFP\",\"orientation\":\"v\",\"showlegend\":true,\"x\":[null],\"xaxis\":\"x\",\"y\":[69.87297273],\"yaxis\":\"y\",\"type\":\"scatter\"},{\"hovertemplate\":\"Category=3D,Art<br>Floor_Price_USD=%{x}<br>Average_Price_USD=%{y}<extra></extra>\",\"legendgroup\":\"3D,Art\",\"marker\":{\"color\":\"#FF97FF\",\"symbol\":\"circle\"},\"mode\":\"markers\",\"name\":\"3D,Art\",\"orientation\":\"v\",\"showlegend\":true,\"x\":[36.705],\"xaxis\":\"x\",\"y\":[180.3675806],\"yaxis\":\"y\",\"type\":\"scatter\"},{\"hovertemplate\":\"Category=Digital,Metaverse,Art,Collectibles,PFP,3D,Design,P2E<br>Floor_Price_USD=%{x}<br>Average_Price_USD=%{y}<extra></extra>\",\"legendgroup\":\"Digital,Metaverse,Art,Collectibles,PFP,3D,Design,P2E\",\"marker\":{\"color\":\"#FECB52\",\"symbol\":\"circle\"},\"mode\":\"markers\",\"name\":\"Digital,Metaverse,Art,Collectibles,PFP,3D,Design,P2E\",\"orientation\":\"v\",\"showlegend\":true,\"x\":[95.433],\"xaxis\":\"x\",\"y\":[192.9284714],\"yaxis\":\"y\",\"type\":\"scatter\"},{\"hovertemplate\":\"Category=Trading Cards,Collectibles<br>Floor_Price_USD=%{x}<br>Average_Price_USD=%{y}<extra></extra>\",\"legendgroup\":\"Trading Cards,Collectibles\",\"marker\":{\"color\":\"#636efa\",\"symbol\":\"circle\"},\"mode\":\"markers\",\"name\":\"Trading Cards,Collectibles\",\"orientation\":\"v\",\"showlegend\":true,\"x\":[36.705,146.82],\"xaxis\":\"x\",\"y\":[241.6968636,734.1],\"yaxis\":\"y\",\"type\":\"scatter\"},{\"hovertemplate\":\"Category=Art,Collectibles,Digital,PFP<br>Floor_Price_USD=%{x}<br>Average_Price_USD=%{y}<extra></extra>\",\"legendgroup\":\"Art,Collectibles,Digital,PFP\",\"marker\":{\"color\":\"#EF553B\",\"symbol\":\"circle\"},\"mode\":\"markers\",\"name\":\"Art,Collectibles,Digital,PFP\",\"orientation\":\"v\",\"showlegend\":true,\"x\":[734.1],\"xaxis\":\"x\",\"y\":[836.0583333],\"yaxis\":\"y\",\"type\":\"scatter\"},{\"hovertemplate\":\"Category=Metaverse,Collectibles,Digital,Image<br>Floor_Price_USD=%{x}<br>Average_Price_USD=%{y}<extra></extra>\",\"legendgroup\":\"Metaverse,Collectibles,Digital,Image\",\"marker\":{\"color\":\"#00cc96\",\"symbol\":\"circle\"},\"mode\":\"markers\",\"name\":\"Metaverse,Collectibles,Digital,Image\",\"orientation\":\"v\",\"showlegend\":true,\"x\":[14.682],\"xaxis\":\"x\",\"y\":[21.63319173],\"yaxis\":\"y\",\"type\":\"scatter\"},{\"hovertemplate\":\"Category=Collectibles,Art,Image,Picture<br>Floor_Price_USD=%{x}<br>Average_Price_USD=%{y}<extra></extra>\",\"legendgroup\":\"Collectibles,Art,Image,Picture\",\"marker\":{\"color\":\"#ab63fa\",\"symbol\":\"circle\"},\"mode\":\"markers\",\"name\":\"Collectibles,Art,Image,Picture\",\"orientation\":\"v\",\"showlegend\":true,\"x\":[4.4046],\"xaxis\":\"x\",\"y\":[10.2335899],\"yaxis\":\"y\",\"type\":\"scatter\"},{\"hovertemplate\":\"Category=Digital,Art,Collectibles,PFP,2D,Image<br>Floor_Price_USD=%{x}<br>Average_Price_USD=%{y}<extra></extra>\",\"legendgroup\":\"Digital,Art,Collectibles,PFP,2D,Image\",\"marker\":{\"color\":\"#FFA15A\",\"symbol\":\"circle\"},\"mode\":\"markers\",\"name\":\"Digital,Art,Collectibles,PFP,2D,Image\",\"orientation\":\"v\",\"showlegend\":true,\"x\":[7.341,4.4046],\"xaxis\":\"x\",\"y\":[26.46547024,12.54535122],\"yaxis\":\"y\",\"type\":\"scatter\"},{\"hovertemplate\":\"Category=Digital,Art,Collectibles,2D,Drawing,Painting<br>Floor_Price_USD=%{x}<br>Average_Price_USD=%{y}<extra></extra>\",\"legendgroup\":\"Digital,Art,Collectibles,2D,Drawing,Painting\",\"marker\":{\"color\":\"#19d3f3\",\"symbol\":\"circle\"},\"mode\":\"markers\",\"name\":\"Digital,Art,Collectibles,2D,Drawing,Painting\",\"orientation\":\"v\",\"showlegend\":true,\"x\":[99.8376],\"xaxis\":\"x\",\"y\":[140.6083846],\"yaxis\":\"y\",\"type\":\"scatter\"},{\"hovertemplate\":\"Category=Art,Painting,Drawing,Digital,Collectibles,AI,Design<br>Floor_Price_USD=%{x}<br>Average_Price_USD=%{y}<extra></extra>\",\"legendgroup\":\"Art,Painting,Drawing,Digital,Collectibles,AI,Design\",\"marker\":{\"color\":\"#FF6692\",\"symbol\":\"circle\"},\"mode\":\"markers\",\"name\":\"Art,Painting,Drawing,Digital,Collectibles,AI,Design\",\"orientation\":\"v\",\"showlegend\":true,\"x\":[146.82],\"xaxis\":\"x\",\"y\":[100.5890409],\"yaxis\":\"y\",\"type\":\"scatter\"},{\"hovertemplate\":\"Category=Metaverse,Art<br>Floor_Price_USD=%{x}<br>Average_Price_USD=%{y}<extra></extra>\",\"legendgroup\":\"Metaverse,Art\",\"marker\":{\"color\":\"#B6E880\",\"symbol\":\"circle\"},\"mode\":\"markers\",\"name\":\"Metaverse,Art\",\"orientation\":\"v\",\"showlegend\":true,\"x\":[13.2138,13.2138],\"xaxis\":\"x\",\"y\":[248.9894471,35.97486811],\"yaxis\":\"y\",\"type\":\"scatter\"},{\"hovertemplate\":\"Category=Art,Collectibles,PFP<br>Floor_Price_USD=%{x}<br>Average_Price_USD=%{y}<extra></extra>\",\"legendgroup\":\"Art,Collectibles,PFP\",\"marker\":{\"color\":\"#FF97FF\",\"symbol\":\"circle\"},\"mode\":\"markers\",\"name\":\"Art,Collectibles,PFP\",\"orientation\":\"v\",\"showlegend\":true,\"x\":[249.594],\"xaxis\":\"x\",\"y\":[304.6515],\"yaxis\":\"y\",\"type\":\"scatter\"},{\"hovertemplate\":\"Category=Digital,Metaverse,Art,Collectibles,PFP,3D,Picture<br>Floor_Price_USD=%{x}<br>Average_Price_USD=%{y}<extra></extra>\",\"legendgroup\":\"Digital,Metaverse,Art,Collectibles,PFP,3D,Picture\",\"marker\":{\"color\":\"#FECB52\",\"symbol\":\"circle\"},\"mode\":\"markers\",\"name\":\"Digital,Metaverse,Art,Collectibles,PFP,3D,Picture\",\"orientation\":\"v\",\"showlegend\":true,\"x\":[126.2652],\"xaxis\":\"x\",\"y\":[152.810256],\"yaxis\":\"y\",\"type\":\"scatter\"},{\"hovertemplate\":\"Category=Digital,Art,Design,Collectibles,3D<br>Floor_Price_USD=%{x}<br>Average_Price_USD=%{y}<extra></extra>\",\"legendgroup\":\"Digital,Art,Design,Collectibles,3D\",\"marker\":{\"color\":\"#636efa\",\"symbol\":\"circle\"},\"mode\":\"markers\",\"name\":\"Digital,Art,Design,Collectibles,3D\",\"orientation\":\"v\",\"showlegend\":true,\"x\":[36.705],\"xaxis\":\"x\",\"y\":[46.11455709],\"yaxis\":\"y\",\"type\":\"scatter\"},{\"hovertemplate\":\"Category=Digital,Art,PFP,3D,Design,Graphics,Collectibles,Sculpture<br>Floor_Price_USD=%{x}<br>Average_Price_USD=%{y}<extra></extra>\",\"legendgroup\":\"Digital,Art,PFP,3D,Design,Graphics,Collectibles,Sculpture\",\"marker\":{\"color\":\"#EF553B\",\"symbol\":\"circle\"},\"mode\":\"markers\",\"name\":\"Digital,Art,PFP,3D,Design,Graphics,Collectibles,Sculpture\",\"orientation\":\"v\",\"showlegend\":true,\"x\":[36.705],\"xaxis\":\"x\",\"y\":[114.5345816],\"yaxis\":\"y\",\"type\":\"scatter\"},{\"hovertemplate\":\"Category=2D,Art,Metaverse,Collectibles<br>Floor_Price_USD=%{x}<br>Average_Price_USD=%{y}<extra></extra>\",\"legendgroup\":\"2D,Art,Metaverse,Collectibles\",\"marker\":{\"color\":\"#00cc96\",\"symbol\":\"circle\"},\"mode\":\"markers\",\"name\":\"2D,Art,Metaverse,Collectibles\",\"orientation\":\"v\",\"showlegend\":true,\"x\":[20.5548],\"xaxis\":\"x\",\"y\":[51.65783301],\"yaxis\":\"y\",\"type\":\"scatter\"},{\"hovertemplate\":\"Category=Art,Digital,Collectibles,3D<br>Floor_Price_USD=%{x}<br>Average_Price_USD=%{y}<extra></extra>\",\"legendgroup\":\"Art,Digital,Collectibles,3D\",\"marker\":{\"color\":\"#ab63fa\",\"symbol\":\"circle\"},\"mode\":\"markers\",\"name\":\"Art,Digital,Collectibles,3D\",\"orientation\":\"v\",\"showlegend\":true,\"x\":[129.2016,73.41],\"xaxis\":\"x\",\"y\":[165.5166094,410.80236],\"yaxis\":\"y\",\"type\":\"scatter\"},{\"hovertemplate\":\"Category=Digital,Collectibles,Art,Drawing,Painting<br>Floor_Price_USD=%{x}<br>Average_Price_USD=%{y}<extra></extra>\",\"legendgroup\":\"Digital,Collectibles,Art,Drawing,Painting\",\"marker\":{\"color\":\"#FFA15A\",\"symbol\":\"circle\"},\"mode\":\"markers\",\"name\":\"Digital,Collectibles,Art,Drawing,Painting\",\"orientation\":\"v\",\"showlegend\":true,\"x\":[44.046],\"xaxis\":\"x\",\"y\":[51.291567],\"yaxis\":\"y\",\"type\":\"scatter\"},{\"hovertemplate\":\"Category=Digital,Metaverse,Collectibles,Art,Trading Cards,P2E<br>Floor_Price_USD=%{x}<br>Average_Price_USD=%{y}<extra></extra>\",\"legendgroup\":\"Digital,Metaverse,Collectibles,Art,Trading Cards,P2E\",\"marker\":{\"color\":\"#19d3f3\",\"symbol\":\"circle\"},\"mode\":\"markers\",\"name\":\"Digital,Metaverse,Collectibles,Art,Trading Cards,P2E\",\"orientation\":\"v\",\"showlegend\":true,\"x\":[80.751],\"xaxis\":\"x\",\"y\":[141.5468873],\"yaxis\":\"y\",\"type\":\"scatter\"},{\"hovertemplate\":\"Category=Art<br>Floor_Price_USD=%{x}<br>Average_Price_USD=%{y}<extra></extra>\",\"legendgroup\":\"Art\",\"marker\":{\"color\":\"#FF6692\",\"symbol\":\"circle\"},\"mode\":\"markers\",\"name\":\"Art\",\"orientation\":\"v\",\"showlegend\":true,\"x\":[29.364,11.7456,null,954.33,null,42.5778,11.7456,null,73.41,58.728,734.1,46.9824],\"xaxis\":\"x\",\"y\":[91.36514312,35.06308168,440.46,252.8566667,411.096,76.27648571,13.39505926,440.46,115.3585714,61.89027692,734.1,46.493],\"yaxis\":\"y\",\"type\":\"scatter\"},{\"hovertemplate\":\"Category=Digital,Metaverse,Art,2D,P2E<br>Floor_Price_USD=%{x}<br>Average_Price_USD=%{y}<extra></extra>\",\"legendgroup\":\"Digital,Metaverse,Art,2D,P2E\",\"marker\":{\"color\":\"#B6E880\",\"symbol\":\"circle\"},\"mode\":\"markers\",\"name\":\"Digital,Metaverse,Art,2D,P2E\",\"orientation\":\"v\",\"showlegend\":true,\"x\":[140.9472],\"xaxis\":\"x\",\"y\":[128.1528857],\"yaxis\":\"y\",\"type\":\"scatter\"},{\"hovertemplate\":\"Category=Digital,Metaverse,Art,Collectibles,PFP,2D,Design<br>Floor_Price_USD=%{x}<br>Average_Price_USD=%{y}<extra></extra>\",\"legendgroup\":\"Digital,Metaverse,Art,Collectibles,PFP,2D,Design\",\"marker\":{\"color\":\"#FF97FF\",\"symbol\":\"circle\"},\"mode\":\"markers\",\"name\":\"Digital,Metaverse,Art,Collectibles,PFP,2D,Design\",\"orientation\":\"v\",\"showlegend\":true,\"x\":[80.751],\"xaxis\":\"x\",\"y\":[158.6415414],\"yaxis\":\"y\",\"type\":\"scatter\"},{\"hovertemplate\":\"Category=Art,P2E<br>Floor_Price_USD=%{x}<br>Average_Price_USD=%{y}<extra></extra>\",\"legendgroup\":\"Art,P2E\",\"marker\":{\"color\":\"#FECB52\",\"symbol\":\"circle\"},\"mode\":\"markers\",\"name\":\"Art,P2E\",\"orientation\":\"v\",\"showlegend\":true,\"x\":[4.4046],\"xaxis\":\"x\",\"y\":[10.83393791],\"yaxis\":\"y\",\"type\":\"scatter\"},{\"hovertemplate\":\"Category=3D,Digital,Privilege,Art,Image<br>Floor_Price_USD=%{x}<br>Average_Price_USD=%{y}<extra></extra>\",\"legendgroup\":\"3D,Digital,Privilege,Art,Image\",\"marker\":{\"color\":\"#636efa\",\"symbol\":\"circle\"},\"mode\":\"markers\",\"name\":\"3D,Digital,Privilege,Art,Image\",\"orientation\":\"v\",\"showlegend\":true,\"x\":[367.05],\"xaxis\":\"x\",\"y\":[203.3790682],\"yaxis\":\"y\",\"type\":\"scatter\"},{\"hovertemplate\":\"Category=Art,Collectibles<br>Floor_Price_USD=%{x}<br>Average_Price_USD=%{y}<extra></extra>\",\"legendgroup\":\"Art,Collectibles\",\"marker\":{\"color\":\"#EF553B\",\"symbol\":\"circle\"},\"mode\":\"markers\",\"name\":\"Art,Collectibles\",\"orientation\":\"v\",\"showlegend\":true,\"x\":[73.41,42.5778,73.41],\"xaxis\":\"x\",\"y\":[185.3908375,49.05122727,222.1876],\"yaxis\":\"y\",\"type\":\"scatter\"},{\"hovertemplate\":\"Category=PFP,Digital,Art,Collectibles,Drawing<br>Floor_Price_USD=%{x}<br>Average_Price_USD=%{y}<extra></extra>\",\"legendgroup\":\"PFP,Digital,Art,Collectibles,Drawing\",\"marker\":{\"color\":\"#00cc96\",\"symbol\":\"circle\"},\"mode\":\"markers\",\"name\":\"PFP,Digital,Art,Collectibles,Drawing\",\"orientation\":\"v\",\"showlegend\":true,\"x\":[19.0866],\"xaxis\":\"x\",\"y\":[41.21348208],\"yaxis\":\"y\",\"type\":\"scatter\"},{\"hovertemplate\":\"Category=Collectibles,Metaverse<br>Floor_Price_USD=%{x}<br>Average_Price_USD=%{y}<extra></extra>\",\"legendgroup\":\"Collectibles,Metaverse\",\"marker\":{\"color\":\"#ab63fa\",\"symbol\":\"circle\"},\"mode\":\"markers\",\"name\":\"Collectibles,Metaverse\",\"orientation\":\"v\",\"showlegend\":true,\"x\":[4.4046],\"xaxis\":\"x\",\"y\":[21.25376675],\"yaxis\":\"y\",\"type\":\"scatter\"},{\"hovertemplate\":\"Category=PFP,Digital,Art,Collectibles<br>Floor_Price_USD=%{x}<br>Average_Price_USD=%{y}<extra></extra>\",\"legendgroup\":\"PFP,Digital,Art,Collectibles\",\"marker\":{\"color\":\"#FFA15A\",\"symbol\":\"circle\"},\"mode\":\"markers\",\"name\":\"PFP,Digital,Art,Collectibles\",\"orientation\":\"v\",\"showlegend\":true,\"x\":[22.023],\"xaxis\":\"x\",\"y\":[85.30696082],\"yaxis\":\"y\",\"type\":\"scatter\"},{\"hovertemplate\":\"Category=Digital,Art,Collectibles,PFP,2D,Drawing,Image<br>Floor_Price_USD=%{x}<br>Average_Price_USD=%{y}<extra></extra>\",\"legendgroup\":\"Digital,Art,Collectibles,PFP,2D,Drawing,Image\",\"marker\":{\"color\":\"#19d3f3\",\"symbol\":\"circle\"},\"mode\":\"markers\",\"name\":\"Digital,Art,Collectibles,PFP,2D,Drawing,Image\",\"orientation\":\"v\",\"showlegend\":true,\"x\":[17.6184],\"xaxis\":\"x\",\"y\":[410.94918],\"yaxis\":\"y\",\"type\":\"scatter\"},{\"hovertemplate\":\"Category=Art,PFP,Digital,Collectibles,Metaverse,Graphics,Drawing,Image,Picture<br>Floor_Price_USD=%{x}<br>Average_Price_USD=%{y}<extra></extra>\",\"legendgroup\":\"Art,PFP,Digital,Collectibles,Metaverse,Graphics,Drawing,Image,Picture\",\"marker\":{\"color\":\"#FF6692\",\"symbol\":\"circle\"},\"mode\":\"markers\",\"name\":\"Art,PFP,Digital,Collectibles,Metaverse,Graphics,Drawing,Image,Picture\",\"orientation\":\"v\",\"showlegend\":true,\"x\":[14.682],\"xaxis\":\"x\",\"y\":[72.51859286],\"yaxis\":\"y\",\"type\":\"scatter\"},{\"hovertemplate\":\"Category=Digital,Metaverse,Art,PFP,Graphics,2D,Drawing,Design,Image<br>Floor_Price_USD=%{x}<br>Average_Price_USD=%{y}<extra></extra>\",\"legendgroup\":\"Digital,Metaverse,Art,PFP,Graphics,2D,Drawing,Design,Image\",\"marker\":{\"color\":\"#B6E880\",\"symbol\":\"circle\"},\"mode\":\"markers\",\"name\":\"Digital,Metaverse,Art,PFP,Graphics,2D,Drawing,Design,Image\",\"orientation\":\"v\",\"showlegend\":true,\"x\":[27.8958],\"xaxis\":\"x\",\"y\":[46.92802222],\"yaxis\":\"y\",\"type\":\"scatter\"},{\"hovertemplate\":\"Category=Physical,Privilege,Collectibles<br>Floor_Price_USD=%{x}<br>Average_Price_USD=%{y}<extra></extra>\",\"legendgroup\":\"Physical,Privilege,Collectibles\",\"marker\":{\"color\":\"#FF97FF\",\"symbol\":\"circle\"},\"mode\":\"markers\",\"name\":\"Physical,Privilege,Collectibles\",\"orientation\":\"v\",\"showlegend\":true,\"x\":[1192.1784],\"xaxis\":\"x\",\"y\":[1181.4116],\"yaxis\":\"y\",\"type\":\"scatter\"},{\"hovertemplate\":\"Category=Art,Pixel Art,Digital<br>Floor_Price_USD=%{x}<br>Average_Price_USD=%{y}<extra></extra>\",\"legendgroup\":\"Art,Pixel Art,Digital\",\"marker\":{\"color\":\"#FECB52\",\"symbol\":\"circle\"},\"mode\":\"markers\",\"name\":\"Art,Pixel Art,Digital\",\"orientation\":\"v\",\"showlegend\":true,\"x\":[13.2138],\"xaxis\":\"x\",\"y\":[14.93720215],\"yaxis\":\"y\",\"type\":\"scatter\"},{\"hovertemplate\":\"Category=Digital,Art,Drawing<br>Floor_Price_USD=%{x}<br>Average_Price_USD=%{y}<extra></extra>\",\"legendgroup\":\"Digital,Art,Drawing\",\"marker\":{\"color\":\"#636efa\",\"symbol\":\"circle\"},\"mode\":\"markers\",\"name\":\"Digital,Art,Drawing\",\"orientation\":\"v\",\"showlegend\":true,\"x\":[292.1718,146.82],\"xaxis\":\"x\",\"y\":[96.57249851,734.1],\"yaxis\":\"y\",\"type\":\"scatter\"},{\"hovertemplate\":\"Category=Art,Collectibles,2D,Digital<br>Floor_Price_USD=%{x}<br>Average_Price_USD=%{y}<extra></extra>\",\"legendgroup\":\"Art,Collectibles,2D,Digital\",\"marker\":{\"color\":\"#EF553B\",\"symbol\":\"circle\"},\"mode\":\"markers\",\"name\":\"Art,Collectibles,2D,Digital\",\"orientation\":\"v\",\"showlegend\":true,\"x\":[29.364],\"xaxis\":\"x\",\"y\":[100.8928687],\"yaxis\":\"y\",\"type\":\"scatter\"},{\"hovertemplate\":\"Category=Art,Collectibles,Metaverse,PFP,Graphics,2D<br>Floor_Price_USD=%{x}<br>Average_Price_USD=%{y}<extra></extra>\",\"legendgroup\":\"Art,Collectibles,Metaverse,PFP,Graphics,2D\",\"marker\":{\"color\":\"#00cc96\",\"symbol\":\"circle\"},\"mode\":\"markers\",\"name\":\"Art,Collectibles,Metaverse,PFP,Graphics,2D\",\"orientation\":\"v\",\"showlegend\":true,\"x\":[67.5372],\"xaxis\":\"x\",\"y\":[172.771427],\"yaxis\":\"y\",\"type\":\"scatter\"},{\"hovertemplate\":\"Category=Digital,Collectibles,3D<br>Floor_Price_USD=%{x}<br>Average_Price_USD=%{y}<extra></extra>\",\"legendgroup\":\"Digital,Collectibles,3D\",\"marker\":{\"color\":\"#ab63fa\",\"symbol\":\"circle\"},\"mode\":\"markers\",\"name\":\"Digital,Collectibles,3D\",\"orientation\":\"v\",\"showlegend\":true,\"x\":[44.046],\"xaxis\":\"x\",\"y\":[59.28203774],\"yaxis\":\"y\",\"type\":\"scatter\"},{\"hovertemplate\":\"Category=Collectibles,2D,Digital<br>Floor_Price_USD=%{x}<br>Average_Price_USD=%{y}<extra></extra>\",\"legendgroup\":\"Collectibles,2D,Digital\",\"marker\":{\"color\":\"#FFA15A\",\"symbol\":\"circle\"},\"mode\":\"markers\",\"name\":\"Collectibles,2D,Digital\",\"orientation\":\"v\",\"showlegend\":true,\"x\":[278.958],\"xaxis\":\"x\",\"y\":[171.1082229],\"yaxis\":\"y\",\"type\":\"scatter\"},{\"hovertemplate\":\"Category=Art,AI,Image,Picture,Painting,Collectibles<br>Floor_Price_USD=%{x}<br>Average_Price_USD=%{y}<extra></extra>\",\"legendgroup\":\"Art,AI,Image,Picture,Painting,Collectibles\",\"marker\":{\"color\":\"#19d3f3\",\"symbol\":\"circle\"},\"mode\":\"markers\",\"name\":\"Art,AI,Image,Picture,Painting,Collectibles\",\"orientation\":\"v\",\"showlegend\":true,\"x\":[110.115],\"xaxis\":\"x\",\"y\":[88.1577403],\"yaxis\":\"y\",\"type\":\"scatter\"},{\"hovertemplate\":\"Category=PFP<br>Floor_Price_USD=%{x}<br>Average_Price_USD=%{y}<extra></extra>\",\"legendgroup\":\"PFP\",\"marker\":{\"color\":\"#FF6692\",\"symbol\":\"circle\"},\"mode\":\"markers\",\"name\":\"PFP\",\"orientation\":\"v\",\"showlegend\":true,\"x\":[333.2814,5.8728],\"xaxis\":\"x\",\"y\":[101.4576828,15.05261359],\"yaxis\":\"y\",\"type\":\"scatter\"},{\"hovertemplate\":\"Category=Art,Collectibles,Trading Cards<br>Floor_Price_USD=%{x}<br>Average_Price_USD=%{y}<extra></extra>\",\"legendgroup\":\"Art,Collectibles,Trading Cards\",\"marker\":{\"color\":\"#B6E880\",\"symbol\":\"circle\"},\"mode\":\"markers\",\"name\":\"Art,Collectibles,Trading Cards\",\"orientation\":\"v\",\"showlegend\":true,\"x\":[146.82],\"xaxis\":\"x\",\"y\":[384.179],\"yaxis\":\"y\",\"type\":\"scatter\"},{\"hovertemplate\":\"Category=Digital,Privilege,Art,Collectibles,Graphics<br>Floor_Price_USD=%{x}<br>Average_Price_USD=%{y}<extra></extra>\",\"legendgroup\":\"Digital,Privilege,Art,Collectibles,Graphics\",\"marker\":{\"color\":\"#FF97FF\",\"symbol\":\"circle\"},\"mode\":\"markers\",\"name\":\"Digital,Privilege,Art,Collectibles,Graphics\",\"orientation\":\"v\",\"showlegend\":true,\"x\":[1761.84],\"xaxis\":\"x\",\"y\":[90.7837],\"yaxis\":\"y\",\"type\":\"scatter\"},{\"hovertemplate\":\"Category=Digital,Art,Collectibles,PFP,Image,Design,Pixel Art<br>Floor_Price_USD=%{x}<br>Average_Price_USD=%{y}<extra></extra>\",\"legendgroup\":\"Digital,Art,Collectibles,PFP,Image,Design,Pixel Art\",\"marker\":{\"color\":\"#FECB52\",\"symbol\":\"circle\"},\"mode\":\"markers\",\"name\":\"Digital,Art,Collectibles,PFP,Image,Design,Pixel Art\",\"orientation\":\"v\",\"showlegend\":true,\"x\":[29.364],\"xaxis\":\"x\",\"y\":[39.78174265],\"yaxis\":\"y\",\"type\":\"scatter\"},{\"hovertemplate\":\"Category=Art,Collectibles,2D,Metaverse<br>Floor_Price_USD=%{x}<br>Average_Price_USD=%{y}<extra></extra>\",\"legendgroup\":\"Art,Collectibles,2D,Metaverse\",\"marker\":{\"color\":\"#636efa\",\"symbol\":\"circle\"},\"mode\":\"markers\",\"name\":\"Art,Collectibles,2D,Metaverse\",\"orientation\":\"v\",\"showlegend\":true,\"x\":[29.364],\"xaxis\":\"x\",\"y\":[17.03019369],\"yaxis\":\"y\",\"type\":\"scatter\"},{\"hovertemplate\":\"Category=P2E,Collectibles<br>Floor_Price_USD=%{x}<br>Average_Price_USD=%{y}<extra></extra>\",\"legendgroup\":\"P2E,Collectibles\",\"marker\":{\"color\":\"#EF553B\",\"symbol\":\"circle\"},\"mode\":\"markers\",\"name\":\"P2E,Collectibles\",\"orientation\":\"v\",\"showlegend\":true,\"x\":[190.866],\"xaxis\":\"x\",\"y\":[184.1831586],\"yaxis\":\"y\",\"type\":\"scatter\"},{\"hovertemplate\":\"Category=Digital,Art,PFP,Drawing,Metaverse,Collectibles<br>Floor_Price_USD=%{x}<br>Average_Price_USD=%{y}<extra></extra>\",\"legendgroup\":\"Digital,Art,PFP,Drawing,Metaverse,Collectibles\",\"marker\":{\"color\":\"#00cc96\",\"symbol\":\"circle\"},\"mode\":\"markers\",\"name\":\"Digital,Art,PFP,Drawing,Metaverse,Collectibles\",\"orientation\":\"v\",\"showlegend\":true,\"x\":[1174.56],\"xaxis\":\"x\",\"y\":[440.46],\"yaxis\":\"y\",\"type\":\"scatter\"},{\"hovertemplate\":\"Category=Digital,Collectibles,2D,Art<br>Floor_Price_USD=%{x}<br>Average_Price_USD=%{y}<extra></extra>\",\"legendgroup\":\"Digital,Collectibles,2D,Art\",\"marker\":{\"color\":\"#ab63fa\",\"symbol\":\"circle\"},\"mode\":\"markers\",\"name\":\"Digital,Collectibles,2D,Art\",\"orientation\":\"v\",\"showlegend\":true,\"x\":[29.364],\"xaxis\":\"x\",\"y\":[38.33395182],\"yaxis\":\"y\",\"type\":\"scatter\"},{\"hovertemplate\":\"Category=Digital,Art,Video,Graphics<br>Floor_Price_USD=%{x}<br>Average_Price_USD=%{y}<extra></extra>\",\"legendgroup\":\"Digital,Art,Video,Graphics\",\"marker\":{\"color\":\"#FFA15A\",\"symbol\":\"circle\"},\"mode\":\"markers\",\"name\":\"Digital,Art,Video,Graphics\",\"orientation\":\"v\",\"showlegend\":true,\"x\":[73.41],\"xaxis\":\"x\",\"y\":[234.1779],\"yaxis\":\"y\",\"type\":\"scatter\"},{\"hovertemplate\":\"Category=3D<br>Floor_Price_USD=%{x}<br>Average_Price_USD=%{y}<extra></extra>\",\"legendgroup\":\"3D\",\"marker\":{\"color\":\"#19d3f3\",\"symbol\":\"circle\"},\"mode\":\"markers\",\"name\":\"3D\",\"orientation\":\"v\",\"showlegend\":true,\"x\":[14.682,58.728],\"xaxis\":\"x\",\"y\":[14.26894095,64.38057],\"yaxis\":\"y\",\"type\":\"scatter\"},{\"hovertemplate\":\"Category=Metaverse,Art,Collectibles,2D,Image,Digital<br>Floor_Price_USD=%{x}<br>Average_Price_USD=%{y}<extra></extra>\",\"legendgroup\":\"Metaverse,Art,Collectibles,2D,Image,Digital\",\"marker\":{\"color\":\"#FF6692\",\"symbol\":\"circle\"},\"mode\":\"markers\",\"name\":\"Metaverse,Art,Collectibles,2D,Image,Digital\",\"orientation\":\"v\",\"showlegend\":true,\"x\":[51.387],\"xaxis\":\"x\",\"y\":[89.66323158],\"yaxis\":\"y\",\"type\":\"scatter\"},{\"hovertemplate\":\"Category=Art,Painting,AI,Image,Digital,Collectibles<br>Floor_Price_USD=%{x}<br>Average_Price_USD=%{y}<extra></extra>\",\"legendgroup\":\"Art,Painting,AI,Image,Digital,Collectibles\",\"marker\":{\"color\":\"#B6E880\",\"symbol\":\"circle\"},\"mode\":\"markers\",\"name\":\"Art,Painting,AI,Image,Digital,Collectibles\",\"orientation\":\"v\",\"showlegend\":true,\"x\":[146.82],\"xaxis\":\"x\",\"y\":[299.6855294],\"yaxis\":\"y\",\"type\":\"scatter\"},{\"hovertemplate\":\"Category=Digital,Metaverse,Art,Graphics,3D,Design,Image<br>Floor_Price_USD=%{x}<br>Average_Price_USD=%{y}<extra></extra>\",\"legendgroup\":\"Digital,Metaverse,Art,Graphics,3D,Design,Image\",\"marker\":{\"color\":\"#FF97FF\",\"symbol\":\"circle\"},\"mode\":\"markers\",\"name\":\"Digital,Metaverse,Art,Graphics,3D,Design,Image\",\"orientation\":\"v\",\"showlegend\":true,\"x\":[48.4506],\"xaxis\":\"x\",\"y\":[57.98526353],\"yaxis\":\"y\",\"type\":\"scatter\"},{\"hovertemplate\":\"Category=Collectibles,Digital,2D,Art,Image,Drawing<br>Floor_Price_USD=%{x}<br>Average_Price_USD=%{y}<extra></extra>\",\"legendgroup\":\"Collectibles,Digital,2D,Art,Image,Drawing\",\"marker\":{\"color\":\"#FECB52\",\"symbol\":\"circle\"},\"mode\":\"markers\",\"name\":\"Collectibles,Digital,2D,Art,Image,Drawing\",\"orientation\":\"v\",\"showlegend\":true,\"x\":[16.1502],\"xaxis\":\"x\",\"y\":[20.72277203],\"yaxis\":\"y\",\"type\":\"scatter\"},{\"hovertemplate\":\"Category=Metaverse,Art,Collectibles<br>Floor_Price_USD=%{x}<br>Average_Price_USD=%{y}<extra></extra>\",\"legendgroup\":\"Metaverse,Art,Collectibles\",\"marker\":{\"color\":\"#636efa\",\"symbol\":\"circle\"},\"mode\":\"markers\",\"name\":\"Metaverse,Art,Collectibles\",\"orientation\":\"v\",\"showlegend\":true,\"x\":[93.9648],\"xaxis\":\"x\",\"y\":[131.8999135],\"yaxis\":\"y\",\"type\":\"scatter\"},{\"hovertemplate\":\"Category=Digital,Art,Collectibles,Trading Cards,2D,Drawing,Street Art,Image,Design<br>Floor_Price_USD=%{x}<br>Average_Price_USD=%{y}<extra></extra>\",\"legendgroup\":\"Digital,Art,Collectibles,Trading Cards,2D,Drawing,Street Art,Image,Design\",\"marker\":{\"color\":\"#EF553B\",\"symbol\":\"circle\"},\"mode\":\"markers\",\"name\":\"Digital,Art,Collectibles,Trading Cards,2D,Drawing,Street Art,Image,Design\",\"orientation\":\"v\",\"showlegend\":true,\"x\":[36.705],\"xaxis\":\"x\",\"y\":[52.76983953],\"yaxis\":\"y\",\"type\":\"scatter\"},{\"hovertemplate\":\"Category=Art,Collectibles,Metaverse<br>Floor_Price_USD=%{x}<br>Average_Price_USD=%{y}<extra></extra>\",\"legendgroup\":\"Art,Collectibles,Metaverse\",\"marker\":{\"color\":\"#00cc96\",\"symbol\":\"circle\"},\"mode\":\"markers\",\"name\":\"Art,Collectibles,Metaverse\",\"orientation\":\"v\",\"showlegend\":true,\"x\":[95.433],\"xaxis\":\"x\",\"y\":[105.164093],\"yaxis\":\"y\",\"type\":\"scatter\"},{\"hovertemplate\":\"Category=Metaverse,Collectibles<br>Floor_Price_USD=%{x}<br>Average_Price_USD=%{y}<extra></extra>\",\"legendgroup\":\"Metaverse,Collectibles\",\"marker\":{\"color\":\"#ab63fa\",\"symbol\":\"circle\"},\"mode\":\"markers\",\"name\":\"Metaverse,Collectibles\",\"orientation\":\"v\",\"showlegend\":true,\"x\":[58728.0,5.8728],\"xaxis\":\"x\",\"y\":[441.04728,25.69901955],\"yaxis\":\"y\",\"type\":\"scatter\"},{\"hovertemplate\":\"Category=Digital,Collectibles,PFP<br>Floor_Price_USD=%{x}<br>Average_Price_USD=%{y}<extra></extra>\",\"legendgroup\":\"Digital,Collectibles,PFP\",\"marker\":{\"color\":\"#FFA15A\",\"symbol\":\"circle\"},\"mode\":\"markers\",\"name\":\"Digital,Collectibles,PFP\",\"orientation\":\"v\",\"showlegend\":true,\"x\":[17.6184],\"xaxis\":\"x\",\"y\":[52.62524096],\"yaxis\":\"y\",\"type\":\"scatter\"},{\"hovertemplate\":\"Category=Metaverse<br>Floor_Price_USD=%{x}<br>Average_Price_USD=%{y}<extra></extra>\",\"legendgroup\":\"Metaverse\",\"marker\":{\"color\":\"#19d3f3\",\"symbol\":\"circle\"},\"mode\":\"markers\",\"name\":\"Metaverse\",\"orientation\":\"v\",\"showlegend\":true,\"x\":[58.728],\"xaxis\":\"x\",\"y\":[221.0027368],\"yaxis\":\"y\",\"type\":\"scatter\"},{\"hovertemplate\":\"Category=Digital,Art,Graphics,Drawing,Design<br>Floor_Price_USD=%{x}<br>Average_Price_USD=%{y}<extra></extra>\",\"legendgroup\":\"Digital,Art,Graphics,Drawing,Design\",\"marker\":{\"color\":\"#FF6692\",\"symbol\":\"circle\"},\"mode\":\"markers\",\"name\":\"Digital,Art,Graphics,Drawing,Design\",\"orientation\":\"v\",\"showlegend\":true,\"x\":[5.8728],\"xaxis\":\"x\",\"y\":[12.74453354],\"yaxis\":\"y\",\"type\":\"scatter\"},{\"hovertemplate\":\"Category=Digital,Collectibles,2D,Ticket<br>Floor_Price_USD=%{x}<br>Average_Price_USD=%{y}<extra></extra>\",\"legendgroup\":\"Digital,Collectibles,2D,Ticket\",\"marker\":{\"color\":\"#B6E880\",\"symbol\":\"circle\"},\"mode\":\"markers\",\"name\":\"Digital,Collectibles,2D,Ticket\",\"orientation\":\"v\",\"showlegend\":true,\"x\":[29.364],\"xaxis\":\"x\",\"y\":[30.43073906],\"yaxis\":\"y\",\"type\":\"scatter\"},{\"hovertemplate\":\"Category=Digital,Collectibles<br>Floor_Price_USD=%{x}<br>Average_Price_USD=%{y}<extra></extra>\",\"legendgroup\":\"Digital,Collectibles\",\"marker\":{\"color\":\"#FF97FF\",\"symbol\":\"circle\"},\"mode\":\"markers\",\"name\":\"Digital,Collectibles\",\"orientation\":\"v\",\"showlegend\":true,\"x\":[69.0054],\"xaxis\":\"x\",\"y\":[157.280925],\"yaxis\":\"y\",\"type\":\"scatter\"},{\"hovertemplate\":\"Category=PFP,Collectibles,2D<br>Floor_Price_USD=%{x}<br>Average_Price_USD=%{y}<extra></extra>\",\"legendgroup\":\"PFP,Collectibles,2D\",\"marker\":{\"color\":\"#FECB52\",\"symbol\":\"circle\"},\"mode\":\"markers\",\"name\":\"PFP,Collectibles,2D\",\"orientation\":\"v\",\"showlegend\":true,\"x\":[44.046],\"xaxis\":\"x\",\"y\":[46.5602925],\"yaxis\":\"y\",\"type\":\"scatter\"},{\"hovertemplate\":\"Category=Metaverse,Digital,Collectibles,Art,3D,AI<br>Floor_Price_USD=%{x}<br>Average_Price_USD=%{y}<extra></extra>\",\"legendgroup\":\"Metaverse,Digital,Collectibles,Art,3D,AI\",\"marker\":{\"color\":\"#636efa\",\"symbol\":\"circle\"},\"mode\":\"markers\",\"name\":\"Metaverse,Digital,Collectibles,Art,3D,AI\",\"orientation\":\"v\",\"showlegend\":true,\"x\":[146.82],\"xaxis\":\"x\",\"y\":[332.0801455],\"yaxis\":\"y\",\"type\":\"scatter\"},{\"hovertemplate\":\"Category=Digital,Metaverse,Art,Collectibles,Trading Cards,Immaterial,2D,Design,Picture,Image<br>Floor_Price_USD=%{x}<br>Average_Price_USD=%{y}<extra></extra>\",\"legendgroup\":\"Digital,Metaverse,Art,Collectibles,Trading Cards,Immaterial,2D,Design,Picture,Image\",\"marker\":{\"color\":\"#EF553B\",\"symbol\":\"circle\"},\"mode\":\"markers\",\"name\":\"Digital,Metaverse,Art,Collectibles,Trading Cards,Immaterial,2D,Design,Picture,Image\",\"orientation\":\"v\",\"showlegend\":true,\"x\":[101.3058],\"xaxis\":\"x\",\"y\":[113.7855],\"yaxis\":\"y\",\"type\":\"scatter\"},{\"hovertemplate\":\"Category=Digital,Metaverse,Art,Artifact,Trading Cards,Collectibles,Design<br>Floor_Price_USD=%{x}<br>Average_Price_USD=%{y}<extra></extra>\",\"legendgroup\":\"Digital,Metaverse,Art,Artifact,Trading Cards,Collectibles,Design\",\"marker\":{\"color\":\"#00cc96\",\"symbol\":\"circle\"},\"mode\":\"markers\",\"name\":\"Digital,Metaverse,Art,Artifact,Trading Cards,Collectibles,Design\",\"orientation\":\"v\",\"showlegend\":true,\"x\":[29.364],\"xaxis\":\"x\",\"y\":[121.5568345],\"yaxis\":\"y\",\"type\":\"scatter\"},{\"hovertemplate\":\"Category=Digital,Metaverse,Art,Photography,Immaterial,Collectibles,Design,Image<br>Floor_Price_USD=%{x}<br>Average_Price_USD=%{y}<extra></extra>\",\"legendgroup\":\"Digital,Metaverse,Art,Photography,Immaterial,Collectibles,Design,Image\",\"marker\":{\"color\":\"#ab63fa\",\"symbol\":\"circle\"},\"mode\":\"markers\",\"name\":\"Digital,Metaverse,Art,Photography,Immaterial,Collectibles,Design,Image\",\"orientation\":\"v\",\"showlegend\":true,\"x\":[146.82],\"xaxis\":\"x\",\"y\":[345.027],\"yaxis\":\"y\",\"type\":\"scatter\"},{\"hovertemplate\":\"Category=Collectibles,3D,Design,Art,Graphics,PFP<br>Floor_Price_USD=%{x}<br>Average_Price_USD=%{y}<extra></extra>\",\"legendgroup\":\"Collectibles,3D,Design,Art,Graphics,PFP\",\"marker\":{\"color\":\"#FFA15A\",\"symbol\":\"circle\"},\"mode\":\"markers\",\"name\":\"Collectibles,3D,Design,Art,Graphics,PFP\",\"orientation\":\"v\",\"showlegend\":true,\"x\":[17.6184],\"xaxis\":\"x\",\"y\":[42.61593506],\"yaxis\":\"y\",\"type\":\"scatter\"},{\"hovertemplate\":\"Category=Metaverse,Collectibles,Digital,2D,Graphics<br>Floor_Price_USD=%{x}<br>Average_Price_USD=%{y}<extra></extra>\",\"legendgroup\":\"Metaverse,Collectibles,Digital,2D,Graphics\",\"marker\":{\"color\":\"#19d3f3\",\"symbol\":\"circle\"},\"mode\":\"markers\",\"name\":\"Metaverse,Collectibles,Digital,2D,Graphics\",\"orientation\":\"v\",\"showlegend\":true,\"x\":[14.682],\"xaxis\":\"x\",\"y\":[78.9605122],\"yaxis\":\"y\",\"type\":\"scatter\"},{\"hovertemplate\":\"Category=Digital,3D,Video,Design,Art,Graphics<br>Floor_Price_USD=%{x}<br>Average_Price_USD=%{y}<extra></extra>\",\"legendgroup\":\"Digital,3D,Video,Design,Art,Graphics\",\"marker\":{\"color\":\"#FF6692\",\"symbol\":\"circle\"},\"mode\":\"markers\",\"name\":\"Digital,3D,Video,Design,Art,Graphics\",\"orientation\":\"v\",\"showlegend\":true,\"x\":[293.64],\"xaxis\":\"x\",\"y\":[293.64],\"yaxis\":\"y\",\"type\":\"scatter\"},{\"hovertemplate\":\"Category=Digital<br>Floor_Price_USD=%{x}<br>Average_Price_USD=%{y}<extra></extra>\",\"legendgroup\":\"Digital\",\"marker\":{\"color\":\"#B6E880\",\"symbol\":\"circle\"},\"mode\":\"markers\",\"name\":\"Digital\",\"orientation\":\"v\",\"showlegend\":true,\"x\":[4.4046,7.341,293.64],\"xaxis\":\"x\",\"y\":[6.006525996,74.3888,293.64],\"yaxis\":\"y\",\"type\":\"scatter\"},{\"hovertemplate\":\"Category=Digital,Metaverse,Art,Trading Cards,PFP,2D,Picture,Design,Image,AI,Collectibles<br>Floor_Price_USD=%{x}<br>Average_Price_USD=%{y}<extra></extra>\",\"legendgroup\":\"Digital,Metaverse,Art,Trading Cards,PFP,2D,Picture,Design,Image,AI,Collectibles\",\"marker\":{\"color\":\"#FF97FF\",\"symbol\":\"circle\"},\"mode\":\"markers\",\"name\":\"Digital,Metaverse,Art,Trading Cards,PFP,2D,Picture,Design,Image,AI,Collectibles\",\"orientation\":\"v\",\"showlegend\":true,\"x\":[29.364],\"xaxis\":\"x\",\"y\":[51.19124],\"yaxis\":\"y\",\"type\":\"scatter\"},{\"hovertemplate\":\"Category=Digital,3D,Video,Collectibles,Metaverse<br>Floor_Price_USD=%{x}<br>Average_Price_USD=%{y}<extra></extra>\",\"legendgroup\":\"Digital,3D,Video,Collectibles,Metaverse\",\"marker\":{\"color\":\"#FECB52\",\"symbol\":\"circle\"},\"mode\":\"markers\",\"name\":\"Digital,3D,Video,Collectibles,Metaverse\",\"orientation\":\"v\",\"showlegend\":true,\"x\":[36.705],\"xaxis\":\"x\",\"y\":[117.1736538],\"yaxis\":\"y\",\"type\":\"scatter\"},{\"hovertemplate\":\"Category=Digital,Art,Collectibles,Artifact<br>Floor_Price_USD=%{x}<br>Average_Price_USD=%{y}<extra></extra>\",\"legendgroup\":\"Digital,Art,Collectibles,Artifact\",\"marker\":{\"color\":\"#636efa\",\"symbol\":\"circle\"},\"mode\":\"markers\",\"name\":\"Digital,Art,Collectibles,Artifact\",\"orientation\":\"v\",\"showlegend\":true,\"x\":[132.138],\"xaxis\":\"x\",\"y\":[501.635],\"yaxis\":\"y\",\"type\":\"scatter\"},{\"hovertemplate\":\"Category=Digital,2D,Art,Collectibles<br>Floor_Price_USD=%{x}<br>Average_Price_USD=%{y}<extra></extra>\",\"legendgroup\":\"Digital,2D,Art,Collectibles\",\"marker\":{\"color\":\"#EF553B\",\"symbol\":\"circle\"},\"mode\":\"markers\",\"name\":\"Digital,2D,Art,Collectibles\",\"orientation\":\"v\",\"showlegend\":true,\"x\":[146.82],\"xaxis\":\"x\",\"y\":[2936.4],\"yaxis\":\"y\",\"type\":\"scatter\"},{\"hovertemplate\":\"Category=Music,Art,Collectibles,Drawing<br>Floor_Price_USD=%{x}<br>Average_Price_USD=%{y}<extra></extra>\",\"legendgroup\":\"Music,Art,Collectibles,Drawing\",\"marker\":{\"color\":\"#00cc96\",\"symbol\":\"circle\"},\"mode\":\"markers\",\"name\":\"Music,Art,Collectibles,Drawing\",\"orientation\":\"v\",\"showlegend\":true,\"x\":[73.41],\"xaxis\":\"x\",\"y\":[75.34184211],\"yaxis\":\"y\",\"type\":\"scatter\"},{\"hovertemplate\":\"Category=Collectibles,Digital,PFP<br>Floor_Price_USD=%{x}<br>Average_Price_USD=%{y}<extra></extra>\",\"legendgroup\":\"Collectibles,Digital,PFP\",\"marker\":{\"color\":\"#ab63fa\",\"symbol\":\"circle\"},\"mode\":\"markers\",\"name\":\"Collectibles,Digital,PFP\",\"orientation\":\"v\",\"showlegend\":true,\"x\":[5.8728],\"xaxis\":\"x\",\"y\":[8.713744272],\"yaxis\":\"y\",\"type\":\"scatter\"},{\"hovertemplate\":\"Category=Art,Physical,Collectibles,Music,Audio,3D,Painting,Sculpture,Photography<br>Floor_Price_USD=%{x}<br>Average_Price_USD=%{y}<extra></extra>\",\"legendgroup\":\"Art,Physical,Collectibles,Music,Audio,3D,Painting,Sculpture,Photography\",\"marker\":{\"color\":\"#FFA15A\",\"symbol\":\"circle\"},\"mode\":\"markers\",\"name\":\"Art,Physical,Collectibles,Music,Audio,3D,Painting,Sculpture,Photography\",\"orientation\":\"v\",\"showlegend\":true,\"x\":[27.8958],\"xaxis\":\"x\",\"y\":[33.80485185],\"yaxis\":\"y\",\"type\":\"scatter\"},{\"hovertemplate\":\"Category=Digital,3D,Metaverse,Art,Graphics,Video<br>Floor_Price_USD=%{x}<br>Average_Price_USD=%{y}<extra></extra>\",\"legendgroup\":\"Digital,3D,Metaverse,Art,Graphics,Video\",\"marker\":{\"color\":\"#19d3f3\",\"symbol\":\"circle\"},\"mode\":\"markers\",\"name\":\"Digital,3D,Metaverse,Art,Graphics,Video\",\"orientation\":\"v\",\"showlegend\":true,\"x\":[190.866],\"xaxis\":\"x\",\"y\":[181.078],\"yaxis\":\"y\",\"type\":\"scatter\"},{\"hovertemplate\":\"Category=Digital,Metaverse,Immaterial,Art,Collectibles,Privilege,Ticket<br>Floor_Price_USD=%{x}<br>Average_Price_USD=%{y}<extra></extra>\",\"legendgroup\":\"Digital,Metaverse,Immaterial,Art,Collectibles,Privilege,Ticket\",\"marker\":{\"color\":\"#FF6692\",\"symbol\":\"circle\"},\"mode\":\"markers\",\"name\":\"Digital,Metaverse,Immaterial,Art,Collectibles,Privilege,Ticket\",\"orientation\":\"v\",\"showlegend\":true,\"x\":[14.682],\"xaxis\":\"x\",\"y\":[21.86655246],\"yaxis\":\"y\",\"type\":\"scatter\"},{\"hovertemplate\":\"Category=Art,3D,Digital,PFP,Design,Ticket<br>Floor_Price_USD=%{x}<br>Average_Price_USD=%{y}<extra></extra>\",\"legendgroup\":\"Art,3D,Digital,PFP,Design,Ticket\",\"marker\":{\"color\":\"#B6E880\",\"symbol\":\"circle\"},\"mode\":\"markers\",\"name\":\"Art,3D,Digital,PFP,Design,Ticket\",\"orientation\":\"v\",\"showlegend\":true,\"x\":[8.8092],\"xaxis\":\"x\",\"y\":[21.36110656],\"yaxis\":\"y\",\"type\":\"scatter\"},{\"hovertemplate\":\"Category=Digital,Art,Collectibles,Drawing,PFP,Picture,Painting,2D<br>Floor_Price_USD=%{x}<br>Average_Price_USD=%{y}<extra></extra>\",\"legendgroup\":\"Digital,Art,Collectibles,Drawing,PFP,Picture,Painting,2D\",\"marker\":{\"color\":\"#FF97FF\",\"symbol\":\"circle\"},\"mode\":\"markers\",\"name\":\"Digital,Art,Collectibles,Drawing,PFP,Picture,Painting,2D\",\"orientation\":\"v\",\"showlegend\":true,\"x\":[44.046],\"xaxis\":\"x\",\"y\":[41.89106129],\"yaxis\":\"y\",\"type\":\"scatter\"},{\"hovertemplate\":\"Category=PFP,Metaverse,Drawing,Art,Collectibles,2D,Digital<br>Floor_Price_USD=%{x}<br>Average_Price_USD=%{y}<extra></extra>\",\"legendgroup\":\"PFP,Metaverse,Drawing,Art,Collectibles,2D,Digital\",\"marker\":{\"color\":\"#FECB52\",\"symbol\":\"circle\"},\"mode\":\"markers\",\"name\":\"PFP,Metaverse,Drawing,Art,Collectibles,2D,Digital\",\"orientation\":\"v\",\"showlegend\":true,\"x\":[66.069],\"xaxis\":\"x\",\"y\":[98.25646154],\"yaxis\":\"y\",\"type\":\"scatter\"},{\"hovertemplate\":\"Category=Digital,Art,Collectibles,2D,Image<br>Floor_Price_USD=%{x}<br>Average_Price_USD=%{y}<extra></extra>\",\"legendgroup\":\"Digital,Art,Collectibles,2D,Image\",\"marker\":{\"color\":\"#636efa\",\"symbol\":\"circle\"},\"mode\":\"markers\",\"name\":\"Digital,Art,Collectibles,2D,Image\",\"orientation\":\"v\",\"showlegend\":true,\"x\":[44.046],\"xaxis\":\"x\",\"y\":[72.06764571],\"yaxis\":\"y\",\"type\":\"scatter\"},{\"hovertemplate\":\"Category=Digital,Trading Cards,Graphics,Design,Image,Drawing,Art,2D,Collectibles<br>Floor_Price_USD=%{x}<br>Average_Price_USD=%{y}<extra></extra>\",\"legendgroup\":\"Digital,Trading Cards,Graphics,Design,Image,Drawing,Art,2D,Collectibles\",\"marker\":{\"color\":\"#EF553B\",\"symbol\":\"circle\"},\"mode\":\"markers\",\"name\":\"Digital,Trading Cards,Graphics,Design,Image,Drawing,Art,2D,Collectibles\",\"orientation\":\"v\",\"showlegend\":true,\"x\":[49.9188],\"xaxis\":\"x\",\"y\":[30.58153171],\"yaxis\":\"y\",\"type\":\"scatter\"},{\"hovertemplate\":\"Category=Art,PFP,Collectibles,Metaverse,Digital,Graphics,2D,Design,Drawing<br>Floor_Price_USD=%{x}<br>Average_Price_USD=%{y}<extra></extra>\",\"legendgroup\":\"Art,PFP,Collectibles,Metaverse,Digital,Graphics,2D,Design,Drawing\",\"marker\":{\"color\":\"#00cc96\",\"symbol\":\"circle\"},\"mode\":\"markers\",\"name\":\"Art,PFP,Collectibles,Metaverse,Digital,Graphics,2D,Design,Drawing\",\"orientation\":\"v\",\"showlegend\":true,\"x\":[58.728],\"xaxis\":\"x\",\"y\":[89.45532857],\"yaxis\":\"y\",\"type\":\"scatter\"},{\"hovertemplate\":\"Category=Image,Art,Collectibles,3D,Design,Graphics<br>Floor_Price_USD=%{x}<br>Average_Price_USD=%{y}<extra></extra>\",\"legendgroup\":\"Image,Art,Collectibles,3D,Design,Graphics\",\"marker\":{\"color\":\"#ab63fa\",\"symbol\":\"circle\"},\"mode\":\"markers\",\"name\":\"Image,Art,Collectibles,3D,Design,Graphics\",\"orientation\":\"v\",\"showlegend\":true,\"x\":[36.705],\"xaxis\":\"x\",\"y\":[166.59176],\"yaxis\":\"y\",\"type\":\"scatter\"},{\"hovertemplate\":\"Category=Digital,Art,Metaverse,PFP,Graphics,3D,Collectibles,Design<br>Floor_Price_USD=%{x}<br>Average_Price_USD=%{y}<extra></extra>\",\"legendgroup\":\"Digital,Art,Metaverse,PFP,Graphics,3D,Collectibles,Design\",\"marker\":{\"color\":\"#FFA15A\",\"symbol\":\"circle\"},\"mode\":\"markers\",\"name\":\"Digital,Art,Metaverse,PFP,Graphics,3D,Collectibles,Design\",\"orientation\":\"v\",\"showlegend\":true,\"x\":[146.82],\"xaxis\":\"x\",\"y\":[155.99625],\"yaxis\":\"y\",\"type\":\"scatter\"},{\"hovertemplate\":\"Category=Collectibles,Art<br>Floor_Price_USD=%{x}<br>Average_Price_USD=%{y}<extra></extra>\",\"legendgroup\":\"Collectibles,Art\",\"marker\":{\"color\":\"#19d3f3\",\"symbol\":\"circle\"},\"mode\":\"markers\",\"name\":\"Collectibles,Art\",\"orientation\":\"v\",\"showlegend\":true,\"x\":[88.092,35.2368,13.2138],\"xaxis\":\"x\",\"y\":[73.63245455,52.44226875,12.235],\"yaxis\":\"y\",\"type\":\"scatter\"},{\"hovertemplate\":\"Category=Art,PFP,Collectibles<br>Floor_Price_USD=%{x}<br>Average_Price_USD=%{y}<extra></extra>\",\"legendgroup\":\"Art,PFP,Collectibles\",\"marker\":{\"color\":\"#FF6692\",\"symbol\":\"circle\"},\"mode\":\"markers\",\"name\":\"Art,PFP,Collectibles\",\"orientation\":\"v\",\"showlegend\":true,\"x\":[44.046],\"xaxis\":\"x\",\"y\":[42.60401786],\"yaxis\":\"y\",\"type\":\"scatter\"},{\"hovertemplate\":\"Category=Art,Digital,2D,Design,Image<br>Floor_Price_USD=%{x}<br>Average_Price_USD=%{y}<extra></extra>\",\"legendgroup\":\"Art,Digital,2D,Design,Image\",\"marker\":{\"color\":\"#B6E880\",\"symbol\":\"circle\"},\"mode\":\"markers\",\"name\":\"Art,Digital,2D,Design,Image\",\"orientation\":\"v\",\"showlegend\":true,\"x\":[14.682],\"xaxis\":\"x\",\"y\":[70.963],\"yaxis\":\"y\",\"type\":\"scatter\"},{\"hovertemplate\":\"Category=Digital,PFP,Collectibles,3D,P2E<br>Floor_Price_USD=%{x}<br>Average_Price_USD=%{y}<extra></extra>\",\"legendgroup\":\"Digital,PFP,Collectibles,3D,P2E\",\"marker\":{\"color\":\"#FF97FF\",\"symbol\":\"circle\"},\"mode\":\"markers\",\"name\":\"Digital,PFP,Collectibles,3D,P2E\",\"orientation\":\"v\",\"showlegend\":true,\"x\":[58.728],\"xaxis\":\"x\",\"y\":[116.64849],\"yaxis\":\"y\",\"type\":\"scatter\"},{\"hovertemplate\":\"Category=Digital,Art,3D,Drawing,Print,Collectibles<br>Floor_Price_USD=%{x}<br>Average_Price_USD=%{y}<extra></extra>\",\"legendgroup\":\"Digital,Art,3D,Drawing,Print,Collectibles\",\"marker\":{\"color\":\"#FECB52\",\"symbol\":\"circle\"},\"mode\":\"markers\",\"name\":\"Digital,Art,3D,Drawing,Print,Collectibles\",\"orientation\":\"v\",\"showlegend\":true,\"x\":[73.41],\"xaxis\":\"x\",\"y\":[43.12157778],\"yaxis\":\"y\",\"type\":\"scatter\"},{\"hovertemplate\":\"Category=Art,Collectibles,2D,Image,Graphics,Digital<br>Floor_Price_USD=%{x}<br>Average_Price_USD=%{y}<extra></extra>\",\"legendgroup\":\"Art,Collectibles,2D,Image,Graphics,Digital\",\"marker\":{\"color\":\"#636efa\",\"symbol\":\"circle\"},\"mode\":\"markers\",\"name\":\"Art,Collectibles,2D,Image,Graphics,Digital\",\"orientation\":\"v\",\"showlegend\":true,\"x\":[22.023],\"xaxis\":\"x\",\"y\":[109.9052571],\"yaxis\":\"y\",\"type\":\"scatter\"},{\"hovertemplate\":\"Category=Digital,Privilege,Art,2D<br>Floor_Price_USD=%{x}<br>Average_Price_USD=%{y}<extra></extra>\",\"legendgroup\":\"Digital,Privilege,Art,2D\",\"marker\":{\"color\":\"#EF553B\",\"symbol\":\"circle\"},\"mode\":\"markers\",\"name\":\"Digital,Privilege,Art,2D\",\"orientation\":\"v\",\"showlegend\":true,\"x\":[null],\"xaxis\":\"x\",\"y\":[458.37204],\"yaxis\":\"y\",\"type\":\"scatter\"},{\"hovertemplate\":\"Category=Collectibles,Digital,Drawing<br>Floor_Price_USD=%{x}<br>Average_Price_USD=%{y}<extra></extra>\",\"legendgroup\":\"Collectibles,Digital,Drawing\",\"marker\":{\"color\":\"#00cc96\",\"symbol\":\"circle\"},\"mode\":\"markers\",\"name\":\"Collectibles,Digital,Drawing\",\"orientation\":\"v\",\"showlegend\":true,\"x\":[null],\"xaxis\":\"x\",\"y\":[175.9581231],\"yaxis\":\"y\",\"type\":\"scatter\"},{\"hovertemplate\":\"Category=P2E,Metaverse,Art<br>Floor_Price_USD=%{x}<br>Average_Price_USD=%{y}<extra></extra>\",\"legendgroup\":\"P2E,Metaverse,Art\",\"marker\":{\"color\":\"#ab63fa\",\"symbol\":\"circle\"},\"mode\":\"markers\",\"name\":\"P2E,Metaverse,Art\",\"orientation\":\"v\",\"showlegend\":true,\"x\":[4.4046],\"xaxis\":\"x\",\"y\":[7.183029114],\"yaxis\":\"y\",\"type\":\"scatter\"},{\"hovertemplate\":\"Category=Digital,Art,Painting<br>Floor_Price_USD=%{x}<br>Average_Price_USD=%{y}<extra></extra>\",\"legendgroup\":\"Digital,Art,Painting\",\"marker\":{\"color\":\"#FFA15A\",\"symbol\":\"circle\"},\"mode\":\"markers\",\"name\":\"Digital,Art,Painting\",\"orientation\":\"v\",\"showlegend\":true,\"x\":[17.6184],\"xaxis\":\"x\",\"y\":[35.1886623],\"yaxis\":\"y\",\"type\":\"scatter\"},{\"hovertemplate\":\"Category=Art,Collectibles,2D<br>Floor_Price_USD=%{x}<br>Average_Price_USD=%{y}<extra></extra>\",\"legendgroup\":\"Art,Collectibles,2D\",\"marker\":{\"color\":\"#19d3f3\",\"symbol\":\"circle\"},\"mode\":\"markers\",\"name\":\"Art,Collectibles,2D\",\"orientation\":\"v\",\"showlegend\":true,\"x\":[66.069,2.9364],\"xaxis\":\"x\",\"y\":[133.789725,3.848955249],\"yaxis\":\"y\",\"type\":\"scatter\"},{\"hovertemplate\":\"Category=Collectibles,Ticket,Video<br>Floor_Price_USD=%{x}<br>Average_Price_USD=%{y}<extra></extra>\",\"legendgroup\":\"Collectibles,Ticket,Video\",\"marker\":{\"color\":\"#FF6692\",\"symbol\":\"circle\"},\"mode\":\"markers\",\"name\":\"Collectibles,Ticket,Video\",\"orientation\":\"v\",\"showlegend\":true,\"x\":[null],\"xaxis\":\"x\",\"y\":[73.41],\"yaxis\":\"y\",\"type\":\"scatter\"},{\"hovertemplate\":\"Category=Collectibles,2D,Pixel Art<br>Floor_Price_USD=%{x}<br>Average_Price_USD=%{y}<extra></extra>\",\"legendgroup\":\"Collectibles,2D,Pixel Art\",\"marker\":{\"color\":\"#B6E880\",\"symbol\":\"circle\"},\"mode\":\"markers\",\"name\":\"Collectibles,2D,Pixel Art\",\"orientation\":\"v\",\"showlegend\":true,\"x\":[117.456],\"xaxis\":\"x\",\"y\":[304.1271429],\"yaxis\":\"y\",\"type\":\"scatter\"},{\"hovertemplate\":\"Category=Art,Collectibles,Metaverse,PFP,Digital<br>Floor_Price_USD=%{x}<br>Average_Price_USD=%{y}<extra></extra>\",\"legendgroup\":\"Art,Collectibles,Metaverse,PFP,Digital\",\"marker\":{\"color\":\"#FF97FF\",\"symbol\":\"circle\"},\"mode\":\"markers\",\"name\":\"Art,Collectibles,Metaverse,PFP,Digital\",\"orientation\":\"v\",\"showlegend\":true,\"x\":[24.9594],\"xaxis\":\"x\",\"y\":[44.046],\"yaxis\":\"y\",\"type\":\"scatter\"},{\"hovertemplate\":\"Category=Art,Collectibles,2D,Drawing<br>Floor_Price_USD=%{x}<br>Average_Price_USD=%{y}<extra></extra>\",\"legendgroup\":\"Art,Collectibles,2D,Drawing\",\"marker\":{\"color\":\"#FECB52\",\"symbol\":\"circle\"},\"mode\":\"markers\",\"name\":\"Art,Collectibles,2D,Drawing\",\"orientation\":\"v\",\"showlegend\":true,\"x\":[440.46],\"xaxis\":\"x\",\"y\":[675.372],\"yaxis\":\"y\",\"type\":\"scatter\"},{\"hovertemplate\":\"Category=3D,Art,Collectibles<br>Floor_Price_USD=%{x}<br>Average_Price_USD=%{y}<extra></extra>\",\"legendgroup\":\"3D,Art,Collectibles\",\"marker\":{\"color\":\"#636efa\",\"symbol\":\"circle\"},\"mode\":\"markers\",\"name\":\"3D,Art,Collectibles\",\"orientation\":\"v\",\"showlegend\":true,\"x\":[14.682],\"xaxis\":\"x\",\"y\":[74.49755556],\"yaxis\":\"y\",\"type\":\"scatter\"},{\"hovertemplate\":\"Category=Digital,AI,Art,Collectibles,PFP,2D,Graphics,Drawing,Image<br>Floor_Price_USD=%{x}<br>Average_Price_USD=%{y}<extra></extra>\",\"legendgroup\":\"Digital,AI,Art,Collectibles,PFP,2D,Graphics,Drawing,Image\",\"marker\":{\"color\":\"#EF553B\",\"symbol\":\"circle\"},\"mode\":\"markers\",\"name\":\"Digital,AI,Art,Collectibles,PFP,2D,Graphics,Drawing,Image\",\"orientation\":\"v\",\"showlegend\":true,\"x\":[4.4046],\"xaxis\":\"x\",\"y\":[17.06625641],\"yaxis\":\"y\",\"type\":\"scatter\"},{\"hovertemplate\":\"Category=2D,Metaverse,Collectibles,Graphics,Image<br>Floor_Price_USD=%{x}<br>Average_Price_USD=%{y}<extra></extra>\",\"legendgroup\":\"2D,Metaverse,Collectibles,Graphics,Image\",\"marker\":{\"color\":\"#00cc96\",\"symbol\":\"circle\"},\"mode\":\"markers\",\"name\":\"2D,Metaverse,Collectibles,Graphics,Image\",\"orientation\":\"v\",\"showlegend\":true,\"x\":[16.1502],\"xaxis\":\"x\",\"y\":[17.34651111],\"yaxis\":\"y\",\"type\":\"scatter\"},{\"hovertemplate\":\"Category=Digital,Art,Collectibles,Graphics,Street Art,Picture,Image<br>Floor_Price_USD=%{x}<br>Average_Price_USD=%{y}<extra></extra>\",\"legendgroup\":\"Digital,Art,Collectibles,Graphics,Street Art,Picture,Image\",\"marker\":{\"color\":\"#ab63fa\",\"symbol\":\"circle\"},\"mode\":\"markers\",\"name\":\"Digital,Art,Collectibles,Graphics,Street Art,Picture,Image\",\"orientation\":\"v\",\"showlegend\":true,\"x\":[35.2368],\"xaxis\":\"x\",\"y\":[52.35181714],\"yaxis\":\"y\",\"type\":\"scatter\"},{\"hovertemplate\":\"Category=Digital,Art,Painting,Drawing,Collectibles<br>Floor_Price_USD=%{x}<br>Average_Price_USD=%{y}<extra></extra>\",\"legendgroup\":\"Digital,Art,Painting,Drawing,Collectibles\",\"marker\":{\"color\":\"#FFA15A\",\"symbol\":\"circle\"},\"mode\":\"markers\",\"name\":\"Digital,Art,Painting,Drawing,Collectibles\",\"orientation\":\"v\",\"showlegend\":true,\"x\":[22.023],\"xaxis\":\"x\",\"y\":[21.79577857],\"yaxis\":\"y\",\"type\":\"scatter\"},{\"hovertemplate\":\"Category=Metaverse,Privilege,Digital,Art<br>Floor_Price_USD=%{x}<br>Average_Price_USD=%{y}<extra></extra>\",\"legendgroup\":\"Metaverse,Privilege,Digital,Art\",\"marker\":{\"color\":\"#19d3f3\",\"symbol\":\"circle\"},\"mode\":\"markers\",\"name\":\"Metaverse,Privilege,Digital,Art\",\"orientation\":\"v\",\"showlegend\":true,\"x\":[293.64],\"xaxis\":\"x\",\"y\":[440.46],\"yaxis\":\"y\",\"type\":\"scatter\"},{\"hovertemplate\":\"Category=3D,Art,Digital,PFP,Music Theme,Video<br>Floor_Price_USD=%{x}<br>Average_Price_USD=%{y}<extra></extra>\",\"legendgroup\":\"3D,Art,Digital,PFP,Music Theme,Video\",\"marker\":{\"color\":\"#FF6692\",\"symbol\":\"circle\"},\"mode\":\"markers\",\"name\":\"3D,Art,Digital,PFP,Music Theme,Video\",\"orientation\":\"v\",\"showlegend\":true,\"x\":[176.184],\"xaxis\":\"x\",\"y\":[176.184],\"yaxis\":\"y\",\"type\":\"scatter\"},{\"hovertemplate\":\"Category=Collectibles,PFP,P2E<br>Floor_Price_USD=%{x}<br>Average_Price_USD=%{y}<extra></extra>\",\"legendgroup\":\"Collectibles,PFP,P2E\",\"marker\":{\"color\":\"#B6E880\",\"symbol\":\"circle\"},\"mode\":\"markers\",\"name\":\"Collectibles,PFP,P2E\",\"orientation\":\"v\",\"showlegend\":true,\"x\":[1468.2],\"xaxis\":\"x\",\"y\":[174.42216],\"yaxis\":\"y\",\"type\":\"scatter\"},{\"hovertemplate\":\"Category=Digital,Art,Collectibles,Artifact,Performance,PFP,Graphics,2D,Street Art,Picture<br>Floor_Price_USD=%{x}<br>Average_Price_USD=%{y}<extra></extra>\",\"legendgroup\":\"Digital,Art,Collectibles,Artifact,Performance,PFP,Graphics,2D,Street Art,Picture\",\"marker\":{\"color\":\"#FF97FF\",\"symbol\":\"circle\"},\"mode\":\"markers\",\"name\":\"Digital,Art,Collectibles,Artifact,Performance,PFP,Graphics,2D,Street Art,Picture\",\"orientation\":\"v\",\"showlegend\":true,\"x\":[42.5778],\"xaxis\":\"x\",\"y\":[59.74055172],\"yaxis\":\"y\",\"type\":\"scatter\"},{\"hovertemplate\":\"Category=Art,Digital,Collectibles,Metaverse,Drawing<br>Floor_Price_USD=%{x}<br>Average_Price_USD=%{y}<extra></extra>\",\"legendgroup\":\"Art,Digital,Collectibles,Metaverse,Drawing\",\"marker\":{\"color\":\"#FECB52\",\"symbol\":\"circle\"},\"mode\":\"markers\",\"name\":\"Art,Digital,Collectibles,Metaverse,Drawing\",\"orientation\":\"v\",\"showlegend\":true,\"x\":[14.682],\"xaxis\":\"x\",\"y\":[16.59641765],\"yaxis\":\"y\",\"type\":\"scatter\"},{\"hovertemplate\":\"Category=Digital,Art,Collectibles,PFP,2D,Drawing,Image,Picture,Design<br>Floor_Price_USD=%{x}<br>Average_Price_USD=%{y}<extra></extra>\",\"legendgroup\":\"Digital,Art,Collectibles,PFP,2D,Drawing,Image,Picture,Design\",\"marker\":{\"color\":\"#636efa\",\"symbol\":\"circle\"},\"mode\":\"markers\",\"name\":\"Digital,Art,Collectibles,PFP,2D,Drawing,Image,Picture,Design\",\"orientation\":\"v\",\"showlegend\":true,\"x\":[29.364],\"xaxis\":\"x\",\"y\":[43.85281579],\"yaxis\":\"y\",\"type\":\"scatter\"},{\"hovertemplate\":\"Category=Photography,Art<br>Floor_Price_USD=%{x}<br>Average_Price_USD=%{y}<extra></extra>\",\"legendgroup\":\"Photography,Art\",\"marker\":{\"color\":\"#EF553B\",\"symbol\":\"circle\"},\"mode\":\"markers\",\"name\":\"Photography,Art\",\"orientation\":\"v\",\"showlegend\":true,\"x\":[541.7658],\"xaxis\":\"x\",\"y\":[541.7658],\"yaxis\":\"y\",\"type\":\"scatter\"},{\"hovertemplate\":\"Category=Physical,Digital,Privilege<br>Floor_Price_USD=%{x}<br>Average_Price_USD=%{y}<extra></extra>\",\"legendgroup\":\"Physical,Digital,Privilege\",\"marker\":{\"color\":\"#00cc96\",\"symbol\":\"circle\"},\"mode\":\"markers\",\"name\":\"Physical,Digital,Privilege\",\"orientation\":\"v\",\"showlegend\":true,\"x\":[146.82],\"xaxis\":\"x\",\"y\":[146.82],\"yaxis\":\"y\",\"type\":\"scatter\"},{\"hovertemplate\":\"Category=Digital,Metaverse,Art,Collectibles,2D,Drawing<br>Floor_Price_USD=%{x}<br>Average_Price_USD=%{y}<extra></extra>\",\"legendgroup\":\"Digital,Metaverse,Art,Collectibles,2D,Drawing\",\"marker\":{\"color\":\"#ab63fa\",\"symbol\":\"circle\"},\"mode\":\"markers\",\"name\":\"Digital,Metaverse,Art,Collectibles,2D,Drawing\",\"orientation\":\"v\",\"showlegend\":true,\"x\":[880.92],\"xaxis\":\"x\",\"y\":[201.8775],\"yaxis\":\"y\",\"type\":\"scatter\"},{\"hovertemplate\":\"Category=Design,Photography,Digital<br>Floor_Price_USD=%{x}<br>Average_Price_USD=%{y}<extra></extra>\",\"legendgroup\":\"Design,Photography,Digital\",\"marker\":{\"color\":\"#FFA15A\",\"symbol\":\"circle\"},\"mode\":\"markers\",\"name\":\"Design,Photography,Digital\",\"orientation\":\"v\",\"showlegend\":true,\"x\":[44.046],\"xaxis\":\"x\",\"y\":[268.9253],\"yaxis\":\"y\",\"type\":\"scatter\"},{\"hovertemplate\":\"Category=Digital,Metaverse,Art,Collectibles,Graphics,2D,Design,Picture,Image<br>Floor_Price_USD=%{x}<br>Average_Price_USD=%{y}<extra></extra>\",\"legendgroup\":\"Digital,Metaverse,Art,Collectibles,Graphics,2D,Design,Picture,Image\",\"marker\":{\"color\":\"#19d3f3\",\"symbol\":\"circle\"},\"mode\":\"markers\",\"name\":\"Digital,Metaverse,Art,Collectibles,Graphics,2D,Design,Picture,Image\",\"orientation\":\"v\",\"showlegend\":true,\"x\":[22.023],\"xaxis\":\"x\",\"y\":[53.19778],\"yaxis\":\"y\",\"type\":\"scatter\"},{\"hovertemplate\":\"Category=Art,Digital,Image,Painting,Collectibles,2D,Design,AI<br>Floor_Price_USD=%{x}<br>Average_Price_USD=%{y}<extra></extra>\",\"legendgroup\":\"Art,Digital,Image,Painting,Collectibles,2D,Design,AI\",\"marker\":{\"color\":\"#FF6692\",\"symbol\":\"circle\"},\"mode\":\"markers\",\"name\":\"Art,Digital,Image,Painting,Collectibles,2D,Design,AI\",\"orientation\":\"v\",\"showlegend\":true,\"x\":[146.82],\"xaxis\":\"x\",\"y\":[128.4675],\"yaxis\":\"y\",\"type\":\"scatter\"},{\"hovertemplate\":\"Category=Digital,Metaverse,Art,Collectibles,Music,Music Theme,Painting,Picture,Image<br>Floor_Price_USD=%{x}<br>Average_Price_USD=%{y}<extra></extra>\",\"legendgroup\":\"Digital,Metaverse,Art,Collectibles,Music,Music Theme,Painting,Picture,Image\",\"marker\":{\"color\":\"#B6E880\",\"symbol\":\"circle\"},\"mode\":\"markers\",\"name\":\"Digital,Metaverse,Art,Collectibles,Music,Music Theme,Painting,Picture,Image\",\"orientation\":\"v\",\"showlegend\":true,\"x\":[17.6184],\"xaxis\":\"x\",\"y\":[24.44669524],\"yaxis\":\"y\",\"type\":\"scatter\"},{\"hovertemplate\":\"Category=3D,Art,Video,Collectibles,Design,Digital,Graphics,Image,Picture,Sculpture,Photography<br>Floor_Price_USD=%{x}<br>Average_Price_USD=%{y}<extra></extra>\",\"legendgroup\":\"3D,Art,Video,Collectibles,Design,Digital,Graphics,Image,Picture,Sculpture,Photography\",\"marker\":{\"color\":\"#FF97FF\",\"symbol\":\"circle\"},\"mode\":\"markers\",\"name\":\"3D,Art,Video,Collectibles,Design,Digital,Graphics,Image,Picture,Sculpture,Photography\",\"orientation\":\"v\",\"showlegend\":true,\"x\":[286.299],\"xaxis\":\"x\",\"y\":[302.4492],\"yaxis\":\"y\",\"type\":\"scatter\"},{\"hovertemplate\":\"Category=Photography,Collectibles,Art<br>Floor_Price_USD=%{x}<br>Average_Price_USD=%{y}<extra></extra>\",\"legendgroup\":\"Photography,Collectibles,Art\",\"marker\":{\"color\":\"#FECB52\",\"symbol\":\"circle\"},\"mode\":\"markers\",\"name\":\"Photography,Collectibles,Art\",\"orientation\":\"v\",\"showlegend\":true,\"x\":[29.364],\"xaxis\":\"x\",\"y\":[57.59861538],\"yaxis\":\"y\",\"type\":\"scatter\"},{\"hovertemplate\":\"Category=Digital,Street Art,Collectibles,Art,2D<br>Floor_Price_USD=%{x}<br>Average_Price_USD=%{y}<extra></extra>\",\"legendgroup\":\"Digital,Street Art,Collectibles,Art,2D\",\"marker\":{\"color\":\"#636efa\",\"symbol\":\"circle\"},\"mode\":\"markers\",\"name\":\"Digital,Street Art,Collectibles,Art,2D\",\"orientation\":\"v\",\"showlegend\":true,\"x\":[101.3058],\"xaxis\":\"x\",\"y\":[113.8419692],\"yaxis\":\"y\",\"type\":\"scatter\"},{\"hovertemplate\":\"Category=2D,Digital,Metaverse,Art,Collectibles,Artifact,Image,Picture,Drawing,Painting,Graphics<br>Floor_Price_USD=%{x}<br>Average_Price_USD=%{y}<extra></extra>\",\"legendgroup\":\"2D,Digital,Metaverse,Art,Collectibles,Artifact,Image,Picture,Drawing,Painting,Graphics\",\"marker\":{\"color\":\"#EF553B\",\"symbol\":\"circle\"},\"mode\":\"markers\",\"name\":\"2D,Digital,Metaverse,Art,Collectibles,Artifact,Image,Picture,Drawing,Painting,Graphics\",\"orientation\":\"v\",\"showlegend\":true,\"x\":[73.41],\"xaxis\":\"x\",\"y\":[73.41],\"yaxis\":\"y\",\"type\":\"scatter\"},{\"hovertemplate\":\"Category=Collectibles,Art,Design,PFP,Graphics,2D,3D,Picture,Street Art<br>Floor_Price_USD=%{x}<br>Average_Price_USD=%{y}<extra></extra>\",\"legendgroup\":\"Collectibles,Art,Design,PFP,Graphics,2D,3D,Picture,Street Art\",\"marker\":{\"color\":\"#00cc96\",\"symbol\":\"circle\"},\"mode\":\"markers\",\"name\":\"Collectibles,Art,Design,PFP,Graphics,2D,3D,Picture,Street Art\",\"orientation\":\"v\",\"showlegend\":true,\"x\":[29.364],\"xaxis\":\"x\",\"y\":[45.88125],\"yaxis\":\"y\",\"type\":\"scatter\"},{\"hovertemplate\":\"Category=Digital,Art,2D,Painting,Image,Print<br>Floor_Price_USD=%{x}<br>Average_Price_USD=%{y}<extra></extra>\",\"legendgroup\":\"Digital,Art,2D,Painting,Image,Print\",\"marker\":{\"color\":\"#ab63fa\",\"symbol\":\"circle\"},\"mode\":\"markers\",\"name\":\"Digital,Art,2D,Painting,Image,Print\",\"orientation\":\"v\",\"showlegend\":true,\"x\":[null],\"xaxis\":\"x\",\"y\":[1468.2],\"yaxis\":\"y\",\"type\":\"scatter\"},{\"hovertemplate\":\"Category=Digital,3D,Privilege<br>Floor_Price_USD=%{x}<br>Average_Price_USD=%{y}<extra></extra>\",\"legendgroup\":\"Digital,3D,Privilege\",\"marker\":{\"color\":\"#FFA15A\",\"symbol\":\"circle\"},\"mode\":\"markers\",\"name\":\"Digital,3D,Privilege\",\"orientation\":\"v\",\"showlegend\":true,\"x\":[146.82],\"xaxis\":\"x\",\"y\":[146.82],\"yaxis\":\"y\",\"type\":\"scatter\"},{\"hovertemplate\":\"Category=Digital,Collectibles,Ticket,Privilege<br>Floor_Price_USD=%{x}<br>Average_Price_USD=%{y}<extra></extra>\",\"legendgroup\":\"Digital,Collectibles,Ticket,Privilege\",\"marker\":{\"color\":\"#19d3f3\",\"symbol\":\"circle\"},\"mode\":\"markers\",\"name\":\"Digital,Collectibles,Ticket,Privilege\",\"orientation\":\"v\",\"showlegend\":true,\"x\":[7.341],\"xaxis\":\"x\",\"y\":[8.8092],\"yaxis\":\"y\",\"type\":\"scatter\"},{\"hovertemplate\":\"Category=Collectibles,Art,PFP,2D<br>Floor_Price_USD=%{x}<br>Average_Price_USD=%{y}<extra></extra>\",\"legendgroup\":\"Collectibles,Art,PFP,2D\",\"marker\":{\"color\":\"#FF6692\",\"symbol\":\"circle\"},\"mode\":\"markers\",\"name\":\"Collectibles,Art,PFP,2D\",\"orientation\":\"v\",\"showlegend\":true,\"x\":[14.682],\"xaxis\":\"x\",\"y\":[18.05886],\"yaxis\":\"y\",\"type\":\"scatter\"},{\"hovertemplate\":\"Category=P2E,Image,Art,2D,PFP,Collectibles<br>Floor_Price_USD=%{x}<br>Average_Price_USD=%{y}<extra></extra>\",\"legendgroup\":\"P2E,Image,Art,2D,PFP,Collectibles\",\"marker\":{\"color\":\"#B6E880\",\"symbol\":\"circle\"},\"mode\":\"markers\",\"name\":\"P2E,Image,Art,2D,PFP,Collectibles\",\"orientation\":\"v\",\"showlegend\":true,\"x\":[14.682],\"xaxis\":\"x\",\"y\":[67.60711429],\"yaxis\":\"y\",\"type\":\"scatter\"},{\"hovertemplate\":\"Category=Digital,Physical,Art<br>Floor_Price_USD=%{x}<br>Average_Price_USD=%{y}<extra></extra>\",\"legendgroup\":\"Digital,Physical,Art\",\"marker\":{\"color\":\"#FF97FF\",\"symbol\":\"circle\"},\"mode\":\"markers\",\"name\":\"Digital,Physical,Art\",\"orientation\":\"v\",\"showlegend\":true,\"x\":[440.46],\"xaxis\":\"x\",\"y\":[464.93],\"yaxis\":\"y\",\"type\":\"scatter\"},{\"hovertemplate\":\"Category=PFP,Digital,Metaverse,Trading Cards,Image,Pixel Art,Collectibles<br>Floor_Price_USD=%{x}<br>Average_Price_USD=%{y}<extra></extra>\",\"legendgroup\":\"PFP,Digital,Metaverse,Trading Cards,Image,Pixel Art,Collectibles\",\"marker\":{\"color\":\"#FECB52\",\"symbol\":\"circle\"},\"mode\":\"markers\",\"name\":\"PFP,Digital,Metaverse,Trading Cards,Image,Pixel Art,Collectibles\",\"orientation\":\"v\",\"showlegend\":true,\"x\":[42.5778],\"xaxis\":\"x\",\"y\":[76.91736667],\"yaxis\":\"y\",\"type\":\"scatter\"},{\"hovertemplate\":\"Category=PFP,Metaverse,Digital,Art,2D,Collectibles,Painting<br>Floor_Price_USD=%{x}<br>Average_Price_USD=%{y}<extra></extra>\",\"legendgroup\":\"PFP,Metaverse,Digital,Art,2D,Collectibles,Painting\",\"marker\":{\"color\":\"#636efa\",\"symbol\":\"circle\"},\"mode\":\"markers\",\"name\":\"PFP,Metaverse,Digital,Art,2D,Collectibles,Painting\",\"orientation\":\"v\",\"showlegend\":true,\"x\":[146.82],\"xaxis\":\"x\",\"y\":[146.82],\"yaxis\":\"y\",\"type\":\"scatter\"},{\"hovertemplate\":\"Category=PFP,Drawing<br>Floor_Price_USD=%{x}<br>Average_Price_USD=%{y}<extra></extra>\",\"legendgroup\":\"PFP,Drawing\",\"marker\":{\"color\":\"#EF553B\",\"symbol\":\"circle\"},\"mode\":\"markers\",\"name\":\"PFP,Drawing\",\"orientation\":\"v\",\"showlegend\":true,\"x\":[440.46],\"xaxis\":\"x\",\"y\":[440.46],\"yaxis\":\"y\",\"type\":\"scatter\"},{\"hovertemplate\":\"Category=Digital,Art,Collectibles,Graphics<br>Floor_Price_USD=%{x}<br>Average_Price_USD=%{y}<extra></extra>\",\"legendgroup\":\"Digital,Art,Collectibles,Graphics\",\"marker\":{\"color\":\"#00cc96\",\"symbol\":\"circle\"},\"mode\":\"markers\",\"name\":\"Digital,Art,Collectibles,Graphics\",\"orientation\":\"v\",\"showlegend\":true,\"x\":[29.364],\"xaxis\":\"x\",\"y\":[65.62854],\"yaxis\":\"y\",\"type\":\"scatter\"},{\"hovertemplate\":\"Category=Digital,Art,Collectibles,AI,Metaverse,3D<br>Floor_Price_USD=%{x}<br>Average_Price_USD=%{y}<extra></extra>\",\"legendgroup\":\"Digital,Art,Collectibles,AI,Metaverse,3D\",\"marker\":{\"color\":\"#ab63fa\",\"symbol\":\"circle\"},\"mode\":\"markers\",\"name\":\"Digital,Art,Collectibles,AI,Metaverse,3D\",\"orientation\":\"v\",\"showlegend\":true,\"x\":[13.2138],\"xaxis\":\"x\",\"y\":[12.03108333],\"yaxis\":\"y\",\"type\":\"scatter\"},{\"hovertemplate\":\"Category=Digital,Art,Collectibles,Drawing,Video<br>Floor_Price_USD=%{x}<br>Average_Price_USD=%{y}<extra></extra>\",\"legendgroup\":\"Digital,Art,Collectibles,Drawing,Video\",\"marker\":{\"color\":\"#FFA15A\",\"symbol\":\"circle\"},\"mode\":\"markers\",\"name\":\"Digital,Art,Collectibles,Drawing,Video\",\"orientation\":\"v\",\"showlegend\":true,\"x\":[5.8728],\"xaxis\":\"x\",\"y\":[13.2587449],\"yaxis\":\"y\",\"type\":\"scatter\"},{\"hovertemplate\":\"Category=Digital,Art,3D<br>Floor_Price_USD=%{x}<br>Average_Price_USD=%{y}<extra></extra>\",\"legendgroup\":\"Digital,Art,3D\",\"marker\":{\"color\":\"#19d3f3\",\"symbol\":\"circle\"},\"mode\":\"markers\",\"name\":\"Digital,Art,3D\",\"orientation\":\"v\",\"showlegend\":true,\"x\":[73.41],\"xaxis\":\"x\",\"y\":[55.12423636],\"yaxis\":\"y\",\"type\":\"scatter\"},{\"hovertemplate\":\"Category=Physical,Digital,Collectibles,3D,Trading Cards,Trademark,Photography<br>Floor_Price_USD=%{x}<br>Average_Price_USD=%{y}<extra></extra>\",\"legendgroup\":\"Physical,Digital,Collectibles,3D,Trading Cards,Trademark,Photography\",\"marker\":{\"color\":\"#FF6692\",\"symbol\":\"circle\"},\"mode\":\"markers\",\"name\":\"Physical,Digital,Collectibles,3D,Trading Cards,Trademark,Photography\",\"orientation\":\"v\",\"showlegend\":true,\"x\":[146.82],\"xaxis\":\"x\",\"y\":[146.82],\"yaxis\":\"y\",\"type\":\"scatter\"},{\"hovertemplate\":\"Category=Digital,Art,2D,Painting,Drawing,Collectibles<br>Floor_Price_USD=%{x}<br>Average_Price_USD=%{y}<extra></extra>\",\"legendgroup\":\"Digital,Art,2D,Painting,Drawing,Collectibles\",\"marker\":{\"color\":\"#B6E880\",\"symbol\":\"circle\"},\"mode\":\"markers\",\"name\":\"Digital,Art,2D,Painting,Drawing,Collectibles\",\"orientation\":\"v\",\"showlegend\":true,\"x\":[null],\"xaxis\":\"x\",\"y\":[293.64],\"yaxis\":\"y\",\"type\":\"scatter\"},{\"hovertemplate\":\"Category=Privilege,Art,Drawing,Painting,PFP<br>Floor_Price_USD=%{x}<br>Average_Price_USD=%{y}<extra></extra>\",\"legendgroup\":\"Privilege,Art,Drawing,Painting,PFP\",\"marker\":{\"color\":\"#FF97FF\",\"symbol\":\"circle\"},\"mode\":\"markers\",\"name\":\"Privilege,Art,Drawing,Painting,PFP\",\"orientation\":\"v\",\"showlegend\":true,\"x\":[290.7036],\"xaxis\":\"x\",\"y\":[234.912],\"yaxis\":\"y\",\"type\":\"scatter\"},{\"hovertemplate\":\"Category=Physical,Digital,Art<br>Floor_Price_USD=%{x}<br>Average_Price_USD=%{y}<extra></extra>\",\"legendgroup\":\"Physical,Digital,Art\",\"marker\":{\"color\":\"#FECB52\",\"symbol\":\"circle\"},\"mode\":\"markers\",\"name\":\"Physical,Digital,Art\",\"orientation\":\"v\",\"showlegend\":true,\"x\":[146.82],\"xaxis\":\"x\",\"y\":[146.82],\"yaxis\":\"y\",\"type\":\"scatter\"},{\"hovertemplate\":\"Category=Art,Collectibles,PFP,2D,Picture,Image<br>Floor_Price_USD=%{x}<br>Average_Price_USD=%{y}<extra></extra>\",\"legendgroup\":\"Art,Collectibles,PFP,2D,Picture,Image\",\"marker\":{\"color\":\"#636efa\",\"symbol\":\"circle\"},\"mode\":\"markers\",\"name\":\"Art,Collectibles,PFP,2D,Picture,Image\",\"orientation\":\"v\",\"showlegend\":true,\"x\":[146.82],\"xaxis\":\"x\",\"y\":[157.3071429],\"yaxis\":\"y\",\"type\":\"scatter\"},{\"hovertemplate\":\"Category=Art,Collectibles,Digital<br>Floor_Price_USD=%{x}<br>Average_Price_USD=%{y}<extra></extra>\",\"legendgroup\":\"Art,Collectibles,Digital\",\"marker\":{\"color\":\"#EF553B\",\"symbol\":\"circle\"},\"mode\":\"markers\",\"name\":\"Art,Collectibles,Digital\",\"orientation\":\"v\",\"showlegend\":true,\"x\":[367.05],\"xaxis\":\"x\",\"y\":[73.41],\"yaxis\":\"y\",\"type\":\"scatter\"},{\"hovertemplate\":\"Category=Digital,Metaverse,Art,Collectibles,3D,Video,PFP<br>Floor_Price_USD=%{x}<br>Average_Price_USD=%{y}<extra></extra>\",\"legendgroup\":\"Digital,Metaverse,Art,Collectibles,3D,Video,PFP\",\"marker\":{\"color\":\"#00cc96\",\"symbol\":\"circle\"},\"mode\":\"markers\",\"name\":\"Digital,Metaverse,Art,Collectibles,3D,Video,PFP\",\"orientation\":\"v\",\"showlegend\":true,\"x\":[73.41],\"xaxis\":\"x\",\"y\":[220.23],\"yaxis\":\"y\",\"type\":\"scatter\"},{\"hovertemplate\":\"Category=Digital,Metaverse,Art,Collectibles,PFP,2D,Drawing,Picture,Image<br>Floor_Price_USD=%{x}<br>Average_Price_USD=%{y}<extra></extra>\",\"legendgroup\":\"Digital,Metaverse,Art,Collectibles,PFP,2D,Drawing,Picture,Image\",\"marker\":{\"color\":\"#ab63fa\",\"symbol\":\"circle\"},\"mode\":\"markers\",\"name\":\"Digital,Metaverse,Art,Collectibles,PFP,2D,Drawing,Picture,Image\",\"orientation\":\"v\",\"showlegend\":true,\"x\":[248.1258],\"xaxis\":\"x\",\"y\":[271.24995],\"yaxis\":\"y\",\"type\":\"scatter\"},{\"hovertemplate\":\"Category=Metaverse,Collectibles,2D<br>Floor_Price_USD=%{x}<br>Average_Price_USD=%{y}<extra></extra>\",\"legendgroup\":\"Metaverse,Collectibles,2D\",\"marker\":{\"color\":\"#FFA15A\",\"symbol\":\"circle\"},\"mode\":\"markers\",\"name\":\"Metaverse,Collectibles,2D\",\"orientation\":\"v\",\"showlegend\":true,\"x\":[29.364,146.82],\"xaxis\":\"x\",\"y\":[63.73715294,220.23],\"yaxis\":\"y\",\"type\":\"scatter\"},{\"hovertemplate\":\"Category=Collectibles,Metaverse,3D,Design<br>Floor_Price_USD=%{x}<br>Average_Price_USD=%{y}<extra></extra>\",\"legendgroup\":\"Collectibles,Metaverse,3D,Design\",\"marker\":{\"color\":\"#19d3f3\",\"symbol\":\"circle\"},\"mode\":\"markers\",\"name\":\"Collectibles,Metaverse,3D,Design\",\"orientation\":\"v\",\"showlegend\":true,\"x\":[102.774],\"xaxis\":\"x\",\"y\":[117.456],\"yaxis\":\"y\",\"type\":\"scatter\"},{\"hovertemplate\":\"Category=Digital,Privilege,Art,Collectibles,PFP,Drawing,Street Art<br>Floor_Price_USD=%{x}<br>Average_Price_USD=%{y}<extra></extra>\",\"legendgroup\":\"Digital,Privilege,Art,Collectibles,PFP,Drawing,Street Art\",\"marker\":{\"color\":\"#FF6692\",\"symbol\":\"circle\"},\"mode\":\"markers\",\"name\":\"Digital,Privilege,Art,Collectibles,PFP,Drawing,Street Art\",\"orientation\":\"v\",\"showlegend\":true,\"x\":[146.82],\"xaxis\":\"x\",\"y\":[146.82],\"yaxis\":\"y\",\"type\":\"scatter\"},{\"hovertemplate\":\"Category=Collectibles,Art,AI<br>Floor_Price_USD=%{x}<br>Average_Price_USD=%{y}<extra></extra>\",\"legendgroup\":\"Collectibles,Art,AI\",\"marker\":{\"color\":\"#B6E880\",\"symbol\":\"circle\"},\"mode\":\"markers\",\"name\":\"Collectibles,Art,AI\",\"orientation\":\"v\",\"showlegend\":true,\"x\":[146.82],\"xaxis\":\"x\",\"y\":[146.82],\"yaxis\":\"y\",\"type\":\"scatter\"},{\"hovertemplate\":\"Category=Art,Graphics,2D,Design,Image,Picture,Drawing,PFP<br>Floor_Price_USD=%{x}<br>Average_Price_USD=%{y}<extra></extra>\",\"legendgroup\":\"Art,Graphics,2D,Design,Image,Picture,Drawing,PFP\",\"marker\":{\"color\":\"#FF97FF\",\"symbol\":\"circle\"},\"mode\":\"markers\",\"name\":\"Art,Graphics,2D,Design,Image,Picture,Drawing,PFP\",\"orientation\":\"v\",\"showlegend\":true,\"x\":[36.705],\"xaxis\":\"x\",\"y\":[33.0345],\"yaxis\":\"y\",\"type\":\"scatter\"},{\"hovertemplate\":\"Category=Digital,Art,2D,Metaverse,Collectibles,P2E<br>Floor_Price_USD=%{x}<br>Average_Price_USD=%{y}<extra></extra>\",\"legendgroup\":\"Digital,Art,2D,Metaverse,Collectibles,P2E\",\"marker\":{\"color\":\"#FECB52\",\"symbol\":\"circle\"},\"mode\":\"markers\",\"name\":\"Digital,Art,2D,Metaverse,Collectibles,P2E\",\"orientation\":\"v\",\"showlegend\":true,\"x\":[8.8092],\"xaxis\":\"x\",\"y\":[20.01546122],\"yaxis\":\"y\",\"type\":\"scatter\"},{\"hovertemplate\":\"Category=Art,Collectibles,Drawing<br>Floor_Price_USD=%{x}<br>Average_Price_USD=%{y}<extra></extra>\",\"legendgroup\":\"Art,Collectibles,Drawing\",\"marker\":{\"color\":\"#636efa\",\"symbol\":\"circle\"},\"mode\":\"markers\",\"name\":\"Art,Collectibles,Drawing\",\"orientation\":\"v\",\"showlegend\":true,\"x\":[2936.4],\"xaxis\":\"x\",\"y\":[320.0676],\"yaxis\":\"y\",\"type\":\"scatter\"},{\"hovertemplate\":\"Category=Digital,Collectibles,Pixel Art<br>Floor_Price_USD=%{x}<br>Average_Price_USD=%{y}<extra></extra>\",\"legendgroup\":\"Digital,Collectibles,Pixel Art\",\"marker\":{\"color\":\"#EF553B\",\"symbol\":\"circle\"},\"mode\":\"markers\",\"name\":\"Digital,Collectibles,Pixel Art\",\"orientation\":\"v\",\"showlegend\":true,\"x\":[14.682],\"xaxis\":\"x\",\"y\":[15.34505806],\"yaxis\":\"y\",\"type\":\"scatter\"},{\"hovertemplate\":\"Category=2D,Collectibles,Digital,Pixel Art<br>Floor_Price_USD=%{x}<br>Average_Price_USD=%{y}<extra></extra>\",\"legendgroup\":\"2D,Collectibles,Digital,Pixel Art\",\"marker\":{\"color\":\"#00cc96\",\"symbol\":\"circle\"},\"mode\":\"markers\",\"name\":\"2D,Collectibles,Digital,Pixel Art\",\"orientation\":\"v\",\"showlegend\":true,\"x\":[13.2138],\"xaxis\":\"x\",\"y\":[13.25515775],\"yaxis\":\"y\",\"type\":\"scatter\"},{\"hovertemplate\":\"Category=Collectibles,Digital,Metaverse<br>Floor_Price_USD=%{x}<br>Average_Price_USD=%{y}<extra></extra>\",\"legendgroup\":\"Collectibles,Digital,Metaverse\",\"marker\":{\"color\":\"#ab63fa\",\"symbol\":\"circle\"},\"mode\":\"markers\",\"name\":\"Collectibles,Digital,Metaverse\",\"orientation\":\"v\",\"showlegend\":true,\"x\":[58.728],\"xaxis\":\"x\",\"y\":[40.34358261],\"yaxis\":\"y\",\"type\":\"scatter\"},{\"hovertemplate\":\"Category=Digital,Art,Collectibles,Image<br>Floor_Price_USD=%{x}<br>Average_Price_USD=%{y}<extra></extra>\",\"legendgroup\":\"Digital,Art,Collectibles,Image\",\"marker\":{\"color\":\"#FFA15A\",\"symbol\":\"circle\"},\"mode\":\"markers\",\"name\":\"Digital,Art,Collectibles,Image\",\"orientation\":\"v\",\"showlegend\":true,\"x\":[70.4736],\"xaxis\":\"x\",\"y\":[115.804275],\"yaxis\":\"y\",\"type\":\"scatter\"},{\"hovertemplate\":\"Category=Digital,Art,Collectibles,Graphics,Picture,Design,2D,Drawing,PFP,Image<br>Floor_Price_USD=%{x}<br>Average_Price_USD=%{y}<extra></extra>\",\"legendgroup\":\"Digital,Art,Collectibles,Graphics,Picture,Design,2D,Drawing,PFP,Image\",\"marker\":{\"color\":\"#19d3f3\",\"symbol\":\"circle\"},\"mode\":\"markers\",\"name\":\"Digital,Art,Collectibles,Graphics,Picture,Design,2D,Drawing,PFP,Image\",\"orientation\":\"v\",\"showlegend\":true,\"x\":[44.046],\"xaxis\":\"x\",\"y\":[77.0805],\"yaxis\":\"y\",\"type\":\"scatter\"},{\"hovertemplate\":\"Category=Digital,Art,Picture,Image,Collectibles,Metaverse<br>Floor_Price_USD=%{x}<br>Average_Price_USD=%{y}<extra></extra>\",\"legendgroup\":\"Digital,Art,Picture,Image,Collectibles,Metaverse\",\"marker\":{\"color\":\"#FF6692\",\"symbol\":\"circle\"},\"mode\":\"markers\",\"name\":\"Digital,Art,Picture,Image,Collectibles,Metaverse\",\"orientation\":\"v\",\"showlegend\":true,\"x\":[51.387],\"xaxis\":\"x\",\"y\":[57.3515625],\"yaxis\":\"y\",\"type\":\"scatter\"},{\"hovertemplate\":\"Category=Digital,3D,Collectibles,PFP,Music Theme<br>Floor_Price_USD=%{x}<br>Average_Price_USD=%{y}<extra></extra>\",\"legendgroup\":\"Digital,3D,Collectibles,PFP,Music Theme\",\"marker\":{\"color\":\"#B6E880\",\"symbol\":\"circle\"},\"mode\":\"markers\",\"name\":\"Digital,3D,Collectibles,PFP,Music Theme\",\"orientation\":\"v\",\"showlegend\":true,\"x\":[11.7456],\"xaxis\":\"x\",\"y\":[26.55714706],\"yaxis\":\"y\",\"type\":\"scatter\"},{\"hovertemplate\":\"Category=Digital,Collectibles,Metaverse<br>Floor_Price_USD=%{x}<br>Average_Price_USD=%{y}<extra></extra>\",\"legendgroup\":\"Digital,Collectibles,Metaverse\",\"marker\":{\"color\":\"#FF97FF\",\"symbol\":\"circle\"},\"mode\":\"markers\",\"name\":\"Digital,Collectibles,Metaverse\",\"orientation\":\"v\",\"showlegend\":true,\"x\":[27.8958],\"xaxis\":\"x\",\"y\":[45.00033],\"yaxis\":\"y\",\"type\":\"scatter\"},{\"hovertemplate\":\"Category=Digital,Metaverse,Privilege,Collectibles,Art<br>Floor_Price_USD=%{x}<br>Average_Price_USD=%{y}<extra></extra>\",\"legendgroup\":\"Digital,Metaverse,Privilege,Collectibles,Art\",\"marker\":{\"color\":\"#FECB52\",\"symbol\":\"circle\"},\"mode\":\"markers\",\"name\":\"Digital,Metaverse,Privilege,Collectibles,Art\",\"orientation\":\"v\",\"showlegend\":true,\"x\":[8.8092],\"xaxis\":\"x\",\"y\":[13.25762687],\"yaxis\":\"y\",\"type\":\"scatter\"},{\"hovertemplate\":\"Category=2D,Art,Collectibles,PFP<br>Floor_Price_USD=%{x}<br>Average_Price_USD=%{y}<extra></extra>\",\"legendgroup\":\"2D,Art,Collectibles,PFP\",\"marker\":{\"color\":\"#636efa\",\"symbol\":\"circle\"},\"mode\":\"markers\",\"name\":\"2D,Art,Collectibles,PFP\",\"orientation\":\"v\",\"showlegend\":true,\"x\":[14.682],\"xaxis\":\"x\",\"y\":[17.05370769],\"yaxis\":\"y\",\"type\":\"scatter\"},{\"hovertemplate\":\"Category=Art,Metaverse,Collectibles,Digital,PFP<br>Floor_Price_USD=%{x}<br>Average_Price_USD=%{y}<extra></extra>\",\"legendgroup\":\"Art,Metaverse,Collectibles,Digital,PFP\",\"marker\":{\"color\":\"#EF553B\",\"symbol\":\"circle\"},\"mode\":\"markers\",\"name\":\"Art,Metaverse,Collectibles,Digital,PFP\",\"orientation\":\"v\",\"showlegend\":true,\"x\":[73.41],\"xaxis\":\"x\",\"y\":[73.41],\"yaxis\":\"y\",\"type\":\"scatter\"},{\"hovertemplate\":\"Category=Art,Design,2D,Collectibles<br>Floor_Price_USD=%{x}<br>Average_Price_USD=%{y}<extra></extra>\",\"legendgroup\":\"Art,Design,2D,Collectibles\",\"marker\":{\"color\":\"#00cc96\",\"symbol\":\"circle\"},\"mode\":\"markers\",\"name\":\"Art,Design,2D,Collectibles\",\"orientation\":\"v\",\"showlegend\":true,\"x\":[26.4276],\"xaxis\":\"x\",\"y\":[67.65013846],\"yaxis\":\"y\",\"type\":\"scatter\"},{\"hovertemplate\":\"Category=2D,Digital,Metaverse,Design<br>Floor_Price_USD=%{x}<br>Average_Price_USD=%{y}<extra></extra>\",\"legendgroup\":\"2D,Digital,Metaverse,Design\",\"marker\":{\"color\":\"#ab63fa\",\"symbol\":\"circle\"},\"mode\":\"markers\",\"name\":\"2D,Digital,Metaverse,Design\",\"orientation\":\"v\",\"showlegend\":true,\"x\":[5.8728],\"xaxis\":\"x\",\"y\":[18.3219125],\"yaxis\":\"y\",\"type\":\"scatter\"},{\"hovertemplate\":\"Category=Art,Digital,Collectibles,Graphics,2D,Street Art,Image,Picture<br>Floor_Price_USD=%{x}<br>Average_Price_USD=%{y}<extra></extra>\",\"legendgroup\":\"Art,Digital,Collectibles,Graphics,2D,Street Art,Image,Picture\",\"marker\":{\"color\":\"#FFA15A\",\"symbol\":\"circle\"},\"mode\":\"markers\",\"name\":\"Art,Digital,Collectibles,Graphics,2D,Street Art,Image,Picture\",\"orientation\":\"v\",\"showlegend\":true,\"x\":[146.82],\"xaxis\":\"x\",\"y\":[64.6008],\"yaxis\":\"y\",\"type\":\"scatter\"},{\"hovertemplate\":\"Category=Art,2D,Collectibles,Image<br>Floor_Price_USD=%{x}<br>Average_Price_USD=%{y}<extra></extra>\",\"legendgroup\":\"Art,2D,Collectibles,Image\",\"marker\":{\"color\":\"#19d3f3\",\"symbol\":\"circle\"},\"mode\":\"markers\",\"name\":\"Art,2D,Collectibles,Image\",\"orientation\":\"v\",\"showlegend\":true,\"x\":[146.82],\"xaxis\":\"x\",\"y\":[52.304625],\"yaxis\":\"y\",\"type\":\"scatter\"},{\"hovertemplate\":\"Category=Street Art,Metaverse,Art,Collectibles,Privilege,Digital<br>Floor_Price_USD=%{x}<br>Average_Price_USD=%{y}<extra></extra>\",\"legendgroup\":\"Street Art,Metaverse,Art,Collectibles,Privilege,Digital\",\"marker\":{\"color\":\"#FF6692\",\"symbol\":\"circle\"},\"mode\":\"markers\",\"name\":\"Street Art,Metaverse,Art,Collectibles,Privilege,Digital\",\"orientation\":\"v\",\"showlegend\":true,\"x\":[41.1096],\"xaxis\":\"x\",\"y\":[41.1096],\"yaxis\":\"y\",\"type\":\"scatter\"},{\"hovertemplate\":\"Category=Digital,Art,Collectibles,Graphics,2D,Design,Image<br>Floor_Price_USD=%{x}<br>Average_Price_USD=%{y}<extra></extra>\",\"legendgroup\":\"Digital,Art,Collectibles,Graphics,2D,Design,Image\",\"marker\":{\"color\":\"#B6E880\",\"symbol\":\"circle\"},\"mode\":\"markers\",\"name\":\"Digital,Art,Collectibles,Graphics,2D,Design,Image\",\"orientation\":\"v\",\"showlegend\":true,\"x\":[13.2138],\"xaxis\":\"x\",\"y\":[14.21835789],\"yaxis\":\"y\",\"type\":\"scatter\"},{\"hovertemplate\":\"Category=Art,Collectibles,2D,3D,Painting,Street Art,Drawing,Design,Image,Picture<br>Floor_Price_USD=%{x}<br>Average_Price_USD=%{y}<extra></extra>\",\"legendgroup\":\"Art,Collectibles,2D,3D,Painting,Street Art,Drawing,Design,Image,Picture\",\"marker\":{\"color\":\"#FF97FF\",\"symbol\":\"circle\"},\"mode\":\"markers\",\"name\":\"Art,Collectibles,2D,3D,Painting,Street Art,Drawing,Design,Image,Picture\",\"orientation\":\"v\",\"showlegend\":true,\"x\":[146.82],\"xaxis\":\"x\",\"y\":[201.8775],\"yaxis\":\"y\",\"type\":\"scatter\"},{\"hovertemplate\":\"Category=Digital,Collectibles,3D,2D,Street Art,Drawing,Art,Metaverse,Image<br>Floor_Price_USD=%{x}<br>Average_Price_USD=%{y}<extra></extra>\",\"legendgroup\":\"Digital,Collectibles,3D,2D,Street Art,Drawing,Art,Metaverse,Image\",\"marker\":{\"color\":\"#FECB52\",\"symbol\":\"circle\"},\"mode\":\"markers\",\"name\":\"Digital,Collectibles,3D,2D,Street Art,Drawing,Art,Metaverse,Image\",\"orientation\":\"v\",\"showlegend\":true,\"x\":[220.23],\"xaxis\":\"x\",\"y\":[269.17],\"yaxis\":\"y\",\"type\":\"scatter\"},{\"hovertemplate\":\"Category=Digital,Metaverse,PFP,Collectibles,Art<br>Floor_Price_USD=%{x}<br>Average_Price_USD=%{y}<extra></extra>\",\"legendgroup\":\"Digital,Metaverse,PFP,Collectibles,Art\",\"marker\":{\"color\":\"#636efa\",\"symbol\":\"circle\"},\"mode\":\"markers\",\"name\":\"Digital,Metaverse,PFP,Collectibles,Art\",\"orientation\":\"v\",\"showlegend\":true,\"x\":[14.682],\"xaxis\":\"x\",\"y\":[61.43852308],\"yaxis\":\"y\",\"type\":\"scatter\"},{\"hovertemplate\":\"Category=Art,Collectibles,Digital,Metaverse,Image<br>Floor_Price_USD=%{x}<br>Average_Price_USD=%{y}<extra></extra>\",\"legendgroup\":\"Art,Collectibles,Digital,Metaverse,Image\",\"marker\":{\"color\":\"#EF553B\",\"symbol\":\"circle\"},\"mode\":\"markers\",\"name\":\"Art,Collectibles,Digital,Metaverse,Image\",\"orientation\":\"v\",\"showlegend\":true,\"x\":[14.682],\"xaxis\":\"x\",\"y\":[99.654075],\"yaxis\":\"y\",\"type\":\"scatter\"},{\"hovertemplate\":\"Category=Collectibles,Digital,Art<br>Floor_Price_USD=%{x}<br>Average_Price_USD=%{y}<extra></extra>\",\"legendgroup\":\"Collectibles,Digital,Art\",\"marker\":{\"color\":\"#00cc96\",\"symbol\":\"circle\"},\"mode\":\"markers\",\"name\":\"Collectibles,Digital,Art\",\"orientation\":\"v\",\"showlegend\":true,\"x\":[146.82],\"xaxis\":\"x\",\"y\":[129.691],\"yaxis\":\"y\",\"type\":\"scatter\"},{\"hovertemplate\":\"Category=Art,Painting,Digital,Metaverse,Graphics,Drawing<br>Floor_Price_USD=%{x}<br>Average_Price_USD=%{y}<extra></extra>\",\"legendgroup\":\"Art,Painting,Digital,Metaverse,Graphics,Drawing\",\"marker\":{\"color\":\"#ab63fa\",\"symbol\":\"circle\"},\"mode\":\"markers\",\"name\":\"Art,Painting,Digital,Metaverse,Graphics,Drawing\",\"orientation\":\"v\",\"showlegend\":true,\"x\":[29.364],\"xaxis\":\"x\",\"y\":[70.34012727],\"yaxis\":\"y\",\"type\":\"scatter\"},{\"hovertemplate\":\"Category=2D,Metaverse,Art,Digital,PFP,Collectibles<br>Floor_Price_USD=%{x}<br>Average_Price_USD=%{y}<extra></extra>\",\"legendgroup\":\"2D,Metaverse,Art,Digital,PFP,Collectibles\",\"marker\":{\"color\":\"#FFA15A\",\"symbol\":\"circle\"},\"mode\":\"markers\",\"name\":\"2D,Metaverse,Art,Digital,PFP,Collectibles\",\"orientation\":\"v\",\"showlegend\":true,\"x\":[44.046],\"xaxis\":\"x\",\"y\":[55.0575],\"yaxis\":\"y\",\"type\":\"scatter\"},{\"hovertemplate\":\"Category=Art,Design,Digital,Image,Graphics<br>Floor_Price_USD=%{x}<br>Average_Price_USD=%{y}<extra></extra>\",\"legendgroup\":\"Art,Design,Digital,Image,Graphics\",\"marker\":{\"color\":\"#19d3f3\",\"symbol\":\"circle\"},\"mode\":\"markers\",\"name\":\"Art,Design,Digital,Image,Graphics\",\"orientation\":\"v\",\"showlegend\":true,\"x\":[29.364],\"xaxis\":\"x\",\"y\":[33.51326087],\"yaxis\":\"y\",\"type\":\"scatter\"},{\"hovertemplate\":\"Category=Art,Collectibles,Artifact,2D,Painting,Picture<br>Floor_Price_USD=%{x}<br>Average_Price_USD=%{y}<extra></extra>\",\"legendgroup\":\"Art,Collectibles,Artifact,2D,Painting,Picture\",\"marker\":{\"color\":\"#FF6692\",\"symbol\":\"circle\"},\"mode\":\"markers\",\"name\":\"Art,Collectibles,Artifact,2D,Painting,Picture\",\"orientation\":\"v\",\"showlegend\":true,\"x\":[36.705],\"xaxis\":\"x\",\"y\":[55.0575],\"yaxis\":\"y\",\"type\":\"scatter\"},{\"hovertemplate\":\"Category=Collectibles,Art,Digital,Graphics,Design,Picture<br>Floor_Price_USD=%{x}<br>Average_Price_USD=%{y}<extra></extra>\",\"legendgroup\":\"Collectibles,Art,Digital,Graphics,Design,Picture\",\"marker\":{\"color\":\"#B6E880\",\"symbol\":\"circle\"},\"mode\":\"markers\",\"name\":\"Collectibles,Art,Digital,Graphics,Design,Picture\",\"orientation\":\"v\",\"showlegend\":true,\"x\":[13.2138],\"xaxis\":\"x\",\"y\":[26.4276],\"yaxis\":\"y\",\"type\":\"scatter\"},{\"hovertemplate\":\"Category=Digital,PFP,Image,Collectibles,2D<br>Floor_Price_USD=%{x}<br>Average_Price_USD=%{y}<extra></extra>\",\"legendgroup\":\"Digital,PFP,Image,Collectibles,2D\",\"marker\":{\"color\":\"#FF97FF\",\"symbol\":\"circle\"},\"mode\":\"markers\",\"name\":\"Digital,PFP,Image,Collectibles,2D\",\"orientation\":\"v\",\"showlegend\":true,\"x\":[10.2774],\"xaxis\":\"x\",\"y\":[14.65376538],\"yaxis\":\"y\",\"type\":\"scatter\"},{\"hovertemplate\":\"Category=Digital,Art,Collectibles,2D<br>Floor_Price_USD=%{x}<br>Average_Price_USD=%{y}<extra></extra>\",\"legendgroup\":\"Digital,Art,Collectibles,2D\",\"marker\":{\"color\":\"#FECB52\",\"symbol\":\"circle\"},\"mode\":\"markers\",\"name\":\"Digital,Art,Collectibles,2D\",\"orientation\":\"v\",\"showlegend\":true,\"x\":[2.9364],\"xaxis\":\"x\",\"y\":[9.238917073],\"yaxis\":\"y\",\"type\":\"scatter\"},{\"hovertemplate\":\"Category=Collectibles,Trading Cards,2D<br>Floor_Price_USD=%{x}<br>Average_Price_USD=%{y}<extra></extra>\",\"legendgroup\":\"Collectibles,Trading Cards,2D\",\"marker\":{\"color\":\"#636efa\",\"symbol\":\"circle\"},\"mode\":\"markers\",\"name\":\"Collectibles,Trading Cards,2D\",\"orientation\":\"v\",\"showlegend\":true,\"x\":[29.364],\"xaxis\":\"x\",\"y\":[149.7564],\"yaxis\":\"y\",\"type\":\"scatter\"},{\"hovertemplate\":\"Category=Digital,Art,Collectibles,2D,Graphics,Drawing<br>Floor_Price_USD=%{x}<br>Average_Price_USD=%{y}<extra></extra>\",\"legendgroup\":\"Digital,Art,Collectibles,2D,Graphics,Drawing\",\"marker\":{\"color\":\"#EF553B\",\"symbol\":\"circle\"},\"mode\":\"markers\",\"name\":\"Digital,Art,Collectibles,2D,Graphics,Drawing\",\"orientation\":\"v\",\"showlegend\":true,\"x\":[26.4276],\"xaxis\":\"x\",\"y\":[56.92098462],\"yaxis\":\"y\",\"type\":\"scatter\"},{\"hovertemplate\":\"Category=Digital,Graphics,Image,Drawing,PFP<br>Floor_Price_USD=%{x}<br>Average_Price_USD=%{y}<extra></extra>\",\"legendgroup\":\"Digital,Graphics,Image,Drawing,PFP\",\"marker\":{\"color\":\"#00cc96\",\"symbol\":\"circle\"},\"mode\":\"markers\",\"name\":\"Digital,Graphics,Image,Drawing,PFP\",\"orientation\":\"v\",\"showlegend\":true,\"x\":[14.682],\"xaxis\":\"x\",\"y\":[36.85182],\"yaxis\":\"y\",\"type\":\"scatter\"},{\"hovertemplate\":\"Category=Digital,Art,2D,Graphics,Painting,Drawing,Design<br>Floor_Price_USD=%{x}<br>Average_Price_USD=%{y}<extra></extra>\",\"legendgroup\":\"Digital,Art,2D,Graphics,Painting,Drawing,Design\",\"marker\":{\"color\":\"#ab63fa\",\"symbol\":\"circle\"},\"mode\":\"markers\",\"name\":\"Digital,Art,2D,Graphics,Painting,Drawing,Design\",\"orientation\":\"v\",\"showlegend\":true,\"x\":[null],\"xaxis\":\"x\",\"y\":[183.525],\"yaxis\":\"y\",\"type\":\"scatter\"},{\"hovertemplate\":\"Category=Digital,Art,Painting,AI,Collectibles<br>Floor_Price_USD=%{x}<br>Average_Price_USD=%{y}<extra></extra>\",\"legendgroup\":\"Digital,Art,Painting,AI,Collectibles\",\"marker\":{\"color\":\"#FFA15A\",\"symbol\":\"circle\"},\"mode\":\"markers\",\"name\":\"Digital,Art,Painting,AI,Collectibles\",\"orientation\":\"v\",\"showlegend\":true,\"x\":[73.41],\"xaxis\":\"x\",\"y\":[91.7625],\"yaxis\":\"y\",\"type\":\"scatter\"},{\"hovertemplate\":\"Category=Art,Digital,Collectibles,Picture,Drawing<br>Floor_Price_USD=%{x}<br>Average_Price_USD=%{y}<extra></extra>\",\"legendgroup\":\"Art,Digital,Collectibles,Picture,Drawing\",\"marker\":{\"color\":\"#19d3f3\",\"symbol\":\"circle\"},\"mode\":\"markers\",\"name\":\"Art,Digital,Collectibles,Picture,Drawing\",\"orientation\":\"v\",\"showlegend\":true,\"x\":[440.46],\"xaxis\":\"x\",\"y\":[734.1],\"yaxis\":\"y\",\"type\":\"scatter\"},{\"hovertemplate\":\"Category=2D,Video,Immaterial,Ticket,Metaverse,Image,Art,Collectibles<br>Floor_Price_USD=%{x}<br>Average_Price_USD=%{y}<extra></extra>\",\"legendgroup\":\"2D,Video,Immaterial,Ticket,Metaverse,Image,Art,Collectibles\",\"marker\":{\"color\":\"#FF6692\",\"symbol\":\"circle\"},\"mode\":\"markers\",\"name\":\"2D,Video,Immaterial,Ticket,Metaverse,Image,Art,Collectibles\",\"orientation\":\"v\",\"showlegend\":true,\"x\":[14.682],\"xaxis\":\"x\",\"y\":[25.95567857],\"yaxis\":\"y\",\"type\":\"scatter\"},{\"hovertemplate\":\"Category=Digital,Metaverse,Art,Collectibles,2D<br>Floor_Price_USD=%{x}<br>Average_Price_USD=%{y}<extra></extra>\",\"legendgroup\":\"Digital,Metaverse,Art,Collectibles,2D\",\"marker\":{\"color\":\"#B6E880\",\"symbol\":\"circle\"},\"mode\":\"markers\",\"name\":\"Digital,Metaverse,Art,Collectibles,2D\",\"orientation\":\"v\",\"showlegend\":true,\"x\":[5.8728],\"xaxis\":\"x\",\"y\":[17.54310769],\"yaxis\":\"y\",\"type\":\"scatter\"},{\"hovertemplate\":\"Category=Art,Metaverse,Digital,2D,Image,Collectibles<br>Floor_Price_USD=%{x}<br>Average_Price_USD=%{y}<extra></extra>\",\"legendgroup\":\"Art,Metaverse,Digital,2D,Image,Collectibles\",\"marker\":{\"color\":\"#FF97FF\",\"symbol\":\"circle\"},\"mode\":\"markers\",\"name\":\"Art,Metaverse,Digital,2D,Image,Collectibles\",\"orientation\":\"v\",\"showlegend\":true,\"x\":[24.9594],\"xaxis\":\"x\",\"y\":[56.15865],\"yaxis\":\"y\",\"type\":\"scatter\"},{\"hovertemplate\":\"Category=Art,Collectibles,Photography<br>Floor_Price_USD=%{x}<br>Average_Price_USD=%{y}<extra></extra>\",\"legendgroup\":\"Art,Collectibles,Photography\",\"marker\":{\"color\":\"#FECB52\",\"symbol\":\"circle\"},\"mode\":\"markers\",\"name\":\"Art,Collectibles,Photography\",\"orientation\":\"v\",\"showlegend\":true,\"x\":[67.5372],\"xaxis\":\"x\",\"y\":[74.22566667],\"yaxis\":\"y\",\"type\":\"scatter\"},{\"hovertemplate\":\"Category=PFP,Collectibles,2D,Art<br>Floor_Price_USD=%{x}<br>Average_Price_USD=%{y}<extra></extra>\",\"legendgroup\":\"PFP,Collectibles,2D,Art\",\"marker\":{\"color\":\"#636efa\",\"symbol\":\"circle\"},\"mode\":\"markers\",\"name\":\"PFP,Collectibles,2D,Art\",\"orientation\":\"v\",\"showlegend\":true,\"x\":[22.023],\"xaxis\":\"x\",\"y\":[22.3773931],\"yaxis\":\"y\",\"type\":\"scatter\"},{\"hovertemplate\":\"Category=Art,Privilege,Metaverse<br>Floor_Price_USD=%{x}<br>Average_Price_USD=%{y}<extra></extra>\",\"legendgroup\":\"Art,Privilege,Metaverse\",\"marker\":{\"color\":\"#EF553B\",\"symbol\":\"circle\"},\"mode\":\"markers\",\"name\":\"Art,Privilege,Metaverse\",\"orientation\":\"v\",\"showlegend\":true,\"x\":[660.69],\"xaxis\":\"x\",\"y\":[64.6008],\"yaxis\":\"y\",\"type\":\"scatter\"},{\"hovertemplate\":\"Category=Ticket<br>Floor_Price_USD=%{x}<br>Average_Price_USD=%{y}<extra></extra>\",\"legendgroup\":\"Ticket\",\"marker\":{\"color\":\"#00cc96\",\"symbol\":\"circle\"},\"mode\":\"markers\",\"name\":\"Ticket\",\"orientation\":\"v\",\"showlegend\":true,\"x\":[14.682],\"xaxis\":\"x\",\"y\":[35.7262],\"yaxis\":\"y\",\"type\":\"scatter\"},{\"hovertemplate\":\"Category=Collectibles,Art,Digital,3D<br>Floor_Price_USD=%{x}<br>Average_Price_USD=%{y}<extra></extra>\",\"legendgroup\":\"Collectibles,Art,Digital,3D\",\"marker\":{\"color\":\"#ab63fa\",\"symbol\":\"circle\"},\"mode\":\"markers\",\"name\":\"Collectibles,Art,Digital,3D\",\"orientation\":\"v\",\"showlegend\":true,\"x\":[22.023],\"xaxis\":\"x\",\"y\":[25.999375],\"yaxis\":\"y\",\"type\":\"scatter\"},{\"hovertemplate\":\"Category=Digital,Art,2D,Collectibles<br>Floor_Price_USD=%{x}<br>Average_Price_USD=%{y}<extra></extra>\",\"legendgroup\":\"Digital,Art,2D,Collectibles\",\"marker\":{\"color\":\"#FFA15A\",\"symbol\":\"circle\"},\"mode\":\"markers\",\"name\":\"Digital,Art,2D,Collectibles\",\"orientation\":\"v\",\"showlegend\":true,\"x\":[19.0866],\"xaxis\":\"x\",\"y\":[39.6414],\"yaxis\":\"y\",\"type\":\"scatter\"},{\"hovertemplate\":\"Category=Digital,Art,Design,Trading Cards,Collectibles,Physical<br>Floor_Price_USD=%{x}<br>Average_Price_USD=%{y}<extra></extra>\",\"legendgroup\":\"Digital,Art,Design,Trading Cards,Collectibles,Physical\",\"marker\":{\"color\":\"#19d3f3\",\"symbol\":\"circle\"},\"mode\":\"markers\",\"name\":\"Digital,Art,Design,Trading Cards,Collectibles,Physical\",\"orientation\":\"v\",\"showlegend\":true,\"x\":[null],\"xaxis\":\"x\",\"y\":[587.28],\"yaxis\":\"y\",\"type\":\"scatter\"},{\"hovertemplate\":\"Category=Collectibles,Digital<br>Floor_Price_USD=%{x}<br>Average_Price_USD=%{y}<extra></extra>\",\"legendgroup\":\"Collectibles,Digital\",\"marker\":{\"color\":\"#FF6692\",\"symbol\":\"circle\"},\"mode\":\"markers\",\"name\":\"Collectibles,Digital\",\"orientation\":\"v\",\"showlegend\":true,\"x\":[24.9594],\"xaxis\":\"x\",\"y\":[44.72363077],\"yaxis\":\"y\",\"type\":\"scatter\"},{\"hovertemplate\":\"Category=Digital,Art,Collectibles,Graphics,2D,Drawing<br>Floor_Price_USD=%{x}<br>Average_Price_USD=%{y}<extra></extra>\",\"legendgroup\":\"Digital,Art,Collectibles,Graphics,2D,Drawing\",\"marker\":{\"color\":\"#B6E880\",\"symbol\":\"circle\"},\"mode\":\"markers\",\"name\":\"Digital,Art,Collectibles,Graphics,2D,Drawing\",\"orientation\":\"v\",\"showlegend\":true,\"x\":[29.364],\"xaxis\":\"x\",\"y\":[36.31348],\"yaxis\":\"y\",\"type\":\"scatter\"},{\"hovertemplate\":\"Category=Digital,Art,Image<br>Floor_Price_USD=%{x}<br>Average_Price_USD=%{y}<extra></extra>\",\"legendgroup\":\"Digital,Art,Image\",\"marker\":{\"color\":\"#FF97FF\",\"symbol\":\"circle\"},\"mode\":\"markers\",\"name\":\"Digital,Art,Image\",\"orientation\":\"v\",\"showlegend\":true,\"x\":[29.364],\"xaxis\":\"x\",\"y\":[35.55141429],\"yaxis\":\"y\",\"type\":\"scatter\"},{\"hovertemplate\":\"Category=Metaverse,P2E,Art<br>Floor_Price_USD=%{x}<br>Average_Price_USD=%{y}<extra></extra>\",\"legendgroup\":\"Metaverse,P2E,Art\",\"marker\":{\"color\":\"#FECB52\",\"symbol\":\"circle\"},\"mode\":\"markers\",\"name\":\"Metaverse,P2E,Art\",\"orientation\":\"v\",\"showlegend\":true,\"x\":[29.364],\"xaxis\":\"x\",\"y\":[37.15675385],\"yaxis\":\"y\",\"type\":\"scatter\"},{\"hovertemplate\":\"Category=Art,Collectibles,2D,PFP<br>Floor_Price_USD=%{x}<br>Average_Price_USD=%{y}<extra></extra>\",\"legendgroup\":\"Art,Collectibles,2D,PFP\",\"marker\":{\"color\":\"#636efa\",\"symbol\":\"circle\"},\"mode\":\"markers\",\"name\":\"Art,Collectibles,2D,PFP\",\"orientation\":\"v\",\"showlegend\":true,\"x\":[11.7456],\"xaxis\":\"x\",\"y\":[17.14647857],\"yaxis\":\"y\",\"type\":\"scatter\"},{\"hovertemplate\":\"Category=Art,Pixel Art,Digital,2D<br>Floor_Price_USD=%{x}<br>Average_Price_USD=%{y}<extra></extra>\",\"legendgroup\":\"Art,Pixel Art,Digital,2D\",\"marker\":{\"color\":\"#EF553B\",\"symbol\":\"circle\"},\"mode\":\"markers\",\"name\":\"Art,Pixel Art,Digital,2D\",\"orientation\":\"v\",\"showlegend\":true,\"x\":[146.82],\"xaxis\":\"x\",\"y\":[31.02796],\"yaxis\":\"y\",\"type\":\"scatter\"},{\"hovertemplate\":\"Category=Digital,Art,PFP,3D<br>Floor_Price_USD=%{x}<br>Average_Price_USD=%{y}<extra></extra>\",\"legendgroup\":\"Digital,Art,PFP,3D\",\"marker\":{\"color\":\"#00cc96\",\"symbol\":\"circle\"},\"mode\":\"markers\",\"name\":\"Digital,Art,PFP,3D\",\"orientation\":\"v\",\"showlegend\":true,\"x\":[66.069],\"xaxis\":\"x\",\"y\":[110.115],\"yaxis\":\"y\",\"type\":\"scatter\"},{\"hovertemplate\":\"Category=Digital,Art,PFP,2D,Drawing,Image,Collectibles,Street Art<br>Floor_Price_USD=%{x}<br>Average_Price_USD=%{y}<extra></extra>\",\"legendgroup\":\"Digital,Art,PFP,2D,Drawing,Image,Collectibles,Street Art\",\"marker\":{\"color\":\"#ab63fa\",\"symbol\":\"circle\"},\"mode\":\"markers\",\"name\":\"Digital,Art,PFP,2D,Drawing,Image,Collectibles,Street Art\",\"orientation\":\"v\",\"showlegend\":true,\"x\":[33.7686],\"xaxis\":\"x\",\"y\":[31.46142857],\"yaxis\":\"y\",\"type\":\"scatter\"},{\"hovertemplate\":\"Category=Digital,Art,Collectibles,PFP<br>Floor_Price_USD=%{x}<br>Average_Price_USD=%{y}<extra></extra>\",\"legendgroup\":\"Digital,Art,Collectibles,PFP\",\"marker\":{\"color\":\"#FFA15A\",\"symbol\":\"circle\"},\"mode\":\"markers\",\"name\":\"Digital,Art,Collectibles,PFP\",\"orientation\":\"v\",\"showlegend\":true,\"x\":[11.7456],\"xaxis\":\"x\",\"y\":[4.640862069],\"yaxis\":\"y\",\"type\":\"scatter\"},{\"hovertemplate\":\"Category=Digital,3D,2D,Graphics,Metaverse<br>Floor_Price_USD=%{x}<br>Average_Price_USD=%{y}<extra></extra>\",\"legendgroup\":\"Digital,3D,2D,Graphics,Metaverse\",\"marker\":{\"color\":\"#19d3f3\",\"symbol\":\"circle\"},\"mode\":\"markers\",\"name\":\"Digital,3D,2D,Graphics,Metaverse\",\"orientation\":\"v\",\"showlegend\":true,\"x\":[29.364],\"xaxis\":\"x\",\"y\":[35.37027273],\"yaxis\":\"y\",\"type\":\"scatter\"},{\"hovertemplate\":\"Category=Art,Collectibles,Painting,Print,Design,Image,Picture,AI,Digital,Graphics,Metaverse<br>Floor_Price_USD=%{x}<br>Average_Price_USD=%{y}<extra></extra>\",\"legendgroup\":\"Art,Collectibles,Painting,Print,Design,Image,Picture,AI,Digital,Graphics,Metaverse\",\"marker\":{\"color\":\"#FF6692\",\"symbol\":\"circle\"},\"mode\":\"markers\",\"name\":\"Art,Collectibles,Painting,Print,Design,Image,Picture,AI,Digital,Graphics,Metaverse\",\"orientation\":\"v\",\"showlegend\":true,\"x\":[73.41],\"xaxis\":\"x\",\"y\":[73.41],\"yaxis\":\"y\",\"type\":\"scatter\"},{\"hovertemplate\":\"Category=Digital,Metaverse,Collectibles,Art,3D<br>Floor_Price_USD=%{x}<br>Average_Price_USD=%{y}<extra></extra>\",\"legendgroup\":\"Digital,Metaverse,Collectibles,Art,3D\",\"marker\":{\"color\":\"#B6E880\",\"symbol\":\"circle\"},\"mode\":\"markers\",\"name\":\"Digital,Metaverse,Collectibles,Art,3D\",\"orientation\":\"v\",\"showlegend\":true,\"x\":[146.82],\"xaxis\":\"x\",\"y\":[146.82],\"yaxis\":\"y\",\"type\":\"scatter\"},{\"hovertemplate\":\"Category=Digital,Physical,Art,Painting<br>Floor_Price_USD=%{x}<br>Average_Price_USD=%{y}<extra></extra>\",\"legendgroup\":\"Digital,Physical,Art,Painting\",\"marker\":{\"color\":\"#FF97FF\",\"symbol\":\"circle\"},\"mode\":\"markers\",\"name\":\"Digital,Physical,Art,Painting\",\"orientation\":\"v\",\"showlegend\":true,\"x\":[73.41],\"xaxis\":\"x\",\"y\":[102.774],\"yaxis\":\"y\",\"type\":\"scatter\"},{\"hovertemplate\":\"Category=Digital,Privilege,3D,Video,Collectibles<br>Floor_Price_USD=%{x}<br>Average_Price_USD=%{y}<extra></extra>\",\"legendgroup\":\"Digital,Privilege,3D,Video,Collectibles\",\"marker\":{\"color\":\"#FECB52\",\"symbol\":\"circle\"},\"mode\":\"markers\",\"name\":\"Digital,Privilege,3D,Video,Collectibles\",\"orientation\":\"v\",\"showlegend\":true,\"x\":[45.5142],\"xaxis\":\"x\",\"y\":[88.092],\"yaxis\":\"y\",\"type\":\"scatter\"},{\"hovertemplate\":\"Category=2D,Art,Digital,Collectibles,Drawing<br>Floor_Price_USD=%{x}<br>Average_Price_USD=%{y}<extra></extra>\",\"legendgroup\":\"2D,Art,Digital,Collectibles,Drawing\",\"marker\":{\"color\":\"#636efa\",\"symbol\":\"circle\"},\"mode\":\"markers\",\"name\":\"2D,Art,Digital,Collectibles,Drawing\",\"orientation\":\"v\",\"showlegend\":true,\"x\":[null],\"xaxis\":\"x\",\"y\":[0.0],\"yaxis\":\"y\",\"type\":\"scatter\"},{\"hovertemplate\":\"Category=Art,PFP,2D<br>Floor_Price_USD=%{x}<br>Average_Price_USD=%{y}<extra></extra>\",\"legendgroup\":\"Art,PFP,2D\",\"marker\":{\"color\":\"#EF553B\",\"symbol\":\"circle\"},\"mode\":\"markers\",\"name\":\"Art,PFP,2D\",\"orientation\":\"v\",\"showlegend\":true,\"x\":[29.364],\"xaxis\":\"x\",\"y\":[0.0],\"yaxis\":\"y\",\"type\":\"scatter\"}],                        {\"template\":{\"data\":{\"bar\":[{\"error_x\":{\"color\":\"#2a3f5f\"},\"error_y\":{\"color\":\"#2a3f5f\"},\"marker\":{\"line\":{\"color\":\"#E5ECF6\",\"width\":0.5},\"pattern\":{\"fillmode\":\"overlay\",\"size\":10,\"solidity\":0.2}},\"type\":\"bar\"}],\"barpolar\":[{\"marker\":{\"line\":{\"color\":\"#E5ECF6\",\"width\":0.5},\"pattern\":{\"fillmode\":\"overlay\",\"size\":10,\"solidity\":0.2}},\"type\":\"barpolar\"}],\"carpet\":[{\"aaxis\":{\"endlinecolor\":\"#2a3f5f\",\"gridcolor\":\"white\",\"linecolor\":\"white\",\"minorgridcolor\":\"white\",\"startlinecolor\":\"#2a3f5f\"},\"baxis\":{\"endlinecolor\":\"#2a3f5f\",\"gridcolor\":\"white\",\"linecolor\":\"white\",\"minorgridcolor\":\"white\",\"startlinecolor\":\"#2a3f5f\"},\"type\":\"carpet\"}],\"choropleth\":[{\"colorbar\":{\"outlinewidth\":0,\"ticks\":\"\"},\"type\":\"choropleth\"}],\"contour\":[{\"colorbar\":{\"outlinewidth\":0,\"ticks\":\"\"},\"colorscale\":[[0.0,\"#0d0887\"],[0.1111111111111111,\"#46039f\"],[0.2222222222222222,\"#7201a8\"],[0.3333333333333333,\"#9c179e\"],[0.4444444444444444,\"#bd3786\"],[0.5555555555555556,\"#d8576b\"],[0.6666666666666666,\"#ed7953\"],[0.7777777777777778,\"#fb9f3a\"],[0.8888888888888888,\"#fdca26\"],[1.0,\"#f0f921\"]],\"type\":\"contour\"}],\"contourcarpet\":[{\"colorbar\":{\"outlinewidth\":0,\"ticks\":\"\"},\"type\":\"contourcarpet\"}],\"heatmap\":[{\"colorbar\":{\"outlinewidth\":0,\"ticks\":\"\"},\"colorscale\":[[0.0,\"#0d0887\"],[0.1111111111111111,\"#46039f\"],[0.2222222222222222,\"#7201a8\"],[0.3333333333333333,\"#9c179e\"],[0.4444444444444444,\"#bd3786\"],[0.5555555555555556,\"#d8576b\"],[0.6666666666666666,\"#ed7953\"],[0.7777777777777778,\"#fb9f3a\"],[0.8888888888888888,\"#fdca26\"],[1.0,\"#f0f921\"]],\"type\":\"heatmap\"}],\"heatmapgl\":[{\"colorbar\":{\"outlinewidth\":0,\"ticks\":\"\"},\"colorscale\":[[0.0,\"#0d0887\"],[0.1111111111111111,\"#46039f\"],[0.2222222222222222,\"#7201a8\"],[0.3333333333333333,\"#9c179e\"],[0.4444444444444444,\"#bd3786\"],[0.5555555555555556,\"#d8576b\"],[0.6666666666666666,\"#ed7953\"],[0.7777777777777778,\"#fb9f3a\"],[0.8888888888888888,\"#fdca26\"],[1.0,\"#f0f921\"]],\"type\":\"heatmapgl\"}],\"histogram\":[{\"marker\":{\"pattern\":{\"fillmode\":\"overlay\",\"size\":10,\"solidity\":0.2}},\"type\":\"histogram\"}],\"histogram2d\":[{\"colorbar\":{\"outlinewidth\":0,\"ticks\":\"\"},\"colorscale\":[[0.0,\"#0d0887\"],[0.1111111111111111,\"#46039f\"],[0.2222222222222222,\"#7201a8\"],[0.3333333333333333,\"#9c179e\"],[0.4444444444444444,\"#bd3786\"],[0.5555555555555556,\"#d8576b\"],[0.6666666666666666,\"#ed7953\"],[0.7777777777777778,\"#fb9f3a\"],[0.8888888888888888,\"#fdca26\"],[1.0,\"#f0f921\"]],\"type\":\"histogram2d\"}],\"histogram2dcontour\":[{\"colorbar\":{\"outlinewidth\":0,\"ticks\":\"\"},\"colorscale\":[[0.0,\"#0d0887\"],[0.1111111111111111,\"#46039f\"],[0.2222222222222222,\"#7201a8\"],[0.3333333333333333,\"#9c179e\"],[0.4444444444444444,\"#bd3786\"],[0.5555555555555556,\"#d8576b\"],[0.6666666666666666,\"#ed7953\"],[0.7777777777777778,\"#fb9f3a\"],[0.8888888888888888,\"#fdca26\"],[1.0,\"#f0f921\"]],\"type\":\"histogram2dcontour\"}],\"mesh3d\":[{\"colorbar\":{\"outlinewidth\":0,\"ticks\":\"\"},\"type\":\"mesh3d\"}],\"parcoords\":[{\"line\":{\"colorbar\":{\"outlinewidth\":0,\"ticks\":\"\"}},\"type\":\"parcoords\"}],\"pie\":[{\"automargin\":true,\"type\":\"pie\"}],\"scatter\":[{\"marker\":{\"colorbar\":{\"outlinewidth\":0,\"ticks\":\"\"}},\"type\":\"scatter\"}],\"scatter3d\":[{\"line\":{\"colorbar\":{\"outlinewidth\":0,\"ticks\":\"\"}},\"marker\":{\"colorbar\":{\"outlinewidth\":0,\"ticks\":\"\"}},\"type\":\"scatter3d\"}],\"scattercarpet\":[{\"marker\":{\"colorbar\":{\"outlinewidth\":0,\"ticks\":\"\"}},\"type\":\"scattercarpet\"}],\"scattergeo\":[{\"marker\":{\"colorbar\":{\"outlinewidth\":0,\"ticks\":\"\"}},\"type\":\"scattergeo\"}],\"scattergl\":[{\"marker\":{\"colorbar\":{\"outlinewidth\":0,\"ticks\":\"\"}},\"type\":\"scattergl\"}],\"scattermapbox\":[{\"marker\":{\"colorbar\":{\"outlinewidth\":0,\"ticks\":\"\"}},\"type\":\"scattermapbox\"}],\"scatterpolar\":[{\"marker\":{\"colorbar\":{\"outlinewidth\":0,\"ticks\":\"\"}},\"type\":\"scatterpolar\"}],\"scatterpolargl\":[{\"marker\":{\"colorbar\":{\"outlinewidth\":0,\"ticks\":\"\"}},\"type\":\"scatterpolargl\"}],\"scatterternary\":[{\"marker\":{\"colorbar\":{\"outlinewidth\":0,\"ticks\":\"\"}},\"type\":\"scatterternary\"}],\"surface\":[{\"colorbar\":{\"outlinewidth\":0,\"ticks\":\"\"},\"colorscale\":[[0.0,\"#0d0887\"],[0.1111111111111111,\"#46039f\"],[0.2222222222222222,\"#7201a8\"],[0.3333333333333333,\"#9c179e\"],[0.4444444444444444,\"#bd3786\"],[0.5555555555555556,\"#d8576b\"],[0.6666666666666666,\"#ed7953\"],[0.7777777777777778,\"#fb9f3a\"],[0.8888888888888888,\"#fdca26\"],[1.0,\"#f0f921\"]],\"type\":\"surface\"}],\"table\":[{\"cells\":{\"fill\":{\"color\":\"#EBF0F8\"},\"line\":{\"color\":\"white\"}},\"header\":{\"fill\":{\"color\":\"#C8D4E3\"},\"line\":{\"color\":\"white\"}},\"type\":\"table\"}]},\"layout\":{\"annotationdefaults\":{\"arrowcolor\":\"#2a3f5f\",\"arrowhead\":0,\"arrowwidth\":1},\"autotypenumbers\":\"strict\",\"coloraxis\":{\"colorbar\":{\"outlinewidth\":0,\"ticks\":\"\"}},\"colorscale\":{\"diverging\":[[0,\"#8e0152\"],[0.1,\"#c51b7d\"],[0.2,\"#de77ae\"],[0.3,\"#f1b6da\"],[0.4,\"#fde0ef\"],[0.5,\"#f7f7f7\"],[0.6,\"#e6f5d0\"],[0.7,\"#b8e186\"],[0.8,\"#7fbc41\"],[0.9,\"#4d9221\"],[1,\"#276419\"]],\"sequential\":[[0.0,\"#0d0887\"],[0.1111111111111111,\"#46039f\"],[0.2222222222222222,\"#7201a8\"],[0.3333333333333333,\"#9c179e\"],[0.4444444444444444,\"#bd3786\"],[0.5555555555555556,\"#d8576b\"],[0.6666666666666666,\"#ed7953\"],[0.7777777777777778,\"#fb9f3a\"],[0.8888888888888888,\"#fdca26\"],[1.0,\"#f0f921\"]],\"sequentialminus\":[[0.0,\"#0d0887\"],[0.1111111111111111,\"#46039f\"],[0.2222222222222222,\"#7201a8\"],[0.3333333333333333,\"#9c179e\"],[0.4444444444444444,\"#bd3786\"],[0.5555555555555556,\"#d8576b\"],[0.6666666666666666,\"#ed7953\"],[0.7777777777777778,\"#fb9f3a\"],[0.8888888888888888,\"#fdca26\"],[1.0,\"#f0f921\"]]},\"colorway\":[\"#636efa\",\"#EF553B\",\"#00cc96\",\"#ab63fa\",\"#FFA15A\",\"#19d3f3\",\"#FF6692\",\"#B6E880\",\"#FF97FF\",\"#FECB52\"],\"font\":{\"color\":\"#2a3f5f\"},\"geo\":{\"bgcolor\":\"white\",\"lakecolor\":\"white\",\"landcolor\":\"#E5ECF6\",\"showlakes\":true,\"showland\":true,\"subunitcolor\":\"white\"},\"hoverlabel\":{\"align\":\"left\"},\"hovermode\":\"closest\",\"mapbox\":{\"style\":\"light\"},\"paper_bgcolor\":\"white\",\"plot_bgcolor\":\"#E5ECF6\",\"polar\":{\"angularaxis\":{\"gridcolor\":\"white\",\"linecolor\":\"white\",\"ticks\":\"\"},\"bgcolor\":\"#E5ECF6\",\"radialaxis\":{\"gridcolor\":\"white\",\"linecolor\":\"white\",\"ticks\":\"\"}},\"scene\":{\"xaxis\":{\"backgroundcolor\":\"#E5ECF6\",\"gridcolor\":\"white\",\"gridwidth\":2,\"linecolor\":\"white\",\"showbackground\":true,\"ticks\":\"\",\"zerolinecolor\":\"white\"},\"yaxis\":{\"backgroundcolor\":\"#E5ECF6\",\"gridcolor\":\"white\",\"gridwidth\":2,\"linecolor\":\"white\",\"showbackground\":true,\"ticks\":\"\",\"zerolinecolor\":\"white\"},\"zaxis\":{\"backgroundcolor\":\"#E5ECF6\",\"gridcolor\":\"white\",\"gridwidth\":2,\"linecolor\":\"white\",\"showbackground\":true,\"ticks\":\"\",\"zerolinecolor\":\"white\"}},\"shapedefaults\":{\"line\":{\"color\":\"#2a3f5f\"}},\"ternary\":{\"aaxis\":{\"gridcolor\":\"white\",\"linecolor\":\"white\",\"ticks\":\"\"},\"baxis\":{\"gridcolor\":\"white\",\"linecolor\":\"white\",\"ticks\":\"\"},\"bgcolor\":\"#E5ECF6\",\"caxis\":{\"gridcolor\":\"white\",\"linecolor\":\"white\",\"ticks\":\"\"}},\"title\":{\"x\":0.05},\"xaxis\":{\"automargin\":true,\"gridcolor\":\"white\",\"linecolor\":\"white\",\"ticks\":\"\",\"title\":{\"standoff\":15},\"zerolinecolor\":\"white\",\"zerolinewidth\":2},\"yaxis\":{\"automargin\":true,\"gridcolor\":\"white\",\"linecolor\":\"white\",\"ticks\":\"\",\"title\":{\"standoff\":15},\"zerolinecolor\":\"white\",\"zerolinewidth\":2}}},\"xaxis\":{\"anchor\":\"y\",\"domain\":[0.0,1.0],\"title\":{\"text\":\"Floor_Price_USD\"}},\"yaxis\":{\"anchor\":\"x\",\"domain\":[0.0,1.0],\"title\":{\"text\":\"Average_Price_USD\"},\"range\":[0,15000]},\"legend\":{\"title\":{\"text\":\"Category\"},\"tracegroupgap\":0},\"margin\":{\"t\":60}},                        {\"responsive\": true}                    ).then(function(){\n",
       "                            \n",
       "var gd = document.getElementById('f5a047b5-25f2-4495-a5b7-b8b958bf66a3');\n",
       "var x = new MutationObserver(function (mutations, observer) {{\n",
       "        var display = window.getComputedStyle(gd).display;\n",
       "        if (!display || display === 'none') {{\n",
       "            console.log([gd, 'removed!']);\n",
       "            Plotly.purge(gd);\n",
       "            observer.disconnect();\n",
       "        }}\n",
       "}});\n",
       "\n",
       "// Listen for the removal of the full notebook cells\n",
       "var notebookContainer = gd.closest('#notebook-container');\n",
       "if (notebookContainer) {{\n",
       "    x.observe(notebookContainer, {childList: true});\n",
       "}}\n",
       "\n",
       "// Listen for the clearing of the current output cell\n",
       "var outputEl = gd.closest('.output');\n",
       "if (outputEl) {{\n",
       "    x.observe(outputEl, {childList: true});\n",
       "}}\n",
       "\n",
       "                        })                };                });            </script>        </div>"
      ]
     },
     "metadata": {},
     "output_type": "display_data"
    }
   ],
   "source": [
    "fig = px.scatter(df_new,\n",
    "           x = 'Floor_Price_USD',\n",
    "           y = 'Average_Price_USD',\n",
    "           color = 'Category')\n",
    "fig.update_layout(yaxis_range = [0,15000])\n",
    "\n",
    "fig"
   ]
  }
 ],
 "metadata": {
  "kernelspec": {
   "display_name": "Python 3",
   "language": "python",
   "name": "python3"
  },
  "language_info": {
   "codemirror_mode": {
    "name": "ipython",
    "version": 3
   },
   "file_extension": ".py",
   "mimetype": "text/x-python",
   "name": "python",
   "nbconvert_exporter": "python",
   "pygments_lexer": "ipython3",
   "version": "3.8.5"
  }
 },
 "nbformat": 4,
 "nbformat_minor": 4
}
